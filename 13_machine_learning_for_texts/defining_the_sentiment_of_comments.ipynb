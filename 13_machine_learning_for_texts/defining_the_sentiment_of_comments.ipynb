{
 "cells": [
  {
   "cell_type": "markdown",
   "metadata": {
    "toc": true
   },
   "source": [
    "<h1>Содержание<span class=\"tocSkip\"></span></h1>\n",
    "<div class=\"toc\"><ul class=\"toc-item\"><li><span><a href=\"#Подготовка\" data-toc-modified-id=\"Подготовка-1\"><span class=\"toc-item-num\">1&nbsp;&nbsp;</span>Подготовка</a></span><ul class=\"toc-item\"><li><span><a href=\"#Загрузка-данных\" data-toc-modified-id=\"Загрузка-данных-1.1\"><span class=\"toc-item-num\">1.1&nbsp;&nbsp;</span>Загрузка данных</a></span></li><li><span><a href=\"#Подготовка-данных\" data-toc-modified-id=\"Подготовка-данных-1.2\"><span class=\"toc-item-num\">1.2&nbsp;&nbsp;</span>Подготовка данных</a></span></li><li><span><a href=\"#Вывод-по-этапу-1\" data-toc-modified-id=\"Вывод-по-этапу-1-1.3\"><span class=\"toc-item-num\">1.3&nbsp;&nbsp;</span>Вывод по этапу 1</a></span></li></ul></li><li><span><a href=\"#Обучение\" data-toc-modified-id=\"Обучение-2\"><span class=\"toc-item-num\">2&nbsp;&nbsp;</span>Обучение</a></span><ul class=\"toc-item\"><li><span><a href=\"#Модель-LogisticRegression\" data-toc-modified-id=\"Модель-LogisticRegression-2.1\"><span class=\"toc-item-num\">2.1&nbsp;&nbsp;</span>Модель LogisticRegression</a></span></li><li><span><a href=\"#Модель-RandomForestClassifier\" data-toc-modified-id=\"Модель-RandomForestClassifier-2.2\"><span class=\"toc-item-num\">2.2&nbsp;&nbsp;</span>Модель RandomForestClassifier</a></span></li><li><span><a href=\"#Модель-DecisionTreeClassifier\" data-toc-modified-id=\"Модель-DecisionTreeClassifier-2.3\"><span class=\"toc-item-num\">2.3&nbsp;&nbsp;</span>Модель DecisionTreeClassifier</a></span></li><li><span><a href=\"#Модель-CatBoostClassifier\" data-toc-modified-id=\"Модель-CatBoostClassifier-2.4\"><span class=\"toc-item-num\">2.4&nbsp;&nbsp;</span>Модель CatBoostClassifier</a></span></li><li><span><a href=\"#Модель-XGBClassifier\" data-toc-modified-id=\"Модель-XGBClassifier-2.5\"><span class=\"toc-item-num\">2.5&nbsp;&nbsp;</span>Модель XGBClassifier</a></span></li><li><span><a href=\"#Вывод-по-этапу-2\" data-toc-modified-id=\"Вывод-по-этапу-2-2.6\"><span class=\"toc-item-num\">2.6&nbsp;&nbsp;</span>Вывод по этапу 2</a></span></li></ul></li><li><span><a href=\"#Выводы\" data-toc-modified-id=\"Выводы-3\"><span class=\"toc-item-num\">3&nbsp;&nbsp;</span>Выводы</a></span><ul class=\"toc-item\"><li><span><a href=\"#Сводная-таблица-с-результатами\" data-toc-modified-id=\"Сводная-таблица-с-результатами-3.1\"><span class=\"toc-item-num\">3.1&nbsp;&nbsp;</span>Сводная таблица с результатами</a></span></li><li><span><a href=\"#Общий-вывод\" data-toc-modified-id=\"Общий-вывод-3.2\"><span class=\"toc-item-num\">3.2&nbsp;&nbsp;</span>Общий вывод</a></span></li></ul></li><li><span><a href=\"#Чек-лист-проверки\" data-toc-modified-id=\"Чек-лист-проверки-4\"><span class=\"toc-item-num\">4&nbsp;&nbsp;</span>Чек-лист проверки</a></span></li></ul></div>"
   ]
  },
  {
   "cell_type": "markdown",
   "metadata": {},
   "source": [
    "# Проект для «Викишоп»"
   ]
  },
  {
   "cell_type": "markdown",
   "metadata": {},
   "source": [
    "# Введение"
   ]
  },
  {
   "cell_type": "markdown",
   "metadata": {},
   "source": [
    "Интернет-магазин «Викишоп» запускает новый сервис. Теперь пользователи могут редактировать и дополнять описания товаров, как в вики-сообществах. То есть клиенты предлагают свои правки и комментируют изменения других. Магазину нужен инструмент, который будет искать токсичные комментарии и отправлять их на модерацию. \n",
    "\n",
    "Обучите модель классифицировать комментарии на позитивные и негативные. В вашем распоряжении набор данных с разметкой о токсичности правок.\n",
    "\n",
    "Постройте модель со значением метрики качества *F1* не меньше 0.75. \n",
    "\n",
    "**Инструкция по выполнению проекта**\n",
    "\n",
    "1. Загрузите и подготовьте данные.\n",
    "2. Обучите разные модели. \n",
    "3. Сделайте выводы.\n",
    "\n",
    "Для выполнения проекта применять *BERT* необязательно, но вы можете попробовать.\n",
    "\n",
    "**Описание данных**\n",
    "\n",
    "Данные находятся в файле `toxic_comments.csv`. Столбец *text* в нём содержит текст комментария, а *toxic* — целевой признак."
   ]
  },
  {
   "cell_type": "markdown",
   "metadata": {},
   "source": [
    "## Подготовка"
   ]
  },
  {
   "cell_type": "code",
   "execution_count": 1,
   "metadata": {},
   "outputs": [
    {
     "name": "stderr",
     "output_type": "stream",
     "text": [
      "[nltk_data] Downloading package stopwords to /home/jovyan/nltk_data...\n",
      "[nltk_data]   Package stopwords is already up-to-date!\n"
     ]
    }
   ],
   "source": [
    "import pandas as pd\n",
    "import numpy as np\n",
    "import matplotlib.pyplot as plt\n",
    "from pymystem3 import Mystem\n",
    "import re\n",
    "from sklearn.model_selection import train_test_split\n",
    "from sklearn.feature_extraction.text import CountVectorizer\n",
    "from nltk.corpus import stopwords\n",
    "import nltk\n",
    "nltk.download('stopwords')\n",
    "from sklearn.feature_extraction.text import TfidfVectorizer\n",
    "import warnings\n",
    "warnings.filterwarnings('ignore')\n",
    "from sklearn.ensemble import RandomForestClassifier\n",
    "from sklearn.linear_model import LogisticRegression\n",
    "from sklearn.tree import DecisionTreeClassifier\n",
    "from catboost import CatBoostClassifier\n",
    "from xgboost import XGBClassifier\n",
    "from sklearn.metrics import f1_score\n",
    "from nltk.stem import WordNetLemmatizer"
   ]
  },
  {
   "cell_type": "markdown",
   "metadata": {},
   "source": [
    "### Загрузка данных"
   ]
  },
  {
   "cell_type": "markdown",
   "metadata": {},
   "source": [
    "Выполним загрузку данных с комментариями пользователей интернет-магазина и выведем первые 10 строк таблицы на экран:"
   ]
  },
  {
   "cell_type": "code",
   "execution_count": 2,
   "metadata": {},
   "outputs": [],
   "source": [
    "data = pd.read_csv('/datasets/toxic_comments.csv')"
   ]
  },
  {
   "cell_type": "code",
   "execution_count": 3,
   "metadata": {},
   "outputs": [
    {
     "data": {
      "text/html": [
       "<div>\n",
       "<style scoped>\n",
       "    .dataframe tbody tr th:only-of-type {\n",
       "        vertical-align: middle;\n",
       "    }\n",
       "\n",
       "    .dataframe tbody tr th {\n",
       "        vertical-align: top;\n",
       "    }\n",
       "\n",
       "    .dataframe thead th {\n",
       "        text-align: right;\n",
       "    }\n",
       "</style>\n",
       "<table border=\"1\" class=\"dataframe\">\n",
       "  <thead>\n",
       "    <tr style=\"text-align: right;\">\n",
       "      <th></th>\n",
       "      <th>text</th>\n",
       "      <th>toxic</th>\n",
       "    </tr>\n",
       "  </thead>\n",
       "  <tbody>\n",
       "    <tr>\n",
       "      <td>0</td>\n",
       "      <td>Explanation\\nWhy the edits made under my usern...</td>\n",
       "      <td>0</td>\n",
       "    </tr>\n",
       "    <tr>\n",
       "      <td>1</td>\n",
       "      <td>D'aww! He matches this background colour I'm s...</td>\n",
       "      <td>0</td>\n",
       "    </tr>\n",
       "    <tr>\n",
       "      <td>2</td>\n",
       "      <td>Hey man, I'm really not trying to edit war. It...</td>\n",
       "      <td>0</td>\n",
       "    </tr>\n",
       "    <tr>\n",
       "      <td>3</td>\n",
       "      <td>\"\\nMore\\nI can't make any real suggestions on ...</td>\n",
       "      <td>0</td>\n",
       "    </tr>\n",
       "    <tr>\n",
       "      <td>4</td>\n",
       "      <td>You, sir, are my hero. Any chance you remember...</td>\n",
       "      <td>0</td>\n",
       "    </tr>\n",
       "    <tr>\n",
       "      <td>5</td>\n",
       "      <td>\"\\n\\nCongratulations from me as well, use the ...</td>\n",
       "      <td>0</td>\n",
       "    </tr>\n",
       "    <tr>\n",
       "      <td>6</td>\n",
       "      <td>COCKSUCKER BEFORE YOU PISS AROUND ON MY WORK</td>\n",
       "      <td>1</td>\n",
       "    </tr>\n",
       "    <tr>\n",
       "      <td>7</td>\n",
       "      <td>Your vandalism to the Matt Shirvington article...</td>\n",
       "      <td>0</td>\n",
       "    </tr>\n",
       "    <tr>\n",
       "      <td>8</td>\n",
       "      <td>Sorry if the word 'nonsense' was offensive to ...</td>\n",
       "      <td>0</td>\n",
       "    </tr>\n",
       "    <tr>\n",
       "      <td>9</td>\n",
       "      <td>alignment on this subject and which are contra...</td>\n",
       "      <td>0</td>\n",
       "    </tr>\n",
       "  </tbody>\n",
       "</table>\n",
       "</div>"
      ],
      "text/plain": [
       "                                                text  toxic\n",
       "0  Explanation\\nWhy the edits made under my usern...      0\n",
       "1  D'aww! He matches this background colour I'm s...      0\n",
       "2  Hey man, I'm really not trying to edit war. It...      0\n",
       "3  \"\\nMore\\nI can't make any real suggestions on ...      0\n",
       "4  You, sir, are my hero. Any chance you remember...      0\n",
       "5  \"\\n\\nCongratulations from me as well, use the ...      0\n",
       "6       COCKSUCKER BEFORE YOU PISS AROUND ON MY WORK      1\n",
       "7  Your vandalism to the Matt Shirvington article...      0\n",
       "8  Sorry if the word 'nonsense' was offensive to ...      0\n",
       "9  alignment on this subject and which are contra...      0"
      ]
     },
     "execution_count": 3,
     "metadata": {},
     "output_type": "execute_result"
    }
   ],
   "source": [
    "data.head(10)"
   ]
  },
  {
   "cell_type": "markdown",
   "metadata": {},
   "source": [
    "Посмотрим основные данные о таблице:"
   ]
  },
  {
   "cell_type": "code",
   "execution_count": 4,
   "metadata": {},
   "outputs": [
    {
     "name": "stdout",
     "output_type": "stream",
     "text": [
      "<class 'pandas.core.frame.DataFrame'>\n",
      "RangeIndex: 159571 entries, 0 to 159570\n",
      "Data columns (total 2 columns):\n",
      "text     159571 non-null object\n",
      "toxic    159571 non-null int64\n",
      "dtypes: int64(1), object(1)\n",
      "memory usage: 2.4+ MB\n"
     ]
    }
   ],
   "source": [
    "data.info()"
   ]
  },
  {
   "cell_type": "markdown",
   "metadata": {},
   "source": [
    "Посмотрим на распределение целевого признака:"
   ]
  },
  {
   "cell_type": "code",
   "execution_count": 5,
   "metadata": {},
   "outputs": [
    {
     "data": {
      "text/plain": [
       "0    143346\n",
       "1     16225\n",
       "Name: toxic, dtype: int64"
      ]
     },
     "execution_count": 5,
     "metadata": {},
     "output_type": "execute_result"
    }
   ],
   "source": [
    "data['toxic'].value_counts()"
   ]
  },
  {
   "cell_type": "code",
   "execution_count": 6,
   "metadata": {},
   "outputs": [
    {
     "data": {
      "text/plain": [
       "0    0.898321\n",
       "1    0.101679\n",
       "Name: toxic, dtype: float64"
      ]
     },
     "execution_count": 6,
     "metadata": {},
     "output_type": "execute_result"
    }
   ],
   "source": [
    "data['toxic'].value_counts(normalize=True)"
   ]
  },
  {
   "cell_type": "markdown",
   "metadata": {},
   "source": [
    "Токсичные комментарии составляют 10% от общего числа комментариев."
   ]
  },
  {
   "cell_type": "code",
   "execution_count": 7,
   "metadata": {},
   "outputs": [
    {
     "data": {
      "text/plain": [
       "Text(0.5, 0, 'Целевой признак')"
      ]
     },
     "execution_count": 7,
     "metadata": {},
     "output_type": "execute_result"
    },
    {
     "data": {
      "image/png": "[encoded data removed]",
      "text/plain": [
       "<Figure size 720x432 with 1 Axes>"
      ]
     },
     "metadata": {
      "needs_background": "light"
     },
     "output_type": "display_data"
    }
   ],
   "source": [
    "plt.figure(figsize = (10,6))\n",
    "data['toxic'].hist()\n",
    "plt.title('Распределение целевого признака', size=15)\n",
    "plt.ylabel('Количество комментариев', size=12)\n",
    "plt.xlabel('Целевой признак', size=12)"
   ]
  },
  {
   "cell_type": "markdown",
   "metadata": {},
   "source": [
    "**Вывод**"
   ]
  },
  {
   "cell_type": "markdown",
   "metadata": {},
   "source": [
    "Датасет data состоит из 2 столбцов (признаков) и 159571 строк (объектов). Пропущенные значения в датасете отсутствуют.\n",
    "\n",
    "Целевой признак \"toxic\", содержащий сведения о заказах такси - категориальный, имеет целочисленный тип данных. Целевой признак равен «1» для положительного текста и «0» для отрицательного.\n",
    "\n",
    "Признак \"text\" содержит текст комментария и имеет тип данных object.\n",
    "\n",
    "Токсичные комментарии составляют 10% от общего числа комментариев.\n",
    "\n",
    "Таким образом, в проекте требуется решить задачу классификации."
   ]
  },
  {
   "cell_type": "markdown",
   "metadata": {},
   "source": [
    "### Подготовка данных"
   ]
  },
  {
   "cell_type": "markdown",
   "metadata": {},
   "source": [
    "Проверим таблицу с данными на наличие дубликатов:"
   ]
  },
  {
   "cell_type": "code",
   "execution_count": 8,
   "metadata": {},
   "outputs": [
    {
     "data": {
      "text/plain": [
       "0"
      ]
     },
     "execution_count": 8,
     "metadata": {},
     "output_type": "execute_result"
    }
   ],
   "source": [
    "data.duplicated().sum()"
   ]
  },
  {
   "cell_type": "markdown",
   "metadata": {},
   "source": [
    "Дубликатов не обнаружено."
   ]
  },
  {
   "cell_type": "markdown",
   "metadata": {},
   "source": [
    "**Лемматизация**"
   ]
  },
  {
   "cell_type": "markdown",
   "metadata": {},
   "source": [
    "Очистим текст от лишних символов с помощью инструмента регулярные выражения:"
   ]
  },
  {
   "cell_type": "code",
   "execution_count": 9,
   "metadata": {},
   "outputs": [],
   "source": [
    "def clear_text(text):\n",
    "    regular_text = re.sub(r'[^a-zA-Z]', ' ', text)\n",
    "    clear_list = regular_text.split()\n",
    "    clear_text = \" \".join(clear_list)\n",
    "    return clear_text.lower().split()\n",
    "\n",
    "data['clear_text'] = data['text'].apply(clear_text)"
   ]
  },
  {
   "cell_type": "markdown",
   "metadata": {},
   "source": [
    "И приведем слова к начальной форме (лемме):"
   ]
  },
  {
   "cell_type": "code",
   "execution_count": 10,
   "metadata": {},
   "outputs": [
    {
     "name": "stdout",
     "output_type": "stream",
     "text": [
      "CPU times: user 59.5 s, sys: 420 ms, total: 60 s\n",
      "Wall time: 1min\n"
     ]
    }
   ],
   "source": [
    "%%time\n",
    "\n",
    "lemmatizer = nltk.WordNetLemmatizer()\n",
    "\n",
    "def lemmatize_text(text):\n",
    "    lemm_text = ' '.join([lemmatizer.lemmatize(word) for word in text])\n",
    "    return lemm_text\n",
    "\n",
    "data['lemm_text'] = data['clear_text'].apply(lemmatize_text)"
   ]
  },
  {
   "cell_type": "markdown",
   "metadata": {},
   "source": [
    "Посмотрим на результаты очистки и лемматизации:"
   ]
  },
  {
   "cell_type": "code",
   "execution_count": 11,
   "metadata": {},
   "outputs": [
    {
     "data": {
      "text/html": [
       "<div>\n",
       "<style scoped>\n",
       "    .dataframe tbody tr th:only-of-type {\n",
       "        vertical-align: middle;\n",
       "    }\n",
       "\n",
       "    .dataframe tbody tr th {\n",
       "        vertical-align: top;\n",
       "    }\n",
       "\n",
       "    .dataframe thead th {\n",
       "        text-align: right;\n",
       "    }\n",
       "</style>\n",
       "<table border=\"1\" class=\"dataframe\">\n",
       "  <thead>\n",
       "    <tr style=\"text-align: right;\">\n",
       "      <th></th>\n",
       "      <th>text</th>\n",
       "      <th>toxic</th>\n",
       "      <th>clear_text</th>\n",
       "      <th>lemm_text</th>\n",
       "    </tr>\n",
       "  </thead>\n",
       "  <tbody>\n",
       "    <tr>\n",
       "      <td>0</td>\n",
       "      <td>Explanation\\nWhy the edits made under my usern...</td>\n",
       "      <td>0</td>\n",
       "      <td>[explanation, why, the, edits, made, under, my...</td>\n",
       "      <td>explanation why the edits made under my userna...</td>\n",
       "    </tr>\n",
       "    <tr>\n",
       "      <td>1</td>\n",
       "      <td>D'aww! He matches this background colour I'm s...</td>\n",
       "      <td>0</td>\n",
       "      <td>[d, aww, he, matches, this, background, colour...</td>\n",
       "      <td>d aww he match this background colour i m seem...</td>\n",
       "    </tr>\n",
       "    <tr>\n",
       "      <td>2</td>\n",
       "      <td>Hey man, I'm really not trying to edit war. It...</td>\n",
       "      <td>0</td>\n",
       "      <td>[hey, man, i, m, really, not, trying, to, edit...</td>\n",
       "      <td>hey man i m really not trying to edit war it s...</td>\n",
       "    </tr>\n",
       "    <tr>\n",
       "      <td>3</td>\n",
       "      <td>\"\\nMore\\nI can't make any real suggestions on ...</td>\n",
       "      <td>0</td>\n",
       "      <td>[more, i, can, t, make, any, real, suggestions...</td>\n",
       "      <td>more i can t make any real suggestion on impro...</td>\n",
       "    </tr>\n",
       "    <tr>\n",
       "      <td>4</td>\n",
       "      <td>You, sir, are my hero. Any chance you remember...</td>\n",
       "      <td>0</td>\n",
       "      <td>[you, sir, are, my, hero, any, chance, you, re...</td>\n",
       "      <td>you sir are my hero any chance you remember wh...</td>\n",
       "    </tr>\n",
       "  </tbody>\n",
       "</table>\n",
       "</div>"
      ],
      "text/plain": [
       "                                                text  toxic  \\\n",
       "0  Explanation\\nWhy the edits made under my usern...      0   \n",
       "1  D'aww! He matches this background colour I'm s...      0   \n",
       "2  Hey man, I'm really not trying to edit war. It...      0   \n",
       "3  \"\\nMore\\nI can't make any real suggestions on ...      0   \n",
       "4  You, sir, are my hero. Any chance you remember...      0   \n",
       "\n",
       "                                          clear_text  \\\n",
       "0  [explanation, why, the, edits, made, under, my...   \n",
       "1  [d, aww, he, matches, this, background, colour...   \n",
       "2  [hey, man, i, m, really, not, trying, to, edit...   \n",
       "3  [more, i, can, t, make, any, real, suggestions...   \n",
       "4  [you, sir, are, my, hero, any, chance, you, re...   \n",
       "\n",
       "                                           lemm_text  \n",
       "0  explanation why the edits made under my userna...  \n",
       "1  d aww he match this background colour i m seem...  \n",
       "2  hey man i m really not trying to edit war it s...  \n",
       "3  more i can t make any real suggestion on impro...  \n",
       "4  you sir are my hero any chance you remember wh...  "
      ]
     },
     "execution_count": 11,
     "metadata": {},
     "output_type": "execute_result"
    }
   ],
   "source": [
    "data.head(5)"
   ]
  },
  {
   "cell_type": "code",
   "execution_count": 12,
   "metadata": {},
   "outputs": [],
   "source": [
    "data = data.drop(['text', 'clear_text'], axis=1)"
   ]
  },
  {
   "cell_type": "markdown",
   "metadata": {},
   "source": [
    "**Разделение на выборки**"
   ]
  },
  {
   "cell_type": "markdown",
   "metadata": {},
   "source": [
    "Разделим датафрейм на обучающую и тестовую выбороки:"
   ]
  },
  {
   "cell_type": "code",
   "execution_count": 13,
   "metadata": {},
   "outputs": [],
   "source": [
    "target = data['toxic']\n",
    "features = data.drop(['toxic'], axis=1)"
   ]
  },
  {
   "cell_type": "code",
   "execution_count": 14,
   "metadata": {},
   "outputs": [],
   "source": [
    "features_train, features_test, target_train, target_test = train_test_split(features, target, test_size=0.25, random_state=123)"
   ]
  },
  {
   "cell_type": "code",
   "execution_count": 15,
   "metadata": {},
   "outputs": [
    {
     "data": {
      "text/plain": [
       "((119678, 1), (39893, 1), (119678,), (39893,))"
      ]
     },
     "execution_count": 15,
     "metadata": {},
     "output_type": "execute_result"
    }
   ],
   "source": [
    "features_train.shape, features_test.shape, target_train.shape, target_test.shape"
   ]
  },
  {
   "cell_type": "markdown",
   "metadata": {},
   "source": [
    "Cоздадим мешок слов и найдем стоп-слова:"
   ]
  },
  {
   "cell_type": "code",
   "execution_count": 16,
   "metadata": {},
   "outputs": [
    {
     "name": "stderr",
     "output_type": "stream",
     "text": [
      "[nltk_data] Downloading package stopwords to /home/jovyan/nltk_data...\n",
      "[nltk_data]   Package stopwords is already up-to-date!\n"
     ]
    }
   ],
   "source": [
    "nltk.download('stopwords')\n",
    "stopwords = set(stopwords.words('english'))"
   ]
  },
  {
   "cell_type": "markdown",
   "metadata": {},
   "source": [
    "Оценим важность слов величиной TF-IDF и создадим корпуса слов:"
   ]
  },
  {
   "cell_type": "code",
   "execution_count": 17,
   "metadata": {},
   "outputs": [],
   "source": [
    "count_tf_idf = TfidfVectorizer(stop_words=stopwords)"
   ]
  },
  {
   "cell_type": "code",
   "execution_count": 18,
   "metadata": {},
   "outputs": [],
   "source": [
    "features_train = count_tf_idf.fit_transform(features_train['lemm_text'].values.astype('U'))\n",
    "features_test = count_tf_idf.transform(features_test['lemm_text'].values.astype('U'))"
   ]
  },
  {
   "cell_type": "code",
   "execution_count": 19,
   "metadata": {},
   "outputs": [
    {
     "data": {
      "text/plain": [
       "((119678, 133475), (39893, 133475))"
      ]
     },
     "execution_count": 19,
     "metadata": {},
     "output_type": "execute_result"
    }
   ],
   "source": [
    "features_train.shape, features_test.shape"
   ]
  },
  {
   "cell_type": "markdown",
   "metadata": {},
   "source": [
    "### Вывод по этапу 1"
   ]
  },
  {
   "cell_type": "markdown",
   "metadata": {},
   "source": [
    "Резюмируем информацию, полученную на первом этапе выполнения проекта:\n",
    "1. Датасет data состоит из 2 столбцов (признаков) и 159571 строк (объектов). Пропущенные значения в датасете отсутствуют. Целевой признак \"toxic\", содержащий сведения о заказах такси - категориальный, имеет целочисленный тип данных. Целевой признак равен «1» для положительного текста и «0» для отрицательного. Признак \"text\" содержит текст комментария и имеет тип данных object. Токсичные комментарии составляют 10% от общего числа комментариев.\n",
    "2. Выполнена очистка и лемматизация текста.\n",
    "3. Создан мешок слов, определены стоп-слова, важность слов оценена величиной TF-IDF.\n",
    "4. Данные разбиты на валидационную и тестовыю выборки."
   ]
  },
  {
   "cell_type": "markdown",
   "metadata": {},
   "source": [
    "## Обучение"
   ]
  },
  {
   "cell_type": "markdown",
   "metadata": {},
   "source": [
    "Обучим следующие модели:\n",
    "<li>LogisticRegression</li>\n",
    "<li>RandomForestClassifier</li>\n",
    "<li>DecisionTreeClassifier</li>\n",
    "<li>CatBoostClassifier</li>\n",
    "<li>XGBClassifier</li>"
   ]
  },
  {
   "cell_type": "markdown",
   "metadata": {},
   "source": [
    "Оценку качества моделей определим метрикой f1_score."
   ]
  },
  {
   "cell_type": "markdown",
   "metadata": {},
   "source": [
    "### Модель LogisticRegression"
   ]
  },
  {
   "cell_type": "code",
   "execution_count": 20,
   "metadata": {},
   "outputs": [
    {
     "name": "stdout",
     "output_type": "stream",
     "text": [
      "C = 0.1 : 0.7031742694975824\n",
      "C = 1 : 0.746584398413398\n",
      "C = 5 : 0.7612146307798481\n",
      "C = 10 : 0.7623947614593077\n",
      "C = 15 : 0.7624100931493928\n",
      "C = 20 : 0.7608103305295582\n",
      "C = 25 : 0.7603286105488749\n",
      "C = 30 : 0.7592460033404915\n",
      "f1_score лучшей модели: 0.762 C: 15\n"
     ]
    }
   ],
   "source": [
    "best_model = None\n",
    "best_result = 0\n",
    "best_C = 0\n",
    "for param_C in [0.1, 1, 5, 10, 15, 20, 25, 30]:\n",
    "    model = LogisticRegression(random_state=12345, class_weight='balanced', C=param_C)\n",
    "    model.fit(features_train, target_train)\n",
    "    predictions = model.predict(features_test)\n",
    "    result  = f1_score(target_test, predictions)\n",
    "    print('C =', param_C,':', result)\n",
    "    if result > best_result:\n",
    "        best_model = model\n",
    "        best_result = result\n",
    "        best_C = param_C\n",
    "        \n",
    "print(\"f1_score лучшей модели: {:.3f}\".format(best_result), \"C:\", best_C)"
   ]
  },
  {
   "cell_type": "markdown",
   "metadata": {},
   "source": [
    "### Модель RandomForestClassifier"
   ]
  },
  {
   "cell_type": "code",
   "execution_count": 21,
   "metadata": {},
   "outputs": [
    {
     "name": "stdout",
     "output_type": "stream",
     "text": [
      "n_estimators = 1 : 0.04821037253469686\n",
      "n_estimators = 1 : 0.05538165181796291\n",
      "n_estimators = 1 : 0.11065006915629322\n",
      "n_estimators = 1 : 0.16269841269841268\n",
      "n_estimators = 1 : 0.18154825026511134\n",
      "n_estimators = 2 : 0.012478163214374845\n",
      "n_estimators = 2 : 0.050970873786407765\n",
      "n_estimators = 2 : 0.19279239442847668\n",
      "n_estimators = 2 : 0.24404513163393232\n",
      "n_estimators = 2 : 0.29357072205736895\n",
      "n_estimators = 3 : 0.03369672943508424\n",
      "n_estimators = 3 : 0.03803408248950359\n",
      "n_estimators = 3 : 0.06993686255463817\n",
      "n_estimators = 3 : 0.10992655768775172\n",
      "n_estimators = 3 : 0.13395348837209303\n",
      "n_estimators = 4 : 0.00353356890459364\n",
      "n_estimators = 4 : 0.012550200803212853\n",
      "n_estimators = 4 : 0.06196633325201267\n",
      "n_estimators = 4 : 0.13221209997664096\n",
      "n_estimators = 4 : 0.15363385464581417\n",
      "n_estimators = 5 : 0.002525890376357666\n",
      "n_estimators = 5 : 0.03274621681964773\n",
      "n_estimators = 5 : 0.0548885077186964\n",
      "n_estimators = 5 : 0.10360467892098352\n",
      "n_estimators = 5 : 0.11775833530385434\n",
      "n_estimators = 6 : 0.004540867810292634\n",
      "n_estimators = 6 : 0.018040591330493613\n",
      "n_estimators = 6 : 0.06635764820687973\n",
      "n_estimators = 6 : 0.12029363012076723\n",
      "n_estimators = 6 : 0.14332399626517275\n",
      "n_estimators = 7 : 0.005548549810844893\n",
      "n_estimators = 7 : 0.01804511278195489\n",
      "n_estimators = 7 : 0.04207920792079208\n",
      "n_estimators = 7 : 0.07022677395757133\n",
      "n_estimators = 7 : 0.0947798893432764\n",
      "n_estimators = 8 : 0.0020212228398180897\n",
      "n_estimators = 8 : 0.00956456078530078\n",
      "n_estimators = 8 : 0.03673368081409779\n",
      "n_estimators = 8 : 0.06076941925998529\n",
      "n_estimators = 8 : 0.09889582333173308\n",
      "n_estimators = 9 : 0.001516300227445034\n",
      "n_estimators = 9 : 0.005548549810844893\n",
      "n_estimators = 9 : 0.015558343789209535\n",
      "n_estimators = 9 : 0.04352126607319486\n",
      "n_estimators = 9 : 0.07587548638132294\n",
      "n_estimators = 10 : 0.001516300227445034\n",
      "n_estimators = 10 : 0.005548549810844893\n",
      "n_estimators = 10 : 0.02250562640660165\n",
      "n_estimators = 10 : 0.04691358024691359\n",
      "n_estimators = 10 : 0.07682956479455384\n",
      "f1_score лучшей модели: 0.294 Количество деревьев: 2 Максимальная глубина: 50\n"
     ]
    }
   ],
   "source": [
    "best_model = None\n",
    "best_result = 0\n",
    "best_est = 0\n",
    "best_depth = 0\n",
    "for est in range(1, 11):\n",
    "    for depth in range (10, 51, 10):\n",
    "        model = RandomForestClassifier(random_state=12345, n_estimators=est, max_depth=depth)\n",
    "        model.fit(features_train, target_train)\n",
    "        predictions = model.predict(features_test)\n",
    "        result  = f1_score(target_test, predictions)\n",
    "        print('n_estimators =', est,':', result)\n",
    "        if result > best_result:\n",
    "            best_model = model\n",
    "            best_result = result\n",
    "            best_est = est\n",
    "            best_depth = depth\n",
    "\n",
    "print(\"f1_score лучшей модели: {:.3f}\".format(best_result), \"Количество деревьев:\", best_est, \"Максимальная глубина:\", best_depth)"
   ]
  },
  {
   "cell_type": "markdown",
   "metadata": {},
   "source": [
    "### Модель DecisionTreeClassifier"
   ]
  },
  {
   "cell_type": "code",
   "execution_count": 22,
   "metadata": {},
   "outputs": [
    {
     "name": "stdout",
     "output_type": "stream",
     "text": [
      "max_depth = 1 : 0.29551790692687113\n",
      "max_depth = 2 : 0.38189935064935066\n",
      "max_depth = 3 : 0.38164839626471786\n",
      "max_depth = 4 : 0.43802133850630454\n",
      "max_depth = 5 : 0.23760214377874084\n",
      "max_depth = 6 : 0.4853757867456498\n",
      "max_depth = 7 : 0.5213068181818182\n",
      "max_depth = 8 : 0.549618320610687\n",
      "max_depth = 9 : 0.5672304800956774\n",
      "max_depth = 10 : 0.5675813874211691\n",
      "max_depth = 11 : 0.5822021116138764\n",
      "max_depth = 12 : 0.5827686350435625\n",
      "max_depth = 13 : 0.5892974392646093\n",
      "max_depth = 14 : 0.5799466499293896\n",
      "max_depth = 15 : 0.5924185463659147\n",
      "f1_score лучшей модели: 0.592 Глубина дерева: 15\n"
     ]
    }
   ],
   "source": [
    "best_model = None\n",
    "best_result = 0\n",
    "best_depth = 0\n",
    "for depth in range(1, 16):\n",
    "    model = DecisionTreeClassifier(random_state=12345, max_depth=depth, class_weight='balanced')\n",
    "    model.fit(features_train, target_train)\n",
    "    predictions = model.predict(features_test)\n",
    "    result  = f1_score(target_test, predictions)\n",
    "    print('max_depth =', depth,':', result)\n",
    "    if result > best_result:\n",
    "        best_model = model\n",
    "        best_result = result\n",
    "        best_depth = depth\n",
    "        \n",
    "print(\"f1_score лучшей модели: {:.3f}\".format(best_result), \"Глубина дерева:\", best_depth)"
   ]
  },
  {
   "cell_type": "markdown",
   "metadata": {},
   "source": [
    "### Модель CatBoostClassifier"
   ]
  },
  {
   "cell_type": "code",
   "execution_count": 23,
   "metadata": {},
   "outputs": [
    {
     "name": "stdout",
     "output_type": "stream",
     "text": [
      "0:\tlearn: 0.2910817\ttotal: 1.74s\tremaining: 1m 25s\n",
      "10:\tlearn: 0.2018616\ttotal: 17.2s\tremaining: 1m 1s\n",
      "20:\tlearn: 0.1825090\ttotal: 32.2s\tremaining: 44.5s\n",
      "30:\tlearn: 0.1684440\ttotal: 47.5s\tremaining: 29.1s\n",
      "40:\tlearn: 0.1594121\ttotal: 1m 2s\tremaining: 13.8s\n",
      "49:\tlearn: 0.1538833\ttotal: 1m 16s\tremaining: 0us\n",
      "iterations = 50 : 0.7245813397129186\n",
      "0:\tlearn: 0.2742297\ttotal: 2.67s\tremaining: 2m 10s\n",
      "10:\tlearn: 0.1813343\ttotal: 27.6s\tremaining: 1m 38s\n",
      "20:\tlearn: 0.1606691\ttotal: 52.3s\tremaining: 1m 12s\n",
      "30:\tlearn: 0.1484387\ttotal: 1m 17s\tremaining: 47.3s\n",
      "40:\tlearn: 0.1404692\ttotal: 1m 41s\tremaining: 22.3s\n",
      "49:\tlearn: 0.1352547\ttotal: 2m 4s\tremaining: 0us\n",
      "iterations = 50 : 0.7425756917282341\n",
      "0:\tlearn: 0.2910817\ttotal: 1.6s\tremaining: 2m 38s\n",
      "10:\tlearn: 0.2018616\ttotal: 17.1s\tremaining: 2m 18s\n",
      "20:\tlearn: 0.1825090\ttotal: 32.3s\tremaining: 2m 1s\n",
      "30:\tlearn: 0.1684440\ttotal: 48.2s\tremaining: 1m 47s\n",
      "40:\tlearn: 0.1594121\ttotal: 1m 4s\tremaining: 1m 32s\n",
      "50:\tlearn: 0.1534830\ttotal: 1m 19s\tremaining: 1m 16s\n",
      "60:\tlearn: 0.1477262\ttotal: 1m 35s\tremaining: 1m 1s\n",
      "70:\tlearn: 0.1435338\ttotal: 1m 50s\tremaining: 45.3s\n",
      "80:\tlearn: 0.1408638\ttotal: 2m 6s\tremaining: 29.7s\n",
      "90:\tlearn: 0.1374827\ttotal: 2m 22s\tremaining: 14.1s\n",
      "99:\tlearn: 0.1347284\ttotal: 2m 36s\tremaining: 0us\n",
      "iterations = 100 : 0.751084128360798\n",
      "0:\tlearn: 0.2742297\ttotal: 2.53s\tremaining: 4m 10s\n",
      "10:\tlearn: 0.1813343\ttotal: 27.2s\tremaining: 3m 40s\n",
      "20:\tlearn: 0.1606691\ttotal: 52.1s\tremaining: 3m 16s\n",
      "30:\tlearn: 0.1484387\ttotal: 1m 17s\tremaining: 2m 51s\n",
      "40:\tlearn: 0.1404692\ttotal: 1m 42s\tremaining: 2m 26s\n",
      "50:\tlearn: 0.1348462\ttotal: 2m 6s\tremaining: 2m 1s\n",
      "60:\tlearn: 0.1302910\ttotal: 2m 31s\tremaining: 1m 36s\n",
      "70:\tlearn: 0.1265905\ttotal: 2m 56s\tremaining: 1m 12s\n",
      "80:\tlearn: 0.1234983\ttotal: 3m 21s\tremaining: 47.3s\n",
      "90:\tlearn: 0.1206970\ttotal: 3m 46s\tremaining: 22.4s\n",
      "99:\tlearn: 0.1178325\ttotal: 4m 9s\tremaining: 0us\n",
      "iterations = 100 : 0.7612446958981613\n",
      "f1_score лучшей модели: 0.761 Количество деревьев: 100 Максимальная глубина: 4\n"
     ]
    }
   ],
   "source": [
    "best_model = None\n",
    "best_result = 0\n",
    "best_iter = 0\n",
    "best_depth = 0\n",
    "for iter in range(50, 101, 50):\n",
    "    for depth in range (2, 6, 2):\n",
    "        model = CatBoostClassifier(random_state=12345,loss_function='Logloss', learning_rate=0.9, verbose=10, iterations=iter, max_depth=depth)\n",
    "        model.fit(features_train, target_train)\n",
    "        predictions = model.predict(features_test)\n",
    "        result  = f1_score(target_test, predictions)\n",
    "        print('iterations =', iter,':', result)\n",
    "        if result > best_result:\n",
    "            best_model = model\n",
    "            best_result = result\n",
    "            best_iter = iter\n",
    "            best_depth = depth\n",
    "\n",
    "print(\"f1_score лучшей модели: {:.3f}\".format(best_result), \"Количество деревьев:\", best_iter, \"Максимальная глубина:\", best_depth)"
   ]
  },
  {
   "cell_type": "markdown",
   "metadata": {},
   "source": [
    "### Модель XGBClassifier"
   ]
  },
  {
   "cell_type": "code",
   "execution_count": 24,
   "metadata": {},
   "outputs": [
    {
     "name": "stdout",
     "output_type": "stream",
     "text": [
      "n_estimators = 100 : 0.5741694794812577\n",
      "n_estimators = 500 : 0.7187937198818591\n",
      "f1_score лучшей модели: 0.719 Количество деревьев: 500\n"
     ]
    }
   ],
   "source": [
    "best_model = None\n",
    "best_result = 0\n",
    "best_depth = 0\n",
    "for est in range(100, 501, 400):\n",
    "    model = XGBClassifier(random_state=12345, n_jobs=-1, n_estimators=est)\n",
    "    model.fit(features_train, target_train)\n",
    "    predictions = model.predict(features_test)\n",
    "    result  = f1_score(target_test, predictions)\n",
    "    print('n_estimators =', est,':', result)\n",
    "    if result > best_result:\n",
    "        best_model = model\n",
    "        best_result = result\n",
    "        best_est = est\n",
    "        \n",
    "print(\"f1_score лучшей модели: {:.3f}\".format(best_result), \"Количество деревьев:\", best_est)"
   ]
  },
  {
   "cell_type": "markdown",
   "metadata": {},
   "source": [
    "### Вывод по этапу 2"
   ]
  },
  {
   "cell_type": "markdown",
   "metadata": {},
   "source": [
    "На втором этапе обучены следующие модели: `LogisticRegression`, `RandomForestClassifier`, `DecisionTreeClassifier`, `CatBoostClassifier`, `XGBClassifier`.\n",
    "\n",
    "Оценка результатов моделей будет приведена на следующем этапе."
   ]
  },
  {
   "cell_type": "markdown",
   "metadata": {},
   "source": [
    "## Выводы"
   ]
  },
  {
   "cell_type": "markdown",
   "metadata": {},
   "source": [
    "### Сводная таблица с результатами"
   ]
  },
  {
   "cell_type": "code",
   "execution_count": 27,
   "metadata": {},
   "outputs": [],
   "source": [
    "data_model = {'Модель':['LogisticRegression', 'RandomForestClassifier', 'DecisionTreeClassifier', 'CatBoostClassifier', 'XGBClassifier'], \n",
    "            'f1_score': [0.762, 0.294, 0.592, 0.761, 0.719],\n",
    "            'Количество деревьев': ['-', 50, 15, 100, 500],\n",
    "            'Макс. глубина': ['-', 2, '-', 4, '-']}"
   ]
  },
  {
   "cell_type": "code",
   "execution_count": 28,
   "metadata": {},
   "outputs": [
    {
     "data": {
      "text/html": [
       "<div>\n",
       "<style scoped>\n",
       "    .dataframe tbody tr th:only-of-type {\n",
       "        vertical-align: middle;\n",
       "    }\n",
       "\n",
       "    .dataframe tbody tr th {\n",
       "        vertical-align: top;\n",
       "    }\n",
       "\n",
       "    .dataframe thead th {\n",
       "        text-align: right;\n",
       "    }\n",
       "</style>\n",
       "<table border=\"1\" class=\"dataframe\">\n",
       "  <thead>\n",
       "    <tr style=\"text-align: right;\">\n",
       "      <th></th>\n",
       "      <th>Модель</th>\n",
       "      <th>f1_score</th>\n",
       "      <th>Количество деревьев</th>\n",
       "      <th>Макс. глубина</th>\n",
       "    </tr>\n",
       "  </thead>\n",
       "  <tbody>\n",
       "    <tr>\n",
       "      <td>0</td>\n",
       "      <td>LogisticRegression</td>\n",
       "      <td>0.762</td>\n",
       "      <td>-</td>\n",
       "      <td>-</td>\n",
       "    </tr>\n",
       "    <tr>\n",
       "      <td>1</td>\n",
       "      <td>RandomForestClassifier</td>\n",
       "      <td>0.294</td>\n",
       "      <td>50</td>\n",
       "      <td>2</td>\n",
       "    </tr>\n",
       "    <tr>\n",
       "      <td>2</td>\n",
       "      <td>DecisionTreeClassifier</td>\n",
       "      <td>0.592</td>\n",
       "      <td>15</td>\n",
       "      <td>-</td>\n",
       "    </tr>\n",
       "    <tr>\n",
       "      <td>3</td>\n",
       "      <td>CatBoostClassifier</td>\n",
       "      <td>0.761</td>\n",
       "      <td>100</td>\n",
       "      <td>4</td>\n",
       "    </tr>\n",
       "    <tr>\n",
       "      <td>4</td>\n",
       "      <td>XGBClassifier</td>\n",
       "      <td>0.719</td>\n",
       "      <td>500</td>\n",
       "      <td>-</td>\n",
       "    </tr>\n",
       "  </tbody>\n",
       "</table>\n",
       "</div>"
      ],
      "text/plain": [
       "                   Модель  f1_score Количество деревьев Макс. глубина\n",
       "0      LogisticRegression     0.762                   -             -\n",
       "1  RandomForestClassifier     0.294                  50             2\n",
       "2  DecisionTreeClassifier     0.592                  15             -\n",
       "3      CatBoostClassifier     0.761                 100             4\n",
       "4           XGBClassifier     0.719                 500             -"
      ]
     },
     "execution_count": 28,
     "metadata": {},
     "output_type": "execute_result"
    }
   ],
   "source": [
    "results_tabel = pd.DataFrame(data_model)\n",
    "results_tabel"
   ]
  },
  {
   "cell_type": "markdown",
   "metadata": {},
   "source": [
    "С поставленной задачей - достичь метрику качества F1 не меньше 0.75, справились только две модели: `LogisticRegression` и `CatBoostClassifier`, показав практически одинаковые результаты.\n",
    "\n",
    "Наилучшей результат с метрикой f1_score = 0.762 был предсказан алгоритмом `LogisticRegression`. Тем более, модель `LogisticRegression` и обучается быстрее, чем `CatBoostClassifier`. Модель `CatBoostClassifier` показала результат f1_score = 0.761."
   ]
  },
  {
   "cell_type": "markdown",
   "metadata": {},
   "source": [
    "### Общий вывод"
   ]
  },
  {
   "cell_type": "markdown",
   "metadata": {},
   "source": [
    "В данной проектной работе на основании имеющихся данных интернет-магазина \"Викишоп\" обучены модели классификации комментариев на позитивные и негативные.\n",
    "\n",
    "В процессе работы на начальном этапе была выполнена предобработка данных: выполнена лемматизация текста, создан мешок слов, определены стоп-слова, важность слов оценена величиной TF-IDF, данные разбиты на валидационную и тестовыю выборки.\n",
    "\n",
    "На втором этапе выполнено обучение моделей с подбором гиперпараметров. Для обучения моделей использованы алгоритмы: `LogisticRegression`, `RandomForestClassifier`, `DecisionTreeClassifier`, `CatBoostClassifier`, `XGBClassifier`.\n",
    "\n",
    "Лучшая модель с учетом метрики f1_score = 0.762 и скорости работы - `LogisticRegression`."
   ]
  }
 ],
 "metadata": {
  "ExecuteTimeLog": [
   {
    "duration": 1543,
    "start_time": "2021-08-05T15:07:23.177Z"
   },
   {
    "duration": 2411,
    "start_time": "2021-08-05T15:08:15.229Z"
   },
   {
    "duration": 24,
    "start_time": "2021-08-05T15:08:42.895Z"
   },
   {
    "duration": 35,
    "start_time": "2021-08-05T15:09:25.486Z"
   },
   {
    "duration": 554,
    "start_time": "2021-08-05T15:10:16.783Z"
   },
   {
    "duration": 314,
    "start_time": "2021-08-05T15:10:44.477Z"
   },
   {
    "duration": 14,
    "start_time": "2021-08-05T15:15:21.289Z"
   },
   {
    "duration": 17,
    "start_time": "2021-08-05T15:15:35.529Z"
   },
   {
    "duration": 11,
    "start_time": "2021-08-05T15:16:09.372Z"
   },
   {
    "duration": 11,
    "start_time": "2021-08-05T15:16:10.629Z"
   },
   {
    "duration": 9330,
    "start_time": "2021-08-05T15:17:55.350Z"
   },
   {
    "duration": 607,
    "start_time": "2021-08-05T15:18:32.378Z"
   },
   {
    "duration": 488,
    "start_time": "2021-08-05T15:18:42.762Z"
   },
   {
    "duration": 424,
    "start_time": "2021-08-05T15:18:50.020Z"
   },
   {
    "duration": 554,
    "start_time": "2021-08-05T15:19:32.187Z"
   },
   {
    "duration": 9,
    "start_time": "2021-08-05T15:22:58.361Z"
   },
   {
    "duration": 738,
    "start_time": "2021-08-05T15:26:55.157Z"
   },
   {
    "duration": 1553,
    "start_time": "2021-08-05T15:27:29.138Z"
   },
   {
    "duration": 930,
    "start_time": "2021-08-05T15:27:30.694Z"
   },
   {
    "duration": 14,
    "start_time": "2021-08-05T15:27:31.629Z"
   },
   {
    "duration": 54,
    "start_time": "2021-08-05T15:27:31.647Z"
   },
   {
    "duration": 20,
    "start_time": "2021-08-05T15:27:31.704Z"
   },
   {
    "duration": 15,
    "start_time": "2021-08-05T15:27:31.729Z"
   },
   {
    "duration": 495,
    "start_time": "2021-08-05T15:27:31.746Z"
   },
   {
    "duration": 355,
    "start_time": "2021-08-05T15:27:32.245Z"
   },
   {
    "duration": 49,
    "start_time": "2021-08-05T15:27:44.497Z"
   },
   {
    "duration": 4,
    "start_time": "2021-08-05T15:27:57.142Z"
   },
   {
    "duration": 5,
    "start_time": "2021-08-05T15:30:11.572Z"
   },
   {
    "duration": 4,
    "start_time": "2021-08-05T15:30:29.864Z"
   },
   {
    "duration": 5,
    "start_time": "2021-08-05T15:30:50.433Z"
   },
   {
    "duration": 621,
    "start_time": "2021-08-05T15:31:05.630Z"
   },
   {
    "duration": 366,
    "start_time": "2021-08-05T15:32:18.011Z"
   },
   {
    "duration": 293,
    "start_time": "2021-08-05T15:33:41.073Z"
   },
   {
    "duration": 9,
    "start_time": "2021-08-05T15:33:44.997Z"
   },
   {
    "duration": 374,
    "start_time": "2021-08-05T15:34:18.475Z"
   },
   {
    "duration": 1533,
    "start_time": "2021-08-05T15:34:29.638Z"
   },
   {
    "duration": 849,
    "start_time": "2021-08-05T15:34:31.174Z"
   },
   {
    "duration": 16,
    "start_time": "2021-08-05T15:34:32.027Z"
   },
   {
    "duration": 59,
    "start_time": "2021-08-05T15:34:32.045Z"
   },
   {
    "duration": 15,
    "start_time": "2021-08-05T15:34:32.109Z"
   },
   {
    "duration": 19,
    "start_time": "2021-08-05T15:34:32.127Z"
   },
   {
    "duration": 483,
    "start_time": "2021-08-05T15:34:32.149Z"
   },
   {
    "duration": 320,
    "start_time": "2021-08-05T15:34:32.636Z"
   },
   {
    "duration": 47,
    "start_time": "2021-08-05T15:34:32.959Z"
   },
   {
    "duration": 10,
    "start_time": "2021-08-05T15:34:33.010Z"
   },
   {
    "duration": 14,
    "start_time": "2021-08-05T15:34:33.023Z"
   },
   {
    "duration": 9,
    "start_time": "2021-08-05T15:34:33.040Z"
   },
   {
    "duration": 270093,
    "start_time": "2021-08-05T15:34:33.052Z"
   },
   {
    "duration": 1503,
    "start_time": "2021-08-05T15:39:01.645Z"
   },
   {
    "duration": 497,
    "start_time": "2021-08-05T15:41:03.201Z"
   },
   {
    "duration": 464,
    "start_time": "2021-08-05T15:42:48.823Z"
   },
   {
    "duration": 8,
    "start_time": "2021-08-05T15:42:59.869Z"
   },
   {
    "duration": 12,
    "start_time": "2021-08-05T15:43:13.928Z"
   },
   {
    "duration": 9,
    "start_time": "2021-08-05T15:43:24.849Z"
   },
   {
    "duration": 8,
    "start_time": "2021-08-05T15:43:30.087Z"
   },
   {
    "duration": 484,
    "start_time": "2021-08-05T15:44:45.591Z"
   },
   {
    "duration": 176209,
    "start_time": "2021-08-05T15:53:26.681Z"
   },
   {
    "duration": 10,
    "start_time": "2021-08-05T16:04:41.742Z"
   },
   {
    "duration": 1507,
    "start_time": "2021-08-05T16:06:41.606Z"
   },
   {
    "duration": 838,
    "start_time": "2021-08-05T16:06:43.118Z"
   },
   {
    "duration": 14,
    "start_time": "2021-08-05T16:06:43.959Z"
   },
   {
    "duration": 57,
    "start_time": "2021-08-05T16:06:43.976Z"
   },
   {
    "duration": 10,
    "start_time": "2021-08-05T16:06:44.036Z"
   },
   {
    "duration": 15,
    "start_time": "2021-08-05T16:06:44.048Z"
   },
   {
    "duration": 496,
    "start_time": "2021-08-05T16:06:44.065Z"
   },
   {
    "duration": 324,
    "start_time": "2021-08-05T16:06:44.565Z"
   },
   {
    "duration": 9,
    "start_time": "2021-08-05T16:06:44.892Z"
   },
   {
    "duration": 173342,
    "start_time": "2021-08-05T16:06:44.905Z"
   },
   {
    "duration": 10,
    "start_time": "2021-08-05T16:09:38.249Z"
   },
   {
    "duration": 13,
    "start_time": "2021-08-05T16:09:38.262Z"
   },
   {
    "duration": 38,
    "start_time": "2021-08-05T16:16:12.959Z"
   },
   {
    "duration": 8,
    "start_time": "2021-08-05T16:16:58.397Z"
   },
   {
    "duration": 3344,
    "start_time": "2021-08-05T16:19:02.925Z"
   },
   {
    "duration": 511,
    "start_time": "2021-08-05T16:24:56.393Z"
   },
   {
    "duration": 4,
    "start_time": "2021-08-05T16:27:17.224Z"
   },
   {
    "duration": 7,
    "start_time": "2021-08-05T16:27:28.422Z"
   },
   {
    "duration": 4,
    "start_time": "2021-08-05T16:27:41.144Z"
   },
   {
    "duration": 374,
    "start_time": "2021-08-05T16:29:54.754Z"
   },
   {
    "duration": 332,
    "start_time": "2021-08-05T16:30:04.514Z"
   },
   {
    "duration": 2068,
    "start_time": "2021-08-05T16:31:27.888Z"
   },
   {
    "duration": 871,
    "start_time": "2021-08-05T16:31:29.959Z"
   },
   {
    "duration": 13,
    "start_time": "2021-08-05T16:31:30.833Z"
   },
   {
    "duration": 54,
    "start_time": "2021-08-05T16:31:30.848Z"
   },
   {
    "duration": 24,
    "start_time": "2021-08-05T16:31:30.906Z"
   },
   {
    "duration": 21,
    "start_time": "2021-08-05T16:31:30.933Z"
   },
   {
    "duration": 480,
    "start_time": "2021-08-05T16:31:30.957Z"
   },
   {
    "duration": 321,
    "start_time": "2021-08-05T16:31:31.442Z"
   },
   {
    "duration": 3,
    "start_time": "2021-08-05T16:31:31.766Z"
   },
   {
    "duration": 171553,
    "start_time": "2021-08-05T16:31:31.772Z"
   },
   {
    "duration": 9,
    "start_time": "2021-08-05T16:34:23.328Z"
   },
   {
    "duration": 41,
    "start_time": "2021-08-05T16:34:23.340Z"
   },
   {
    "duration": 10,
    "start_time": "2021-08-05T16:34:23.401Z"
   },
   {
    "duration": 3086,
    "start_time": "2021-08-05T16:34:23.415Z"
   },
   {
    "duration": 19,
    "start_time": "2021-08-05T16:34:26.504Z"
   },
   {
    "duration": 1936,
    "start_time": "2021-08-05T16:34:43.531Z"
   },
   {
    "duration": 809,
    "start_time": "2021-08-05T16:34:45.469Z"
   },
   {
    "duration": 22,
    "start_time": "2021-08-05T16:34:46.281Z"
   },
   {
    "duration": 36,
    "start_time": "2021-08-05T16:34:46.307Z"
   },
   {
    "duration": 10,
    "start_time": "2021-08-05T16:34:46.346Z"
   },
   {
    "duration": 70,
    "start_time": "2021-08-05T16:34:46.359Z"
   },
   {
    "duration": 417,
    "start_time": "2021-08-05T16:34:46.432Z"
   },
   {
    "duration": 310,
    "start_time": "2021-08-05T16:34:46.853Z"
   },
   {
    "duration": 3,
    "start_time": "2021-08-05T16:34:47.166Z"
   },
   {
    "duration": 165338,
    "start_time": "2021-08-05T16:34:47.171Z"
   },
   {
    "duration": 12,
    "start_time": "2021-08-05T16:37:32.513Z"
   },
   {
    "duration": 45,
    "start_time": "2021-08-05T16:37:32.528Z"
   },
   {
    "duration": 27,
    "start_time": "2021-08-05T16:37:32.576Z"
   },
   {
    "duration": 3020,
    "start_time": "2021-08-05T16:37:32.607Z"
   },
   {
    "duration": 14,
    "start_time": "2021-08-05T16:37:35.630Z"
   },
   {
    "duration": 9,
    "start_time": "2021-08-05T16:37:35.647Z"
   },
   {
    "duration": 471,
    "start_time": "2021-08-05T16:39:17.265Z"
   },
   {
    "duration": 1899,
    "start_time": "2021-08-05T16:40:47.765Z"
   },
   {
    "duration": 852,
    "start_time": "2021-08-05T16:40:49.667Z"
   },
   {
    "duration": 15,
    "start_time": "2021-08-05T16:40:50.522Z"
   },
   {
    "duration": 41,
    "start_time": "2021-08-05T16:40:50.540Z"
   },
   {
    "duration": 17,
    "start_time": "2021-08-05T16:40:50.600Z"
   },
   {
    "duration": 18,
    "start_time": "2021-08-05T16:40:50.620Z"
   },
   {
    "duration": 563,
    "start_time": "2021-08-05T16:40:50.641Z"
   },
   {
    "duration": 357,
    "start_time": "2021-08-05T16:40:51.209Z"
   },
   {
    "duration": 2,
    "start_time": "2021-08-05T16:40:51.569Z"
   },
   {
    "duration": 168001,
    "start_time": "2021-08-05T16:40:51.575Z"
   },
   {
    "duration": 23,
    "start_time": "2021-08-05T16:43:39.578Z"
   },
   {
    "duration": 43,
    "start_time": "2021-08-05T16:43:39.604Z"
   },
   {
    "duration": 5,
    "start_time": "2021-08-05T16:43:39.650Z"
   },
   {
    "duration": 3018,
    "start_time": "2021-08-05T16:43:39.658Z"
   },
   {
    "duration": 112,
    "start_time": "2021-08-05T16:43:42.679Z"
   },
   {
    "duration": 1474,
    "start_time": "2021-08-05T16:43:41.320Z"
   },
   {
    "duration": 6,
    "start_time": "2021-08-05T16:43:51.745Z"
   },
   {
    "duration": 5,
    "start_time": "2021-08-05T16:43:55.243Z"
   },
   {
    "duration": 1897,
    "start_time": "2021-08-05T16:46:47.525Z"
   },
   {
    "duration": 812,
    "start_time": "2021-08-05T16:46:49.425Z"
   },
   {
    "duration": 16,
    "start_time": "2021-08-05T16:46:50.241Z"
   },
   {
    "duration": 61,
    "start_time": "2021-08-05T16:46:50.261Z"
   },
   {
    "duration": 9,
    "start_time": "2021-08-05T16:46:50.325Z"
   },
   {
    "duration": 15,
    "start_time": "2021-08-05T16:46:50.337Z"
   },
   {
    "duration": 461,
    "start_time": "2021-08-05T16:46:50.355Z"
   },
   {
    "duration": 314,
    "start_time": "2021-08-05T16:46:50.820Z"
   },
   {
    "duration": 3,
    "start_time": "2021-08-05T16:46:51.137Z"
   },
   {
    "duration": 180445,
    "start_time": "2021-08-05T16:46:51.142Z"
   },
   {
    "duration": 12,
    "start_time": "2021-08-05T16:49:51.590Z"
   },
   {
    "duration": 43,
    "start_time": "2021-08-05T16:49:51.606Z"
   },
   {
    "duration": 7,
    "start_time": "2021-08-05T16:49:51.652Z"
   },
   {
    "duration": 3094,
    "start_time": "2021-08-05T16:49:51.662Z"
   },
   {
    "duration": 9,
    "start_time": "2021-08-05T16:49:54.759Z"
   },
   {
    "duration": 7,
    "start_time": "2021-08-05T16:49:54.771Z"
   },
   {
    "duration": 385,
    "start_time": "2021-08-05T16:50:05.393Z"
   },
   {
    "duration": 307,
    "start_time": "2021-08-05T16:52:51.156Z"
   },
   {
    "duration": 1864,
    "start_time": "2021-08-05T16:53:11.781Z"
   },
   {
    "duration": 786,
    "start_time": "2021-08-05T16:53:13.648Z"
   },
   {
    "duration": 16,
    "start_time": "2021-08-05T16:53:14.437Z"
   },
   {
    "duration": 58,
    "start_time": "2021-08-05T16:53:14.457Z"
   },
   {
    "duration": 9,
    "start_time": "2021-08-05T16:53:14.518Z"
   },
   {
    "duration": 16,
    "start_time": "2021-08-05T16:53:14.530Z"
   },
   {
    "duration": 436,
    "start_time": "2021-08-05T16:53:14.548Z"
   },
   {
    "duration": 302,
    "start_time": "2021-08-05T16:53:14.988Z"
   },
   {
    "duration": 7,
    "start_time": "2021-08-05T16:53:15.293Z"
   },
   {
    "duration": 165161,
    "start_time": "2021-08-05T16:53:15.306Z"
   },
   {
    "duration": 11,
    "start_time": "2021-08-05T16:56:00.471Z"
   },
   {
    "duration": 19,
    "start_time": "2021-08-05T16:56:00.500Z"
   },
   {
    "duration": 44,
    "start_time": "2021-08-05T16:57:27.280Z"
   },
   {
    "duration": 8,
    "start_time": "2021-08-05T16:57:32.374Z"
   },
   {
    "duration": 369,
    "start_time": "2021-08-05T16:58:16.415Z"
   },
   {
    "duration": 11,
    "start_time": "2021-08-05T16:58:23.205Z"
   },
   {
    "duration": 4,
    "start_time": "2021-08-05T16:58:44.472Z"
   },
   {
    "duration": 16190,
    "start_time": "2021-08-05T16:59:01.872Z"
   },
   {
    "duration": 6,
    "start_time": "2021-08-05T16:59:39.633Z"
   },
   {
    "duration": 88,
    "start_time": "2021-08-05T17:09:47.959Z"
   },
   {
    "duration": 7,
    "start_time": "2021-08-05T17:10:02.869Z"
   },
   {
    "duration": 2065,
    "start_time": "2021-08-05T17:13:53.805Z"
   },
   {
    "duration": 4,
    "start_time": "2021-08-05T17:14:03.131Z"
   },
   {
    "duration": 12456,
    "start_time": "2021-08-05T17:14:04.032Z"
   },
   {
    "duration": 285,
    "start_time": "2021-08-05T17:14:35.110Z"
   },
   {
    "duration": 11932,
    "start_time": "2021-08-05T17:14:54.931Z"
   },
   {
    "duration": 20,
    "start_time": "2021-08-05T17:15:23.516Z"
   },
   {
    "duration": 217,
    "start_time": "2021-08-05T17:15:57.438Z"
   },
   {
    "duration": 441,
    "start_time": "2021-08-05T17:16:02.490Z"
   },
   {
    "duration": 4,
    "start_time": "2021-08-05T17:16:22.518Z"
   },
   {
    "duration": 12314,
    "start_time": "2021-08-05T17:16:23.352Z"
   },
   {
    "duration": 282,
    "start_time": "2021-08-05T17:16:35.669Z"
   },
   {
    "duration": 294,
    "start_time": "2021-08-05T17:17:09.250Z"
   },
   {
    "duration": 2287,
    "start_time": "2021-08-05T17:17:20.293Z"
   },
   {
    "duration": 1430,
    "start_time": "2021-08-05T17:17:21.153Z"
   },
   {
    "duration": 1409,
    "start_time": "2021-08-05T17:17:21.176Z"
   },
   {
    "duration": 1401,
    "start_time": "2021-08-05T17:17:21.185Z"
   },
   {
    "duration": 1399,
    "start_time": "2021-08-05T17:17:21.188Z"
   },
   {
    "duration": 1397,
    "start_time": "2021-08-05T17:17:21.192Z"
   },
   {
    "duration": 1390,
    "start_time": "2021-08-05T17:17:21.200Z"
   },
   {
    "duration": 1388,
    "start_time": "2021-08-05T17:17:21.203Z"
   },
   {
    "duration": 1386,
    "start_time": "2021-08-05T17:17:21.206Z"
   },
   {
    "duration": 1381,
    "start_time": "2021-08-05T17:17:21.213Z"
   },
   {
    "duration": 1375,
    "start_time": "2021-08-05T17:17:21.220Z"
   },
   {
    "duration": 1371,
    "start_time": "2021-08-05T17:17:21.225Z"
   },
   {
    "duration": 1359,
    "start_time": "2021-08-05T17:17:21.239Z"
   },
   {
    "duration": 1354,
    "start_time": "2021-08-05T17:17:21.245Z"
   },
   {
    "duration": 1346,
    "start_time": "2021-08-05T17:17:21.254Z"
   },
   {
    "duration": 1345,
    "start_time": "2021-08-05T17:17:21.257Z"
   },
   {
    "duration": 1342,
    "start_time": "2021-08-05T17:17:21.261Z"
   },
   {
    "duration": 1340,
    "start_time": "2021-08-05T17:17:21.264Z"
   },
   {
    "duration": 1339,
    "start_time": "2021-08-05T17:17:21.267Z"
   },
   {
    "duration": 1338,
    "start_time": "2021-08-05T17:17:21.269Z"
   },
   {
    "duration": 1336,
    "start_time": "2021-08-05T17:17:21.272Z"
   },
   {
    "duration": 2008,
    "start_time": "2021-08-05T17:21:03.794Z"
   },
   {
    "duration": 780,
    "start_time": "2021-08-05T17:21:05.805Z"
   },
   {
    "duration": 19,
    "start_time": "2021-08-05T17:21:06.588Z"
   },
   {
    "duration": 33,
    "start_time": "2021-08-05T17:21:06.610Z"
   },
   {
    "duration": 11,
    "start_time": "2021-08-05T17:21:06.645Z"
   },
   {
    "duration": 43,
    "start_time": "2021-08-05T17:21:06.659Z"
   },
   {
    "duration": 399,
    "start_time": "2021-08-05T17:21:06.705Z"
   },
   {
    "duration": 285,
    "start_time": "2021-08-05T17:21:07.107Z"
   },
   {
    "duration": 8,
    "start_time": "2021-08-05T17:21:07.394Z"
   },
   {
    "duration": 157671,
    "start_time": "2021-08-05T17:21:07.404Z"
   },
   {
    "duration": 10,
    "start_time": "2021-08-05T17:23:45.078Z"
   },
   {
    "duration": 21,
    "start_time": "2021-08-05T17:23:45.102Z"
   },
   {
    "duration": 40,
    "start_time": "2021-08-05T17:23:45.126Z"
   },
   {
    "duration": 6,
    "start_time": "2021-08-05T17:23:45.168Z"
   },
   {
    "duration": 33,
    "start_time": "2021-08-05T17:23:45.177Z"
   },
   {
    "duration": 4,
    "start_time": "2021-08-05T17:23:45.214Z"
   },
   {
    "duration": 17114,
    "start_time": "2021-08-05T17:23:45.220Z"
   },
   {
    "duration": 5,
    "start_time": "2021-08-05T17:24:02.336Z"
   },
   {
    "duration": 18,
    "start_time": "2021-08-05T17:24:02.344Z"
   },
   {
    "duration": 12996,
    "start_time": "2021-08-05T17:24:02.364Z"
   },
   {
    "duration": 18,
    "start_time": "2021-08-05T17:24:15.363Z"
   },
   {
    "duration": 448,
    "start_time": "2021-08-05T17:29:21.325Z"
   },
   {
    "duration": 17,
    "start_time": "2021-08-05T17:30:02.422Z"
   },
   {
    "duration": 79603,
    "start_time": "2021-08-05T17:30:08.752Z"
   },
   {
    "duration": 77565,
    "start_time": "2021-08-05T17:31:34.803Z"
   },
   {
    "duration": 22711,
    "start_time": "2021-08-05T17:34:19.202Z"
   },
   {
    "duration": 1333,
    "start_time": "2021-08-05T17:35:29.519Z"
   },
   {
    "duration": 99224,
    "start_time": "2021-08-05T17:35:39.654Z"
   },
   {
    "duration": 986,
    "start_time": "2021-08-05T17:37:30.353Z"
   },
   {
    "duration": 108182,
    "start_time": "2021-08-05T17:38:20.566Z"
   },
   {
    "duration": 15413,
    "start_time": "2021-08-05T17:46:18.046Z"
   },
   {
    "duration": 4,
    "start_time": "2021-08-05T17:46:33.462Z"
   },
   {
    "duration": 367171,
    "start_time": "2021-08-05T17:46:37.181Z"
   },
   {
    "duration": 324,
    "start_time": "2021-08-05T17:52:44.356Z"
   },
   {
    "duration": 27,
    "start_time": "2021-08-05T17:54:37.850Z"
   },
   {
    "duration": 17731,
    "start_time": "2021-08-05T17:55:01.585Z"
   },
   {
    "duration": 395051,
    "start_time": "2021-08-05T17:55:32.726Z"
   },
   {
    "duration": 1339,
    "start_time": "2021-08-05T18:02:06.441Z"
   },
   {
    "duration": 286724,
    "start_time": "2021-08-05T18:02:12.567Z"
   },
   {
    "duration": 593908,
    "start_time": "2021-08-05T18:07:19.113Z"
   },
   {
    "duration": 1327,
    "start_time": "2021-08-05T18:17:11.697Z"
   },
   {
    "duration": 8,
    "start_time": "2021-08-05T18:17:47.069Z"
   },
   {
    "duration": 690,
    "start_time": "2021-08-05T18:17:47.079Z"
   },
   {
    "duration": 10,
    "start_time": "2021-08-05T18:17:47.772Z"
   },
   {
    "duration": 49,
    "start_time": "2021-08-05T18:17:47.785Z"
   },
   {
    "duration": 22,
    "start_time": "2021-08-05T18:17:47.838Z"
   },
   {
    "duration": 26,
    "start_time": "2021-08-05T18:17:47.863Z"
   },
   {
    "duration": 417,
    "start_time": "2021-08-05T18:17:47.892Z"
   },
   {
    "duration": 287,
    "start_time": "2021-08-05T18:17:48.313Z"
   },
   {
    "duration": 21984,
    "start_time": "2021-08-05T18:17:48.603Z"
   },
   {
    "duration": 13,
    "start_time": "2021-08-05T18:18:10.590Z"
   },
   {
    "duration": 62,
    "start_time": "2021-08-05T18:18:10.606Z"
   },
   {
    "duration": 58,
    "start_time": "2021-08-05T18:18:10.671Z"
   },
   {
    "duration": 6,
    "start_time": "2021-08-05T18:18:10.732Z"
   },
   {
    "duration": 10,
    "start_time": "2021-08-05T18:18:10.741Z"
   },
   {
    "duration": 60,
    "start_time": "2021-08-05T18:18:10.754Z"
   },
   {
    "duration": 7986,
    "start_time": "2021-08-05T18:18:10.817Z"
   },
   {
    "duration": 1326,
    "start_time": "2021-08-05T18:18:17.480Z"
   },
   {
    "duration": 1318,
    "start_time": "2021-08-05T18:18:17.489Z"
   },
   {
    "duration": 1317,
    "start_time": "2021-08-05T18:18:17.492Z"
   },
   {
    "duration": 1306,
    "start_time": "2021-08-05T18:18:17.504Z"
   },
   {
    "duration": 1306,
    "start_time": "2021-08-05T18:18:17.507Z"
   },
   {
    "duration": 1305,
    "start_time": "2021-08-05T18:18:17.509Z"
   },
   {
    "duration": 1295,
    "start_time": "2021-08-05T18:18:17.521Z"
   },
   {
    "duration": 1295,
    "start_time": "2021-08-05T18:18:17.523Z"
   },
   {
    "duration": 8,
    "start_time": "2021-08-05T18:18:26.050Z"
   },
   {
    "duration": 776,
    "start_time": "2021-08-05T18:18:26.062Z"
   },
   {
    "duration": 10,
    "start_time": "2021-08-05T18:18:26.842Z"
   },
   {
    "duration": 63,
    "start_time": "2021-08-05T18:18:26.856Z"
   },
   {
    "duration": 10,
    "start_time": "2021-08-05T18:18:26.922Z"
   },
   {
    "duration": 11,
    "start_time": "2021-08-05T18:18:26.935Z"
   },
   {
    "duration": 511,
    "start_time": "2021-08-05T18:18:26.948Z"
   },
   {
    "duration": 305,
    "start_time": "2021-08-05T18:18:27.462Z"
   },
   {
    "duration": 2057,
    "start_time": "2021-08-05T18:18:46.439Z"
   },
   {
    "duration": 822,
    "start_time": "2021-08-05T18:18:48.500Z"
   },
   {
    "duration": 15,
    "start_time": "2021-08-05T18:18:49.325Z"
   },
   {
    "duration": 35,
    "start_time": "2021-08-05T18:18:49.343Z"
   },
   {
    "duration": 32,
    "start_time": "2021-08-05T18:18:49.380Z"
   },
   {
    "duration": 18,
    "start_time": "2021-08-05T18:18:49.416Z"
   },
   {
    "duration": 528,
    "start_time": "2021-08-05T18:18:49.437Z"
   },
   {
    "duration": 310,
    "start_time": "2021-08-05T18:18:49.970Z"
   },
   {
    "duration": 181229,
    "start_time": "2021-08-05T18:18:50.285Z"
   },
   {
    "duration": 18,
    "start_time": "2021-08-05T18:21:51.517Z"
   },
   {
    "duration": 121,
    "start_time": "2021-08-05T18:21:51.538Z"
   },
   {
    "duration": 66,
    "start_time": "2021-08-05T18:21:51.662Z"
   },
   {
    "duration": 7,
    "start_time": "2021-08-05T18:21:51.731Z"
   },
   {
    "duration": 17,
    "start_time": "2021-08-05T18:21:51.741Z"
   },
   {
    "duration": 5,
    "start_time": "2021-08-05T18:21:51.761Z"
   },
   {
    "duration": 18157,
    "start_time": "2021-08-05T18:21:51.769Z"
   },
   {
    "duration": 6,
    "start_time": "2021-08-05T18:22:09.928Z"
   },
   {
    "duration": 6,
    "start_time": "2021-08-05T18:22:09.937Z"
   },
   {
    "duration": 13309,
    "start_time": "2021-08-05T18:22:09.945Z"
   },
   {
    "duration": 22,
    "start_time": "2021-08-05T18:22:23.258Z"
   },
   {
    "duration": 92661,
    "start_time": "2021-08-05T18:22:23.301Z"
   },
   {
    "duration": 116894,
    "start_time": "2021-08-05T18:23:55.965Z"
   },
   {
    "duration": 1079057,
    "start_time": "2021-08-05T18:25:52.864Z"
   },
   {
    "duration": 1009105,
    "start_time": "2021-08-05T18:43:51.924Z"
   },
   {
    "duration": 5,
    "start_time": "2021-08-05T19:00:41.032Z"
   },
   {
    "duration": 13,
    "start_time": "2021-08-05T19:00:41.100Z"
   },
   {
    "duration": 7,
    "start_time": "2021-08-05T19:02:44.936Z"
   },
   {
    "duration": 13,
    "start_time": "2021-08-05T19:02:52.509Z"
   },
   {
    "duration": 3,
    "start_time": "2021-08-06T04:49:09.015Z"
   },
   {
    "duration": 7099,
    "start_time": "2021-08-06T04:49:11.165Z"
   },
   {
    "duration": 20,
    "start_time": "2021-08-06T04:49:21.108Z"
   },
   {
    "duration": 4,
    "start_time": "2021-08-06T04:49:42.441Z"
   },
   {
    "duration": 10381,
    "start_time": "2021-08-06T04:49:43.476Z"
   },
   {
    "duration": 19,
    "start_time": "2021-08-06T04:49:55.788Z"
   },
   {
    "duration": 4,
    "start_time": "2021-08-06T04:50:04.045Z"
   },
   {
    "duration": 11128,
    "start_time": "2021-08-06T04:50:16.628Z"
   },
   {
    "duration": 18,
    "start_time": "2021-08-06T04:50:29.332Z"
   },
   {
    "duration": 4,
    "start_time": "2021-08-06T04:50:36.613Z"
   },
   {
    "duration": 15086,
    "start_time": "2021-08-06T04:50:38.268Z"
   },
   {
    "duration": 19,
    "start_time": "2021-08-06T04:50:55.021Z"
   },
   {
    "duration": 98,
    "start_time": "2021-08-06T04:52:18.181Z"
   },
   {
    "duration": 4,
    "start_time": "2021-08-06T04:52:24.293Z"
   },
   {
    "duration": 17232,
    "start_time": "2021-08-06T04:52:27.126Z"
   },
   {
    "duration": 18,
    "start_time": "2021-08-06T04:52:45.892Z"
   },
   {
    "duration": 4,
    "start_time": "2021-08-06T04:52:52.284Z"
   },
   {
    "duration": 21349,
    "start_time": "2021-08-06T04:52:53.412Z"
   },
   {
    "duration": 18,
    "start_time": "2021-08-06T04:53:20.349Z"
   },
   {
    "duration": 6,
    "start_time": "2021-08-06T04:53:29.364Z"
   },
   {
    "duration": 24730,
    "start_time": "2021-08-06T04:53:30.430Z"
   },
   {
    "duration": 18,
    "start_time": "2021-08-06T04:54:15.261Z"
   },
   {
    "duration": 449,
    "start_time": "2021-08-06T05:00:50.671Z"
   },
   {
    "duration": 317,
    "start_time": "2021-08-06T05:05:55.143Z"
   },
   {
    "duration": 298,
    "start_time": "2021-08-06T05:06:20.725Z"
   },
   {
    "duration": 315,
    "start_time": "2021-08-06T05:06:32.861Z"
   },
   {
    "duration": 296,
    "start_time": "2021-08-06T05:07:43.798Z"
   },
   {
    "duration": 126446,
    "start_time": "2021-08-06T05:07:55.038Z"
   },
   {
    "duration": 199033,
    "start_time": "2021-08-06T05:10:31.338Z"
   },
   {
    "duration": 264,
    "start_time": "2021-08-06T08:03:11.510Z"
   },
   {
    "duration": 755,
    "start_time": "2021-08-06T08:03:11.778Z"
   },
   {
    "duration": 11,
    "start_time": "2021-08-06T08:03:12.536Z"
   },
   {
    "duration": 37,
    "start_time": "2021-08-06T08:03:12.549Z"
   },
   {
    "duration": 10,
    "start_time": "2021-08-06T08:03:12.601Z"
   },
   {
    "duration": 11,
    "start_time": "2021-08-06T08:03:12.613Z"
   },
   {
    "duration": 426,
    "start_time": "2021-08-06T08:03:12.626Z"
   },
   {
    "duration": 282,
    "start_time": "2021-08-06T08:03:13.055Z"
   },
   {
    "duration": 11048,
    "start_time": "2021-08-06T08:03:13.340Z"
   },
   {
    "duration": 11,
    "start_time": "2021-08-06T08:03:56.580Z"
   },
   {
    "duration": 5531,
    "start_time": "2021-08-06T08:07:21.569Z"
   },
   {
    "duration": 12,
    "start_time": "2021-08-06T08:09:07.236Z"
   },
   {
    "duration": 113080,
    "start_time": "2021-08-06T08:10:47.628Z"
   },
   {
    "duration": 13,
    "start_time": "2021-08-06T08:14:07.284Z"
   },
   {
    "duration": 11,
    "start_time": "2021-08-06T08:19:11.437Z"
   },
   {
    "duration": 1678,
    "start_time": "2021-08-06T08:21:28.004Z"
   },
   {
    "duration": 302889,
    "start_time": "2021-08-06T08:21:56.893Z"
   },
   {
    "duration": 16,
    "start_time": "2021-08-06T08:27:22.162Z"
   },
   {
    "duration": 8235,
    "start_time": "2021-08-06T08:30:52.564Z"
   },
   {
    "duration": 21,
    "start_time": "2021-08-06T08:31:08.308Z"
   },
   {
    "duration": 1684,
    "start_time": "2021-08-06T08:36:16.868Z"
   },
   {
    "duration": 295,
    "start_time": "2021-08-06T08:37:46.540Z"
   },
   {
    "duration": 15,
    "start_time": "2021-08-06T08:37:50.636Z"
   },
   {
    "duration": 8,
    "start_time": "2021-08-06T08:38:11.977Z"
   },
   {
    "duration": 736,
    "start_time": "2021-08-06T08:38:11.987Z"
   },
   {
    "duration": 10,
    "start_time": "2021-08-06T08:38:12.726Z"
   },
   {
    "duration": 35,
    "start_time": "2021-08-06T08:38:12.739Z"
   },
   {
    "duration": 34,
    "start_time": "2021-08-06T08:38:12.776Z"
   },
   {
    "duration": 12,
    "start_time": "2021-08-06T08:38:12.813Z"
   },
   {
    "duration": 432,
    "start_time": "2021-08-06T08:38:12.828Z"
   },
   {
    "duration": 295,
    "start_time": "2021-08-06T08:38:13.262Z"
   },
   {
    "duration": 2258,
    "start_time": "2021-08-06T08:38:44.098Z"
   },
   {
    "duration": 827,
    "start_time": "2021-08-06T08:38:46.359Z"
   },
   {
    "duration": 19,
    "start_time": "2021-08-06T08:38:47.189Z"
   },
   {
    "duration": 35,
    "start_time": "2021-08-06T08:38:47.211Z"
   },
   {
    "duration": 10,
    "start_time": "2021-08-06T08:38:47.249Z"
   },
   {
    "duration": 49,
    "start_time": "2021-08-06T08:38:47.262Z"
   },
   {
    "duration": 483,
    "start_time": "2021-08-06T08:38:47.313Z"
   },
   {
    "duration": 300,
    "start_time": "2021-08-06T08:38:47.802Z"
   },
   {
    "duration": 7814,
    "start_time": "2021-08-06T08:38:48.106Z"
   },
   {
    "duration": 15,
    "start_time": "2021-08-06T08:38:55.922Z"
   },
   {
    "duration": 60723,
    "start_time": "2021-08-06T08:38:55.939Z"
   },
   {
    "duration": 15,
    "start_time": "2021-08-06T08:39:56.665Z"
   },
   {
    "duration": 154583,
    "start_time": "2021-08-06T08:39:56.683Z"
   },
   {
    "duration": 6,
    "start_time": "2021-08-06T08:42:31.268Z"
   },
   {
    "duration": 39,
    "start_time": "2021-08-06T08:42:31.276Z"
   },
   {
    "duration": 35,
    "start_time": "2021-08-06T08:42:31.317Z"
   },
   {
    "duration": 50,
    "start_time": "2021-08-06T08:42:31.355Z"
   },
   {
    "duration": 24,
    "start_time": "2021-08-06T08:42:31.407Z"
   },
   {
    "duration": 54,
    "start_time": "2021-08-06T08:42:31.433Z"
   },
   {
    "duration": 22,
    "start_time": "2021-08-06T08:42:31.489Z"
   },
   {
    "duration": 2295,
    "start_time": "2021-08-06T08:43:27.574Z"
   },
   {
    "duration": 778,
    "start_time": "2021-08-06T08:43:29.872Z"
   },
   {
    "duration": 14,
    "start_time": "2021-08-06T08:43:30.653Z"
   },
   {
    "duration": 49,
    "start_time": "2021-08-06T08:43:30.670Z"
   },
   {
    "duration": 20,
    "start_time": "2021-08-06T08:43:30.721Z"
   },
   {
    "duration": 24,
    "start_time": "2021-08-06T08:43:30.743Z"
   },
   {
    "duration": 489,
    "start_time": "2021-08-06T08:43:30.769Z"
   },
   {
    "duration": 298,
    "start_time": "2021-08-06T08:43:31.261Z"
   },
   {
    "duration": 7818,
    "start_time": "2021-08-06T08:43:31.562Z"
   },
   {
    "duration": 19,
    "start_time": "2021-08-06T08:43:39.383Z"
   },
   {
    "duration": 59593,
    "start_time": "2021-08-06T08:43:39.404Z"
   },
   {
    "duration": 16,
    "start_time": "2021-08-06T08:44:39.000Z"
   },
   {
    "duration": 84,
    "start_time": "2021-08-06T08:44:39.018Z"
   },
   {
    "duration": 49,
    "start_time": "2021-08-06T08:44:39.104Z"
   },
   {
    "duration": 6,
    "start_time": "2021-08-06T08:44:39.156Z"
   },
   {
    "duration": 22,
    "start_time": "2021-08-06T08:44:39.164Z"
   },
   {
    "duration": 14,
    "start_time": "2021-08-06T08:44:39.188Z"
   },
   {
    "duration": 2281,
    "start_time": "2021-08-06T08:50:54.937Z"
   },
   {
    "duration": 779,
    "start_time": "2021-08-06T08:50:57.221Z"
   },
   {
    "duration": 14,
    "start_time": "2021-08-06T08:50:58.003Z"
   },
   {
    "duration": 36,
    "start_time": "2021-08-06T08:50:58.020Z"
   },
   {
    "duration": 10,
    "start_time": "2021-08-06T08:50:58.059Z"
   },
   {
    "duration": 42,
    "start_time": "2021-08-06T08:50:58.071Z"
   },
   {
    "duration": 488,
    "start_time": "2021-08-06T08:50:58.116Z"
   },
   {
    "duration": 314,
    "start_time": "2021-08-06T08:50:58.606Z"
   },
   {
    "duration": 8884,
    "start_time": "2021-08-06T08:50:58.925Z"
   },
   {
    "duration": 23447,
    "start_time": "2021-08-06T08:51:07.812Z"
   },
   {
    "duration": 14,
    "start_time": "2021-08-06T08:51:31.262Z"
   },
   {
    "duration": 37,
    "start_time": "2021-08-06T08:51:31.279Z"
   },
   {
    "duration": 681,
    "start_time": "2021-08-06T08:51:31.319Z"
   },
   {
    "duration": -48,
    "start_time": "2021-08-06T08:51:32.051Z"
   },
   {
    "duration": -50,
    "start_time": "2021-08-06T08:51:32.054Z"
   },
   {
    "duration": -49,
    "start_time": "2021-08-06T08:51:32.055Z"
   },
   {
    "duration": -50,
    "start_time": "2021-08-06T08:51:32.057Z"
   },
   {
    "duration": -51,
    "start_time": "2021-08-06T08:51:32.059Z"
   },
   {
    "duration": -50,
    "start_time": "2021-08-06T08:51:32.060Z"
   },
   {
    "duration": -51,
    "start_time": "2021-08-06T08:51:32.062Z"
   },
   {
    "duration": -52,
    "start_time": "2021-08-06T08:51:32.064Z"
   },
   {
    "duration": -51,
    "start_time": "2021-08-06T08:51:32.065Z"
   },
   {
    "duration": -52,
    "start_time": "2021-08-06T08:51:32.067Z"
   },
   {
    "duration": -54,
    "start_time": "2021-08-06T08:51:32.070Z"
   },
   {
    "duration": -53,
    "start_time": "2021-08-06T08:51:32.071Z"
   },
   {
    "duration": -54,
    "start_time": "2021-08-06T08:51:32.073Z"
   },
   {
    "duration": 1987,
    "start_time": "2021-08-06T08:51:36.369Z"
   },
   {
    "duration": 805,
    "start_time": "2021-08-06T08:51:38.359Z"
   },
   {
    "duration": 14,
    "start_time": "2021-08-06T08:51:39.167Z"
   },
   {
    "duration": 53,
    "start_time": "2021-08-06T08:51:39.183Z"
   },
   {
    "duration": 10,
    "start_time": "2021-08-06T08:51:39.238Z"
   },
   {
    "duration": 11,
    "start_time": "2021-08-06T08:51:39.250Z"
   },
   {
    "duration": 511,
    "start_time": "2021-08-06T08:51:39.263Z"
   },
   {
    "duration": 315,
    "start_time": "2021-08-06T08:51:39.779Z"
   },
   {
    "duration": 7947,
    "start_time": "2021-08-06T08:51:40.101Z"
   },
   {
    "duration": 60343,
    "start_time": "2021-08-06T08:51:48.051Z"
   },
   {
    "duration": 15,
    "start_time": "2021-08-06T08:52:48.399Z"
   },
   {
    "duration": 430,
    "start_time": "2021-08-06T08:52:48.416Z"
   },
   {
    "duration": 11,
    "start_time": "2021-08-06T08:52:48.849Z"
   },
   {
    "duration": 51,
    "start_time": "2021-08-06T08:52:48.863Z"
   },
   {
    "duration": 6,
    "start_time": "2021-08-06T08:52:48.916Z"
   },
   {
    "duration": 23,
    "start_time": "2021-08-06T08:52:48.924Z"
   },
   {
    "duration": 14,
    "start_time": "2021-08-06T08:52:48.950Z"
   },
   {
    "duration": 16754,
    "start_time": "2021-08-06T08:52:48.967Z"
   },
   {
    "duration": 7,
    "start_time": "2021-08-06T08:53:05.724Z"
   },
   {
    "duration": 211451,
    "start_time": "2021-08-06T08:53:05.734Z"
   },
   {
    "duration": 81596,
    "start_time": "2021-08-06T08:56:37.188Z"
   },
   {
    "duration": 111586,
    "start_time": "2021-08-06T08:57:58.787Z"
   },
   {
    "duration": 969391,
    "start_time": "2021-08-06T08:59:50.378Z"
   },
   {
    "duration": 750561,
    "start_time": "2021-08-06T09:15:59.772Z"
   },
   {
    "duration": 6,
    "start_time": "2021-08-06T09:28:30.336Z"
   },
   {
    "duration": 74,
    "start_time": "2021-08-06T09:28:30.345Z"
   },
   {
    "duration": 4,
    "start_time": "2021-08-06T10:10:38.106Z"
   },
   {
    "duration": 13,
    "start_time": "2021-08-06T10:10:41.075Z"
   }
  ],
  "kernelspec": {
   "display_name": "Python 3",
   "language": "python",
   "name": "python3"
  },
  "language_info": {
   "codemirror_mode": {
    "name": "ipython",
    "version": 3
   },
   "file_extension": ".py",
   "mimetype": "text/x-python",
   "name": "python",
   "nbconvert_exporter": "python",
   "pygments_lexer": "ipython3",
   "version": "3.8.5"
  },
  "toc": {
   "base_numbering": 1,
   "nav_menu": {},
   "number_sections": true,
   "sideBar": true,
   "skip_h1_title": true,
   "title_cell": "Содержание",
   "title_sidebar": "Contents",
   "toc_cell": true,
   "toc_position": {
    "height": "calc(100% - 180px)",
    "left": "10px",
    "top": "150px",
    "width": "302.391px"
   },
   "toc_section_display": true,
   "toc_window_display": false
  }
 },
 "nbformat": 4,
 "nbformat_minor": 2
}
