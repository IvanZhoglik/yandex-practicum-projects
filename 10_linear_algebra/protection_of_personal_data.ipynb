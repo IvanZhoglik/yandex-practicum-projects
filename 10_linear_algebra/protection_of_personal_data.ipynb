{
 "cells": [
  {
   "cell_type": "markdown",
   "metadata": {
    "toc": true
   },
   "source": [
    "<h1>Содержание<span class=\"tocSkip\"></span></h1>\n",
    "<div class=\"toc\"><ul class=\"toc-item\"><li><span><a href=\"#Загрузка-данных\" data-toc-modified-id=\"Загрузка-данных-1\"><span class=\"toc-item-num\">1&nbsp;&nbsp;</span>Загрузка данных</a></span></li><li><span><a href=\"#Умножение-матриц\" data-toc-modified-id=\"Умножение-матриц-2\"><span class=\"toc-item-num\">2&nbsp;&nbsp;</span>Умножение матриц</a></span></li><li><span><a href=\"#Алгоритм-преобразования\" data-toc-modified-id=\"Алгоритм-преобразования-3\"><span class=\"toc-item-num\">3&nbsp;&nbsp;</span>Алгоритм преобразования</a></span></li><li><span><a href=\"#Проверка-алгоритма\" data-toc-modified-id=\"Проверка-алгоритма-4\"><span class=\"toc-item-num\">4&nbsp;&nbsp;</span>Проверка алгоритма</a></span><ul class=\"toc-item\"><li><span><a href=\"#Преобразование-данных\" data-toc-modified-id=\"Преобразование-данных-4.1\"><span class=\"toc-item-num\">4.1&nbsp;&nbsp;</span>Преобразование данных</a></span></li><li><span><a href=\"#Обучение-модели\" data-toc-modified-id=\"Обучение-модели-4.2\"><span class=\"toc-item-num\">4.2&nbsp;&nbsp;</span>Обучение модели</a></span></li></ul></li><li><span><a href=\"#Общий-вывод\" data-toc-modified-id=\"Общий-вывод-5\"><span class=\"toc-item-num\">5&nbsp;&nbsp;</span>Общий вывод</a></span></li><li><span><a href=\"#Чек-лист-проверки\" data-toc-modified-id=\"Чек-лист-проверки-6\"><span class=\"toc-item-num\">6&nbsp;&nbsp;</span>Чек-лист проверки</a></span></li></ul></div>"
   ]
  },
  {
   "cell_type": "markdown",
   "metadata": {},
   "source": [
    "# Защита персональных данных клиентов"
   ]
  },
  {
   "cell_type": "markdown",
   "metadata": {},
   "source": [
    "# Введение"
   ]
  },
  {
   "cell_type": "markdown",
   "metadata": {},
   "source": [
    "Вам нужно защитить данные клиентов страховой компании «Хоть потоп». Разработайте такой метод преобразования данных, чтобы по ним было сложно восстановить персональную информацию. Обоснуйте корректность его работы.\n",
    "\n",
    "Нужно защитить данные, чтобы при преобразовании качество моделей машинного обучения не ухудшилось. Подбирать наилучшую модель не требуется."
   ]
  },
  {
   "cell_type": "markdown",
   "metadata": {},
   "source": [
    "<b>План выполнения работы:</b>\n",
    "<div>1. Загрузка и изучение файла данных.</div>\n",
    "<div>2. Ответить на вопрос и обосновать решение:</div>\n",
    "<div>Признаки умножают на обратимую матрицу. Изменится ли качество линейной регрессии? (Её можно обучить заново.)</div>\n",
    "<div>a. Изменится. Приведите примеры матриц.</div>\n",
    "<div>b. Не изменится. Укажите, как связаны параметры линейной регрессии в исходной задаче и в преобразованной.</div>\n",
    "<div>3. Предложить алгоритм преобразования данных для решения задачи. Обосновать, почему качество линейной регрессии не поменяется.</div>\n",
    "4. Запрограммировать предложенный алгоритм, применив матричные операции. Проверить, что качество линейной регрессии из sklearn не отличается до и после преобразования. Применить метрику R2.</div>\n",
    "<div>6. Общий вывод.</div>"
   ]
  },
  {
   "cell_type": "markdown",
   "metadata": {},
   "source": [
    "<b>Описание данных:</b>\n",
    "\n",
    "<div><b>Признаки:</b></div>\n",
    "<div><li>пол</li></div>\n",
    "<div><li>возраст</li></div>\n",
    "<div><li>зарплата застрахованного</li></div>\n",
    "<div><li>количество членов семьи</li></div>\n",
    "\n",
    "<div><b>Целевой признак:</b></div>\n",
    "<div><li>количество страховых выплат клиенту за последние 5 лет</li></div>\n"
   ]
  },
  {
   "cell_type": "markdown",
   "metadata": {},
   "source": [
    "## Загрузка данных"
   ]
  },
  {
   "cell_type": "code",
   "execution_count": 1,
   "metadata": {},
   "outputs": [],
   "source": [
    "import pandas as pd\n",
    "import numpy as np\n",
    "import matplotlib.pyplot as plt\n",
    "import seaborn as sns\n",
    "from sklearn.metrics import r2_score\n",
    "from sklearn.preprocessing import StandardScaler\n",
    "from sklearn.linear_model import LinearRegression\n",
    "from sklearn.datasets import make_spd_matrix\n",
    "from sklearn.model_selection import train_test_split"
   ]
  },
  {
   "cell_type": "markdown",
   "metadata": {},
   "source": [
    "Выполним загрузку данных по клиентам страховой компании и выведем первые 10 строк таблицы на экран:"
   ]
  },
  {
   "cell_type": "code",
   "execution_count": 2,
   "metadata": {},
   "outputs": [],
   "source": [
    "data = pd.read_csv('/datasets/insurance.csv')"
   ]
  },
  {
   "cell_type": "code",
   "execution_count": 3,
   "metadata": {},
   "outputs": [
    {
     "data": {
      "text/html": [
       "<div>\n",
       "<style scoped>\n",
       "    .dataframe tbody tr th:only-of-type {\n",
       "        vertical-align: middle;\n",
       "    }\n",
       "\n",
       "    .dataframe tbody tr th {\n",
       "        vertical-align: top;\n",
       "    }\n",
       "\n",
       "    .dataframe thead th {\n",
       "        text-align: right;\n",
       "    }\n",
       "</style>\n",
       "<table border=\"1\" class=\"dataframe\">\n",
       "  <thead>\n",
       "    <tr style=\"text-align: right;\">\n",
       "      <th></th>\n",
       "      <th>Пол</th>\n",
       "      <th>Возраст</th>\n",
       "      <th>Зарплата</th>\n",
       "      <th>Члены семьи</th>\n",
       "      <th>Страховые выплаты</th>\n",
       "    </tr>\n",
       "  </thead>\n",
       "  <tbody>\n",
       "    <tr>\n",
       "      <td>0</td>\n",
       "      <td>1</td>\n",
       "      <td>41.0</td>\n",
       "      <td>49600.0</td>\n",
       "      <td>1</td>\n",
       "      <td>0</td>\n",
       "    </tr>\n",
       "    <tr>\n",
       "      <td>1</td>\n",
       "      <td>0</td>\n",
       "      <td>46.0</td>\n",
       "      <td>38000.0</td>\n",
       "      <td>1</td>\n",
       "      <td>1</td>\n",
       "    </tr>\n",
       "    <tr>\n",
       "      <td>2</td>\n",
       "      <td>0</td>\n",
       "      <td>29.0</td>\n",
       "      <td>21000.0</td>\n",
       "      <td>0</td>\n",
       "      <td>0</td>\n",
       "    </tr>\n",
       "    <tr>\n",
       "      <td>3</td>\n",
       "      <td>0</td>\n",
       "      <td>21.0</td>\n",
       "      <td>41700.0</td>\n",
       "      <td>2</td>\n",
       "      <td>0</td>\n",
       "    </tr>\n",
       "    <tr>\n",
       "      <td>4</td>\n",
       "      <td>1</td>\n",
       "      <td>28.0</td>\n",
       "      <td>26100.0</td>\n",
       "      <td>0</td>\n",
       "      <td>0</td>\n",
       "    </tr>\n",
       "    <tr>\n",
       "      <td>5</td>\n",
       "      <td>1</td>\n",
       "      <td>43.0</td>\n",
       "      <td>41000.0</td>\n",
       "      <td>2</td>\n",
       "      <td>1</td>\n",
       "    </tr>\n",
       "    <tr>\n",
       "      <td>6</td>\n",
       "      <td>1</td>\n",
       "      <td>39.0</td>\n",
       "      <td>39700.0</td>\n",
       "      <td>2</td>\n",
       "      <td>0</td>\n",
       "    </tr>\n",
       "    <tr>\n",
       "      <td>7</td>\n",
       "      <td>1</td>\n",
       "      <td>25.0</td>\n",
       "      <td>38600.0</td>\n",
       "      <td>4</td>\n",
       "      <td>0</td>\n",
       "    </tr>\n",
       "    <tr>\n",
       "      <td>8</td>\n",
       "      <td>1</td>\n",
       "      <td>36.0</td>\n",
       "      <td>49700.0</td>\n",
       "      <td>1</td>\n",
       "      <td>0</td>\n",
       "    </tr>\n",
       "    <tr>\n",
       "      <td>9</td>\n",
       "      <td>1</td>\n",
       "      <td>32.0</td>\n",
       "      <td>51700.0</td>\n",
       "      <td>1</td>\n",
       "      <td>0</td>\n",
       "    </tr>\n",
       "  </tbody>\n",
       "</table>\n",
       "</div>"
      ],
      "text/plain": [
       "   Пол  Возраст  Зарплата  Члены семьи  Страховые выплаты\n",
       "0    1     41.0   49600.0            1                  0\n",
       "1    0     46.0   38000.0            1                  1\n",
       "2    0     29.0   21000.0            0                  0\n",
       "3    0     21.0   41700.0            2                  0\n",
       "4    1     28.0   26100.0            0                  0\n",
       "5    1     43.0   41000.0            2                  1\n",
       "6    1     39.0   39700.0            2                  0\n",
       "7    1     25.0   38600.0            4                  0\n",
       "8    1     36.0   49700.0            1                  0\n",
       "9    1     32.0   51700.0            1                  0"
      ]
     },
     "execution_count": 3,
     "metadata": {},
     "output_type": "execute_result"
    }
   ],
   "source": [
    "data.head(10)"
   ]
  },
  {
   "cell_type": "markdown",
   "metadata": {},
   "source": [
    "Посмотрим основные данные о таблице:"
   ]
  },
  {
   "cell_type": "code",
   "execution_count": 4,
   "metadata": {},
   "outputs": [
    {
     "name": "stdout",
     "output_type": "stream",
     "text": [
      "<class 'pandas.core.frame.DataFrame'>\n",
      "RangeIndex: 5000 entries, 0 to 4999\n",
      "Data columns (total 5 columns):\n",
      "Пол                  5000 non-null int64\n",
      "Возраст              5000 non-null float64\n",
      "Зарплата             5000 non-null float64\n",
      "Члены семьи          5000 non-null int64\n",
      "Страховые выплаты    5000 non-null int64\n",
      "dtypes: float64(2), int64(3)\n",
      "memory usage: 195.4 KB\n"
     ]
    }
   ],
   "source": [
    "data.info()"
   ]
  },
  {
   "cell_type": "markdown",
   "metadata": {},
   "source": [
    "Датасет data состоит из 5 столбцов (признаков) и 5000 строк (объектов). Пропущенные значения в датасете отсутствуют.\n",
    "\n",
    "Все признаки - количественные. Признаки \"пол\", \"члены семьи\", \"страховые выплаты\" имеют целочисленный тип данных; признаки \"возраст\" и \"зарплата\" - вещественный."
   ]
  },
  {
   "cell_type": "markdown",
   "metadata": {},
   "source": [
    "Для удобства, заменим наименования столбцов:"
   ]
  },
  {
   "cell_type": "code",
   "execution_count": 5,
   "metadata": {},
   "outputs": [],
   "source": [
    "data.set_axis(['sex', 'age', 'salary', 'family_members',\n",
    "       'insurance_payments'], axis = 'columns', inplace=True)"
   ]
  },
  {
   "cell_type": "markdown",
   "metadata": {},
   "source": [
    "Проверим таблицу с данными на наличие дубликатов:"
   ]
  },
  {
   "cell_type": "code",
   "execution_count": 6,
   "metadata": {},
   "outputs": [
    {
     "data": {
      "text/plain": [
       "153"
      ]
     },
     "execution_count": 6,
     "metadata": {},
     "output_type": "execute_result"
    }
   ],
   "source": [
    "data.duplicated().sum()"
   ]
  },
  {
   "cell_type": "markdown",
   "metadata": {},
   "source": [
    "Теоретически, полное совпадение данных у разных клиентов компании возможно. Однако, учитывая, что доля повторяющихся значений ничтожно мала, исключим дубликаты из датасета:"
   ]
  },
  {
   "cell_type": "code",
   "execution_count": 7,
   "metadata": {},
   "outputs": [],
   "source": [
    "data.drop_duplicates(inplace=True)\n",
    "data.reset_index(inplace=True, drop=True)"
   ]
  },
  {
   "cell_type": "markdown",
   "metadata": {},
   "source": [
    "Также, заменим вещественный тип данных в столбцах \"возраст\" и \"зарплата\" на целочисленный:"
   ]
  },
  {
   "cell_type": "code",
   "execution_count": 8,
   "metadata": {},
   "outputs": [],
   "source": [
    "data[['age', 'salary']] = data[['age', 'salary']].astype('int')"
   ]
  },
  {
   "cell_type": "markdown",
   "metadata": {},
   "source": [
    "Проверим выполненные изменения:"
   ]
  },
  {
   "cell_type": "code",
   "execution_count": 9,
   "metadata": {},
   "outputs": [
    {
     "name": "stdout",
     "output_type": "stream",
     "text": [
      "<class 'pandas.core.frame.DataFrame'>\n",
      "RangeIndex: 4847 entries, 0 to 4846\n",
      "Data columns (total 5 columns):\n",
      "sex                   4847 non-null int64\n",
      "age                   4847 non-null int64\n",
      "salary                4847 non-null int64\n",
      "family_members        4847 non-null int64\n",
      "insurance_payments    4847 non-null int64\n",
      "dtypes: int64(5)\n",
      "memory usage: 189.5 KB\n"
     ]
    }
   ],
   "source": [
    "data.info()"
   ]
  },
  {
   "cell_type": "code",
   "execution_count": 10,
   "metadata": {},
   "outputs": [
    {
     "data": {
      "text/html": [
       "<div>\n",
       "<style scoped>\n",
       "    .dataframe tbody tr th:only-of-type {\n",
       "        vertical-align: middle;\n",
       "    }\n",
       "\n",
       "    .dataframe tbody tr th {\n",
       "        vertical-align: top;\n",
       "    }\n",
       "\n",
       "    .dataframe thead th {\n",
       "        text-align: right;\n",
       "    }\n",
       "</style>\n",
       "<table border=\"1\" class=\"dataframe\">\n",
       "  <thead>\n",
       "    <tr style=\"text-align: right;\">\n",
       "      <th></th>\n",
       "      <th>sex</th>\n",
       "      <th>age</th>\n",
       "      <th>salary</th>\n",
       "      <th>family_members</th>\n",
       "      <th>insurance_payments</th>\n",
       "    </tr>\n",
       "  </thead>\n",
       "  <tbody>\n",
       "    <tr>\n",
       "      <td>count</td>\n",
       "      <td>4847.000000</td>\n",
       "      <td>4847.000000</td>\n",
       "      <td>4847.000000</td>\n",
       "      <td>4847.000000</td>\n",
       "      <td>4847.000000</td>\n",
       "    </tr>\n",
       "    <tr>\n",
       "      <td>mean</td>\n",
       "      <td>0.498453</td>\n",
       "      <td>31.023932</td>\n",
       "      <td>39895.811223</td>\n",
       "      <td>1.203425</td>\n",
       "      <td>0.152259</td>\n",
       "    </tr>\n",
       "    <tr>\n",
       "      <td>std</td>\n",
       "      <td>0.500049</td>\n",
       "      <td>8.487995</td>\n",
       "      <td>9972.952441</td>\n",
       "      <td>1.098664</td>\n",
       "      <td>0.468934</td>\n",
       "    </tr>\n",
       "    <tr>\n",
       "      <td>min</td>\n",
       "      <td>0.000000</td>\n",
       "      <td>18.000000</td>\n",
       "      <td>5300.000000</td>\n",
       "      <td>0.000000</td>\n",
       "      <td>0.000000</td>\n",
       "    </tr>\n",
       "    <tr>\n",
       "      <td>25%</td>\n",
       "      <td>0.000000</td>\n",
       "      <td>24.000000</td>\n",
       "      <td>33200.000000</td>\n",
       "      <td>0.000000</td>\n",
       "      <td>0.000000</td>\n",
       "    </tr>\n",
       "    <tr>\n",
       "      <td>50%</td>\n",
       "      <td>0.000000</td>\n",
       "      <td>30.000000</td>\n",
       "      <td>40200.000000</td>\n",
       "      <td>1.000000</td>\n",
       "      <td>0.000000</td>\n",
       "    </tr>\n",
       "    <tr>\n",
       "      <td>75%</td>\n",
       "      <td>1.000000</td>\n",
       "      <td>37.000000</td>\n",
       "      <td>46600.000000</td>\n",
       "      <td>2.000000</td>\n",
       "      <td>0.000000</td>\n",
       "    </tr>\n",
       "    <tr>\n",
       "      <td>max</td>\n",
       "      <td>1.000000</td>\n",
       "      <td>65.000000</td>\n",
       "      <td>79000.000000</td>\n",
       "      <td>6.000000</td>\n",
       "      <td>5.000000</td>\n",
       "    </tr>\n",
       "  </tbody>\n",
       "</table>\n",
       "</div>"
      ],
      "text/plain": [
       "               sex          age        salary  family_members  \\\n",
       "count  4847.000000  4847.000000   4847.000000     4847.000000   \n",
       "mean      0.498453    31.023932  39895.811223        1.203425   \n",
       "std       0.500049     8.487995   9972.952441        1.098664   \n",
       "min       0.000000    18.000000   5300.000000        0.000000   \n",
       "25%       0.000000    24.000000  33200.000000        0.000000   \n",
       "50%       0.000000    30.000000  40200.000000        1.000000   \n",
       "75%       1.000000    37.000000  46600.000000        2.000000   \n",
       "max       1.000000    65.000000  79000.000000        6.000000   \n",
       "\n",
       "       insurance_payments  \n",
       "count         4847.000000  \n",
       "mean             0.152259  \n",
       "std              0.468934  \n",
       "min              0.000000  \n",
       "25%              0.000000  \n",
       "50%              0.000000  \n",
       "75%              0.000000  \n",
       "max              5.000000  "
      ]
     },
     "execution_count": 10,
     "metadata": {},
     "output_type": "execute_result"
    }
   ],
   "source": [
    "data.describe()"
   ]
  },
  {
   "cell_type": "markdown",
   "metadata": {},
   "source": [
    "Теперь, когда данные подготовлены, построим графики, чтобы увидеть распределения по признакам:"
   ]
  },
  {
   "cell_type": "code",
   "execution_count": 11,
   "metadata": {},
   "outputs": [
    {
     "data": {
      "text/plain": [
       "Text(0.5, 0, 'Пол')"
      ]
     },
     "execution_count": 11,
     "metadata": {},
     "output_type": "execute_result"
    },
    {
     "data": {
      "image/png": "[encoded data removed]",
      "text/plain": [
       "<Figure size 360x360 with 1 Axes>"
      ]
     },
     "metadata": {},
     "output_type": "display_data"
    }
   ],
   "source": [
    "sns.set()\n",
    "fig, ax = plt.subplots(figsize=(5, 5))\n",
    "sns.countplot(x='sex', data=data)\n",
    "ax.set_title('Распределение по полу', size=15)\n",
    "plt.ylabel('Количество')\n",
    "plt.xlabel('Пол')"
   ]
  },
  {
   "cell_type": "code",
   "execution_count": 12,
   "metadata": {},
   "outputs": [
    {
     "data": {
      "text/plain": [
       "Text(0.5, 0, 'Возраст клиента')"
      ]
     },
     "execution_count": 12,
     "metadata": {},
     "output_type": "execute_result"
    },
    {
     "data": {
      "image/png": "[encoded data removed]",
      "text/plain": [
       "<Figure size 864x360 with 1 Axes>"
      ]
     },
     "metadata": {},
     "output_type": "display_data"
    }
   ],
   "source": [
    "fig, ax = plt.subplots(figsize=(12, 5))\n",
    "sns.countplot(x='age', data=data)\n",
    "ax.set_title('Распределение по возрасту', size=15)\n",
    "plt.ylabel('Количество клиентов')\n",
    "plt.xlabel('Возраст клиента')"
   ]
  },
  {
   "cell_type": "code",
   "execution_count": 13,
   "metadata": {},
   "outputs": [
    {
     "data": {
      "text/plain": [
       "Text(0, 0.5, 'Количество клиентов')"
      ]
     },
     "execution_count": 13,
     "metadata": {},
     "output_type": "execute_result"
    },
    {
     "data": {
      "image/png": "[encoded data removed]",
      "text/plain": [
       "<Figure size 864x360 with 1 Axes>"
      ]
     },
     "metadata": {},
     "output_type": "display_data"
    }
   ],
   "source": [
    "fig, ax = plt.subplots(figsize=(12, 5))\n",
    "sns.countplot(x='family_members', data=data)\n",
    "ax.set_title('Распределение по членам семьи', size=15)\n",
    "plt.xlabel('Количество членов семьи клиента')\n",
    "plt.ylabel('Количество клиентов')"
   ]
  },
  {
   "cell_type": "code",
   "execution_count": 14,
   "metadata": {},
   "outputs": [
    {
     "data": {
      "text/plain": [
       "Text(0, 0.5, 'Количество клиентов')"
      ]
     },
     "execution_count": 14,
     "metadata": {},
     "output_type": "execute_result"
    },
    {
     "data": {
      "image/png": "[encoded data removed]",
      "text/plain": [
       "<Figure size 864x360 with 1 Axes>"
      ]
     },
     "metadata": {},
     "output_type": "display_data"
    }
   ],
   "source": [
    "fig, ax = plt.subplots(figsize=(12, 5))\n",
    "sns.countplot(x='insurance_payments', data=data)\n",
    "ax.set_title('Распределение по страховым выплатам', size=15)\n",
    "plt.xlabel('Количество страховых выплат на одного клиента')\n",
    "plt.ylabel('Количество клиентов')"
   ]
  },
  {
   "cell_type": "code",
   "execution_count": 15,
   "metadata": {},
   "outputs": [
    {
     "data": {
      "text/plain": [
       "Text(0.5, 0, 'Доход клиента')"
      ]
     },
     "execution_count": 15,
     "metadata": {},
     "output_type": "execute_result"
    },
    {
     "data": {
      "image/png": "[encoded data removed]",
      "text/plain": [
       "<Figure size 864x360 with 1 Axes>"
      ]
     },
     "metadata": {},
     "output_type": "display_data"
    }
   ],
   "source": [
    "fig, ax = plt.subplots(figsize=(12, 5))\n",
    "sns.distplot(data['salary'])\n",
    "ax.set_title('Распределение по зарплате')\n",
    "plt.ylabel('Плотность частоты')\n",
    "plt.xlabel('Доход клиента')"
   ]
  },
  {
   "cell_type": "markdown",
   "metadata": {},
   "source": [
    "Проверим также корреляцию между признаками:"
   ]
  },
  {
   "cell_type": "code",
   "execution_count": 16,
   "metadata": {},
   "outputs": [
    {
     "data": {
      "text/html": [
       "<div>\n",
       "<style scoped>\n",
       "    .dataframe tbody tr th:only-of-type {\n",
       "        vertical-align: middle;\n",
       "    }\n",
       "\n",
       "    .dataframe tbody tr th {\n",
       "        vertical-align: top;\n",
       "    }\n",
       "\n",
       "    .dataframe thead th {\n",
       "        text-align: right;\n",
       "    }\n",
       "</style>\n",
       "<table border=\"1\" class=\"dataframe\">\n",
       "  <thead>\n",
       "    <tr style=\"text-align: right;\">\n",
       "      <th></th>\n",
       "      <th>sex</th>\n",
       "      <th>age</th>\n",
       "      <th>salary</th>\n",
       "      <th>family_members</th>\n",
       "      <th>insurance_payments</th>\n",
       "    </tr>\n",
       "  </thead>\n",
       "  <tbody>\n",
       "    <tr>\n",
       "      <td>sex</td>\n",
       "      <td>1.000000</td>\n",
       "      <td>0.001953</td>\n",
       "      <td>0.015456</td>\n",
       "      <td>-0.007315</td>\n",
       "      <td>0.011565</td>\n",
       "    </tr>\n",
       "    <tr>\n",
       "      <td>age</td>\n",
       "      <td>0.001953</td>\n",
       "      <td>1.000000</td>\n",
       "      <td>-0.017386</td>\n",
       "      <td>-0.009064</td>\n",
       "      <td>0.654964</td>\n",
       "    </tr>\n",
       "    <tr>\n",
       "      <td>salary</td>\n",
       "      <td>0.015456</td>\n",
       "      <td>-0.017386</td>\n",
       "      <td>1.000000</td>\n",
       "      <td>-0.031687</td>\n",
       "      <td>-0.013123</td>\n",
       "    </tr>\n",
       "    <tr>\n",
       "      <td>family_members</td>\n",
       "      <td>-0.007315</td>\n",
       "      <td>-0.009064</td>\n",
       "      <td>-0.031687</td>\n",
       "      <td>1.000000</td>\n",
       "      <td>-0.039303</td>\n",
       "    </tr>\n",
       "    <tr>\n",
       "      <td>insurance_payments</td>\n",
       "      <td>0.011565</td>\n",
       "      <td>0.654964</td>\n",
       "      <td>-0.013123</td>\n",
       "      <td>-0.039303</td>\n",
       "      <td>1.000000</td>\n",
       "    </tr>\n",
       "  </tbody>\n",
       "</table>\n",
       "</div>"
      ],
      "text/plain": [
       "                         sex       age    salary  family_members  \\\n",
       "sex                 1.000000  0.001953  0.015456       -0.007315   \n",
       "age                 0.001953  1.000000 -0.017386       -0.009064   \n",
       "salary              0.015456 -0.017386  1.000000       -0.031687   \n",
       "family_members     -0.007315 -0.009064 -0.031687        1.000000   \n",
       "insurance_payments  0.011565  0.654964 -0.013123       -0.039303   \n",
       "\n",
       "                    insurance_payments  \n",
       "sex                           0.011565  \n",
       "age                           0.654964  \n",
       "salary                       -0.013123  \n",
       "family_members               -0.039303  \n",
       "insurance_payments            1.000000  "
      ]
     },
     "execution_count": 16,
     "metadata": {},
     "output_type": "execute_result"
    }
   ],
   "source": [
    "data.corr()"
   ]
  },
  {
   "cell_type": "markdown",
   "metadata": {},
   "source": [
    "**Вывод:**"
   ]
  },
  {
   "cell_type": "markdown",
   "metadata": {},
   "source": [
    "Рассмотрим полученную информацию.\n",
    "\n",
    "Датасет data состоит из 5 столбцов (признаков) и 5000 строк (объектов). Пропущенные значения в датасете отсутствуют.\n",
    "\n",
    "Все признаки - количественные. Признаки \"пол\", \"члены семьи\", \"страховые выплаты\" имеют целочисленный тип данных; признаки \"возраст\" и \"зарплата\" - вещественный.\n",
    "\n",
    "Выполнены следующие преобразования данных:\n",
    "<div><li>выполнена замена наименования столбцов латинским алфавитом;</li></div>\n",
    "<div><li>исключены дубликаты из датасета;</li></div>\n",
    "<div><li>в столбцах \"age\" и \"salary\" вещественный тип данных заменен на целочисленный.</li></div>\n",
    " \n",
    "По результатам изечения признаков сделаны следующие выводы:\n",
    "<div><li>присутствует корреляция 0.65 между признаками \"age\" и \"insurance_payments\";</li></div>\n",
    "<div><li>количество клиентов мужского и женского пола приблизительно одинаково;</li></div>\n",
    "<div><li>количество клиентов в возрасте от 19 до 36 лет сравнительно одинаково, после 36 лет количество клиентов постепенно снижается с увеличением возраста;</li></div>\n",
    "<div><li>в основном, преобладают клиенты с одним членом семьи, на втором месте следуют \"клиенты-одиночки\";</li></div>\n",
    "<div><li>подавляющее количество клиентов не имеет страховых выплат;</li></div>\n",
    "<div><li>половина клиентов имеет доход от 33.2 до 46.6 тыс. рублей в месяц, средний доход - 40.2 тыс. рублей в месяц.</li></div>"
   ]
  },
  {
   "cell_type": "markdown",
   "metadata": {},
   "source": [
    "## Умножение матриц"
   ]
  },
  {
   "cell_type": "markdown",
   "metadata": {},
   "source": [
    "В этом задании вы можете записывать формулы в *Jupyter Notebook.*\n",
    "\n",
    "Чтобы записать формулу внутри текста, окружите её символами доллара \\\\$; если снаружи —  двойными символами \\\\$\\\\$. Эти формулы записываются на языке вёрстки *LaTeX.* \n",
    "\n",
    "Для примера мы записали формулы линейной регрессии. Можете их скопировать и отредактировать, чтобы решить задачу.\n",
    "\n",
    "Работать в *LaTeX* необязательно."
   ]
  },
  {
   "cell_type": "markdown",
   "metadata": {},
   "source": [
    "Обозначения:\n",
    "\n",
    "- $X$ — матрица признаков (нулевой столбец состоит из единиц)\n",
    "\n",
    "- $y$ — вектор целевого признака\n",
    "\n",
    "- $P$ — матрица, на которую умножаются признаки\n",
    "\n",
    "- $w$ — вектор весов линейной регрессии (нулевой элемент равен сдвигу)"
   ]
  },
  {
   "cell_type": "markdown",
   "metadata": {},
   "source": [
    "Предсказания:\n",
    "\n",
    "$$\n",
    "a = Xw\n",
    "$$\n",
    "\n",
    "Задача обучения:\n",
    "\n",
    "$$\n",
    "w = \\arg\\min_w MSE(Xw, y)\n",
    "$$\n",
    "\n",
    "Формула обучения:\n",
    "\n",
    "$$\n",
    "w = (X^T X)^{-1} X^T y\n",
    "$$"
   ]
  },
  {
   "cell_type": "markdown",
   "metadata": {},
   "source": [
    "**Ответ:** качество линейной регрессии не изменится.\n",
    "\n",
    "**Обоснование:**\n",
    "\n",
    "Новая матрица признаков получается умножением исходной $Х$ на рандомную($P$), формула предсказания примет вид:\n",
    "\n",
    "$$\n",
    "a = X P w\n",
    "$$\n",
    "Перепишем формулу нахождения весов $w'$:\n",
    "\n",
    "$$\n",
    "w' = ((XP)^T XP)^{-1} (XP)^T y\n",
    "$$\n",
    "Раскроем скобки:$$\n",
    "w' = ((X^T P^T XP)^{-1} X^T P^T y\n",
    "$$\n",
    "\n",
    "$(P^T)^{-1} P^T$ - единичная матрица $E$. При умножении любой матрицы Р на единичную (или наоборот), получится эта же матрица Р, поэтому запись можно сократить:\n",
    "\n",
    "$$\n",
    "w' =  P^{-1}(X^T X)^{-1} X^T y\n",
    "$$\n",
    "Таким образом, новые веса $w'$ выражаются через исходные $w$ следующим образом:\n",
    "$$\n",
    "w' =  P^{-1} w\n",
    "$$"
   ]
  },
  {
   "cell_type": "markdown",
   "metadata": {},
   "source": [
    "**Вывод**"
   ]
  },
  {
   "cell_type": "markdown",
   "metadata": {},
   "source": [
    "Параметры $w'$ изменились под новые значения, т.е. признаки исходной матрицы и преобразованной выражаются через коэффициенты(веса w), поэтому качество линейной регресии не изменится."
   ]
  },
  {
   "cell_type": "markdown",
   "metadata": {},
   "source": [
    "## Алгоритм преобразования"
   ]
  },
  {
   "cell_type": "markdown",
   "metadata": {},
   "source": [
    "**Алгоритм**\n",
    "\n",
    "<div>1. Cоздадим случайную матрицу A методом make_spd_matrix;</div>\n",
    "\n",
    "<div>2. Методом np.linalg.inv() проверим матрицу А на обратимость и получим обратную матрицу.</div>\n",
    "\n",
    "<div>3. Матрица А будет ключом кодирования. Умножим матрицу признаков X на полученную матрицу А и получим матрицу B с закодированными данными о клиентах:</div>\n",
    "\n",
    "$$ B = X @ A $$"
   ]
  },
  {
   "cell_type": "markdown",
   "metadata": {},
   "source": [
    "**Обоснование**\n",
    "\n",
    "<div>Т.к. качество модели не изменится, если матрицу признаков умножать на обратимую модель, то такой алгоритм позволит защитить персональную информацию клиентов и не повлияет на работу модели.</div>"
   ]
  },
  {
   "cell_type": "markdown",
   "metadata": {},
   "source": [
    "## Проверка алгоритма"
   ]
  },
  {
   "cell_type": "markdown",
   "metadata": {},
   "source": [
    "### Преобразование данных"
   ]
  },
  {
   "cell_type": "markdown",
   "metadata": {},
   "source": [
    "Разделим данные на признаки и целевой признак:"
   ]
  },
  {
   "cell_type": "code",
   "execution_count": 17,
   "metadata": {},
   "outputs": [],
   "source": [
    "features = data.drop('insurance_payments', axis=1)\n",
    "target = data['insurance_payments']"
   ]
  },
  {
   "cell_type": "code",
   "execution_count": 18,
   "metadata": {},
   "outputs": [
    {
     "name": "stdout",
     "output_type": "stream",
     "text": [
      "Признаки (4847, 4)\n",
      "Целевой признак (4847,)\n"
     ]
    }
   ],
   "source": [
    "print('Признаки', features.shape)\n",
    "print('Целевой признак', target.shape)"
   ]
  },
  {
   "cell_type": "markdown",
   "metadata": {},
   "source": [
    "Создадим класс LinearRegression и напишем методы fit() и predict().\n",
    "<div>Метод fit() примет на вход признаки и целевой признак, вернет веса w.</div>\n",
    "<div>Метод predict() примет признаки, а вернёт предсказания.</div>"
   ]
  },
  {
   "cell_type": "code",
   "execution_count": 19,
   "metadata": {},
   "outputs": [],
   "source": [
    "class LinearRegression:\n",
    "    def fit(self, train_features, train_target):\n",
    "        X = np.concatenate((np.ones((train_features.shape[0], 1)), train_features), axis=1)\n",
    "        y = train_target\n",
    "        w = np.linalg.inv(X.T.dot(X)).dot(X.T).dot(y)\n",
    "        self.w = w[1:]\n",
    "        self.w0 = w[0]\n",
    "\n",
    "    def predict(self, test_features):\n",
    "        return test_features.dot(self.w) + self.w0"
   ]
  },
  {
   "cell_type": "markdown",
   "metadata": {},
   "source": [
    "Создадим модель, сохраним её в переменной model и обучим. Найдем её предсказания на обучающей выборке и сохраним их в переменной predictions. Напечатаем на экране веса и значение метрики R2. Она вычисляется по MSE."
   ]
  },
  {
   "cell_type": "code",
   "execution_count": 20,
   "metadata": {},
   "outputs": [
    {
     "name": "stdout",
     "output_type": "stream",
     "text": [
      "0.4302010046633358\n"
     ]
    }
   ],
   "source": [
    "model = LinearRegression()\n",
    "model.fit(features, target)\n",
    "predictions = model.predict(features)\n",
    "print(r2_score(target, predictions))"
   ]
  },
  {
   "cell_type": "markdown",
   "metadata": {},
   "source": [
    "Создадим матрицу признаков:"
   ]
  },
  {
   "cell_type": "code",
   "execution_count": 21,
   "metadata": {},
   "outputs": [
    {
     "data": {
      "text/plain": [
       "array([[    1,    41, 49600,     1],\n",
       "       [    0,    46, 38000,     1],\n",
       "       [    0,    29, 21000,     0],\n",
       "       ...,\n",
       "       [    0,    20, 33900,     2],\n",
       "       [    1,    22, 32700,     3],\n",
       "       [    1,    28, 40600,     1]])"
      ]
     },
     "execution_count": 21,
     "metadata": {},
     "output_type": "execute_result"
    }
   ],
   "source": [
    "features_matrix = features.values\n",
    "features_matrix"
   ]
  },
  {
   "cell_type": "markdown",
   "metadata": {},
   "source": [
    "Создадим случайную матрицу методом make_spd_matrix, размером по количеству столбцов features:"
   ]
  },
  {
   "cell_type": "code",
   "execution_count": 22,
   "metadata": {},
   "outputs": [
    {
     "data": {
      "text/plain": [
       "array([[ 0.47243659,  0.36201499,  0.23624413, -0.20756552],\n",
       "       [ 0.36201499,  3.26723888,  1.70966795, -0.39838002],\n",
       "       [ 0.23624413,  1.70966795,  1.32704651, -0.17893753],\n",
       "       [-0.20756552, -0.39838002, -0.17893753,  0.35460046]])"
      ]
     },
     "execution_count": 22,
     "metadata": {},
     "output_type": "execute_result"
    }
   ],
   "source": [
    "random_matrix = make_spd_matrix(n_dim=4, random_state=123)\n",
    "random_matrix"
   ]
  },
  {
   "cell_type": "markdown",
   "metadata": {},
   "source": [
    "Проверим созданную случайную матрицу на обратимость:"
   ]
  },
  {
   "cell_type": "code",
   "execution_count": 23,
   "metadata": {},
   "outputs": [
    {
     "data": {
      "text/plain": [
       "array([[ 2.97675307,  0.09601407, -0.43363796,  1.63149048],\n",
       "       [ 0.09601407,  1.02415391, -1.2595126 ,  0.57122764],\n",
       "       [-0.43363796, -1.2595126 ,  2.39108163, -0.46226306],\n",
       "       [ 1.63149048,  0.57122764, -0.46226306,  4.18355526]])"
      ]
     },
     "execution_count": 23,
     "metadata": {},
     "output_type": "execute_result"
    }
   ],
   "source": [
    "np.linalg.inv(random_matrix)"
   ]
  },
  {
   "cell_type": "markdown",
   "metadata": {},
   "source": [
    "При скалярном умножении исходной матрицы на обратную, должна получиться единичная матрица:"
   ]
  },
  {
   "cell_type": "code",
   "execution_count": 24,
   "metadata": {},
   "outputs": [
    {
     "data": {
      "text/plain": [
       "array([[ 1.00000000e+00, -4.34368061e-18,  4.90850932e-17,\n",
       "         9.04884693e-18],\n",
       "       [-1.76502391e-16,  1.00000000e+00,  2.98740156e-16,\n",
       "         1.55106407e-16],\n",
       "       [ 1.72841510e-17,  1.11816741e-16,  1.00000000e+00,\n",
       "         9.24801154e-17],\n",
       "       [ 8.21978570e-17,  1.33358218e-17,  3.30120090e-17,\n",
       "         1.00000000e+00]])"
      ]
     },
     "execution_count": 24,
     "metadata": {},
     "output_type": "execute_result"
    }
   ],
   "source": [
    "random_matrix @ np.linalg.inv(random_matrix)"
   ]
  },
  {
   "cell_type": "markdown",
   "metadata": {},
   "source": [
    "Матрицу признаков умножим на обратимую матрицу random_matrix:"
   ]
  },
  {
   "cell_type": "code",
   "execution_count": 25,
   "metadata": {},
   "outputs": [
    {
     "data": {
      "text/plain": [
       "array([[11732.81637505, 84933.45064883, 65891.66076973, -8891.48812605],\n",
       "       [ 8993.72209566, 65117.27663171, 50506.23330695, -6817.59709104],\n",
       "       [ 4971.62518218, 35997.77683511, 27917.55715724, -3769.24118958],\n",
       "       ...,\n",
       "       [ 8015.50120409, 58022.29145405, 45020.71229678, -6073.24072949],\n",
       "       [ 7732.99714812, 55977.18802921, 43431.73312289, -5859.16541635],\n",
       "       [ 9601.91300269, 69503.96501156, 53926.01646352, -7275.87139908]])"
      ]
     },
     "execution_count": 25,
     "metadata": {},
     "output_type": "execute_result"
    }
   ],
   "source": [
    "encoded_features = features_matrix @ random_matrix\n",
    "encoded_features"
   ]
  },
  {
   "cell_type": "markdown",
   "metadata": {},
   "source": [
    "### Обучение модели"
   ]
  },
  {
   "cell_type": "markdown",
   "metadata": {},
   "source": [
    "**Обучение модели на исходных данных**"
   ]
  },
  {
   "cell_type": "markdown",
   "metadata": {},
   "source": [
    "Разделим исходные данные на обучающую и валидационную выборки:"
   ]
  },
  {
   "cell_type": "code",
   "execution_count": 26,
   "metadata": {},
   "outputs": [],
   "source": [
    "features_train, features_valid, target_train, target_valid = train_test_split(\n",
    "    features, target, train_size=0.75, test_size=0.25, random_state=123)"
   ]
  },
  {
   "cell_type": "code",
   "execution_count": 27,
   "metadata": {},
   "outputs": [
    {
     "name": "stdout",
     "output_type": "stream",
     "text": [
      "features_train: (3635, 4)\n",
      "target_train: (3635,)\n",
      "features_valid: (1212, 4)\n",
      "target_valid: (1212,)\n"
     ]
    }
   ],
   "source": [
    "print('features_train:', features_train.shape) \n",
    "print('target_train:', target_train.shape)\n",
    "\n",
    "print('features_valid:', features_valid.shape)\n",
    "print('target_valid:', target_valid.shape)"
   ]
  },
  {
   "cell_type": "markdown",
   "metadata": {},
   "source": [
    "Обучим модель линейной регрессии и посчитаем метрику качества R2:"
   ]
  },
  {
   "cell_type": "code",
   "execution_count": 28,
   "metadata": {},
   "outputs": [
    {
     "name": "stdout",
     "output_type": "stream",
     "text": [
      "Метрика R2 до преобразования данных: 0.4097895814653213\n"
     ]
    }
   ],
   "source": [
    "model = LinearRegression()\n",
    "model.fit(features_train, target_train)\n",
    "predictions = model.predict(features_valid)\n",
    "r2 = r2_score(target_valid, predictions)\n",
    "print('Метрика R2 до преобразования данных:', r2)"
   ]
  },
  {
   "cell_type": "markdown",
   "metadata": {},
   "source": [
    "**Обучение модели на преобразованных данных**"
   ]
  },
  {
   "cell_type": "markdown",
   "metadata": {},
   "source": [
    "Проверим, что качество линейной регрессии из sklearn не отличается до и после преобразования:"
   ]
  },
  {
   "cell_type": "code",
   "execution_count": 29,
   "metadata": {},
   "outputs": [],
   "source": [
    "features_train_encoded, features_valid_encoded, target_train_encoded, target_valid_encoded = train_test_split(\n",
    "    encoded_features, target, train_size=0.75, test_size=0.25, random_state=123)"
   ]
  },
  {
   "cell_type": "code",
   "execution_count": 30,
   "metadata": {},
   "outputs": [
    {
     "name": "stdout",
     "output_type": "stream",
     "text": [
      "features_train_encoded: (3635, 4)\n",
      "target_train_encoded: (3635,)\n",
      "features_valid_encoded: (1212, 4)\n",
      "target_valid_encoded (1212,)\n"
     ]
    }
   ],
   "source": [
    "print('features_train_encoded:', features_train_encoded.shape) \n",
    "print('target_train_encoded:', target_train_encoded.shape)\n",
    "\n",
    "print('features_valid_encoded:', features_valid_encoded.shape)\n",
    "print('target_valid_encoded', target_valid_encoded.shape)"
   ]
  },
  {
   "cell_type": "code",
   "execution_count": 31,
   "metadata": {},
   "outputs": [
    {
     "name": "stdout",
     "output_type": "stream",
     "text": [
      "Метрика R2 после преобразования данных: 0.40978958087622175\n"
     ]
    }
   ],
   "source": [
    "model_encoded = LinearRegression()\n",
    "model_encoded.fit(features_train_encoded, target_train_encoded)\n",
    "predictions_encoded = model_encoded.predict(features_valid_encoded)\n",
    "r2_encoded = r2_score(target_valid_encoded, predictions_encoded)\n",
    "print('Метрика R2 после преобразования данных:', r2_encoded)"
   ]
  },
  {
   "cell_type": "markdown",
   "metadata": {},
   "source": [
    "**Вывод**"
   ]
  },
  {
   "cell_type": "markdown",
   "metadata": {},
   "source": [
    "Метрика R2 до преобразования данных: 0.4097895814653213\n",
    "\n",
    "Метрика R2 после преобразования данных: 0.40978958087622175\n",
    "\n",
    "Значения метрик R2 до и после преобразования одинаково, это означает, что качество модели линейной регрессии после преобразования данных не изменилось."
   ]
  },
  {
   "cell_type": "markdown",
   "metadata": {},
   "source": [
    "## Общий вывод"
   ]
  },
  {
   "cell_type": "markdown",
   "metadata": {},
   "source": [
    "В данной проектной работе на основании предоставленных данных разработан алгоритм для защиты данных клиентов страховой компании «Хоть потоп».\n",
    "\n",
    "Выполнены следующие этапы:\n",
    "\n",
    "<li>на первом этапе загружены и изучены данные, выполнена предобработка признаков, построены графики распредлеления признаков.</li>\n",
    "\n",
    "<li>на втором этапе обосновано, почему качество линейной регрессии не изменяется при умножении признаков на обратимую матрицу.</li>\n",
    "\n",
    "<li>на третьем этапе предложен и обоснован алгоритм преобразования данных для решения задачи.</li>\n",
    "\n",
    "<li>на четвертом этапе запрограммирован алгоритм с применением матричных операций. Проверено, что качество линейной регрессии из sklearn не отличается до и после преобразования.</li>"
   ]
  }
 ],
 "metadata": {
  "ExecuteTimeLog": [
   {
    "duration": 754,
    "start_time": "2021-06-28T14:45:57.003Z"
   },
   {
    "duration": 24,
    "start_time": "2021-06-28T14:46:31.893Z"
   },
   {
    "duration": 25,
    "start_time": "2021-06-28T14:46:46.202Z"
   },
   {
    "duration": 12,
    "start_time": "2021-06-28T14:47:11.410Z"
   },
   {
    "duration": 373,
    "start_time": "2021-07-14T16:06:13.910Z"
   },
   {
    "duration": 1382,
    "start_time": "2021-07-14T16:06:19.270Z"
   },
   {
    "duration": 19,
    "start_time": "2021-07-14T16:06:20.656Z"
   },
   {
    "duration": 18,
    "start_time": "2021-07-14T16:06:20.677Z"
   },
   {
    "duration": 12,
    "start_time": "2021-07-14T16:06:20.697Z"
   },
   {
    "duration": 19,
    "start_time": "2021-07-14T16:06:32.509Z"
   },
   {
    "duration": 13,
    "start_time": "2021-07-14T16:06:38.409Z"
   },
   {
    "duration": 8,
    "start_time": "2021-07-14T16:06:45.541Z"
   },
   {
    "duration": 9,
    "start_time": "2021-07-14T16:20:16.898Z"
   },
   {
    "duration": 7,
    "start_time": "2021-07-14T16:23:54.100Z"
   },
   {
    "duration": 4,
    "start_time": "2021-07-14T16:32:12.484Z"
   },
   {
    "duration": 8,
    "start_time": "2021-07-14T16:32:56.642Z"
   },
   {
    "duration": 1529,
    "start_time": "2021-07-14T16:33:38.818Z"
   },
   {
    "duration": 20,
    "start_time": "2021-07-14T16:33:40.349Z"
   },
   {
    "duration": 21,
    "start_time": "2021-07-14T16:33:40.373Z"
   },
   {
    "duration": 10,
    "start_time": "2021-07-14T16:33:40.398Z"
   },
   {
    "duration": 394,
    "start_time": "2021-07-14T16:33:40.410Z"
   },
   {
    "duration": 1161,
    "start_time": "2021-07-14T16:33:39.645Z"
   },
   {
    "duration": 1160,
    "start_time": "2021-07-14T16:33:39.648Z"
   },
   {
    "duration": 1152,
    "start_time": "2021-07-14T16:33:39.657Z"
   },
   {
    "duration": 1150,
    "start_time": "2021-07-14T16:33:39.660Z"
   },
   {
    "duration": 1465,
    "start_time": "2021-07-14T16:33:56.235Z"
   },
   {
    "duration": 21,
    "start_time": "2021-07-14T16:33:57.702Z"
   },
   {
    "duration": 30,
    "start_time": "2021-07-14T16:33:57.727Z"
   },
   {
    "duration": 9,
    "start_time": "2021-07-14T16:33:57.760Z"
   },
   {
    "duration": 5,
    "start_time": "2021-07-14T16:33:57.772Z"
   },
   {
    "duration": 14,
    "start_time": "2021-07-14T16:33:57.780Z"
   },
   {
    "duration": 8,
    "start_time": "2021-07-14T16:33:57.797Z"
   },
   {
    "duration": 424,
    "start_time": "2021-07-14T16:33:57.809Z"
   },
   {
    "duration": 1170,
    "start_time": "2021-07-14T16:33:57.065Z"
   },
   {
    "duration": 6,
    "start_time": "2021-07-14T16:34:04.586Z"
   },
   {
    "duration": 8,
    "start_time": "2021-07-14T16:34:06.200Z"
   },
   {
    "duration": 669,
    "start_time": "2021-07-14T16:40:08.665Z"
   },
   {
    "duration": 272,
    "start_time": "2021-07-14T16:40:22.665Z"
   },
   {
    "duration": 281,
    "start_time": "2021-07-14T16:40:31.986Z"
   },
   {
    "duration": 279,
    "start_time": "2021-07-14T16:41:05.956Z"
   },
   {
    "duration": 267,
    "start_time": "2021-07-14T16:41:24.477Z"
   },
   {
    "duration": 281,
    "start_time": "2021-07-14T16:41:36.007Z"
   },
   {
    "duration": 356,
    "start_time": "2021-07-14T16:42:18.483Z"
   },
   {
    "duration": 276,
    "start_time": "2021-07-14T16:42:22.870Z"
   },
   {
    "duration": 273,
    "start_time": "2021-07-14T16:42:32.641Z"
   },
   {
    "duration": 238,
    "start_time": "2021-07-14T16:42:39.789Z"
   },
   {
    "duration": 1023,
    "start_time": "2021-07-14T16:43:24.982Z"
   },
   {
    "duration": 1114,
    "start_time": "2021-07-14T16:44:27.930Z"
   },
   {
    "duration": 241,
    "start_time": "2021-07-14T16:44:44.076Z"
   },
   {
    "duration": 1002,
    "start_time": "2021-07-14T16:45:05.538Z"
   },
   {
    "duration": 1078,
    "start_time": "2021-07-14T16:45:13.791Z"
   },
   {
    "duration": 20098,
    "start_time": "2021-07-14T16:46:19.467Z"
   },
   {
    "duration": 20227,
    "start_time": "2021-07-14T16:47:50.345Z"
   },
   {
    "duration": 982,
    "start_time": "2021-07-14T16:49:14.453Z"
   },
   {
    "duration": 372,
    "start_time": "2021-07-14T16:50:09.448Z"
   },
   {
    "duration": 357,
    "start_time": "2021-07-14T16:50:35.511Z"
   },
   {
    "duration": 344,
    "start_time": "2021-07-14T16:52:37.368Z"
   },
   {
    "duration": 356,
    "start_time": "2021-07-14T16:53:12.514Z"
   },
   {
    "duration": 339,
    "start_time": "2021-07-14T16:53:24.099Z"
   },
   {
    "duration": 539,
    "start_time": "2021-07-14T16:53:36.845Z"
   },
   {
    "duration": 1011,
    "start_time": "2021-07-14T16:53:49.187Z"
   },
   {
    "duration": 237,
    "start_time": "2021-07-14T16:54:06.144Z"
   },
   {
    "duration": 992,
    "start_time": "2021-07-14T16:54:57.281Z"
   },
   {
    "duration": 620,
    "start_time": "2021-07-14T16:55:10.110Z"
   },
   {
    "duration": 576,
    "start_time": "2021-07-14T16:55:21.756Z"
   },
   {
    "duration": 563,
    "start_time": "2021-07-14T16:56:18.933Z"
   },
   {
    "duration": 247,
    "start_time": "2021-07-14T16:57:05.541Z"
   },
   {
    "duration": 33,
    "start_time": "2021-07-14T16:57:24.316Z"
   },
   {
    "duration": 13,
    "start_time": "2021-07-14T17:01:17.536Z"
   },
   {
    "duration": 5,
    "start_time": "2021-07-14T17:25:05.696Z"
   },
   {
    "duration": 6,
    "start_time": "2021-07-14T17:25:06.595Z"
   },
   {
    "duration": 6,
    "start_time": "2021-07-14T17:32:25.512Z"
   },
   {
    "duration": 61,
    "start_time": "2021-07-14T17:33:44.901Z"
   },
   {
    "duration": 267,
    "start_time": "2021-07-14T17:35:29.433Z"
   },
   {
    "duration": 26,
    "start_time": "2021-07-14T17:36:36.427Z"
   },
   {
    "duration": 7,
    "start_time": "2021-07-14T17:36:42.055Z"
   },
   {
    "duration": 6,
    "start_time": "2021-07-14T17:37:44.716Z"
   },
   {
    "duration": 6,
    "start_time": "2021-07-14T17:39:12.877Z"
   },
   {
    "duration": 7,
    "start_time": "2021-07-14T17:39:31.762Z"
   },
   {
    "duration": 6,
    "start_time": "2021-07-14T17:41:34.972Z"
   },
   {
    "duration": 1430,
    "start_time": "2021-07-14T17:41:58.426Z"
   },
   {
    "duration": 21,
    "start_time": "2021-07-14T17:41:59.859Z"
   },
   {
    "duration": 17,
    "start_time": "2021-07-14T17:41:59.884Z"
   },
   {
    "duration": 10,
    "start_time": "2021-07-14T17:41:59.905Z"
   },
   {
    "duration": 4,
    "start_time": "2021-07-14T17:41:59.918Z"
   },
   {
    "duration": 38,
    "start_time": "2021-07-14T17:41:59.924Z"
   },
   {
    "duration": 9,
    "start_time": "2021-07-14T17:41:59.965Z"
   },
   {
    "duration": 7,
    "start_time": "2021-07-14T17:41:59.979Z"
   },
   {
    "duration": 11,
    "start_time": "2021-07-14T17:41:59.990Z"
   },
   {
    "duration": 80,
    "start_time": "2021-07-14T17:42:00.004Z"
   },
   {
    "duration": 276,
    "start_time": "2021-07-14T17:42:00.087Z"
   },
   {
    "duration": 1030,
    "start_time": "2021-07-14T17:42:00.367Z"
   },
   {
    "duration": 390,
    "start_time": "2021-07-14T17:42:01.399Z"
   },
   {
    "duration": 373,
    "start_time": "2021-07-14T17:42:01.792Z"
   },
   {
    "duration": 710,
    "start_time": "2021-07-14T17:42:02.168Z"
   },
   {
    "duration": 12,
    "start_time": "2021-07-14T17:42:02.881Z"
   },
   {
    "duration": 5,
    "start_time": "2021-07-14T17:42:02.896Z"
   },
   {
    "duration": 14,
    "start_time": "2021-07-14T17:42:02.903Z"
   },
   {
    "duration": 36,
    "start_time": "2021-07-14T17:42:02.919Z"
   },
   {
    "duration": 250,
    "start_time": "2021-07-14T17:42:02.958Z"
   },
   {
    "duration": 5,
    "start_time": "2021-07-14T17:42:03.211Z"
   },
   {
    "duration": 39,
    "start_time": "2021-07-14T17:42:03.218Z"
   },
   {
    "duration": 7,
    "start_time": "2021-07-14T17:42:03.262Z"
   },
   {
    "duration": 6,
    "start_time": "2021-07-14T17:42:03.272Z"
   },
   {
    "duration": 7,
    "start_time": "2021-07-14T17:42:58.201Z"
   },
   {
    "duration": 424,
    "start_time": "2021-07-14T17:46:26.524Z"
   },
   {
    "duration": 301,
    "start_time": "2021-07-14T17:46:42.561Z"
   },
   {
    "duration": 272,
    "start_time": "2021-07-14T17:47:40.764Z"
   },
   {
    "duration": 6,
    "start_time": "2021-07-14T17:47:56.630Z"
   },
   {
    "duration": 10,
    "start_time": "2021-07-14T17:48:02.969Z"
   },
   {
    "duration": 323,
    "start_time": "2021-07-14T18:15:28.934Z"
   },
   {
    "duration": 5,
    "start_time": "2021-07-14T18:16:24.048Z"
   },
   {
    "duration": 7,
    "start_time": "2021-07-14T18:16:30.021Z"
   },
   {
    "duration": 7,
    "start_time": "2021-07-14T18:16:58.040Z"
   },
   {
    "duration": 5,
    "start_time": "2021-07-14T18:17:03.224Z"
   },
   {
    "duration": 10,
    "start_time": "2021-07-14T18:18:40.355Z"
   },
   {
    "duration": 10,
    "start_time": "2021-07-14T18:18:42.900Z"
   },
   {
    "duration": 7,
    "start_time": "2021-07-14T18:20:30.421Z"
   },
   {
    "duration": 6,
    "start_time": "2021-07-14T18:20:53.134Z"
   },
   {
    "duration": 8,
    "start_time": "2021-07-14T18:21:08.647Z"
   },
   {
    "duration": 1377,
    "start_time": "2021-07-14T18:27:17.502Z"
   },
   {
    "duration": 20,
    "start_time": "2021-07-14T18:27:18.881Z"
   },
   {
    "duration": 18,
    "start_time": "2021-07-14T18:27:18.904Z"
   },
   {
    "duration": 20,
    "start_time": "2021-07-14T18:27:18.925Z"
   },
   {
    "duration": 7,
    "start_time": "2021-07-14T18:27:18.948Z"
   },
   {
    "duration": 19,
    "start_time": "2021-07-14T18:27:18.957Z"
   },
   {
    "duration": 15,
    "start_time": "2021-07-14T18:27:18.978Z"
   },
   {
    "duration": 6,
    "start_time": "2021-07-14T18:27:18.997Z"
   },
   {
    "duration": 11,
    "start_time": "2021-07-14T18:27:19.006Z"
   },
   {
    "duration": 52,
    "start_time": "2021-07-14T18:27:19.020Z"
   },
   {
    "duration": 261,
    "start_time": "2021-07-14T18:27:19.074Z"
   },
   {
    "duration": 986,
    "start_time": "2021-07-14T18:27:19.337Z"
   },
   {
    "duration": 382,
    "start_time": "2021-07-14T18:27:20.326Z"
   },
   {
    "duration": 374,
    "start_time": "2021-07-14T18:27:20.710Z"
   },
   {
    "duration": 578,
    "start_time": "2021-07-14T18:27:21.087Z"
   },
   {
    "duration": 13,
    "start_time": "2021-07-14T18:27:21.668Z"
   },
   {
    "duration": 7,
    "start_time": "2021-07-14T18:27:21.683Z"
   },
   {
    "duration": 10,
    "start_time": "2021-07-14T18:27:21.692Z"
   },
   {
    "duration": 7,
    "start_time": "2021-07-14T18:27:21.704Z"
   },
   {
    "duration": 291,
    "start_time": "2021-07-14T18:27:21.713Z"
   },
   {
    "duration": 6,
    "start_time": "2021-07-14T18:27:22.006Z"
   },
   {
    "duration": 12,
    "start_time": "2021-07-14T18:27:22.014Z"
   },
   {
    "duration": 28,
    "start_time": "2021-07-14T18:27:22.031Z"
   },
   {
    "duration": 9,
    "start_time": "2021-07-14T18:27:22.062Z"
   },
   {
    "duration": 89,
    "start_time": "2021-07-14T18:27:22.074Z"
   },
   {
    "duration": 90,
    "start_time": "2021-07-14T18:27:22.166Z"
   },
   {
    "duration": 5,
    "start_time": "2021-07-14T18:27:22.258Z"
   },
   {
    "duration": 12,
    "start_time": "2021-07-14T18:27:22.265Z"
   },
   {
    "duration": 469,
    "start_time": "2021-07-14T18:27:22.280Z"
   },
   {
    "duration": 1015,
    "start_time": "2021-07-14T18:27:21.736Z"
   },
   {
    "duration": 1014,
    "start_time": "2021-07-14T18:27:21.739Z"
   },
   {
    "duration": 6,
    "start_time": "2021-07-14T18:27:47.323Z"
   },
   {
    "duration": 7,
    "start_time": "2021-07-14T18:27:49.696Z"
   },
   {
    "duration": 8,
    "start_time": "2021-07-14T18:27:51.030Z"
   },
   {
    "duration": 1371,
    "start_time": "2021-07-14T18:28:23.395Z"
   },
   {
    "duration": 20,
    "start_time": "2021-07-14T18:28:24.769Z"
   },
   {
    "duration": 16,
    "start_time": "2021-07-14T18:28:24.792Z"
   },
   {
    "duration": 9,
    "start_time": "2021-07-14T18:28:24.811Z"
   },
   {
    "duration": 4,
    "start_time": "2021-07-14T18:28:24.822Z"
   },
   {
    "duration": 29,
    "start_time": "2021-07-14T18:28:24.829Z"
   },
   {
    "duration": 9,
    "start_time": "2021-07-14T18:28:24.861Z"
   },
   {
    "duration": 6,
    "start_time": "2021-07-14T18:28:24.875Z"
   },
   {
    "duration": 13,
    "start_time": "2021-07-14T18:28:24.884Z"
   },
   {
    "duration": 64,
    "start_time": "2021-07-14T18:28:24.900Z"
   },
   {
    "duration": 264,
    "start_time": "2021-07-14T18:28:24.966Z"
   },
   {
    "duration": 1026,
    "start_time": "2021-07-14T18:28:25.233Z"
   },
   {
    "duration": 383,
    "start_time": "2021-07-14T18:28:26.262Z"
   },
   {
    "duration": 388,
    "start_time": "2021-07-14T18:28:26.647Z"
   },
   {
    "duration": 606,
    "start_time": "2021-07-14T18:28:27.038Z"
   },
   {
    "duration": 20,
    "start_time": "2021-07-14T18:28:27.647Z"
   },
   {
    "duration": 5,
    "start_time": "2021-07-14T18:28:27.669Z"
   },
   {
    "duration": 8,
    "start_time": "2021-07-14T18:28:27.677Z"
   },
   {
    "duration": 7,
    "start_time": "2021-07-14T18:28:27.688Z"
   },
   {
    "duration": 219,
    "start_time": "2021-07-14T18:28:27.698Z"
   },
   {
    "duration": 7,
    "start_time": "2021-07-14T18:28:27.920Z"
   },
   {
    "duration": 28,
    "start_time": "2021-07-14T18:28:27.929Z"
   },
   {
    "duration": 7,
    "start_time": "2021-07-14T18:28:27.962Z"
   },
   {
    "duration": 83,
    "start_time": "2021-07-14T18:28:27.973Z"
   },
   {
    "duration": 8,
    "start_time": "2021-07-14T18:28:28.060Z"
   },
   {
    "duration": 95,
    "start_time": "2021-07-14T18:28:28.072Z"
   },
   {
    "duration": 13,
    "start_time": "2021-07-14T18:28:28.169Z"
   },
   {
    "duration": 14,
    "start_time": "2021-07-14T18:28:28.184Z"
   },
   {
    "duration": 63,
    "start_time": "2021-07-14T18:28:28.201Z"
   },
   {
    "duration": 95,
    "start_time": "2021-07-14T18:28:28.267Z"
   },
   {
    "duration": 20,
    "start_time": "2021-07-14T18:28:28.364Z"
   },
   {
    "duration": 97,
    "start_time": "2021-07-14T18:59:39.666Z"
   },
   {
    "duration": 1659,
    "start_time": "2021-07-14T19:06:01.420Z"
   },
   {
    "duration": 20,
    "start_time": "2021-07-14T19:06:03.082Z"
   },
   {
    "duration": 17,
    "start_time": "2021-07-14T19:06:03.105Z"
   },
   {
    "duration": 8,
    "start_time": "2021-07-14T19:06:03.125Z"
   },
   {
    "duration": 21,
    "start_time": "2021-07-14T19:06:03.136Z"
   },
   {
    "duration": 11,
    "start_time": "2021-07-14T19:06:03.159Z"
   },
   {
    "duration": 7,
    "start_time": "2021-07-14T19:06:03.173Z"
   },
   {
    "duration": 7,
    "start_time": "2021-07-14T19:06:03.183Z"
   },
   {
    "duration": 10,
    "start_time": "2021-07-14T19:06:03.192Z"
   },
   {
    "duration": 69,
    "start_time": "2021-07-14T19:06:03.204Z"
   },
   {
    "duration": 285,
    "start_time": "2021-07-14T19:06:03.275Z"
   },
   {
    "duration": 1001,
    "start_time": "2021-07-14T19:06:03.563Z"
   },
   {
    "duration": 389,
    "start_time": "2021-07-14T19:06:04.567Z"
   },
   {
    "duration": 386,
    "start_time": "2021-07-14T19:06:04.958Z"
   },
   {
    "duration": 598,
    "start_time": "2021-07-14T19:06:05.347Z"
   },
   {
    "duration": 21,
    "start_time": "2021-07-14T19:06:05.947Z"
   },
   {
    "duration": 4,
    "start_time": "2021-07-14T19:06:05.970Z"
   },
   {
    "duration": 7,
    "start_time": "2021-07-14T19:06:05.977Z"
   },
   {
    "duration": 7,
    "start_time": "2021-07-14T19:06:05.986Z"
   },
   {
    "duration": 218,
    "start_time": "2021-07-14T19:06:05.995Z"
   },
   {
    "duration": 6,
    "start_time": "2021-07-14T19:06:06.215Z"
   },
   {
    "duration": 11,
    "start_time": "2021-07-14T19:06:06.223Z"
   },
   {
    "duration": 23,
    "start_time": "2021-07-14T19:06:06.238Z"
   },
   {
    "duration": 91,
    "start_time": "2021-07-14T19:06:06.265Z"
   },
   {
    "duration": 8,
    "start_time": "2021-07-14T19:06:06.359Z"
   },
   {
    "duration": 90,
    "start_time": "2021-07-14T19:06:06.369Z"
   },
   {
    "duration": 8,
    "start_time": "2021-07-14T19:06:06.462Z"
   },
   {
    "duration": 8,
    "start_time": "2021-07-14T19:06:06.472Z"
   },
   {
    "duration": 75,
    "start_time": "2021-07-14T19:06:06.483Z"
   },
   {
    "duration": 94,
    "start_time": "2021-07-14T19:06:06.561Z"
   },
   {
    "duration": 8,
    "start_time": "2021-07-14T19:06:06.658Z"
   },
   {
    "duration": 216,
    "start_time": "2021-07-14T19:06:40.772Z"
   },
   {
    "duration": 1511,
    "start_time": "2021-07-14T19:06:47.688Z"
   },
   {
    "duration": 1474,
    "start_time": "2021-07-14T19:06:49.202Z"
   },
   {
    "duration": 17,
    "start_time": "2021-07-14T19:06:50.679Z"
   },
   {
    "duration": 20,
    "start_time": "2021-07-14T19:06:50.698Z"
   },
   {
    "duration": 6,
    "start_time": "2021-07-14T19:06:50.720Z"
   },
   {
    "duration": 16,
    "start_time": "2021-07-14T19:06:50.728Z"
   },
   {
    "duration": 21,
    "start_time": "2021-07-14T19:06:50.747Z"
   },
   {
    "duration": 7,
    "start_time": "2021-07-14T19:06:50.772Z"
   },
   {
    "duration": 10,
    "start_time": "2021-07-14T19:06:50.783Z"
   },
   {
    "duration": 33,
    "start_time": "2021-07-14T19:06:50.796Z"
   },
   {
    "duration": 262,
    "start_time": "2021-07-14T19:06:50.832Z"
   },
   {
    "duration": 1372,
    "start_time": "2021-07-14T19:06:51.096Z"
   },
   {
    "duration": 376,
    "start_time": "2021-07-14T19:06:52.470Z"
   },
   {
    "duration": 364,
    "start_time": "2021-07-14T19:06:52.848Z"
   },
   {
    "duration": 600,
    "start_time": "2021-07-14T19:06:53.215Z"
   },
   {
    "duration": 13,
    "start_time": "2021-07-14T19:06:53.818Z"
   },
   {
    "duration": 4,
    "start_time": "2021-07-14T19:06:53.833Z"
   },
   {
    "duration": 19,
    "start_time": "2021-07-14T19:06:53.839Z"
   },
   {
    "duration": 7,
    "start_time": "2021-07-14T19:06:53.860Z"
   },
   {
    "duration": 241,
    "start_time": "2021-07-14T19:06:53.869Z"
   },
   {
    "duration": 7,
    "start_time": "2021-07-14T19:06:54.113Z"
   },
   {
    "duration": 36,
    "start_time": "2021-07-14T19:06:54.123Z"
   },
   {
    "duration": 6,
    "start_time": "2021-07-14T19:06:54.165Z"
   },
   {
    "duration": 8,
    "start_time": "2021-07-14T19:06:54.175Z"
   },
   {
    "duration": 7,
    "start_time": "2021-07-14T19:06:54.257Z"
   },
   {
    "duration": 93,
    "start_time": "2021-07-14T19:06:54.266Z"
   },
   {
    "duration": 6,
    "start_time": "2021-07-14T19:06:54.361Z"
   },
   {
    "duration": 13,
    "start_time": "2021-07-14T19:06:54.369Z"
   },
   {
    "duration": 75,
    "start_time": "2021-07-14T19:06:54.386Z"
   },
   {
    "duration": 93,
    "start_time": "2021-07-14T19:06:54.465Z"
   },
   {
    "duration": 11,
    "start_time": "2021-07-14T19:06:54.561Z"
   }
  ],
  "kernelspec": {
   "display_name": "Python 3",
   "language": "python",
   "name": "python3"
  },
  "language_info": {
   "codemirror_mode": {
    "name": "ipython",
    "version": 3
   },
   "file_extension": ".py",
   "mimetype": "text/x-python",
   "name": "python",
   "nbconvert_exporter": "python",
   "pygments_lexer": "ipython3",
   "version": "3.8.5"
  },
  "toc": {
   "base_numbering": 1,
   "nav_menu": {},
   "number_sections": true,
   "sideBar": true,
   "skip_h1_title": true,
   "title_cell": "Содержание",
   "title_sidebar": "Contents",
   "toc_cell": true,
   "toc_position": {
    "height": "calc(100% - 180px)",
    "left": "10px",
    "top": "150px",
    "width": "266.875px"
   },
   "toc_section_display": true,
   "toc_window_display": false
  }
 },
 "nbformat": 4,
 "nbformat_minor": 2
}
