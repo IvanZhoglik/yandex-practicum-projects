{
 "cells": [
  {
   "cell_type": "markdown",
   "metadata": {},
   "source": [
    "# Сборный проект"
   ]
  },
  {
   "cell_type": "markdown",
   "metadata": {},
   "source": [
    "# Введение"
   ]
  },
  {
   "cell_type": "markdown",
   "metadata": {},
   "source": [
    "Интернет-магазин «Стримчик» продаёт по всему миру компьютерные игры. Из открытых источников доступны исторические данные о продажах игр, оценки пользователей и экспертов, жанры и платформы (например, Xbox или PlayStation). \n",
    "\n",
    "<b>Цель работы:</b>\n",
    "<div>Необходимо выявить определяющие успешность игры закономерности. Это позволит сделать ставку на потенциально популярный продукт и спланировать рекламные кампании.</div>\n",
    "\n",
    "<b>Описание данных:</b>\n",
    "<div>Предоставлены данные до 2016 года для планирования кампании на 2017-й. Нужно отработать принцип работы с данными.</div>\n",
    "<div>В наборе данных попадается аббревиатура ESRB (Entertainment Software Rating Board) — это ассоциация, определяющая возрастной рейтинг компьютерных игр. ESRB оценивает игровой контент и присваивает ему подходящую возрастную категорию, например, «Для взрослых», «Для детей младшего возраста» или «Для подростков».</div>\n",
    "\n",
    "<b>План выполнения работы:</b>\n",
    "<div><b>1. Изучение файлов с данными. Общая информация;</b></div>\n",
    "<div><b>2. Подготовка данных:</b></div>\n",
    "<div>- замена названий столбцов (приведение к нижнему регистру);</div>\n",
    "<div>- преобразование данных в нужные типы;</div>\n",
    "<div>- обработка пропусков (при необходимости);</div>\n",
    "<div>- посчет суммарных продаж во всех регионах в отдельном столбце.</div>\n",
    "<div><b>3. Проведение исследовательского анализа данных:</b></div>\n",
    "<div>- анализ игр, выпущенных в разные годы;</div>\n",
    "<div>- рассмотрение изменения продаж по платформам. Выбор платформ с наибольшими суммарными продажами и построить распределение по годам;</div>\n",
    "<div>- определение актуального периода данных для построения прогноза на 2017 год;</div>\n",
    "<div>- определение платформ, лидирующих по продажам, выбор нескольких потенциально прибыльных платформ;</div>\n",
    "<div>- построение графика «ящик с усами» по глобальным продажам игр в разбивке по платформам. Описание результата;</div>\n",
    "<div>- определение влияния отзывов пользователей и критиков на продажи внутри одной популярной платформы. Построение диаграммы рассеяния и расчет корреляции между отзывами и продажами. Формулирование выводов;</div>\n",
    "<div>- соотнесение выводов с продажами игр на других платформах;</div>\n",
    "<div>- рассмотрение общего распределения игр по жанрам: самые прибыльные жанры, жанры с высокими и низкими продажами.</div>\n",
    "<div><b>4. Составление портрета пользователя каждого региона:</b></div>\n",
    "<div>Определение для пользователя каждого региона (NA, EU, JP):</div>\n",
    "<div>- самые популярные платформы (топ-5). Описание различий в долях продаж;</div>\n",
    "<div>- самые популярные жанры (топ-5). Пояснение разницы;</div>\n",
    "<div>- влияние рейтинга ESRB на продажи в отдельном регионе.</div>\n",
    "<div><b>5. Проверка гипотез:</b></div>\n",
    "<div>- средние пользовательские рейтинги платформ Xbox One и PC одинаковые;</div>\n",
    "<div>- средние пользовательские рейтинги жанров Action (англ. «действие», экшен-игры) и Sports (англ. «спортивные соревнования») разные.</div>\n",
    "<div><b>6. Общий вывод</b></div>\n",
    "\n",
    "<b>Описание входных переменных:</b>\n",
    "<div><b>Таблица games:</b></div>\n",
    "<div>Name — название игры</div>\n",
    "<div>Platform — платформа</div>\n",
    "<div>Year_of_Release — год выпуска</div>\n",
    "<div>Genre — жанр игры</div>\n",
    "<div>NA_sales — продажи в Северной Америке (миллионы проданных копий)</div>\n",
    "<div>EU_sales — продажи в Европе (миллионы проданных копий)</div>\n",
    "<div>JP_sales — продажи в Японии (миллионы проданных копий)</div>\n",
    "<div>Other_sales — продажи в других странах (миллионы проданных копий)</div>\n",
    "<div>Critic_Score — оценка критиков (максимум 100)</div>\n",
    "<div>User_Score — оценка пользователей (максимум 10)</div>\n",
    "<div>Rating — рейтинг от организации ESRB (англ. Entertainment Software Rating Board). Эта ассоциация определяет рейтинг компьютерных игр и присваивает им подходящую возрастную категорию.</div>"
   ]
  },
  {
   "cell_type": "markdown",
   "metadata": {},
   "source": [
    "## Шаг 1. Изучение файлов с данными. Общая информация"
   ]
  },
  {
   "cell_type": "code",
   "execution_count": 1,
   "metadata": {},
   "outputs": [],
   "source": [
    "import pandas as pd\n",
    "import matplotlib.pyplot as plt\n",
    "import seaborn as sns\n",
    "import numpy as np\n",
    "from scipy import stats as st"
   ]
  },
  {
   "cell_type": "code",
   "execution_count": 2,
   "metadata": {},
   "outputs": [
    {
     "data": {
      "text/html": [
       "<div>\n",
       "<style scoped>\n",
       "    .dataframe tbody tr th:only-of-type {\n",
       "        vertical-align: middle;\n",
       "    }\n",
       "\n",
       "    .dataframe tbody tr th {\n",
       "        vertical-align: top;\n",
       "    }\n",
       "\n",
       "    .dataframe thead th {\n",
       "        text-align: right;\n",
       "    }\n",
       "</style>\n",
       "<table border=\"1\" class=\"dataframe\">\n",
       "  <thead>\n",
       "    <tr style=\"text-align: right;\">\n",
       "      <th></th>\n",
       "      <th>Name</th>\n",
       "      <th>Platform</th>\n",
       "      <th>Year_of_Release</th>\n",
       "      <th>Genre</th>\n",
       "      <th>NA_sales</th>\n",
       "      <th>EU_sales</th>\n",
       "      <th>JP_sales</th>\n",
       "      <th>Other_sales</th>\n",
       "      <th>Critic_Score</th>\n",
       "      <th>User_Score</th>\n",
       "      <th>Rating</th>\n",
       "    </tr>\n",
       "  </thead>\n",
       "  <tbody>\n",
       "    <tr>\n",
       "      <td>0</td>\n",
       "      <td>Wii Sports</td>\n",
       "      <td>Wii</td>\n",
       "      <td>2006.0</td>\n",
       "      <td>Sports</td>\n",
       "      <td>41.36</td>\n",
       "      <td>28.96</td>\n",
       "      <td>3.77</td>\n",
       "      <td>8.45</td>\n",
       "      <td>76.0</td>\n",
       "      <td>8</td>\n",
       "      <td>E</td>\n",
       "    </tr>\n",
       "    <tr>\n",
       "      <td>1</td>\n",
       "      <td>Super Mario Bros.</td>\n",
       "      <td>NES</td>\n",
       "      <td>1985.0</td>\n",
       "      <td>Platform</td>\n",
       "      <td>29.08</td>\n",
       "      <td>3.58</td>\n",
       "      <td>6.81</td>\n",
       "      <td>0.77</td>\n",
       "      <td>NaN</td>\n",
       "      <td>NaN</td>\n",
       "      <td>NaN</td>\n",
       "    </tr>\n",
       "    <tr>\n",
       "      <td>2</td>\n",
       "      <td>Mario Kart Wii</td>\n",
       "      <td>Wii</td>\n",
       "      <td>2008.0</td>\n",
       "      <td>Racing</td>\n",
       "      <td>15.68</td>\n",
       "      <td>12.76</td>\n",
       "      <td>3.79</td>\n",
       "      <td>3.29</td>\n",
       "      <td>82.0</td>\n",
       "      <td>8.3</td>\n",
       "      <td>E</td>\n",
       "    </tr>\n",
       "    <tr>\n",
       "      <td>3</td>\n",
       "      <td>Wii Sports Resort</td>\n",
       "      <td>Wii</td>\n",
       "      <td>2009.0</td>\n",
       "      <td>Sports</td>\n",
       "      <td>15.61</td>\n",
       "      <td>10.93</td>\n",
       "      <td>3.28</td>\n",
       "      <td>2.95</td>\n",
       "      <td>80.0</td>\n",
       "      <td>8</td>\n",
       "      <td>E</td>\n",
       "    </tr>\n",
       "    <tr>\n",
       "      <td>4</td>\n",
       "      <td>Pokemon Red/Pokemon Blue</td>\n",
       "      <td>GB</td>\n",
       "      <td>1996.0</td>\n",
       "      <td>Role-Playing</td>\n",
       "      <td>11.27</td>\n",
       "      <td>8.89</td>\n",
       "      <td>10.22</td>\n",
       "      <td>1.00</td>\n",
       "      <td>NaN</td>\n",
       "      <td>NaN</td>\n",
       "      <td>NaN</td>\n",
       "    </tr>\n",
       "    <tr>\n",
       "      <td>5</td>\n",
       "      <td>Tetris</td>\n",
       "      <td>GB</td>\n",
       "      <td>1989.0</td>\n",
       "      <td>Puzzle</td>\n",
       "      <td>23.20</td>\n",
       "      <td>2.26</td>\n",
       "      <td>4.22</td>\n",
       "      <td>0.58</td>\n",
       "      <td>NaN</td>\n",
       "      <td>NaN</td>\n",
       "      <td>NaN</td>\n",
       "    </tr>\n",
       "    <tr>\n",
       "      <td>6</td>\n",
       "      <td>New Super Mario Bros.</td>\n",
       "      <td>DS</td>\n",
       "      <td>2006.0</td>\n",
       "      <td>Platform</td>\n",
       "      <td>11.28</td>\n",
       "      <td>9.14</td>\n",
       "      <td>6.50</td>\n",
       "      <td>2.88</td>\n",
       "      <td>89.0</td>\n",
       "      <td>8.5</td>\n",
       "      <td>E</td>\n",
       "    </tr>\n",
       "    <tr>\n",
       "      <td>7</td>\n",
       "      <td>Wii Play</td>\n",
       "      <td>Wii</td>\n",
       "      <td>2006.0</td>\n",
       "      <td>Misc</td>\n",
       "      <td>13.96</td>\n",
       "      <td>9.18</td>\n",
       "      <td>2.93</td>\n",
       "      <td>2.84</td>\n",
       "      <td>58.0</td>\n",
       "      <td>6.6</td>\n",
       "      <td>E</td>\n",
       "    </tr>\n",
       "    <tr>\n",
       "      <td>8</td>\n",
       "      <td>New Super Mario Bros. Wii</td>\n",
       "      <td>Wii</td>\n",
       "      <td>2009.0</td>\n",
       "      <td>Platform</td>\n",
       "      <td>14.44</td>\n",
       "      <td>6.94</td>\n",
       "      <td>4.70</td>\n",
       "      <td>2.24</td>\n",
       "      <td>87.0</td>\n",
       "      <td>8.4</td>\n",
       "      <td>E</td>\n",
       "    </tr>\n",
       "    <tr>\n",
       "      <td>9</td>\n",
       "      <td>Duck Hunt</td>\n",
       "      <td>NES</td>\n",
       "      <td>1984.0</td>\n",
       "      <td>Shooter</td>\n",
       "      <td>26.93</td>\n",
       "      <td>0.63</td>\n",
       "      <td>0.28</td>\n",
       "      <td>0.47</td>\n",
       "      <td>NaN</td>\n",
       "      <td>NaN</td>\n",
       "      <td>NaN</td>\n",
       "    </tr>\n",
       "    <tr>\n",
       "      <td>10</td>\n",
       "      <td>Nintendogs</td>\n",
       "      <td>DS</td>\n",
       "      <td>2005.0</td>\n",
       "      <td>Simulation</td>\n",
       "      <td>9.05</td>\n",
       "      <td>10.95</td>\n",
       "      <td>1.93</td>\n",
       "      <td>2.74</td>\n",
       "      <td>NaN</td>\n",
       "      <td>NaN</td>\n",
       "      <td>NaN</td>\n",
       "    </tr>\n",
       "    <tr>\n",
       "      <td>11</td>\n",
       "      <td>Mario Kart DS</td>\n",
       "      <td>DS</td>\n",
       "      <td>2005.0</td>\n",
       "      <td>Racing</td>\n",
       "      <td>9.71</td>\n",
       "      <td>7.47</td>\n",
       "      <td>4.13</td>\n",
       "      <td>1.90</td>\n",
       "      <td>91.0</td>\n",
       "      <td>8.6</td>\n",
       "      <td>E</td>\n",
       "    </tr>\n",
       "    <tr>\n",
       "      <td>12</td>\n",
       "      <td>Pokemon Gold/Pokemon Silver</td>\n",
       "      <td>GB</td>\n",
       "      <td>1999.0</td>\n",
       "      <td>Role-Playing</td>\n",
       "      <td>9.00</td>\n",
       "      <td>6.18</td>\n",
       "      <td>7.20</td>\n",
       "      <td>0.71</td>\n",
       "      <td>NaN</td>\n",
       "      <td>NaN</td>\n",
       "      <td>NaN</td>\n",
       "    </tr>\n",
       "    <tr>\n",
       "      <td>13</td>\n",
       "      <td>Wii Fit</td>\n",
       "      <td>Wii</td>\n",
       "      <td>2007.0</td>\n",
       "      <td>Sports</td>\n",
       "      <td>8.92</td>\n",
       "      <td>8.03</td>\n",
       "      <td>3.60</td>\n",
       "      <td>2.15</td>\n",
       "      <td>80.0</td>\n",
       "      <td>7.7</td>\n",
       "      <td>E</td>\n",
       "    </tr>\n",
       "    <tr>\n",
       "      <td>14</td>\n",
       "      <td>Kinect Adventures!</td>\n",
       "      <td>X360</td>\n",
       "      <td>2010.0</td>\n",
       "      <td>Misc</td>\n",
       "      <td>15.00</td>\n",
       "      <td>4.89</td>\n",
       "      <td>0.24</td>\n",
       "      <td>1.69</td>\n",
       "      <td>61.0</td>\n",
       "      <td>6.3</td>\n",
       "      <td>E</td>\n",
       "    </tr>\n",
       "  </tbody>\n",
       "</table>\n",
       "</div>"
      ],
      "text/plain": [
       "                           Name Platform  Year_of_Release         Genre  \\\n",
       "0                    Wii Sports      Wii           2006.0        Sports   \n",
       "1             Super Mario Bros.      NES           1985.0      Platform   \n",
       "2                Mario Kart Wii      Wii           2008.0        Racing   \n",
       "3             Wii Sports Resort      Wii           2009.0        Sports   \n",
       "4      Pokemon Red/Pokemon Blue       GB           1996.0  Role-Playing   \n",
       "5                        Tetris       GB           1989.0        Puzzle   \n",
       "6         New Super Mario Bros.       DS           2006.0      Platform   \n",
       "7                      Wii Play      Wii           2006.0          Misc   \n",
       "8     New Super Mario Bros. Wii      Wii           2009.0      Platform   \n",
       "9                     Duck Hunt      NES           1984.0       Shooter   \n",
       "10                   Nintendogs       DS           2005.0    Simulation   \n",
       "11                Mario Kart DS       DS           2005.0        Racing   \n",
       "12  Pokemon Gold/Pokemon Silver       GB           1999.0  Role-Playing   \n",
       "13                      Wii Fit      Wii           2007.0        Sports   \n",
       "14           Kinect Adventures!     X360           2010.0          Misc   \n",
       "\n",
       "    NA_sales  EU_sales  JP_sales  Other_sales  Critic_Score User_Score Rating  \n",
       "0      41.36     28.96      3.77         8.45          76.0          8      E  \n",
       "1      29.08      3.58      6.81         0.77           NaN        NaN    NaN  \n",
       "2      15.68     12.76      3.79         3.29          82.0        8.3      E  \n",
       "3      15.61     10.93      3.28         2.95          80.0          8      E  \n",
       "4      11.27      8.89     10.22         1.00           NaN        NaN    NaN  \n",
       "5      23.20      2.26      4.22         0.58           NaN        NaN    NaN  \n",
       "6      11.28      9.14      6.50         2.88          89.0        8.5      E  \n",
       "7      13.96      9.18      2.93         2.84          58.0        6.6      E  \n",
       "8      14.44      6.94      4.70         2.24          87.0        8.4      E  \n",
       "9      26.93      0.63      0.28         0.47           NaN        NaN    NaN  \n",
       "10      9.05     10.95      1.93         2.74           NaN        NaN    NaN  \n",
       "11      9.71      7.47      4.13         1.90          91.0        8.6      E  \n",
       "12      9.00      6.18      7.20         0.71           NaN        NaN    NaN  \n",
       "13      8.92      8.03      3.60         2.15          80.0        7.7      E  \n",
       "14     15.00      4.89      0.24         1.69          61.0        6.3      E  "
      ]
     },
     "execution_count": 2,
     "metadata": {},
     "output_type": "execute_result"
    }
   ],
   "source": [
    "df = pd.read_csv('/datasets/games.csv')\n",
    "df.head(15)"
   ]
  },
  {
   "cell_type": "code",
   "execution_count": 3,
   "metadata": {},
   "outputs": [
    {
     "name": "stdout",
     "output_type": "stream",
     "text": [
      "<class 'pandas.core.frame.DataFrame'>\n",
      "RangeIndex: 16715 entries, 0 to 16714\n",
      "Data columns (total 11 columns):\n",
      "Name               16713 non-null object\n",
      "Platform           16715 non-null object\n",
      "Year_of_Release    16446 non-null float64\n",
      "Genre              16713 non-null object\n",
      "NA_sales           16715 non-null float64\n",
      "EU_sales           16715 non-null float64\n",
      "JP_sales           16715 non-null float64\n",
      "Other_sales        16715 non-null float64\n",
      "Critic_Score       8137 non-null float64\n",
      "User_Score         10014 non-null object\n",
      "Rating             9949 non-null object\n",
      "dtypes: float64(6), object(5)\n",
      "memory usage: 1.4+ MB\n"
     ]
    }
   ],
   "source": [
    "df.info()"
   ]
  },
  {
   "cell_type": "code",
   "execution_count": 4,
   "metadata": {},
   "outputs": [
    {
     "data": {
      "text/html": [
       "<div>\n",
       "<style scoped>\n",
       "    .dataframe tbody tr th:only-of-type {\n",
       "        vertical-align: middle;\n",
       "    }\n",
       "\n",
       "    .dataframe tbody tr th {\n",
       "        vertical-align: top;\n",
       "    }\n",
       "\n",
       "    .dataframe thead th {\n",
       "        text-align: right;\n",
       "    }\n",
       "</style>\n",
       "<table border=\"1\" class=\"dataframe\">\n",
       "  <thead>\n",
       "    <tr style=\"text-align: right;\">\n",
       "      <th></th>\n",
       "      <th>Name</th>\n",
       "      <th>Platform</th>\n",
       "      <th>Genre</th>\n",
       "      <th>User_Score</th>\n",
       "      <th>Rating</th>\n",
       "    </tr>\n",
       "  </thead>\n",
       "  <tbody>\n",
       "    <tr>\n",
       "      <td>count</td>\n",
       "      <td>16713</td>\n",
       "      <td>16715</td>\n",
       "      <td>16713</td>\n",
       "      <td>10014</td>\n",
       "      <td>9949</td>\n",
       "    </tr>\n",
       "    <tr>\n",
       "      <td>unique</td>\n",
       "      <td>11559</td>\n",
       "      <td>31</td>\n",
       "      <td>12</td>\n",
       "      <td>96</td>\n",
       "      <td>8</td>\n",
       "    </tr>\n",
       "    <tr>\n",
       "      <td>top</td>\n",
       "      <td>Need for Speed: Most Wanted</td>\n",
       "      <td>PS2</td>\n",
       "      <td>Action</td>\n",
       "      <td>tbd</td>\n",
       "      <td>E</td>\n",
       "    </tr>\n",
       "    <tr>\n",
       "      <td>freq</td>\n",
       "      <td>12</td>\n",
       "      <td>2161</td>\n",
       "      <td>3369</td>\n",
       "      <td>2424</td>\n",
       "      <td>3990</td>\n",
       "    </tr>\n",
       "  </tbody>\n",
       "</table>\n",
       "</div>"
      ],
      "text/plain": [
       "                               Name Platform   Genre User_Score Rating\n",
       "count                         16713    16715   16713      10014   9949\n",
       "unique                        11559       31      12         96      8\n",
       "top     Need for Speed: Most Wanted      PS2  Action        tbd      E\n",
       "freq                             12     2161    3369       2424   3990"
      ]
     },
     "execution_count": 4,
     "metadata": {},
     "output_type": "execute_result"
    }
   ],
   "source": [
    "df.describe(include = ['O'])"
   ]
  },
  {
   "cell_type": "markdown",
   "metadata": {},
   "source": [
    "**Вывод**"
   ]
  },
  {
   "cell_type": "markdown",
   "metadata": {},
   "source": [
    "Рассмотрим полученную информацию.\n",
    "\n",
    "Всего в датасете games 11 столбцов и 16715 записей (строк):\n",
    "\n",
    "Каждая строка таблицы содержит общую информацию о компьютерной игре - название, платформа, год выпуска, рейтинги, оценки и т.д. В столбцах Name, Year_of_Release, Genre, Critic_Score, User_Score, Rating присутствуют пропущенные значения. Также, наименования столбцов начинаются с заглавных букв, а столбец с годом выпуска игры имеет вещественный тип данных.\n",
    "\n",
    "Таким образом, на следующем этапе по предобработке данных будет рассмотрена проблема пропущенных значений, значения в столбцах будут приведены к нужному типу данных, наименования столбцов - к единому регистру. Информация, содержащаяся в столбцах таблицы будет рассмотрена более детально. Строки будут проверены на наличие дубликатов. "
   ]
  },
  {
   "cell_type": "markdown",
   "metadata": {},
   "source": [
    "## Шаг 2. Подготовка данных"
   ]
  },
  {
   "cell_type": "markdown",
   "metadata": {},
   "source": [
    "### Приведение к нижнему регистру:"
   ]
  },
  {
   "cell_type": "markdown",
   "metadata": {},
   "source": [
    "Приведем названия столбцов к нижнему регистру используя метод str.lower()"
   ]
  },
  {
   "cell_type": "code",
   "execution_count": 5,
   "metadata": {},
   "outputs": [
    {
     "data": {
      "text/html": [
       "<div>\n",
       "<style scoped>\n",
       "    .dataframe tbody tr th:only-of-type {\n",
       "        vertical-align: middle;\n",
       "    }\n",
       "\n",
       "    .dataframe tbody tr th {\n",
       "        vertical-align: top;\n",
       "    }\n",
       "\n",
       "    .dataframe thead th {\n",
       "        text-align: right;\n",
       "    }\n",
       "</style>\n",
       "<table border=\"1\" class=\"dataframe\">\n",
       "  <thead>\n",
       "    <tr style=\"text-align: right;\">\n",
       "      <th></th>\n",
       "      <th>name</th>\n",
       "      <th>platform</th>\n",
       "      <th>year_of_release</th>\n",
       "      <th>genre</th>\n",
       "      <th>na_sales</th>\n",
       "      <th>eu_sales</th>\n",
       "      <th>jp_sales</th>\n",
       "      <th>other_sales</th>\n",
       "      <th>critic_score</th>\n",
       "      <th>user_score</th>\n",
       "      <th>rating</th>\n",
       "    </tr>\n",
       "  </thead>\n",
       "  <tbody>\n",
       "    <tr>\n",
       "      <td>0</td>\n",
       "      <td>Wii Sports</td>\n",
       "      <td>Wii</td>\n",
       "      <td>2006.0</td>\n",
       "      <td>Sports</td>\n",
       "      <td>41.36</td>\n",
       "      <td>28.96</td>\n",
       "      <td>3.77</td>\n",
       "      <td>8.45</td>\n",
       "      <td>76.0</td>\n",
       "      <td>8</td>\n",
       "      <td>E</td>\n",
       "    </tr>\n",
       "    <tr>\n",
       "      <td>1</td>\n",
       "      <td>Super Mario Bros.</td>\n",
       "      <td>NES</td>\n",
       "      <td>1985.0</td>\n",
       "      <td>Platform</td>\n",
       "      <td>29.08</td>\n",
       "      <td>3.58</td>\n",
       "      <td>6.81</td>\n",
       "      <td>0.77</td>\n",
       "      <td>NaN</td>\n",
       "      <td>NaN</td>\n",
       "      <td>NaN</td>\n",
       "    </tr>\n",
       "  </tbody>\n",
       "</table>\n",
       "</div>"
      ],
      "text/plain": [
       "                name platform  year_of_release     genre  na_sales  eu_sales  \\\n",
       "0         Wii Sports      Wii           2006.0    Sports     41.36     28.96   \n",
       "1  Super Mario Bros.      NES           1985.0  Platform     29.08      3.58   \n",
       "\n",
       "   jp_sales  other_sales  critic_score user_score rating  \n",
       "0      3.77         8.45          76.0          8      E  \n",
       "1      6.81         0.77           NaN        NaN    NaN  "
      ]
     },
     "execution_count": 5,
     "metadata": {},
     "output_type": "execute_result"
    }
   ],
   "source": [
    "df.columns = df.columns.str.lower()\n",
    "df.head(2)"
   ]
  },
  {
   "cell_type": "markdown",
   "metadata": {},
   "source": [
    "Приведем также к нижнему регистру значения в столбцах name, platform и genre:"
   ]
  },
  {
   "cell_type": "code",
   "execution_count": 6,
   "metadata": {},
   "outputs": [],
   "source": [
    "df['name'] = df['name'].str.lower()\n",
    "df['platform'] = df['platform'].str.lower()\n",
    "df['genre'] = df['genre'].str.lower()"
   ]
  },
  {
   "cell_type": "code",
   "execution_count": 7,
   "metadata": {},
   "outputs": [
    {
     "data": {
      "text/html": [
       "<div>\n",
       "<style scoped>\n",
       "    .dataframe tbody tr th:only-of-type {\n",
       "        vertical-align: middle;\n",
       "    }\n",
       "\n",
       "    .dataframe tbody tr th {\n",
       "        vertical-align: top;\n",
       "    }\n",
       "\n",
       "    .dataframe thead th {\n",
       "        text-align: right;\n",
       "    }\n",
       "</style>\n",
       "<table border=\"1\" class=\"dataframe\">\n",
       "  <thead>\n",
       "    <tr style=\"text-align: right;\">\n",
       "      <th></th>\n",
       "      <th>name</th>\n",
       "      <th>platform</th>\n",
       "      <th>year_of_release</th>\n",
       "      <th>genre</th>\n",
       "      <th>na_sales</th>\n",
       "      <th>eu_sales</th>\n",
       "      <th>jp_sales</th>\n",
       "      <th>other_sales</th>\n",
       "      <th>critic_score</th>\n",
       "      <th>user_score</th>\n",
       "      <th>rating</th>\n",
       "    </tr>\n",
       "  </thead>\n",
       "  <tbody>\n",
       "    <tr>\n",
       "      <td>14509</td>\n",
       "      <td>worms: wmd</td>\n",
       "      <td>ps4</td>\n",
       "      <td>2016.0</td>\n",
       "      <td>action</td>\n",
       "      <td>0.01</td>\n",
       "      <td>0.02</td>\n",
       "      <td>0.00</td>\n",
       "      <td>0.00</td>\n",
       "      <td>78.0</td>\n",
       "      <td>7.6</td>\n",
       "      <td>E10+</td>\n",
       "    </tr>\n",
       "    <tr>\n",
       "      <td>3039</td>\n",
       "      <td>mlb 2004</td>\n",
       "      <td>ps2</td>\n",
       "      <td>2003.0</td>\n",
       "      <td>sports</td>\n",
       "      <td>0.32</td>\n",
       "      <td>0.25</td>\n",
       "      <td>0.00</td>\n",
       "      <td>0.08</td>\n",
       "      <td>61.0</td>\n",
       "      <td>7.9</td>\n",
       "      <td>E</td>\n",
       "    </tr>\n",
       "    <tr>\n",
       "      <td>5399</td>\n",
       "      <td>mvp 06 ncaa baseball</td>\n",
       "      <td>xb</td>\n",
       "      <td>2006.0</td>\n",
       "      <td>sports</td>\n",
       "      <td>0.25</td>\n",
       "      <td>0.07</td>\n",
       "      <td>0.00</td>\n",
       "      <td>0.01</td>\n",
       "      <td>75.0</td>\n",
       "      <td>8.6</td>\n",
       "      <td>E</td>\n",
       "    </tr>\n",
       "    <tr>\n",
       "      <td>10492</td>\n",
       "      <td>yggdra union: we'll never fight alone</td>\n",
       "      <td>psp</td>\n",
       "      <td>2008.0</td>\n",
       "      <td>role-playing</td>\n",
       "      <td>0.05</td>\n",
       "      <td>0.00</td>\n",
       "      <td>0.04</td>\n",
       "      <td>0.01</td>\n",
       "      <td>73.0</td>\n",
       "      <td>7.9</td>\n",
       "      <td>T</td>\n",
       "    </tr>\n",
       "    <tr>\n",
       "      <td>1078</td>\n",
       "      <td>sid meier's civilization v</td>\n",
       "      <td>pc</td>\n",
       "      <td>2010.0</td>\n",
       "      <td>strategy</td>\n",
       "      <td>0.98</td>\n",
       "      <td>0.52</td>\n",
       "      <td>0.00</td>\n",
       "      <td>0.17</td>\n",
       "      <td>90.0</td>\n",
       "      <td>7.9</td>\n",
       "      <td>E10+</td>\n",
       "    </tr>\n",
       "  </tbody>\n",
       "</table>\n",
       "</div>"
      ],
      "text/plain": [
       "                                        name platform  year_of_release  \\\n",
       "14509                             worms: wmd      ps4           2016.0   \n",
       "3039                                mlb 2004      ps2           2003.0   \n",
       "5399                    mvp 06 ncaa baseball       xb           2006.0   \n",
       "10492  yggdra union: we'll never fight alone      psp           2008.0   \n",
       "1078              sid meier's civilization v       pc           2010.0   \n",
       "\n",
       "              genre  na_sales  eu_sales  jp_sales  other_sales  critic_score  \\\n",
       "14509        action      0.01      0.02      0.00         0.00          78.0   \n",
       "3039         sports      0.32      0.25      0.00         0.08          61.0   \n",
       "5399         sports      0.25      0.07      0.00         0.01          75.0   \n",
       "10492  role-playing      0.05      0.00      0.04         0.01          73.0   \n",
       "1078       strategy      0.98      0.52      0.00         0.17          90.0   \n",
       "\n",
       "      user_score rating  \n",
       "14509        7.6   E10+  \n",
       "3039         7.9      E  \n",
       "5399         8.6      E  \n",
       "10492        7.9      T  \n",
       "1078         7.9   E10+  "
      ]
     },
     "execution_count": 7,
     "metadata": {},
     "output_type": "execute_result"
    }
   ],
   "source": [
    "df.sample(5)"
   ]
  },
  {
   "cell_type": "markdown",
   "metadata": {},
   "source": [
    "### Обработка пропущенных значений и замена типа данных"
   ]
  },
  {
   "cell_type": "markdown",
   "metadata": {},
   "source": [
    "Проверим датафрейм на наличие и количество пропущенных значений:"
   ]
  },
  {
   "cell_type": "code",
   "execution_count": 8,
   "metadata": {},
   "outputs": [
    {
     "data": {
      "text/plain": [
       "name                  2\n",
       "platform              0\n",
       "year_of_release     269\n",
       "genre                 2\n",
       "na_sales              0\n",
       "eu_sales              0\n",
       "jp_sales              0\n",
       "other_sales           0\n",
       "critic_score       8578\n",
       "user_score         6701\n",
       "rating             6766\n",
       "dtype: int64"
      ]
     },
     "execution_count": 8,
     "metadata": {},
     "output_type": "execute_result"
    }
   ],
   "source": [
    "df.isna().sum()"
   ]
  },
  {
   "cell_type": "code",
   "execution_count": 9,
   "metadata": {},
   "outputs": [],
   "source": [
    "def isna_sum(df):\n",
    "    isna = df.isna().sum()\n",
    "    isna_percent = round((100 * df.isna().sum() / len(df)), 2)\n",
    "    table = pd.concat([isna, isna_percent], axis=1)\n",
    "    table = table.rename(columns = {0 : 'total_nan', 1 : 'percent'})\n",
    "    return table"
   ]
  },
  {
   "cell_type": "code",
   "execution_count": 10,
   "metadata": {},
   "outputs": [
    {
     "data": {
      "text/html": [
       "<div>\n",
       "<style scoped>\n",
       "    .dataframe tbody tr th:only-of-type {\n",
       "        vertical-align: middle;\n",
       "    }\n",
       "\n",
       "    .dataframe tbody tr th {\n",
       "        vertical-align: top;\n",
       "    }\n",
       "\n",
       "    .dataframe thead th {\n",
       "        text-align: right;\n",
       "    }\n",
       "</style>\n",
       "<table border=\"1\" class=\"dataframe\">\n",
       "  <thead>\n",
       "    <tr style=\"text-align: right;\">\n",
       "      <th></th>\n",
       "      <th>total_nan</th>\n",
       "      <th>percent</th>\n",
       "    </tr>\n",
       "  </thead>\n",
       "  <tbody>\n",
       "    <tr>\n",
       "      <td>name</td>\n",
       "      <td>2</td>\n",
       "      <td>0.01</td>\n",
       "    </tr>\n",
       "    <tr>\n",
       "      <td>platform</td>\n",
       "      <td>0</td>\n",
       "      <td>0.00</td>\n",
       "    </tr>\n",
       "    <tr>\n",
       "      <td>year_of_release</td>\n",
       "      <td>269</td>\n",
       "      <td>1.61</td>\n",
       "    </tr>\n",
       "    <tr>\n",
       "      <td>genre</td>\n",
       "      <td>2</td>\n",
       "      <td>0.01</td>\n",
       "    </tr>\n",
       "    <tr>\n",
       "      <td>na_sales</td>\n",
       "      <td>0</td>\n",
       "      <td>0.00</td>\n",
       "    </tr>\n",
       "    <tr>\n",
       "      <td>eu_sales</td>\n",
       "      <td>0</td>\n",
       "      <td>0.00</td>\n",
       "    </tr>\n",
       "    <tr>\n",
       "      <td>jp_sales</td>\n",
       "      <td>0</td>\n",
       "      <td>0.00</td>\n",
       "    </tr>\n",
       "    <tr>\n",
       "      <td>other_sales</td>\n",
       "      <td>0</td>\n",
       "      <td>0.00</td>\n",
       "    </tr>\n",
       "    <tr>\n",
       "      <td>critic_score</td>\n",
       "      <td>8578</td>\n",
       "      <td>51.32</td>\n",
       "    </tr>\n",
       "    <tr>\n",
       "      <td>user_score</td>\n",
       "      <td>6701</td>\n",
       "      <td>40.09</td>\n",
       "    </tr>\n",
       "    <tr>\n",
       "      <td>rating</td>\n",
       "      <td>6766</td>\n",
       "      <td>40.48</td>\n",
       "    </tr>\n",
       "  </tbody>\n",
       "</table>\n",
       "</div>"
      ],
      "text/plain": [
       "                 total_nan  percent\n",
       "name                     2     0.01\n",
       "platform                 0     0.00\n",
       "year_of_release        269     1.61\n",
       "genre                    2     0.01\n",
       "na_sales                 0     0.00\n",
       "eu_sales                 0     0.00\n",
       "jp_sales                 0     0.00\n",
       "other_sales              0     0.00\n",
       "critic_score          8578    51.32\n",
       "user_score            6701    40.09\n",
       "rating                6766    40.48"
      ]
     },
     "execution_count": 10,
     "metadata": {},
     "output_type": "execute_result"
    }
   ],
   "source": [
    "isna_sum(df)"
   ]
  },
  {
   "cell_type": "markdown",
   "metadata": {},
   "source": [
    "Удалим из датафрейма 2 игры с неизвестным названием, они не окажут значительного влияния на выполнение дальнейшего анализа продаж:"
   ]
  },
  {
   "cell_type": "code",
   "execution_count": 11,
   "metadata": {},
   "outputs": [],
   "source": [
    "df.dropna(subset = ['name'], inplace = True)\n",
    "#df.info()"
   ]
  },
  {
   "cell_type": "markdown",
   "metadata": {},
   "source": [
    "Сформируем выборку с пропущенными значениями в столбце name:"
   ]
  },
  {
   "cell_type": "code",
   "execution_count": 12,
   "metadata": {},
   "outputs": [
    {
     "data": {
      "text/html": [
       "<div>\n",
       "<style scoped>\n",
       "    .dataframe tbody tr th:only-of-type {\n",
       "        vertical-align: middle;\n",
       "    }\n",
       "\n",
       "    .dataframe tbody tr th {\n",
       "        vertical-align: top;\n",
       "    }\n",
       "\n",
       "    .dataframe thead th {\n",
       "        text-align: right;\n",
       "    }\n",
       "</style>\n",
       "<table border=\"1\" class=\"dataframe\">\n",
       "  <thead>\n",
       "    <tr style=\"text-align: right;\">\n",
       "      <th></th>\n",
       "      <th>name</th>\n",
       "      <th>platform</th>\n",
       "      <th>year_of_release</th>\n",
       "      <th>genre</th>\n",
       "      <th>na_sales</th>\n",
       "      <th>eu_sales</th>\n",
       "      <th>jp_sales</th>\n",
       "      <th>other_sales</th>\n",
       "      <th>critic_score</th>\n",
       "      <th>user_score</th>\n",
       "      <th>rating</th>\n",
       "    </tr>\n",
       "  </thead>\n",
       "  <tbody>\n",
       "    <tr>\n",
       "      <td>183</td>\n",
       "      <td>madden nfl 2004</td>\n",
       "      <td>ps2</td>\n",
       "      <td>NaN</td>\n",
       "      <td>sports</td>\n",
       "      <td>4.26</td>\n",
       "      <td>0.26</td>\n",
       "      <td>0.01</td>\n",
       "      <td>0.71</td>\n",
       "      <td>94.0</td>\n",
       "      <td>8.5</td>\n",
       "      <td>E</td>\n",
       "    </tr>\n",
       "    <tr>\n",
       "      <td>377</td>\n",
       "      <td>fifa soccer 2004</td>\n",
       "      <td>ps2</td>\n",
       "      <td>NaN</td>\n",
       "      <td>sports</td>\n",
       "      <td>0.59</td>\n",
       "      <td>2.36</td>\n",
       "      <td>0.04</td>\n",
       "      <td>0.51</td>\n",
       "      <td>84.0</td>\n",
       "      <td>6.4</td>\n",
       "      <td>E</td>\n",
       "    </tr>\n",
       "    <tr>\n",
       "      <td>456</td>\n",
       "      <td>lego batman: the videogame</td>\n",
       "      <td>wii</td>\n",
       "      <td>NaN</td>\n",
       "      <td>action</td>\n",
       "      <td>1.80</td>\n",
       "      <td>0.97</td>\n",
       "      <td>0.00</td>\n",
       "      <td>0.29</td>\n",
       "      <td>74.0</td>\n",
       "      <td>7.9</td>\n",
       "      <td>E10+</td>\n",
       "    </tr>\n",
       "    <tr>\n",
       "      <td>475</td>\n",
       "      <td>wwe smackdown vs. raw 2006</td>\n",
       "      <td>ps2</td>\n",
       "      <td>NaN</td>\n",
       "      <td>fighting</td>\n",
       "      <td>1.57</td>\n",
       "      <td>1.02</td>\n",
       "      <td>0.00</td>\n",
       "      <td>0.41</td>\n",
       "      <td>NaN</td>\n",
       "      <td>NaN</td>\n",
       "      <td>NaN</td>\n",
       "    </tr>\n",
       "    <tr>\n",
       "      <td>609</td>\n",
       "      <td>space invaders</td>\n",
       "      <td>2600</td>\n",
       "      <td>NaN</td>\n",
       "      <td>shooter</td>\n",
       "      <td>2.36</td>\n",
       "      <td>0.14</td>\n",
       "      <td>0.00</td>\n",
       "      <td>0.03</td>\n",
       "      <td>NaN</td>\n",
       "      <td>NaN</td>\n",
       "      <td>NaN</td>\n",
       "    </tr>\n",
       "    <tr>\n",
       "      <td>627</td>\n",
       "      <td>rock band</td>\n",
       "      <td>x360</td>\n",
       "      <td>NaN</td>\n",
       "      <td>misc</td>\n",
       "      <td>1.93</td>\n",
       "      <td>0.33</td>\n",
       "      <td>0.00</td>\n",
       "      <td>0.21</td>\n",
       "      <td>92.0</td>\n",
       "      <td>8.2</td>\n",
       "      <td>T</td>\n",
       "    </tr>\n",
       "    <tr>\n",
       "      <td>657</td>\n",
       "      <td>frogger's adventures: temple of the frog</td>\n",
       "      <td>gba</td>\n",
       "      <td>NaN</td>\n",
       "      <td>adventure</td>\n",
       "      <td>2.15</td>\n",
       "      <td>0.18</td>\n",
       "      <td>0.00</td>\n",
       "      <td>0.07</td>\n",
       "      <td>73.0</td>\n",
       "      <td>tbd</td>\n",
       "      <td>E</td>\n",
       "    </tr>\n",
       "    <tr>\n",
       "      <td>678</td>\n",
       "      <td>lego indiana jones: the original adventures</td>\n",
       "      <td>wii</td>\n",
       "      <td>NaN</td>\n",
       "      <td>action</td>\n",
       "      <td>1.51</td>\n",
       "      <td>0.61</td>\n",
       "      <td>0.00</td>\n",
       "      <td>0.21</td>\n",
       "      <td>78.0</td>\n",
       "      <td>6.6</td>\n",
       "      <td>E10+</td>\n",
       "    </tr>\n",
       "    <tr>\n",
       "      <td>719</td>\n",
       "      <td>call of duty 3</td>\n",
       "      <td>wii</td>\n",
       "      <td>NaN</td>\n",
       "      <td>shooter</td>\n",
       "      <td>1.17</td>\n",
       "      <td>0.84</td>\n",
       "      <td>0.00</td>\n",
       "      <td>0.23</td>\n",
       "      <td>69.0</td>\n",
       "      <td>6.7</td>\n",
       "      <td>T</td>\n",
       "    </tr>\n",
       "    <tr>\n",
       "      <td>805</td>\n",
       "      <td>rock band</td>\n",
       "      <td>wii</td>\n",
       "      <td>NaN</td>\n",
       "      <td>misc</td>\n",
       "      <td>1.33</td>\n",
       "      <td>0.56</td>\n",
       "      <td>0.00</td>\n",
       "      <td>0.20</td>\n",
       "      <td>80.0</td>\n",
       "      <td>6.3</td>\n",
       "      <td>T</td>\n",
       "    </tr>\n",
       "  </tbody>\n",
       "</table>\n",
       "</div>"
      ],
      "text/plain": [
       "                                            name platform  year_of_release  \\\n",
       "183                              madden nfl 2004      ps2              NaN   \n",
       "377                             fifa soccer 2004      ps2              NaN   \n",
       "456                   lego batman: the videogame      wii              NaN   \n",
       "475                   wwe smackdown vs. raw 2006      ps2              NaN   \n",
       "609                               space invaders     2600              NaN   \n",
       "627                                    rock band     x360              NaN   \n",
       "657     frogger's adventures: temple of the frog      gba              NaN   \n",
       "678  lego indiana jones: the original adventures      wii              NaN   \n",
       "719                               call of duty 3      wii              NaN   \n",
       "805                                    rock band      wii              NaN   \n",
       "\n",
       "         genre  na_sales  eu_sales  jp_sales  other_sales  critic_score  \\\n",
       "183     sports      4.26      0.26      0.01         0.71          94.0   \n",
       "377     sports      0.59      2.36      0.04         0.51          84.0   \n",
       "456     action      1.80      0.97      0.00         0.29          74.0   \n",
       "475   fighting      1.57      1.02      0.00         0.41           NaN   \n",
       "609    shooter      2.36      0.14      0.00         0.03           NaN   \n",
       "627       misc      1.93      0.33      0.00         0.21          92.0   \n",
       "657  adventure      2.15      0.18      0.00         0.07          73.0   \n",
       "678     action      1.51      0.61      0.00         0.21          78.0   \n",
       "719    shooter      1.17      0.84      0.00         0.23          69.0   \n",
       "805       misc      1.33      0.56      0.00         0.20          80.0   \n",
       "\n",
       "    user_score rating  \n",
       "183        8.5      E  \n",
       "377        6.4      E  \n",
       "456        7.9   E10+  \n",
       "475        NaN    NaN  \n",
       "609        NaN    NaN  \n",
       "627        8.2      T  \n",
       "657        tbd      E  \n",
       "678        6.6   E10+  \n",
       "719        6.7      T  \n",
       "805        6.3      T  "
      ]
     },
     "execution_count": 12,
     "metadata": {},
     "output_type": "execute_result"
    }
   ],
   "source": [
    "df_year_nan = df.query('year_of_release == \"NaN\"')\n",
    "df_year_nan.head(10)"
   ]
  },
  {
   "cell_type": "code",
   "execution_count": 13,
   "metadata": {},
   "outputs": [
    {
     "data": {
      "text/plain": [
       "need for speed: most wanted                12\n",
       "fifa 14                                     9\n",
       "ratatouille                                 9\n",
       "madden nfl 07                               9\n",
       "lego marvel super heroes                    9\n",
       "                                           ..\n",
       "zubo                                        1\n",
       "simcity (2013)                              1\n",
       "jikkyou powerful pro yakyuu 8 ketteiban     1\n",
       "petz fantasy: moonlight magic               1\n",
       "boktai: the sun is in your hand             1\n",
       "Name: name, Length: 11559, dtype: int64"
      ]
     },
     "execution_count": 13,
     "metadata": {},
     "output_type": "execute_result"
    }
   ],
   "source": [
    "df['name'].value_counts()"
   ]
  },
  {
   "cell_type": "code",
   "execution_count": 14,
   "metadata": {},
   "outputs": [
    {
     "data": {
      "text/html": [
       "<div>\n",
       "<style scoped>\n",
       "    .dataframe tbody tr th:only-of-type {\n",
       "        vertical-align: middle;\n",
       "    }\n",
       "\n",
       "    .dataframe tbody tr th {\n",
       "        vertical-align: top;\n",
       "    }\n",
       "\n",
       "    .dataframe thead th {\n",
       "        text-align: right;\n",
       "    }\n",
       "</style>\n",
       "<table border=\"1\" class=\"dataframe\">\n",
       "  <thead>\n",
       "    <tr style=\"text-align: right;\">\n",
       "      <th></th>\n",
       "      <th>name</th>\n",
       "      <th>platform</th>\n",
       "      <th>year_of_release</th>\n",
       "      <th>genre</th>\n",
       "      <th>na_sales</th>\n",
       "      <th>eu_sales</th>\n",
       "      <th>jp_sales</th>\n",
       "      <th>other_sales</th>\n",
       "      <th>critic_score</th>\n",
       "      <th>user_score</th>\n",
       "      <th>rating</th>\n",
       "    </tr>\n",
       "  </thead>\n",
       "  <tbody>\n",
       "    <tr>\n",
       "      <td>377</td>\n",
       "      <td>fifa soccer 2004</td>\n",
       "      <td>ps2</td>\n",
       "      <td>NaN</td>\n",
       "      <td>sports</td>\n",
       "      <td>0.59</td>\n",
       "      <td>2.36</td>\n",
       "      <td>0.04</td>\n",
       "      <td>0.51</td>\n",
       "      <td>84.0</td>\n",
       "      <td>6.4</td>\n",
       "      <td>E</td>\n",
       "    </tr>\n",
       "    <tr>\n",
       "      <td>2606</td>\n",
       "      <td>fifa soccer 2004</td>\n",
       "      <td>xb</td>\n",
       "      <td>2003.0</td>\n",
       "      <td>sports</td>\n",
       "      <td>0.24</td>\n",
       "      <td>0.49</td>\n",
       "      <td>0.00</td>\n",
       "      <td>0.05</td>\n",
       "      <td>82.0</td>\n",
       "      <td>8.2</td>\n",
       "      <td>E</td>\n",
       "    </tr>\n",
       "    <tr>\n",
       "      <td>12029</td>\n",
       "      <td>fifa soccer 2004</td>\n",
       "      <td>gc</td>\n",
       "      <td>2003.0</td>\n",
       "      <td>sports</td>\n",
       "      <td>0.05</td>\n",
       "      <td>0.01</td>\n",
       "      <td>0.00</td>\n",
       "      <td>0.00</td>\n",
       "      <td>83.0</td>\n",
       "      <td>6.2</td>\n",
       "      <td>E</td>\n",
       "    </tr>\n",
       "    <tr>\n",
       "      <td>13086</td>\n",
       "      <td>fifa soccer 2004</td>\n",
       "      <td>gba</td>\n",
       "      <td>2003.0</td>\n",
       "      <td>sports</td>\n",
       "      <td>0.04</td>\n",
       "      <td>0.01</td>\n",
       "      <td>0.00</td>\n",
       "      <td>0.00</td>\n",
       "      <td>82.0</td>\n",
       "      <td>7.9</td>\n",
       "      <td>E</td>\n",
       "    </tr>\n",
       "  </tbody>\n",
       "</table>\n",
       "</div>"
      ],
      "text/plain": [
       "                   name platform  year_of_release   genre  na_sales  eu_sales  \\\n",
       "377    fifa soccer 2004      ps2              NaN  sports      0.59      2.36   \n",
       "2606   fifa soccer 2004       xb           2003.0  sports      0.24      0.49   \n",
       "12029  fifa soccer 2004       gc           2003.0  sports      0.05      0.01   \n",
       "13086  fifa soccer 2004      gba           2003.0  sports      0.04      0.01   \n",
       "\n",
       "       jp_sales  other_sales  critic_score user_score rating  \n",
       "377        0.04         0.51          84.0        6.4      E  \n",
       "2606       0.00         0.05          82.0        8.2      E  \n",
       "12029      0.00         0.00          83.0        6.2      E  \n",
       "13086      0.00         0.00          82.0        7.9      E  "
      ]
     },
     "execution_count": 14,
     "metadata": {},
     "output_type": "execute_result"
    }
   ],
   "source": [
    "df.query('name == \"fifa soccer 2004\"').head(5)"
   ]
  },
  {
   "cell_type": "markdown",
   "metadata": {},
   "source": [
    "Предположим, что год выпуска одной и той же игры для различных платформ одинаков. С учетом предположения, для игр, которые представлены на разных платформах, и год которых известен хотя бы для одной из платформ, восставновим пропущенные значения следующим образом:"
   ]
  },
  {
   "cell_type": "code",
   "execution_count": 15,
   "metadata": {},
   "outputs": [],
   "source": [
    "df['year_of_release'].fillna(df.groupby('name')['year_of_release'].transform('median'), inplace = True)"
   ]
  },
  {
   "cell_type": "markdown",
   "metadata": {},
   "source": [
    "Проверим результат восстановления:"
   ]
  },
  {
   "cell_type": "code",
   "execution_count": 16,
   "metadata": {},
   "outputs": [
    {
     "data": {
      "text/html": [
       "<div>\n",
       "<style scoped>\n",
       "    .dataframe tbody tr th:only-of-type {\n",
       "        vertical-align: middle;\n",
       "    }\n",
       "\n",
       "    .dataframe tbody tr th {\n",
       "        vertical-align: top;\n",
       "    }\n",
       "\n",
       "    .dataframe thead th {\n",
       "        text-align: right;\n",
       "    }\n",
       "</style>\n",
       "<table border=\"1\" class=\"dataframe\">\n",
       "  <thead>\n",
       "    <tr style=\"text-align: right;\">\n",
       "      <th></th>\n",
       "      <th>name</th>\n",
       "      <th>platform</th>\n",
       "      <th>year_of_release</th>\n",
       "      <th>genre</th>\n",
       "      <th>na_sales</th>\n",
       "      <th>eu_sales</th>\n",
       "      <th>jp_sales</th>\n",
       "      <th>other_sales</th>\n",
       "      <th>critic_score</th>\n",
       "      <th>user_score</th>\n",
       "      <th>rating</th>\n",
       "    </tr>\n",
       "  </thead>\n",
       "  <tbody>\n",
       "    <tr>\n",
       "      <td>377</td>\n",
       "      <td>fifa soccer 2004</td>\n",
       "      <td>ps2</td>\n",
       "      <td>2003.0</td>\n",
       "      <td>sports</td>\n",
       "      <td>0.59</td>\n",
       "      <td>2.36</td>\n",
       "      <td>0.04</td>\n",
       "      <td>0.51</td>\n",
       "      <td>84.0</td>\n",
       "      <td>6.4</td>\n",
       "      <td>E</td>\n",
       "    </tr>\n",
       "    <tr>\n",
       "      <td>2606</td>\n",
       "      <td>fifa soccer 2004</td>\n",
       "      <td>xb</td>\n",
       "      <td>2003.0</td>\n",
       "      <td>sports</td>\n",
       "      <td>0.24</td>\n",
       "      <td>0.49</td>\n",
       "      <td>0.00</td>\n",
       "      <td>0.05</td>\n",
       "      <td>82.0</td>\n",
       "      <td>8.2</td>\n",
       "      <td>E</td>\n",
       "    </tr>\n",
       "    <tr>\n",
       "      <td>12029</td>\n",
       "      <td>fifa soccer 2004</td>\n",
       "      <td>gc</td>\n",
       "      <td>2003.0</td>\n",
       "      <td>sports</td>\n",
       "      <td>0.05</td>\n",
       "      <td>0.01</td>\n",
       "      <td>0.00</td>\n",
       "      <td>0.00</td>\n",
       "      <td>83.0</td>\n",
       "      <td>6.2</td>\n",
       "      <td>E</td>\n",
       "    </tr>\n",
       "    <tr>\n",
       "      <td>13086</td>\n",
       "      <td>fifa soccer 2004</td>\n",
       "      <td>gba</td>\n",
       "      <td>2003.0</td>\n",
       "      <td>sports</td>\n",
       "      <td>0.04</td>\n",
       "      <td>0.01</td>\n",
       "      <td>0.00</td>\n",
       "      <td>0.00</td>\n",
       "      <td>82.0</td>\n",
       "      <td>7.9</td>\n",
       "      <td>E</td>\n",
       "    </tr>\n",
       "  </tbody>\n",
       "</table>\n",
       "</div>"
      ],
      "text/plain": [
       "                   name platform  year_of_release   genre  na_sales  eu_sales  \\\n",
       "377    fifa soccer 2004      ps2           2003.0  sports      0.59      2.36   \n",
       "2606   fifa soccer 2004       xb           2003.0  sports      0.24      0.49   \n",
       "12029  fifa soccer 2004       gc           2003.0  sports      0.05      0.01   \n",
       "13086  fifa soccer 2004      gba           2003.0  sports      0.04      0.01   \n",
       "\n",
       "       jp_sales  other_sales  critic_score user_score rating  \n",
       "377        0.04         0.51          84.0        6.4      E  \n",
       "2606       0.00         0.05          82.0        8.2      E  \n",
       "12029      0.00         0.00          83.0        6.2      E  \n",
       "13086      0.00         0.00          82.0        7.9      E  "
      ]
     },
     "execution_count": 16,
     "metadata": {},
     "output_type": "execute_result"
    }
   ],
   "source": [
    "df.query('name == \"fifa soccer 2004\"').head(5)"
   ]
  },
  {
   "cell_type": "code",
   "execution_count": 17,
   "metadata": {},
   "outputs": [
    {
     "name": "stdout",
     "output_type": "stream",
     "text": [
      "<class 'pandas.core.frame.DataFrame'>\n",
      "Int64Index: 16713 entries, 0 to 16714\n",
      "Data columns (total 11 columns):\n",
      "name               16713 non-null object\n",
      "platform           16713 non-null object\n",
      "year_of_release    16567 non-null float64\n",
      "genre              16713 non-null object\n",
      "na_sales           16713 non-null float64\n",
      "eu_sales           16713 non-null float64\n",
      "jp_sales           16713 non-null float64\n",
      "other_sales        16713 non-null float64\n",
      "critic_score       8137 non-null float64\n",
      "user_score         10014 non-null object\n",
      "rating             9949 non-null object\n",
      "dtypes: float64(6), object(5)\n",
      "memory usage: 1.5+ MB\n"
     ]
    }
   ],
   "source": [
    "df.info()"
   ]
  },
  {
   "cell_type": "markdown",
   "metadata": {},
   "source": [
    "Оставшиеся игры, год выпуска которых восстановить невозможно, составляют менее 1% всей выборки - исключим данные значения из датасета, они не окажут значительного влияния на результат:"
   ]
  },
  {
   "cell_type": "code",
   "execution_count": 18,
   "metadata": {},
   "outputs": [],
   "source": [
    "df.dropna(subset = ['year_of_release'], inplace = True)\n",
    "#df.info()"
   ]
  },
  {
   "cell_type": "markdown",
   "metadata": {},
   "source": [
    "Приведем значения в столбце c годом выпуска игры year_of_release из вещественного типа данных к целочисленному:"
   ]
  },
  {
   "cell_type": "code",
   "execution_count": 19,
   "metadata": {},
   "outputs": [
    {
     "data": {
      "text/html": [
       "<div>\n",
       "<style scoped>\n",
       "    .dataframe tbody tr th:only-of-type {\n",
       "        vertical-align: middle;\n",
       "    }\n",
       "\n",
       "    .dataframe tbody tr th {\n",
       "        vertical-align: top;\n",
       "    }\n",
       "\n",
       "    .dataframe thead th {\n",
       "        text-align: right;\n",
       "    }\n",
       "</style>\n",
       "<table border=\"1\" class=\"dataframe\">\n",
       "  <thead>\n",
       "    <tr style=\"text-align: right;\">\n",
       "      <th></th>\n",
       "      <th>name</th>\n",
       "      <th>platform</th>\n",
       "      <th>year_of_release</th>\n",
       "      <th>genre</th>\n",
       "      <th>na_sales</th>\n",
       "      <th>eu_sales</th>\n",
       "      <th>jp_sales</th>\n",
       "      <th>other_sales</th>\n",
       "      <th>critic_score</th>\n",
       "      <th>user_score</th>\n",
       "      <th>rating</th>\n",
       "    </tr>\n",
       "  </thead>\n",
       "  <tbody>\n",
       "    <tr>\n",
       "      <td>0</td>\n",
       "      <td>wii sports</td>\n",
       "      <td>wii</td>\n",
       "      <td>2006</td>\n",
       "      <td>sports</td>\n",
       "      <td>41.36</td>\n",
       "      <td>28.96</td>\n",
       "      <td>3.77</td>\n",
       "      <td>8.45</td>\n",
       "      <td>76.0</td>\n",
       "      <td>8</td>\n",
       "      <td>E</td>\n",
       "    </tr>\n",
       "    <tr>\n",
       "      <td>1</td>\n",
       "      <td>super mario bros.</td>\n",
       "      <td>nes</td>\n",
       "      <td>1985</td>\n",
       "      <td>platform</td>\n",
       "      <td>29.08</td>\n",
       "      <td>3.58</td>\n",
       "      <td>6.81</td>\n",
       "      <td>0.77</td>\n",
       "      <td>NaN</td>\n",
       "      <td>NaN</td>\n",
       "      <td>NaN</td>\n",
       "    </tr>\n",
       "    <tr>\n",
       "      <td>2</td>\n",
       "      <td>mario kart wii</td>\n",
       "      <td>wii</td>\n",
       "      <td>2008</td>\n",
       "      <td>racing</td>\n",
       "      <td>15.68</td>\n",
       "      <td>12.76</td>\n",
       "      <td>3.79</td>\n",
       "      <td>3.29</td>\n",
       "      <td>82.0</td>\n",
       "      <td>8.3</td>\n",
       "      <td>E</td>\n",
       "    </tr>\n",
       "    <tr>\n",
       "      <td>3</td>\n",
       "      <td>wii sports resort</td>\n",
       "      <td>wii</td>\n",
       "      <td>2009</td>\n",
       "      <td>sports</td>\n",
       "      <td>15.61</td>\n",
       "      <td>10.93</td>\n",
       "      <td>3.28</td>\n",
       "      <td>2.95</td>\n",
       "      <td>80.0</td>\n",
       "      <td>8</td>\n",
       "      <td>E</td>\n",
       "    </tr>\n",
       "    <tr>\n",
       "      <td>4</td>\n",
       "      <td>pokemon red/pokemon blue</td>\n",
       "      <td>gb</td>\n",
       "      <td>1996</td>\n",
       "      <td>role-playing</td>\n",
       "      <td>11.27</td>\n",
       "      <td>8.89</td>\n",
       "      <td>10.22</td>\n",
       "      <td>1.00</td>\n",
       "      <td>NaN</td>\n",
       "      <td>NaN</td>\n",
       "      <td>NaN</td>\n",
       "    </tr>\n",
       "  </tbody>\n",
       "</table>\n",
       "</div>"
      ],
      "text/plain": [
       "                       name platform  year_of_release         genre  na_sales  \\\n",
       "0                wii sports      wii             2006        sports     41.36   \n",
       "1         super mario bros.      nes             1985      platform     29.08   \n",
       "2            mario kart wii      wii             2008        racing     15.68   \n",
       "3         wii sports resort      wii             2009        sports     15.61   \n",
       "4  pokemon red/pokemon blue       gb             1996  role-playing     11.27   \n",
       "\n",
       "   eu_sales  jp_sales  other_sales  critic_score user_score rating  \n",
       "0     28.96      3.77         8.45          76.0          8      E  \n",
       "1      3.58      6.81         0.77           NaN        NaN    NaN  \n",
       "2     12.76      3.79         3.29          82.0        8.3      E  \n",
       "3     10.93      3.28         2.95          80.0          8      E  \n",
       "4      8.89     10.22         1.00           NaN        NaN    NaN  "
      ]
     },
     "execution_count": 19,
     "metadata": {},
     "output_type": "execute_result"
    }
   ],
   "source": [
    "df['year_of_release'] = df['year_of_release'].astype('int')\n",
    "df.head(5)"
   ]
  },
  {
   "cell_type": "markdown",
   "metadata": {},
   "source": [
    "Проверка значений в столбце platform:"
   ]
  },
  {
   "cell_type": "code",
   "execution_count": 20,
   "metadata": {},
   "outputs": [
    {
     "data": {
      "text/plain": [
       "array(['wii', 'nes', 'gb', 'ds', 'x360', 'ps3', 'ps2', 'snes', 'gba',\n",
       "       'ps4', '3ds', 'n64', 'ps', 'xb', 'pc', '2600', 'psp', 'xone',\n",
       "       'wiiu', 'gc', 'gen', 'dc', 'psv', 'sat', 'scd', 'ws', 'ng', 'tg16',\n",
       "       '3do', 'gg', 'pcfx'], dtype=object)"
      ]
     },
     "execution_count": 20,
     "metadata": {},
     "output_type": "execute_result"
    }
   ],
   "source": [
    "df['platform'].unique()"
   ]
  },
  {
   "cell_type": "markdown",
   "metadata": {},
   "source": [
    "Проверка значений в столбце genre:"
   ]
  },
  {
   "cell_type": "code",
   "execution_count": 21,
   "metadata": {},
   "outputs": [
    {
     "data": {
      "text/plain": [
       "array(['sports', 'platform', 'racing', 'role-playing', 'puzzle', 'misc',\n",
       "       'shooter', 'simulation', 'action', 'fighting', 'adventure',\n",
       "       'strategy'], dtype=object)"
      ]
     },
     "execution_count": 21,
     "metadata": {},
     "output_type": "execute_result"
    }
   ],
   "source": [
    "df['genre'].unique()"
   ]
  },
  {
   "cell_type": "markdown",
   "metadata": {},
   "source": [
    "Проверка значений в столбце critic_score:"
   ]
  },
  {
   "cell_type": "code",
   "execution_count": 22,
   "metadata": {},
   "outputs": [
    {
     "data": {
      "text/plain": [
       "array([76., nan, 82., 80., 89., 58., 87., 91., 61., 97., 95., 77., 88.,\n",
       "       83., 94., 93., 85., 86., 98., 96., 90., 84., 73., 74., 78., 92.,\n",
       "       71., 72., 68., 62., 49., 67., 81., 66., 56., 79., 70., 59., 64.,\n",
       "       75., 60., 63., 69., 50., 25., 42., 44., 55., 48., 57., 29., 47.,\n",
       "       65., 54., 20., 53., 37., 38., 33., 52., 30., 32., 43., 45., 51.,\n",
       "       40., 46., 39., 34., 35., 41., 36., 28., 31., 27., 26., 19., 23.,\n",
       "       24., 21., 17., 13.])"
      ]
     },
     "execution_count": 22,
     "metadata": {},
     "output_type": "execute_result"
    }
   ],
   "source": [
    "df['critic_score'].unique()"
   ]
  },
  {
   "cell_type": "markdown",
   "metadata": {},
   "source": [
    "Для игр, рейтинг критиков которых неопределен, пропущенные значения восстановим как средний рейтинг критиков для данной игры по всем платформам:"
   ]
  },
  {
   "cell_type": "code",
   "execution_count": 23,
   "metadata": {},
   "outputs": [],
   "source": [
    "df['critic_score'].fillna(df.groupby('name')['critic_score'].transform('mean'), inplace = True)\n",
    "#df.info()"
   ]
  },
  {
   "cell_type": "markdown",
   "metadata": {},
   "source": [
    "Для остальных игр, рейтинг критиков которых неопределен, пропущенные значения заменим на нули:"
   ]
  },
  {
   "cell_type": "code",
   "execution_count": 24,
   "metadata": {},
   "outputs": [],
   "source": [
    "df['critic_score'] = df['critic_score'].fillna(0.0)"
   ]
  },
  {
   "cell_type": "code",
   "execution_count": 25,
   "metadata": {},
   "outputs": [],
   "source": [
    "#df.query('critic_score == \"tbd\"')"
   ]
  },
  {
   "cell_type": "markdown",
   "metadata": {},
   "source": [
    "Проверка значений в столбце user_score:"
   ]
  },
  {
   "cell_type": "code",
   "execution_count": 26,
   "metadata": {},
   "outputs": [
    {
     "data": {
      "text/plain": [
       "array(['8', nan, '8.3', '8.5', '6.6', '8.4', '8.6', '7.7', '6.3', '7.4',\n",
       "       '8.2', '9', '7.9', '8.1', '8.7', '7.1', '3.4', '5.3', '4.8', '3.2',\n",
       "       '8.9', '6.4', '7.8', '7.5', '2.6', '7.2', '9.2', '7', '7.3', '4.3',\n",
       "       '7.6', '5.7', '5', '9.1', '6.5', 'tbd', '8.8', '6.9', '9.4', '6.8',\n",
       "       '6.1', '6.7', '5.4', '4', '4.9', '4.5', '9.3', '6.2', '4.2', '6',\n",
       "       '3.7', '4.1', '5.8', '5.6', '5.5', '4.4', '4.6', '5.9', '3.9',\n",
       "       '3.1', '2.9', '5.2', '3.3', '4.7', '5.1', '3.5', '2.5', '1.9', '3',\n",
       "       '2.7', '2.2', '2', '9.5', '2.1', '3.6', '2.8', '1.8', '3.8', '0',\n",
       "       '1.6', '9.6', '2.4', '1.7', '1.1', '0.3', '1.5', '0.7', '1.2',\n",
       "       '2.3', '0.5', '1.3', '0.2', '0.6', '1.4', '0.9', '1', '9.7'],\n",
       "      dtype=object)"
      ]
     },
     "execution_count": 26,
     "metadata": {},
     "output_type": "execute_result"
    }
   ],
   "source": [
    "df['user_score'].unique()"
   ]
  },
  {
   "cell_type": "code",
   "execution_count": 27,
   "metadata": {},
   "outputs": [
    {
     "data": {
      "text/html": [
       "<div>\n",
       "<style scoped>\n",
       "    .dataframe tbody tr th:only-of-type {\n",
       "        vertical-align: middle;\n",
       "    }\n",
       "\n",
       "    .dataframe tbody tr th {\n",
       "        vertical-align: top;\n",
       "    }\n",
       "\n",
       "    .dataframe thead th {\n",
       "        text-align: right;\n",
       "    }\n",
       "</style>\n",
       "<table border=\"1\" class=\"dataframe\">\n",
       "  <thead>\n",
       "    <tr style=\"text-align: right;\">\n",
       "      <th></th>\n",
       "      <th>name</th>\n",
       "      <th>platform</th>\n",
       "      <th>year_of_release</th>\n",
       "      <th>genre</th>\n",
       "      <th>na_sales</th>\n",
       "      <th>eu_sales</th>\n",
       "      <th>jp_sales</th>\n",
       "      <th>other_sales</th>\n",
       "      <th>critic_score</th>\n",
       "      <th>user_score</th>\n",
       "      <th>rating</th>\n",
       "    </tr>\n",
       "  </thead>\n",
       "  <tbody>\n",
       "    <tr>\n",
       "      <td>119</td>\n",
       "      <td>zumba fitness</td>\n",
       "      <td>wii</td>\n",
       "      <td>2010</td>\n",
       "      <td>sports</td>\n",
       "      <td>3.45</td>\n",
       "      <td>2.59</td>\n",
       "      <td>0.00</td>\n",
       "      <td>0.66</td>\n",
       "      <td>42.0</td>\n",
       "      <td>tbd</td>\n",
       "      <td>E</td>\n",
       "    </tr>\n",
       "    <tr>\n",
       "      <td>301</td>\n",
       "      <td>namco museum: 50th anniversary</td>\n",
       "      <td>ps2</td>\n",
       "      <td>2005</td>\n",
       "      <td>misc</td>\n",
       "      <td>2.08</td>\n",
       "      <td>1.35</td>\n",
       "      <td>0.00</td>\n",
       "      <td>0.54</td>\n",
       "      <td>61.0</td>\n",
       "      <td>tbd</td>\n",
       "      <td>E10+</td>\n",
       "    </tr>\n",
       "    <tr>\n",
       "      <td>520</td>\n",
       "      <td>zumba fitness 2</td>\n",
       "      <td>wii</td>\n",
       "      <td>2011</td>\n",
       "      <td>sports</td>\n",
       "      <td>1.51</td>\n",
       "      <td>1.03</td>\n",
       "      <td>0.00</td>\n",
       "      <td>0.27</td>\n",
       "      <td>0.0</td>\n",
       "      <td>tbd</td>\n",
       "      <td>T</td>\n",
       "    </tr>\n",
       "    <tr>\n",
       "      <td>645</td>\n",
       "      <td>udraw studio</td>\n",
       "      <td>wii</td>\n",
       "      <td>2010</td>\n",
       "      <td>misc</td>\n",
       "      <td>1.65</td>\n",
       "      <td>0.57</td>\n",
       "      <td>0.00</td>\n",
       "      <td>0.20</td>\n",
       "      <td>71.0</td>\n",
       "      <td>tbd</td>\n",
       "      <td>E</td>\n",
       "    </tr>\n",
       "    <tr>\n",
       "      <td>718</td>\n",
       "      <td>just dance kids</td>\n",
       "      <td>wii</td>\n",
       "      <td>2010</td>\n",
       "      <td>misc</td>\n",
       "      <td>1.52</td>\n",
       "      <td>0.54</td>\n",
       "      <td>0.00</td>\n",
       "      <td>0.18</td>\n",
       "      <td>0.0</td>\n",
       "      <td>tbd</td>\n",
       "      <td>E</td>\n",
       "    </tr>\n",
       "    <tr>\n",
       "      <td>726</td>\n",
       "      <td>dance dance revolution x2</td>\n",
       "      <td>ps2</td>\n",
       "      <td>2009</td>\n",
       "      <td>simulation</td>\n",
       "      <td>1.09</td>\n",
       "      <td>0.85</td>\n",
       "      <td>0.00</td>\n",
       "      <td>0.28</td>\n",
       "      <td>0.0</td>\n",
       "      <td>tbd</td>\n",
       "      <td>E10+</td>\n",
       "    </tr>\n",
       "    <tr>\n",
       "      <td>821</td>\n",
       "      <td>the incredibles</td>\n",
       "      <td>gba</td>\n",
       "      <td>2004</td>\n",
       "      <td>action</td>\n",
       "      <td>1.15</td>\n",
       "      <td>0.77</td>\n",
       "      <td>0.04</td>\n",
       "      <td>0.10</td>\n",
       "      <td>55.0</td>\n",
       "      <td>tbd</td>\n",
       "      <td>E</td>\n",
       "    </tr>\n",
       "    <tr>\n",
       "      <td>881</td>\n",
       "      <td>who wants to be a millionaire</td>\n",
       "      <td>pc</td>\n",
       "      <td>1999</td>\n",
       "      <td>misc</td>\n",
       "      <td>1.94</td>\n",
       "      <td>0.00</td>\n",
       "      <td>0.00</td>\n",
       "      <td>0.00</td>\n",
       "      <td>0.0</td>\n",
       "      <td>tbd</td>\n",
       "      <td>E</td>\n",
       "    </tr>\n",
       "    <tr>\n",
       "      <td>1047</td>\n",
       "      <td>tetris worlds</td>\n",
       "      <td>gba</td>\n",
       "      <td>2001</td>\n",
       "      <td>puzzle</td>\n",
       "      <td>1.25</td>\n",
       "      <td>0.39</td>\n",
       "      <td>0.00</td>\n",
       "      <td>0.06</td>\n",
       "      <td>65.0</td>\n",
       "      <td>tbd</td>\n",
       "      <td>E</td>\n",
       "    </tr>\n",
       "    <tr>\n",
       "      <td>1048</td>\n",
       "      <td>imagine: teacher</td>\n",
       "      <td>ds</td>\n",
       "      <td>2008</td>\n",
       "      <td>simulation</td>\n",
       "      <td>0.70</td>\n",
       "      <td>0.82</td>\n",
       "      <td>0.00</td>\n",
       "      <td>0.19</td>\n",
       "      <td>0.0</td>\n",
       "      <td>tbd</td>\n",
       "      <td>E</td>\n",
       "    </tr>\n",
       "  </tbody>\n",
       "</table>\n",
       "</div>"
      ],
      "text/plain": [
       "                                name platform  year_of_release       genre  \\\n",
       "119                    zumba fitness      wii             2010      sports   \n",
       "301   namco museum: 50th anniversary      ps2             2005        misc   \n",
       "520                  zumba fitness 2      wii             2011      sports   \n",
       "645                     udraw studio      wii             2010        misc   \n",
       "718                  just dance kids      wii             2010        misc   \n",
       "726        dance dance revolution x2      ps2             2009  simulation   \n",
       "821                  the incredibles      gba             2004      action   \n",
       "881    who wants to be a millionaire       pc             1999        misc   \n",
       "1047                   tetris worlds      gba             2001      puzzle   \n",
       "1048                imagine: teacher       ds             2008  simulation   \n",
       "\n",
       "      na_sales  eu_sales  jp_sales  other_sales  critic_score user_score  \\\n",
       "119       3.45      2.59      0.00         0.66          42.0        tbd   \n",
       "301       2.08      1.35      0.00         0.54          61.0        tbd   \n",
       "520       1.51      1.03      0.00         0.27           0.0        tbd   \n",
       "645       1.65      0.57      0.00         0.20          71.0        tbd   \n",
       "718       1.52      0.54      0.00         0.18           0.0        tbd   \n",
       "726       1.09      0.85      0.00         0.28           0.0        tbd   \n",
       "821       1.15      0.77      0.04         0.10          55.0        tbd   \n",
       "881       1.94      0.00      0.00         0.00           0.0        tbd   \n",
       "1047      1.25      0.39      0.00         0.06          65.0        tbd   \n",
       "1048      0.70      0.82      0.00         0.19           0.0        tbd   \n",
       "\n",
       "     rating  \n",
       "119       E  \n",
       "301    E10+  \n",
       "520       T  \n",
       "645       E  \n",
       "718       E  \n",
       "726    E10+  \n",
       "821       E  \n",
       "881       E  \n",
       "1047      E  \n",
       "1048      E  "
      ]
     },
     "execution_count": 27,
     "metadata": {},
     "output_type": "execute_result"
    }
   ],
   "source": [
    "df.query('user_score == \"tbd\"').head(10)"
   ]
  },
  {
   "cell_type": "markdown",
   "metadata": {},
   "source": [
    "Аббревиатура tbd - от английского To Be Determined (будет определено) означает, что рейтинг для данной игры не определен. Поэтому заменим значения с данной аббревиатурой на нули:"
   ]
  },
  {
   "cell_type": "code",
   "execution_count": 28,
   "metadata": {},
   "outputs": [],
   "source": [
    "df.loc[df['user_score'] == 'tbd', 'user_score'] = 0.0\n",
    "#df.info()"
   ]
  },
  {
   "cell_type": "markdown",
   "metadata": {},
   "source": [
    "Т.к. выполняется работа с числами, а не текстом, изменим тип данных в столбце с object на float:"
   ]
  },
  {
   "cell_type": "code",
   "execution_count": 29,
   "metadata": {},
   "outputs": [],
   "source": [
    "df['user_score'] = df['user_score'].astype('float')"
   ]
  },
  {
   "cell_type": "markdown",
   "metadata": {},
   "source": [
    "Для игр, рейтинг критиков которых неопределен, пропущенные значения восстановим как средний рейтинг критиков для данной игры по всем платформам:"
   ]
  },
  {
   "cell_type": "code",
   "execution_count": 30,
   "metadata": {},
   "outputs": [],
   "source": [
    "df['user_score'].fillna(df.groupby('name')['user_score'].transform('mean'), inplace = True)\n",
    "#df.info()"
   ]
  },
  {
   "cell_type": "markdown",
   "metadata": {},
   "source": [
    "Для остальных игр, рейтинг критиков которых неопределен, пропущенные значения заменим на нули:"
   ]
  },
  {
   "cell_type": "code",
   "execution_count": 31,
   "metadata": {},
   "outputs": [
    {
     "name": "stdout",
     "output_type": "stream",
     "text": [
      "<class 'pandas.core.frame.DataFrame'>\n",
      "Int64Index: 16567 entries, 0 to 16714\n",
      "Data columns (total 11 columns):\n",
      "name               16567 non-null object\n",
      "platform           16567 non-null object\n",
      "year_of_release    16567 non-null int64\n",
      "genre              16567 non-null object\n",
      "na_sales           16567 non-null float64\n",
      "eu_sales           16567 non-null float64\n",
      "jp_sales           16567 non-null float64\n",
      "other_sales        16567 non-null float64\n",
      "critic_score       16567 non-null float64\n",
      "user_score         16567 non-null float64\n",
      "rating             9868 non-null object\n",
      "dtypes: float64(6), int64(1), object(4)\n",
      "memory usage: 1.5+ MB\n"
     ]
    }
   ],
   "source": [
    "df['user_score'] = df['user_score'].fillna(0.0)\n",
    "df.info()"
   ]
  },
  {
   "cell_type": "code",
   "execution_count": 32,
   "metadata": {},
   "outputs": [
    {
     "data": {
      "text/plain": [
       "array(['E', nan, 'M', 'T', 'E10+', 'K-A', 'AO', 'EC', 'RP'], dtype=object)"
      ]
     },
     "execution_count": 32,
     "metadata": {},
     "output_type": "execute_result"
    }
   ],
   "source": [
    "df['rating'].unique()"
   ]
  },
  {
   "cell_type": "markdown",
   "metadata": {},
   "source": [
    "Для пропущенных значений в столбце c рейтингом ESRB логичное значение для замены отсутствует - пропущенные значения оставим без изменений."
   ]
  },
  {
   "cell_type": "markdown",
   "metadata": {},
   "source": [
    "### Проверка строк таблицы на наличие дубликатов"
   ]
  },
  {
   "cell_type": "code",
   "execution_count": 33,
   "metadata": {},
   "outputs": [
    {
     "data": {
      "text/plain": [
       "0"
      ]
     },
     "execution_count": 33,
     "metadata": {},
     "output_type": "execute_result"
    }
   ],
   "source": [
    "df.duplicated().sum()"
   ]
  },
  {
   "cell_type": "markdown",
   "metadata": {},
   "source": [
    "Дубликатов не обнаружено."
   ]
  },
  {
   "cell_type": "markdown",
   "metadata": {},
   "source": [
    "### Подсчет суммарных продаж во всех регионах в отдельном столбце"
   ]
  },
  {
   "cell_type": "code",
   "execution_count": 34,
   "metadata": {},
   "outputs": [
    {
     "data": {
      "text/html": [
       "<div>\n",
       "<style scoped>\n",
       "    .dataframe tbody tr th:only-of-type {\n",
       "        vertical-align: middle;\n",
       "    }\n",
       "\n",
       "    .dataframe tbody tr th {\n",
       "        vertical-align: top;\n",
       "    }\n",
       "\n",
       "    .dataframe thead th {\n",
       "        text-align: right;\n",
       "    }\n",
       "</style>\n",
       "<table border=\"1\" class=\"dataframe\">\n",
       "  <thead>\n",
       "    <tr style=\"text-align: right;\">\n",
       "      <th></th>\n",
       "      <th>name</th>\n",
       "      <th>platform</th>\n",
       "      <th>year_of_release</th>\n",
       "      <th>genre</th>\n",
       "      <th>na_sales</th>\n",
       "      <th>eu_sales</th>\n",
       "      <th>jp_sales</th>\n",
       "      <th>other_sales</th>\n",
       "      <th>critic_score</th>\n",
       "      <th>user_score</th>\n",
       "      <th>rating</th>\n",
       "    </tr>\n",
       "  </thead>\n",
       "  <tbody>\n",
       "    <tr>\n",
       "      <td>0</td>\n",
       "      <td>wii sports</td>\n",
       "      <td>wii</td>\n",
       "      <td>2006</td>\n",
       "      <td>sports</td>\n",
       "      <td>41.36</td>\n",
       "      <td>28.96</td>\n",
       "      <td>3.77</td>\n",
       "      <td>8.45</td>\n",
       "      <td>76.0</td>\n",
       "      <td>8.0</td>\n",
       "      <td>E</td>\n",
       "    </tr>\n",
       "    <tr>\n",
       "      <td>1</td>\n",
       "      <td>super mario bros.</td>\n",
       "      <td>nes</td>\n",
       "      <td>1985</td>\n",
       "      <td>platform</td>\n",
       "      <td>29.08</td>\n",
       "      <td>3.58</td>\n",
       "      <td>6.81</td>\n",
       "      <td>0.77</td>\n",
       "      <td>0.0</td>\n",
       "      <td>0.0</td>\n",
       "      <td>NaN</td>\n",
       "    </tr>\n",
       "  </tbody>\n",
       "</table>\n",
       "</div>"
      ],
      "text/plain": [
       "                name platform  year_of_release     genre  na_sales  eu_sales  \\\n",
       "0         wii sports      wii             2006    sports     41.36     28.96   \n",
       "1  super mario bros.      nes             1985  platform     29.08      3.58   \n",
       "\n",
       "   jp_sales  other_sales  critic_score  user_score rating  \n",
       "0      3.77         8.45          76.0         8.0      E  \n",
       "1      6.81         0.77           0.0         0.0    NaN  "
      ]
     },
     "execution_count": 34,
     "metadata": {},
     "output_type": "execute_result"
    }
   ],
   "source": [
    "df.head(2)"
   ]
  },
  {
   "cell_type": "code",
   "execution_count": 35,
   "metadata": {},
   "outputs": [
    {
     "data": {
      "text/html": [
       "<div>\n",
       "<style scoped>\n",
       "    .dataframe tbody tr th:only-of-type {\n",
       "        vertical-align: middle;\n",
       "    }\n",
       "\n",
       "    .dataframe tbody tr th {\n",
       "        vertical-align: top;\n",
       "    }\n",
       "\n",
       "    .dataframe thead th {\n",
       "        text-align: right;\n",
       "    }\n",
       "</style>\n",
       "<table border=\"1\" class=\"dataframe\">\n",
       "  <thead>\n",
       "    <tr style=\"text-align: right;\">\n",
       "      <th></th>\n",
       "      <th>name</th>\n",
       "      <th>platform</th>\n",
       "      <th>year_of_release</th>\n",
       "      <th>genre</th>\n",
       "      <th>na_sales</th>\n",
       "      <th>eu_sales</th>\n",
       "      <th>jp_sales</th>\n",
       "      <th>other_sales</th>\n",
       "      <th>critic_score</th>\n",
       "      <th>user_score</th>\n",
       "      <th>rating</th>\n",
       "      <th>total_sales</th>\n",
       "    </tr>\n",
       "  </thead>\n",
       "  <tbody>\n",
       "    <tr>\n",
       "      <td>15969</td>\n",
       "      <td>earth defense force 2017 (old jp sales)</td>\n",
       "      <td>x360</td>\n",
       "      <td>2006</td>\n",
       "      <td>shooter</td>\n",
       "      <td>0.00</td>\n",
       "      <td>0.00</td>\n",
       "      <td>0.02</td>\n",
       "      <td>0.00</td>\n",
       "      <td>0.0</td>\n",
       "      <td>0.0</td>\n",
       "      <td>NaN</td>\n",
       "      <td>0.02</td>\n",
       "    </tr>\n",
       "    <tr>\n",
       "      <td>6149</td>\n",
       "      <td>operation flashpoint: red river</td>\n",
       "      <td>x360</td>\n",
       "      <td>2011</td>\n",
       "      <td>shooter</td>\n",
       "      <td>0.10</td>\n",
       "      <td>0.14</td>\n",
       "      <td>0.01</td>\n",
       "      <td>0.03</td>\n",
       "      <td>69.0</td>\n",
       "      <td>6.1</td>\n",
       "      <td>M</td>\n",
       "      <td>0.28</td>\n",
       "    </tr>\n",
       "    <tr>\n",
       "      <td>14910</td>\n",
       "      <td>harvest moon: skytree village</td>\n",
       "      <td>3ds</td>\n",
       "      <td>2016</td>\n",
       "      <td>simulation</td>\n",
       "      <td>0.02</td>\n",
       "      <td>0.00</td>\n",
       "      <td>0.00</td>\n",
       "      <td>0.00</td>\n",
       "      <td>0.0</td>\n",
       "      <td>7.4</td>\n",
       "      <td>E</td>\n",
       "      <td>0.02</td>\n",
       "    </tr>\n",
       "    <tr>\n",
       "      <td>12926</td>\n",
       "      <td>defendin' de penguin</td>\n",
       "      <td>wii</td>\n",
       "      <td>2008</td>\n",
       "      <td>strategy</td>\n",
       "      <td>0.05</td>\n",
       "      <td>0.00</td>\n",
       "      <td>0.00</td>\n",
       "      <td>0.00</td>\n",
       "      <td>0.0</td>\n",
       "      <td>0.0</td>\n",
       "      <td>NaN</td>\n",
       "      <td>0.05</td>\n",
       "    </tr>\n",
       "    <tr>\n",
       "      <td>13428</td>\n",
       "      <td>hakuouki: bakumatsu musou roku</td>\n",
       "      <td>psp</td>\n",
       "      <td>2012</td>\n",
       "      <td>action</td>\n",
       "      <td>0.00</td>\n",
       "      <td>0.00</td>\n",
       "      <td>0.05</td>\n",
       "      <td>0.00</td>\n",
       "      <td>0.0</td>\n",
       "      <td>0.0</td>\n",
       "      <td>NaN</td>\n",
       "      <td>0.05</td>\n",
       "    </tr>\n",
       "    <tr>\n",
       "      <td>12631</td>\n",
       "      <td>metal max 4: gekkou no diva</td>\n",
       "      <td>3ds</td>\n",
       "      <td>2013</td>\n",
       "      <td>role-playing</td>\n",
       "      <td>0.00</td>\n",
       "      <td>0.00</td>\n",
       "      <td>0.06</td>\n",
       "      <td>0.00</td>\n",
       "      <td>0.0</td>\n",
       "      <td>0.0</td>\n",
       "      <td>NaN</td>\n",
       "      <td>0.06</td>\n",
       "    </tr>\n",
       "    <tr>\n",
       "      <td>6141</td>\n",
       "      <td>jissen pachi-slot hisshouhou! moujuu-oh s</td>\n",
       "      <td>ps2</td>\n",
       "      <td>2002</td>\n",
       "      <td>misc</td>\n",
       "      <td>0.00</td>\n",
       "      <td>0.00</td>\n",
       "      <td>0.28</td>\n",
       "      <td>0.00</td>\n",
       "      <td>0.0</td>\n",
       "      <td>0.0</td>\n",
       "      <td>NaN</td>\n",
       "      <td>0.28</td>\n",
       "    </tr>\n",
       "    <tr>\n",
       "      <td>5693</td>\n",
       "      <td>virtua striker 2</td>\n",
       "      <td>dc</td>\n",
       "      <td>1999</td>\n",
       "      <td>sports</td>\n",
       "      <td>0.00</td>\n",
       "      <td>0.00</td>\n",
       "      <td>0.32</td>\n",
       "      <td>0.00</td>\n",
       "      <td>0.0</td>\n",
       "      <td>0.0</td>\n",
       "      <td>NaN</td>\n",
       "      <td>0.32</td>\n",
       "    </tr>\n",
       "    <tr>\n",
       "      <td>7345</td>\n",
       "      <td>hannah montana: the movie</td>\n",
       "      <td>x360</td>\n",
       "      <td>2009</td>\n",
       "      <td>adventure</td>\n",
       "      <td>0.14</td>\n",
       "      <td>0.05</td>\n",
       "      <td>0.00</td>\n",
       "      <td>0.02</td>\n",
       "      <td>25.0</td>\n",
       "      <td>3.8</td>\n",
       "      <td>E</td>\n",
       "      <td>0.21</td>\n",
       "    </tr>\n",
       "    <tr>\n",
       "      <td>3291</td>\n",
       "      <td>texas hold 'em poker</td>\n",
       "      <td>gba</td>\n",
       "      <td>2004</td>\n",
       "      <td>misc</td>\n",
       "      <td>0.44</td>\n",
       "      <td>0.16</td>\n",
       "      <td>0.00</td>\n",
       "      <td>0.01</td>\n",
       "      <td>49.0</td>\n",
       "      <td>6.8</td>\n",
       "      <td>E</td>\n",
       "      <td>0.61</td>\n",
       "    </tr>\n",
       "  </tbody>\n",
       "</table>\n",
       "</div>"
      ],
      "text/plain": [
       "                                            name platform  year_of_release  \\\n",
       "15969    earth defense force 2017 (old jp sales)     x360             2006   \n",
       "6149             operation flashpoint: red river     x360             2011   \n",
       "14910              harvest moon: skytree village      3ds             2016   \n",
       "12926                       defendin' de penguin      wii             2008   \n",
       "13428             hakuouki: bakumatsu musou roku      psp             2012   \n",
       "12631                metal max 4: gekkou no diva      3ds             2013   \n",
       "6141   jissen pachi-slot hisshouhou! moujuu-oh s      ps2             2002   \n",
       "5693                            virtua striker 2       dc             1999   \n",
       "7345                   hannah montana: the movie     x360             2009   \n",
       "3291                        texas hold 'em poker      gba             2004   \n",
       "\n",
       "              genre  na_sales  eu_sales  jp_sales  other_sales  critic_score  \\\n",
       "15969       shooter      0.00      0.00      0.02         0.00           0.0   \n",
       "6149        shooter      0.10      0.14      0.01         0.03          69.0   \n",
       "14910    simulation      0.02      0.00      0.00         0.00           0.0   \n",
       "12926      strategy      0.05      0.00      0.00         0.00           0.0   \n",
       "13428        action      0.00      0.00      0.05         0.00           0.0   \n",
       "12631  role-playing      0.00      0.00      0.06         0.00           0.0   \n",
       "6141           misc      0.00      0.00      0.28         0.00           0.0   \n",
       "5693         sports      0.00      0.00      0.32         0.00           0.0   \n",
       "7345      adventure      0.14      0.05      0.00         0.02          25.0   \n",
       "3291           misc      0.44      0.16      0.00         0.01          49.0   \n",
       "\n",
       "       user_score rating  total_sales  \n",
       "15969         0.0    NaN         0.02  \n",
       "6149          6.1      M         0.28  \n",
       "14910         7.4      E         0.02  \n",
       "12926         0.0    NaN         0.05  \n",
       "13428         0.0    NaN         0.05  \n",
       "12631         0.0    NaN         0.06  \n",
       "6141          0.0    NaN         0.28  \n",
       "5693          0.0    NaN         0.32  \n",
       "7345          3.8      E         0.21  \n",
       "3291          6.8      E         0.61  "
      ]
     },
     "execution_count": 35,
     "metadata": {},
     "output_type": "execute_result"
    }
   ],
   "source": [
    "df['total_sales'] = df['na_sales'] + df['eu_sales'] + df['jp_sales'] + df['other_sales']\n",
    "df.sample(10)"
   ]
  },
  {
   "cell_type": "markdown",
   "metadata": {},
   "source": [
    "**Вывод**"
   ]
  },
  {
   "cell_type": "markdown",
   "metadata": {},
   "source": [
    "1.\tНазвания столбцов таблицы, а также значения в столбцах name, platform и genre приведены к единому нижнему регистру;\n",
    "2.\tВосстановлены пропущенные значения в столбцах year_of_release, critic_score, user_score и rating в строках, где возможна логичная замена пропущенных значений;\n",
    "3.\tИз датафрейма исключены две игры с неизвестным названием, а также 146 игр с неизвестной датой выпуска, для восстановления которой не нашлось логичных значений для замены – исключение данных строк не окажет значительного влияния на результаты анализа (менее 1 % всего датафрейма);\n",
    "4.\tЗначения в столбце year_of_release приведены из вещественного типа данных к целочисленному;\n",
    "5.\tТип данных в столбце user_score изменен с object на float;\n",
    "6.\tВ столбце user_score значения с аббревиатурой tbd (от английского To Be Determined - будет определено) заменены на нули?\n",
    "7.\tДатафрейм проверен на наличие дубликатов – дубликатов не обнаружено;\n",
    "8.\tВ таблицу добавлен столбец с подсчетом суммарных продаж во всех регионах."
   ]
  },
  {
   "cell_type": "markdown",
   "metadata": {},
   "source": [
    "## Шаг 3. Проведение исследовательского анализа данных"
   ]
  },
  {
   "cell_type": "markdown",
   "metadata": {},
   "source": [
    "### Анализ игр, выпущенных в разные годы"
   ]
  },
  {
   "cell_type": "markdown",
   "metadata": {},
   "source": [
    "Сгруппируем игры по году выпуска с использованием метода pivot_table():"
   ]
  },
  {
   "cell_type": "code",
   "execution_count": 36,
   "metadata": {},
   "outputs": [
    {
     "data": {
      "text/html": [
       "<div>\n",
       "<style scoped>\n",
       "    .dataframe tbody tr th:only-of-type {\n",
       "        vertical-align: middle;\n",
       "    }\n",
       "\n",
       "    .dataframe tbody tr th {\n",
       "        vertical-align: top;\n",
       "    }\n",
       "\n",
       "    .dataframe thead th {\n",
       "        text-align: right;\n",
       "    }\n",
       "</style>\n",
       "<table border=\"1\" class=\"dataframe\">\n",
       "  <thead>\n",
       "    <tr style=\"text-align: right;\">\n",
       "      <th></th>\n",
       "      <th>name</th>\n",
       "    </tr>\n",
       "    <tr>\n",
       "      <th>year_of_release</th>\n",
       "      <th></th>\n",
       "    </tr>\n",
       "  </thead>\n",
       "  <tbody>\n",
       "    <tr>\n",
       "      <td>2008</td>\n",
       "      <td>1441</td>\n",
       "    </tr>\n",
       "    <tr>\n",
       "      <td>2009</td>\n",
       "      <td>1430</td>\n",
       "    </tr>\n",
       "    <tr>\n",
       "      <td>2010</td>\n",
       "      <td>1269</td>\n",
       "    </tr>\n",
       "    <tr>\n",
       "      <td>2007</td>\n",
       "      <td>1202</td>\n",
       "    </tr>\n",
       "    <tr>\n",
       "      <td>2011</td>\n",
       "      <td>1153</td>\n",
       "    </tr>\n",
       "    <tr>\n",
       "      <td>2006</td>\n",
       "      <td>1019</td>\n",
       "    </tr>\n",
       "    <tr>\n",
       "      <td>2005</td>\n",
       "      <td>948</td>\n",
       "    </tr>\n",
       "    <tr>\n",
       "      <td>2002</td>\n",
       "      <td>844</td>\n",
       "    </tr>\n",
       "    <tr>\n",
       "      <td>2003</td>\n",
       "      <td>784</td>\n",
       "    </tr>\n",
       "    <tr>\n",
       "      <td>2004</td>\n",
       "      <td>765</td>\n",
       "    </tr>\n",
       "  </tbody>\n",
       "</table>\n",
       "</div>"
      ],
      "text/plain": [
       "                 name\n",
       "year_of_release      \n",
       "2008             1441\n",
       "2009             1430\n",
       "2010             1269\n",
       "2007             1202\n",
       "2011             1153\n",
       "2006             1019\n",
       "2005              948\n",
       "2002              844\n",
       "2003              784\n",
       "2004              765"
      ]
     },
     "execution_count": 36,
     "metadata": {},
     "output_type": "execute_result"
    }
   ],
   "source": [
    "game_year_of_release = df.pivot_table(index = 'year_of_release', values = 'name', aggfunc = 'count')\n",
    "game_year_of_release.sort_values('name', ascending = False).head(10)"
   ]
  },
  {
   "cell_type": "code",
   "execution_count": 37,
   "metadata": {
    "scrolled": true
   },
   "outputs": [
    {
     "data": {
      "text/plain": [
       "Text(0.5, 1.0, 'Распределение выпущенных игр по годам')"
      ]
     },
     "execution_count": 37,
     "metadata": {},
     "output_type": "execute_result"
    },
    {
     "data": {
      "image/png": "[encoded data removed]",
      "text/plain": [
       "<Figure size 504x504 with 1 Axes>"
      ]
     },
     "metadata": {
      "needs_background": "light"
     },
     "output_type": "display_data"
    }
   ],
   "source": [
    "game_year_of_release['name'].plot(grid=True,figsize=(7,7))\n",
    "plt.xlabel('Год выпуска', fontsize=12)\n",
    "plt.ylabel('Количество игр', fontsize=12)\n",
    "plt.title('Распределение выпущенных игр по годам', fontsize=13)"
   ]
  },
  {
   "cell_type": "markdown",
   "metadata": {},
   "source": [
    "**Вывод**"
   ]
  },
  {
   "cell_type": "markdown",
   "metadata": {},
   "source": [
    "На графике видно, что начиная с 1994 года количество выпускаемых игр с каждым годом значительно увеличивалось и достигло максимального значения в 2008 году - 1441 выпущенная игра за год. С 2009 года количество ежегодно выпускаемых игр начало снижаться. Очевидно, что большое количество выпущенных за 2008 год игр свидетельствует о значительной популярности компьютерных игр в целом. Данные по выпуску игр за все периоды не важны, поскольку прогресс не стоит на месте и с каждым годом выпускаются все более интересные и освершенные игры, и найдется не так много пользователей, кто захочет купить игру более раннего года выпуска. "
   ]
  },
  {
   "cell_type": "markdown",
   "metadata": {},
   "source": [
    "### Анализ продаж по платформам. Выбор платформ с наибольшими суммарными продажами и построение распределений по годам"
   ]
  },
  {
   "cell_type": "markdown",
   "metadata": {},
   "source": [
    "Найдем платформы с наибольшими суммарными продажами:"
   ]
  },
  {
   "cell_type": "code",
   "execution_count": 38,
   "metadata": {
    "scrolled": true
   },
   "outputs": [
    {
     "data": {
      "text/html": [
       "<div>\n",
       "<style scoped>\n",
       "    .dataframe tbody tr th:only-of-type {\n",
       "        vertical-align: middle;\n",
       "    }\n",
       "\n",
       "    .dataframe tbody tr th {\n",
       "        vertical-align: top;\n",
       "    }\n",
       "\n",
       "    .dataframe thead th {\n",
       "        text-align: right;\n",
       "    }\n",
       "</style>\n",
       "<table border=\"1\" class=\"dataframe\">\n",
       "  <thead>\n",
       "    <tr style=\"text-align: right;\">\n",
       "      <th></th>\n",
       "      <th>total_sales</th>\n",
       "    </tr>\n",
       "    <tr>\n",
       "      <th>platform</th>\n",
       "      <th></th>\n",
       "    </tr>\n",
       "  </thead>\n",
       "  <tbody>\n",
       "    <tr>\n",
       "      <td>ps2</td>\n",
       "      <td>1247.16</td>\n",
       "    </tr>\n",
       "    <tr>\n",
       "      <td>x360</td>\n",
       "      <td>966.61</td>\n",
       "    </tr>\n",
       "    <tr>\n",
       "      <td>ps3</td>\n",
       "      <td>935.19</td>\n",
       "    </tr>\n",
       "    <tr>\n",
       "      <td>wii</td>\n",
       "      <td>903.31</td>\n",
       "    </tr>\n",
       "    <tr>\n",
       "      <td>ds</td>\n",
       "      <td>804.28</td>\n",
       "    </tr>\n",
       "    <tr>\n",
       "      <td>ps</td>\n",
       "      <td>727.58</td>\n",
       "    </tr>\n",
       "    <tr>\n",
       "      <td>ps4</td>\n",
       "      <td>314.14</td>\n",
       "    </tr>\n",
       "    <tr>\n",
       "      <td>gba</td>\n",
       "      <td>313.73</td>\n",
       "    </tr>\n",
       "    <tr>\n",
       "      <td>psp</td>\n",
       "      <td>293.57</td>\n",
       "    </tr>\n",
       "    <tr>\n",
       "      <td>pc</td>\n",
       "      <td>258.86</td>\n",
       "    </tr>\n",
       "  </tbody>\n",
       "</table>\n",
       "</div>"
      ],
      "text/plain": [
       "          total_sales\n",
       "platform             \n",
       "ps2           1247.16\n",
       "x360           966.61\n",
       "ps3            935.19\n",
       "wii            903.31\n",
       "ds             804.28\n",
       "ps             727.58\n",
       "ps4            314.14\n",
       "gba            313.73\n",
       "psp            293.57\n",
       "pc             258.86"
      ]
     },
     "execution_count": 38,
     "metadata": {},
     "output_type": "execute_result"
    }
   ],
   "source": [
    "platform_sales = df.pivot_table(index = 'platform', values = 'total_sales', aggfunc = 'sum').sort_values('total_sales', ascending = False)\n",
    "platform_sales.head(10)"
   ]
  },
  {
   "cell_type": "code",
   "execution_count": 39,
   "metadata": {},
   "outputs": [
    {
     "data": {
      "text/plain": [
       "Text(0, 0.5, 'Количество продаж, млн.')"
      ]
     },
     "execution_count": 39,
     "metadata": {},
     "output_type": "execute_result"
    },
    {
     "data": {
      "image/png": "[encoded data removed]",
      "text/plain": [
       "<Figure size 864x360 with 1 Axes>"
      ]
     },
     "metadata": {
      "needs_background": "light"
     },
     "output_type": "display_data"
    }
   ],
   "source": [
    "plt.figure(figsize=(12,5))\n",
    "sns.barplot(x=platform_sales.index,y=platform_sales['total_sales'])\n",
    "plt.title(\"Суммарные продажи по платформам\")\n",
    "plt.xlabel(\"Название платформы\")\n",
    "plt.ylabel(\"Количество продаж, млн.\")"
   ]
  },
  {
   "cell_type": "markdown",
   "metadata": {},
   "source": [
    "Из гистограммы видно, что за весь период наибольшие продажи игр составили по платформам: PS2, X360, PS3, WII, DS, PS."
   ]
  },
  {
   "cell_type": "markdown",
   "metadata": {},
   "source": [
    "Для топ 6 платформ построим графики распределения выпуска игр по годам:"
   ]
  },
  {
   "cell_type": "code",
   "execution_count": 40,
   "metadata": {},
   "outputs": [
    {
     "data": {
      "text/html": [
       "<div>\n",
       "<style scoped>\n",
       "    .dataframe tbody tr th:only-of-type {\n",
       "        vertical-align: middle;\n",
       "    }\n",
       "\n",
       "    .dataframe tbody tr th {\n",
       "        vertical-align: top;\n",
       "    }\n",
       "\n",
       "    .dataframe thead th {\n",
       "        text-align: right;\n",
       "    }\n",
       "</style>\n",
       "<table border=\"1\" class=\"dataframe\">\n",
       "  <thead>\n",
       "    <tr style=\"text-align: right;\">\n",
       "      <th></th>\n",
       "      <th>name</th>\n",
       "      <th>platform</th>\n",
       "      <th>year_of_release</th>\n",
       "      <th>genre</th>\n",
       "      <th>na_sales</th>\n",
       "      <th>eu_sales</th>\n",
       "      <th>jp_sales</th>\n",
       "      <th>other_sales</th>\n",
       "      <th>critic_score</th>\n",
       "      <th>user_score</th>\n",
       "      <th>rating</th>\n",
       "      <th>total_sales</th>\n",
       "    </tr>\n",
       "  </thead>\n",
       "  <tbody>\n",
       "    <tr>\n",
       "      <td>4343</td>\n",
       "      <td>singstar take that</td>\n",
       "      <td>ps2</td>\n",
       "      <td>2009</td>\n",
       "      <td>misc</td>\n",
       "      <td>0.00</td>\n",
       "      <td>0.06</td>\n",
       "      <td>0.00</td>\n",
       "      <td>0.39</td>\n",
       "      <td>0.0</td>\n",
       "      <td>0.0</td>\n",
       "      <td>NaN</td>\n",
       "      <td>0.45</td>\n",
       "    </tr>\n",
       "    <tr>\n",
       "      <td>939</td>\n",
       "      <td>chrono cross</td>\n",
       "      <td>ps</td>\n",
       "      <td>1999</td>\n",
       "      <td>role-playing</td>\n",
       "      <td>0.62</td>\n",
       "      <td>0.42</td>\n",
       "      <td>0.69</td>\n",
       "      <td>0.12</td>\n",
       "      <td>94.0</td>\n",
       "      <td>8.1</td>\n",
       "      <td>T</td>\n",
       "      <td>1.85</td>\n",
       "    </tr>\n",
       "    <tr>\n",
       "      <td>15111</td>\n",
       "      <td>kensei: sacred fist</td>\n",
       "      <td>ps</td>\n",
       "      <td>1997</td>\n",
       "      <td>fighting</td>\n",
       "      <td>0.01</td>\n",
       "      <td>0.01</td>\n",
       "      <td>0.00</td>\n",
       "      <td>0.00</td>\n",
       "      <td>0.0</td>\n",
       "      <td>0.0</td>\n",
       "      <td>NaN</td>\n",
       "      <td>0.02</td>\n",
       "    </tr>\n",
       "    <tr>\n",
       "      <td>13665</td>\n",
       "      <td>fifa soccer 2003 (weekly jp sales)</td>\n",
       "      <td>ps2</td>\n",
       "      <td>2002</td>\n",
       "      <td>sports</td>\n",
       "      <td>0.00</td>\n",
       "      <td>0.00</td>\n",
       "      <td>0.04</td>\n",
       "      <td>0.00</td>\n",
       "      <td>0.0</td>\n",
       "      <td>0.0</td>\n",
       "      <td>NaN</td>\n",
       "      <td>0.04</td>\n",
       "    </tr>\n",
       "    <tr>\n",
       "      <td>10950</td>\n",
       "      <td>let's ride! silver buckle stables</td>\n",
       "      <td>ps2</td>\n",
       "      <td>2006</td>\n",
       "      <td>sports</td>\n",
       "      <td>0.05</td>\n",
       "      <td>0.04</td>\n",
       "      <td>0.00</td>\n",
       "      <td>0.01</td>\n",
       "      <td>0.0</td>\n",
       "      <td>7.8</td>\n",
       "      <td>E</td>\n",
       "      <td>0.10</td>\n",
       "    </tr>\n",
       "  </tbody>\n",
       "</table>\n",
       "</div>"
      ],
      "text/plain": [
       "                                     name platform  year_of_release  \\\n",
       "4343                   singstar take that      ps2             2009   \n",
       "939                          chrono cross       ps             1999   \n",
       "15111                 kensei: sacred fist       ps             1997   \n",
       "13665  fifa soccer 2003 (weekly jp sales)      ps2             2002   \n",
       "10950   let's ride! silver buckle stables      ps2             2006   \n",
       "\n",
       "              genre  na_sales  eu_sales  jp_sales  other_sales  critic_score  \\\n",
       "4343           misc      0.00      0.06      0.00         0.39           0.0   \n",
       "939    role-playing      0.62      0.42      0.69         0.12          94.0   \n",
       "15111      fighting      0.01      0.01      0.00         0.00           0.0   \n",
       "13665        sports      0.00      0.00      0.04         0.00           0.0   \n",
       "10950        sports      0.05      0.04      0.00         0.01           0.0   \n",
       "\n",
       "       user_score rating  total_sales  \n",
       "4343          0.0    NaN         0.45  \n",
       "939           8.1      T         1.85  \n",
       "15111         0.0    NaN         0.02  \n",
       "13665         0.0    NaN         0.04  \n",
       "10950         7.8      E         0.10  "
      ]
     },
     "execution_count": 40,
     "metadata": {},
     "output_type": "execute_result"
    }
   ],
   "source": [
    "top_6_platform = df.query('platform == [\"ps2\", \"x360\", \"ps3\", \"wii\", \"ds\", \"ps\"]')\n",
    "top_6_platform.sample(5)"
   ]
  },
  {
   "cell_type": "code",
   "execution_count": 41,
   "metadata": {},
   "outputs": [
    {
     "data": {
      "text/plain": [
       "array(['wii', 'ds', 'x360', 'ps3', 'ps2', 'ps'], dtype=object)"
      ]
     },
     "execution_count": 41,
     "metadata": {},
     "output_type": "execute_result"
    }
   ],
   "source": [
    "top_6_platform_name = top_6_platform['platform'].unique()\n",
    "top_6_platform_name"
   ]
  },
  {
   "cell_type": "code",
   "execution_count": 42,
   "metadata": {},
   "outputs": [
    {
     "data": {
      "image/png": "[encoded data removed]",
      "text/plain": [
       "<Figure size 936x288 with 1 Axes>"
      ]
     },
     "metadata": {
      "needs_background": "light"
     },
     "output_type": "display_data"
    },
    {
     "data": {
      "image/png": "[encoded data removed]",
      "text/plain": [
       "<Figure size 936x288 with 1 Axes>"
      ]
     },
     "metadata": {
      "needs_background": "light"
     },
     "output_type": "display_data"
    },
    {
     "data": {
      "image/png": "[encoded data removed]",
      "text/plain": [
       "<Figure size 936x288 with 1 Axes>"
      ]
     },
     "metadata": {
      "needs_background": "light"
     },
     "output_type": "display_data"
    },
    {
     "data": {
      "image/png": "[encoded data removed]",
      "text/plain": [
       "<Figure size 936x288 with 1 Axes>"
      ]
     },
     "metadata": {
      "needs_background": "light"
     },
     "output_type": "display_data"
    },
    {
     "data": {
      "image/png": "[encoded data removed]",
      "text/plain": [
       "<Figure size 936x288 with 1 Axes>"
      ]
     },
     "metadata": {
      "needs_background": "light"
     },
     "output_type": "display_data"
    },
    {
     "data": {
      "image/png": "[encoded data removed]",
      "text/plain": [
       "<Figure size 936x288 with 1 Axes>"
      ]
     },
     "metadata": {
      "needs_background": "light"
     },
     "output_type": "display_data"
    }
   ],
   "source": [
    "for platform in top_6_platform_name:\n",
    "    top_6_platform[top_6_platform['platform'] == platform].pivot_table(index='year_of_release', values='total_sales', aggfunc='sum').plot(\n",
    "        kind='bar', figsize=(13,4))\n",
    "    plt.xlabel('Год выпуска', fontsize=12)\n",
    "    plt.ylabel('Объем продаж', fontsize=12)\n",
    "    plt.title(platform, fontsize=14)\n",
    "plt.show()"
   ]
  },
  {
   "cell_type": "markdown",
   "metadata": {},
   "source": [
    "Из построенных гистограмм по 6 самым популярным платформам за все время видно:\n",
    "1. средний срок появления новых платформ и исчезновения старых составляет около 10 лет;\n",
    "2. максимум продаж по платформе приходится в среднем на 4-5 год после выхода платформы."
   ]
  },
  {
   "cell_type": "markdown",
   "metadata": {},
   "source": [
    "### Определение актуального периода данных для построения прогноза"
   ]
  },
  {
   "cell_type": "markdown",
   "metadata": {},
   "source": [
    "С учетом, что средний срок жизни платформы составляет 10 лет, а максимум продаж приходится на 4-5 год выхода платформы, определим актуальный период - в выборку должны быть включены платформы и выпущенные игры не старше 2012 года. Далее, по построенным графикам распределения для игр, выпущенных после 2012 года, определим актуальные платформы на начало 2017 года."
   ]
  },
  {
   "cell_type": "code",
   "execution_count": 43,
   "metadata": {},
   "outputs": [
    {
     "data": {
      "text/html": [
       "<div>\n",
       "<style scoped>\n",
       "    .dataframe tbody tr th:only-of-type {\n",
       "        vertical-align: middle;\n",
       "    }\n",
       "\n",
       "    .dataframe tbody tr th {\n",
       "        vertical-align: top;\n",
       "    }\n",
       "\n",
       "    .dataframe thead th {\n",
       "        text-align: right;\n",
       "    }\n",
       "</style>\n",
       "<table border=\"1\" class=\"dataframe\">\n",
       "  <thead>\n",
       "    <tr style=\"text-align: right;\">\n",
       "      <th></th>\n",
       "      <th>name</th>\n",
       "      <th>platform</th>\n",
       "      <th>year_of_release</th>\n",
       "      <th>genre</th>\n",
       "      <th>na_sales</th>\n",
       "      <th>eu_sales</th>\n",
       "      <th>jp_sales</th>\n",
       "      <th>other_sales</th>\n",
       "      <th>critic_score</th>\n",
       "      <th>user_score</th>\n",
       "      <th>rating</th>\n",
       "      <th>total_sales</th>\n",
       "    </tr>\n",
       "  </thead>\n",
       "  <tbody>\n",
       "    <tr>\n",
       "      <td>4494</td>\n",
       "      <td>lego batman 3: beyond gotham</td>\n",
       "      <td>xone</td>\n",
       "      <td>2014</td>\n",
       "      <td>action</td>\n",
       "      <td>0.23</td>\n",
       "      <td>0.17</td>\n",
       "      <td>0.00</td>\n",
       "      <td>0.04</td>\n",
       "      <td>74.0</td>\n",
       "      <td>7.1</td>\n",
       "      <td>E10+</td>\n",
       "      <td>0.44</td>\n",
       "    </tr>\n",
       "    <tr>\n",
       "      <td>13312</td>\n",
       "      <td>detective conan: marionette symphony</td>\n",
       "      <td>3ds</td>\n",
       "      <td>2013</td>\n",
       "      <td>adventure</td>\n",
       "      <td>0.00</td>\n",
       "      <td>0.00</td>\n",
       "      <td>0.05</td>\n",
       "      <td>0.00</td>\n",
       "      <td>0.0</td>\n",
       "      <td>0.0</td>\n",
       "      <td>NaN</td>\n",
       "      <td>0.05</td>\n",
       "    </tr>\n",
       "    <tr>\n",
       "      <td>10554</td>\n",
       "      <td>football manager 2014</td>\n",
       "      <td>psv</td>\n",
       "      <td>2013</td>\n",
       "      <td>sports</td>\n",
       "      <td>0.00</td>\n",
       "      <td>0.08</td>\n",
       "      <td>0.00</td>\n",
       "      <td>0.02</td>\n",
       "      <td>85.0</td>\n",
       "      <td>5.5</td>\n",
       "      <td>NaN</td>\n",
       "      <td>0.10</td>\n",
       "    </tr>\n",
       "    <tr>\n",
       "      <td>6113</td>\n",
       "      <td>divinity: original sin</td>\n",
       "      <td>ps4</td>\n",
       "      <td>2015</td>\n",
       "      <td>role-playing</td>\n",
       "      <td>0.10</td>\n",
       "      <td>0.12</td>\n",
       "      <td>0.02</td>\n",
       "      <td>0.04</td>\n",
       "      <td>87.0</td>\n",
       "      <td>8.7</td>\n",
       "      <td>NaN</td>\n",
       "      <td>0.28</td>\n",
       "    </tr>\n",
       "    <tr>\n",
       "      <td>11453</td>\n",
       "      <td>pretty rhythm rainbow live: kira kira my * design</td>\n",
       "      <td>3ds</td>\n",
       "      <td>2013</td>\n",
       "      <td>misc</td>\n",
       "      <td>0.00</td>\n",
       "      <td>0.00</td>\n",
       "      <td>0.08</td>\n",
       "      <td>0.00</td>\n",
       "      <td>0.0</td>\n",
       "      <td>0.0</td>\n",
       "      <td>NaN</td>\n",
       "      <td>0.08</td>\n",
       "    </tr>\n",
       "    <tr>\n",
       "      <td>12813</td>\n",
       "      <td>caligula</td>\n",
       "      <td>psv</td>\n",
       "      <td>2016</td>\n",
       "      <td>role-playing</td>\n",
       "      <td>0.00</td>\n",
       "      <td>0.00</td>\n",
       "      <td>0.06</td>\n",
       "      <td>0.00</td>\n",
       "      <td>0.0</td>\n",
       "      <td>0.0</td>\n",
       "      <td>NaN</td>\n",
       "      <td>0.06</td>\n",
       "    </tr>\n",
       "    <tr>\n",
       "      <td>15231</td>\n",
       "      <td>monster high 13 wishes</td>\n",
       "      <td>wiiu</td>\n",
       "      <td>2013</td>\n",
       "      <td>action</td>\n",
       "      <td>0.02</td>\n",
       "      <td>0.00</td>\n",
       "      <td>0.00</td>\n",
       "      <td>0.00</td>\n",
       "      <td>0.0</td>\n",
       "      <td>5.5</td>\n",
       "      <td>E</td>\n",
       "      <td>0.02</td>\n",
       "    </tr>\n",
       "    <tr>\n",
       "      <td>4877</td>\n",
       "      <td>armored core v</td>\n",
       "      <td>ps3</td>\n",
       "      <td>2012</td>\n",
       "      <td>simulation</td>\n",
       "      <td>0.09</td>\n",
       "      <td>0.04</td>\n",
       "      <td>0.24</td>\n",
       "      <td>0.02</td>\n",
       "      <td>65.0</td>\n",
       "      <td>7.3</td>\n",
       "      <td>T</td>\n",
       "      <td>0.39</td>\n",
       "    </tr>\n",
       "    <tr>\n",
       "      <td>907</td>\n",
       "      <td>diablo iii</td>\n",
       "      <td>ps3</td>\n",
       "      <td>2013</td>\n",
       "      <td>role-playing</td>\n",
       "      <td>0.72</td>\n",
       "      <td>0.75</td>\n",
       "      <td>0.15</td>\n",
       "      <td>0.29</td>\n",
       "      <td>86.0</td>\n",
       "      <td>6.4</td>\n",
       "      <td>M</td>\n",
       "      <td>1.91</td>\n",
       "    </tr>\n",
       "    <tr>\n",
       "      <td>11294</td>\n",
       "      <td>toukiden 2</td>\n",
       "      <td>ps4</td>\n",
       "      <td>2016</td>\n",
       "      <td>action</td>\n",
       "      <td>0.00</td>\n",
       "      <td>0.00</td>\n",
       "      <td>0.08</td>\n",
       "      <td>0.00</td>\n",
       "      <td>0.0</td>\n",
       "      <td>0.0</td>\n",
       "      <td>NaN</td>\n",
       "      <td>0.08</td>\n",
       "    </tr>\n",
       "  </tbody>\n",
       "</table>\n",
       "</div>"
      ],
      "text/plain": [
       "                                                    name platform  \\\n",
       "4494                        lego batman 3: beyond gotham     xone   \n",
       "13312               detective conan: marionette symphony      3ds   \n",
       "10554                              football manager 2014      psv   \n",
       "6113                              divinity: original sin      ps4   \n",
       "11453  pretty rhythm rainbow live: kira kira my * design      3ds   \n",
       "12813                                           caligula      psv   \n",
       "15231                             monster high 13 wishes     wiiu   \n",
       "4877                                      armored core v      ps3   \n",
       "907                                           diablo iii      ps3   \n",
       "11294                                         toukiden 2      ps4   \n",
       "\n",
       "       year_of_release         genre  na_sales  eu_sales  jp_sales  \\\n",
       "4494              2014        action      0.23      0.17      0.00   \n",
       "13312             2013     adventure      0.00      0.00      0.05   \n",
       "10554             2013        sports      0.00      0.08      0.00   \n",
       "6113              2015  role-playing      0.10      0.12      0.02   \n",
       "11453             2013          misc      0.00      0.00      0.08   \n",
       "12813             2016  role-playing      0.00      0.00      0.06   \n",
       "15231             2013        action      0.02      0.00      0.00   \n",
       "4877              2012    simulation      0.09      0.04      0.24   \n",
       "907               2013  role-playing      0.72      0.75      0.15   \n",
       "11294             2016        action      0.00      0.00      0.08   \n",
       "\n",
       "       other_sales  critic_score  user_score rating  total_sales  \n",
       "4494          0.04          74.0         7.1   E10+         0.44  \n",
       "13312         0.00           0.0         0.0    NaN         0.05  \n",
       "10554         0.02          85.0         5.5    NaN         0.10  \n",
       "6113          0.04          87.0         8.7    NaN         0.28  \n",
       "11453         0.00           0.0         0.0    NaN         0.08  \n",
       "12813         0.00           0.0         0.0    NaN         0.06  \n",
       "15231         0.00           0.0         5.5      E         0.02  \n",
       "4877          0.02          65.0         7.3      T         0.39  \n",
       "907           0.29          86.0         6.4      M         1.91  \n",
       "11294         0.00           0.0         0.0    NaN         0.08  "
      ]
     },
     "execution_count": 43,
     "metadata": {},
     "output_type": "execute_result"
    }
   ],
   "source": [
    "df_actual = df.query('year_of_release >= 2012')\n",
    "df_actual.sample(10)"
   ]
  },
  {
   "cell_type": "code",
   "execution_count": 44,
   "metadata": {},
   "outputs": [
    {
     "data": {
      "text/html": [
       "<div>\n",
       "<style scoped>\n",
       "    .dataframe tbody tr th:only-of-type {\n",
       "        vertical-align: middle;\n",
       "    }\n",
       "\n",
       "    .dataframe tbody tr th {\n",
       "        vertical-align: top;\n",
       "    }\n",
       "\n",
       "    .dataframe thead th {\n",
       "        text-align: right;\n",
       "    }\n",
       "</style>\n",
       "<table border=\"1\" class=\"dataframe\">\n",
       "  <thead>\n",
       "    <tr style=\"text-align: right;\">\n",
       "      <th></th>\n",
       "      <th>name</th>\n",
       "      <th>platform</th>\n",
       "      <th>genre</th>\n",
       "      <th>rating</th>\n",
       "    </tr>\n",
       "  </thead>\n",
       "  <tbody>\n",
       "    <tr>\n",
       "      <td>count</td>\n",
       "      <td>2899</td>\n",
       "      <td>2899</td>\n",
       "      <td>2899</td>\n",
       "      <td>1623</td>\n",
       "    </tr>\n",
       "    <tr>\n",
       "      <td>unique</td>\n",
       "      <td>1671</td>\n",
       "      <td>11</td>\n",
       "      <td>12</td>\n",
       "      <td>4</td>\n",
       "    </tr>\n",
       "    <tr>\n",
       "      <td>top</td>\n",
       "      <td>fifa 14</td>\n",
       "      <td>ps3</td>\n",
       "      <td>action</td>\n",
       "      <td>M</td>\n",
       "    </tr>\n",
       "    <tr>\n",
       "      <td>freq</td>\n",
       "      <td>9</td>\n",
       "      <td>494</td>\n",
       "      <td>1041</td>\n",
       "      <td>503</td>\n",
       "    </tr>\n",
       "  </tbody>\n",
       "</table>\n",
       "</div>"
      ],
      "text/plain": [
       "           name platform   genre rating\n",
       "count      2899     2899    2899   1623\n",
       "unique     1671       11      12      4\n",
       "top     fifa 14      ps3  action      M\n",
       "freq          9      494    1041    503"
      ]
     },
     "execution_count": 44,
     "metadata": {},
     "output_type": "execute_result"
    }
   ],
   "source": [
    "df_actual.describe(include = ['O'])"
   ]
  },
  {
   "cell_type": "markdown",
   "metadata": {},
   "source": [
    "Определим самые популярные платформы для игр, выпущенных в 2012 году и позднее:"
   ]
  },
  {
   "cell_type": "code",
   "execution_count": 45,
   "metadata": {},
   "outputs": [
    {
     "data": {
      "text/html": [
       "<div>\n",
       "<style scoped>\n",
       "    .dataframe tbody tr th:only-of-type {\n",
       "        vertical-align: middle;\n",
       "    }\n",
       "\n",
       "    .dataframe tbody tr th {\n",
       "        vertical-align: top;\n",
       "    }\n",
       "\n",
       "    .dataframe thead th {\n",
       "        text-align: right;\n",
       "    }\n",
       "</style>\n",
       "<table border=\"1\" class=\"dataframe\">\n",
       "  <thead>\n",
       "    <tr style=\"text-align: right;\">\n",
       "      <th></th>\n",
       "      <th>total_sales</th>\n",
       "    </tr>\n",
       "    <tr>\n",
       "      <th>platform</th>\n",
       "      <th></th>\n",
       "    </tr>\n",
       "  </thead>\n",
       "  <tbody>\n",
       "    <tr>\n",
       "      <td>ps4</td>\n",
       "      <td>314.14</td>\n",
       "    </tr>\n",
       "    <tr>\n",
       "      <td>ps3</td>\n",
       "      <td>289.71</td>\n",
       "    </tr>\n",
       "    <tr>\n",
       "      <td>x360</td>\n",
       "      <td>237.52</td>\n",
       "    </tr>\n",
       "    <tr>\n",
       "      <td>3ds</td>\n",
       "      <td>195.01</td>\n",
       "    </tr>\n",
       "    <tr>\n",
       "      <td>xone</td>\n",
       "      <td>159.32</td>\n",
       "    </tr>\n",
       "    <tr>\n",
       "      <td>wiiu</td>\n",
       "      <td>82.19</td>\n",
       "    </tr>\n",
       "    <tr>\n",
       "      <td>pc</td>\n",
       "      <td>63.51</td>\n",
       "    </tr>\n",
       "    <tr>\n",
       "      <td>psv</td>\n",
       "      <td>49.18</td>\n",
       "    </tr>\n",
       "    <tr>\n",
       "      <td>wii</td>\n",
       "      <td>36.60</td>\n",
       "    </tr>\n",
       "    <tr>\n",
       "      <td>ds</td>\n",
       "      <td>13.21</td>\n",
       "    </tr>\n",
       "    <tr>\n",
       "      <td>psp</td>\n",
       "      <td>11.69</td>\n",
       "    </tr>\n",
       "  </tbody>\n",
       "</table>\n",
       "</div>"
      ],
      "text/plain": [
       "          total_sales\n",
       "platform             \n",
       "ps4            314.14\n",
       "ps3            289.71\n",
       "x360           237.52\n",
       "3ds            195.01\n",
       "xone           159.32\n",
       "wiiu            82.19\n",
       "pc              63.51\n",
       "psv             49.18\n",
       "wii             36.60\n",
       "ds              13.21\n",
       "psp             11.69"
      ]
     },
     "execution_count": 45,
     "metadata": {},
     "output_type": "execute_result"
    }
   ],
   "source": [
    "platform_actual_sales = df_actual.pivot_table(index = 'platform', values = 'total_sales', aggfunc = 'sum').sort_values('total_sales', ascending = False)\n",
    "platform_actual_sales.head(15)"
   ]
  },
  {
   "cell_type": "markdown",
   "metadata": {},
   "source": [
    "Построим графики распределения выпуска игр по платформам за актуальный период:"
   ]
  },
  {
   "cell_type": "code",
   "execution_count": 46,
   "metadata": {},
   "outputs": [
    {
     "data": {
      "text/plain": [
       "array(['ps3', 'x360', 'ps4', '3ds', 'ds', 'xone', 'wiiu', 'wii', 'pc',\n",
       "       'psv', 'psp'], dtype=object)"
      ]
     },
     "execution_count": 46,
     "metadata": {},
     "output_type": "execute_result"
    }
   ],
   "source": [
    "platform_actual_name = df_actual['platform'].unique()\n",
    "platform_actual_name"
   ]
  },
  {
   "cell_type": "code",
   "execution_count": 47,
   "metadata": {},
   "outputs": [
    {
     "data": {
      "image/png": "[encoded data removed]",
      "text/plain": [
       "<Figure size 936x288 with 1 Axes>"
      ]
     },
     "metadata": {
      "needs_background": "light"
     },
     "output_type": "display_data"
    },
    {
     "data": {
      "image/png": "[encoded data removed]",
      "text/plain": [
       "<Figure size 936x288 with 1 Axes>"
      ]
     },
     "metadata": {
      "needs_background": "light"
     },
     "output_type": "display_data"
    },
    {
     "data": {
      "image/png": "[encoded data removed]",
      "text/plain": [
       "<Figure size 936x288 with 1 Axes>"
      ]
     },
     "metadata": {
      "needs_background": "light"
     },
     "output_type": "display_data"
    },
    {
     "data": {
      "image/png": "[encoded data removed]",
      "text/plain": [
       "<Figure size 936x288 with 1 Axes>"
      ]
     },
     "metadata": {
      "needs_background": "light"
     },
     "output_type": "display_data"
    },
    {
     "data": {
      "image/png": "[encoded data removed]",
      "text/plain": [
       "<Figure size 936x288 with 1 Axes>"
      ]
     },
     "metadata": {
      "needs_background": "light"
     },
     "output_type": "display_data"
    },
    {
     "data": {
      "image/png": "[encoded data removed]",
      "text/plain": [
       "<Figure size 936x288 with 1 Axes>"
      ]
     },
     "metadata": {
      "needs_background": "light"
     },
     "output_type": "display_data"
    },
    {
     "data": {
      "image/png": "[encoded data removed]",
      "text/plain": [
       "<Figure size 936x288 with 1 Axes>"
      ]
     },
     "metadata": {
      "needs_background": "light"
     },
     "output_type": "display_data"
    },
    {
     "data": {
      "image/png": "[encoded data removed]",
      "text/plain": [
       "<Figure size 936x288 with 1 Axes>"
      ]
     },
     "metadata": {
      "needs_background": "light"
     },
     "output_type": "display_data"
    },
    {
     "data": {
      "image/png": "[encoded data removed]",
      "text/plain": [
       "<Figure size 936x288 with 1 Axes>"
      ]
     },
     "metadata": {
      "needs_background": "light"
     },
     "output_type": "display_data"
    },
    {
     "data": {
      "image/png": "[encoded data removed]",
      "text/plain": [
       "<Figure size 936x288 with 1 Axes>"
      ]
     },
     "metadata": {
      "needs_background": "light"
     },
     "output_type": "display_data"
    },
    {
     "data": {
      "image/png": "[encoded data removed]",
      "text/plain": [
       "<Figure size 936x288 with 1 Axes>"
      ]
     },
     "metadata": {
      "needs_background": "light"
     },
     "output_type": "display_data"
    }
   ],
   "source": [
    "for platform in platform_actual_name:\n",
    "    df_actual[df_actual['platform'] == platform].pivot_table(index='year_of_release', values='total_sales', aggfunc='sum').plot(\n",
    "        kind='bar', figsize=(13,4))\n",
    "    plt.xlabel('Год выпуска', fontsize=12)\n",
    "    plt.ylabel('Объем продаж', fontsize=12)\n",
    "    plt.title(platform, fontsize=14)\n",
    "plt.show()"
   ]
  },
  {
   "cell_type": "markdown",
   "metadata": {},
   "source": [
    "Из построенных графиков распределения видно, что продажи игр по некоторым платформам к 2016 году совсем упали (ps3, x360, ds, wii, psp), а это означает, что для построения прогноза на 2017 год их учитывать уже не стоит. Сформируем итоговую выборку по платформам:"
   ]
  },
  {
   "cell_type": "code",
   "execution_count": 48,
   "metadata": {},
   "outputs": [
    {
     "data": {
      "text/html": [
       "<div>\n",
       "<style scoped>\n",
       "    .dataframe tbody tr th:only-of-type {\n",
       "        vertical-align: middle;\n",
       "    }\n",
       "\n",
       "    .dataframe tbody tr th {\n",
       "        vertical-align: top;\n",
       "    }\n",
       "\n",
       "    .dataframe thead th {\n",
       "        text-align: right;\n",
       "    }\n",
       "</style>\n",
       "<table border=\"1\" class=\"dataframe\">\n",
       "  <thead>\n",
       "    <tr style=\"text-align: right;\">\n",
       "      <th></th>\n",
       "      <th>name</th>\n",
       "      <th>platform</th>\n",
       "      <th>year_of_release</th>\n",
       "      <th>genre</th>\n",
       "      <th>na_sales</th>\n",
       "      <th>eu_sales</th>\n",
       "      <th>jp_sales</th>\n",
       "      <th>other_sales</th>\n",
       "      <th>critic_score</th>\n",
       "      <th>user_score</th>\n",
       "      <th>rating</th>\n",
       "      <th>total_sales</th>\n",
       "    </tr>\n",
       "  </thead>\n",
       "  <tbody>\n",
       "    <tr>\n",
       "      <td>2614</td>\n",
       "      <td>ride 2</td>\n",
       "      <td>pc</td>\n",
       "      <td>2016</td>\n",
       "      <td>racing</td>\n",
       "      <td>0.00</td>\n",
       "      <td>0.01</td>\n",
       "      <td>0.00</td>\n",
       "      <td>0.00</td>\n",
       "      <td>78.0</td>\n",
       "      <td>7.9</td>\n",
       "      <td>E</td>\n",
       "      <td>0.01</td>\n",
       "    </tr>\n",
       "    <tr>\n",
       "      <td>957</td>\n",
       "      <td>transformers: prime</td>\n",
       "      <td>3ds</td>\n",
       "      <td>2012</td>\n",
       "      <td>action</td>\n",
       "      <td>0.13</td>\n",
       "      <td>0.02</td>\n",
       "      <td>0.00</td>\n",
       "      <td>0.02</td>\n",
       "      <td>0.0</td>\n",
       "      <td>0.0</td>\n",
       "      <td>NaN</td>\n",
       "      <td>0.17</td>\n",
       "    </tr>\n",
       "    <tr>\n",
       "      <td>1653</td>\n",
       "      <td>minna no ennichi</td>\n",
       "      <td>3ds</td>\n",
       "      <td>2012</td>\n",
       "      <td>action</td>\n",
       "      <td>0.00</td>\n",
       "      <td>0.00</td>\n",
       "      <td>0.05</td>\n",
       "      <td>0.00</td>\n",
       "      <td>0.0</td>\n",
       "      <td>0.0</td>\n",
       "      <td>NaN</td>\n",
       "      <td>0.05</td>\n",
       "    </tr>\n",
       "    <tr>\n",
       "      <td>1729</td>\n",
       "      <td>shin kamaitachi no yoru: 11 hitome no suspect</td>\n",
       "      <td>psv</td>\n",
       "      <td>2011</td>\n",
       "      <td>adventure</td>\n",
       "      <td>0.00</td>\n",
       "      <td>0.00</td>\n",
       "      <td>0.05</td>\n",
       "      <td>0.00</td>\n",
       "      <td>0.0</td>\n",
       "      <td>0.0</td>\n",
       "      <td>NaN</td>\n",
       "      <td>0.05</td>\n",
       "    </tr>\n",
       "    <tr>\n",
       "      <td>1750</td>\n",
       "      <td>atelier escha &amp; logy: alchemists of the dusk sky</td>\n",
       "      <td>psv</td>\n",
       "      <td>2015</td>\n",
       "      <td>role-playing</td>\n",
       "      <td>0.00</td>\n",
       "      <td>0.00</td>\n",
       "      <td>0.05</td>\n",
       "      <td>0.00</td>\n",
       "      <td>0.0</td>\n",
       "      <td>0.0</td>\n",
       "      <td>NaN</td>\n",
       "      <td>0.05</td>\n",
       "    </tr>\n",
       "    <tr>\n",
       "      <td>1599</td>\n",
       "      <td>the amazing spider-man 2 (2014)</td>\n",
       "      <td>wiiu</td>\n",
       "      <td>2014</td>\n",
       "      <td>action</td>\n",
       "      <td>0.03</td>\n",
       "      <td>0.02</td>\n",
       "      <td>0.00</td>\n",
       "      <td>0.00</td>\n",
       "      <td>0.0</td>\n",
       "      <td>0.0</td>\n",
       "      <td>NaN</td>\n",
       "      <td>0.05</td>\n",
       "    </tr>\n",
       "    <tr>\n",
       "      <td>1804</td>\n",
       "      <td>blood bowl</td>\n",
       "      <td>pc</td>\n",
       "      <td>2009</td>\n",
       "      <td>sports</td>\n",
       "      <td>0.02</td>\n",
       "      <td>0.02</td>\n",
       "      <td>0.00</td>\n",
       "      <td>0.00</td>\n",
       "      <td>72.0</td>\n",
       "      <td>6.5</td>\n",
       "      <td>T</td>\n",
       "      <td>0.04</td>\n",
       "    </tr>\n",
       "    <tr>\n",
       "      <td>1835</td>\n",
       "      <td>csi: fatal conspiracy</td>\n",
       "      <td>pc</td>\n",
       "      <td>2010</td>\n",
       "      <td>adventure</td>\n",
       "      <td>0.00</td>\n",
       "      <td>0.03</td>\n",
       "      <td>0.00</td>\n",
       "      <td>0.01</td>\n",
       "      <td>47.0</td>\n",
       "      <td>5.5</td>\n",
       "      <td>M</td>\n",
       "      <td>0.04</td>\n",
       "    </tr>\n",
       "    <tr>\n",
       "      <td>226</td>\n",
       "      <td>hyrule warriors</td>\n",
       "      <td>wiiu</td>\n",
       "      <td>2014</td>\n",
       "      <td>action</td>\n",
       "      <td>0.58</td>\n",
       "      <td>0.42</td>\n",
       "      <td>0.13</td>\n",
       "      <td>0.10</td>\n",
       "      <td>76.0</td>\n",
       "      <td>8.3</td>\n",
       "      <td>T</td>\n",
       "      <td>1.23</td>\n",
       "    </tr>\n",
       "    <tr>\n",
       "      <td>1755</td>\n",
       "      <td>world trigger: borderless mission</td>\n",
       "      <td>psv</td>\n",
       "      <td>2015</td>\n",
       "      <td>action</td>\n",
       "      <td>0.00</td>\n",
       "      <td>0.00</td>\n",
       "      <td>0.04</td>\n",
       "      <td>0.00</td>\n",
       "      <td>0.0</td>\n",
       "      <td>0.0</td>\n",
       "      <td>NaN</td>\n",
       "      <td>0.04</td>\n",
       "    </tr>\n",
       "  </tbody>\n",
       "</table>\n",
       "</div>"
      ],
      "text/plain": [
       "                                                  name platform  \\\n",
       "2614                                            ride 2       pc   \n",
       "957                                transformers: prime      3ds   \n",
       "1653                                  minna no ennichi      3ds   \n",
       "1729     shin kamaitachi no yoru: 11 hitome no suspect      psv   \n",
       "1750  atelier escha & logy: alchemists of the dusk sky      psv   \n",
       "1599                   the amazing spider-man 2 (2014)     wiiu   \n",
       "1804                                        blood bowl       pc   \n",
       "1835                             csi: fatal conspiracy       pc   \n",
       "226                                    hyrule warriors     wiiu   \n",
       "1755                 world trigger: borderless mission      psv   \n",
       "\n",
       "      year_of_release         genre  na_sales  eu_sales  jp_sales  \\\n",
       "2614             2016        racing      0.00      0.01      0.00   \n",
       "957              2012        action      0.13      0.02      0.00   \n",
       "1653             2012        action      0.00      0.00      0.05   \n",
       "1729             2011     adventure      0.00      0.00      0.05   \n",
       "1750             2015  role-playing      0.00      0.00      0.05   \n",
       "1599             2014        action      0.03      0.02      0.00   \n",
       "1804             2009        sports      0.02      0.02      0.00   \n",
       "1835             2010     adventure      0.00      0.03      0.00   \n",
       "226              2014        action      0.58      0.42      0.13   \n",
       "1755             2015        action      0.00      0.00      0.04   \n",
       "\n",
       "      other_sales  critic_score  user_score rating  total_sales  \n",
       "2614         0.00          78.0         7.9      E         0.01  \n",
       "957          0.02           0.0         0.0    NaN         0.17  \n",
       "1653         0.00           0.0         0.0    NaN         0.05  \n",
       "1729         0.00           0.0         0.0    NaN         0.05  \n",
       "1750         0.00           0.0         0.0    NaN         0.05  \n",
       "1599         0.00           0.0         0.0    NaN         0.05  \n",
       "1804         0.00          72.0         6.5      T         0.04  \n",
       "1835         0.01          47.0         5.5      M         0.04  \n",
       "226          0.10          76.0         8.3      T         1.23  \n",
       "1755         0.00           0.0         0.0    NaN         0.04  "
      ]
     },
     "execution_count": 48,
     "metadata": {},
     "output_type": "execute_result"
    }
   ],
   "source": [
    "platform_actual = df.query('platform == [\"ps4\", \"3ds\", \"xone\", \"wiiu\", \"pc\", \"psv\"]')\n",
    "platform_actual = platform_actual.reset_index(drop = True)\n",
    "platform_actual.sample(10)"
   ]
  },
  {
   "cell_type": "code",
   "execution_count": 49,
   "metadata": {},
   "outputs": [
    {
     "data": {
      "text/html": [
       "<div>\n",
       "<style scoped>\n",
       "    .dataframe tbody tr th:only-of-type {\n",
       "        vertical-align: middle;\n",
       "    }\n",
       "\n",
       "    .dataframe tbody tr th {\n",
       "        vertical-align: top;\n",
       "    }\n",
       "\n",
       "    .dataframe thead th {\n",
       "        text-align: right;\n",
       "    }\n",
       "</style>\n",
       "<table border=\"1\" class=\"dataframe\">\n",
       "  <thead>\n",
       "    <tr style=\"text-align: right;\">\n",
       "      <th></th>\n",
       "      <th>name</th>\n",
       "      <th>platform</th>\n",
       "      <th>genre</th>\n",
       "      <th>rating</th>\n",
       "    </tr>\n",
       "  </thead>\n",
       "  <tbody>\n",
       "    <tr>\n",
       "      <td>count</td>\n",
       "      <td>2700</td>\n",
       "      <td>2700</td>\n",
       "      <td>2700</td>\n",
       "      <td>1690</td>\n",
       "    </tr>\n",
       "    <tr>\n",
       "      <td>unique</td>\n",
       "      <td>2132</td>\n",
       "      <td>6</td>\n",
       "      <td>12</td>\n",
       "      <td>7</td>\n",
       "    </tr>\n",
       "    <tr>\n",
       "      <td>top</td>\n",
       "      <td>lego batman 3: beyond gotham</td>\n",
       "      <td>pc</td>\n",
       "      <td>action</td>\n",
       "      <td>T</td>\n",
       "    </tr>\n",
       "    <tr>\n",
       "      <td>freq</td>\n",
       "      <td>6</td>\n",
       "      <td>970</td>\n",
       "      <td>800</td>\n",
       "      <td>548</td>\n",
       "    </tr>\n",
       "  </tbody>\n",
       "</table>\n",
       "</div>"
      ],
      "text/plain": [
       "                                name platform   genre rating\n",
       "count                           2700     2700    2700   1690\n",
       "unique                          2132        6      12      7\n",
       "top     lego batman 3: beyond gotham       pc  action      T\n",
       "freq                               6      970     800    548"
      ]
     },
     "execution_count": 49,
     "metadata": {},
     "output_type": "execute_result"
    }
   ],
   "source": [
    "platform_actual.describe(include = ['O'])"
   ]
  },
  {
   "cell_type": "markdown",
   "metadata": {},
   "source": [
    "**Вывод**"
   ]
  },
  {
   "cell_type": "markdown",
   "metadata": {},
   "source": [
    "По построенным графикам определим платформы, продажи игр по которым падают в период с 2012 по 2016 год - на начало 2017 года данные платформы будут уже не актуальны и их нужно исключить из выборки для построения прогноза:\n",
    "1. ps3 \n",
    "2. x360 \n",
    "3. ds \n",
    "4. wii \n",
    "5. psp\n",
    "\n",
    "Платформы, продажи игр по которым растут в период с 2012 по 2016 год:\n",
    "1. ps4\n",
    "2. xone\n",
    "3. wiiu\n",
    "4. psv\n",
    "\n",
    "с учетом года выпуска и ожидания, что максимальный объем продаж по платформе приходится на 5 год выпуска, под критерий потенциально прибыльных платформ попадают:\n",
    "1. ps4\n",
    "2. xone"
   ]
  },
  {
   "cell_type": "markdown",
   "metadata": {},
   "source": [
    "### Построение графика «ящик с усами» по глобальным продажам игр в разбивке по платформам"
   ]
  },
  {
   "cell_type": "markdown",
   "metadata": {},
   "source": [
    "Построим графики типа \"ящик с усами\" для 6 наиболее популярных платформ по глобальным продажам:"
   ]
  },
  {
   "cell_type": "code",
   "execution_count": 50,
   "metadata": {},
   "outputs": [
    {
     "data": {
      "text/html": [
       "<div>\n",
       "<style scoped>\n",
       "    .dataframe tbody tr th:only-of-type {\n",
       "        vertical-align: middle;\n",
       "    }\n",
       "\n",
       "    .dataframe tbody tr th {\n",
       "        vertical-align: top;\n",
       "    }\n",
       "\n",
       "    .dataframe thead th {\n",
       "        text-align: right;\n",
       "    }\n",
       "</style>\n",
       "<table border=\"1\" class=\"dataframe\">\n",
       "  <thead>\n",
       "    <tr style=\"text-align: right;\">\n",
       "      <th></th>\n",
       "      <th>count</th>\n",
       "      <th>mean</th>\n",
       "      <th>std</th>\n",
       "      <th>min</th>\n",
       "      <th>25%</th>\n",
       "      <th>50%</th>\n",
       "      <th>75%</th>\n",
       "      <th>max</th>\n",
       "    </tr>\n",
       "    <tr>\n",
       "      <th>platform</th>\n",
       "      <th></th>\n",
       "      <th></th>\n",
       "      <th></th>\n",
       "      <th></th>\n",
       "      <th></th>\n",
       "      <th></th>\n",
       "      <th></th>\n",
       "      <th></th>\n",
       "    </tr>\n",
       "  </thead>\n",
       "  <tbody>\n",
       "    <tr>\n",
       "      <td>3ds</td>\n",
       "      <td>515.0</td>\n",
       "      <td>0.502000</td>\n",
       "      <td>1.437252</td>\n",
       "      <td>0.01</td>\n",
       "      <td>0.05</td>\n",
       "      <td>0.12</td>\n",
       "      <td>0.335</td>\n",
       "      <td>14.60</td>\n",
       "    </tr>\n",
       "    <tr>\n",
       "      <td>pc</td>\n",
       "      <td>970.0</td>\n",
       "      <td>0.266866</td>\n",
       "      <td>0.676858</td>\n",
       "      <td>0.01</td>\n",
       "      <td>0.02</td>\n",
       "      <td>0.05</td>\n",
       "      <td>0.170</td>\n",
       "      <td>8.01</td>\n",
       "    </tr>\n",
       "    <tr>\n",
       "      <td>ps4</td>\n",
       "      <td>392.0</td>\n",
       "      <td>0.801378</td>\n",
       "      <td>1.609456</td>\n",
       "      <td>0.01</td>\n",
       "      <td>0.06</td>\n",
       "      <td>0.20</td>\n",
       "      <td>0.730</td>\n",
       "      <td>14.63</td>\n",
       "    </tr>\n",
       "    <tr>\n",
       "      <td>psv</td>\n",
       "      <td>429.0</td>\n",
       "      <td>0.125431</td>\n",
       "      <td>0.212341</td>\n",
       "      <td>0.01</td>\n",
       "      <td>0.02</td>\n",
       "      <td>0.05</td>\n",
       "      <td>0.130</td>\n",
       "      <td>1.96</td>\n",
       "    </tr>\n",
       "    <tr>\n",
       "      <td>wiiu</td>\n",
       "      <td>147.0</td>\n",
       "      <td>0.559116</td>\n",
       "      <td>1.058836</td>\n",
       "      <td>0.01</td>\n",
       "      <td>0.08</td>\n",
       "      <td>0.22</td>\n",
       "      <td>0.525</td>\n",
       "      <td>7.09</td>\n",
       "    </tr>\n",
       "    <tr>\n",
       "      <td>xone</td>\n",
       "      <td>247.0</td>\n",
       "      <td>0.645020</td>\n",
       "      <td>1.036139</td>\n",
       "      <td>0.01</td>\n",
       "      <td>0.06</td>\n",
       "      <td>0.22</td>\n",
       "      <td>0.685</td>\n",
       "      <td>7.39</td>\n",
       "    </tr>\n",
       "  </tbody>\n",
       "</table>\n",
       "</div>"
      ],
      "text/plain": [
       "          count      mean       std   min   25%   50%    75%    max\n",
       "platform                                                           \n",
       "3ds       515.0  0.502000  1.437252  0.01  0.05  0.12  0.335  14.60\n",
       "pc        970.0  0.266866  0.676858  0.01  0.02  0.05  0.170   8.01\n",
       "ps4       392.0  0.801378  1.609456  0.01  0.06  0.20  0.730  14.63\n",
       "psv       429.0  0.125431  0.212341  0.01  0.02  0.05  0.130   1.96\n",
       "wiiu      147.0  0.559116  1.058836  0.01  0.08  0.22  0.525   7.09\n",
       "xone      247.0  0.645020  1.036139  0.01  0.06  0.22  0.685   7.39"
      ]
     },
     "execution_count": 50,
     "metadata": {},
     "output_type": "execute_result"
    }
   ],
   "source": [
    "platform_actual.groupby('platform')['total_sales'].describe()"
   ]
  },
  {
   "cell_type": "code",
   "execution_count": 51,
   "metadata": {},
   "outputs": [
    {
     "data": {
      "text/plain": [
       "Text(0, 0.5, 'Объем продаж, млн. копий')"
      ]
     },
     "execution_count": 51,
     "metadata": {},
     "output_type": "execute_result"
    },
    {
     "data": {
      "image/png": "[encoded data removed]",
      "text/plain": [
       "<Figure size 864x576 with 1 Axes>"
      ]
     },
     "metadata": {
      "needs_background": "light"
     },
     "output_type": "display_data"
    }
   ],
   "source": [
    "plt.figure(figsize=(12,8))\n",
    "sns.boxplot(x='platform', y='total_sales', data=platform_actual)\n",
    "plt.ylim(0, 2)\n",
    "plt.xlabel('Название платформы', fontsize=12)\n",
    "plt.ylabel('Объем продаж, млн. копий', fontsize=12)"
   ]
  },
  {
   "cell_type": "markdown",
   "metadata": {},
   "source": [
    "**Вывод**"
   ]
  },
  {
   "cell_type": "markdown",
   "metadata": {},
   "source": [
    "На построенных графиках хорошо видно наличие большого количества выбросов, поэтому средний объем продаж будет корректнее оценить по медиане.\n",
    "\n",
    "Средний объем продаж игры по платформам различается и составляет от 0,05 млн. копий игры до 0,22 млн. копий.\n",
    "\n",
    "На основании средних значений можно выделить 3 самые популярные платформы: xone, wiiu, ps4."
   ]
  },
  {
   "cell_type": "markdown",
   "metadata": {},
   "source": [
    "### Влияние отзывов пользователей и критиков на продажи внутри одной популярной платформы. Построение диаграммы рассеяния и расчет корреляции между отзывами и продажами"
   ]
  },
  {
   "cell_type": "markdown",
   "metadata": {},
   "source": [
    "Построим диаграммы рассеяния и рассчитаем корреляцию между отзывами и продажами для самой популярной платформы по глобальным продажам - ps2: "
   ]
  },
  {
   "cell_type": "code",
   "execution_count": 52,
   "metadata": {},
   "outputs": [],
   "source": [
    "ps4_sales = platform_actual.query('platform == \"ps4\" and user_score > 0.0 and critic_score > 0.0')"
   ]
  },
  {
   "cell_type": "code",
   "execution_count": 53,
   "metadata": {},
   "outputs": [
    {
     "data": {
      "image/png": "[encoded data removed]",
      "text/plain": [
       "<Figure size 720x720 with 9 Axes>"
      ]
     },
     "metadata": {
      "needs_background": "light"
     },
     "output_type": "display_data"
    }
   ],
   "source": [
    "axes = pd.plotting.scatter_matrix(ps4_sales[['critic_score', 'user_score', 'total_sales']], figsize = (10, 10))"
   ]
  },
  {
   "cell_type": "code",
   "execution_count": 54,
   "metadata": {},
   "outputs": [
    {
     "data": {
      "text/html": [
       "<div>\n",
       "<style scoped>\n",
       "    .dataframe tbody tr th:only-of-type {\n",
       "        vertical-align: middle;\n",
       "    }\n",
       "\n",
       "    .dataframe tbody tr th {\n",
       "        vertical-align: top;\n",
       "    }\n",
       "\n",
       "    .dataframe thead th {\n",
       "        text-align: right;\n",
       "    }\n",
       "</style>\n",
       "<table border=\"1\" class=\"dataframe\">\n",
       "  <thead>\n",
       "    <tr style=\"text-align: right;\">\n",
       "      <th></th>\n",
       "      <th>critic_score</th>\n",
       "      <th>user_score</th>\n",
       "      <th>total_sales</th>\n",
       "    </tr>\n",
       "  </thead>\n",
       "  <tbody>\n",
       "    <tr>\n",
       "      <td>critic_score</td>\n",
       "      <td>1.000000</td>\n",
       "      <td>0.559552</td>\n",
       "      <td>0.39069</td>\n",
       "    </tr>\n",
       "    <tr>\n",
       "      <td>user_score</td>\n",
       "      <td>0.559552</td>\n",
       "      <td>1.000000</td>\n",
       "      <td>-0.01950</td>\n",
       "    </tr>\n",
       "    <tr>\n",
       "      <td>total_sales</td>\n",
       "      <td>0.390690</td>\n",
       "      <td>-0.019500</td>\n",
       "      <td>1.00000</td>\n",
       "    </tr>\n",
       "  </tbody>\n",
       "</table>\n",
       "</div>"
      ],
      "text/plain": [
       "              critic_score  user_score  total_sales\n",
       "critic_score      1.000000    0.559552      0.39069\n",
       "user_score        0.559552    1.000000     -0.01950\n",
       "total_sales       0.390690   -0.019500      1.00000"
      ]
     },
     "execution_count": 54,
     "metadata": {},
     "output_type": "execute_result"
    }
   ],
   "source": [
    "ps4_sales[['critic_score', 'user_score', 'total_sales']].corr()"
   ]
  },
  {
   "cell_type": "markdown",
   "metadata": {},
   "source": [
    "**Вывод**"
   ]
  },
  {
   "cell_type": "markdown",
   "metadata": {},
   "source": [
    "Корреляция 0.39 между отзывами критиков и продажами игр говорит о наличии связи, но не очень сильной. Выходит, на увеличение роста продаж игр ps4 могли влиять отзывы критиков, но не всегда.\n",
    "\n",
    "Корреляция -0.019 между отзывами пользователей и продажами игр говорит об отсутствии связи между этими двумя параметрами."
   ]
  },
  {
   "cell_type": "markdown",
   "metadata": {},
   "source": [
    "### Соотнесение выводов с продажами игр на других платформах"
   ]
  },
  {
   "cell_type": "markdown",
   "metadata": {},
   "source": [
    "Рассмотрим корреляции для остальных актульных платформ (3ds, xone, wiiu, pc, psv):"
   ]
  },
  {
   "cell_type": "markdown",
   "metadata": {},
   "source": [
    "для 3ds:"
   ]
  },
  {
   "cell_type": "code",
   "execution_count": 55,
   "metadata": {},
   "outputs": [],
   "source": [
    "ds3_sales = platform_actual.query('platform == \"3ds\" and user_score > 0.0 and critic_score > 0.0')"
   ]
  },
  {
   "cell_type": "code",
   "execution_count": 56,
   "metadata": {},
   "outputs": [
    {
     "name": "stdout",
     "output_type": "stream",
     "text": [
      "Корреляция между отзывами критиков и продажами: 0.31334782184810145\n",
      "Корреляция между отзывами пользователей и продажами: 0.22009735674242398\n"
     ]
    }
   ],
   "source": [
    "print('Корреляция между отзывами критиков и продажами:', ds3_sales['critic_score'].corr(ds3_sales['total_sales']))\n",
    "print('Корреляция между отзывами пользователей и продажами:', ds3_sales['user_score'].corr(ds3_sales['total_sales']))"
   ]
  },
  {
   "cell_type": "markdown",
   "metadata": {},
   "source": [
    "для xone:"
   ]
  },
  {
   "cell_type": "code",
   "execution_count": 57,
   "metadata": {},
   "outputs": [],
   "source": [
    "xone_sales = platform_actual.query('platform == \"xone\" and user_score > 0.0 and critic_score > 0.0')"
   ]
  },
  {
   "cell_type": "code",
   "execution_count": 58,
   "metadata": {},
   "outputs": [
    {
     "name": "stdout",
     "output_type": "stream",
     "text": [
      "Корреляция между отзывами критиков и продажами: 0.37038999577440845\n",
      "Корреляция между отзывами пользователей и продажами: -0.0910746906604973\n"
     ]
    }
   ],
   "source": [
    "print('Корреляция между отзывами критиков и продажами:', xone_sales['critic_score'].corr(xone_sales['total_sales']))\n",
    "print('Корреляция между отзывами пользователей и продажами:', xone_sales['user_score'].corr(xone_sales['total_sales']))"
   ]
  },
  {
   "cell_type": "markdown",
   "metadata": {},
   "source": [
    "для wiiu:"
   ]
  },
  {
   "cell_type": "code",
   "execution_count": 59,
   "metadata": {},
   "outputs": [],
   "source": [
    "wiiu_sales = platform_actual.query('platform == \"wiiu\" and user_score > 0.0 and critic_score > 0.0')"
   ]
  },
  {
   "cell_type": "code",
   "execution_count": 60,
   "metadata": {},
   "outputs": [
    {
     "name": "stdout",
     "output_type": "stream",
     "text": [
      "Корреляция между отзывами критиков и продажами: 0.3288064056843301\n",
      "Корреляция между отзывами пользователей и продажами: 0.375837361022699\n"
     ]
    }
   ],
   "source": [
    "print('Корреляция между отзывами критиков и продажами:', wiiu_sales['critic_score'].corr(wiiu_sales['total_sales']))\n",
    "print('Корреляция между отзывами пользователей и продажами:', wiiu_sales['user_score'].corr(wiiu_sales['total_sales']))"
   ]
  },
  {
   "cell_type": "markdown",
   "metadata": {},
   "source": [
    "для pc:"
   ]
  },
  {
   "cell_type": "code",
   "execution_count": 61,
   "metadata": {},
   "outputs": [],
   "source": [
    "pc_sales = platform_actual.query('platform == \"pc\" and user_score > 0.0 and critic_score > 0.0')"
   ]
  },
  {
   "cell_type": "code",
   "execution_count": 62,
   "metadata": {},
   "outputs": [
    {
     "name": "stdout",
     "output_type": "stream",
     "text": [
      "Корреляция между отзывами критиков и продажами: 0.22884233444458582\n",
      "Корреляция между отзывами пользователей и продажами: -0.006050396477817481\n"
     ]
    }
   ],
   "source": [
    "print('Корреляция между отзывами критиков и продажами:', pc_sales['critic_score'].corr(pc_sales['total_sales']))\n",
    "print('Корреляция между отзывами пользователей и продажами:', pc_sales['user_score'].corr(pc_sales['total_sales']))"
   ]
  },
  {
   "cell_type": "markdown",
   "metadata": {},
   "source": [
    "для psv:"
   ]
  },
  {
   "cell_type": "code",
   "execution_count": 63,
   "metadata": {},
   "outputs": [],
   "source": [
    "psv_sales = platform_actual.query('platform == \"psv\" and user_score > 0.0 and critic_score > 0.0')"
   ]
  },
  {
   "cell_type": "code",
   "execution_count": 64,
   "metadata": {},
   "outputs": [
    {
     "name": "stdout",
     "output_type": "stream",
     "text": [
      "Корреляция между отзывами критиков и продажами: 0.14249645686904286\n",
      "Корреляция между отзывами пользователей и продажами: 0.011477251076856723\n"
     ]
    }
   ],
   "source": [
    "print('Корреляция между отзывами критиков и продажами:', psv_sales['critic_score'].corr(psv_sales['total_sales']))\n",
    "print('Корреляция между отзывами пользователей и продажами:', psv_sales['user_score'].corr(psv_sales['total_sales']))"
   ]
  },
  {
   "cell_type": "markdown",
   "metadata": {},
   "source": [
    "**Вывод**"
   ]
  },
  {
   "cell_type": "markdown",
   "metadata": {},
   "source": [
    "В целом, для всех актуальных платформ по объему глобальных продах сохраняется схожая тенденция - наличие слабой корреляции между отзывами критиков и отсутстствие особой связи между отзывами пользователей и продажами. Исключение составляют только игры для портативных консолей 3ds и wiiu, где также прослеживается слабая корреляция между отзывами пользователей и продажами.\n",
    "\n",
    "Таким образом, пользовыатели при выборе игр ориентируются на свои собственные вкусы и предпочтения, прислушиваются к отзывам профессиональных критиков и обычно не принимают в расчет отзывы других пользователей."
   ]
  },
  {
   "cell_type": "markdown",
   "metadata": {},
   "source": [
    "### Общее распределение игр по жанрам: самые прибыльные жанры, жанры с высокими и низкими продажами"
   ]
  },
  {
   "cell_type": "code",
   "execution_count": 65,
   "metadata": {},
   "outputs": [],
   "source": [
    "genre_group = platform_actual.groupby('genre')['genre'].count()\n",
    "genres = genre_group.index"
   ]
  },
  {
   "cell_type": "code",
   "execution_count": 66,
   "metadata": {},
   "outputs": [
    {
     "data": {
      "image/png": "[encoded data removed]",
      "text/plain": [
       "<Figure size 1440x504 with 1 Axes>"
      ]
     },
     "metadata": {},
     "output_type": "display_data"
    }
   ],
   "source": [
    "plt.figure(figsize=(20,7))\n",
    "plt.pie(genre_group, labels=genres, autopct=\"%.2f\")\n",
    "plt.show()"
   ]
  },
  {
   "cell_type": "markdown",
   "metadata": {},
   "source": [
    "Самые прибыльные жанры и жанры с самими низкими продажами:"
   ]
  },
  {
   "cell_type": "code",
   "execution_count": 67,
   "metadata": {},
   "outputs": [
    {
     "data": {
      "text/html": [
       "<div>\n",
       "<style scoped>\n",
       "    .dataframe tbody tr th:only-of-type {\n",
       "        vertical-align: middle;\n",
       "    }\n",
       "\n",
       "    .dataframe tbody tr th {\n",
       "        vertical-align: top;\n",
       "    }\n",
       "\n",
       "    .dataframe thead th {\n",
       "        text-align: right;\n",
       "    }\n",
       "</style>\n",
       "<table border=\"1\" class=\"dataframe\">\n",
       "  <thead>\n",
       "    <tr style=\"text-align: right;\">\n",
       "      <th></th>\n",
       "      <th>genre</th>\n",
       "      <th>total_sales</th>\n",
       "    </tr>\n",
       "  </thead>\n",
       "  <tbody>\n",
       "    <tr>\n",
       "      <td>0</td>\n",
       "      <td>action</td>\n",
       "      <td>259.30</td>\n",
       "    </tr>\n",
       "    <tr>\n",
       "      <td>1</td>\n",
       "      <td>shooter</td>\n",
       "      <td>205.78</td>\n",
       "    </tr>\n",
       "    <tr>\n",
       "      <td>2</td>\n",
       "      <td>role-playing</td>\n",
       "      <td>186.03</td>\n",
       "    </tr>\n",
       "    <tr>\n",
       "      <td>3</td>\n",
       "      <td>sports</td>\n",
       "      <td>107.84</td>\n",
       "    </tr>\n",
       "    <tr>\n",
       "      <td>4</td>\n",
       "      <td>simulation</td>\n",
       "      <td>81.97</td>\n",
       "    </tr>\n",
       "    <tr>\n",
       "      <td>5</td>\n",
       "      <td>platform</td>\n",
       "      <td>65.70</td>\n",
       "    </tr>\n",
       "    <tr>\n",
       "      <td>6</td>\n",
       "      <td>misc</td>\n",
       "      <td>52.03</td>\n",
       "    </tr>\n",
       "    <tr>\n",
       "      <td>7</td>\n",
       "      <td>racing</td>\n",
       "      <td>51.01</td>\n",
       "    </tr>\n",
       "    <tr>\n",
       "      <td>8</td>\n",
       "      <td>strategy</td>\n",
       "      <td>50.47</td>\n",
       "    </tr>\n",
       "    <tr>\n",
       "      <td>9</td>\n",
       "      <td>fighting</td>\n",
       "      <td>30.84</td>\n",
       "    </tr>\n",
       "    <tr>\n",
       "      <td>10</td>\n",
       "      <td>adventure</td>\n",
       "      <td>27.88</td>\n",
       "    </tr>\n",
       "    <tr>\n",
       "      <td>11</td>\n",
       "      <td>puzzle</td>\n",
       "      <td>8.00</td>\n",
       "    </tr>\n",
       "  </tbody>\n",
       "</table>\n",
       "</div>"
      ],
      "text/plain": [
       "           genre  total_sales\n",
       "0         action       259.30\n",
       "1        shooter       205.78\n",
       "2   role-playing       186.03\n",
       "3         sports       107.84\n",
       "4     simulation        81.97\n",
       "5       platform        65.70\n",
       "6           misc        52.03\n",
       "7         racing        51.01\n",
       "8       strategy        50.47\n",
       "9       fighting        30.84\n",
       "10     adventure        27.88\n",
       "11        puzzle         8.00"
      ]
     },
     "execution_count": 67,
     "metadata": {},
     "output_type": "execute_result"
    }
   ],
   "source": [
    "platform_actual.groupby('genre')['total_sales'].sum().sort_values(ascending = False).reset_index()"
   ]
  },
  {
   "cell_type": "markdown",
   "metadata": {},
   "source": [
    "**Вывод**"
   ]
  },
  {
   "cell_type": "markdown",
   "metadata": {},
   "source": [
    "Среди всех жанров по популярности значительно выделяется action, на втором месте представлен жанр role-playing. \n",
    "\n",
    "По продажам ситуация немного иная, хотя лидер прежний - самые прибыльные жанры action, shooter и role-playing. Наименее прибыльные - puzzle, adventure и fighting."
   ]
  },
  {
   "cell_type": "markdown",
   "metadata": {},
   "source": [
    "## Шаг 4. Составление портрета пользователя каждого региона"
   ]
  },
  {
   "cell_type": "markdown",
   "metadata": {},
   "source": [
    "### Самые популярные платформы по регионам (топ-5)"
   ]
  },
  {
   "cell_type": "code",
   "execution_count": 68,
   "metadata": {},
   "outputs": [
    {
     "data": {
      "text/html": [
       "<div>\n",
       "<style scoped>\n",
       "    .dataframe tbody tr th:only-of-type {\n",
       "        vertical-align: middle;\n",
       "    }\n",
       "\n",
       "    .dataframe tbody tr th {\n",
       "        vertical-align: top;\n",
       "    }\n",
       "\n",
       "    .dataframe thead th {\n",
       "        text-align: right;\n",
       "    }\n",
       "</style>\n",
       "<table border=\"1\" class=\"dataframe\">\n",
       "  <thead>\n",
       "    <tr style=\"text-align: right;\">\n",
       "      <th></th>\n",
       "      <th>na_sales</th>\n",
       "    </tr>\n",
       "    <tr>\n",
       "      <th>platform</th>\n",
       "      <th></th>\n",
       "    </tr>\n",
       "  </thead>\n",
       "  <tbody>\n",
       "    <tr>\n",
       "      <td>ps4</td>\n",
       "      <td>108.74</td>\n",
       "    </tr>\n",
       "    <tr>\n",
       "      <td>pc</td>\n",
       "      <td>94.23</td>\n",
       "    </tr>\n",
       "    <tr>\n",
       "      <td>xone</td>\n",
       "      <td>93.12</td>\n",
       "    </tr>\n",
       "    <tr>\n",
       "      <td>3ds</td>\n",
       "      <td>83.11</td>\n",
       "    </tr>\n",
       "    <tr>\n",
       "      <td>wiiu</td>\n",
       "      <td>38.10</td>\n",
       "    </tr>\n",
       "  </tbody>\n",
       "</table>\n",
       "</div>"
      ],
      "text/plain": [
       "          na_sales\n",
       "platform          \n",
       "ps4         108.74\n",
       "pc           94.23\n",
       "xone         93.12\n",
       "3ds          83.11\n",
       "wiiu         38.10"
      ]
     },
     "execution_count": 68,
     "metadata": {},
     "output_type": "execute_result"
    }
   ],
   "source": [
    "na_top_platform = platform_actual.pivot_table(index = 'platform', values = 'na_sales', aggfunc = 'sum').sort_values('na_sales', ascending = False).head(5)\n",
    "na_top_platform"
   ]
  },
  {
   "cell_type": "code",
   "execution_count": 69,
   "metadata": {},
   "outputs": [
    {
     "data": {
      "text/html": [
       "<div>\n",
       "<style scoped>\n",
       "    .dataframe tbody tr th:only-of-type {\n",
       "        vertical-align: middle;\n",
       "    }\n",
       "\n",
       "    .dataframe tbody tr th {\n",
       "        vertical-align: top;\n",
       "    }\n",
       "\n",
       "    .dataframe thead th {\n",
       "        text-align: right;\n",
       "    }\n",
       "</style>\n",
       "<table border=\"1\" class=\"dataframe\">\n",
       "  <thead>\n",
       "    <tr style=\"text-align: right;\">\n",
       "      <th></th>\n",
       "      <th>eu_sales</th>\n",
       "    </tr>\n",
       "    <tr>\n",
       "      <th>platform</th>\n",
       "      <th></th>\n",
       "    </tr>\n",
       "  </thead>\n",
       "  <tbody>\n",
       "    <tr>\n",
       "      <td>pc</td>\n",
       "      <td>142.16</td>\n",
       "    </tr>\n",
       "    <tr>\n",
       "      <td>ps4</td>\n",
       "      <td>141.09</td>\n",
       "    </tr>\n",
       "    <tr>\n",
       "      <td>3ds</td>\n",
       "      <td>61.46</td>\n",
       "    </tr>\n",
       "    <tr>\n",
       "      <td>xone</td>\n",
       "      <td>51.59</td>\n",
       "    </tr>\n",
       "    <tr>\n",
       "      <td>wiiu</td>\n",
       "      <td>25.13</td>\n",
       "    </tr>\n",
       "  </tbody>\n",
       "</table>\n",
       "</div>"
      ],
      "text/plain": [
       "          eu_sales\n",
       "platform          \n",
       "pc          142.16\n",
       "ps4         141.09\n",
       "3ds          61.46\n",
       "xone         51.59\n",
       "wiiu         25.13"
      ]
     },
     "execution_count": 69,
     "metadata": {},
     "output_type": "execute_result"
    }
   ],
   "source": [
    "eu_top_platform = platform_actual.pivot_table(index = 'platform', values = 'eu_sales', aggfunc = 'sum').sort_values('eu_sales', ascending = False).head(5)\n",
    "eu_top_platform"
   ]
  },
  {
   "cell_type": "code",
   "execution_count": 70,
   "metadata": {},
   "outputs": [
    {
     "data": {
      "text/html": [
       "<div>\n",
       "<style scoped>\n",
       "    .dataframe tbody tr th:only-of-type {\n",
       "        vertical-align: middle;\n",
       "    }\n",
       "\n",
       "    .dataframe tbody tr th {\n",
       "        vertical-align: top;\n",
       "    }\n",
       "\n",
       "    .dataframe thead th {\n",
       "        text-align: right;\n",
       "    }\n",
       "</style>\n",
       "<table border=\"1\" class=\"dataframe\">\n",
       "  <thead>\n",
       "    <tr style=\"text-align: right;\">\n",
       "      <th></th>\n",
       "      <th>jp_sales</th>\n",
       "    </tr>\n",
       "    <tr>\n",
       "      <th>platform</th>\n",
       "      <th></th>\n",
       "    </tr>\n",
       "  </thead>\n",
       "  <tbody>\n",
       "    <tr>\n",
       "      <td>3ds</td>\n",
       "      <td>100.64</td>\n",
       "    </tr>\n",
       "    <tr>\n",
       "      <td>psv</td>\n",
       "      <td>21.84</td>\n",
       "    </tr>\n",
       "    <tr>\n",
       "      <td>ps4</td>\n",
       "      <td>15.96</td>\n",
       "    </tr>\n",
       "    <tr>\n",
       "      <td>wiiu</td>\n",
       "      <td>13.01</td>\n",
       "    </tr>\n",
       "    <tr>\n",
       "      <td>xone</td>\n",
       "      <td>0.34</td>\n",
       "    </tr>\n",
       "  </tbody>\n",
       "</table>\n",
       "</div>"
      ],
      "text/plain": [
       "          jp_sales\n",
       "platform          \n",
       "3ds         100.64\n",
       "psv          21.84\n",
       "ps4          15.96\n",
       "wiiu         13.01\n",
       "xone          0.34"
      ]
     },
     "execution_count": 70,
     "metadata": {},
     "output_type": "execute_result"
    }
   ],
   "source": [
    "jp_top_platform = platform_actual.pivot_table(index = 'platform', values = 'jp_sales', aggfunc = 'sum').sort_values('jp_sales', ascending = False).head(5)\n",
    "jp_top_platform"
   ]
  },
  {
   "cell_type": "markdown",
   "metadata": {},
   "source": [
    "Используем функцию для построения графиков:"
   ]
  },
  {
   "cell_type": "code",
   "execution_count": 71,
   "metadata": {},
   "outputs": [],
   "source": [
    "def top_in_regions_plot(groupby, region_sales, ax):\n",
    "    pivot = platform_actual.pivot_table(index = groupby, values = region_sales, aggfunc = 'sum').sort_values(region_sales, ascending = False).head(5)\n",
    "    title = {'na_sales': 'Северная Америка', 'eu_sales': 'Европа', 'jp_sales': 'Япония'}\n",
    "    plot = pivot.plot(kind='bar', figsize=(15,6), title=title[region_sales], fontsize=12, ax=axes[ax])\n",
    "    plot.legend(prop={'size':11})\n",
    "    plot.set_xlabel('')\n",
    "    plot.set_ylabel('Объем продаж').set_size(12)\n",
    "    plot.title.set_size(15)"
   ]
  },
  {
   "cell_type": "code",
   "execution_count": 72,
   "metadata": {},
   "outputs": [
    {
     "data": {
      "image/png": "[encoded data removed]",
      "text/plain": [
       "<Figure size 1080x432 with 3 Axes>"
      ]
     },
     "metadata": {
      "needs_background": "light"
     },
     "output_type": "display_data"
    }
   ],
   "source": [
    "fig, axes = plt.subplots(1, 3)\n",
    "\n",
    "top_in_regions_plot('platform', 'na_sales', 0)\n",
    "top_in_regions_plot('platform', 'eu_sales', 1)\n",
    "top_in_regions_plot('platform', 'jp_sales', 2)"
   ]
  },
  {
   "cell_type": "markdown",
   "metadata": {},
   "source": [
    "### Самые популярные жанры по регионам (топ-5)"
   ]
  },
  {
   "cell_type": "code",
   "execution_count": 73,
   "metadata": {},
   "outputs": [
    {
     "data": {
      "text/html": [
       "<div>\n",
       "<style scoped>\n",
       "    .dataframe tbody tr th:only-of-type {\n",
       "        vertical-align: middle;\n",
       "    }\n",
       "\n",
       "    .dataframe tbody tr th {\n",
       "        vertical-align: top;\n",
       "    }\n",
       "\n",
       "    .dataframe thead th {\n",
       "        text-align: right;\n",
       "    }\n",
       "</style>\n",
       "<table border=\"1\" class=\"dataframe\">\n",
       "  <thead>\n",
       "    <tr style=\"text-align: right;\">\n",
       "      <th></th>\n",
       "      <th>na_sales</th>\n",
       "    </tr>\n",
       "    <tr>\n",
       "      <th>genre</th>\n",
       "      <th></th>\n",
       "    </tr>\n",
       "  </thead>\n",
       "  <tbody>\n",
       "    <tr>\n",
       "      <td>action</td>\n",
       "      <td>97.57</td>\n",
       "    </tr>\n",
       "    <tr>\n",
       "      <td>shooter</td>\n",
       "      <td>92.77</td>\n",
       "    </tr>\n",
       "    <tr>\n",
       "      <td>role-playing</td>\n",
       "      <td>59.54</td>\n",
       "    </tr>\n",
       "    <tr>\n",
       "      <td>sports</td>\n",
       "      <td>40.06</td>\n",
       "    </tr>\n",
       "    <tr>\n",
       "      <td>simulation</td>\n",
       "      <td>28.16</td>\n",
       "    </tr>\n",
       "  </tbody>\n",
       "</table>\n",
       "</div>"
      ],
      "text/plain": [
       "              na_sales\n",
       "genre                 \n",
       "action           97.57\n",
       "shooter          92.77\n",
       "role-playing     59.54\n",
       "sports           40.06\n",
       "simulation       28.16"
      ]
     },
     "execution_count": 73,
     "metadata": {},
     "output_type": "execute_result"
    }
   ],
   "source": [
    "na_top_genre = platform_actual.pivot_table(index = 'genre', values = 'na_sales', aggfunc = 'sum').sort_values('na_sales', ascending = False).head(5)\n",
    "na_top_genre"
   ]
  },
  {
   "cell_type": "code",
   "execution_count": 74,
   "metadata": {},
   "outputs": [
    {
     "data": {
      "text/html": [
       "<div>\n",
       "<style scoped>\n",
       "    .dataframe tbody tr th:only-of-type {\n",
       "        vertical-align: middle;\n",
       "    }\n",
       "\n",
       "    .dataframe tbody tr th {\n",
       "        vertical-align: top;\n",
       "    }\n",
       "\n",
       "    .dataframe thead th {\n",
       "        text-align: right;\n",
       "    }\n",
       "</style>\n",
       "<table border=\"1\" class=\"dataframe\">\n",
       "  <thead>\n",
       "    <tr style=\"text-align: right;\">\n",
       "      <th></th>\n",
       "      <th>eu_sales</th>\n",
       "    </tr>\n",
       "    <tr>\n",
       "      <th>genre</th>\n",
       "      <th></th>\n",
       "    </tr>\n",
       "  </thead>\n",
       "  <tbody>\n",
       "    <tr>\n",
       "      <td>action</td>\n",
       "      <td>97.55</td>\n",
       "    </tr>\n",
       "    <tr>\n",
       "      <td>shooter</td>\n",
       "      <td>83.37</td>\n",
       "    </tr>\n",
       "    <tr>\n",
       "      <td>role-playing</td>\n",
       "      <td>57.87</td>\n",
       "    </tr>\n",
       "    <tr>\n",
       "      <td>sports</td>\n",
       "      <td>49.39</td>\n",
       "    </tr>\n",
       "    <tr>\n",
       "      <td>simulation</td>\n",
       "      <td>37.56</td>\n",
       "    </tr>\n",
       "  </tbody>\n",
       "</table>\n",
       "</div>"
      ],
      "text/plain": [
       "              eu_sales\n",
       "genre                 \n",
       "action           97.55\n",
       "shooter          83.37\n",
       "role-playing     57.87\n",
       "sports           49.39\n",
       "simulation       37.56"
      ]
     },
     "execution_count": 74,
     "metadata": {},
     "output_type": "execute_result"
    }
   ],
   "source": [
    "eu_top_genre = platform_actual.pivot_table(index = 'genre', values = 'eu_sales', aggfunc = 'sum').sort_values('eu_sales', ascending = False).head(5)\n",
    "eu_top_genre"
   ]
  },
  {
   "cell_type": "code",
   "execution_count": 75,
   "metadata": {},
   "outputs": [
    {
     "data": {
      "text/html": [
       "<div>\n",
       "<style scoped>\n",
       "    .dataframe tbody tr th:only-of-type {\n",
       "        vertical-align: middle;\n",
       "    }\n",
       "\n",
       "    .dataframe tbody tr th {\n",
       "        vertical-align: top;\n",
       "    }\n",
       "\n",
       "    .dataframe thead th {\n",
       "        text-align: right;\n",
       "    }\n",
       "</style>\n",
       "<table border=\"1\" class=\"dataframe\">\n",
       "  <thead>\n",
       "    <tr style=\"text-align: right;\">\n",
       "      <th></th>\n",
       "      <th>jp_sales</th>\n",
       "    </tr>\n",
       "    <tr>\n",
       "      <th>genre</th>\n",
       "      <th></th>\n",
       "    </tr>\n",
       "  </thead>\n",
       "  <tbody>\n",
       "    <tr>\n",
       "      <td>role-playing</td>\n",
       "      <td>54.19</td>\n",
       "    </tr>\n",
       "    <tr>\n",
       "      <td>action</td>\n",
       "      <td>36.54</td>\n",
       "    </tr>\n",
       "    <tr>\n",
       "      <td>platform</td>\n",
       "      <td>10.71</td>\n",
       "    </tr>\n",
       "    <tr>\n",
       "      <td>misc</td>\n",
       "      <td>10.70</td>\n",
       "    </tr>\n",
       "    <tr>\n",
       "      <td>simulation</td>\n",
       "      <td>10.64</td>\n",
       "    </tr>\n",
       "  </tbody>\n",
       "</table>\n",
       "</div>"
      ],
      "text/plain": [
       "              jp_sales\n",
       "genre                 \n",
       "role-playing     54.19\n",
       "action           36.54\n",
       "platform         10.71\n",
       "misc             10.70\n",
       "simulation       10.64"
      ]
     },
     "execution_count": 75,
     "metadata": {},
     "output_type": "execute_result"
    }
   ],
   "source": [
    "jp_top_genre = platform_actual.pivot_table(index = 'genre', values = 'jp_sales', aggfunc = 'sum').sort_values('jp_sales', ascending = False).head(5)\n",
    "jp_top_genre"
   ]
  },
  {
   "cell_type": "code",
   "execution_count": 76,
   "metadata": {},
   "outputs": [
    {
     "data": {
      "image/png": "[encoded data removed]",
      "text/plain": [
       "<Figure size 1080x432 with 3 Axes>"
      ]
     },
     "metadata": {
      "needs_background": "light"
     },
     "output_type": "display_data"
    }
   ],
   "source": [
    "fig, axes = plt.subplots(1, 3)\n",
    "\n",
    "top_in_regions_plot('genre', 'na_sales', 0)\n",
    "top_in_regions_plot('genre', 'eu_sales', 1)\n",
    "top_in_regions_plot('genre', 'jp_sales', 2)"
   ]
  },
  {
   "cell_type": "markdown",
   "metadata": {},
   "source": [
    "### Влияние рейтинга ESRB на продажи в отдельном регионе"
   ]
  },
  {
   "cell_type": "markdown",
   "metadata": {},
   "source": [
    "Entertainment Software Rating Board (ESRB) — негосударственная организация, основное направление деятельности — принятие и определение рейтингов для компьютерных видеоигр и другого развлекательного программного обеспечения в США и Канаде.\n",
    "\n",
    "«EC» («Early childhood») — «Для детей младшего возраста»\n",
    "\n",
    "«E» («Everyone») — «Для всех»\n",
    "\n",
    "«E10+» («Everyone 10 and older») — «Для всех от 10 лет и старше»\n",
    "\n",
    "«T» («Teen») — «Подросткам»\n",
    "\n",
    "«M» («Mature») — «Для взрослых»\n",
    "\n",
    "«AO» («Adults Only 18+») — «Только для взрослых»\n",
    "\n",
    "«RP» («Rating Pending») — «Рейтинг ожидается»"
   ]
  },
  {
   "cell_type": "code",
   "execution_count": 77,
   "metadata": {},
   "outputs": [
    {
     "data": {
      "text/html": [
       "<div>\n",
       "<style scoped>\n",
       "    .dataframe tbody tr th:only-of-type {\n",
       "        vertical-align: middle;\n",
       "    }\n",
       "\n",
       "    .dataframe tbody tr th {\n",
       "        vertical-align: top;\n",
       "    }\n",
       "\n",
       "    .dataframe thead th {\n",
       "        text-align: right;\n",
       "    }\n",
       "</style>\n",
       "<table border=\"1\" class=\"dataframe\">\n",
       "  <thead>\n",
       "    <tr style=\"text-align: right;\">\n",
       "      <th></th>\n",
       "      <th>na_sales</th>\n",
       "    </tr>\n",
       "    <tr>\n",
       "      <th>rating</th>\n",
       "      <th></th>\n",
       "    </tr>\n",
       "  </thead>\n",
       "  <tbody>\n",
       "    <tr>\n",
       "      <td>M</td>\n",
       "      <td>123.25</td>\n",
       "    </tr>\n",
       "    <tr>\n",
       "      <td>E</td>\n",
       "      <td>88.31</td>\n",
       "    </tr>\n",
       "    <tr>\n",
       "      <td>T</td>\n",
       "      <td>72.15</td>\n",
       "    </tr>\n",
       "    <tr>\n",
       "      <td>E10+</td>\n",
       "      <td>46.48</td>\n",
       "    </tr>\n",
       "    <tr>\n",
       "      <td>K-A</td>\n",
       "      <td>2.30</td>\n",
       "    </tr>\n",
       "    <tr>\n",
       "      <td>EC</td>\n",
       "      <td>0.09</td>\n",
       "    </tr>\n",
       "    <tr>\n",
       "      <td>RP</td>\n",
       "      <td>0.00</td>\n",
       "    </tr>\n",
       "  </tbody>\n",
       "</table>\n",
       "</div>"
      ],
      "text/plain": [
       "        na_sales\n",
       "rating          \n",
       "M         123.25\n",
       "E          88.31\n",
       "T          72.15\n",
       "E10+       46.48\n",
       "K-A         2.30\n",
       "EC          0.09\n",
       "RP          0.00"
      ]
     },
     "execution_count": 77,
     "metadata": {},
     "output_type": "execute_result"
    }
   ],
   "source": [
    "na_top_rating = platform_actual.pivot_table(index = 'rating', values = 'na_sales', aggfunc = 'sum').sort_values('na_sales', ascending = False)\n",
    "na_top_rating"
   ]
  },
  {
   "cell_type": "code",
   "execution_count": 78,
   "metadata": {},
   "outputs": [
    {
     "data": {
      "text/html": [
       "<div>\n",
       "<style scoped>\n",
       "    .dataframe tbody tr th:only-of-type {\n",
       "        vertical-align: middle;\n",
       "    }\n",
       "\n",
       "    .dataframe tbody tr th {\n",
       "        vertical-align: top;\n",
       "    }\n",
       "\n",
       "    .dataframe thead th {\n",
       "        text-align: right;\n",
       "    }\n",
       "</style>\n",
       "<table border=\"1\" class=\"dataframe\">\n",
       "  <thead>\n",
       "    <tr style=\"text-align: right;\">\n",
       "      <th></th>\n",
       "      <th>eu_sales</th>\n",
       "    </tr>\n",
       "    <tr>\n",
       "      <th>rating</th>\n",
       "      <th></th>\n",
       "    </tr>\n",
       "  </thead>\n",
       "  <tbody>\n",
       "    <tr>\n",
       "      <td>M</td>\n",
       "      <td>131.10</td>\n",
       "    </tr>\n",
       "    <tr>\n",
       "      <td>E</td>\n",
       "      <td>88.80</td>\n",
       "    </tr>\n",
       "    <tr>\n",
       "      <td>T</td>\n",
       "      <td>79.54</td>\n",
       "    </tr>\n",
       "    <tr>\n",
       "      <td>E10+</td>\n",
       "      <td>37.50</td>\n",
       "    </tr>\n",
       "    <tr>\n",
       "      <td>K-A</td>\n",
       "      <td>0.11</td>\n",
       "    </tr>\n",
       "    <tr>\n",
       "      <td>RP</td>\n",
       "      <td>0.04</td>\n",
       "    </tr>\n",
       "    <tr>\n",
       "      <td>EC</td>\n",
       "      <td>0.00</td>\n",
       "    </tr>\n",
       "  </tbody>\n",
       "</table>\n",
       "</div>"
      ],
      "text/plain": [
       "        eu_sales\n",
       "rating          \n",
       "M         131.10\n",
       "E          88.80\n",
       "T          79.54\n",
       "E10+       37.50\n",
       "K-A         0.11\n",
       "RP          0.04\n",
       "EC          0.00"
      ]
     },
     "execution_count": 78,
     "metadata": {},
     "output_type": "execute_result"
    }
   ],
   "source": [
    "eu_top_rating = platform_actual.pivot_table(index = 'rating', values = 'eu_sales', aggfunc = 'sum').sort_values('eu_sales', ascending = False)\n",
    "eu_top_rating"
   ]
  },
  {
   "cell_type": "code",
   "execution_count": 79,
   "metadata": {},
   "outputs": [
    {
     "data": {
      "text/html": [
       "<div>\n",
       "<style scoped>\n",
       "    .dataframe tbody tr th:only-of-type {\n",
       "        vertical-align: middle;\n",
       "    }\n",
       "\n",
       "    .dataframe tbody tr th {\n",
       "        vertical-align: top;\n",
       "    }\n",
       "\n",
       "    .dataframe thead th {\n",
       "        text-align: right;\n",
       "    }\n",
       "</style>\n",
       "<table border=\"1\" class=\"dataframe\">\n",
       "  <thead>\n",
       "    <tr style=\"text-align: right;\">\n",
       "      <th></th>\n",
       "      <th>jp_sales</th>\n",
       "    </tr>\n",
       "    <tr>\n",
       "      <th>rating</th>\n",
       "      <th></th>\n",
       "    </tr>\n",
       "  </thead>\n",
       "  <tbody>\n",
       "    <tr>\n",
       "      <td>E</td>\n",
       "      <td>29.76</td>\n",
       "    </tr>\n",
       "    <tr>\n",
       "      <td>T</td>\n",
       "      <td>16.50</td>\n",
       "    </tr>\n",
       "    <tr>\n",
       "      <td>M</td>\n",
       "      <td>9.45</td>\n",
       "    </tr>\n",
       "    <tr>\n",
       "      <td>E10+</td>\n",
       "      <td>8.32</td>\n",
       "    </tr>\n",
       "    <tr>\n",
       "      <td>EC</td>\n",
       "      <td>0.00</td>\n",
       "    </tr>\n",
       "    <tr>\n",
       "      <td>K-A</td>\n",
       "      <td>0.00</td>\n",
       "    </tr>\n",
       "    <tr>\n",
       "      <td>RP</td>\n",
       "      <td>0.00</td>\n",
       "    </tr>\n",
       "  </tbody>\n",
       "</table>\n",
       "</div>"
      ],
      "text/plain": [
       "        jp_sales\n",
       "rating          \n",
       "E          29.76\n",
       "T          16.50\n",
       "M           9.45\n",
       "E10+        8.32\n",
       "EC          0.00\n",
       "K-A         0.00\n",
       "RP          0.00"
      ]
     },
     "execution_count": 79,
     "metadata": {},
     "output_type": "execute_result"
    }
   ],
   "source": [
    "jp_top_rating = platform_actual.pivot_table(index = 'rating', values = 'jp_sales', aggfunc = 'sum').sort_values('jp_sales', ascending = False)\n",
    "jp_top_rating"
   ]
  },
  {
   "cell_type": "code",
   "execution_count": 80,
   "metadata": {},
   "outputs": [
    {
     "data": {
      "image/png": "[encoded data removed]",
      "text/plain": [
       "<Figure size 1080x432 with 3 Axes>"
      ]
     },
     "metadata": {
      "needs_background": "light"
     },
     "output_type": "display_data"
    }
   ],
   "source": [
    "fig, axes = plt.subplots(1, 3)\n",
    "\n",
    "top_in_regions_plot('rating', 'na_sales', 0)\n",
    "top_in_regions_plot('rating', 'eu_sales', 1)\n",
    "top_in_regions_plot('rating', 'jp_sales', 2)"
   ]
  },
  {
   "cell_type": "markdown",
   "metadata": {},
   "source": [
    "**Вывод**"
   ]
  },
  {
   "cell_type": "markdown",
   "metadata": {},
   "source": [
    "Портрет пользователя в Северной Америке:\n",
    "1.\tСамые популярные платформы – ps4, pc, xone;\n",
    "2.\tСамые популярные жанры – action, shooter, role-playing;\n",
    "3.\tСамые популярные игры по возрастному рейтингу – M, E, T.\n",
    "\n",
    "Портрет пользователя в Европе:\n",
    "1.\tСамые популярные платформы – pc, ps4, 3ds;\n",
    "2.\tСамые популярные жанры - action, shooter, role-playing;\n",
    "3.\tСамые популярные игры по возрастному рейтингу – M, E, T.\n",
    "\n",
    "Портрет пользователя в Японии:\n",
    "1.\tСамые популярные платформы – 3ds, psv, ps4 (пользователи Японии предпочитают карманные консоли, а также консоли японского происхождения – Xbox One совершенно не пользуется популярностью);\n",
    "2.\tСамые популярные жанры - role-playing, action, platform;\n",
    "3.\tСамые популярные игры по возрастному рейтингу – E, T, M (возрастной рейтинг пользователей Японии опять же говорит о их более молодом возрасте по сравнению с пользователями Северной Америки и Европы).\n",
    "\n",
    "В целом, портреты пользователей в Северной Америке и Европе совпадают. Персональные компьютеры PC в данных регионах не теряют своей актуальности и занимают лидирующие позиции наравне с PS4. Пользователи Японии, в отличие от других регионов, значительно моложе возрастом, о чем свидетельствует популярность портативных консолей, а также возрастной рейтинг популярных игр."
   ]
  },
  {
   "cell_type": "markdown",
   "metadata": {},
   "source": [
    "## Шаг 5. Проверка гипотез"
   ]
  },
  {
   "cell_type": "markdown",
   "metadata": {},
   "source": [
    "### Cредние пользовательские рейтинги платформ Xbox One и PC одинаковые"
   ]
  },
  {
   "cell_type": "markdown",
   "metadata": {},
   "source": [
    "Сформулируем нулевую гипотезу **H₀** - cредние пользовательские рейтинги платформы Xbox One равны cредние пользовательские рейтинги платформы PC.\n",
    "Альтернативная гипотеза **H₁** - cредние пользовательские рейтинги платформы Xbox One и cредние пользовательские рейтинги платформы PC различаются."
   ]
  },
  {
   "cell_type": "markdown",
   "metadata": {},
   "source": [
    "Найдем средние пользовательские рейтинги платформ Xbox One и PC, их дисперсии и стандартное отклонение:"
   ]
  },
  {
   "cell_type": "code",
   "execution_count": 81,
   "metadata": {},
   "outputs": [],
   "source": [
    "df_xone = df.query('platform == \"xone\"')\n",
    "df_pc = df.query('platform == \"pc\"')"
   ]
  },
  {
   "cell_type": "code",
   "execution_count": 82,
   "metadata": {},
   "outputs": [
    {
     "name": "stdout",
     "output_type": "stream",
     "text": [
      "Средний пользовательский рейтинг платформы Xbox One: 5.298954116059379\n",
      "Медиана пользовательского рейтинга платформы Xbox One: 6.3\n",
      "Дисперсия пользовательского рейтинга платформы Xbox One: 8.317684747332361\n",
      "Стандартное отклонение пользовательского рейтинга платформы Xbox One: 2.8840396577253165\n"
     ]
    }
   ],
   "source": [
    "xone_user_score_mean = df_xone['user_score'].mean()\n",
    "xone_user_score_median = df_xone['user_score'].median()\n",
    "xone_user_score_variance = np.var(df_xone['user_score'])\n",
    "xone_user_score_standard_dev = np.std(df_xone['user_score'])\n",
    "\n",
    "print('Средний пользовательский рейтинг платформы Xbox One:', xone_user_score_mean)\n",
    "print('Медиана пользовательского рейтинга платформы Xbox One:', xone_user_score_median)\n",
    "print('Дисперсия пользовательского рейтинга платформы Xbox One:', xone_user_score_variance)\n",
    "print('Стандартное отклонение пользовательского рейтинга платформы Xbox One:', xone_user_score_standard_dev)"
   ]
  },
  {
   "cell_type": "code",
   "execution_count": 83,
   "metadata": {},
   "outputs": [
    {
     "name": "stdout",
     "output_type": "stream",
     "text": [
      "Средний пользовательский рейтинг платформы PC: 5.714121993127148\n",
      "Медиана пользовательского рейтинга платформы PC: 7.0\n",
      "Дисперсия пользовательского рейтинга платформы PC: 9.577101580192133\n",
      "Стандартное отклонение пользовательского рейтинга платформы PC: 3.0946892542211946\n"
     ]
    }
   ],
   "source": [
    "pc_user_score_mean = df_pc['user_score'].mean()\n",
    "pc_user_score_median = df_pc['user_score'].median()\n",
    "pc_user_score_variance = np.var(df_pc['user_score'])\n",
    "pc_user_score_standard_dev = np.std(df_pc['user_score'])\n",
    "\n",
    "print('Средний пользовательский рейтинг платформы PC:', pc_user_score_mean)\n",
    "print('Медиана пользовательского рейтинга платформы PC:', pc_user_score_median)\n",
    "print('Дисперсия пользовательского рейтинга платформы PC:', pc_user_score_variance)\n",
    "print('Стандартное отклонение пользовательского рейтинга платформы PC:', pc_user_score_standard_dev)"
   ]
  },
  {
   "cell_type": "markdown",
   "metadata": {},
   "source": [
    "Сформируем выборки с рейтингом пользователей для платформ Xbox One и PC:"
   ]
  },
  {
   "cell_type": "code",
   "execution_count": 84,
   "metadata": {},
   "outputs": [],
   "source": [
    "xone_user_score = df.query('platform == \"xone\"')['user_score']\n",
    "pc_user_score = df.query('platform == \"pc\"')['user_score']"
   ]
  },
  {
   "cell_type": "code",
   "execution_count": 85,
   "metadata": {},
   "outputs": [
    {
     "name": "stdout",
     "output_type": "stream",
     "text": [
      "p-значение:  0.04769786892384884\n",
      "Отвергаем нулевую гипотезу\n"
     ]
    }
   ],
   "source": [
    "alpha = 0.05\n",
    "\n",
    "results = st.ttest_ind(xone_user_score, pc_user_score, equal_var = False)\n",
    "\n",
    "print('p-значение: ', results.pvalue)\n",
    "\n",
    "if results.pvalue < alpha:\n",
    "    print(\"Отвергаем нулевую гипотезу\")\n",
    "else:\n",
    "    print(\"Не получилось отвергнуть нулевую гипотезу\") "
   ]
  },
  {
   "cell_type": "markdown",
   "metadata": {},
   "source": [
    "**Вывод**"
   ]
  },
  {
   "cell_type": "markdown",
   "metadata": {},
   "source": [
    "Для выбранного уровня значимости отвергаем нулевую гипотезу. Вывод — cредние пользовательские рейтинги платформы Xbox One и cредние пользовательские рейтинги платформы PC различаются."
   ]
  },
  {
   "cell_type": "markdown",
   "metadata": {},
   "source": [
    "### Cредние пользовательские рейтинги жанров Action и Sports разные"
   ]
  },
  {
   "cell_type": "markdown",
   "metadata": {},
   "source": [
    "Сформулируем нулевую гипотезу **H₀** - cредние пользовательские рейтинги жанра Action равны cредним пользовательским рейтингам жанра Sports.\n",
    "Альтернативная гипотеза **H₁** - cредние пользовательские рейтинги жанра Action и cредние пользовательские рейтинги жанра Sports различаются."
   ]
  },
  {
   "cell_type": "markdown",
   "metadata": {},
   "source": [
    "Найдем средние пользовательские рейтинги жанров Action и Sports, их дисперсии и стандартное отклонение:"
   ]
  },
  {
   "cell_type": "code",
   "execution_count": 86,
   "metadata": {},
   "outputs": [],
   "source": [
    "df_action = df.query('genre == \"action\"')\n",
    "df_sports = df.query('genre == \"sports\"')"
   ]
  },
  {
   "cell_type": "code",
   "execution_count": 87,
   "metadata": {},
   "outputs": [
    {
     "name": "stdout",
     "output_type": "stream",
     "text": [
      "Средний пользовательский рейтинг жанра Action: 4.0647700977458605\n",
      "Медиана пользовательского рейтинга жанра Action: 5.4\n",
      "Дисперсия пользовательского рейтинга жанра Action: 13.339451817698182\n",
      "Стандартное отклонение пользовательского рейтинга жанра Action: 3.65232142858459\n"
     ]
    }
   ],
   "source": [
    "action_user_score_mean = df_action['user_score'].mean()\n",
    "action_user_score_median = df_action['user_score'].median()\n",
    "action_user_score_variance = np.var(df_action['user_score'])\n",
    "action_user_score_standard_dev = np.std(df_action['user_score'])\n",
    "\n",
    "print('Средний пользовательский рейтинг жанра Action:', action_user_score_mean)\n",
    "print('Медиана пользовательского рейтинга жанра Action:', action_user_score_median)\n",
    "print('Дисперсия пользовательского рейтинга жанра Action:', action_user_score_variance)\n",
    "print('Стандартное отклонение пользовательского рейтинга жанра Action:', action_user_score_standard_dev)"
   ]
  },
  {
   "cell_type": "code",
   "execution_count": 88,
   "metadata": {
    "scrolled": true
   },
   "outputs": [
    {
     "name": "stdout",
     "output_type": "stream",
     "text": [
      "Средний пользовательский рейтинг жанра Sports: 3.391026218031147\n",
      "Медиана пользовательского рейтинга жанра Sports: 0.0\n",
      "Дисперсия пользовательского рейтинга жанра Sports: 13.322047925599703\n",
      "Стандартное отклонение пользовательского рейтинга жанра Sports: 3.6499380714745975\n"
     ]
    }
   ],
   "source": [
    "sports_user_score_mean = df_sports['user_score'].mean()\n",
    "sports_user_score_median = df_sports['user_score'].median()\n",
    "sports_user_score_variance = np.var(df_sports['user_score'])\n",
    "sports_user_score_standard_dev = np.std(df_sports['user_score'])\n",
    "\n",
    "print('Средний пользовательский рейтинг жанра Sports:', sports_user_score_mean)\n",
    "print('Медиана пользовательского рейтинга жанра Sports:', sports_user_score_median)\n",
    "print('Дисперсия пользовательского рейтинга жанра Sports:', sports_user_score_variance)\n",
    "print('Стандартное отклонение пользовательского рейтинга жанра Sports:', sports_user_score_standard_dev)"
   ]
  },
  {
   "cell_type": "markdown",
   "metadata": {},
   "source": [
    "Сформируем выборки с рейтингом пользователей для жанров Action и Sports:"
   ]
  },
  {
   "cell_type": "code",
   "execution_count": 89,
   "metadata": {},
   "outputs": [],
   "source": [
    "action_user_score = df.query('genre == \"action\"')['user_score']\n",
    "sports_user_score = df.query('genre == \"sports\"')['user_score']"
   ]
  },
  {
   "cell_type": "code",
   "execution_count": 90,
   "metadata": {},
   "outputs": [
    {
     "name": "stdout",
     "output_type": "stream",
     "text": [
      "p-значение:  8.860360363167103e-12\n",
      "Отвергаем нулевую гипотезу\n"
     ]
    }
   ],
   "source": [
    "alpha = 0.05\n",
    "\n",
    "results = st.ttest_ind(action_user_score, sports_user_score, equal_var = True)\n",
    "\n",
    "print('p-значение: ', results.pvalue)\n",
    "\n",
    "if results.pvalue < alpha:\n",
    "    print(\"Отвергаем нулевую гипотезу\")\n",
    "else:\n",
    "    print(\"Не получилось отвергнуть нулевую гипотезу\") "
   ]
  },
  {
   "cell_type": "markdown",
   "metadata": {},
   "source": [
    "**Вывод**"
   ]
  },
  {
   "cell_type": "markdown",
   "metadata": {},
   "source": [
    "Для выбранного уровня значимости отвергаем нулевую гипотезу. Вывод — cредние пользовательские рейтинги жанра Action и cредние пользовательские рейтинги жанра Sports различаются."
   ]
  },
  {
   "cell_type": "markdown",
   "metadata": {},
   "source": [
    "## Общий вывод"
   ]
  },
  {
   "cell_type": "markdown",
   "metadata": {},
   "source": [
    "В данной проектной работе для интернет-магазина «Стримчик», продающего компьютерные игры по всему миру, выявлены закономерности, определяющие успешность игры. Выполнены следующие этапы:\n",
    "\n",
    "1.\tИзучение файлов с данными и получение общей информации – на данном этапе выполнена предварительная оценка датасета и намечен объем для дальнейшей работы на этапе подготовки данных.\n",
    "\n",
    "2.\tВыполнена подготовка данных и произведен подсчет суммарных продаж во всех регионах. Названия столбцов таблицы, а также значения в столбцах name, platform и genre приведены к единому нижнему регистру. Восстановлены пропущенные значения в столбцах year_of_release, critic_score, user_score и rating в строках, где возможна логичная замена пропущенных значений. В столбце year_of_release изменен тип данных из float в int; в столбце user_score изменен тип данных с object на float. В столбце с рейтингом рассмотрены значения с аббревиатурой tbd. Датафрейм проверен на наличие дубликатов.\n",
    "\n",
    "3.\tНа этапе исследовательского анализа данных определены самые популярные платформы за весь период, а также платформы, актуальные в настоящий момент и перспективные в будущем:\n",
    "\n",
    "За весь период наибольшие продажи игр составили по платформам: PS2, X360, PS3, WII, DS, PS.\n",
    "\n",
    "Актуальные и перспективные платформы: PS4, Xbox One, Wii U, PC, PSV, 3DS.\n",
    "\n",
    "Рассмотрено влияние отзывов пользователей и критиков на продажи игр. Сделан вывод, что пользовыатели при выборе игр ориентируются на свои собственные вкусы и предпочтения, иногда прислушиваются к отзывам профессиональных критиков и обычно не принимают в расчет отзывы других пользователей. \n",
    "\n",
    "Самые популярные жанры игр Action, Role-Playing и Shooter. Самые прибыльные жанры по продажам те же – Action, Shooter и Role-Playing, разве по продажам Shooter вышел на второе место. Наименее прибыльные - Puzzle, Adventure и Fighting.\n",
    "\n",
    "4.\tСоставлен портрет пользователей по регионам. В целом, портреты пользователей в Северной Америке и Европе совпадают. Персональные компьютеры PC в данных регионах не теряют своей актуальности и занимают лидирующие позиции наравне с PS4. Пользователи Японии, в отличие от других регионов, значительно моложе возрастом, о чем свидетельствует популярность портативных консолей, а также возрастной рейтинг популярных игр.\n",
    "\n",
    "5.\tПроверена гипотеза о равенстве cредних пользовательских рейтингов платформ Xbox One и PC, а также пользовательских рейтингов жанров Action и Sports. Получены выводы о различии cредних пользовательских рейтингов платформ Xbox One и PC, а также различии пользовательских рейтингов жанров Action и Sports для выбранных уровней значимости, равных 0.05."
   ]
  }
 ],
 "metadata": {
  "kernelspec": {
   "display_name": "Python 3",
   "language": "python",
   "name": "python3"
  },
  "language_info": {
   "codemirror_mode": {
    "name": "ipython",
    "version": 3
   },
   "file_extension": ".py",
   "mimetype": "text/x-python",
   "name": "python",
   "nbconvert_exporter": "python",
   "pygments_lexer": "ipython3",
   "version": "3.8.5"
  },
  "toc": {
   "base_numbering": 1,
   "nav_menu": {},
   "number_sections": true,
   "sideBar": true,
   "skip_h1_title": true,
   "title_cell": "Table of Contents",
   "title_sidebar": "Contents",
   "toc_cell": false,
   "toc_position": {},
   "toc_section_display": true,
   "toc_window_display": false
  }
 },
 "nbformat": 4,
 "nbformat_minor": 2
}
