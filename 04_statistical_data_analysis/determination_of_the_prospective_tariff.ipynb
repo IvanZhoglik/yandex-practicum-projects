{
 "cells": [
  {
   "cell_type": "markdown",
   "metadata": {},
   "source": [
    "# Определение перспективного тарифа для телеком компании"
   ]
  },
  {
   "cell_type": "markdown",
   "metadata": {},
   "source": [
    "# Введение"
   ]
  },
  {
   "cell_type": "markdown",
   "metadata": {},
   "source": [
    "Компания «Мегалайн» — федеральный оператор сотовой связи — предлагает своим Клиентам два тарифных плана: «Смарт» и «Ультра». Для корректировки рекламного бюджета, коммерческому департаменту нужна информация о том, какой тариф приносит больше денег.\n",
    "\n",
    "<b>Цель работы:</b> выполнить предварительный анализ тарифов на небольшой выборке клиентов по данным 500 пользователей «Мегалайна» за 2018 год. : кто они, откуда, каким тарифом пользуются, сколько звонков и сообщений каждый отправил за 2018 год. Проанализировать поведение клиентов (сколько совершают звонков, отправляют сообщений и какой объем траффика используют) и сделать вывод — какой тариф лучше.\n",
    "\n",
    "<b>Описание тарифов:</b>\n",
    "<div><b>Тариф «Смарт»</b></div>\n",
    "<div>Ежемесячная плата: 550 рублей</div>\n",
    "<div>Включено 500 минут разговора, 50 сообщений и 15 Гб интернет-трафика</div>\n",
    "<div>Стоимость услуг сверх тарифного пакета:</div> \n",
    "<div>минута разговора: 3 рубля</div>\n",
    "<div>сообщение: 3 рубля</div>\n",
    "<div>1 Гб интернет-трафика: 200 рублей</div>\n",
    "\n",
    "<b>Тариф «Ультра»</b>\n",
    "<div>Ежемесячная плата: 1950 рублей</div>\n",
    "<div>Включено 3000 минут разговора, 1000 сообщений и 30 Гб интернет-трафика</div>\n",
    "<div>Стоимость услуг сверх тарифного пакета:</div>\n",
    "<div>минута разговора: 1 рубль</div>\n",
    "<div>сообщение: 1 рубль</div>\n",
    "<div>1 Гб интернет-трафика: 150 рублей</div>\n",
    "\n",
    "Значения минут и мегабайтов округляются в большую сторону.\n",
    "\n",
    "<b>План выполнения работы:</b>\n",
    "1. Изучение файлов с данными. Общая информация;\n",
    "2. Подготовка данных: \n",
    "<div>- приведение данных к нужным типам;</div> \n",
    "<div>- исправление ошибок в данных;</div>\n",
    "<div>- выполнение необходимых расчетов.</div>\n",
    "3. Анализ данных: \n",
    "<div>- описание поведения клиентов оператора;</div> \n",
    "<div>- расчет среднего количества;</div> \n",
    "<div>- дисперсии и стандартнго отклонения;</div>  \n",
    "<div>- построение гистограмм и описание распределений.</div> \n",
    "4. Проверка гипотез:\n",
    "<div>- средняя выручка пользователей тарифов «Ультра» и «Смарт» различается;</div>\n",
    "<div>- средняя выручка пользователей из Москвы отличается от выручки пользователей из других регионов.</div>\n",
    "5. Общий вывод\n",
    "\n",
    "<b>Описание входных переменных:</b>\n",
    "<div><b>Таблица users (информация о пользователях):</b></div>\n",
    "<div>user_id — уникальный идентификатор пользователя</div> \n",
    "<div>first_name — имя пользователя</div> \n",
    "<div>last_name — фамилия пользователя</div> \n",
    "<div>age — возраст пользователя (годы)</div> \n",
    "<div>reg_date — дата подключения тарифа (день, месяц, год)</div> \n",
    "<div>churn_date — дата прекращения пользования тарифом (если значение пропущено, то тариф ещё действовал на момент выгрузки данных)</div> \n",
    "<div>city — город проживания пользователя</div> \n",
    "<div>tariff — название тарифного плана</div> \n",
    "\n",
    "<b>Таблица calls (информация о звонках):</b>\n",
    "<div>id — уникальный номер звонка</div>\n",
    "<div>call_date — дата звонка</div>\n",
    "<div>duration — длительность звонка в минутах</div>\n",
    "<div>user_id — идентификатор пользователя, сделавшего звонок</div>\n",
    "\n",
    "<b>Таблица messages (информация о сообщениях):</b>\n",
    "<div>id — уникальный номер сообщения</div>\n",
    "<div>message_date — дата сообщения</div>\n",
    "<div>user_id — идентификатор пользователя, отправившего сообщение</div>\n",
    "\n",
    "<b>Таблица internet (информация об интернет-сессиях):</b>\n",
    "<div>id — уникальный номер сессии</div>\n",
    "<div>mb_used — объём потраченного за сессию интернет-трафика (в мегабайтах)</div>\n",
    "<div>session_date — дата интернет-сессии</div>\n",
    "<div>user_id — идентификатор пользователя</div>\n",
    "\n",
    "<b>Таблица tariffs (информация о тарифах):</b>\n",
    "<div>tariff_name — название тарифа</div>\n",
    "<div>rub_monthly_fee — ежемесячная абонентская плата в рублях</div>\n",
    "<div>minutes_included — количество минут разговора в месяц, включённых в абонентскую плату</div>\n",
    "<div>messages_included — количество сообщений в месяц, включённых в абонентскую плату</div>\n",
    "<div>mb_per_month_included — объём интернет-трафика, включённого в абонентскую плату (в мегабайтах)</div>\n",
    "<div>rub_per_minute — стоимость минуты разговора сверх тарифного пакета (например, если в тарифе 100 минут разговора в месяц, то со 101 минуты будет взиматься плата)</div>\n",
    "<div>rub_per_message — стоимость отправки сообщения сверх тарифного пакета</div>\n",
    "<div>rub_per_gb — стоимость дополнительного гигабайта интернет-трафика сверх тарифного пакета (1 гигабайт = 1024 мегабайта)</div>"
   ]
  },
  {
   "cell_type": "markdown",
   "metadata": {},
   "source": [
    "## Шаг 1. Изучение файлов с данными. Общая информация"
   ]
  },
  {
   "cell_type": "code",
   "execution_count": 1,
   "metadata": {},
   "outputs": [],
   "source": [
    "import pandas as pd\n",
    "import matplotlib.pyplot as plt\n",
    "import numpy as np"
   ]
  },
  {
   "cell_type": "markdown",
   "metadata": {},
   "source": [
    "### Датасет users"
   ]
  },
  {
   "cell_type": "markdown",
   "metadata": {},
   "source": [
    "Поочередно рассмотрим все 5 представленных для выполнения проекта датасетов:"
   ]
  },
  {
   "cell_type": "code",
   "execution_count": 2,
   "metadata": {},
   "outputs": [
    {
     "data": {
      "text/html": [
       "<div>\n",
       "<style scoped>\n",
       "    .dataframe tbody tr th:only-of-type {\n",
       "        vertical-align: middle;\n",
       "    }\n",
       "\n",
       "    .dataframe tbody tr th {\n",
       "        vertical-align: top;\n",
       "    }\n",
       "\n",
       "    .dataframe thead th {\n",
       "        text-align: right;\n",
       "    }\n",
       "</style>\n",
       "<table border=\"1\" class=\"dataframe\">\n",
       "  <thead>\n",
       "    <tr style=\"text-align: right;\">\n",
       "      <th></th>\n",
       "      <th>user_id</th>\n",
       "      <th>age</th>\n",
       "      <th>churn_date</th>\n",
       "      <th>city</th>\n",
       "      <th>first_name</th>\n",
       "      <th>last_name</th>\n",
       "      <th>reg_date</th>\n",
       "      <th>tariff</th>\n",
       "    </tr>\n",
       "  </thead>\n",
       "  <tbody>\n",
       "    <tr>\n",
       "      <td>0</td>\n",
       "      <td>1000</td>\n",
       "      <td>52</td>\n",
       "      <td>NaN</td>\n",
       "      <td>Краснодар</td>\n",
       "      <td>Рафаил</td>\n",
       "      <td>Верещагин</td>\n",
       "      <td>2018-05-25</td>\n",
       "      <td>ultra</td>\n",
       "    </tr>\n",
       "    <tr>\n",
       "      <td>1</td>\n",
       "      <td>1001</td>\n",
       "      <td>41</td>\n",
       "      <td>NaN</td>\n",
       "      <td>Москва</td>\n",
       "      <td>Иван</td>\n",
       "      <td>Ежов</td>\n",
       "      <td>2018-11-01</td>\n",
       "      <td>smart</td>\n",
       "    </tr>\n",
       "    <tr>\n",
       "      <td>2</td>\n",
       "      <td>1002</td>\n",
       "      <td>59</td>\n",
       "      <td>NaN</td>\n",
       "      <td>Стерлитамак</td>\n",
       "      <td>Евгений</td>\n",
       "      <td>Абрамович</td>\n",
       "      <td>2018-06-17</td>\n",
       "      <td>smart</td>\n",
       "    </tr>\n",
       "    <tr>\n",
       "      <td>3</td>\n",
       "      <td>1003</td>\n",
       "      <td>23</td>\n",
       "      <td>NaN</td>\n",
       "      <td>Москва</td>\n",
       "      <td>Белла</td>\n",
       "      <td>Белякова</td>\n",
       "      <td>2018-08-17</td>\n",
       "      <td>ultra</td>\n",
       "    </tr>\n",
       "    <tr>\n",
       "      <td>4</td>\n",
       "      <td>1004</td>\n",
       "      <td>68</td>\n",
       "      <td>NaN</td>\n",
       "      <td>Новокузнецк</td>\n",
       "      <td>Татьяна</td>\n",
       "      <td>Авдеенко</td>\n",
       "      <td>2018-05-14</td>\n",
       "      <td>ultra</td>\n",
       "    </tr>\n",
       "    <tr>\n",
       "      <td>5</td>\n",
       "      <td>1005</td>\n",
       "      <td>67</td>\n",
       "      <td>NaN</td>\n",
       "      <td>Набережные Челны</td>\n",
       "      <td>Афанасий</td>\n",
       "      <td>Горлов</td>\n",
       "      <td>2018-01-25</td>\n",
       "      <td>smart</td>\n",
       "    </tr>\n",
       "    <tr>\n",
       "      <td>6</td>\n",
       "      <td>1006</td>\n",
       "      <td>21</td>\n",
       "      <td>NaN</td>\n",
       "      <td>Ульяновск</td>\n",
       "      <td>Леонид</td>\n",
       "      <td>Ермолаев</td>\n",
       "      <td>2018-02-26</td>\n",
       "      <td>smart</td>\n",
       "    </tr>\n",
       "    <tr>\n",
       "      <td>7</td>\n",
       "      <td>1007</td>\n",
       "      <td>65</td>\n",
       "      <td>NaN</td>\n",
       "      <td>Москва</td>\n",
       "      <td>Юна</td>\n",
       "      <td>Березина</td>\n",
       "      <td>2018-04-19</td>\n",
       "      <td>smart</td>\n",
       "    </tr>\n",
       "    <tr>\n",
       "      <td>8</td>\n",
       "      <td>1008</td>\n",
       "      <td>63</td>\n",
       "      <td>NaN</td>\n",
       "      <td>Челябинск</td>\n",
       "      <td>Рустэм</td>\n",
       "      <td>Пономарёв</td>\n",
       "      <td>2018-12-19</td>\n",
       "      <td>smart</td>\n",
       "    </tr>\n",
       "    <tr>\n",
       "      <td>9</td>\n",
       "      <td>1009</td>\n",
       "      <td>24</td>\n",
       "      <td>NaN</td>\n",
       "      <td>Пермь</td>\n",
       "      <td>Василиса</td>\n",
       "      <td>Блинова</td>\n",
       "      <td>2018-03-22</td>\n",
       "      <td>smart</td>\n",
       "    </tr>\n",
       "  </tbody>\n",
       "</table>\n",
       "</div>"
      ],
      "text/plain": [
       "   user_id  age churn_date              city first_name  last_name  \\\n",
       "0     1000   52        NaN         Краснодар     Рафаил  Верещагин   \n",
       "1     1001   41        NaN            Москва       Иван       Ежов   \n",
       "2     1002   59        NaN       Стерлитамак    Евгений  Абрамович   \n",
       "3     1003   23        NaN            Москва      Белла   Белякова   \n",
       "4     1004   68        NaN       Новокузнецк    Татьяна   Авдеенко   \n",
       "5     1005   67        NaN  Набережные Челны   Афанасий     Горлов   \n",
       "6     1006   21        NaN         Ульяновск     Леонид   Ермолаев   \n",
       "7     1007   65        NaN            Москва        Юна   Березина   \n",
       "8     1008   63        NaN         Челябинск     Рустэм  Пономарёв   \n",
       "9     1009   24        NaN             Пермь   Василиса    Блинова   \n",
       "\n",
       "     reg_date tariff  \n",
       "0  2018-05-25  ultra  \n",
       "1  2018-11-01  smart  \n",
       "2  2018-06-17  smart  \n",
       "3  2018-08-17  ultra  \n",
       "4  2018-05-14  ultra  \n",
       "5  2018-01-25  smart  \n",
       "6  2018-02-26  smart  \n",
       "7  2018-04-19  smart  \n",
       "8  2018-12-19  smart  \n",
       "9  2018-03-22  smart  "
      ]
     },
     "execution_count": 2,
     "metadata": {},
     "output_type": "execute_result"
    }
   ],
   "source": [
    "users = pd.read_csv('/datasets/users.csv')\n",
    "users.head(10)"
   ]
  },
  {
   "cell_type": "code",
   "execution_count": 3,
   "metadata": {},
   "outputs": [
    {
     "name": "stdout",
     "output_type": "stream",
     "text": [
      "<class 'pandas.core.frame.DataFrame'>\n",
      "RangeIndex: 500 entries, 0 to 499\n",
      "Data columns (total 8 columns):\n",
      "user_id       500 non-null int64\n",
      "age           500 non-null int64\n",
      "churn_date    38 non-null object\n",
      "city          500 non-null object\n",
      "first_name    500 non-null object\n",
      "last_name     500 non-null object\n",
      "reg_date      500 non-null object\n",
      "tariff        500 non-null object\n",
      "dtypes: int64(2), object(6)\n",
      "memory usage: 31.4+ KB\n"
     ]
    }
   ],
   "source": [
    "users.info()"
   ]
  },
  {
   "cell_type": "code",
   "execution_count": 4,
   "metadata": {},
   "outputs": [
    {
     "data": {
      "text/plain": [
       "500"
      ]
     },
     "execution_count": 4,
     "metadata": {},
     "output_type": "execute_result"
    }
   ],
   "source": [
    "users['user_id'].nunique()"
   ]
  },
  {
   "cell_type": "markdown",
   "metadata": {},
   "source": [
    "Датасет *users* содержит информацию о 500 пользователях."
   ]
  },
  {
   "cell_type": "markdown",
   "metadata": {},
   "source": [
    "### Датасет calls"
   ]
  },
  {
   "cell_type": "code",
   "execution_count": 5,
   "metadata": {},
   "outputs": [
    {
     "data": {
      "text/html": [
       "<div>\n",
       "<style scoped>\n",
       "    .dataframe tbody tr th:only-of-type {\n",
       "        vertical-align: middle;\n",
       "    }\n",
       "\n",
       "    .dataframe tbody tr th {\n",
       "        vertical-align: top;\n",
       "    }\n",
       "\n",
       "    .dataframe thead th {\n",
       "        text-align: right;\n",
       "    }\n",
       "</style>\n",
       "<table border=\"1\" class=\"dataframe\">\n",
       "  <thead>\n",
       "    <tr style=\"text-align: right;\">\n",
       "      <th></th>\n",
       "      <th>id</th>\n",
       "      <th>call_date</th>\n",
       "      <th>duration</th>\n",
       "      <th>user_id</th>\n",
       "    </tr>\n",
       "  </thead>\n",
       "  <tbody>\n",
       "    <tr>\n",
       "      <td>0</td>\n",
       "      <td>1000_0</td>\n",
       "      <td>2018-07-25</td>\n",
       "      <td>0.00</td>\n",
       "      <td>1000</td>\n",
       "    </tr>\n",
       "    <tr>\n",
       "      <td>1</td>\n",
       "      <td>1000_1</td>\n",
       "      <td>2018-08-17</td>\n",
       "      <td>0.00</td>\n",
       "      <td>1000</td>\n",
       "    </tr>\n",
       "    <tr>\n",
       "      <td>2</td>\n",
       "      <td>1000_2</td>\n",
       "      <td>2018-06-11</td>\n",
       "      <td>2.85</td>\n",
       "      <td>1000</td>\n",
       "    </tr>\n",
       "    <tr>\n",
       "      <td>3</td>\n",
       "      <td>1000_3</td>\n",
       "      <td>2018-09-21</td>\n",
       "      <td>13.80</td>\n",
       "      <td>1000</td>\n",
       "    </tr>\n",
       "    <tr>\n",
       "      <td>4</td>\n",
       "      <td>1000_4</td>\n",
       "      <td>2018-12-15</td>\n",
       "      <td>5.18</td>\n",
       "      <td>1000</td>\n",
       "    </tr>\n",
       "    <tr>\n",
       "      <td>5</td>\n",
       "      <td>1000_5</td>\n",
       "      <td>2018-11-02</td>\n",
       "      <td>0.00</td>\n",
       "      <td>1000</td>\n",
       "    </tr>\n",
       "    <tr>\n",
       "      <td>6</td>\n",
       "      <td>1000_6</td>\n",
       "      <td>2018-10-18</td>\n",
       "      <td>0.00</td>\n",
       "      <td>1000</td>\n",
       "    </tr>\n",
       "    <tr>\n",
       "      <td>7</td>\n",
       "      <td>1000_7</td>\n",
       "      <td>2018-08-22</td>\n",
       "      <td>18.31</td>\n",
       "      <td>1000</td>\n",
       "    </tr>\n",
       "    <tr>\n",
       "      <td>8</td>\n",
       "      <td>1000_8</td>\n",
       "      <td>2018-09-15</td>\n",
       "      <td>18.44</td>\n",
       "      <td>1000</td>\n",
       "    </tr>\n",
       "    <tr>\n",
       "      <td>9</td>\n",
       "      <td>1000_9</td>\n",
       "      <td>2018-08-15</td>\n",
       "      <td>0.00</td>\n",
       "      <td>1000</td>\n",
       "    </tr>\n",
       "  </tbody>\n",
       "</table>\n",
       "</div>"
      ],
      "text/plain": [
       "       id   call_date  duration  user_id\n",
       "0  1000_0  2018-07-25      0.00     1000\n",
       "1  1000_1  2018-08-17      0.00     1000\n",
       "2  1000_2  2018-06-11      2.85     1000\n",
       "3  1000_3  2018-09-21     13.80     1000\n",
       "4  1000_4  2018-12-15      5.18     1000\n",
       "5  1000_5  2018-11-02      0.00     1000\n",
       "6  1000_6  2018-10-18      0.00     1000\n",
       "7  1000_7  2018-08-22     18.31     1000\n",
       "8  1000_8  2018-09-15     18.44     1000\n",
       "9  1000_9  2018-08-15      0.00     1000"
      ]
     },
     "execution_count": 5,
     "metadata": {},
     "output_type": "execute_result"
    }
   ],
   "source": [
    "calls = pd.read_csv('/datasets/calls.csv')\n",
    "calls.head(10)"
   ]
  },
  {
   "cell_type": "code",
   "execution_count": 6,
   "metadata": {},
   "outputs": [
    {
     "name": "stdout",
     "output_type": "stream",
     "text": [
      "<class 'pandas.core.frame.DataFrame'>\n",
      "RangeIndex: 202607 entries, 0 to 202606\n",
      "Data columns (total 4 columns):\n",
      "id           202607 non-null object\n",
      "call_date    202607 non-null object\n",
      "duration     202607 non-null float64\n",
      "user_id      202607 non-null int64\n",
      "dtypes: float64(1), int64(1), object(2)\n",
      "memory usage: 6.2+ MB\n"
     ]
    }
   ],
   "source": [
    "calls.info()"
   ]
  },
  {
   "cell_type": "code",
   "execution_count": 7,
   "metadata": {},
   "outputs": [
    {
     "data": {
      "text/plain": [
       "492"
      ]
     },
     "execution_count": 7,
     "metadata": {},
     "output_type": "execute_result"
    }
   ],
   "source": [
    "calls['user_id'].nunique()"
   ]
  },
  {
   "cell_type": "markdown",
   "metadata": {},
   "source": [
    "Датасет *calls* содержит информацию о 492 пользователях."
   ]
  },
  {
   "cell_type": "markdown",
   "metadata": {},
   "source": [
    "### Датасет messages"
   ]
  },
  {
   "cell_type": "code",
   "execution_count": 8,
   "metadata": {},
   "outputs": [
    {
     "data": {
      "text/html": [
       "<div>\n",
       "<style scoped>\n",
       "    .dataframe tbody tr th:only-of-type {\n",
       "        vertical-align: middle;\n",
       "    }\n",
       "\n",
       "    .dataframe tbody tr th {\n",
       "        vertical-align: top;\n",
       "    }\n",
       "\n",
       "    .dataframe thead th {\n",
       "        text-align: right;\n",
       "    }\n",
       "</style>\n",
       "<table border=\"1\" class=\"dataframe\">\n",
       "  <thead>\n",
       "    <tr style=\"text-align: right;\">\n",
       "      <th></th>\n",
       "      <th>id</th>\n",
       "      <th>message_date</th>\n",
       "      <th>user_id</th>\n",
       "    </tr>\n",
       "  </thead>\n",
       "  <tbody>\n",
       "    <tr>\n",
       "      <td>0</td>\n",
       "      <td>1000_0</td>\n",
       "      <td>2018-06-27</td>\n",
       "      <td>1000</td>\n",
       "    </tr>\n",
       "    <tr>\n",
       "      <td>1</td>\n",
       "      <td>1000_1</td>\n",
       "      <td>2018-10-08</td>\n",
       "      <td>1000</td>\n",
       "    </tr>\n",
       "    <tr>\n",
       "      <td>2</td>\n",
       "      <td>1000_2</td>\n",
       "      <td>2018-08-04</td>\n",
       "      <td>1000</td>\n",
       "    </tr>\n",
       "    <tr>\n",
       "      <td>3</td>\n",
       "      <td>1000_3</td>\n",
       "      <td>2018-06-16</td>\n",
       "      <td>1000</td>\n",
       "    </tr>\n",
       "    <tr>\n",
       "      <td>4</td>\n",
       "      <td>1000_4</td>\n",
       "      <td>2018-12-05</td>\n",
       "      <td>1000</td>\n",
       "    </tr>\n",
       "    <tr>\n",
       "      <td>5</td>\n",
       "      <td>1000_5</td>\n",
       "      <td>2018-06-20</td>\n",
       "      <td>1000</td>\n",
       "    </tr>\n",
       "    <tr>\n",
       "      <td>6</td>\n",
       "      <td>1000_6</td>\n",
       "      <td>2018-11-19</td>\n",
       "      <td>1000</td>\n",
       "    </tr>\n",
       "    <tr>\n",
       "      <td>7</td>\n",
       "      <td>1000_7</td>\n",
       "      <td>2018-10-29</td>\n",
       "      <td>1000</td>\n",
       "    </tr>\n",
       "    <tr>\n",
       "      <td>8</td>\n",
       "      <td>1000_8</td>\n",
       "      <td>2018-06-25</td>\n",
       "      <td>1000</td>\n",
       "    </tr>\n",
       "    <tr>\n",
       "      <td>9</td>\n",
       "      <td>1000_9</td>\n",
       "      <td>2018-12-18</td>\n",
       "      <td>1000</td>\n",
       "    </tr>\n",
       "  </tbody>\n",
       "</table>\n",
       "</div>"
      ],
      "text/plain": [
       "       id message_date  user_id\n",
       "0  1000_0   2018-06-27     1000\n",
       "1  1000_1   2018-10-08     1000\n",
       "2  1000_2   2018-08-04     1000\n",
       "3  1000_3   2018-06-16     1000\n",
       "4  1000_4   2018-12-05     1000\n",
       "5  1000_5   2018-06-20     1000\n",
       "6  1000_6   2018-11-19     1000\n",
       "7  1000_7   2018-10-29     1000\n",
       "8  1000_8   2018-06-25     1000\n",
       "9  1000_9   2018-12-18     1000"
      ]
     },
     "execution_count": 8,
     "metadata": {},
     "output_type": "execute_result"
    }
   ],
   "source": [
    "messages = pd.read_csv('/datasets/messages.csv')\n",
    "messages.head(10)"
   ]
  },
  {
   "cell_type": "raw",
   "metadata": {},
   "source": [
    "messages.info()"
   ]
  },
  {
   "cell_type": "code",
   "execution_count": 9,
   "metadata": {},
   "outputs": [
    {
     "data": {
      "text/plain": [
       "426"
      ]
     },
     "execution_count": 9,
     "metadata": {},
     "output_type": "execute_result"
    }
   ],
   "source": [
    "messages['user_id'].nunique()"
   ]
  },
  {
   "cell_type": "markdown",
   "metadata": {},
   "source": [
    "Датасет *messages* содержит информацию о 426 пользователях."
   ]
  },
  {
   "cell_type": "markdown",
   "metadata": {},
   "source": [
    "### Датасет internet"
   ]
  },
  {
   "cell_type": "code",
   "execution_count": 10,
   "metadata": {},
   "outputs": [
    {
     "data": {
      "text/html": [
       "<div>\n",
       "<style scoped>\n",
       "    .dataframe tbody tr th:only-of-type {\n",
       "        vertical-align: middle;\n",
       "    }\n",
       "\n",
       "    .dataframe tbody tr th {\n",
       "        vertical-align: top;\n",
       "    }\n",
       "\n",
       "    .dataframe thead th {\n",
       "        text-align: right;\n",
       "    }\n",
       "</style>\n",
       "<table border=\"1\" class=\"dataframe\">\n",
       "  <thead>\n",
       "    <tr style=\"text-align: right;\">\n",
       "      <th></th>\n",
       "      <th>Unnamed: 0</th>\n",
       "      <th>id</th>\n",
       "      <th>mb_used</th>\n",
       "      <th>session_date</th>\n",
       "      <th>user_id</th>\n",
       "    </tr>\n",
       "  </thead>\n",
       "  <tbody>\n",
       "    <tr>\n",
       "      <td>0</td>\n",
       "      <td>0</td>\n",
       "      <td>1000_0</td>\n",
       "      <td>112.95</td>\n",
       "      <td>2018-11-25</td>\n",
       "      <td>1000</td>\n",
       "    </tr>\n",
       "    <tr>\n",
       "      <td>1</td>\n",
       "      <td>1</td>\n",
       "      <td>1000_1</td>\n",
       "      <td>1052.81</td>\n",
       "      <td>2018-09-07</td>\n",
       "      <td>1000</td>\n",
       "    </tr>\n",
       "    <tr>\n",
       "      <td>2</td>\n",
       "      <td>2</td>\n",
       "      <td>1000_2</td>\n",
       "      <td>1197.26</td>\n",
       "      <td>2018-06-25</td>\n",
       "      <td>1000</td>\n",
       "    </tr>\n",
       "    <tr>\n",
       "      <td>3</td>\n",
       "      <td>3</td>\n",
       "      <td>1000_3</td>\n",
       "      <td>550.27</td>\n",
       "      <td>2018-08-22</td>\n",
       "      <td>1000</td>\n",
       "    </tr>\n",
       "    <tr>\n",
       "      <td>4</td>\n",
       "      <td>4</td>\n",
       "      <td>1000_4</td>\n",
       "      <td>302.56</td>\n",
       "      <td>2018-09-24</td>\n",
       "      <td>1000</td>\n",
       "    </tr>\n",
       "    <tr>\n",
       "      <td>5</td>\n",
       "      <td>5</td>\n",
       "      <td>1000_5</td>\n",
       "      <td>399.97</td>\n",
       "      <td>2018-10-02</td>\n",
       "      <td>1000</td>\n",
       "    </tr>\n",
       "    <tr>\n",
       "      <td>6</td>\n",
       "      <td>6</td>\n",
       "      <td>1000_6</td>\n",
       "      <td>540.08</td>\n",
       "      <td>2018-09-07</td>\n",
       "      <td>1000</td>\n",
       "    </tr>\n",
       "    <tr>\n",
       "      <td>7</td>\n",
       "      <td>7</td>\n",
       "      <td>1000_7</td>\n",
       "      <td>415.70</td>\n",
       "      <td>2018-07-11</td>\n",
       "      <td>1000</td>\n",
       "    </tr>\n",
       "    <tr>\n",
       "      <td>8</td>\n",
       "      <td>8</td>\n",
       "      <td>1000_8</td>\n",
       "      <td>505.40</td>\n",
       "      <td>2018-10-08</td>\n",
       "      <td>1000</td>\n",
       "    </tr>\n",
       "    <tr>\n",
       "      <td>9</td>\n",
       "      <td>9</td>\n",
       "      <td>1000_9</td>\n",
       "      <td>345.54</td>\n",
       "      <td>2018-09-03</td>\n",
       "      <td>1000</td>\n",
       "    </tr>\n",
       "  </tbody>\n",
       "</table>\n",
       "</div>"
      ],
      "text/plain": [
       "   Unnamed: 0      id  mb_used session_date  user_id\n",
       "0           0  1000_0   112.95   2018-11-25     1000\n",
       "1           1  1000_1  1052.81   2018-09-07     1000\n",
       "2           2  1000_2  1197.26   2018-06-25     1000\n",
       "3           3  1000_3   550.27   2018-08-22     1000\n",
       "4           4  1000_4   302.56   2018-09-24     1000\n",
       "5           5  1000_5   399.97   2018-10-02     1000\n",
       "6           6  1000_6   540.08   2018-09-07     1000\n",
       "7           7  1000_7   415.70   2018-07-11     1000\n",
       "8           8  1000_8   505.40   2018-10-08     1000\n",
       "9           9  1000_9   345.54   2018-09-03     1000"
      ]
     },
     "execution_count": 10,
     "metadata": {},
     "output_type": "execute_result"
    }
   ],
   "source": [
    "internet = pd.read_csv('/datasets/internet.csv')\n",
    "internet.head(10)"
   ]
  },
  {
   "cell_type": "code",
   "execution_count": 11,
   "metadata": {},
   "outputs": [
    {
     "name": "stdout",
     "output_type": "stream",
     "text": [
      "<class 'pandas.core.frame.DataFrame'>\n",
      "RangeIndex: 149396 entries, 0 to 149395\n",
      "Data columns (total 5 columns):\n",
      "Unnamed: 0      149396 non-null int64\n",
      "id              149396 non-null object\n",
      "mb_used         149396 non-null float64\n",
      "session_date    149396 non-null object\n",
      "user_id         149396 non-null int64\n",
      "dtypes: float64(1), int64(2), object(2)\n",
      "memory usage: 5.7+ MB\n"
     ]
    }
   ],
   "source": [
    "internet.info()"
   ]
  },
  {
   "cell_type": "code",
   "execution_count": 12,
   "metadata": {},
   "outputs": [
    {
     "data": {
      "text/plain": [
       "497"
      ]
     },
     "execution_count": 12,
     "metadata": {},
     "output_type": "execute_result"
    }
   ],
   "source": [
    "internet['user_id'].nunique()"
   ]
  },
  {
   "cell_type": "markdown",
   "metadata": {},
   "source": [
    "Датасет *internet* содержит информацию о 497 пользователях."
   ]
  },
  {
   "cell_type": "markdown",
   "metadata": {},
   "source": [
    "### Датасет tariffs"
   ]
  },
  {
   "cell_type": "code",
   "execution_count": 13,
   "metadata": {},
   "outputs": [
    {
     "data": {
      "text/html": [
       "<div>\n",
       "<style scoped>\n",
       "    .dataframe tbody tr th:only-of-type {\n",
       "        vertical-align: middle;\n",
       "    }\n",
       "\n",
       "    .dataframe tbody tr th {\n",
       "        vertical-align: top;\n",
       "    }\n",
       "\n",
       "    .dataframe thead th {\n",
       "        text-align: right;\n",
       "    }\n",
       "</style>\n",
       "<table border=\"1\" class=\"dataframe\">\n",
       "  <thead>\n",
       "    <tr style=\"text-align: right;\">\n",
       "      <th></th>\n",
       "      <th>messages_included</th>\n",
       "      <th>mb_per_month_included</th>\n",
       "      <th>minutes_included</th>\n",
       "      <th>rub_monthly_fee</th>\n",
       "      <th>rub_per_gb</th>\n",
       "      <th>rub_per_message</th>\n",
       "      <th>rub_per_minute</th>\n",
       "      <th>tariff_name</th>\n",
       "    </tr>\n",
       "  </thead>\n",
       "  <tbody>\n",
       "    <tr>\n",
       "      <td>0</td>\n",
       "      <td>50</td>\n",
       "      <td>15360</td>\n",
       "      <td>500</td>\n",
       "      <td>550</td>\n",
       "      <td>200</td>\n",
       "      <td>3</td>\n",
       "      <td>3</td>\n",
       "      <td>smart</td>\n",
       "    </tr>\n",
       "    <tr>\n",
       "      <td>1</td>\n",
       "      <td>1000</td>\n",
       "      <td>30720</td>\n",
       "      <td>3000</td>\n",
       "      <td>1950</td>\n",
       "      <td>150</td>\n",
       "      <td>1</td>\n",
       "      <td>1</td>\n",
       "      <td>ultra</td>\n",
       "    </tr>\n",
       "  </tbody>\n",
       "</table>\n",
       "</div>"
      ],
      "text/plain": [
       "   messages_included  mb_per_month_included  minutes_included  \\\n",
       "0                 50                  15360               500   \n",
       "1               1000                  30720              3000   \n",
       "\n",
       "   rub_monthly_fee  rub_per_gb  rub_per_message  rub_per_minute tariff_name  \n",
       "0              550         200                3               3       smart  \n",
       "1             1950         150                1               1       ultra  "
      ]
     },
     "execution_count": 13,
     "metadata": {},
     "output_type": "execute_result"
    }
   ],
   "source": [
    "tariffs = pd.read_csv('/datasets/tariffs.csv')\n",
    "tariffs.head(10)"
   ]
  },
  {
   "cell_type": "code",
   "execution_count": 14,
   "metadata": {},
   "outputs": [
    {
     "name": "stdout",
     "output_type": "stream",
     "text": [
      "<class 'pandas.core.frame.DataFrame'>\n",
      "RangeIndex: 2 entries, 0 to 1\n",
      "Data columns (total 8 columns):\n",
      "messages_included        2 non-null int64\n",
      "mb_per_month_included    2 non-null int64\n",
      "minutes_included         2 non-null int64\n",
      "rub_monthly_fee          2 non-null int64\n",
      "rub_per_gb               2 non-null int64\n",
      "rub_per_message          2 non-null int64\n",
      "rub_per_minute           2 non-null int64\n",
      "tariff_name              2 non-null object\n",
      "dtypes: int64(7), object(1)\n",
      "memory usage: 256.0+ bytes\n"
     ]
    }
   ],
   "source": [
    "tariffs.info()"
   ]
  },
  {
   "cell_type": "markdown",
   "metadata": {},
   "source": [
    "**Вывод**"
   ]
  },
  {
   "cell_type": "markdown",
   "metadata": {},
   "source": [
    "Рассмотрим полученную информацию.\n",
    "\n",
    "Для выполнения проекта предоставлено 5 датасетов:"
   ]
  },
  {
   "cell_type": "markdown",
   "metadata": {},
   "source": [
    "1. В таблице users представлена общая информация о пользователях:\n",
    "user_id — уникальный идентификатор пользователя;\n",
    "first_name — имя пользователя;\n",
    "last_name — фамилия пользователя;\n",
    "age — возраст пользователя (годы);\n",
    "reg_date — дата подключения тарифа (день, месяц, год);\n",
    "churn_date — дата прекращения пользования тарифом (если значение пропущено, то тариф ещё действовал на момент выгрузки данных);\n",
    "city — город проживания пользователя;\n",
    "tariff — название тарифного плана.\n",
    "\n",
    "Всего в таблице 8 столбцов и 500 записей. Каждая запись - информация об одном из 500 клиентов оператора.\n",
    "\n",
    "Наименования столбцов указаны корректно. В столбце churn_date (дата прекращения пользования тарифом) - имеется 462 пропущенных значения (если значение пропущено, то тариф ещё действовал на момент выгрузки данных). Информация в столбцах churn_date и reg_date (дата подключения тарифа) имеет тип данных object."
   ]
  },
  {
   "cell_type": "markdown",
   "metadata": {},
   "source": [
    "2. Таблица calls содержит информацию о звонках, совершенных клиентами оператора:\n",
    "id — уникальный номер звонка;\n",
    "call_date — дата звонка;\n",
    "duration — длительность звонка в минутах;\n",
    "user_id — идентификатор пользователя, сделавшего звонок.\n",
    "\n",
    "Всего в таблице 4 столбца и 202607 записей. Каждая запись - информация об одном звонке по 492 клиентам оператора. Можно сделать вывод, что 8 пользователей из 500 не пользуются стандартной мобильной связью. Вероятно, они либо пользуются мобильным траффиком, либо в рассматриваемом периоде не пользовались услугами сотового оператора.\n",
    "\n",
    "Наименования столбцов указаны корректно, пропущенные значения отсутствуют. В столбце call_date (дата звонка) данные имеют тип данных object."
   ]
  },
  {
   "cell_type": "markdown",
   "metadata": {},
   "source": [
    "3. Таблица messages содержит информацию о дате и количестве сообщенияй, отправляемых пользователями:\n",
    "id — уникальный номер сообщения;\n",
    "message_date — дата сообщения;\n",
    "user_id — идентификатор пользователя, отправившего сообщение.\n",
    "\n",
    "Всего в таблице 3 столбца и 123036 записей. Каждая запись - общая информация об одном сообщении по 497 клиентам оператора. Таким образом, всего 3 клиента мобильного оператора из 500 не пользуются услугой мобильного интернета.\n",
    "\n",
    "Наименования столбцов указаны корректно, пропущенные значения отсутствуют. В столбце message_date (дата сообщения) данные имеют тип данных object."
   ]
  },
  {
   "cell_type": "markdown",
   "metadata": {},
   "source": [
    "4. Таблица internet содержит информацию об интернет-сессиях клиентов оператора:\n",
    "id — уникальный номер сессии;\n",
    "mb_used — объём потраченного за сессию интернет-трафика (в мегабайтах);\n",
    "session_date — дата интернет-сессии;\n",
    "user_id — идентификатор пользователя.\n",
    "\n",
    "Всего в таблице 4 столбца и 149396 записей. Каждая запись - общая информация об одной интернет-сессии по 426 клиентам оператора. Можно сделать вывод, что 74 пользователя из 500 не пользуются услугой отправки мобильных сообщений.\n",
    "\n",
    "Наименования столбцов указаны корректно, пропущенные значения отсутствуют. В столбце session_date (дата интернет-сессии) данные имеют тип данных object."
   ]
  },
  {
   "cell_type": "markdown",
   "metadata": {},
   "source": [
    "5. В таблице tariffs представлена информация о тарифах - всего 2 тарифа smart и ultra:\n",
    "tariff_name — название тарифа;\n",
    "rub_monthly_fee — ежемесячная абонентская плата в рублях;\n",
    "minutes_included — количество минут разговора в месяц, включённых в абонентскую плату;\n",
    "messages_included — количество сообщений в месяц, включённых в абонентскую плату;\n",
    "mb_per_month_included — объём интернет-трафика, включённого в абонентскую плату (в мегабайтах);\n",
    "rub_per_minute — стоимость минуты разговора сверх тарифного пакета (например, если в тарифе 100 минут разговора в месяц, то со 101 минуты будет взиматься плата);\n",
    "rub_per_message — стоимость отправки сообщения сверх тарифного пакета;\n",
    "rub_per_gb — стоимость дополнительного гигабайта интернет-трафика сверх тарифного пакета (1 гигабайт = 1024 мегабайта)/\n",
    "\n",
    "Всего в таблице 8 столбцов и 2 записи. Наименования столбцов указаны корректно, пропущенные значения отсутствуют."
   ]
  },
  {
   "cell_type": "markdown",
   "metadata": {},
   "source": [
    "**Резюме:**\n",
    "\n",
    "В таблицах содержится информация о 500 пользователях - клиентах мобильного оператора, из них:\n",
    "\n",
    "- 38 клиентов прекратили пользоваться тарифом (услугами оператора);\n",
    "\n",
    "- 8 клиентов не пользуются мобильной связью;\n",
    "\n",
    "- 3 клиента не пользуются услугой мобильного интернета;\n",
    "\n",
    "- 74 клиента не отправляют мобильные сообщения."
   ]
  },
  {
   "cell_type": "markdown",
   "metadata": {},
   "source": [
    "## Шаг 2. Подготовка данных"
   ]
  },
  {
   "cell_type": "markdown",
   "metadata": {},
   "source": [
    "### Датасет users"
   ]
  },
  {
   "cell_type": "code",
   "execution_count": 15,
   "metadata": {},
   "outputs": [
    {
     "data": {
      "text/html": [
       "<div>\n",
       "<style scoped>\n",
       "    .dataframe tbody tr th:only-of-type {\n",
       "        vertical-align: middle;\n",
       "    }\n",
       "\n",
       "    .dataframe tbody tr th {\n",
       "        vertical-align: top;\n",
       "    }\n",
       "\n",
       "    .dataframe thead th {\n",
       "        text-align: right;\n",
       "    }\n",
       "</style>\n",
       "<table border=\"1\" class=\"dataframe\">\n",
       "  <thead>\n",
       "    <tr style=\"text-align: right;\">\n",
       "      <th></th>\n",
       "      <th>user_id</th>\n",
       "      <th>age</th>\n",
       "    </tr>\n",
       "  </thead>\n",
       "  <tbody>\n",
       "    <tr>\n",
       "      <td>count</td>\n",
       "      <td>500.000000</td>\n",
       "      <td>500.00000</td>\n",
       "    </tr>\n",
       "    <tr>\n",
       "      <td>mean</td>\n",
       "      <td>1249.500000</td>\n",
       "      <td>46.58800</td>\n",
       "    </tr>\n",
       "    <tr>\n",
       "      <td>std</td>\n",
       "      <td>144.481833</td>\n",
       "      <td>16.66763</td>\n",
       "    </tr>\n",
       "    <tr>\n",
       "      <td>min</td>\n",
       "      <td>1000.000000</td>\n",
       "      <td>18.00000</td>\n",
       "    </tr>\n",
       "    <tr>\n",
       "      <td>25%</td>\n",
       "      <td>1124.750000</td>\n",
       "      <td>32.00000</td>\n",
       "    </tr>\n",
       "    <tr>\n",
       "      <td>50%</td>\n",
       "      <td>1249.500000</td>\n",
       "      <td>46.00000</td>\n",
       "    </tr>\n",
       "    <tr>\n",
       "      <td>75%</td>\n",
       "      <td>1374.250000</td>\n",
       "      <td>62.00000</td>\n",
       "    </tr>\n",
       "    <tr>\n",
       "      <td>max</td>\n",
       "      <td>1499.000000</td>\n",
       "      <td>75.00000</td>\n",
       "    </tr>\n",
       "  </tbody>\n",
       "</table>\n",
       "</div>"
      ],
      "text/plain": [
       "           user_id        age\n",
       "count   500.000000  500.00000\n",
       "mean   1249.500000   46.58800\n",
       "std     144.481833   16.66763\n",
       "min    1000.000000   18.00000\n",
       "25%    1124.750000   32.00000\n",
       "50%    1249.500000   46.00000\n",
       "75%    1374.250000   62.00000\n",
       "max    1499.000000   75.00000"
      ]
     },
     "execution_count": 15,
     "metadata": {},
     "output_type": "execute_result"
    }
   ],
   "source": [
    "users.describe()"
   ]
  },
  {
   "cell_type": "markdown",
   "metadata": {},
   "source": [
    "Для дальнейшей работы с датой, изменим тип данных в таблице в столбцах с датой с 'object' на 'datetime64'"
   ]
  },
  {
   "cell_type": "code",
   "execution_count": 16,
   "metadata": {},
   "outputs": [
    {
     "data": {
      "text/html": [
       "<div>\n",
       "<style scoped>\n",
       "    .dataframe tbody tr th:only-of-type {\n",
       "        vertical-align: middle;\n",
       "    }\n",
       "\n",
       "    .dataframe tbody tr th {\n",
       "        vertical-align: top;\n",
       "    }\n",
       "\n",
       "    .dataframe thead th {\n",
       "        text-align: right;\n",
       "    }\n",
       "</style>\n",
       "<table border=\"1\" class=\"dataframe\">\n",
       "  <thead>\n",
       "    <tr style=\"text-align: right;\">\n",
       "      <th></th>\n",
       "      <th>user_id</th>\n",
       "      <th>age</th>\n",
       "      <th>churn_date</th>\n",
       "      <th>city</th>\n",
       "      <th>first_name</th>\n",
       "      <th>last_name</th>\n",
       "      <th>reg_date</th>\n",
       "      <th>tariff</th>\n",
       "    </tr>\n",
       "  </thead>\n",
       "  <tbody>\n",
       "    <tr>\n",
       "      <td>0</td>\n",
       "      <td>1000</td>\n",
       "      <td>52</td>\n",
       "      <td>NaT</td>\n",
       "      <td>Краснодар</td>\n",
       "      <td>Рафаил</td>\n",
       "      <td>Верещагин</td>\n",
       "      <td>2018-05-25</td>\n",
       "      <td>ultra</td>\n",
       "    </tr>\n",
       "    <tr>\n",
       "      <td>1</td>\n",
       "      <td>1001</td>\n",
       "      <td>41</td>\n",
       "      <td>NaT</td>\n",
       "      <td>Москва</td>\n",
       "      <td>Иван</td>\n",
       "      <td>Ежов</td>\n",
       "      <td>2018-11-01</td>\n",
       "      <td>smart</td>\n",
       "    </tr>\n",
       "    <tr>\n",
       "      <td>2</td>\n",
       "      <td>1002</td>\n",
       "      <td>59</td>\n",
       "      <td>NaT</td>\n",
       "      <td>Стерлитамак</td>\n",
       "      <td>Евгений</td>\n",
       "      <td>Абрамович</td>\n",
       "      <td>2018-06-17</td>\n",
       "      <td>smart</td>\n",
       "    </tr>\n",
       "    <tr>\n",
       "      <td>3</td>\n",
       "      <td>1003</td>\n",
       "      <td>23</td>\n",
       "      <td>NaT</td>\n",
       "      <td>Москва</td>\n",
       "      <td>Белла</td>\n",
       "      <td>Белякова</td>\n",
       "      <td>2018-08-17</td>\n",
       "      <td>ultra</td>\n",
       "    </tr>\n",
       "    <tr>\n",
       "      <td>4</td>\n",
       "      <td>1004</td>\n",
       "      <td>68</td>\n",
       "      <td>NaT</td>\n",
       "      <td>Новокузнецк</td>\n",
       "      <td>Татьяна</td>\n",
       "      <td>Авдеенко</td>\n",
       "      <td>2018-05-14</td>\n",
       "      <td>ultra</td>\n",
       "    </tr>\n",
       "  </tbody>\n",
       "</table>\n",
       "</div>"
      ],
      "text/plain": [
       "   user_id  age churn_date         city first_name  last_name   reg_date  \\\n",
       "0     1000   52        NaT    Краснодар     Рафаил  Верещагин 2018-05-25   \n",
       "1     1001   41        NaT       Москва       Иван       Ежов 2018-11-01   \n",
       "2     1002   59        NaT  Стерлитамак    Евгений  Абрамович 2018-06-17   \n",
       "3     1003   23        NaT       Москва      Белла   Белякова 2018-08-17   \n",
       "4     1004   68        NaT  Новокузнецк    Татьяна   Авдеенко 2018-05-14   \n",
       "\n",
       "  tariff  \n",
       "0  ultra  \n",
       "1  smart  \n",
       "2  smart  \n",
       "3  ultra  \n",
       "4  ultra  "
      ]
     },
     "execution_count": 16,
     "metadata": {},
     "output_type": "execute_result"
    }
   ],
   "source": [
    "users['reg_date'] = pd.to_datetime(users['reg_date'], format='%Y-%m-%d')\n",
    "users['churn_date'] = pd.to_datetime(users['churn_date'], format='%Y-%m-%d')\n",
    "users.head(5)"
   ]
  },
  {
   "cell_type": "code",
   "execution_count": 17,
   "metadata": {},
   "outputs": [],
   "source": [
    "# users.info()"
   ]
  },
  {
   "cell_type": "markdown",
   "metadata": {},
   "source": [
    "Приведем к нижнему регистру значения в столбцах city, first_name и last_name"
   ]
  },
  {
   "cell_type": "code",
   "execution_count": 18,
   "metadata": {},
   "outputs": [],
   "source": [
    "users['city'] = users['city'].str.lower()\n",
    "users['first_name'] = users['first_name'].str.lower()\n",
    "users['last_name'] = users['last_name'].str.lower()"
   ]
  },
  {
   "cell_type": "code",
   "execution_count": 19,
   "metadata": {},
   "outputs": [
    {
     "data": {
      "text/html": [
       "<div>\n",
       "<style scoped>\n",
       "    .dataframe tbody tr th:only-of-type {\n",
       "        vertical-align: middle;\n",
       "    }\n",
       "\n",
       "    .dataframe tbody tr th {\n",
       "        vertical-align: top;\n",
       "    }\n",
       "\n",
       "    .dataframe thead th {\n",
       "        text-align: right;\n",
       "    }\n",
       "</style>\n",
       "<table border=\"1\" class=\"dataframe\">\n",
       "  <thead>\n",
       "    <tr style=\"text-align: right;\">\n",
       "      <th></th>\n",
       "      <th>user_id</th>\n",
       "      <th>age</th>\n",
       "      <th>churn_date</th>\n",
       "      <th>city</th>\n",
       "      <th>first_name</th>\n",
       "      <th>last_name</th>\n",
       "      <th>reg_date</th>\n",
       "      <th>tariff</th>\n",
       "    </tr>\n",
       "  </thead>\n",
       "  <tbody>\n",
       "    <tr>\n",
       "      <td>0</td>\n",
       "      <td>1000</td>\n",
       "      <td>52</td>\n",
       "      <td>NaT</td>\n",
       "      <td>краснодар</td>\n",
       "      <td>рафаил</td>\n",
       "      <td>верещагин</td>\n",
       "      <td>2018-05-25</td>\n",
       "      <td>ultra</td>\n",
       "    </tr>\n",
       "    <tr>\n",
       "      <td>1</td>\n",
       "      <td>1001</td>\n",
       "      <td>41</td>\n",
       "      <td>NaT</td>\n",
       "      <td>москва</td>\n",
       "      <td>иван</td>\n",
       "      <td>ежов</td>\n",
       "      <td>2018-11-01</td>\n",
       "      <td>smart</td>\n",
       "    </tr>\n",
       "    <tr>\n",
       "      <td>2</td>\n",
       "      <td>1002</td>\n",
       "      <td>59</td>\n",
       "      <td>NaT</td>\n",
       "      <td>стерлитамак</td>\n",
       "      <td>евгений</td>\n",
       "      <td>абрамович</td>\n",
       "      <td>2018-06-17</td>\n",
       "      <td>smart</td>\n",
       "    </tr>\n",
       "    <tr>\n",
       "      <td>3</td>\n",
       "      <td>1003</td>\n",
       "      <td>23</td>\n",
       "      <td>NaT</td>\n",
       "      <td>москва</td>\n",
       "      <td>белла</td>\n",
       "      <td>белякова</td>\n",
       "      <td>2018-08-17</td>\n",
       "      <td>ultra</td>\n",
       "    </tr>\n",
       "    <tr>\n",
       "      <td>4</td>\n",
       "      <td>1004</td>\n",
       "      <td>68</td>\n",
       "      <td>NaT</td>\n",
       "      <td>новокузнецк</td>\n",
       "      <td>татьяна</td>\n",
       "      <td>авдеенко</td>\n",
       "      <td>2018-05-14</td>\n",
       "      <td>ultra</td>\n",
       "    </tr>\n",
       "  </tbody>\n",
       "</table>\n",
       "</div>"
      ],
      "text/plain": [
       "   user_id  age churn_date         city first_name  last_name   reg_date  \\\n",
       "0     1000   52        NaT    краснодар     рафаил  верещагин 2018-05-25   \n",
       "1     1001   41        NaT       москва       иван       ежов 2018-11-01   \n",
       "2     1002   59        NaT  стерлитамак    евгений  абрамович 2018-06-17   \n",
       "3     1003   23        NaT       москва      белла   белякова 2018-08-17   \n",
       "4     1004   68        NaT  новокузнецк    татьяна   авдеенко 2018-05-14   \n",
       "\n",
       "  tariff  \n",
       "0  ultra  \n",
       "1  smart  \n",
       "2  smart  \n",
       "3  ultra  \n",
       "4  ultra  "
      ]
     },
     "execution_count": 19,
     "metadata": {},
     "output_type": "execute_result"
    }
   ],
   "source": [
    "users.head(5)"
   ]
  },
  {
   "cell_type": "code",
   "execution_count": 20,
   "metadata": {},
   "outputs": [],
   "source": [
    "#users['city'].value_counts()"
   ]
  },
  {
   "cell_type": "code",
   "execution_count": 21,
   "metadata": {},
   "outputs": [],
   "source": [
    "#users['first_name'].value_counts()"
   ]
  },
  {
   "cell_type": "code",
   "execution_count": 22,
   "metadata": {},
   "outputs": [],
   "source": [
    "#users['last_name'].value_counts()"
   ]
  },
  {
   "cell_type": "code",
   "execution_count": 23,
   "metadata": {},
   "outputs": [],
   "source": [
    "#users['tariff'].value_counts()"
   ]
  },
  {
   "cell_type": "markdown",
   "metadata": {},
   "source": [
    "Проверим датафрейм на наличие дубликатов:"
   ]
  },
  {
   "cell_type": "code",
   "execution_count": 24,
   "metadata": {},
   "outputs": [
    {
     "data": {
      "text/plain": [
       "0"
      ]
     },
     "execution_count": 24,
     "metadata": {},
     "output_type": "execute_result"
    }
   ],
   "source": [
    "users.duplicated().sum()"
   ]
  },
  {
   "cell_type": "markdown",
   "metadata": {},
   "source": [
    "Дубликатов не обнаружено."
   ]
  },
  {
   "cell_type": "markdown",
   "metadata": {},
   "source": [
    "### Датасет calls"
   ]
  },
  {
   "cell_type": "code",
   "execution_count": 25,
   "metadata": {},
   "outputs": [
    {
     "data": {
      "text/html": [
       "<div>\n",
       "<style scoped>\n",
       "    .dataframe tbody tr th:only-of-type {\n",
       "        vertical-align: middle;\n",
       "    }\n",
       "\n",
       "    .dataframe tbody tr th {\n",
       "        vertical-align: top;\n",
       "    }\n",
       "\n",
       "    .dataframe thead th {\n",
       "        text-align: right;\n",
       "    }\n",
       "</style>\n",
       "<table border=\"1\" class=\"dataframe\">\n",
       "  <thead>\n",
       "    <tr style=\"text-align: right;\">\n",
       "      <th></th>\n",
       "      <th>duration</th>\n",
       "      <th>user_id</th>\n",
       "    </tr>\n",
       "  </thead>\n",
       "  <tbody>\n",
       "    <tr>\n",
       "      <td>count</td>\n",
       "      <td>202607.000000</td>\n",
       "      <td>202607.000000</td>\n",
       "    </tr>\n",
       "    <tr>\n",
       "      <td>mean</td>\n",
       "      <td>6.755887</td>\n",
       "      <td>1253.940619</td>\n",
       "    </tr>\n",
       "    <tr>\n",
       "      <td>std</td>\n",
       "      <td>5.843365</td>\n",
       "      <td>144.722751</td>\n",
       "    </tr>\n",
       "    <tr>\n",
       "      <td>min</td>\n",
       "      <td>0.000000</td>\n",
       "      <td>1000.000000</td>\n",
       "    </tr>\n",
       "    <tr>\n",
       "      <td>25%</td>\n",
       "      <td>1.300000</td>\n",
       "      <td>1126.000000</td>\n",
       "    </tr>\n",
       "    <tr>\n",
       "      <td>50%</td>\n",
       "      <td>6.000000</td>\n",
       "      <td>1260.000000</td>\n",
       "    </tr>\n",
       "    <tr>\n",
       "      <td>75%</td>\n",
       "      <td>10.700000</td>\n",
       "      <td>1379.000000</td>\n",
       "    </tr>\n",
       "    <tr>\n",
       "      <td>max</td>\n",
       "      <td>38.000000</td>\n",
       "      <td>1499.000000</td>\n",
       "    </tr>\n",
       "  </tbody>\n",
       "</table>\n",
       "</div>"
      ],
      "text/plain": [
       "            duration        user_id\n",
       "count  202607.000000  202607.000000\n",
       "mean        6.755887    1253.940619\n",
       "std         5.843365     144.722751\n",
       "min         0.000000    1000.000000\n",
       "25%         1.300000    1126.000000\n",
       "50%         6.000000    1260.000000\n",
       "75%        10.700000    1379.000000\n",
       "max        38.000000    1499.000000"
      ]
     },
     "execution_count": 25,
     "metadata": {},
     "output_type": "execute_result"
    }
   ],
   "source": [
    "calls.describe()"
   ]
  },
  {
   "cell_type": "markdown",
   "metadata": {},
   "source": [
    "Для дальнейшей работы с датой, изменим тип данных в таблице в столбце call_date с 'object' на 'datetime64'"
   ]
  },
  {
   "cell_type": "code",
   "execution_count": 26,
   "metadata": {},
   "outputs": [
    {
     "data": {
      "text/html": [
       "<div>\n",
       "<style scoped>\n",
       "    .dataframe tbody tr th:only-of-type {\n",
       "        vertical-align: middle;\n",
       "    }\n",
       "\n",
       "    .dataframe tbody tr th {\n",
       "        vertical-align: top;\n",
       "    }\n",
       "\n",
       "    .dataframe thead th {\n",
       "        text-align: right;\n",
       "    }\n",
       "</style>\n",
       "<table border=\"1\" class=\"dataframe\">\n",
       "  <thead>\n",
       "    <tr style=\"text-align: right;\">\n",
       "      <th></th>\n",
       "      <th>id</th>\n",
       "      <th>call_date</th>\n",
       "      <th>duration</th>\n",
       "      <th>user_id</th>\n",
       "    </tr>\n",
       "  </thead>\n",
       "  <tbody>\n",
       "    <tr>\n",
       "      <td>0</td>\n",
       "      <td>1000_0</td>\n",
       "      <td>2018-07-25</td>\n",
       "      <td>0.00</td>\n",
       "      <td>1000</td>\n",
       "    </tr>\n",
       "    <tr>\n",
       "      <td>1</td>\n",
       "      <td>1000_1</td>\n",
       "      <td>2018-08-17</td>\n",
       "      <td>0.00</td>\n",
       "      <td>1000</td>\n",
       "    </tr>\n",
       "    <tr>\n",
       "      <td>2</td>\n",
       "      <td>1000_2</td>\n",
       "      <td>2018-06-11</td>\n",
       "      <td>2.85</td>\n",
       "      <td>1000</td>\n",
       "    </tr>\n",
       "    <tr>\n",
       "      <td>3</td>\n",
       "      <td>1000_3</td>\n",
       "      <td>2018-09-21</td>\n",
       "      <td>13.80</td>\n",
       "      <td>1000</td>\n",
       "    </tr>\n",
       "    <tr>\n",
       "      <td>4</td>\n",
       "      <td>1000_4</td>\n",
       "      <td>2018-12-15</td>\n",
       "      <td>5.18</td>\n",
       "      <td>1000</td>\n",
       "    </tr>\n",
       "  </tbody>\n",
       "</table>\n",
       "</div>"
      ],
      "text/plain": [
       "       id  call_date  duration  user_id\n",
       "0  1000_0 2018-07-25      0.00     1000\n",
       "1  1000_1 2018-08-17      0.00     1000\n",
       "2  1000_2 2018-06-11      2.85     1000\n",
       "3  1000_3 2018-09-21     13.80     1000\n",
       "4  1000_4 2018-12-15      5.18     1000"
      ]
     },
     "execution_count": 26,
     "metadata": {},
     "output_type": "execute_result"
    }
   ],
   "source": [
    "calls['call_date'] = pd.to_datetime(calls['call_date'], format='%Y-%m-%d')\n",
    "calls.head(5)"
   ]
  },
  {
   "cell_type": "code",
   "execution_count": 27,
   "metadata": {},
   "outputs": [
    {
     "data": {
      "text/plain": [
       "39613"
      ]
     },
     "execution_count": 27,
     "metadata": {},
     "output_type": "execute_result"
    }
   ],
   "source": [
    "len(calls.query('duration == 0'))"
   ]
  },
  {
   "cell_type": "code",
   "execution_count": 28,
   "metadata": {},
   "outputs": [],
   "source": [
    "#calls.query('duration == 0').groupby('user_id').count()"
   ]
  },
  {
   "cell_type": "markdown",
   "metadata": {},
   "source": [
    "По информации сотового опреатора - значения минут всегда округляются в большую сторону. В таблице calls в столбце с длительностью звонков присутствуют 39613 нулевых значений (0.00). Предположительно, это могут быть либо пропущенные вызовы, либо входящие - тарификация которых в рамках пакета тарифа не осуществляется. Поскольку, в задачи по условиям задания входит только определение количества сделанных звонков и израсходованных минут разговора по месяцам, нулевые значения звонков можно исключить из рассмотрения, оставив только исходящие вызовы."
   ]
  },
  {
   "cell_type": "markdown",
   "metadata": {},
   "source": [
    "<div class=\"alert alert-success\">\n",
    "<b>Комментарии ревьюера:</b> Молодец, что обнаружил проблему с большим количеством нулевых значений и прокомментировал, как мы будем эти нули обрабатывать. Для наглядности можно было бы еще построить гистограмму длительности звонков.</div>"
   ]
  },
  {
   "cell_type": "markdown",
   "metadata": {},
   "source": [
    "Исключим нулевые значения из датасета:"
   ]
  },
  {
   "cell_type": "code",
   "execution_count": 29,
   "metadata": {},
   "outputs": [],
   "source": [
    "calls_out = calls.query('duration > 0.00')\n",
    "calls_out = calls_out.reset_index(drop = True)\n",
    "#calls_out.head(10)"
   ]
  },
  {
   "cell_type": "markdown",
   "metadata": {},
   "source": [
    "По условиям тарифных планов опреатора, округлим значения использованных минут в большую сторону (поминутная тарификация)"
   ]
  },
  {
   "cell_type": "code",
   "execution_count": 30,
   "metadata": {},
   "outputs": [
    {
     "data": {
      "text/html": [
       "<div>\n",
       "<style scoped>\n",
       "    .dataframe tbody tr th:only-of-type {\n",
       "        vertical-align: middle;\n",
       "    }\n",
       "\n",
       "    .dataframe tbody tr th {\n",
       "        vertical-align: top;\n",
       "    }\n",
       "\n",
       "    .dataframe thead th {\n",
       "        text-align: right;\n",
       "    }\n",
       "</style>\n",
       "<table border=\"1\" class=\"dataframe\">\n",
       "  <thead>\n",
       "    <tr style=\"text-align: right;\">\n",
       "      <th></th>\n",
       "      <th>id</th>\n",
       "      <th>call_date</th>\n",
       "      <th>duration</th>\n",
       "      <th>user_id</th>\n",
       "    </tr>\n",
       "  </thead>\n",
       "  <tbody>\n",
       "    <tr>\n",
       "      <td>0</td>\n",
       "      <td>1000_2</td>\n",
       "      <td>2018-06-11</td>\n",
       "      <td>3</td>\n",
       "      <td>1000</td>\n",
       "    </tr>\n",
       "    <tr>\n",
       "      <td>1</td>\n",
       "      <td>1000_3</td>\n",
       "      <td>2018-09-21</td>\n",
       "      <td>14</td>\n",
       "      <td>1000</td>\n",
       "    </tr>\n",
       "    <tr>\n",
       "      <td>2</td>\n",
       "      <td>1000_4</td>\n",
       "      <td>2018-12-15</td>\n",
       "      <td>6</td>\n",
       "      <td>1000</td>\n",
       "    </tr>\n",
       "    <tr>\n",
       "      <td>3</td>\n",
       "      <td>1000_7</td>\n",
       "      <td>2018-08-22</td>\n",
       "      <td>19</td>\n",
       "      <td>1000</td>\n",
       "    </tr>\n",
       "    <tr>\n",
       "      <td>4</td>\n",
       "      <td>1000_8</td>\n",
       "      <td>2018-09-15</td>\n",
       "      <td>19</td>\n",
       "      <td>1000</td>\n",
       "    </tr>\n",
       "  </tbody>\n",
       "</table>\n",
       "</div>"
      ],
      "text/plain": [
       "       id  call_date  duration  user_id\n",
       "0  1000_2 2018-06-11         3     1000\n",
       "1  1000_3 2018-09-21        14     1000\n",
       "2  1000_4 2018-12-15         6     1000\n",
       "3  1000_7 2018-08-22        19     1000\n",
       "4  1000_8 2018-09-15        19     1000"
      ]
     },
     "execution_count": 30,
     "metadata": {},
     "output_type": "execute_result"
    }
   ],
   "source": [
    "calls_out['duration'] = calls_out['duration'].apply(np.ceil).astype('int')\n",
    "calls_out.head()"
   ]
  },
  {
   "cell_type": "markdown",
   "metadata": {},
   "source": [
    "Проверим датафрейм на наличие дубликатов:"
   ]
  },
  {
   "cell_type": "code",
   "execution_count": 31,
   "metadata": {},
   "outputs": [
    {
     "data": {
      "text/plain": [
       "0"
      ]
     },
     "execution_count": 31,
     "metadata": {},
     "output_type": "execute_result"
    }
   ],
   "source": [
    "calls_out.duplicated().sum()"
   ]
  },
  {
   "cell_type": "markdown",
   "metadata": {},
   "source": [
    "Дубликатов не обнаружено."
   ]
  },
  {
   "cell_type": "markdown",
   "metadata": {},
   "source": [
    "### Датасет messages"
   ]
  },
  {
   "cell_type": "markdown",
   "metadata": {},
   "source": [
    "Для дальнейшей работы с датой, изменим тип данных в таблице в столбце message_date с 'object' на 'datetime64'"
   ]
  },
  {
   "cell_type": "code",
   "execution_count": 32,
   "metadata": {},
   "outputs": [
    {
     "data": {
      "text/html": [
       "<div>\n",
       "<style scoped>\n",
       "    .dataframe tbody tr th:only-of-type {\n",
       "        vertical-align: middle;\n",
       "    }\n",
       "\n",
       "    .dataframe tbody tr th {\n",
       "        vertical-align: top;\n",
       "    }\n",
       "\n",
       "    .dataframe thead th {\n",
       "        text-align: right;\n",
       "    }\n",
       "</style>\n",
       "<table border=\"1\" class=\"dataframe\">\n",
       "  <thead>\n",
       "    <tr style=\"text-align: right;\">\n",
       "      <th></th>\n",
       "      <th>id</th>\n",
       "      <th>message_date</th>\n",
       "      <th>user_id</th>\n",
       "    </tr>\n",
       "  </thead>\n",
       "  <tbody>\n",
       "    <tr>\n",
       "      <td>0</td>\n",
       "      <td>1000_0</td>\n",
       "      <td>2018-06-27</td>\n",
       "      <td>1000</td>\n",
       "    </tr>\n",
       "    <tr>\n",
       "      <td>1</td>\n",
       "      <td>1000_1</td>\n",
       "      <td>2018-10-08</td>\n",
       "      <td>1000</td>\n",
       "    </tr>\n",
       "    <tr>\n",
       "      <td>2</td>\n",
       "      <td>1000_2</td>\n",
       "      <td>2018-08-04</td>\n",
       "      <td>1000</td>\n",
       "    </tr>\n",
       "    <tr>\n",
       "      <td>3</td>\n",
       "      <td>1000_3</td>\n",
       "      <td>2018-06-16</td>\n",
       "      <td>1000</td>\n",
       "    </tr>\n",
       "    <tr>\n",
       "      <td>4</td>\n",
       "      <td>1000_4</td>\n",
       "      <td>2018-12-05</td>\n",
       "      <td>1000</td>\n",
       "    </tr>\n",
       "  </tbody>\n",
       "</table>\n",
       "</div>"
      ],
      "text/plain": [
       "       id message_date  user_id\n",
       "0  1000_0   2018-06-27     1000\n",
       "1  1000_1   2018-10-08     1000\n",
       "2  1000_2   2018-08-04     1000\n",
       "3  1000_3   2018-06-16     1000\n",
       "4  1000_4   2018-12-05     1000"
      ]
     },
     "execution_count": 32,
     "metadata": {},
     "output_type": "execute_result"
    }
   ],
   "source": [
    "messages['message_date'] = pd.to_datetime(messages['message_date'], format='%Y-%m-%d')\n",
    "messages.head(5)"
   ]
  },
  {
   "cell_type": "code",
   "execution_count": 33,
   "metadata": {},
   "outputs": [
    {
     "name": "stdout",
     "output_type": "stream",
     "text": [
      "<class 'pandas.core.frame.DataFrame'>\n",
      "RangeIndex: 123036 entries, 0 to 123035\n",
      "Data columns (total 3 columns):\n",
      "id              123036 non-null object\n",
      "message_date    123036 non-null datetime64[ns]\n",
      "user_id         123036 non-null int64\n",
      "dtypes: datetime64[ns](1), int64(1), object(1)\n",
      "memory usage: 2.8+ MB\n"
     ]
    }
   ],
   "source": [
    "messages.info()"
   ]
  },
  {
   "cell_type": "markdown",
   "metadata": {},
   "source": [
    "Проверим датафрейм на наличие дубликатов:"
   ]
  },
  {
   "cell_type": "code",
   "execution_count": 34,
   "metadata": {},
   "outputs": [
    {
     "data": {
      "text/plain": [
       "0"
      ]
     },
     "execution_count": 34,
     "metadata": {},
     "output_type": "execute_result"
    }
   ],
   "source": [
    "messages.duplicated().sum()"
   ]
  },
  {
   "cell_type": "markdown",
   "metadata": {},
   "source": [
    "Дубликатов не обнаружено."
   ]
  },
  {
   "cell_type": "markdown",
   "metadata": {},
   "source": [
    "### Датасет internet"
   ]
  },
  {
   "cell_type": "markdown",
   "metadata": {},
   "source": [
    "Для дальнейшей работы с датой, изменим тип данных в таблице в столбце session_date с 'object' на 'datetime64'"
   ]
  },
  {
   "cell_type": "code",
   "execution_count": 35,
   "metadata": {},
   "outputs": [
    {
     "data": {
      "text/html": [
       "<div>\n",
       "<style scoped>\n",
       "    .dataframe tbody tr th:only-of-type {\n",
       "        vertical-align: middle;\n",
       "    }\n",
       "\n",
       "    .dataframe tbody tr th {\n",
       "        vertical-align: top;\n",
       "    }\n",
       "\n",
       "    .dataframe thead th {\n",
       "        text-align: right;\n",
       "    }\n",
       "</style>\n",
       "<table border=\"1\" class=\"dataframe\">\n",
       "  <thead>\n",
       "    <tr style=\"text-align: right;\">\n",
       "      <th></th>\n",
       "      <th>Unnamed: 0</th>\n",
       "      <th>id</th>\n",
       "      <th>mb_used</th>\n",
       "      <th>session_date</th>\n",
       "      <th>user_id</th>\n",
       "    </tr>\n",
       "  </thead>\n",
       "  <tbody>\n",
       "    <tr>\n",
       "      <td>0</td>\n",
       "      <td>0</td>\n",
       "      <td>1000_0</td>\n",
       "      <td>112.95</td>\n",
       "      <td>2018-11-25</td>\n",
       "      <td>1000</td>\n",
       "    </tr>\n",
       "    <tr>\n",
       "      <td>1</td>\n",
       "      <td>1</td>\n",
       "      <td>1000_1</td>\n",
       "      <td>1052.81</td>\n",
       "      <td>2018-09-07</td>\n",
       "      <td>1000</td>\n",
       "    </tr>\n",
       "    <tr>\n",
       "      <td>2</td>\n",
       "      <td>2</td>\n",
       "      <td>1000_2</td>\n",
       "      <td>1197.26</td>\n",
       "      <td>2018-06-25</td>\n",
       "      <td>1000</td>\n",
       "    </tr>\n",
       "    <tr>\n",
       "      <td>3</td>\n",
       "      <td>3</td>\n",
       "      <td>1000_3</td>\n",
       "      <td>550.27</td>\n",
       "      <td>2018-08-22</td>\n",
       "      <td>1000</td>\n",
       "    </tr>\n",
       "    <tr>\n",
       "      <td>4</td>\n",
       "      <td>4</td>\n",
       "      <td>1000_4</td>\n",
       "      <td>302.56</td>\n",
       "      <td>2018-09-24</td>\n",
       "      <td>1000</td>\n",
       "    </tr>\n",
       "  </tbody>\n",
       "</table>\n",
       "</div>"
      ],
      "text/plain": [
       "   Unnamed: 0      id  mb_used session_date  user_id\n",
       "0           0  1000_0   112.95   2018-11-25     1000\n",
       "1           1  1000_1  1052.81   2018-09-07     1000\n",
       "2           2  1000_2  1197.26   2018-06-25     1000\n",
       "3           3  1000_3   550.27   2018-08-22     1000\n",
       "4           4  1000_4   302.56   2018-09-24     1000"
      ]
     },
     "execution_count": 35,
     "metadata": {},
     "output_type": "execute_result"
    }
   ],
   "source": [
    "internet['session_date'] = pd.to_datetime(internet['session_date'], format='%Y-%m-%d')\n",
    "internet.head(5)"
   ]
  },
  {
   "cell_type": "code",
   "execution_count": 36,
   "metadata": {},
   "outputs": [
    {
     "data": {
      "text/plain": [
       "19598"
      ]
     },
     "execution_count": 36,
     "metadata": {},
     "output_type": "execute_result"
    }
   ],
   "source": [
    "len(internet.query('mb_used == 0'))"
   ]
  },
  {
   "cell_type": "code",
   "execution_count": 37,
   "metadata": {},
   "outputs": [],
   "source": [
    "#internet.query('mb_used == 0').groupby('user_id').count()"
   ]
  },
  {
   "cell_type": "markdown",
   "metadata": {},
   "source": [
    "Длительность многих интернет-сессий - 0.0 Мб. Однозначного ответа для данной аномалии нет. Возможно, в данном случае идет речь о исходящем траффике, не учитываемом в тарифе оператора. "
   ]
  },
  {
   "cell_type": "markdown",
   "metadata": {},
   "source": [
    "Исключим нулевые значения из датасета:"
   ]
  },
  {
   "cell_type": "code",
   "execution_count": 38,
   "metadata": {},
   "outputs": [],
   "source": [
    "internet_used = internet.query('mb_used > 0')\n",
    "internet_used = internet_used.reset_index(drop = True)\n",
    "#internet_used.head(10)"
   ]
  },
  {
   "cell_type": "markdown",
   "metadata": {},
   "source": [
    "По условиям тарифных планов опреатора, округлим значения использованных мб траффика в большую сторону:"
   ]
  },
  {
   "cell_type": "code",
   "execution_count": 39,
   "metadata": {},
   "outputs": [
    {
     "data": {
      "text/html": [
       "<div>\n",
       "<style scoped>\n",
       "    .dataframe tbody tr th:only-of-type {\n",
       "        vertical-align: middle;\n",
       "    }\n",
       "\n",
       "    .dataframe tbody tr th {\n",
       "        vertical-align: top;\n",
       "    }\n",
       "\n",
       "    .dataframe thead th {\n",
       "        text-align: right;\n",
       "    }\n",
       "</style>\n",
       "<table border=\"1\" class=\"dataframe\">\n",
       "  <thead>\n",
       "    <tr style=\"text-align: right;\">\n",
       "      <th></th>\n",
       "      <th>Unnamed: 0</th>\n",
       "      <th>id</th>\n",
       "      <th>mb_used</th>\n",
       "      <th>session_date</th>\n",
       "      <th>user_id</th>\n",
       "    </tr>\n",
       "  </thead>\n",
       "  <tbody>\n",
       "    <tr>\n",
       "      <td>0</td>\n",
       "      <td>0</td>\n",
       "      <td>1000_0</td>\n",
       "      <td>113</td>\n",
       "      <td>2018-11-25</td>\n",
       "      <td>1000</td>\n",
       "    </tr>\n",
       "    <tr>\n",
       "      <td>1</td>\n",
       "      <td>1</td>\n",
       "      <td>1000_1</td>\n",
       "      <td>1053</td>\n",
       "      <td>2018-09-07</td>\n",
       "      <td>1000</td>\n",
       "    </tr>\n",
       "    <tr>\n",
       "      <td>2</td>\n",
       "      <td>2</td>\n",
       "      <td>1000_2</td>\n",
       "      <td>1198</td>\n",
       "      <td>2018-06-25</td>\n",
       "      <td>1000</td>\n",
       "    </tr>\n",
       "    <tr>\n",
       "      <td>3</td>\n",
       "      <td>3</td>\n",
       "      <td>1000_3</td>\n",
       "      <td>551</td>\n",
       "      <td>2018-08-22</td>\n",
       "      <td>1000</td>\n",
       "    </tr>\n",
       "    <tr>\n",
       "      <td>4</td>\n",
       "      <td>4</td>\n",
       "      <td>1000_4</td>\n",
       "      <td>303</td>\n",
       "      <td>2018-09-24</td>\n",
       "      <td>1000</td>\n",
       "    </tr>\n",
       "  </tbody>\n",
       "</table>\n",
       "</div>"
      ],
      "text/plain": [
       "   Unnamed: 0      id  mb_used session_date  user_id\n",
       "0           0  1000_0      113   2018-11-25     1000\n",
       "1           1  1000_1     1053   2018-09-07     1000\n",
       "2           2  1000_2     1198   2018-06-25     1000\n",
       "3           3  1000_3      551   2018-08-22     1000\n",
       "4           4  1000_4      303   2018-09-24     1000"
      ]
     },
     "execution_count": 39,
     "metadata": {},
     "output_type": "execute_result"
    }
   ],
   "source": [
    "internet_used['mb_used'] = internet_used['mb_used'].apply(np.ceil).astype('int')\n",
    "internet_used.head()"
   ]
  },
  {
   "cell_type": "markdown",
   "metadata": {},
   "source": [
    "Проверим датафрейм на наличие дубликатов:"
   ]
  },
  {
   "cell_type": "code",
   "execution_count": 40,
   "metadata": {},
   "outputs": [
    {
     "data": {
      "text/plain": [
       "0"
      ]
     },
     "execution_count": 40,
     "metadata": {},
     "output_type": "execute_result"
    }
   ],
   "source": [
    "internet_used.duplicated().sum()"
   ]
  },
  {
   "cell_type": "markdown",
   "metadata": {},
   "source": [
    "Дубликатов не обнаружено."
   ]
  },
  {
   "cell_type": "markdown",
   "metadata": {},
   "source": [
    "### Датасет users"
   ]
  },
  {
   "cell_type": "markdown",
   "metadata": {},
   "source": [
    "Исходя из условий задачи, из таблицы users необходимо получить данные по тарифу каждого клиента:"
   ]
  },
  {
   "cell_type": "code",
   "execution_count": 41,
   "metadata": {},
   "outputs": [
    {
     "data": {
      "text/html": [
       "<div>\n",
       "<style scoped>\n",
       "    .dataframe tbody tr th:only-of-type {\n",
       "        vertical-align: middle;\n",
       "    }\n",
       "\n",
       "    .dataframe tbody tr th {\n",
       "        vertical-align: top;\n",
       "    }\n",
       "\n",
       "    .dataframe thead th {\n",
       "        text-align: right;\n",
       "    }\n",
       "</style>\n",
       "<table border=\"1\" class=\"dataframe\">\n",
       "  <thead>\n",
       "    <tr style=\"text-align: right;\">\n",
       "      <th></th>\n",
       "      <th>user_id</th>\n",
       "      <th>age</th>\n",
       "      <th>churn_date</th>\n",
       "      <th>city</th>\n",
       "      <th>first_name</th>\n",
       "      <th>last_name</th>\n",
       "      <th>reg_date</th>\n",
       "      <th>tariff</th>\n",
       "      <th>month</th>\n",
       "    </tr>\n",
       "  </thead>\n",
       "  <tbody>\n",
       "    <tr>\n",
       "      <td>0</td>\n",
       "      <td>1000</td>\n",
       "      <td>52</td>\n",
       "      <td>NaT</td>\n",
       "      <td>краснодар</td>\n",
       "      <td>рафаил</td>\n",
       "      <td>верещагин</td>\n",
       "      <td>2018-05-25</td>\n",
       "      <td>ultra</td>\n",
       "      <td>5</td>\n",
       "    </tr>\n",
       "    <tr>\n",
       "      <td>1</td>\n",
       "      <td>1001</td>\n",
       "      <td>41</td>\n",
       "      <td>NaT</td>\n",
       "      <td>москва</td>\n",
       "      <td>иван</td>\n",
       "      <td>ежов</td>\n",
       "      <td>2018-11-01</td>\n",
       "      <td>smart</td>\n",
       "      <td>11</td>\n",
       "    </tr>\n",
       "    <tr>\n",
       "      <td>2</td>\n",
       "      <td>1002</td>\n",
       "      <td>59</td>\n",
       "      <td>NaT</td>\n",
       "      <td>стерлитамак</td>\n",
       "      <td>евгений</td>\n",
       "      <td>абрамович</td>\n",
       "      <td>2018-06-17</td>\n",
       "      <td>smart</td>\n",
       "      <td>6</td>\n",
       "    </tr>\n",
       "    <tr>\n",
       "      <td>3</td>\n",
       "      <td>1003</td>\n",
       "      <td>23</td>\n",
       "      <td>NaT</td>\n",
       "      <td>москва</td>\n",
       "      <td>белла</td>\n",
       "      <td>белякова</td>\n",
       "      <td>2018-08-17</td>\n",
       "      <td>ultra</td>\n",
       "      <td>8</td>\n",
       "    </tr>\n",
       "    <tr>\n",
       "      <td>4</td>\n",
       "      <td>1004</td>\n",
       "      <td>68</td>\n",
       "      <td>NaT</td>\n",
       "      <td>новокузнецк</td>\n",
       "      <td>татьяна</td>\n",
       "      <td>авдеенко</td>\n",
       "      <td>2018-05-14</td>\n",
       "      <td>ultra</td>\n",
       "      <td>5</td>\n",
       "    </tr>\n",
       "  </tbody>\n",
       "</table>\n",
       "</div>"
      ],
      "text/plain": [
       "   user_id  age churn_date         city first_name  last_name   reg_date  \\\n",
       "0     1000   52        NaT    краснодар     рафаил  верещагин 2018-05-25   \n",
       "1     1001   41        NaT       москва       иван       ежов 2018-11-01   \n",
       "2     1002   59        NaT  стерлитамак    евгений  абрамович 2018-06-17   \n",
       "3     1003   23        NaT       москва      белла   белякова 2018-08-17   \n",
       "4     1004   68        NaT  новокузнецк    татьяна   авдеенко 2018-05-14   \n",
       "\n",
       "  tariff  month  \n",
       "0  ultra      5  \n",
       "1  smart     11  \n",
       "2  smart      6  \n",
       "3  ultra      8  \n",
       "4  ultra      5  "
      ]
     },
     "execution_count": 41,
     "metadata": {},
     "output_type": "execute_result"
    }
   ],
   "source": [
    "users['month'] = users['reg_date'].dt.month\n",
    "users.head(5)"
   ]
  },
  {
   "cell_type": "markdown",
   "metadata": {},
   "source": [
    "Проверим датафрейм на наличие дубликатов:"
   ]
  },
  {
   "cell_type": "code",
   "execution_count": 42,
   "metadata": {},
   "outputs": [
    {
     "data": {
      "text/plain": [
       "0"
      ]
     },
     "execution_count": 42,
     "metadata": {},
     "output_type": "execute_result"
    }
   ],
   "source": [
    "users.duplicated().sum()"
   ]
  },
  {
   "cell_type": "markdown",
   "metadata": {},
   "source": [
    "Дубликатов не обнаружено."
   ]
  },
  {
   "cell_type": "code",
   "execution_count": 43,
   "metadata": {},
   "outputs": [],
   "source": [
    "users_pivot = users.pivot_table(index=['user_id', 'month'], values=['city', 'tariff'], aggfunc='first')\n",
    "#users_pivot.sample(10)"
   ]
  },
  {
   "cell_type": "code",
   "execution_count": 44,
   "metadata": {},
   "outputs": [
    {
     "data": {
      "text/html": [
       "<div>\n",
       "<style scoped>\n",
       "    .dataframe tbody tr th:only-of-type {\n",
       "        vertical-align: middle;\n",
       "    }\n",
       "\n",
       "    .dataframe tbody tr th {\n",
       "        vertical-align: top;\n",
       "    }\n",
       "\n",
       "    .dataframe thead th {\n",
       "        text-align: right;\n",
       "    }\n",
       "</style>\n",
       "<table border=\"1\" class=\"dataframe\">\n",
       "  <thead>\n",
       "    <tr style=\"text-align: right;\">\n",
       "      <th></th>\n",
       "      <th></th>\n",
       "      <th>city</th>\n",
       "      <th>tariff_name</th>\n",
       "    </tr>\n",
       "    <tr>\n",
       "      <th>user_id</th>\n",
       "      <th>month</th>\n",
       "      <th></th>\n",
       "      <th></th>\n",
       "    </tr>\n",
       "  </thead>\n",
       "  <tbody>\n",
       "    <tr>\n",
       "      <td>1064</td>\n",
       "      <td>3</td>\n",
       "      <td>якутск</td>\n",
       "      <td>smart</td>\n",
       "    </tr>\n",
       "    <tr>\n",
       "      <td>1072</td>\n",
       "      <td>2</td>\n",
       "      <td>уфа</td>\n",
       "      <td>smart</td>\n",
       "    </tr>\n",
       "    <tr>\n",
       "      <td>1494</td>\n",
       "      <td>8</td>\n",
       "      <td>омск</td>\n",
       "      <td>smart</td>\n",
       "    </tr>\n",
       "    <tr>\n",
       "      <td>1357</td>\n",
       "      <td>9</td>\n",
       "      <td>томск</td>\n",
       "      <td>smart</td>\n",
       "    </tr>\n",
       "    <tr>\n",
       "      <td>1043</td>\n",
       "      <td>7</td>\n",
       "      <td>ставрополь</td>\n",
       "      <td>smart</td>\n",
       "    </tr>\n",
       "    <tr>\n",
       "      <td>1085</td>\n",
       "      <td>6</td>\n",
       "      <td>омск</td>\n",
       "      <td>ultra</td>\n",
       "    </tr>\n",
       "    <tr>\n",
       "      <td>1009</td>\n",
       "      <td>3</td>\n",
       "      <td>пермь</td>\n",
       "      <td>smart</td>\n",
       "    </tr>\n",
       "    <tr>\n",
       "      <td>1256</td>\n",
       "      <td>9</td>\n",
       "      <td>санкт-петербург</td>\n",
       "      <td>smart</td>\n",
       "    </tr>\n",
       "    <tr>\n",
       "      <td>1257</td>\n",
       "      <td>6</td>\n",
       "      <td>санкт-петербург</td>\n",
       "      <td>ultra</td>\n",
       "    </tr>\n",
       "    <tr>\n",
       "      <td>1211</td>\n",
       "      <td>6</td>\n",
       "      <td>калуга</td>\n",
       "      <td>smart</td>\n",
       "    </tr>\n",
       "  </tbody>\n",
       "</table>\n",
       "</div>"
      ],
      "text/plain": [
       "                          city tariff_name\n",
       "user_id month                             \n",
       "1064    3               якутск       smart\n",
       "1072    2                  уфа       smart\n",
       "1494    8                 омск       smart\n",
       "1357    9                томск       smart\n",
       "1043    7           ставрополь       smart\n",
       "1085    6                 омск       ultra\n",
       "1009    3                пермь       smart\n",
       "1256    9      санкт-петербург       smart\n",
       "1257    6      санкт-петербург       ultra\n",
       "1211    6               калуга       smart"
      ]
     },
     "execution_count": 44,
     "metadata": {},
     "output_type": "execute_result"
    }
   ],
   "source": [
    "users_pivot.columns = ['city', 'tariff_name']\n",
    "users_pivot.sample(10)"
   ]
  },
  {
   "cell_type": "markdown",
   "metadata": {},
   "source": [
    "**Вывод**"
   ]
  },
  {
   "cell_type": "markdown",
   "metadata": {},
   "source": [
    "1.\tВо всех таблицах в столбцах с датой изменен тип данных с 'object' на 'datetime64'.\n",
    "2.\tВ таблице users имена клиентов и названия городов приведены к нижнему регистру.\n",
    "3.\tВ таблицах calls и internet нулевые значения в столбцах с использованными минутами и мб не приняты к учету, т.к. отсутствует логичное значения для замены, а нулевые значения не тарифицируется.\n",
    "4.\tВ таблицах calls и internet значения в использованных минут и мб округлены в большую сторону с учетом условий тарификации мобильного оператора.\n",
    "5.\tВыполнена проверка таблиц на наличие дубликатов. Дубликатов не обнаружено."
   ]
  },
  {
   "cell_type": "markdown",
   "metadata": {},
   "source": [
    "### Расчет количества сделанных звонков и израсходованных минут разговора по месяцам для каждого пользователя"
   ]
  },
  {
   "cell_type": "code",
   "execution_count": 45,
   "metadata": {},
   "outputs": [],
   "source": [
    "#calls_out.head(5)"
   ]
  },
  {
   "cell_type": "code",
   "execution_count": 46,
   "metadata": {},
   "outputs": [
    {
     "data": {
      "text/html": [
       "<div>\n",
       "<style scoped>\n",
       "    .dataframe tbody tr th:only-of-type {\n",
       "        vertical-align: middle;\n",
       "    }\n",
       "\n",
       "    .dataframe tbody tr th {\n",
       "        vertical-align: top;\n",
       "    }\n",
       "\n",
       "    .dataframe thead th {\n",
       "        text-align: right;\n",
       "    }\n",
       "</style>\n",
       "<table border=\"1\" class=\"dataframe\">\n",
       "  <thead>\n",
       "    <tr style=\"text-align: right;\">\n",
       "      <th></th>\n",
       "      <th>id</th>\n",
       "      <th>call_date</th>\n",
       "      <th>duration</th>\n",
       "      <th>user_id</th>\n",
       "      <th>month</th>\n",
       "    </tr>\n",
       "  </thead>\n",
       "  <tbody>\n",
       "    <tr>\n",
       "      <td>0</td>\n",
       "      <td>1000_2</td>\n",
       "      <td>2018-06-11</td>\n",
       "      <td>3</td>\n",
       "      <td>1000</td>\n",
       "      <td>6</td>\n",
       "    </tr>\n",
       "    <tr>\n",
       "      <td>1</td>\n",
       "      <td>1000_3</td>\n",
       "      <td>2018-09-21</td>\n",
       "      <td>14</td>\n",
       "      <td>1000</td>\n",
       "      <td>9</td>\n",
       "    </tr>\n",
       "    <tr>\n",
       "      <td>2</td>\n",
       "      <td>1000_4</td>\n",
       "      <td>2018-12-15</td>\n",
       "      <td>6</td>\n",
       "      <td>1000</td>\n",
       "      <td>12</td>\n",
       "    </tr>\n",
       "    <tr>\n",
       "      <td>3</td>\n",
       "      <td>1000_7</td>\n",
       "      <td>2018-08-22</td>\n",
       "      <td>19</td>\n",
       "      <td>1000</td>\n",
       "      <td>8</td>\n",
       "    </tr>\n",
       "    <tr>\n",
       "      <td>4</td>\n",
       "      <td>1000_8</td>\n",
       "      <td>2018-09-15</td>\n",
       "      <td>19</td>\n",
       "      <td>1000</td>\n",
       "      <td>9</td>\n",
       "    </tr>\n",
       "  </tbody>\n",
       "</table>\n",
       "</div>"
      ],
      "text/plain": [
       "       id  call_date  duration  user_id  month\n",
       "0  1000_2 2018-06-11         3     1000      6\n",
       "1  1000_3 2018-09-21        14     1000      9\n",
       "2  1000_4 2018-12-15         6     1000     12\n",
       "3  1000_7 2018-08-22        19     1000      8\n",
       "4  1000_8 2018-09-15        19     1000      9"
      ]
     },
     "execution_count": 46,
     "metadata": {},
     "output_type": "execute_result"
    }
   ],
   "source": [
    "calls_out['month'] = calls_out['call_date'].dt.month\n",
    "calls_out.head(5)"
   ]
  },
  {
   "cell_type": "code",
   "execution_count": 47,
   "metadata": {},
   "outputs": [],
   "source": [
    "calls_pivot = calls_out.pivot_table(index=['user_id', 'month'], values='duration', aggfunc=('sum', 'count'))\n",
    "#calls_pivot.head(10)"
   ]
  },
  {
   "cell_type": "code",
   "execution_count": 48,
   "metadata": {},
   "outputs": [
    {
     "data": {
      "text/html": [
       "<div>\n",
       "<style scoped>\n",
       "    .dataframe tbody tr th:only-of-type {\n",
       "        vertical-align: middle;\n",
       "    }\n",
       "\n",
       "    .dataframe tbody tr th {\n",
       "        vertical-align: top;\n",
       "    }\n",
       "\n",
       "    .dataframe thead th {\n",
       "        text-align: right;\n",
       "    }\n",
       "</style>\n",
       "<table border=\"1\" class=\"dataframe\">\n",
       "  <thead>\n",
       "    <tr style=\"text-align: right;\">\n",
       "      <th></th>\n",
       "      <th></th>\n",
       "      <th>calls_count</th>\n",
       "      <th>minutes_sum</th>\n",
       "    </tr>\n",
       "    <tr>\n",
       "      <th>user_id</th>\n",
       "      <th>month</th>\n",
       "      <th></th>\n",
       "      <th></th>\n",
       "    </tr>\n",
       "  </thead>\n",
       "  <tbody>\n",
       "    <tr>\n",
       "      <td rowspan=\"8\" valign=\"top\">1000</td>\n",
       "      <td>5</td>\n",
       "      <td>17</td>\n",
       "      <td>159</td>\n",
       "    </tr>\n",
       "    <tr>\n",
       "      <td>6</td>\n",
       "      <td>28</td>\n",
       "      <td>172</td>\n",
       "    </tr>\n",
       "    <tr>\n",
       "      <td>7</td>\n",
       "      <td>41</td>\n",
       "      <td>340</td>\n",
       "    </tr>\n",
       "    <tr>\n",
       "      <td>8</td>\n",
       "      <td>42</td>\n",
       "      <td>408</td>\n",
       "    </tr>\n",
       "    <tr>\n",
       "      <td>9</td>\n",
       "      <td>46</td>\n",
       "      <td>466</td>\n",
       "    </tr>\n",
       "    <tr>\n",
       "      <td>10</td>\n",
       "      <td>44</td>\n",
       "      <td>350</td>\n",
       "    </tr>\n",
       "    <tr>\n",
       "      <td>11</td>\n",
       "      <td>37</td>\n",
       "      <td>338</td>\n",
       "    </tr>\n",
       "    <tr>\n",
       "      <td>12</td>\n",
       "      <td>38</td>\n",
       "      <td>333</td>\n",
       "    </tr>\n",
       "    <tr>\n",
       "      <td rowspan=\"2\" valign=\"top\">1001</td>\n",
       "      <td>11</td>\n",
       "      <td>45</td>\n",
       "      <td>430</td>\n",
       "    </tr>\n",
       "    <tr>\n",
       "      <td>12</td>\n",
       "      <td>47</td>\n",
       "      <td>414</td>\n",
       "    </tr>\n",
       "  </tbody>\n",
       "</table>\n",
       "</div>"
      ],
      "text/plain": [
       "               calls_count  minutes_sum\n",
       "user_id month                          \n",
       "1000    5               17          159\n",
       "        6               28          172\n",
       "        7               41          340\n",
       "        8               42          408\n",
       "        9               46          466\n",
       "        10              44          350\n",
       "        11              37          338\n",
       "        12              38          333\n",
       "1001    11              45          430\n",
       "        12              47          414"
      ]
     },
     "execution_count": 48,
     "metadata": {},
     "output_type": "execute_result"
    }
   ],
   "source": [
    "calls_pivot.columns = ['calls_count', 'minutes_sum']\n",
    "calls_pivot.head(10)"
   ]
  },
  {
   "cell_type": "markdown",
   "metadata": {},
   "source": [
    "### Расчет количества отправленных сообщений по месяцам"
   ]
  },
  {
   "cell_type": "code",
   "execution_count": 49,
   "metadata": {},
   "outputs": [],
   "source": [
    "#messages.head(5)"
   ]
  },
  {
   "cell_type": "code",
   "execution_count": 50,
   "metadata": {},
   "outputs": [
    {
     "data": {
      "text/html": [
       "<div>\n",
       "<style scoped>\n",
       "    .dataframe tbody tr th:only-of-type {\n",
       "        vertical-align: middle;\n",
       "    }\n",
       "\n",
       "    .dataframe tbody tr th {\n",
       "        vertical-align: top;\n",
       "    }\n",
       "\n",
       "    .dataframe thead th {\n",
       "        text-align: right;\n",
       "    }\n",
       "</style>\n",
       "<table border=\"1\" class=\"dataframe\">\n",
       "  <thead>\n",
       "    <tr style=\"text-align: right;\">\n",
       "      <th></th>\n",
       "      <th>id</th>\n",
       "      <th>message_date</th>\n",
       "      <th>user_id</th>\n",
       "      <th>month</th>\n",
       "    </tr>\n",
       "  </thead>\n",
       "  <tbody>\n",
       "    <tr>\n",
       "      <td>0</td>\n",
       "      <td>1000_0</td>\n",
       "      <td>2018-06-27</td>\n",
       "      <td>1000</td>\n",
       "      <td>6</td>\n",
       "    </tr>\n",
       "    <tr>\n",
       "      <td>1</td>\n",
       "      <td>1000_1</td>\n",
       "      <td>2018-10-08</td>\n",
       "      <td>1000</td>\n",
       "      <td>10</td>\n",
       "    </tr>\n",
       "    <tr>\n",
       "      <td>2</td>\n",
       "      <td>1000_2</td>\n",
       "      <td>2018-08-04</td>\n",
       "      <td>1000</td>\n",
       "      <td>8</td>\n",
       "    </tr>\n",
       "    <tr>\n",
       "      <td>3</td>\n",
       "      <td>1000_3</td>\n",
       "      <td>2018-06-16</td>\n",
       "      <td>1000</td>\n",
       "      <td>6</td>\n",
       "    </tr>\n",
       "    <tr>\n",
       "      <td>4</td>\n",
       "      <td>1000_4</td>\n",
       "      <td>2018-12-05</td>\n",
       "      <td>1000</td>\n",
       "      <td>12</td>\n",
       "    </tr>\n",
       "  </tbody>\n",
       "</table>\n",
       "</div>"
      ],
      "text/plain": [
       "       id message_date  user_id  month\n",
       "0  1000_0   2018-06-27     1000      6\n",
       "1  1000_1   2018-10-08     1000     10\n",
       "2  1000_2   2018-08-04     1000      8\n",
       "3  1000_3   2018-06-16     1000      6\n",
       "4  1000_4   2018-12-05     1000     12"
      ]
     },
     "execution_count": 50,
     "metadata": {},
     "output_type": "execute_result"
    }
   ],
   "source": [
    "messages['month'] = messages['message_date'].dt.month\n",
    "messages.head(5)"
   ]
  },
  {
   "cell_type": "code",
   "execution_count": 51,
   "metadata": {},
   "outputs": [],
   "source": [
    "messages_pivot = messages.pivot_table(index=['user_id', 'month'], values='id', aggfunc=('count'))\n",
    "#messages_pivot.head(10)"
   ]
  },
  {
   "cell_type": "code",
   "execution_count": 52,
   "metadata": {},
   "outputs": [
    {
     "data": {
      "text/html": [
       "<div>\n",
       "<style scoped>\n",
       "    .dataframe tbody tr th:only-of-type {\n",
       "        vertical-align: middle;\n",
       "    }\n",
       "\n",
       "    .dataframe tbody tr th {\n",
       "        vertical-align: top;\n",
       "    }\n",
       "\n",
       "    .dataframe thead th {\n",
       "        text-align: right;\n",
       "    }\n",
       "</style>\n",
       "<table border=\"1\" class=\"dataframe\">\n",
       "  <thead>\n",
       "    <tr style=\"text-align: right;\">\n",
       "      <th></th>\n",
       "      <th></th>\n",
       "      <th>messages_count</th>\n",
       "    </tr>\n",
       "    <tr>\n",
       "      <th>user_id</th>\n",
       "      <th>month</th>\n",
       "      <th></th>\n",
       "    </tr>\n",
       "  </thead>\n",
       "  <tbody>\n",
       "    <tr>\n",
       "      <td rowspan=\"8\" valign=\"top\">1000</td>\n",
       "      <td>5</td>\n",
       "      <td>22</td>\n",
       "    </tr>\n",
       "    <tr>\n",
       "      <td>6</td>\n",
       "      <td>60</td>\n",
       "    </tr>\n",
       "    <tr>\n",
       "      <td>7</td>\n",
       "      <td>75</td>\n",
       "    </tr>\n",
       "    <tr>\n",
       "      <td>8</td>\n",
       "      <td>81</td>\n",
       "    </tr>\n",
       "    <tr>\n",
       "      <td>9</td>\n",
       "      <td>57</td>\n",
       "    </tr>\n",
       "    <tr>\n",
       "      <td>10</td>\n",
       "      <td>73</td>\n",
       "    </tr>\n",
       "    <tr>\n",
       "      <td>11</td>\n",
       "      <td>58</td>\n",
       "    </tr>\n",
       "    <tr>\n",
       "      <td>12</td>\n",
       "      <td>70</td>\n",
       "    </tr>\n",
       "    <tr>\n",
       "      <td rowspan=\"2\" valign=\"top\">1002</td>\n",
       "      <td>6</td>\n",
       "      <td>4</td>\n",
       "    </tr>\n",
       "    <tr>\n",
       "      <td>7</td>\n",
       "      <td>11</td>\n",
       "    </tr>\n",
       "  </tbody>\n",
       "</table>\n",
       "</div>"
      ],
      "text/plain": [
       "               messages_count\n",
       "user_id month                \n",
       "1000    5                  22\n",
       "        6                  60\n",
       "        7                  75\n",
       "        8                  81\n",
       "        9                  57\n",
       "        10                 73\n",
       "        11                 58\n",
       "        12                 70\n",
       "1002    6                   4\n",
       "        7                  11"
      ]
     },
     "execution_count": 52,
     "metadata": {},
     "output_type": "execute_result"
    }
   ],
   "source": [
    "messages_pivot.columns = ['messages_count']\n",
    "messages_pivot.head(10)"
   ]
  },
  {
   "cell_type": "markdown",
   "metadata": {},
   "source": [
    "### Расчет объема израсходованного интернет-трафика по месяцам"
   ]
  },
  {
   "cell_type": "code",
   "execution_count": 53,
   "metadata": {},
   "outputs": [],
   "source": [
    "#internet.head(5)"
   ]
  },
  {
   "cell_type": "code",
   "execution_count": 54,
   "metadata": {},
   "outputs": [
    {
     "data": {
      "text/html": [
       "<div>\n",
       "<style scoped>\n",
       "    .dataframe tbody tr th:only-of-type {\n",
       "        vertical-align: middle;\n",
       "    }\n",
       "\n",
       "    .dataframe tbody tr th {\n",
       "        vertical-align: top;\n",
       "    }\n",
       "\n",
       "    .dataframe thead th {\n",
       "        text-align: right;\n",
       "    }\n",
       "</style>\n",
       "<table border=\"1\" class=\"dataframe\">\n",
       "  <thead>\n",
       "    <tr style=\"text-align: right;\">\n",
       "      <th></th>\n",
       "      <th>Unnamed: 0</th>\n",
       "      <th>id</th>\n",
       "      <th>mb_used</th>\n",
       "      <th>session_date</th>\n",
       "      <th>user_id</th>\n",
       "      <th>month</th>\n",
       "    </tr>\n",
       "  </thead>\n",
       "  <tbody>\n",
       "    <tr>\n",
       "      <td>0</td>\n",
       "      <td>0</td>\n",
       "      <td>1000_0</td>\n",
       "      <td>113</td>\n",
       "      <td>2018-11-25</td>\n",
       "      <td>1000</td>\n",
       "      <td>11</td>\n",
       "    </tr>\n",
       "    <tr>\n",
       "      <td>1</td>\n",
       "      <td>1</td>\n",
       "      <td>1000_1</td>\n",
       "      <td>1053</td>\n",
       "      <td>2018-09-07</td>\n",
       "      <td>1000</td>\n",
       "      <td>9</td>\n",
       "    </tr>\n",
       "    <tr>\n",
       "      <td>2</td>\n",
       "      <td>2</td>\n",
       "      <td>1000_2</td>\n",
       "      <td>1198</td>\n",
       "      <td>2018-06-25</td>\n",
       "      <td>1000</td>\n",
       "      <td>6</td>\n",
       "    </tr>\n",
       "    <tr>\n",
       "      <td>3</td>\n",
       "      <td>3</td>\n",
       "      <td>1000_3</td>\n",
       "      <td>551</td>\n",
       "      <td>2018-08-22</td>\n",
       "      <td>1000</td>\n",
       "      <td>8</td>\n",
       "    </tr>\n",
       "    <tr>\n",
       "      <td>4</td>\n",
       "      <td>4</td>\n",
       "      <td>1000_4</td>\n",
       "      <td>303</td>\n",
       "      <td>2018-09-24</td>\n",
       "      <td>1000</td>\n",
       "      <td>9</td>\n",
       "    </tr>\n",
       "  </tbody>\n",
       "</table>\n",
       "</div>"
      ],
      "text/plain": [
       "   Unnamed: 0      id  mb_used session_date  user_id  month\n",
       "0           0  1000_0      113   2018-11-25     1000     11\n",
       "1           1  1000_1     1053   2018-09-07     1000      9\n",
       "2           2  1000_2     1198   2018-06-25     1000      6\n",
       "3           3  1000_3      551   2018-08-22     1000      8\n",
       "4           4  1000_4      303   2018-09-24     1000      9"
      ]
     },
     "execution_count": 54,
     "metadata": {},
     "output_type": "execute_result"
    }
   ],
   "source": [
    "internet_used['month'] = internet_used['session_date'].dt.month\n",
    "internet_used.head(5)"
   ]
  },
  {
   "cell_type": "code",
   "execution_count": 55,
   "metadata": {},
   "outputs": [
    {
     "data": {
      "text/html": [
       "<div>\n",
       "<style scoped>\n",
       "    .dataframe tbody tr th:only-of-type {\n",
       "        vertical-align: middle;\n",
       "    }\n",
       "\n",
       "    .dataframe tbody tr th {\n",
       "        vertical-align: top;\n",
       "    }\n",
       "\n",
       "    .dataframe thead th {\n",
       "        text-align: right;\n",
       "    }\n",
       "</style>\n",
       "<table border=\"1\" class=\"dataframe\">\n",
       "  <thead>\n",
       "    <tr style=\"text-align: right;\">\n",
       "      <th></th>\n",
       "      <th></th>\n",
       "      <th>mb_used</th>\n",
       "    </tr>\n",
       "    <tr>\n",
       "      <th>user_id</th>\n",
       "      <th>month</th>\n",
       "      <th></th>\n",
       "    </tr>\n",
       "  </thead>\n",
       "  <tbody>\n",
       "    <tr>\n",
       "      <td rowspan=\"8\" valign=\"top\">1000</td>\n",
       "      <td>5</td>\n",
       "      <td>2256</td>\n",
       "    </tr>\n",
       "    <tr>\n",
       "      <td>6</td>\n",
       "      <td>23257</td>\n",
       "    </tr>\n",
       "    <tr>\n",
       "      <td>7</td>\n",
       "      <td>14016</td>\n",
       "    </tr>\n",
       "    <tr>\n",
       "      <td>8</td>\n",
       "      <td>14070</td>\n",
       "    </tr>\n",
       "    <tr>\n",
       "      <td>9</td>\n",
       "      <td>14581</td>\n",
       "    </tr>\n",
       "    <tr>\n",
       "      <td>10</td>\n",
       "      <td>14717</td>\n",
       "    </tr>\n",
       "    <tr>\n",
       "      <td>11</td>\n",
       "      <td>14768</td>\n",
       "    </tr>\n",
       "    <tr>\n",
       "      <td>12</td>\n",
       "      <td>9827</td>\n",
       "    </tr>\n",
       "    <tr>\n",
       "      <td rowspan=\"2\" valign=\"top\">1001</td>\n",
       "      <td>11</td>\n",
       "      <td>18452</td>\n",
       "    </tr>\n",
       "    <tr>\n",
       "      <td>12</td>\n",
       "      <td>14053</td>\n",
       "    </tr>\n",
       "  </tbody>\n",
       "</table>\n",
       "</div>"
      ],
      "text/plain": [
       "               mb_used\n",
       "user_id month         \n",
       "1000    5         2256\n",
       "        6        23257\n",
       "        7        14016\n",
       "        8        14070\n",
       "        9        14581\n",
       "        10       14717\n",
       "        11       14768\n",
       "        12        9827\n",
       "1001    11       18452\n",
       "        12       14053"
      ]
     },
     "execution_count": 55,
     "metadata": {},
     "output_type": "execute_result"
    }
   ],
   "source": [
    "internet_pivot = internet_used.pivot_table(index=['user_id', 'month'], values='mb_used', aggfunc=('sum'))\n",
    "internet_pivot.head(10)"
   ]
  },
  {
   "cell_type": "markdown",
   "metadata": {},
   "source": [
    "### Расчет помесячной выручки с каждого пользователя"
   ]
  },
  {
   "cell_type": "markdown",
   "metadata": {},
   "source": [
    "Для расчета помесячной выручки сначала создадим новый датафрейм df и  объединим данные всех таблиц в один df методом *merge()*:"
   ]
  },
  {
   "cell_type": "code",
   "execution_count": 56,
   "metadata": {},
   "outputs": [],
   "source": [
    "df = calls_pivot"
   ]
  },
  {
   "cell_type": "code",
   "execution_count": 57,
   "metadata": {},
   "outputs": [],
   "source": [
    "df = df.merge(messages_pivot, on=['user_id', 'month'], how='outer')\n",
    "#print(df.head(10))"
   ]
  },
  {
   "cell_type": "code",
   "execution_count": 58,
   "metadata": {},
   "outputs": [],
   "source": [
    "df = df.merge(internet_pivot, on=['user_id', 'month'], how='outer')\n",
    "#print(df.head(10))"
   ]
  },
  {
   "cell_type": "code",
   "execution_count": 59,
   "metadata": {},
   "outputs": [
    {
     "data": {
      "text/html": [
       "<div>\n",
       "<style scoped>\n",
       "    .dataframe tbody tr th:only-of-type {\n",
       "        vertical-align: middle;\n",
       "    }\n",
       "\n",
       "    .dataframe tbody tr th {\n",
       "        vertical-align: top;\n",
       "    }\n",
       "\n",
       "    .dataframe thead th {\n",
       "        text-align: right;\n",
       "    }\n",
       "</style>\n",
       "<table border=\"1\" class=\"dataframe\">\n",
       "  <thead>\n",
       "    <tr style=\"text-align: right;\">\n",
       "      <th></th>\n",
       "      <th></th>\n",
       "      <th>calls_count</th>\n",
       "      <th>minutes_sum</th>\n",
       "      <th>messages_count</th>\n",
       "      <th>mb_used</th>\n",
       "      <th>city</th>\n",
       "      <th>tariff_name</th>\n",
       "    </tr>\n",
       "    <tr>\n",
       "      <th>user_id</th>\n",
       "      <th>month</th>\n",
       "      <th></th>\n",
       "      <th></th>\n",
       "      <th></th>\n",
       "      <th></th>\n",
       "      <th></th>\n",
       "      <th></th>\n",
       "    </tr>\n",
       "  </thead>\n",
       "  <tbody>\n",
       "    <tr>\n",
       "      <td>1146</td>\n",
       "      <td>8</td>\n",
       "      <td>47.0</td>\n",
       "      <td>438.0</td>\n",
       "      <td>93.0</td>\n",
       "      <td>19568.0</td>\n",
       "      <td>NaN</td>\n",
       "      <td>NaN</td>\n",
       "    </tr>\n",
       "    <tr>\n",
       "      <td>1458</td>\n",
       "      <td>10</td>\n",
       "      <td>92.0</td>\n",
       "      <td>855.0</td>\n",
       "      <td>1.0</td>\n",
       "      <td>20217.0</td>\n",
       "      <td>NaN</td>\n",
       "      <td>NaN</td>\n",
       "    </tr>\n",
       "    <tr>\n",
       "      <td>1044</td>\n",
       "      <td>11</td>\n",
       "      <td>45.0</td>\n",
       "      <td>369.0</td>\n",
       "      <td>16.0</td>\n",
       "      <td>16427.0</td>\n",
       "      <td>NaN</td>\n",
       "      <td>NaN</td>\n",
       "    </tr>\n",
       "    <tr>\n",
       "      <td>1395</td>\n",
       "      <td>12</td>\n",
       "      <td>71.0</td>\n",
       "      <td>627.0</td>\n",
       "      <td>25.0</td>\n",
       "      <td>16309.0</td>\n",
       "      <td>NaN</td>\n",
       "      <td>NaN</td>\n",
       "    </tr>\n",
       "    <tr>\n",
       "      <td>1402</td>\n",
       "      <td>5</td>\n",
       "      <td>80.0</td>\n",
       "      <td>689.0</td>\n",
       "      <td>32.0</td>\n",
       "      <td>27453.0</td>\n",
       "      <td>NaN</td>\n",
       "      <td>NaN</td>\n",
       "    </tr>\n",
       "    <tr>\n",
       "      <td>1300</td>\n",
       "      <td>7</td>\n",
       "      <td>12.0</td>\n",
       "      <td>103.0</td>\n",
       "      <td>33.0</td>\n",
       "      <td>6757.0</td>\n",
       "      <td>москва</td>\n",
       "      <td>ultra</td>\n",
       "    </tr>\n",
       "    <tr>\n",
       "      <td>1378</td>\n",
       "      <td>7</td>\n",
       "      <td>59.0</td>\n",
       "      <td>517.0</td>\n",
       "      <td>12.0</td>\n",
       "      <td>11875.0</td>\n",
       "      <td>NaN</td>\n",
       "      <td>NaN</td>\n",
       "    </tr>\n",
       "    <tr>\n",
       "      <td>1282</td>\n",
       "      <td>5</td>\n",
       "      <td>66.0</td>\n",
       "      <td>637.0</td>\n",
       "      <td>80.0</td>\n",
       "      <td>8996.0</td>\n",
       "      <td>NaN</td>\n",
       "      <td>NaN</td>\n",
       "    </tr>\n",
       "    <tr>\n",
       "      <td>1199</td>\n",
       "      <td>10</td>\n",
       "      <td>61.0</td>\n",
       "      <td>511.0</td>\n",
       "      <td>72.0</td>\n",
       "      <td>8319.0</td>\n",
       "      <td>NaN</td>\n",
       "      <td>NaN</td>\n",
       "    </tr>\n",
       "    <tr>\n",
       "      <td>1383</td>\n",
       "      <td>12</td>\n",
       "      <td>34.0</td>\n",
       "      <td>285.0</td>\n",
       "      <td>9.0</td>\n",
       "      <td>10046.0</td>\n",
       "      <td>NaN</td>\n",
       "      <td>NaN</td>\n",
       "    </tr>\n",
       "  </tbody>\n",
       "</table>\n",
       "</div>"
      ],
      "text/plain": [
       "               calls_count  minutes_sum  messages_count  mb_used    city  \\\n",
       "user_id month                                                              \n",
       "1146    8             47.0        438.0            93.0  19568.0     NaN   \n",
       "1458    10            92.0        855.0             1.0  20217.0     NaN   \n",
       "1044    11            45.0        369.0            16.0  16427.0     NaN   \n",
       "1395    12            71.0        627.0            25.0  16309.0     NaN   \n",
       "1402    5             80.0        689.0            32.0  27453.0     NaN   \n",
       "1300    7             12.0        103.0            33.0   6757.0  москва   \n",
       "1378    7             59.0        517.0            12.0  11875.0     NaN   \n",
       "1282    5             66.0        637.0            80.0   8996.0     NaN   \n",
       "1199    10            61.0        511.0            72.0   8319.0     NaN   \n",
       "1383    12            34.0        285.0             9.0  10046.0     NaN   \n",
       "\n",
       "              tariff_name  \n",
       "user_id month              \n",
       "1146    8             NaN  \n",
       "1458    10            NaN  \n",
       "1044    11            NaN  \n",
       "1395    12            NaN  \n",
       "1402    5             NaN  \n",
       "1300    7           ultra  \n",
       "1378    7             NaN  \n",
       "1282    5             NaN  \n",
       "1199    10            NaN  \n",
       "1383    12            NaN  "
      ]
     },
     "execution_count": 59,
     "metadata": {},
     "output_type": "execute_result"
    }
   ],
   "source": [
    "df = df.merge(users_pivot, on=['user_id', 'month'], how='outer')\n",
    "df.sample(10)"
   ]
  },
  {
   "cell_type": "code",
   "execution_count": 60,
   "metadata": {},
   "outputs": [
    {
     "data": {
      "text/plain": [
       "smart    351\n",
       "ultra    149\n",
       "Name: tariff_name, dtype: int64"
      ]
     },
     "execution_count": 60,
     "metadata": {},
     "output_type": "execute_result"
    }
   ],
   "source": [
    "df['tariff_name'].value_counts()"
   ]
  },
  {
   "cell_type": "code",
   "execution_count": 61,
   "metadata": {},
   "outputs": [],
   "source": [
    "df['tariff_name'].fillna(df.groupby('user_id')['tariff_name'].transform('first'), inplace = True)\n",
    "df['city'].fillna(df.groupby('user_id')['city'].transform('first'), inplace = True)\n",
    "#df.head(20)"
   ]
  },
  {
   "cell_type": "markdown",
   "metadata": {},
   "source": [
    "Значения NaN в столбцах таблицы с минутами, сообщениями и траффиком означают, что клиент в отчетном месяце не пользовался данным видом услуги. Проверим таблицу на наличие таких пропущенных значений:"
   ]
  },
  {
   "cell_type": "code",
   "execution_count": 62,
   "metadata": {},
   "outputs": [
    {
     "data": {
      "text/plain": [
       "calls_count        48\n",
       "minutes_sum        48\n",
       "messages_count    499\n",
       "mb_used            15\n",
       "city                0\n",
       "tariff_name         0\n",
       "dtype: int64"
      ]
     },
     "execution_count": 62,
     "metadata": {},
     "output_type": "execute_result"
    }
   ],
   "source": [
    "df.isnull().sum() "
   ]
  },
  {
   "cell_type": "markdown",
   "metadata": {},
   "source": [
    "Заменим в столбцах таблицы с минутами, сообщениями и траффиком пропущенные значения на нули и повторно проверим таблицу на наличие пропусков:"
   ]
  },
  {
   "cell_type": "code",
   "execution_count": 63,
   "metadata": {},
   "outputs": [],
   "source": [
    "df['calls_count'] = df['calls_count'].fillna(0)\n",
    "df['minutes_sum'] = df['minutes_sum'].fillna(0)\n",
    "df['messages_count'] = df['messages_count'].fillna(0)\n",
    "df['mb_used'] = df['mb_used'].fillna(0)"
   ]
  },
  {
   "cell_type": "markdown",
   "metadata": {},
   "source": [
    "Выполним в данных столбцах замену вещественного типа данных на целочисленный:"
   ]
  },
  {
   "cell_type": "code",
   "execution_count": 64,
   "metadata": {},
   "outputs": [],
   "source": [
    "df['calls_count'] = df['calls_count'].astype('int')\n",
    "df['minutes_sum'] = df['minutes_sum'].astype('int')\n",
    "df['messages_count'] = df['messages_count'].astype('int')\n",
    "df['mb_used'] = df['mb_used'].astype('int')"
   ]
  },
  {
   "cell_type": "code",
   "execution_count": 65,
   "metadata": {},
   "outputs": [
    {
     "data": {
      "text/plain": [
       "calls_count       0\n",
       "minutes_sum       0\n",
       "messages_count    0\n",
       "mb_used           0\n",
       "city              0\n",
       "tariff_name       0\n",
       "dtype: int64"
      ]
     },
     "execution_count": 65,
     "metadata": {},
     "output_type": "execute_result"
    }
   ],
   "source": [
    "df.isnull().sum()"
   ]
  },
  {
   "cell_type": "code",
   "execution_count": 66,
   "metadata": {},
   "outputs": [
    {
     "name": "stdout",
     "output_type": "stream",
     "text": [
      "<class 'pandas.core.frame.DataFrame'>\n",
      "MultiIndex: 3216 entries, (1000, 5) to (1371, 12)\n",
      "Data columns (total 6 columns):\n",
      "calls_count       3216 non-null int64\n",
      "minutes_sum       3216 non-null int64\n",
      "messages_count    3216 non-null int64\n",
      "mb_used           3216 non-null int64\n",
      "city              3216 non-null object\n",
      "tariff_name       3216 non-null object\n",
      "dtypes: int64(4), object(2)\n",
      "memory usage: 164.3+ KB\n"
     ]
    }
   ],
   "source": [
    "df.info()"
   ]
  },
  {
   "cell_type": "code",
   "execution_count": 67,
   "metadata": {},
   "outputs": [
    {
     "data": {
      "text/html": [
       "<div>\n",
       "<style scoped>\n",
       "    .dataframe tbody tr th:only-of-type {\n",
       "        vertical-align: middle;\n",
       "    }\n",
       "\n",
       "    .dataframe tbody tr th {\n",
       "        vertical-align: top;\n",
       "    }\n",
       "\n",
       "    .dataframe thead th {\n",
       "        text-align: right;\n",
       "    }\n",
       "</style>\n",
       "<table border=\"1\" class=\"dataframe\">\n",
       "  <thead>\n",
       "    <tr style=\"text-align: right;\">\n",
       "      <th></th>\n",
       "      <th>messages_included</th>\n",
       "      <th>mb_per_month_included</th>\n",
       "      <th>minutes_included</th>\n",
       "      <th>rub_monthly_fee</th>\n",
       "      <th>rub_per_gb</th>\n",
       "      <th>rub_per_message</th>\n",
       "      <th>rub_per_minute</th>\n",
       "      <th>tariff_name</th>\n",
       "    </tr>\n",
       "  </thead>\n",
       "  <tbody>\n",
       "    <tr>\n",
       "      <td>0</td>\n",
       "      <td>50</td>\n",
       "      <td>15360</td>\n",
       "      <td>500</td>\n",
       "      <td>550</td>\n",
       "      <td>200</td>\n",
       "      <td>3</td>\n",
       "      <td>3</td>\n",
       "      <td>smart</td>\n",
       "    </tr>\n",
       "    <tr>\n",
       "      <td>1</td>\n",
       "      <td>1000</td>\n",
       "      <td>30720</td>\n",
       "      <td>3000</td>\n",
       "      <td>1950</td>\n",
       "      <td>150</td>\n",
       "      <td>1</td>\n",
       "      <td>1</td>\n",
       "      <td>ultra</td>\n",
       "    </tr>\n",
       "  </tbody>\n",
       "</table>\n",
       "</div>"
      ],
      "text/plain": [
       "   messages_included  mb_per_month_included  minutes_included  \\\n",
       "0                 50                  15360               500   \n",
       "1               1000                  30720              3000   \n",
       "\n",
       "   rub_monthly_fee  rub_per_gb  rub_per_message  rub_per_minute tariff_name  \n",
       "0              550         200                3               3       smart  \n",
       "1             1950         150                1               1       ultra  "
      ]
     },
     "execution_count": 67,
     "metadata": {},
     "output_type": "execute_result"
    }
   ],
   "source": [
    "tariffs.head()"
   ]
  },
  {
   "cell_type": "code",
   "execution_count": 68,
   "metadata": {},
   "outputs": [],
   "source": [
    "#df.loc[df['tariff_name'] == 'smart', 'proceeds'] = ((df['minutes_sum'] - 500) * 3) \\\n",
    "#+ ((df['messages_count'] - 50) * 3) \\\n",
    "#+ ((df['mb_used'] - 15360) * (200 / 1024)) + 550\n",
    "\n",
    "#df.loc[df['tariff_name'] == 'ultra', 'proceeds'] = ((df['minutes_sum'] - 3000) * 1) \\\n",
    "#+ ((df['messages_count'] - 1000) * 1) \\\n",
    "#+ ((df['mb_used'] - 30720) * (150 / 1024)) + 1950\n",
    "\n",
    "#df.head(15)"
   ]
  },
  {
   "cell_type": "code",
   "execution_count": 69,
   "metadata": {},
   "outputs": [],
   "source": [
    "#df.query('proceeds > 0')"
   ]
  },
  {
   "cell_type": "markdown",
   "metadata": {},
   "source": [
    "#Учтем, что ежемесячная плата клиента не может быть меньше ежемесячной абонентской платы:"
   ]
  },
  {
   "cell_type": "code",
   "execution_count": 70,
   "metadata": {},
   "outputs": [],
   "source": [
    "#df.loc[(df['tariff_name'] == 'smart') & (df['proceeds'] < 550), 'proceeds'] = 550\n",
    "\n",
    "#df.loc[(df['tariff_name'] == 'ultra') & (df['proceeds'] < 1950), 'proceeds'] = 1950"
   ]
  },
  {
   "cell_type": "code",
   "execution_count": 71,
   "metadata": {},
   "outputs": [],
   "source": [
    "def monthly_proceeds(row):\n",
    "    money = 0\n",
    "    tariff_name = row['tariff_name']\n",
    "    minutes_sum = row['minutes_sum']\n",
    "    messages_count = row['messages_count']\n",
    "    mb_used = row['mb_used']\n",
    "\n",
    "#Разница между потраченными минутами, трафиком, смс и объемом услуг, включенных в абонентскую плату:\n",
    "    if tariff_name == 'smart':\n",
    "        difference_calls = minutes_sum - tariffs.loc[0, 'minutes_included']\n",
    "        difference_messages = messages_count - tariffs.loc[0, 'messages_included']\n",
    "        difference_internet = mb_used - tariffs.loc[0, 'mb_per_month_included']\n",
    "\n",
    "    #Если пользователь вышел за пределы лимитов, обозначенных в абонентской плате, то рассчитывается дополнительная оплата:\n",
    "        if (difference_calls > 0):\n",
    "            money += difference_calls * tariffs.loc[0, 'rub_per_minute']\n",
    "        if difference_messages > 0: \n",
    "            money += difference_messages * tariffs.loc[0, 'rub_per_message']\n",
    "        if difference_internet > 0: \n",
    "            money += difference_internet * tariffs.loc[0, 'rub_per_gb'] / 1024\n",
    "\n",
    "    #Добавление ежемесячной абонентской платы\n",
    "        money += tariffs.loc[0, 'rub_monthly_fee']\n",
    "        return money\n",
    "    else:\n",
    "        difference_calls = minutes_sum - tariffs.loc[1, 'minutes_included']\n",
    "        difference_messages = messages_count - tariffs.loc[1, 'messages_included']\n",
    "        difference_internet = mb_used - tariffs.loc[1, 'mb_per_month_included']\n",
    "\n",
    "        if (difference_calls > 0):\n",
    "            money += difference_calls * tariffs.loc[1, 'rub_per_minute']\n",
    "        if difference_messages > 0: \n",
    "            money += difference_messages * tariffs.loc[1, 'rub_per_message']\n",
    "        if difference_internet > 0: \n",
    "            money += difference_internet * tariffs.loc[1, 'rub_per_gb'] / 1024\n",
    "\n",
    "        money += tariffs.loc[1, 'rub_monthly_fee']\n",
    "        return money\n",
    "\n",
    "df['proceeds'] = df.apply(monthly_proceeds, axis=1)"
   ]
  },
  {
   "cell_type": "markdown",
   "metadata": {},
   "source": [
    "Проверим результат путем выборки 20 случайных строк из таблицы:"
   ]
  },
  {
   "cell_type": "code",
   "execution_count": 72,
   "metadata": {},
   "outputs": [
    {
     "data": {
      "text/html": [
       "<div>\n",
       "<style scoped>\n",
       "    .dataframe tbody tr th:only-of-type {\n",
       "        vertical-align: middle;\n",
       "    }\n",
       "\n",
       "    .dataframe tbody tr th {\n",
       "        vertical-align: top;\n",
       "    }\n",
       "\n",
       "    .dataframe thead th {\n",
       "        text-align: right;\n",
       "    }\n",
       "</style>\n",
       "<table border=\"1\" class=\"dataframe\">\n",
       "  <thead>\n",
       "    <tr style=\"text-align: right;\">\n",
       "      <th></th>\n",
       "      <th></th>\n",
       "      <th>calls_count</th>\n",
       "      <th>minutes_sum</th>\n",
       "      <th>messages_count</th>\n",
       "      <th>mb_used</th>\n",
       "      <th>city</th>\n",
       "      <th>tariff_name</th>\n",
       "      <th>proceeds</th>\n",
       "    </tr>\n",
       "    <tr>\n",
       "      <th>user_id</th>\n",
       "      <th>month</th>\n",
       "      <th></th>\n",
       "      <th></th>\n",
       "      <th></th>\n",
       "      <th></th>\n",
       "      <th></th>\n",
       "      <th></th>\n",
       "      <th></th>\n",
       "    </tr>\n",
       "  </thead>\n",
       "  <tbody>\n",
       "    <tr>\n",
       "      <td>1325</td>\n",
       "      <td>9</td>\n",
       "      <td>51</td>\n",
       "      <td>495</td>\n",
       "      <td>7</td>\n",
       "      <td>23087</td>\n",
       "      <td>новосибирск</td>\n",
       "      <td>ultra</td>\n",
       "      <td>1950.000000</td>\n",
       "    </tr>\n",
       "    <tr>\n",
       "      <td>1186</td>\n",
       "      <td>12</td>\n",
       "      <td>75</td>\n",
       "      <td>659</td>\n",
       "      <td>51</td>\n",
       "      <td>10486</td>\n",
       "      <td>самара</td>\n",
       "      <td>smart</td>\n",
       "      <td>1030.000000</td>\n",
       "    </tr>\n",
       "    <tr>\n",
       "      <td>1447</td>\n",
       "      <td>11</td>\n",
       "      <td>72</td>\n",
       "      <td>644</td>\n",
       "      <td>64</td>\n",
       "      <td>19109</td>\n",
       "      <td>москва</td>\n",
       "      <td>smart</td>\n",
       "      <td>1756.226562</td>\n",
       "    </tr>\n",
       "    <tr>\n",
       "      <td>1356</td>\n",
       "      <td>11</td>\n",
       "      <td>122</td>\n",
       "      <td>1030</td>\n",
       "      <td>162</td>\n",
       "      <td>23771</td>\n",
       "      <td>москва</td>\n",
       "      <td>ultra</td>\n",
       "      <td>1950.000000</td>\n",
       "    </tr>\n",
       "    <tr>\n",
       "      <td>1096</td>\n",
       "      <td>4</td>\n",
       "      <td>43</td>\n",
       "      <td>416</td>\n",
       "      <td>73</td>\n",
       "      <td>13627</td>\n",
       "      <td>брянск</td>\n",
       "      <td>ultra</td>\n",
       "      <td>1950.000000</td>\n",
       "    </tr>\n",
       "    <tr>\n",
       "      <td>1381</td>\n",
       "      <td>1</td>\n",
       "      <td>42</td>\n",
       "      <td>382</td>\n",
       "      <td>32</td>\n",
       "      <td>14808</td>\n",
       "      <td>москва</td>\n",
       "      <td>ultra</td>\n",
       "      <td>1950.000000</td>\n",
       "    </tr>\n",
       "    <tr>\n",
       "      <td>1458</td>\n",
       "      <td>3</td>\n",
       "      <td>99</td>\n",
       "      <td>833</td>\n",
       "      <td>1</td>\n",
       "      <td>13327</td>\n",
       "      <td>барнаул</td>\n",
       "      <td>ultra</td>\n",
       "      <td>1950.000000</td>\n",
       "    </tr>\n",
       "    <tr>\n",
       "      <td>1377</td>\n",
       "      <td>2</td>\n",
       "      <td>20</td>\n",
       "      <td>179</td>\n",
       "      <td>2</td>\n",
       "      <td>0</td>\n",
       "      <td>брянск</td>\n",
       "      <td>ultra</td>\n",
       "      <td>1950.000000</td>\n",
       "    </tr>\n",
       "    <tr>\n",
       "      <td>1006</td>\n",
       "      <td>8</td>\n",
       "      <td>32</td>\n",
       "      <td>275</td>\n",
       "      <td>0</td>\n",
       "      <td>19327</td>\n",
       "      <td>ульяновск</td>\n",
       "      <td>smart</td>\n",
       "      <td>1324.804688</td>\n",
       "    </tr>\n",
       "    <tr>\n",
       "      <td>1264</td>\n",
       "      <td>6</td>\n",
       "      <td>54</td>\n",
       "      <td>464</td>\n",
       "      <td>17</td>\n",
       "      <td>13761</td>\n",
       "      <td>хабаровск</td>\n",
       "      <td>smart</td>\n",
       "      <td>550.000000</td>\n",
       "    </tr>\n",
       "    <tr>\n",
       "      <td>1168</td>\n",
       "      <td>4</td>\n",
       "      <td>112</td>\n",
       "      <td>953</td>\n",
       "      <td>42</td>\n",
       "      <td>30277</td>\n",
       "      <td>кострома</td>\n",
       "      <td>ultra</td>\n",
       "      <td>1950.000000</td>\n",
       "    </tr>\n",
       "    <tr>\n",
       "      <td>1050</td>\n",
       "      <td>10</td>\n",
       "      <td>3</td>\n",
       "      <td>50</td>\n",
       "      <td>2</td>\n",
       "      <td>440</td>\n",
       "      <td>тюмень</td>\n",
       "      <td>ultra</td>\n",
       "      <td>1950.000000</td>\n",
       "    </tr>\n",
       "    <tr>\n",
       "      <td>1304</td>\n",
       "      <td>12</td>\n",
       "      <td>61</td>\n",
       "      <td>508</td>\n",
       "      <td>87</td>\n",
       "      <td>42080</td>\n",
       "      <td>владимир</td>\n",
       "      <td>ultra</td>\n",
       "      <td>3614.062500</td>\n",
       "    </tr>\n",
       "    <tr>\n",
       "      <td>1119</td>\n",
       "      <td>4</td>\n",
       "      <td>8</td>\n",
       "      <td>65</td>\n",
       "      <td>13</td>\n",
       "      <td>8836</td>\n",
       "      <td>петрозаводск</td>\n",
       "      <td>smart</td>\n",
       "      <td>550.000000</td>\n",
       "    </tr>\n",
       "    <tr>\n",
       "      <td>1168</td>\n",
       "      <td>7</td>\n",
       "      <td>126</td>\n",
       "      <td>1112</td>\n",
       "      <td>51</td>\n",
       "      <td>30711</td>\n",
       "      <td>кострома</td>\n",
       "      <td>ultra</td>\n",
       "      <td>1950.000000</td>\n",
       "    </tr>\n",
       "    <tr>\n",
       "      <td>1030</td>\n",
       "      <td>7</td>\n",
       "      <td>32</td>\n",
       "      <td>328</td>\n",
       "      <td>101</td>\n",
       "      <td>13135</td>\n",
       "      <td>махачкала</td>\n",
       "      <td>smart</td>\n",
       "      <td>703.000000</td>\n",
       "    </tr>\n",
       "    <tr>\n",
       "      <td>1277</td>\n",
       "      <td>3</td>\n",
       "      <td>47</td>\n",
       "      <td>483</td>\n",
       "      <td>145</td>\n",
       "      <td>15892</td>\n",
       "      <td>новосибирск</td>\n",
       "      <td>ultra</td>\n",
       "      <td>1950.000000</td>\n",
       "    </tr>\n",
       "    <tr>\n",
       "      <td>1153</td>\n",
       "      <td>12</td>\n",
       "      <td>82</td>\n",
       "      <td>648</td>\n",
       "      <td>0</td>\n",
       "      <td>26121</td>\n",
       "      <td>ульяновск</td>\n",
       "      <td>smart</td>\n",
       "      <td>3095.757812</td>\n",
       "    </tr>\n",
       "    <tr>\n",
       "      <td>1083</td>\n",
       "      <td>8</td>\n",
       "      <td>57</td>\n",
       "      <td>505</td>\n",
       "      <td>45</td>\n",
       "      <td>18548</td>\n",
       "      <td>сочи</td>\n",
       "      <td>smart</td>\n",
       "      <td>1187.656250</td>\n",
       "    </tr>\n",
       "    <tr>\n",
       "      <td>1482</td>\n",
       "      <td>4</td>\n",
       "      <td>32</td>\n",
       "      <td>294</td>\n",
       "      <td>47</td>\n",
       "      <td>10694</td>\n",
       "      <td>санкт-петербург</td>\n",
       "      <td>smart</td>\n",
       "      <td>550.000000</td>\n",
       "    </tr>\n",
       "  </tbody>\n",
       "</table>\n",
       "</div>"
      ],
      "text/plain": [
       "               calls_count  minutes_sum  messages_count  mb_used  \\\n",
       "user_id month                                                      \n",
       "1325    9               51          495               7    23087   \n",
       "1186    12              75          659              51    10486   \n",
       "1447    11              72          644              64    19109   \n",
       "1356    11             122         1030             162    23771   \n",
       "1096    4               43          416              73    13627   \n",
       "1381    1               42          382              32    14808   \n",
       "1458    3               99          833               1    13327   \n",
       "1377    2               20          179               2        0   \n",
       "1006    8               32          275               0    19327   \n",
       "1264    6               54          464              17    13761   \n",
       "1168    4              112          953              42    30277   \n",
       "1050    10               3           50               2      440   \n",
       "1304    12              61          508              87    42080   \n",
       "1119    4                8           65              13     8836   \n",
       "1168    7              126         1112              51    30711   \n",
       "1030    7               32          328             101    13135   \n",
       "1277    3               47          483             145    15892   \n",
       "1153    12              82          648               0    26121   \n",
       "1083    8               57          505              45    18548   \n",
       "1482    4               32          294              47    10694   \n",
       "\n",
       "                          city tariff_name     proceeds  \n",
       "user_id month                                            \n",
       "1325    9          новосибирск       ultra  1950.000000  \n",
       "1186    12              самара       smart  1030.000000  \n",
       "1447    11              москва       smart  1756.226562  \n",
       "1356    11              москва       ultra  1950.000000  \n",
       "1096    4               брянск       ultra  1950.000000  \n",
       "1381    1               москва       ultra  1950.000000  \n",
       "1458    3              барнаул       ultra  1950.000000  \n",
       "1377    2               брянск       ultra  1950.000000  \n",
       "1006    8            ульяновск       smart  1324.804688  \n",
       "1264    6            хабаровск       smart   550.000000  \n",
       "1168    4             кострома       ultra  1950.000000  \n",
       "1050    10              тюмень       ultra  1950.000000  \n",
       "1304    12            владимир       ultra  3614.062500  \n",
       "1119    4         петрозаводск       smart   550.000000  \n",
       "1168    7             кострома       ultra  1950.000000  \n",
       "1030    7            махачкала       smart   703.000000  \n",
       "1277    3          новосибирск       ultra  1950.000000  \n",
       "1153    12           ульяновск       smart  3095.757812  \n",
       "1083    8                 сочи       smart  1187.656250  \n",
       "1482    4      санкт-петербург       smart   550.000000  "
      ]
     },
     "execution_count": 72,
     "metadata": {},
     "output_type": "execute_result"
    }
   ],
   "source": [
    "df.sample(20)"
   ]
  },
  {
   "cell_type": "code",
   "execution_count": 73,
   "metadata": {},
   "outputs": [
    {
     "data": {
      "text/html": [
       "<div>\n",
       "<style scoped>\n",
       "    .dataframe tbody tr th:only-of-type {\n",
       "        vertical-align: middle;\n",
       "    }\n",
       "\n",
       "    .dataframe tbody tr th {\n",
       "        vertical-align: top;\n",
       "    }\n",
       "\n",
       "    .dataframe thead th {\n",
       "        text-align: right;\n",
       "    }\n",
       "</style>\n",
       "<table border=\"1\" class=\"dataframe\">\n",
       "  <thead>\n",
       "    <tr style=\"text-align: right;\">\n",
       "      <th></th>\n",
       "      <th></th>\n",
       "      <th>calls_count</th>\n",
       "      <th>minutes_sum</th>\n",
       "      <th>messages_count</th>\n",
       "      <th>mb_used</th>\n",
       "      <th>city</th>\n",
       "      <th>tariff_name</th>\n",
       "      <th>proceeds</th>\n",
       "    </tr>\n",
       "    <tr>\n",
       "      <th>user_id</th>\n",
       "      <th>month</th>\n",
       "      <th></th>\n",
       "      <th></th>\n",
       "      <th></th>\n",
       "      <th></th>\n",
       "      <th></th>\n",
       "      <th></th>\n",
       "      <th></th>\n",
       "    </tr>\n",
       "  </thead>\n",
       "  <tbody>\n",
       "    <tr>\n",
       "      <td>1106</td>\n",
       "      <td>8</td>\n",
       "      <td>0</td>\n",
       "      <td>0</td>\n",
       "      <td>25</td>\n",
       "      <td>19105</td>\n",
       "      <td>калуга</td>\n",
       "      <td>ultra</td>\n",
       "      <td>1950</td>\n",
       "    </tr>\n",
       "    <tr>\n",
       "      <td>1325</td>\n",
       "      <td>8</td>\n",
       "      <td>63</td>\n",
       "      <td>575</td>\n",
       "      <td>19</td>\n",
       "      <td>25528</td>\n",
       "      <td>новосибирск</td>\n",
       "      <td>ultra</td>\n",
       "      <td>1950</td>\n",
       "    </tr>\n",
       "    <tr>\n",
       "      <td>1285</td>\n",
       "      <td>2</td>\n",
       "      <td>8</td>\n",
       "      <td>79</td>\n",
       "      <td>31</td>\n",
       "      <td>645</td>\n",
       "      <td>краснодар</td>\n",
       "      <td>smart</td>\n",
       "      <td>550</td>\n",
       "    </tr>\n",
       "    <tr>\n",
       "      <td>1127</td>\n",
       "      <td>6</td>\n",
       "      <td>22</td>\n",
       "      <td>208</td>\n",
       "      <td>87</td>\n",
       "      <td>14170</td>\n",
       "      <td>казань</td>\n",
       "      <td>smart</td>\n",
       "      <td>661</td>\n",
       "    </tr>\n",
       "    <tr>\n",
       "      <td>1429</td>\n",
       "      <td>9</td>\n",
       "      <td>20</td>\n",
       "      <td>138</td>\n",
       "      <td>0</td>\n",
       "      <td>18122</td>\n",
       "      <td>санкт-петербург</td>\n",
       "      <td>smart</td>\n",
       "      <td>1089</td>\n",
       "    </tr>\n",
       "  </tbody>\n",
       "</table>\n",
       "</div>"
      ],
      "text/plain": [
       "               calls_count  minutes_sum  messages_count  mb_used  \\\n",
       "user_id month                                                      \n",
       "1106    8                0            0              25    19105   \n",
       "1325    8               63          575              19    25528   \n",
       "1285    2                8           79              31      645   \n",
       "1127    6               22          208              87    14170   \n",
       "1429    9               20          138               0    18122   \n",
       "\n",
       "                          city tariff_name  proceeds  \n",
       "user_id month                                         \n",
       "1106    8               калуга       ultra      1950  \n",
       "1325    8          новосибирск       ultra      1950  \n",
       "1285    2            краснодар       smart       550  \n",
       "1127    6               казань       smart       661  \n",
       "1429    9      санкт-петербург       smart      1089  "
      ]
     },
     "execution_count": 73,
     "metadata": {},
     "output_type": "execute_result"
    }
   ],
   "source": [
    "df['proceeds'] = df['proceeds'].astype('int')\n",
    "df.sample(5)"
   ]
  },
  {
   "cell_type": "code",
   "execution_count": 74,
   "metadata": {},
   "outputs": [
    {
     "name": "stdout",
     "output_type": "stream",
     "text": [
      "<class 'pandas.core.frame.DataFrame'>\n",
      "MultiIndex: 3216 entries, (1000, 5) to (1371, 12)\n",
      "Data columns (total 7 columns):\n",
      "calls_count       3216 non-null int64\n",
      "minutes_sum       3216 non-null int64\n",
      "messages_count    3216 non-null int64\n",
      "mb_used           3216 non-null int64\n",
      "city              3216 non-null object\n",
      "tariff_name       3216 non-null object\n",
      "proceeds          3216 non-null int64\n",
      "dtypes: int64(5), object(2)\n",
      "memory usage: 189.4+ KB\n"
     ]
    }
   ],
   "source": [
    "df.info()"
   ]
  },
  {
   "cell_type": "markdown",
   "metadata": {},
   "source": [
    "Данные подготовлены для последующего анализа."
   ]
  },
  {
   "cell_type": "markdown",
   "metadata": {},
   "source": [
    "**Вывод**"
   ]
  },
  {
   "cell_type": "markdown",
   "metadata": {},
   "source": [
    "1.\tС применением метода pivot_table() выполнены расчеты сделанных звонком и израсходованных минут, количества отправленных интернет-сообщений и израсходованного интернет-траффика.\n",
    "2.\tВыполнено объединение таблиц в один новый датафрейм df с использованием метода merge().\n",
    "3.\tВыполнен расчет помесячной выручки с каждого пользователя.\n",
    "4.\tПропущенные значения NaN в столбцах таблицы с минутами, сообщениями и траффиком заменены на нули. В данных столбцах выполнена замена вещественного типа данных на целочисленный."
   ]
  },
  {
   "cell_type": "markdown",
   "metadata": {},
   "source": [
    "## Шаг 3. Анализ данных"
   ]
  },
  {
   "cell_type": "markdown",
   "metadata": {},
   "source": [
    "### Пользователи тарифного плана \"Смарт\""
   ]
  },
  {
   "cell_type": "markdown",
   "metadata": {},
   "source": [
    "Сформируем выборку клиентов, подключенных к тарифному плану \"Смарт\":"
   ]
  },
  {
   "cell_type": "code",
   "execution_count": 75,
   "metadata": {
    "scrolled": true
   },
   "outputs": [
    {
     "data": {
      "text/html": [
       "<div>\n",
       "<style scoped>\n",
       "    .dataframe tbody tr th:only-of-type {\n",
       "        vertical-align: middle;\n",
       "    }\n",
       "\n",
       "    .dataframe tbody tr th {\n",
       "        vertical-align: top;\n",
       "    }\n",
       "\n",
       "    .dataframe thead th {\n",
       "        text-align: right;\n",
       "    }\n",
       "</style>\n",
       "<table border=\"1\" class=\"dataframe\">\n",
       "  <thead>\n",
       "    <tr style=\"text-align: right;\">\n",
       "      <th></th>\n",
       "      <th></th>\n",
       "      <th>calls_count</th>\n",
       "      <th>minutes_sum</th>\n",
       "      <th>messages_count</th>\n",
       "      <th>mb_used</th>\n",
       "      <th>city</th>\n",
       "      <th>tariff_name</th>\n",
       "      <th>proceeds</th>\n",
       "    </tr>\n",
       "    <tr>\n",
       "      <th>user_id</th>\n",
       "      <th>month</th>\n",
       "      <th></th>\n",
       "      <th></th>\n",
       "      <th></th>\n",
       "      <th></th>\n",
       "      <th></th>\n",
       "      <th></th>\n",
       "      <th></th>\n",
       "    </tr>\n",
       "  </thead>\n",
       "  <tbody>\n",
       "    <tr>\n",
       "      <td rowspan=\"2\" valign=\"top\">1001</td>\n",
       "      <td>11</td>\n",
       "      <td>45</td>\n",
       "      <td>430</td>\n",
       "      <td>0</td>\n",
       "      <td>18452</td>\n",
       "      <td>москва</td>\n",
       "      <td>smart</td>\n",
       "      <td>1153</td>\n",
       "    </tr>\n",
       "    <tr>\n",
       "      <td>12</td>\n",
       "      <td>47</td>\n",
       "      <td>414</td>\n",
       "      <td>0</td>\n",
       "      <td>14053</td>\n",
       "      <td>москва</td>\n",
       "      <td>smart</td>\n",
       "      <td>550</td>\n",
       "    </tr>\n",
       "    <tr>\n",
       "      <td rowspan=\"7\" valign=\"top\">1002</td>\n",
       "      <td>6</td>\n",
       "      <td>14</td>\n",
       "      <td>117</td>\n",
       "      <td>4</td>\n",
       "      <td>10871</td>\n",
       "      <td>стерлитамак</td>\n",
       "      <td>smart</td>\n",
       "      <td>550</td>\n",
       "    </tr>\n",
       "    <tr>\n",
       "      <td>7</td>\n",
       "      <td>21</td>\n",
       "      <td>214</td>\n",
       "      <td>11</td>\n",
       "      <td>17601</td>\n",
       "      <td>стерлитамак</td>\n",
       "      <td>smart</td>\n",
       "      <td>987</td>\n",
       "    </tr>\n",
       "    <tr>\n",
       "      <td>8</td>\n",
       "      <td>37</td>\n",
       "      <td>289</td>\n",
       "      <td>13</td>\n",
       "      <td>20347</td>\n",
       "      <td>стерлитамак</td>\n",
       "      <td>smart</td>\n",
       "      <td>1524</td>\n",
       "    </tr>\n",
       "    <tr>\n",
       "      <td>9</td>\n",
       "      <td>25</td>\n",
       "      <td>206</td>\n",
       "      <td>4</td>\n",
       "      <td>16712</td>\n",
       "      <td>стерлитамак</td>\n",
       "      <td>smart</td>\n",
       "      <td>814</td>\n",
       "    </tr>\n",
       "    <tr>\n",
       "      <td>10</td>\n",
       "      <td>24</td>\n",
       "      <td>212</td>\n",
       "      <td>10</td>\n",
       "      <td>13905</td>\n",
       "      <td>стерлитамак</td>\n",
       "      <td>smart</td>\n",
       "      <td>550</td>\n",
       "    </tr>\n",
       "    <tr>\n",
       "      <td>11</td>\n",
       "      <td>25</td>\n",
       "      <td>243</td>\n",
       "      <td>16</td>\n",
       "      <td>18610</td>\n",
       "      <td>стерлитамак</td>\n",
       "      <td>smart</td>\n",
       "      <td>1184</td>\n",
       "    </tr>\n",
       "    <tr>\n",
       "      <td>12</td>\n",
       "      <td>27</td>\n",
       "      <td>236</td>\n",
       "      <td>12</td>\n",
       "      <td>18137</td>\n",
       "      <td>стерлитамак</td>\n",
       "      <td>smart</td>\n",
       "      <td>1092</td>\n",
       "    </tr>\n",
       "    <tr>\n",
       "      <td>1005</td>\n",
       "      <td>1</td>\n",
       "      <td>11</td>\n",
       "      <td>95</td>\n",
       "      <td>7</td>\n",
       "      <td>2730</td>\n",
       "      <td>набережные челны</td>\n",
       "      <td>smart</td>\n",
       "      <td>550</td>\n",
       "    </tr>\n",
       "  </tbody>\n",
       "</table>\n",
       "</div>"
      ],
      "text/plain": [
       "               calls_count  minutes_sum  messages_count  mb_used  \\\n",
       "user_id month                                                      \n",
       "1001    11              45          430               0    18452   \n",
       "        12              47          414               0    14053   \n",
       "1002    6               14          117               4    10871   \n",
       "        7               21          214              11    17601   \n",
       "        8               37          289              13    20347   \n",
       "        9               25          206               4    16712   \n",
       "        10              24          212              10    13905   \n",
       "        11              25          243              16    18610   \n",
       "        12              27          236              12    18137   \n",
       "1005    1               11           95               7     2730   \n",
       "\n",
       "                           city tariff_name  proceeds  \n",
       "user_id month                                          \n",
       "1001    11               москва       smart      1153  \n",
       "        12               москва       smart       550  \n",
       "1002    6           стерлитамак       smart       550  \n",
       "        7           стерлитамак       smart       987  \n",
       "        8           стерлитамак       smart      1524  \n",
       "        9           стерлитамак       smart       814  \n",
       "        10          стерлитамак       smart       550  \n",
       "        11          стерлитамак       smart      1184  \n",
       "        12          стерлитамак       smart      1092  \n",
       "1005    1      набережные челны       smart       550  "
      ]
     },
     "execution_count": 75,
     "metadata": {},
     "output_type": "execute_result"
    }
   ],
   "source": [
    "users_smart = df.query('tariff_name == \"smart\"')\n",
    "users_smart.head(10)"
   ]
  },
  {
   "cell_type": "markdown",
   "metadata": {},
   "source": [
    "Изучим датасет с помощью метода describe()"
   ]
  },
  {
   "cell_type": "code",
   "execution_count": 76,
   "metadata": {},
   "outputs": [
    {
     "data": {
      "text/html": [
       "<div>\n",
       "<style scoped>\n",
       "    .dataframe tbody tr th:only-of-type {\n",
       "        vertical-align: middle;\n",
       "    }\n",
       "\n",
       "    .dataframe tbody tr th {\n",
       "        vertical-align: top;\n",
       "    }\n",
       "\n",
       "    .dataframe thead th {\n",
       "        text-align: right;\n",
       "    }\n",
       "</style>\n",
       "<table border=\"1\" class=\"dataframe\">\n",
       "  <thead>\n",
       "    <tr style=\"text-align: right;\">\n",
       "      <th></th>\n",
       "      <th>calls_count</th>\n",
       "      <th>minutes_sum</th>\n",
       "      <th>messages_count</th>\n",
       "      <th>mb_used</th>\n",
       "      <th>proceeds</th>\n",
       "    </tr>\n",
       "  </thead>\n",
       "  <tbody>\n",
       "    <tr>\n",
       "      <td>count</td>\n",
       "      <td>2230.000000</td>\n",
       "      <td>2230.000000</td>\n",
       "      <td>2230.000000</td>\n",
       "      <td>2230.000000</td>\n",
       "      <td>2230.000000</td>\n",
       "    </tr>\n",
       "    <tr>\n",
       "      <td>mean</td>\n",
       "      <td>46.926457</td>\n",
       "      <td>417.747534</td>\n",
       "      <td>33.369058</td>\n",
       "      <td>16221.910762</td>\n",
       "      <td>1232.751570</td>\n",
       "    </tr>\n",
       "    <tr>\n",
       "      <td>std</td>\n",
       "      <td>21.057932</td>\n",
       "      <td>190.476754</td>\n",
       "      <td>28.230396</td>\n",
       "      <td>5886.299627</td>\n",
       "      <td>787.500205</td>\n",
       "    </tr>\n",
       "    <tr>\n",
       "      <td>min</td>\n",
       "      <td>0.000000</td>\n",
       "      <td>0.000000</td>\n",
       "      <td>0.000000</td>\n",
       "      <td>0.000000</td>\n",
       "      <td>550.000000</td>\n",
       "    </tr>\n",
       "    <tr>\n",
       "      <td>25%</td>\n",
       "      <td>32.000000</td>\n",
       "      <td>282.000000</td>\n",
       "      <td>10.000000</td>\n",
       "      <td>12645.250000</td>\n",
       "      <td>550.000000</td>\n",
       "    </tr>\n",
       "    <tr>\n",
       "      <td>50%</td>\n",
       "      <td>47.000000</td>\n",
       "      <td>421.500000</td>\n",
       "      <td>28.000000</td>\n",
       "      <td>16529.000000</td>\n",
       "      <td>959.000000</td>\n",
       "    </tr>\n",
       "    <tr>\n",
       "      <td>75%</td>\n",
       "      <td>61.000000</td>\n",
       "      <td>545.000000</td>\n",
       "      <td>51.000000</td>\n",
       "      <td>20068.000000</td>\n",
       "      <td>1667.500000</td>\n",
       "    </tr>\n",
       "    <tr>\n",
       "      <td>max</td>\n",
       "      <td>162.000000</td>\n",
       "      <td>1435.000000</td>\n",
       "      <td>143.000000</td>\n",
       "      <td>38610.000000</td>\n",
       "      <td>6711.000000</td>\n",
       "    </tr>\n",
       "  </tbody>\n",
       "</table>\n",
       "</div>"
      ],
      "text/plain": [
       "       calls_count  minutes_sum  messages_count       mb_used     proceeds\n",
       "count  2230.000000  2230.000000     2230.000000   2230.000000  2230.000000\n",
       "mean     46.926457   417.747534       33.369058  16221.910762  1232.751570\n",
       "std      21.057932   190.476754       28.230396   5886.299627   787.500205\n",
       "min       0.000000     0.000000        0.000000      0.000000   550.000000\n",
       "25%      32.000000   282.000000       10.000000  12645.250000   550.000000\n",
       "50%      47.000000   421.500000       28.000000  16529.000000   959.000000\n",
       "75%      61.000000   545.000000       51.000000  20068.000000  1667.500000\n",
       "max     162.000000  1435.000000      143.000000  38610.000000  6711.000000"
      ]
     },
     "execution_count": 76,
     "metadata": {},
     "output_type": "execute_result"
    }
   ],
   "source": [
    "users_smart.describe()"
   ]
  },
  {
   "cell_type": "markdown",
   "metadata": {},
   "source": [
    "В выборке представлены все клиенты тарифа smart, поэтому можно считать выборку генеральной совокупностью."
   ]
  },
  {
   "cell_type": "markdown",
   "metadata": {},
   "source": [
    "Выполним оценку среднего количества, дисперсии и стандартного отклонения использованных минут разговора:"
   ]
  },
  {
   "cell_type": "code",
   "execution_count": 77,
   "metadata": {},
   "outputs": [
    {
     "name": "stdout",
     "output_type": "stream",
     "text": [
      "Среднее количество использованных минут разговора тарифа \"Смарт\": 417.747533632287\n",
      "Медиана количества использованных минут разговора тарифа \"Смарт\": 421.5\n",
      "Дисперсия использованных минут разговора тарифа \"Смарт\": 36281.39383644458\n",
      "Стандартное отклонение использованных минут разговора тарифа \"Смарт\": 190.4767540579285\n"
     ]
    }
   ],
   "source": [
    "smart_minutes_mean = users_smart['minutes_sum'].mean()\n",
    "smart_minutes_median = users_smart['minutes_sum'].median()\n",
    "smart_minutes_variance = np.var(users_smart['minutes_sum'], ddof=1)\n",
    "smart_minutes_standard_dev = np.std(users_smart['minutes_sum'], ddof=1)\n",
    "\n",
    "print('Среднее количество использованных минут разговора тарифа \"Смарт\":', smart_minutes_mean)\n",
    "print('Медиана количества использованных минут разговора тарифа \"Смарт\":', smart_minutes_median)\n",
    "print('Дисперсия использованных минут разговора тарифа \"Смарт\":', smart_minutes_variance)\n",
    "print('Стандартное отклонение использованных минут разговора тарифа \"Смарт\":', smart_minutes_standard_dev)"
   ]
  },
  {
   "cell_type": "markdown",
   "metadata": {},
   "source": [
    "Выполним оценку среднего количества, дисперсии и стандартного отклонения использованных сообщений:"
   ]
  },
  {
   "cell_type": "code",
   "execution_count": 78,
   "metadata": {},
   "outputs": [
    {
     "name": "stdout",
     "output_type": "stream",
     "text": [
      "Среднее количество использованных сообщений тарифа \"Смарт\": 33.36905829596412\n",
      "Медиана количества использованных сообщений тарифа \"Смарт\": 28.0\n",
      "Дисперсия использованных сообщений тарифа \"Смарт\": 796.9552557301129\n",
      "Стандартное отклонение использованных сообщений тарифа \"Смарт\": 28.230395954185852\n"
     ]
    }
   ],
   "source": [
    "smart_messages_mean = users_smart['messages_count'].mean()\n",
    "smart_messages_median = users_smart['messages_count'].median()\n",
    "smart_messages_variance = np.var(users_smart['messages_count'], ddof=1)\n",
    "smart_messages_standard_dev = np.std(users_smart['messages_count'], ddof=1)\n",
    "\n",
    "print('Среднее количество использованных сообщений тарифа \"Смарт\":', smart_messages_mean)\n",
    "print('Медиана количества использованных сообщений тарифа \"Смарт\":', smart_messages_median)\n",
    "print('Дисперсия использованных сообщений тарифа \"Смарт\":', smart_messages_variance)\n",
    "print('Стандартное отклонение использованных сообщений тарифа \"Смарт\":', smart_messages_standard_dev)"
   ]
  },
  {
   "cell_type": "markdown",
   "metadata": {},
   "source": [
    "Выполним оценку среднего количества, дисперсии и стандартного отклонения использованного траффика:"
   ]
  },
  {
   "cell_type": "code",
   "execution_count": 79,
   "metadata": {},
   "outputs": [
    {
     "name": "stdout",
     "output_type": "stream",
     "text": [
      "Среднее количество использованного траффика тарифа \"Смарт\": 16221.910762331838\n",
      "Медиана использованного траффика тарифа \"Смарт\": 16529.0\n",
      "Дисперсия использованного траффика тарифа \"Смарт\": 34648523.30069166\n",
      "Стандартное отклонение использованного траффика тарифа \"Смарт\": 5886.299627158955\n"
     ]
    }
   ],
   "source": [
    "smart_mb_used_mean = users_smart['mb_used'].mean()\n",
    "smart_mb_used_median = users_smart['mb_used'].median()\n",
    "smart_mb_used_variance = np.var(users_smart['mb_used'], ddof=1)\n",
    "smart_mb_used_standard_dev = np.std(users_smart['mb_used'], ddof=1)\n",
    "\n",
    "print('Среднее количество использованного траффика тарифа \"Смарт\":', smart_mb_used_mean)\n",
    "print('Медиана использованного траффика тарифа \"Смарт\":', smart_mb_used_median)\n",
    "print('Дисперсия использованного траффика тарифа \"Смарт\":', smart_mb_used_variance)\n",
    "print('Стандартное отклонение использованного траффика тарифа \"Смарт\":', smart_mb_used_standard_dev)"
   ]
  },
  {
   "cell_type": "markdown",
   "metadata": {},
   "source": [
    "### Пользователи тарифного плана \"Ультра\""
   ]
  },
  {
   "cell_type": "markdown",
   "metadata": {},
   "source": [
    "Сформируем выборку клиентов, подключенных к тарифному плану \"Ультра\":"
   ]
  },
  {
   "cell_type": "code",
   "execution_count": 80,
   "metadata": {},
   "outputs": [
    {
     "data": {
      "text/html": [
       "<div>\n",
       "<style scoped>\n",
       "    .dataframe tbody tr th:only-of-type {\n",
       "        vertical-align: middle;\n",
       "    }\n",
       "\n",
       "    .dataframe tbody tr th {\n",
       "        vertical-align: top;\n",
       "    }\n",
       "\n",
       "    .dataframe thead th {\n",
       "        text-align: right;\n",
       "    }\n",
       "</style>\n",
       "<table border=\"1\" class=\"dataframe\">\n",
       "  <thead>\n",
       "    <tr style=\"text-align: right;\">\n",
       "      <th></th>\n",
       "      <th></th>\n",
       "      <th>calls_count</th>\n",
       "      <th>minutes_sum</th>\n",
       "      <th>messages_count</th>\n",
       "      <th>mb_used</th>\n",
       "      <th>city</th>\n",
       "      <th>tariff_name</th>\n",
       "      <th>proceeds</th>\n",
       "    </tr>\n",
       "    <tr>\n",
       "      <th>user_id</th>\n",
       "      <th>month</th>\n",
       "      <th></th>\n",
       "      <th></th>\n",
       "      <th></th>\n",
       "      <th></th>\n",
       "      <th></th>\n",
       "      <th></th>\n",
       "      <th></th>\n",
       "    </tr>\n",
       "  </thead>\n",
       "  <tbody>\n",
       "    <tr>\n",
       "      <td rowspan=\"8\" valign=\"top\">1000</td>\n",
       "      <td>5</td>\n",
       "      <td>17</td>\n",
       "      <td>159</td>\n",
       "      <td>22</td>\n",
       "      <td>2256</td>\n",
       "      <td>краснодар</td>\n",
       "      <td>ultra</td>\n",
       "      <td>1950</td>\n",
       "    </tr>\n",
       "    <tr>\n",
       "      <td>6</td>\n",
       "      <td>28</td>\n",
       "      <td>172</td>\n",
       "      <td>60</td>\n",
       "      <td>23257</td>\n",
       "      <td>краснодар</td>\n",
       "      <td>ultra</td>\n",
       "      <td>1950</td>\n",
       "    </tr>\n",
       "    <tr>\n",
       "      <td>7</td>\n",
       "      <td>41</td>\n",
       "      <td>340</td>\n",
       "      <td>75</td>\n",
       "      <td>14016</td>\n",
       "      <td>краснодар</td>\n",
       "      <td>ultra</td>\n",
       "      <td>1950</td>\n",
       "    </tr>\n",
       "    <tr>\n",
       "      <td>8</td>\n",
       "      <td>42</td>\n",
       "      <td>408</td>\n",
       "      <td>81</td>\n",
       "      <td>14070</td>\n",
       "      <td>краснодар</td>\n",
       "      <td>ultra</td>\n",
       "      <td>1950</td>\n",
       "    </tr>\n",
       "    <tr>\n",
       "      <td>9</td>\n",
       "      <td>46</td>\n",
       "      <td>466</td>\n",
       "      <td>57</td>\n",
       "      <td>14581</td>\n",
       "      <td>краснодар</td>\n",
       "      <td>ultra</td>\n",
       "      <td>1950</td>\n",
       "    </tr>\n",
       "    <tr>\n",
       "      <td>10</td>\n",
       "      <td>44</td>\n",
       "      <td>350</td>\n",
       "      <td>73</td>\n",
       "      <td>14717</td>\n",
       "      <td>краснодар</td>\n",
       "      <td>ultra</td>\n",
       "      <td>1950</td>\n",
       "    </tr>\n",
       "    <tr>\n",
       "      <td>11</td>\n",
       "      <td>37</td>\n",
       "      <td>338</td>\n",
       "      <td>58</td>\n",
       "      <td>14768</td>\n",
       "      <td>краснодар</td>\n",
       "      <td>ultra</td>\n",
       "      <td>1950</td>\n",
       "    </tr>\n",
       "    <tr>\n",
       "      <td>12</td>\n",
       "      <td>38</td>\n",
       "      <td>333</td>\n",
       "      <td>70</td>\n",
       "      <td>9827</td>\n",
       "      <td>краснодар</td>\n",
       "      <td>ultra</td>\n",
       "      <td>1950</td>\n",
       "    </tr>\n",
       "    <tr>\n",
       "      <td rowspan=\"2\" valign=\"top\">1003</td>\n",
       "      <td>8</td>\n",
       "      <td>43</td>\n",
       "      <td>380</td>\n",
       "      <td>37</td>\n",
       "      <td>8571</td>\n",
       "      <td>москва</td>\n",
       "      <td>ultra</td>\n",
       "      <td>1950</td>\n",
       "    </tr>\n",
       "    <tr>\n",
       "      <td>9</td>\n",
       "      <td>105</td>\n",
       "      <td>961</td>\n",
       "      <td>91</td>\n",
       "      <td>12479</td>\n",
       "      <td>москва</td>\n",
       "      <td>ultra</td>\n",
       "      <td>1950</td>\n",
       "    </tr>\n",
       "  </tbody>\n",
       "</table>\n",
       "</div>"
      ],
      "text/plain": [
       "               calls_count  minutes_sum  messages_count  mb_used       city  \\\n",
       "user_id month                                                                 \n",
       "1000    5               17          159              22     2256  краснодар   \n",
       "        6               28          172              60    23257  краснодар   \n",
       "        7               41          340              75    14016  краснодар   \n",
       "        8               42          408              81    14070  краснодар   \n",
       "        9               46          466              57    14581  краснодар   \n",
       "        10              44          350              73    14717  краснодар   \n",
       "        11              37          338              58    14768  краснодар   \n",
       "        12              38          333              70     9827  краснодар   \n",
       "1003    8               43          380              37     8571     москва   \n",
       "        9              105          961              91    12479     москва   \n",
       "\n",
       "              tariff_name  proceeds  \n",
       "user_id month                        \n",
       "1000    5           ultra      1950  \n",
       "        6           ultra      1950  \n",
       "        7           ultra      1950  \n",
       "        8           ultra      1950  \n",
       "        9           ultra      1950  \n",
       "        10          ultra      1950  \n",
       "        11          ultra      1950  \n",
       "        12          ultra      1950  \n",
       "1003    8           ultra      1950  \n",
       "        9           ultra      1950  "
      ]
     },
     "execution_count": 80,
     "metadata": {},
     "output_type": "execute_result"
    }
   ],
   "source": [
    "users_ultra = df.query('tariff_name == \"ultra\"')\n",
    "users_ultra.head(10)"
   ]
  },
  {
   "cell_type": "markdown",
   "metadata": {},
   "source": [
    "Выполним оценку среднего количества, дисперсии и стандартного отклонения использованных минут разговора:"
   ]
  },
  {
   "cell_type": "code",
   "execution_count": 81,
   "metadata": {},
   "outputs": [
    {
     "name": "stdout",
     "output_type": "stream",
     "text": [
      "Среднее количество использованных минут разговора тарифа \"Ультра\": 526.0892494929006\n",
      "Медиана количества использованных минут разговора тарифа \"Ультра\": 518.0\n",
      "Дисперсия использованных минут разговора тарифа \"Ультра\": 101052.49354928387\n",
      "Стандартное отклонение использованных минут разговора тарифа \"Ультра\": 317.8875485911392\n"
     ]
    }
   ],
   "source": [
    "ultra_minutes_mean = users_ultra['minutes_sum'].mean()\n",
    "ultra_minutes_median = users_ultra['minutes_sum'].median()\n",
    "ultra_minutes_variance = np.var(users_ultra['minutes_sum'], ddof=1)\n",
    "ultra_minutes_standard_dev = np.std(users_ultra['minutes_sum'], ddof=1)\n",
    "\n",
    "print('Среднее количество использованных минут разговора тарифа \"Ультра\":', ultra_minutes_mean)\n",
    "print('Медиана количества использованных минут разговора тарифа \"Ультра\":', ultra_minutes_median)\n",
    "print('Дисперсия использованных минут разговора тарифа \"Ультра\":', ultra_minutes_variance)\n",
    "print('Стандартное отклонение использованных минут разговора тарифа \"Ультра\":', ultra_minutes_standard_dev)"
   ]
  },
  {
   "cell_type": "markdown",
   "metadata": {},
   "source": [
    "Выполним оценку среднего количества, дисперсии и стандартного отклонения использованных сообщений:"
   ]
  },
  {
   "cell_type": "code",
   "execution_count": 82,
   "metadata": {},
   "outputs": [
    {
     "name": "stdout",
     "output_type": "stream",
     "text": [
      "Среднее количество использованных сообщений тарифа \"Ультра\": 49.31338742393509\n",
      "Медиана количества использованных сообщений тарифа \"Ультра\": 38.0\n",
      "Дисперсия использованных сообщений тарифа \"Ультра\": 2285.4174246558414\n",
      "Стандартное отклонение использованных сообщений тарифа \"Ультра\": 47.80603962530092\n"
     ]
    }
   ],
   "source": [
    "ultra_messages_mean = users_ultra['messages_count'].mean()\n",
    "ultra_messages_median = users_ultra['messages_count'].median()\n",
    "ultra_messages_variance = np.var(users_ultra['messages_count'], ddof=1)\n",
    "ultra_messages_standard_dev = np.std(users_ultra['messages_count'], ddof=1)\n",
    "\n",
    "print('Среднее количество использованных сообщений тарифа \"Ультра\":', ultra_messages_mean)\n",
    "print('Медиана количества использованных сообщений тарифа \"Ультра\":', ultra_messages_median)\n",
    "print('Дисперсия использованных сообщений тарифа \"Ультра\":', ultra_messages_variance)\n",
    "print('Стандартное отклонение использованных сообщений тарифа \"Ультра\":', ultra_messages_standard_dev)"
   ]
  },
  {
   "cell_type": "markdown",
   "metadata": {},
   "source": [
    "Выполним оценку среднего количества, дисперсии и стандартного отклонения использованного траффика:"
   ]
  },
  {
   "cell_type": "code",
   "execution_count": 83,
   "metadata": {},
   "outputs": [
    {
     "name": "stdout",
     "output_type": "stream",
     "text": [
      "Среднее количество использованного траффика тарифа \"Ультра\": 19467.137931034482\n",
      "Медиана использованного траффика тарифа \"Ультра\": 19320.0\n",
      "Дисперсия использованного траффика тарифа \"Ультра\": 102217264.27537197\n",
      "Стандартное отклонение использованного траффика тарифа \"Ультра\": 10110.255401095066\n"
     ]
    }
   ],
   "source": [
    "ultra_mb_used_mean = users_ultra['mb_used'].mean()\n",
    "ultra_mb_used_median = users_ultra['mb_used'].median()\n",
    "ultra_mb_used_variance = np.var(users_ultra['mb_used'], ddof=1)\n",
    "ultra_mb_used_standard_dev = np.std(users_ultra['mb_used'], ddof=1)\n",
    "\n",
    "print('Среднее количество использованного траффика тарифа \"Ультра\":', ultra_mb_used_mean)\n",
    "print('Медиана использованного траффика тарифа \"Ультра\":', ultra_mb_used_median)\n",
    "print('Дисперсия использованного траффика тарифа \"Ультра\":', ultra_mb_used_variance)\n",
    "print('Стандартное отклонение использованного траффика тарифа \"Ультра\":', ultra_mb_used_standard_dev)"
   ]
  },
  {
   "cell_type": "markdown",
   "metadata": {},
   "source": [
    "### Построение гистограмм и описание распределений"
   ]
  },
  {
   "cell_type": "markdown",
   "metadata": {},
   "source": [
    "#### Распределения по использованным минутам у тарифов \"Смарт\" и \"Ультра\":"
   ]
  },
  {
   "cell_type": "code",
   "execution_count": 84,
   "metadata": {
    "scrolled": true
   },
   "outputs": [
    {
     "data": {
      "image/png": "[encoded data removed]",
      "text/plain": [
       "<Figure size 720x360 with 1 Axes>"
      ]
     },
     "metadata": {
      "needs_background": "light"
     },
     "output_type": "display_data"
    }
   ],
   "source": [
    "smart_minutes_sum = df.query('tariff_name == \"smart\"')['minutes_sum']\n",
    "plt.figure(figsize=(10,5))\n",
    "plt.hist(smart_minutes_sum, label='\"Смарт\"', alpha=0.7, bins=30)\n",
    "plt.xlabel('Количество использованных минут, мин.', fontsize=12)\n",
    "plt.ylabel('Количество пользователей', fontsize=12)\n",
    "ultra_minutes_sum = df.query('tariff_name == \"ultra\"')['minutes_sum']\n",
    "plt.hist(ultra_minutes_sum, label='\"Ультра\"', alpha=0.7, bins=30)\n",
    "plt.xlabel('Количество использованных минут, мин.', fontsize=12)\n",
    "plt.ylabel('Количество пользователей', fontsize=12)\n",
    "plt.title('Распределение использованых минут по тарифам \"Смарт\" и \"Ультра\"', fontsize=13)\n",
    "plt.grid()\n",
    "plt.legend()\n",
    "plt.show()"
   ]
  },
  {
   "cell_type": "code",
   "execution_count": 85,
   "metadata": {},
   "outputs": [],
   "source": [
    "import seaborn as sns"
   ]
  },
  {
   "cell_type": "code",
   "execution_count": 86,
   "metadata": {},
   "outputs": [
    {
     "data": {
      "text/plain": [
       "Text(0, 0.5, 'Тариф')"
      ]
     },
     "execution_count": 86,
     "metadata": {},
     "output_type": "execute_result"
    },
    {
     "data": {
      "image/png": "[encoded data removed]",
      "text/plain": [
       "<Figure size 720x360 with 1 Axes>"
      ]
     },
     "metadata": {
      "needs_background": "light"
     },
     "output_type": "display_data"
    }
   ],
   "source": [
    "plt.figure(figsize=(10,5))\n",
    "sns.boxplot(x='minutes_sum', y='tariff_name', data=df)\n",
    "plt.xlabel('Количество использованных минут, мин.', fontsize=12)\n",
    "plt.ylabel('Тариф', fontsize=12)"
   ]
  },
  {
   "cell_type": "markdown",
   "metadata": {},
   "source": [
    "#### Распределения по отправленным сообщениям у тарифов \"Смарт\" и \"Ультра\":"
   ]
  },
  {
   "cell_type": "code",
   "execution_count": 87,
   "metadata": {},
   "outputs": [
    {
     "data": {
      "image/png": "[encoded data removed]",
      "text/plain": [
       "<Figure size 720x360 with 1 Axes>"
      ]
     },
     "metadata": {
      "needs_background": "light"
     },
     "output_type": "display_data"
    }
   ],
   "source": [
    "smart_messages_count = df.query('tariff_name == \"smart\"')['messages_count']\n",
    "plt.figure(figsize=(10,5))\n",
    "plt.hist(smart_messages_count, label='\"Смарт\"', alpha=0.7, bins=30)\n",
    "plt.xlabel('Количество отправленных сообщений, шт.', fontsize=12)\n",
    "plt.ylabel('Количество пользователей', fontsize=12)\n",
    "ultra_messages_count = df.query('tariff_name == \"ultra\"')['messages_count']\n",
    "plt.hist(ultra_messages_count, label='\"Ультра\"', alpha=0.7, bins=30)\n",
    "plt.xlabel('Количество отправленных сообщений, шт.', fontsize=12)\n",
    "plt.ylabel('Количество пользователей', fontsize=12)\n",
    "plt.title('Распределение отправленных сообщений по тарифам \"Смарт\" и \"Ультра\"', fontsize=13)\n",
    "plt.grid()\n",
    "plt.legend()\n",
    "plt.show()"
   ]
  },
  {
   "cell_type": "code",
   "execution_count": 88,
   "metadata": {},
   "outputs": [
    {
     "data": {
      "text/plain": [
       "Text(0, 0.5, 'Тариф')"
      ]
     },
     "execution_count": 88,
     "metadata": {},
     "output_type": "execute_result"
    },
    {
     "data": {
      "image/png": "[encoded data removed]",
      "text/plain": [
       "<Figure size 720x360 with 1 Axes>"
      ]
     },
     "metadata": {
      "needs_background": "light"
     },
     "output_type": "display_data"
    }
   ],
   "source": [
    "plt.figure(figsize=(10,5))\n",
    "sns.boxplot(x='messages_count', y='tariff_name', data=df)\n",
    "plt.xlabel('Количество отправленных сообщений, шт.', fontsize=12)\n",
    "plt.ylabel('Тариф', fontsize=12)"
   ]
  },
  {
   "cell_type": "markdown",
   "metadata": {},
   "source": [
    "#### Распределения по использованному траффику у тарифов \"Смарт\" и \"Ультра\":"
   ]
  },
  {
   "cell_type": "code",
   "execution_count": 89,
   "metadata": {},
   "outputs": [
    {
     "data": {
      "image/png": "[encoded data removed]",
      "text/plain": [
       "<Figure size 720x360 with 1 Axes>"
      ]
     },
     "metadata": {
      "needs_background": "light"
     },
     "output_type": "display_data"
    }
   ],
   "source": [
    "smart_mb_used = df.query('tariff_name == \"smart\"')['mb_used']\n",
    "plt.figure(figsize=(10,5))\n",
    "plt.hist(smart_mb_used, label='\"Смарт\"', alpha=0.7, bins=30)\n",
    "plt.xlabel('Объем использованного траффика, мб', fontsize=12)\n",
    "plt.ylabel('Количество пользователей', fontsize=12)\n",
    "ultra_mb_used = df.query('tariff_name == \"ultra\"')['mb_used']\n",
    "plt.hist(ultra_mb_used, label='\"Ультра\"', alpha=0.7, bins=30)\n",
    "plt.xlabel('Объем использованного траффика, мб', fontsize=12)\n",
    "plt.ylabel('Количество пользователей', fontsize=12)\n",
    "plt.title('Распределение использованного траффика по тарифам \"Смарт\" и \"Ультра\"', fontsize=13)\n",
    "plt.grid()\n",
    "plt.legend()\n",
    "plt.show()"
   ]
  },
  {
   "cell_type": "code",
   "execution_count": 90,
   "metadata": {},
   "outputs": [
    {
     "data": {
      "text/plain": [
       "Text(0, 0.5, 'Тариф')"
      ]
     },
     "execution_count": 90,
     "metadata": {},
     "output_type": "execute_result"
    },
    {
     "data": {
      "image/png": "[encoded data removed]",
      "text/plain": [
       "<Figure size 720x360 with 1 Axes>"
      ]
     },
     "metadata": {
      "needs_background": "light"
     },
     "output_type": "display_data"
    }
   ],
   "source": [
    "plt.figure(figsize=(10,5))\n",
    "sns.boxplot(x='mb_used', y='tariff_name', data=df)\n",
    "plt.xlabel('Объем использованного траффика, мб', fontsize=12)\n",
    "plt.ylabel('Тариф', fontsize=12)"
   ]
  },
  {
   "cell_type": "markdown",
   "metadata": {},
   "source": [
    "#### Распределение выручки пользователей тарифов \"Смарт\" и \"Ультра\":"
   ]
  },
  {
   "cell_type": "code",
   "execution_count": 91,
   "metadata": {},
   "outputs": [
    {
     "data": {
      "image/png": "[encoded data removed]",
      "text/plain": [
       "<Figure size 720x360 with 1 Axes>"
      ]
     },
     "metadata": {
      "needs_background": "light"
     },
     "output_type": "display_data"
    }
   ],
   "source": [
    "smart_proceeds = df.query('tariff_name == \"smart\"')['proceeds']\n",
    "plt.figure(figsize=(10,5))\n",
    "plt.hist(smart_proceeds, label='\"Смарт\"', alpha=0.7, bins=20)\n",
    "plt.xlabel('Объем выручки пользователей тарифов, руб.', fontsize=12)\n",
    "plt.ylabel('Количество пользователей', fontsize=12)\n",
    "ultra_proceeds = df.query('tariff_name == \"ultra\"')['proceeds']\n",
    "plt.hist(ultra_proceeds, label='\"Ультра\"', alpha=0.7)\n",
    "plt.xlabel('Объем выручки пользователей тарифов, руб.', fontsize=12)\n",
    "plt.ylabel('Количество пользователей', fontsize=12)\n",
    "plt.title('Распределение выручки пользователей тарифов \"Смарт\" и \"Ультра\"', fontsize=13)\n",
    "plt.grid()\n",
    "plt.legend()\n",
    "plt.show()"
   ]
  },
  {
   "cell_type": "code",
   "execution_count": 92,
   "metadata": {},
   "outputs": [
    {
     "data": {
      "text/plain": [
       "Text(0, 0.5, 'Тариф')"
      ]
     },
     "execution_count": 92,
     "metadata": {},
     "output_type": "execute_result"
    },
    {
     "data": {
      "image/png": "[encoded data removed]",
      "text/plain": [
       "<Figure size 720x360 with 1 Axes>"
      ]
     },
     "metadata": {
      "needs_background": "light"
     },
     "output_type": "display_data"
    }
   ],
   "source": [
    "plt.figure(figsize=(10,5))\n",
    "sns.boxplot(x='proceeds', y='tariff_name', data=df)\n",
    "plt.xlabel('Объем выручки пользователей тарифов, руб.', fontsize=12)\n",
    "plt.ylabel('Тариф', fontsize=12)"
   ]
  },
  {
   "cell_type": "markdown",
   "metadata": {},
   "source": [
    "Рассчитаем средний объем выручки, дисперсию и стандартное отклонение пользователей тарифа \"Смарт\":"
   ]
  },
  {
   "cell_type": "code",
   "execution_count": 93,
   "metadata": {},
   "outputs": [
    {
     "name": "stdout",
     "output_type": "stream",
     "text": [
      "Средний объем выручки пользователей тарифа \"Смарт\": 1232.7515695067264\n",
      "Медиана объема выручки пользователей тарифа \"Смарт\": 959.0\n",
      "Дисперсия объема выручки пользователей тарифа \"Смарт\": 620156.5735170511\n",
      "Стандартное объема выручки пользователей тарифа \"Смарт\": 787.5002054076247\n"
     ]
    }
   ],
   "source": [
    "smart_proceeds_mean = users_smart['proceeds'].mean()\n",
    "smart_proceeds_median = users_smart['proceeds'].median()\n",
    "smart_proceeds_variance = np.var(users_smart['proceeds'], ddof=1)\n",
    "smart_proceeds_standard_dev = np.std(users_smart['proceeds'], ddof=1)\n",
    "\n",
    "print('Средний объем выручки пользователей тарифа \"Смарт\":', smart_proceeds_mean)\n",
    "print('Медиана объема выручки пользователей тарифа \"Смарт\":', smart_proceeds_median)\n",
    "print('Дисперсия объема выручки пользователей тарифа \"Смарт\":', smart_proceeds_variance)\n",
    "print('Стандартное объема выручки пользователей тарифа \"Смарт\":', smart_proceeds_standard_dev)"
   ]
  },
  {
   "cell_type": "markdown",
   "metadata": {},
   "source": [
    "Рассчитаем средний объем выручки, дисперсию и стандартное отклонение пользователей тарифа \"Ультра\":"
   ]
  },
  {
   "cell_type": "code",
   "execution_count": 94,
   "metadata": {},
   "outputs": [
    {
     "name": "stdout",
     "output_type": "stream",
     "text": [
      "Средний объем выручки пользователей тарифа \"Ультра\": 2060.350912778905\n",
      "Медиана объема выручки пользователей тарифа \"Ультра\": 1950.0\n",
      "Дисперсия объема выручки пользователей тарифа \"Ультра\": 126753.02191287155\n",
      "Стандартное объема выручки пользователей тарифа \"Ультра\": 356.02390637830985\n"
     ]
    }
   ],
   "source": [
    "ultra_proceeds_mean = users_ultra['proceeds'].mean()\n",
    "ultra_proceeds_median = users_ultra['proceeds'].median()\n",
    "ultra_proceeds_variance = np.var(users_ultra['proceeds'], ddof=1)\n",
    "ultra_proceeds_standard_dev = np.std(users_ultra['proceeds'], ddof=1)\n",
    "\n",
    "print('Средний объем выручки пользователей тарифа \"Ультра\":', ultra_proceeds_mean)\n",
    "print('Медиана объема выручки пользователей тарифа \"Ультра\":', ultra_proceeds_median)\n",
    "print('Дисперсия объема выручки пользователей тарифа \"Ультра\":', ultra_proceeds_variance)\n",
    "print('Стандартное объема выручки пользователей тарифа \"Ультра\":', ultra_proceeds_standard_dev)"
   ]
  },
  {
   "cell_type": "markdown",
   "metadata": {},
   "source": [
    "**Вывод**"
   ]
  },
  {
   "cell_type": "markdown",
   "metadata": {},
   "source": [
    "Исходя из полученных гистограмм и диаграмм размаха можно сделать вывод, что: \n",
    "1.\tпользователи тарифа \"Смарт\" в среднем проговаривают 421 минуту, тогда как пользователи тарифа \"Ультра\" проговаривают 518 минут (пользователи тарифа \"Ультра\" в среднем проговаривают на 97 минут больше);\n",
    "2.\tпользователи тарифа \"Смарт\" в среднем отправляют 28 сообщений, тогда как пользователи тарифа \"Ультра\" отправляют 38 сообщений (пользователи тарифа \"Ультра\" в среднем отправляют на 10 сообщений больше);\n",
    "3.\tпользователи тарифа \"Смарт\" в среднем используют 16529 мб траффика тогда как пользователи тарифа \"Ультра\" используют 19320 мб траффика (пользователи тарифа \"Ультра\" в среднем используют на 2971 мб траффика больше);\n",
    "4.\tпользователи тарифа \"Ультра\" используют пакет минут, включенных в тариф более распределенно, в остальном гистограммы пользователей \"Смарт\" и \"Ультра\" имеют схожий вид;\n",
    "5.\tпо построенным диаграммам размаха видно, что у пользователей тарифа \"Смарт\" гораздо больше выбросов, чем у пользователей тарифа \"Ультра\" – это означает, что пользователям тарифа \"Смарт\" в большей степени не хватает того объема минут, сообщений и траффика, что включены в пакет тарифа;\n",
    "6. средний объем выручки пользователей тарифного плана \"Ультра\" практически в два раза превышает средний объем выручки пользователей тарифного плана \"Смарт\" и составляет 2060 руб. против 1232 руб. соответственно;\n",
    "7. по построенной диаграмме размаха распределения объема выручки также видно, что пользователям тарифа \"Ультра\" в среднем достаточно того пакета минут, сообщений и траффика, что включены в стоимость абонентской платы, тогда как пользователи тарифа \"Смарт\" расходуют в среднем в два раза больше средств, размер ежемесячной платы по тарифу. "
   ]
  },
  {
   "cell_type": "markdown",
   "metadata": {},
   "source": [
    "## Шаг 4. Проверка гипотез"
   ]
  },
  {
   "cell_type": "markdown",
   "metadata": {},
   "source": [
    "### Cредняя выручка пользователей тарифов «Ультра» и «Смарт» различается"
   ]
  },
  {
   "cell_type": "code",
   "execution_count": 95,
   "metadata": {},
   "outputs": [],
   "source": [
    "from scipy import stats as st"
   ]
  },
  {
   "cell_type": "markdown",
   "metadata": {},
   "source": [
    "Сформулируем нулевую гипотезу **H₀** - средняя выручка пользователей тарифа \"Ультра\" равна средней выручке пользователей тарифа \"Смарт\".\n",
    "Альтернативная гипотеза **H₁** - средняя выручка пользователей тарифа \"Ультра\" и средняя выручка пользователей тарифа \"Смарт\" различаются."
   ]
  },
  {
   "cell_type": "markdown",
   "metadata": {},
   "source": [
    "Сформируем выборки со средней выручкой пользователей тарифов smart и ultra:"
   ]
  },
  {
   "cell_type": "code",
   "execution_count": 96,
   "metadata": {},
   "outputs": [
    {
     "data": {
      "text/html": [
       "<div>\n",
       "<style scoped>\n",
       "    .dataframe tbody tr th:only-of-type {\n",
       "        vertical-align: middle;\n",
       "    }\n",
       "\n",
       "    .dataframe tbody tr th {\n",
       "        vertical-align: top;\n",
       "    }\n",
       "\n",
       "    .dataframe thead th {\n",
       "        text-align: right;\n",
       "    }\n",
       "</style>\n",
       "<table border=\"1\" class=\"dataframe\">\n",
       "  <thead>\n",
       "    <tr style=\"text-align: right;\">\n",
       "      <th></th>\n",
       "      <th></th>\n",
       "      <th>calls_count</th>\n",
       "      <th>minutes_sum</th>\n",
       "      <th>messages_count</th>\n",
       "      <th>mb_used</th>\n",
       "      <th>city</th>\n",
       "      <th>tariff_name</th>\n",
       "      <th>proceeds</th>\n",
       "    </tr>\n",
       "    <tr>\n",
       "      <th>user_id</th>\n",
       "      <th>month</th>\n",
       "      <th></th>\n",
       "      <th></th>\n",
       "      <th></th>\n",
       "      <th></th>\n",
       "      <th></th>\n",
       "      <th></th>\n",
       "      <th></th>\n",
       "    </tr>\n",
       "  </thead>\n",
       "  <tbody>\n",
       "    <tr>\n",
       "      <td rowspan=\"5\" valign=\"top\">1000</td>\n",
       "      <td>5</td>\n",
       "      <td>17</td>\n",
       "      <td>159</td>\n",
       "      <td>22</td>\n",
       "      <td>2256</td>\n",
       "      <td>краснодар</td>\n",
       "      <td>ultra</td>\n",
       "      <td>1950</td>\n",
       "    </tr>\n",
       "    <tr>\n",
       "      <td>6</td>\n",
       "      <td>28</td>\n",
       "      <td>172</td>\n",
       "      <td>60</td>\n",
       "      <td>23257</td>\n",
       "      <td>краснодар</td>\n",
       "      <td>ultra</td>\n",
       "      <td>1950</td>\n",
       "    </tr>\n",
       "    <tr>\n",
       "      <td>7</td>\n",
       "      <td>41</td>\n",
       "      <td>340</td>\n",
       "      <td>75</td>\n",
       "      <td>14016</td>\n",
       "      <td>краснодар</td>\n",
       "      <td>ultra</td>\n",
       "      <td>1950</td>\n",
       "    </tr>\n",
       "    <tr>\n",
       "      <td>8</td>\n",
       "      <td>42</td>\n",
       "      <td>408</td>\n",
       "      <td>81</td>\n",
       "      <td>14070</td>\n",
       "      <td>краснодар</td>\n",
       "      <td>ultra</td>\n",
       "      <td>1950</td>\n",
       "    </tr>\n",
       "    <tr>\n",
       "      <td>9</td>\n",
       "      <td>46</td>\n",
       "      <td>466</td>\n",
       "      <td>57</td>\n",
       "      <td>14581</td>\n",
       "      <td>краснодар</td>\n",
       "      <td>ultra</td>\n",
       "      <td>1950</td>\n",
       "    </tr>\n",
       "  </tbody>\n",
       "</table>\n",
       "</div>"
      ],
      "text/plain": [
       "               calls_count  minutes_sum  messages_count  mb_used       city  \\\n",
       "user_id month                                                                 \n",
       "1000    5               17          159              22     2256  краснодар   \n",
       "        6               28          172              60    23257  краснодар   \n",
       "        7               41          340              75    14016  краснодар   \n",
       "        8               42          408              81    14070  краснодар   \n",
       "        9               46          466              57    14581  краснодар   \n",
       "\n",
       "              tariff_name  proceeds  \n",
       "user_id month                        \n",
       "1000    5           ultra      1950  \n",
       "        6           ultra      1950  \n",
       "        7           ultra      1950  \n",
       "        8           ultra      1950  \n",
       "        9           ultra      1950  "
      ]
     },
     "execution_count": 96,
     "metadata": {},
     "output_type": "execute_result"
    }
   ],
   "source": [
    "df.head()"
   ]
  },
  {
   "cell_type": "code",
   "execution_count": 97,
   "metadata": {},
   "outputs": [],
   "source": [
    "smart_proceeds = df.query('tariff_name == \"smart\"')['proceeds']\n",
    "ultra_proceeds = df.query('tariff_name == \"ultra\"')['proceeds']"
   ]
  },
  {
   "cell_type": "code",
   "execution_count": 98,
   "metadata": {},
   "outputs": [
    {
     "name": "stdout",
     "output_type": "stream",
     "text": [
      "p-значение:  2.1056553659194794e-296\n",
      "Отвергаем нулевую гипотезу\n"
     ]
    }
   ],
   "source": [
    "alpha = 0.05\n",
    "\n",
    "results = st.ttest_ind(smart_proceeds, ultra_proceeds, equal_var = False)\n",
    "\n",
    "print('p-значение: ', results.pvalue)\n",
    "\n",
    "if results.pvalue < alpha:\n",
    "    print(\"Отвергаем нулевую гипотезу\")\n",
    "else:\n",
    "    print(\"Не получилось отвергнуть нулевую гипотезу\") "
   ]
  },
  {
   "cell_type": "code",
   "execution_count": 99,
   "metadata": {},
   "outputs": [
    {
     "name": "stdout",
     "output_type": "stream",
     "text": [
      "Средняя выручка пользователей тарифа \"Смарт\": 1233 руб.\n",
      "Средняя выручка пользователей тарифа \"Ультра\": 2060 руб.\n",
      "Общая выручка пользователей тарифа \"Смарт\": 2749036 руб.\n",
      "Общая выручка пользователей тарифа \"Ультра\": 2031506 руб.\n"
     ]
    }
   ],
   "source": [
    "print('Средняя выручка пользователей тарифа \"Смарт\": {:.0f} руб.'.format(smart_proceeds.mean()))\n",
    "print('Средняя выручка пользователей тарифа \"Ультра\": {:.0f} руб.'.format(ultra_proceeds.mean()))\n",
    "print('Общая выручка пользователей тарифа \"Смарт\": {:.0f} руб.'.format(smart_proceeds.sum()))\n",
    "print('Общая выручка пользователей тарифа \"Ультра\": {:.0f} руб.'.format(ultra_proceeds.sum()))"
   ]
  },
  {
   "cell_type": "markdown",
   "metadata": {},
   "source": [
    "**Вывод**"
   ]
  },
  {
   "cell_type": "markdown",
   "metadata": {},
   "source": [
    "Для выбранного уровня значимости отвергаем нулевую гипотезу. Вывод — средняя выручка пользователей тарифа \"Ультра\" и средняя выручка пользователей тарифа \"Смарт\" различаются."
   ]
  },
  {
   "cell_type": "markdown",
   "metadata": {},
   "source": [
    "### Cредняя выручка пользователей из Москвы отличается от выручки пользователей из других регионов"
   ]
  },
  {
   "cell_type": "markdown",
   "metadata": {},
   "source": [
    "Сформулируем нулевую гипотезу **H₀** - средняя выручка пользователей из Москвы равна средней выручке пользователей из других регионов.\n",
    "Альтернативная гипотеза **H₁** - средняя выручка пользователей из Москвы и средняя выручка пользователей из других регионов различаются."
   ]
  },
  {
   "cell_type": "markdown",
   "metadata": {},
   "source": [
    "Сформируем выборки с выручкой пользователей из Москвы:"
   ]
  },
  {
   "cell_type": "code",
   "execution_count": 100,
   "metadata": {},
   "outputs": [],
   "source": [
    "df_Moscow = df.query('city == \"москва\"')['proceeds']"
   ]
  },
  {
   "cell_type": "markdown",
   "metadata": {},
   "source": [
    "И выборку с выручкой пользователей из других регионов:"
   ]
  },
  {
   "cell_type": "code",
   "execution_count": 101,
   "metadata": {},
   "outputs": [],
   "source": [
    "df_other_region = df.query('city != \"москва\"')['proceeds']"
   ]
  },
  {
   "cell_type": "code",
   "execution_count": 102,
   "metadata": {},
   "outputs": [
    {
     "name": "stdout",
     "output_type": "stream",
     "text": [
      "p-значение:  0.45142732216779324\n",
      "Не получилось отвергнуть нулевую гипотезу\n"
     ]
    }
   ],
   "source": [
    "alpha = 0.05\n",
    "\n",
    "results = st.ttest_ind(df_Moscow, df_other_region, equal_var = False)\n",
    "\n",
    "print('p-значение: ', results.pvalue)\n",
    "\n",
    "if results.pvalue < alpha:\n",
    "    print(\"Отвергаем нулевую гипотезу\")\n",
    "else:\n",
    "    print(\"Не получилось отвергнуть нулевую гипотезу\") "
   ]
  },
  {
   "cell_type": "markdown",
   "metadata": {},
   "source": [
    "**Вывод**"
   ]
  },
  {
   "cell_type": "markdown",
   "metadata": {},
   "source": [
    "Для выбранного уровня значимости отвергнуть нулевую гипотезу не получилось. Вывод — средняя выручка пользователей из Москвы равна средней выручке пользователей из других регионов."
   ]
  },
  {
   "cell_type": "markdown",
   "metadata": {},
   "source": [
    "## Шаг 5. Общий вывод"
   ]
  },
  {
   "cell_type": "markdown",
   "metadata": {},
   "source": [
    "В данной проектной работе для компании «Мегалайн» — федерального оператора сотовой связи, предварительный анализ тарифных планов «Смарт» и «Ультра». Были выполнены следующие этапы:\n",
    "\n",
    "1. Изучение файлов с данными и получение общей информации. На данном этапе было выдвинуто предположение, что: 38 клиентов прекратили пользоваться тарифом (услугами оператора); 8 клиентов не пользуются мобильной связью; 3 клиента не пользуются услугой мобильного интернета; 74 клиента не отправляют мобильные сообщения.\n",
    "\n",
    "2. Выполнена подготовка данных и произведены расчеты сделанных звонков и израсходованных минут, количества отправленных интернет-сообщений и израсходованного интернет-траффика для последующего анализ. Выполнено изменение типа данных в столбцах с датой, в таблицах calls и internet выполнено округление значений использованных минут и мб в большую сторону в соответствии с условиями тарификации мобильного оператора. Выполнена проверка таблиц на наличие дубликатов. Выполнено объединение таблиц с использованием метода merge() и рассчитана помесячная выручка с каждого пользователя.\n",
    "\n",
    "3. На этапе анализа полученных данных построены гистограммы и диаграммы размаха по информации о звонках, сообщениях и интернет-сессиях. Сделан вывод, что пользователи тарифного плана «Ультра» расходуют из пакета тарифа больше минут, сообщений и интернет-траффика. Пользователям тарифа «Смарт» в большей степени не хватает того объема минут, сообщений и траффика, что включены в пакет тарифа, чем пользователям тарифа «Ультра» - это также видно и по среднему значению выручки пользователей тарифа \"Смарт\".\n",
    "\n",
    "4. Проверена гипотеза о различии средней выручки пользователей тарифов «Ультра» и «Смарт», а также гипотеза о различии средней выручки пользователей из Москвы от выручки пользователей из других регионов. Сделаны выводы, что средняя выручка пользователей тарифа \"Ультра\" и средняя выручка пользователей тарифа \"Смарт\" различаются, однако средняя выручка пользователей из Москвы равна средней выручке пользователей из других регионов."
   ]
  },
  {
   "cell_type": "markdown",
   "metadata": {},
   "source": [
    "Общая выручка пользователей тарифа \"Смарт\", как наиболее доступного тарифа для клиентов оператора, превышает общую выручку пользователей тарифа \"Ультра\" в 1,2 раза. Однако, пользователи тарифа \"Ультра\" являются наиболее привлекательными для компании, поскольку каждый пользователь тарифа приносит в среднем в два раза больше выручки, чем пользователь тарифа \"Смарт\".\n",
    "\n",
    "**Рекомендация:**\n",
    "\n",
    "С учетом выполненной проектной работы и проведенного анализа предлагаю компании Мегалайи сосредоточиться на продвижении тарифа \"Ультра\". Тариф \"Смарт\" - самый популярный и доступный на настоящий момент тариф компании и благодаря базовому пакету минут, сообщений и траффика, а также с учетом его доступной стоимости, \"Смарт\" всегда найдет своих пользователей и без дополнительного продвижения. Однако, проведенный анализ показал, что у тарифа \"Смарт\" есть слабые места и многим пользователям его оказывается недостаточно - именно поэтому компании Мегалайн необходимо вложиться в продвижение тарифа \"Ультра\" - как наиболее перспективного тарифа, способного удовлетворить запросы большинства пользователей. И еще один дополнительный фактор в пользу тарифа \"Ультра\" - пользователь данного тарифа приносит в среднем в два раза больше выручки, чем пользователь тарифа \"Смарт\", а значит именно он более привлекателен для компании. Таким образом, продвигая тариф \"Ультра\" можно удовлетворить и потребности клиента и интересы самой компании Мегалайн."
   ]
  }
 ],
 "metadata": {
  "kernelspec": {
   "display_name": "Python 3",
   "language": "python",
   "name": "python3"
  },
  "language_info": {
   "codemirror_mode": {
    "name": "ipython",
    "version": 3
   },
   "file_extension": ".py",
   "mimetype": "text/x-python",
   "name": "python",
   "nbconvert_exporter": "python",
   "pygments_lexer": "ipython3",
   "version": "3.8.5"
  },
  "toc": {
   "base_numbering": 1,
   "nav_menu": {},
   "number_sections": true,
   "sideBar": true,
   "skip_h1_title": true,
   "title_cell": "Table of Contents",
   "title_sidebar": "Contents",
   "toc_cell": false,
   "toc_position": {},
   "toc_section_display": true,
   "toc_window_display": false
  }
 },
 "nbformat": 4,
 "nbformat_minor": 2
}
