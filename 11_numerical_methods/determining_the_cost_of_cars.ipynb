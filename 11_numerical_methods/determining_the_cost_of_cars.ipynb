{
 "cells": [
  {
   "cell_type": "markdown",
   "metadata": {
    "toc": true
   },
   "source": [
    "<h1>Содержание<span class=\"tocSkip\"></span></h1>\n",
    "<div class=\"toc\"><ul class=\"toc-item\"><li><span><a href=\"#Подготовка-данных\" data-toc-modified-id=\"Подготовка-данных-1\"><span class=\"toc-item-num\">1&nbsp;&nbsp;</span>Подготовка данных</a></span><ul class=\"toc-item\"><li><span><a href=\"#Обработка-пропущенных-значений\" data-toc-modified-id=\"Обработка-пропущенных-значений-1.1\"><span class=\"toc-item-num\">1.1&nbsp;&nbsp;</span>Обработка пропущенных значений</a></span></li><li><span><a href=\"#Распределение-численных-признаков-и-их-обработка\" data-toc-modified-id=\"Распределение-численных-признаков-и-их-обработка-1.2\"><span class=\"toc-item-num\">1.2&nbsp;&nbsp;</span>Распределение численных признаков и их обработка</a></span></li><li><span><a href=\"#Преобразование-категориальных-признаков\" data-toc-modified-id=\"Преобразование-категориальных-признаков-1.3\"><span class=\"toc-item-num\">1.3&nbsp;&nbsp;</span>Преобразование категориальных признаков</a></span></li><li><span><a href=\"#Разбивка-данных-на-выборки\" data-toc-modified-id=\"Разбивка-данных-на-выборки-1.4\"><span class=\"toc-item-num\">1.4&nbsp;&nbsp;</span>Разбивка данных на выборки</a></span></li><li><span><a href=\"#Масштабирование-признаков\" data-toc-modified-id=\"Масштабирование-признаков-1.5\"><span class=\"toc-item-num\">1.5&nbsp;&nbsp;</span>Масштабирование признаков</a></span></li><li><span><a href=\"#Вывод-по-этапу-1\" data-toc-modified-id=\"Вывод-по-этапу-1-1.6\"><span class=\"toc-item-num\">1.6&nbsp;&nbsp;</span>Вывод по этапу 1</a></span></li></ul></li><li><span><a href=\"#Обучение-моделей\" data-toc-modified-id=\"Обучение-моделей-2\"><span class=\"toc-item-num\">2&nbsp;&nbsp;</span>Обучение моделей</a></span><ul class=\"toc-item\"><li><span><a href=\"#Модель-LinearRegression\" data-toc-modified-id=\"Модель-LinearRegression-2.1\"><span class=\"toc-item-num\">2.1&nbsp;&nbsp;</span>Модель LinearRegression</a></span></li><li><span><a href=\"#Модель-XGBRegressor\" data-toc-modified-id=\"Модель-XGBRegressor-2.2\"><span class=\"toc-item-num\">2.2&nbsp;&nbsp;</span>Модель XGBRegressor</a></span></li><li><span><a href=\"#Модель-LGBMRegressor\" data-toc-modified-id=\"Модель-LGBMRegressor-2.3\"><span class=\"toc-item-num\">2.3&nbsp;&nbsp;</span>Модель LGBMRegressor</a></span></li><li><span><a href=\"#Модель-CatBoostRegressor\" data-toc-modified-id=\"Модель-CatBoostRegressor-2.4\"><span class=\"toc-item-num\">2.4&nbsp;&nbsp;</span>Модель CatBoostRegressor</a></span></li><li><span><a href=\"#Вывод-по-этапу-2\" data-toc-modified-id=\"Вывод-по-этапу-2-2.5\"><span class=\"toc-item-num\">2.5&nbsp;&nbsp;</span>Вывод по этапу 2</a></span></li></ul></li><li><span><a href=\"#Анализ-моделей\" data-toc-modified-id=\"Анализ-моделей-3\"><span class=\"toc-item-num\">3&nbsp;&nbsp;</span>Анализ моделей</a></span><ul class=\"toc-item\"><li><span><a href=\"#Проверка-выбранной-модели-на-тестовой-выборке\" data-toc-modified-id=\"Проверка-выбранной-модели-на-тестовой-выборке-3.1\"><span class=\"toc-item-num\">3.1&nbsp;&nbsp;</span>Проверка выбранной модели на тестовой выборке</a></span></li><li><span><a href=\"#Сравнение-выбранной-модели-с-константной\" data-toc-modified-id=\"Сравнение-выбранной-модели-с-константной-3.2\"><span class=\"toc-item-num\">3.2&nbsp;&nbsp;</span>Сравнение выбранной модели с константной</a></span></li></ul></li><li><span><a href=\"#Общий-вывод\" data-toc-modified-id=\"Общий-вывод-4\"><span class=\"toc-item-num\">4&nbsp;&nbsp;</span>Общий вывод</a></span></li><li><span><a href=\"#Чек-лист-проверки\" data-toc-modified-id=\"Чек-лист-проверки-5\"><span class=\"toc-item-num\">5&nbsp;&nbsp;</span>Чек-лист проверки</a></span></li></ul></div>"
   ]
  },
  {
   "cell_type": "markdown",
   "metadata": {},
   "source": [
    "# Определение стоимости автомобилей"
   ]
  },
  {
   "cell_type": "markdown",
   "metadata": {},
   "source": [
    "# Введение"
   ]
  },
  {
   "cell_type": "markdown",
   "metadata": {},
   "source": [
    "Сервис по продаже автомобилей с пробегом «Не бит, не крашен» разрабатывает приложение для привлечения новых клиентов. В нём можно быстро узнать рыночную стоимость своего автомобиля. В вашем распоряжении исторические данные: технические характеристики, комплектации и цены автомобилей. Вам нужно построить модель для определения стоимости. \n",
    "\n",
    "Заказчику важны:\n",
    "\n",
    "- качество предсказания;\n",
    "- скорость предсказания;\n",
    "- время обучения."
   ]
  },
  {
   "cell_type": "markdown",
   "metadata": {},
   "source": [
    "**План выполнения работы:**\n",
    "<div>1. Загрузка и подготовка данных;</div>\n",
    "<div>2. Обучение разных моделей с различными гиперпараметрами;</div>\n",
    "<div>3. Анализ скорости работы и качества моделей;</div>\n",
    "<div>4. Общий вывод.</div>"
   ]
  },
  {
   "cell_type": "markdown",
   "metadata": {},
   "source": [
    "<b>Описание данных:</b>\n",
    "\n",
    "<div><b>Признаки:</b></div>\n",
    "<div><li>DateCrawled — дата скачивания анкеты из базы</li></div>\n",
    "<div><li>VehicleType — тип автомобильного кузова</li></div>\n",
    "<div><li>RegistrationYear — год регистрации автомобиля</li></div>\n",
    "<div><li>Gearbox — тип коробки передач</li></div>\n",
    "<div><li>Power — мощность (л. с.)</li></div>\n",
    "<div><li>Model — модель автомобиля</li></div>\n",
    "<div><li>Kilometer — пробег (км)</li></div>\n",
    "<div><li>RegistrationMonth — месяц регистрации автомобиля</li></div>\n",
    "<div><li>FuelType — тип топлива</li></div>\n",
    "<div><li>Brand — марка автомобиля</li></div>\n",
    "<div><li>NotRepaired — была машина в ремонте или нет</li></div>\n",
    "<div><li>DateCreated — дата создания анкеты</li></div>\n",
    "<div><li>NumberOfPictures — количество фотографий автомобиля</li></div>\n",
    "<div><li>PostalCode — почтовый индекс владельца анкеты (пользователя)</li></div>\n",
    "<div><li>LastSeen — дата последней активности пользователя</li></div>\n",
    "\n",
    "<div><b>Целевой признак:</b></div>\n",
    "<div><li>Price — цена (евро)</li></div>"
   ]
  },
  {
   "cell_type": "markdown",
   "metadata": {},
   "source": [
    "## Подготовка данных"
   ]
  },
  {
   "cell_type": "code",
   "execution_count": 1,
   "metadata": {},
   "outputs": [],
   "source": [
    "import pandas as pd\n",
    "import numpy as np\n",
    "import matplotlib.pyplot as plt\n",
    "import seaborn as sns\n",
    "from sklearn.model_selection import train_test_split\n",
    "from sklearn.preprocessing import StandardScaler\n",
    "from sklearn.metrics import mean_squared_error\n",
    "from sklearn.linear_model import LinearRegression\n",
    "from catboost import CatBoostRegressor\n",
    "import lightgbm as lgb\n",
    "from lightgbm import LGBMRegressor\n",
    "from xgboost import XGBRegressor\n",
    "import warnings\n",
    "warnings.filterwarnings('ignore')\n",
    "import time\n",
    "from sklearn.dummy import DummyRegressor"
   ]
  },
  {
   "cell_type": "markdown",
   "metadata": {},
   "source": [
    "Выполним загрузку данных по продажам автомобилей с пробегом и выведем первые 10 строк таблицы на экран:"
   ]
  },
  {
   "cell_type": "code",
   "execution_count": 2,
   "metadata": {},
   "outputs": [],
   "source": [
    "data = pd.read_csv('/datasets/autos.csv')"
   ]
  },
  {
   "cell_type": "code",
   "execution_count": 3,
   "metadata": {},
   "outputs": [
    {
     "data": {
      "text/html": [
       "<div>\n",
       "<style scoped>\n",
       "    .dataframe tbody tr th:only-of-type {\n",
       "        vertical-align: middle;\n",
       "    }\n",
       "\n",
       "    .dataframe tbody tr th {\n",
       "        vertical-align: top;\n",
       "    }\n",
       "\n",
       "    .dataframe thead th {\n",
       "        text-align: right;\n",
       "    }\n",
       "</style>\n",
       "<table border=\"1\" class=\"dataframe\">\n",
       "  <thead>\n",
       "    <tr style=\"text-align: right;\">\n",
       "      <th></th>\n",
       "      <th>DateCrawled</th>\n",
       "      <th>Price</th>\n",
       "      <th>VehicleType</th>\n",
       "      <th>RegistrationYear</th>\n",
       "      <th>Gearbox</th>\n",
       "      <th>Power</th>\n",
       "      <th>Model</th>\n",
       "      <th>Kilometer</th>\n",
       "      <th>RegistrationMonth</th>\n",
       "      <th>FuelType</th>\n",
       "      <th>Brand</th>\n",
       "      <th>NotRepaired</th>\n",
       "      <th>DateCreated</th>\n",
       "      <th>NumberOfPictures</th>\n",
       "      <th>PostalCode</th>\n",
       "      <th>LastSeen</th>\n",
       "    </tr>\n",
       "  </thead>\n",
       "  <tbody>\n",
       "    <tr>\n",
       "      <td>0</td>\n",
       "      <td>2016-03-24 11:52:17</td>\n",
       "      <td>480</td>\n",
       "      <td>NaN</td>\n",
       "      <td>1993</td>\n",
       "      <td>manual</td>\n",
       "      <td>0</td>\n",
       "      <td>golf</td>\n",
       "      <td>150000</td>\n",
       "      <td>0</td>\n",
       "      <td>petrol</td>\n",
       "      <td>volkswagen</td>\n",
       "      <td>NaN</td>\n",
       "      <td>2016-03-24 00:00:00</td>\n",
       "      <td>0</td>\n",
       "      <td>70435</td>\n",
       "      <td>2016-04-07 03:16:57</td>\n",
       "    </tr>\n",
       "    <tr>\n",
       "      <td>1</td>\n",
       "      <td>2016-03-24 10:58:45</td>\n",
       "      <td>18300</td>\n",
       "      <td>coupe</td>\n",
       "      <td>2011</td>\n",
       "      <td>manual</td>\n",
       "      <td>190</td>\n",
       "      <td>NaN</td>\n",
       "      <td>125000</td>\n",
       "      <td>5</td>\n",
       "      <td>gasoline</td>\n",
       "      <td>audi</td>\n",
       "      <td>yes</td>\n",
       "      <td>2016-03-24 00:00:00</td>\n",
       "      <td>0</td>\n",
       "      <td>66954</td>\n",
       "      <td>2016-04-07 01:46:50</td>\n",
       "    </tr>\n",
       "    <tr>\n",
       "      <td>2</td>\n",
       "      <td>2016-03-14 12:52:21</td>\n",
       "      <td>9800</td>\n",
       "      <td>suv</td>\n",
       "      <td>2004</td>\n",
       "      <td>auto</td>\n",
       "      <td>163</td>\n",
       "      <td>grand</td>\n",
       "      <td>125000</td>\n",
       "      <td>8</td>\n",
       "      <td>gasoline</td>\n",
       "      <td>jeep</td>\n",
       "      <td>NaN</td>\n",
       "      <td>2016-03-14 00:00:00</td>\n",
       "      <td>0</td>\n",
       "      <td>90480</td>\n",
       "      <td>2016-04-05 12:47:46</td>\n",
       "    </tr>\n",
       "    <tr>\n",
       "      <td>3</td>\n",
       "      <td>2016-03-17 16:54:04</td>\n",
       "      <td>1500</td>\n",
       "      <td>small</td>\n",
       "      <td>2001</td>\n",
       "      <td>manual</td>\n",
       "      <td>75</td>\n",
       "      <td>golf</td>\n",
       "      <td>150000</td>\n",
       "      <td>6</td>\n",
       "      <td>petrol</td>\n",
       "      <td>volkswagen</td>\n",
       "      <td>no</td>\n",
       "      <td>2016-03-17 00:00:00</td>\n",
       "      <td>0</td>\n",
       "      <td>91074</td>\n",
       "      <td>2016-03-17 17:40:17</td>\n",
       "    </tr>\n",
       "    <tr>\n",
       "      <td>4</td>\n",
       "      <td>2016-03-31 17:25:20</td>\n",
       "      <td>3600</td>\n",
       "      <td>small</td>\n",
       "      <td>2008</td>\n",
       "      <td>manual</td>\n",
       "      <td>69</td>\n",
       "      <td>fabia</td>\n",
       "      <td>90000</td>\n",
       "      <td>7</td>\n",
       "      <td>gasoline</td>\n",
       "      <td>skoda</td>\n",
       "      <td>no</td>\n",
       "      <td>2016-03-31 00:00:00</td>\n",
       "      <td>0</td>\n",
       "      <td>60437</td>\n",
       "      <td>2016-04-06 10:17:21</td>\n",
       "    </tr>\n",
       "    <tr>\n",
       "      <td>5</td>\n",
       "      <td>2016-04-04 17:36:23</td>\n",
       "      <td>650</td>\n",
       "      <td>sedan</td>\n",
       "      <td>1995</td>\n",
       "      <td>manual</td>\n",
       "      <td>102</td>\n",
       "      <td>3er</td>\n",
       "      <td>150000</td>\n",
       "      <td>10</td>\n",
       "      <td>petrol</td>\n",
       "      <td>bmw</td>\n",
       "      <td>yes</td>\n",
       "      <td>2016-04-04 00:00:00</td>\n",
       "      <td>0</td>\n",
       "      <td>33775</td>\n",
       "      <td>2016-04-06 19:17:07</td>\n",
       "    </tr>\n",
       "    <tr>\n",
       "      <td>6</td>\n",
       "      <td>2016-04-01 20:48:51</td>\n",
       "      <td>2200</td>\n",
       "      <td>convertible</td>\n",
       "      <td>2004</td>\n",
       "      <td>manual</td>\n",
       "      <td>109</td>\n",
       "      <td>2_reihe</td>\n",
       "      <td>150000</td>\n",
       "      <td>8</td>\n",
       "      <td>petrol</td>\n",
       "      <td>peugeot</td>\n",
       "      <td>no</td>\n",
       "      <td>2016-04-01 00:00:00</td>\n",
       "      <td>0</td>\n",
       "      <td>67112</td>\n",
       "      <td>2016-04-05 18:18:39</td>\n",
       "    </tr>\n",
       "    <tr>\n",
       "      <td>7</td>\n",
       "      <td>2016-03-21 18:54:38</td>\n",
       "      <td>0</td>\n",
       "      <td>sedan</td>\n",
       "      <td>1980</td>\n",
       "      <td>manual</td>\n",
       "      <td>50</td>\n",
       "      <td>other</td>\n",
       "      <td>40000</td>\n",
       "      <td>7</td>\n",
       "      <td>petrol</td>\n",
       "      <td>volkswagen</td>\n",
       "      <td>no</td>\n",
       "      <td>2016-03-21 00:00:00</td>\n",
       "      <td>0</td>\n",
       "      <td>19348</td>\n",
       "      <td>2016-03-25 16:47:58</td>\n",
       "    </tr>\n",
       "    <tr>\n",
       "      <td>8</td>\n",
       "      <td>2016-04-04 23:42:13</td>\n",
       "      <td>14500</td>\n",
       "      <td>bus</td>\n",
       "      <td>2014</td>\n",
       "      <td>manual</td>\n",
       "      <td>125</td>\n",
       "      <td>c_max</td>\n",
       "      <td>30000</td>\n",
       "      <td>8</td>\n",
       "      <td>petrol</td>\n",
       "      <td>ford</td>\n",
       "      <td>NaN</td>\n",
       "      <td>2016-04-04 00:00:00</td>\n",
       "      <td>0</td>\n",
       "      <td>94505</td>\n",
       "      <td>2016-04-04 23:42:13</td>\n",
       "    </tr>\n",
       "    <tr>\n",
       "      <td>9</td>\n",
       "      <td>2016-03-17 10:53:50</td>\n",
       "      <td>999</td>\n",
       "      <td>small</td>\n",
       "      <td>1998</td>\n",
       "      <td>manual</td>\n",
       "      <td>101</td>\n",
       "      <td>golf</td>\n",
       "      <td>150000</td>\n",
       "      <td>0</td>\n",
       "      <td>NaN</td>\n",
       "      <td>volkswagen</td>\n",
       "      <td>NaN</td>\n",
       "      <td>2016-03-17 00:00:00</td>\n",
       "      <td>0</td>\n",
       "      <td>27472</td>\n",
       "      <td>2016-03-31 17:17:06</td>\n",
       "    </tr>\n",
       "  </tbody>\n",
       "</table>\n",
       "</div>"
      ],
      "text/plain": [
       "           DateCrawled  Price  VehicleType  RegistrationYear Gearbox  Power  \\\n",
       "0  2016-03-24 11:52:17    480          NaN              1993  manual      0   \n",
       "1  2016-03-24 10:58:45  18300        coupe              2011  manual    190   \n",
       "2  2016-03-14 12:52:21   9800          suv              2004    auto    163   \n",
       "3  2016-03-17 16:54:04   1500        small              2001  manual     75   \n",
       "4  2016-03-31 17:25:20   3600        small              2008  manual     69   \n",
       "5  2016-04-04 17:36:23    650        sedan              1995  manual    102   \n",
       "6  2016-04-01 20:48:51   2200  convertible              2004  manual    109   \n",
       "7  2016-03-21 18:54:38      0        sedan              1980  manual     50   \n",
       "8  2016-04-04 23:42:13  14500          bus              2014  manual    125   \n",
       "9  2016-03-17 10:53:50    999        small              1998  manual    101   \n",
       "\n",
       "     Model  Kilometer  RegistrationMonth  FuelType       Brand NotRepaired  \\\n",
       "0     golf     150000                  0    petrol  volkswagen         NaN   \n",
       "1      NaN     125000                  5  gasoline        audi         yes   \n",
       "2    grand     125000                  8  gasoline        jeep         NaN   \n",
       "3     golf     150000                  6    petrol  volkswagen          no   \n",
       "4    fabia      90000                  7  gasoline       skoda          no   \n",
       "5      3er     150000                 10    petrol         bmw         yes   \n",
       "6  2_reihe     150000                  8    petrol     peugeot          no   \n",
       "7    other      40000                  7    petrol  volkswagen          no   \n",
       "8    c_max      30000                  8    petrol        ford         NaN   \n",
       "9     golf     150000                  0       NaN  volkswagen         NaN   \n",
       "\n",
       "           DateCreated  NumberOfPictures  PostalCode             LastSeen  \n",
       "0  2016-03-24 00:00:00                 0       70435  2016-04-07 03:16:57  \n",
       "1  2016-03-24 00:00:00                 0       66954  2016-04-07 01:46:50  \n",
       "2  2016-03-14 00:00:00                 0       90480  2016-04-05 12:47:46  \n",
       "3  2016-03-17 00:00:00                 0       91074  2016-03-17 17:40:17  \n",
       "4  2016-03-31 00:00:00                 0       60437  2016-04-06 10:17:21  \n",
       "5  2016-04-04 00:00:00                 0       33775  2016-04-06 19:17:07  \n",
       "6  2016-04-01 00:00:00                 0       67112  2016-04-05 18:18:39  \n",
       "7  2016-03-21 00:00:00                 0       19348  2016-03-25 16:47:58  \n",
       "8  2016-04-04 00:00:00                 0       94505  2016-04-04 23:42:13  \n",
       "9  2016-03-17 00:00:00                 0       27472  2016-03-31 17:17:06  "
      ]
     },
     "execution_count": 3,
     "metadata": {},
     "output_type": "execute_result"
    }
   ],
   "source": [
    "data.head(10)"
   ]
  },
  {
   "cell_type": "markdown",
   "metadata": {},
   "source": [
    "Посмотрим основные данные о таблице:"
   ]
  },
  {
   "cell_type": "code",
   "execution_count": 4,
   "metadata": {},
   "outputs": [
    {
     "name": "stdout",
     "output_type": "stream",
     "text": [
      "<class 'pandas.core.frame.DataFrame'>\n",
      "RangeIndex: 354369 entries, 0 to 354368\n",
      "Data columns (total 16 columns):\n",
      "DateCrawled          354369 non-null object\n",
      "Price                354369 non-null int64\n",
      "VehicleType          316879 non-null object\n",
      "RegistrationYear     354369 non-null int64\n",
      "Gearbox              334536 non-null object\n",
      "Power                354369 non-null int64\n",
      "Model                334664 non-null object\n",
      "Kilometer            354369 non-null int64\n",
      "RegistrationMonth    354369 non-null int64\n",
      "FuelType             321474 non-null object\n",
      "Brand                354369 non-null object\n",
      "NotRepaired          283215 non-null object\n",
      "DateCreated          354369 non-null object\n",
      "NumberOfPictures     354369 non-null int64\n",
      "PostalCode           354369 non-null int64\n",
      "LastSeen             354369 non-null object\n",
      "dtypes: int64(7), object(9)\n",
      "memory usage: 43.3+ MB\n"
     ]
    }
   ],
   "source": [
    "data.info()"
   ]
  },
  {
   "cell_type": "markdown",
   "metadata": {},
   "source": [
    "Датасет data состоит из 16 столбцов (признаков) и 354369 строк (объектов). В датасете имеются пропущенные значения.\n",
    "\n",
    "Признаки как количественные, так и качественные. Все количественные признаки имеют целочисленный тип данных."
   ]
  },
  {
   "cell_type": "markdown",
   "metadata": {},
   "source": [
    "Проверим таблицу с данными на наличие дубликатов:"
   ]
  },
  {
   "cell_type": "code",
   "execution_count": 5,
   "metadata": {},
   "outputs": [
    {
     "data": {
      "text/plain": [
       "4"
      ]
     },
     "execution_count": 5,
     "metadata": {},
     "output_type": "execute_result"
    }
   ],
   "source": [
    "data.duplicated().sum()"
   ]
  },
  {
   "cell_type": "markdown",
   "metadata": {},
   "source": [
    "Учитывая, что доля повторяющихся значений ничтожно мала, исключим дубликаты из датасета:"
   ]
  },
  {
   "cell_type": "code",
   "execution_count": 6,
   "metadata": {},
   "outputs": [],
   "source": [
    "data.drop_duplicates(inplace=True)\n",
    "data.reset_index(inplace=True, drop=True)"
   ]
  },
  {
   "cell_type": "code",
   "execution_count": 7,
   "metadata": {},
   "outputs": [
    {
     "data": {
      "text/plain": [
       "0"
      ]
     },
     "execution_count": 7,
     "metadata": {},
     "output_type": "execute_result"
    }
   ],
   "source": [
    "data.duplicated().sum()"
   ]
  },
  {
   "cell_type": "markdown",
   "metadata": {},
   "source": [
    "**Определение избыточных признаков для модели обучения**"
   ]
  },
  {
   "cell_type": "markdown",
   "metadata": {},
   "source": [
    "Полагаю, что для обучения модели не имеют значения следующие признаки:\n",
    "<div><li>DateCrawled — дата скачивания анкеты из базы</li></div>\n",
    "<div><li>RegistrationMonth — месяц регистрации автомобиля</li></div>\n",
    "<div><li>DateCreated — дата создания анкеты</li></div>\n",
    "<div><li>PostalCode — почтовый индекс владельца анкеты (пользователя)</li></div>\n",
    "<div><li>LastSeen — дата последней активности пользователя</li></div>"
   ]
  },
  {
   "cell_type": "markdown",
   "metadata": {},
   "source": [
    "Удалим лишние признаки из датасета:"
   ]
  },
  {
   "cell_type": "code",
   "execution_count": 8,
   "metadata": {},
   "outputs": [
    {
     "data": {
      "text/html": [
       "<div>\n",
       "<style scoped>\n",
       "    .dataframe tbody tr th:only-of-type {\n",
       "        vertical-align: middle;\n",
       "    }\n",
       "\n",
       "    .dataframe tbody tr th {\n",
       "        vertical-align: top;\n",
       "    }\n",
       "\n",
       "    .dataframe thead th {\n",
       "        text-align: right;\n",
       "    }\n",
       "</style>\n",
       "<table border=\"1\" class=\"dataframe\">\n",
       "  <thead>\n",
       "    <tr style=\"text-align: right;\">\n",
       "      <th></th>\n",
       "      <th>Price</th>\n",
       "      <th>VehicleType</th>\n",
       "      <th>RegistrationYear</th>\n",
       "      <th>Gearbox</th>\n",
       "      <th>Power</th>\n",
       "      <th>Model</th>\n",
       "      <th>Kilometer</th>\n",
       "      <th>FuelType</th>\n",
       "      <th>Brand</th>\n",
       "      <th>NotRepaired</th>\n",
       "      <th>NumberOfPictures</th>\n",
       "    </tr>\n",
       "  </thead>\n",
       "  <tbody>\n",
       "    <tr>\n",
       "      <td>0</td>\n",
       "      <td>480</td>\n",
       "      <td>NaN</td>\n",
       "      <td>1993</td>\n",
       "      <td>manual</td>\n",
       "      <td>0</td>\n",
       "      <td>golf</td>\n",
       "      <td>150000</td>\n",
       "      <td>petrol</td>\n",
       "      <td>volkswagen</td>\n",
       "      <td>NaN</td>\n",
       "      <td>0</td>\n",
       "    </tr>\n",
       "    <tr>\n",
       "      <td>1</td>\n",
       "      <td>18300</td>\n",
       "      <td>coupe</td>\n",
       "      <td>2011</td>\n",
       "      <td>manual</td>\n",
       "      <td>190</td>\n",
       "      <td>NaN</td>\n",
       "      <td>125000</td>\n",
       "      <td>gasoline</td>\n",
       "      <td>audi</td>\n",
       "      <td>yes</td>\n",
       "      <td>0</td>\n",
       "    </tr>\n",
       "    <tr>\n",
       "      <td>2</td>\n",
       "      <td>9800</td>\n",
       "      <td>suv</td>\n",
       "      <td>2004</td>\n",
       "      <td>auto</td>\n",
       "      <td>163</td>\n",
       "      <td>grand</td>\n",
       "      <td>125000</td>\n",
       "      <td>gasoline</td>\n",
       "      <td>jeep</td>\n",
       "      <td>NaN</td>\n",
       "      <td>0</td>\n",
       "    </tr>\n",
       "    <tr>\n",
       "      <td>3</td>\n",
       "      <td>1500</td>\n",
       "      <td>small</td>\n",
       "      <td>2001</td>\n",
       "      <td>manual</td>\n",
       "      <td>75</td>\n",
       "      <td>golf</td>\n",
       "      <td>150000</td>\n",
       "      <td>petrol</td>\n",
       "      <td>volkswagen</td>\n",
       "      <td>no</td>\n",
       "      <td>0</td>\n",
       "    </tr>\n",
       "    <tr>\n",
       "      <td>4</td>\n",
       "      <td>3600</td>\n",
       "      <td>small</td>\n",
       "      <td>2008</td>\n",
       "      <td>manual</td>\n",
       "      <td>69</td>\n",
       "      <td>fabia</td>\n",
       "      <td>90000</td>\n",
       "      <td>gasoline</td>\n",
       "      <td>skoda</td>\n",
       "      <td>no</td>\n",
       "      <td>0</td>\n",
       "    </tr>\n",
       "  </tbody>\n",
       "</table>\n",
       "</div>"
      ],
      "text/plain": [
       "   Price VehicleType  RegistrationYear Gearbox  Power  Model  Kilometer  \\\n",
       "0    480         NaN              1993  manual      0   golf     150000   \n",
       "1  18300       coupe              2011  manual    190    NaN     125000   \n",
       "2   9800         suv              2004    auto    163  grand     125000   \n",
       "3   1500       small              2001  manual     75   golf     150000   \n",
       "4   3600       small              2008  manual     69  fabia      90000   \n",
       "\n",
       "   FuelType       Brand NotRepaired  NumberOfPictures  \n",
       "0    petrol  volkswagen         NaN                 0  \n",
       "1  gasoline        audi         yes                 0  \n",
       "2  gasoline        jeep         NaN                 0  \n",
       "3    petrol  volkswagen          no                 0  \n",
       "4  gasoline       skoda          no                 0  "
      ]
     },
     "execution_count": 8,
     "metadata": {},
     "output_type": "execute_result"
    }
   ],
   "source": [
    "data = data.drop(['DateCrawled', 'RegistrationMonth', 'DateCreated', 'PostalCode', 'LastSeen'], axis=1)\n",
    "data.head(5)"
   ]
  },
  {
   "cell_type": "markdown",
   "metadata": {},
   "source": [
    "### Обработка пропущенных значений"
   ]
  },
  {
   "cell_type": "markdown",
   "metadata": {},
   "source": [
    "Напишем формулу для подсчета количества пропущенных значений:"
   ]
  },
  {
   "cell_type": "code",
   "execution_count": 9,
   "metadata": {},
   "outputs": [],
   "source": [
    "def isna_sum(data):\n",
    "    isna = data.isna().sum()\n",
    "    isna_percent = round((100 * data.isna().sum() / len(data)), 2)\n",
    "    table = pd.concat([isna, isna_percent], axis=1)\n",
    "    table = table.rename(columns = {0 : 'total_nan', 1 : 'percent'})\n",
    "    return table"
   ]
  },
  {
   "cell_type": "code",
   "execution_count": 10,
   "metadata": {},
   "outputs": [
    {
     "data": {
      "text/html": [
       "<div>\n",
       "<style scoped>\n",
       "    .dataframe tbody tr th:only-of-type {\n",
       "        vertical-align: middle;\n",
       "    }\n",
       "\n",
       "    .dataframe tbody tr th {\n",
       "        vertical-align: top;\n",
       "    }\n",
       "\n",
       "    .dataframe thead th {\n",
       "        text-align: right;\n",
       "    }\n",
       "</style>\n",
       "<table border=\"1\" class=\"dataframe\">\n",
       "  <thead>\n",
       "    <tr style=\"text-align: right;\">\n",
       "      <th></th>\n",
       "      <th>total_nan</th>\n",
       "      <th>percent</th>\n",
       "    </tr>\n",
       "  </thead>\n",
       "  <tbody>\n",
       "    <tr>\n",
       "      <td>Price</td>\n",
       "      <td>0</td>\n",
       "      <td>0.00</td>\n",
       "    </tr>\n",
       "    <tr>\n",
       "      <td>VehicleType</td>\n",
       "      <td>37490</td>\n",
       "      <td>10.58</td>\n",
       "    </tr>\n",
       "    <tr>\n",
       "      <td>RegistrationYear</td>\n",
       "      <td>0</td>\n",
       "      <td>0.00</td>\n",
       "    </tr>\n",
       "    <tr>\n",
       "      <td>Gearbox</td>\n",
       "      <td>19833</td>\n",
       "      <td>5.60</td>\n",
       "    </tr>\n",
       "    <tr>\n",
       "      <td>Power</td>\n",
       "      <td>0</td>\n",
       "      <td>0.00</td>\n",
       "    </tr>\n",
       "    <tr>\n",
       "      <td>Model</td>\n",
       "      <td>19705</td>\n",
       "      <td>5.56</td>\n",
       "    </tr>\n",
       "    <tr>\n",
       "      <td>Kilometer</td>\n",
       "      <td>0</td>\n",
       "      <td>0.00</td>\n",
       "    </tr>\n",
       "    <tr>\n",
       "      <td>FuelType</td>\n",
       "      <td>32895</td>\n",
       "      <td>9.28</td>\n",
       "    </tr>\n",
       "    <tr>\n",
       "      <td>Brand</td>\n",
       "      <td>0</td>\n",
       "      <td>0.00</td>\n",
       "    </tr>\n",
       "    <tr>\n",
       "      <td>NotRepaired</td>\n",
       "      <td>71154</td>\n",
       "      <td>20.08</td>\n",
       "    </tr>\n",
       "    <tr>\n",
       "      <td>NumberOfPictures</td>\n",
       "      <td>0</td>\n",
       "      <td>0.00</td>\n",
       "    </tr>\n",
       "  </tbody>\n",
       "</table>\n",
       "</div>"
      ],
      "text/plain": [
       "                  total_nan  percent\n",
       "Price                     0     0.00\n",
       "VehicleType           37490    10.58\n",
       "RegistrationYear          0     0.00\n",
       "Gearbox               19833     5.60\n",
       "Power                     0     0.00\n",
       "Model                 19705     5.56\n",
       "Kilometer                 0     0.00\n",
       "FuelType              32895     9.28\n",
       "Brand                     0     0.00\n",
       "NotRepaired           71154    20.08\n",
       "NumberOfPictures          0     0.00"
      ]
     },
     "execution_count": 10,
     "metadata": {},
     "output_type": "execute_result"
    }
   ],
   "source": [
    "isna_sum(data)"
   ]
  },
  {
   "cell_type": "markdown",
   "metadata": {},
   "source": [
    "Доля признаков с пропусками составляет от 5 до 20 %, что достаточно много. Также стоит отметить, что все признаки с пропущенными значениями 'VehicleType', 'Gearbox', 'Model', 'FuelType', 'NotRepaired' категориальные. Кроме того, даже одинаковые модели автомобилей могут иметь различный тип кузова, коробку передач, тип топлива и иную комплектацию, поэтому достоверно восстановить данные пропуски не получится.\n",
    "\n",
    "Таким образом, заполним пропущенные значения категорией 'unknown', которая будет обозначать отсутствие точных сведений."
   ]
  },
  {
   "cell_type": "code",
   "execution_count": 11,
   "metadata": {},
   "outputs": [],
   "source": [
    "data.fillna('unknown', inplace=True)"
   ]
  },
  {
   "cell_type": "code",
   "execution_count": 12,
   "metadata": {},
   "outputs": [
    {
     "name": "stdout",
     "output_type": "stream",
     "text": [
      "<class 'pandas.core.frame.DataFrame'>\n",
      "RangeIndex: 354365 entries, 0 to 354364\n",
      "Data columns (total 11 columns):\n",
      "Price               354365 non-null int64\n",
      "VehicleType         354365 non-null object\n",
      "RegistrationYear    354365 non-null int64\n",
      "Gearbox             354365 non-null object\n",
      "Power               354365 non-null int64\n",
      "Model               354365 non-null object\n",
      "Kilometer           354365 non-null int64\n",
      "FuelType            354365 non-null object\n",
      "Brand               354365 non-null object\n",
      "NotRepaired         354365 non-null object\n",
      "NumberOfPictures    354365 non-null int64\n",
      "dtypes: int64(5), object(6)\n",
      "memory usage: 29.7+ MB\n"
     ]
    }
   ],
   "source": [
    "data.info()"
   ]
  },
  {
   "cell_type": "markdown",
   "metadata": {},
   "source": [
    "### Распределение численных признаков и их обработка"
   ]
  },
  {
   "cell_type": "code",
   "execution_count": 13,
   "metadata": {},
   "outputs": [
    {
     "data": {
      "text/html": [
       "<div>\n",
       "<style scoped>\n",
       "    .dataframe tbody tr th:only-of-type {\n",
       "        vertical-align: middle;\n",
       "    }\n",
       "\n",
       "    .dataframe tbody tr th {\n",
       "        vertical-align: top;\n",
       "    }\n",
       "\n",
       "    .dataframe thead th {\n",
       "        text-align: right;\n",
       "    }\n",
       "</style>\n",
       "<table border=\"1\" class=\"dataframe\">\n",
       "  <thead>\n",
       "    <tr style=\"text-align: right;\">\n",
       "      <th></th>\n",
       "      <th>Price</th>\n",
       "      <th>RegistrationYear</th>\n",
       "      <th>Power</th>\n",
       "      <th>Kilometer</th>\n",
       "      <th>NumberOfPictures</th>\n",
       "    </tr>\n",
       "  </thead>\n",
       "  <tbody>\n",
       "    <tr>\n",
       "      <td>count</td>\n",
       "      <td>354365.000000</td>\n",
       "      <td>354365.000000</td>\n",
       "      <td>354365.000000</td>\n",
       "      <td>354365.000000</td>\n",
       "      <td>354365.0</td>\n",
       "    </tr>\n",
       "    <tr>\n",
       "      <td>mean</td>\n",
       "      <td>4416.679830</td>\n",
       "      <td>2004.234481</td>\n",
       "      <td>110.093816</td>\n",
       "      <td>128211.363989</td>\n",
       "      <td>0.0</td>\n",
       "    </tr>\n",
       "    <tr>\n",
       "      <td>std</td>\n",
       "      <td>4514.176349</td>\n",
       "      <td>90.228466</td>\n",
       "      <td>189.851330</td>\n",
       "      <td>37905.083858</td>\n",
       "      <td>0.0</td>\n",
       "    </tr>\n",
       "    <tr>\n",
       "      <td>min</td>\n",
       "      <td>0.000000</td>\n",
       "      <td>1000.000000</td>\n",
       "      <td>0.000000</td>\n",
       "      <td>5000.000000</td>\n",
       "      <td>0.0</td>\n",
       "    </tr>\n",
       "    <tr>\n",
       "      <td>25%</td>\n",
       "      <td>1050.000000</td>\n",
       "      <td>1999.000000</td>\n",
       "      <td>69.000000</td>\n",
       "      <td>125000.000000</td>\n",
       "      <td>0.0</td>\n",
       "    </tr>\n",
       "    <tr>\n",
       "      <td>50%</td>\n",
       "      <td>2700.000000</td>\n",
       "      <td>2003.000000</td>\n",
       "      <td>105.000000</td>\n",
       "      <td>150000.000000</td>\n",
       "      <td>0.0</td>\n",
       "    </tr>\n",
       "    <tr>\n",
       "      <td>75%</td>\n",
       "      <td>6400.000000</td>\n",
       "      <td>2008.000000</td>\n",
       "      <td>143.000000</td>\n",
       "      <td>150000.000000</td>\n",
       "      <td>0.0</td>\n",
       "    </tr>\n",
       "    <tr>\n",
       "      <td>max</td>\n",
       "      <td>20000.000000</td>\n",
       "      <td>9999.000000</td>\n",
       "      <td>20000.000000</td>\n",
       "      <td>150000.000000</td>\n",
       "      <td>0.0</td>\n",
       "    </tr>\n",
       "  </tbody>\n",
       "</table>\n",
       "</div>"
      ],
      "text/plain": [
       "               Price  RegistrationYear          Power      Kilometer  \\\n",
       "count  354365.000000     354365.000000  354365.000000  354365.000000   \n",
       "mean     4416.679830       2004.234481     110.093816  128211.363989   \n",
       "std      4514.176349         90.228466     189.851330   37905.083858   \n",
       "min         0.000000       1000.000000       0.000000    5000.000000   \n",
       "25%      1050.000000       1999.000000      69.000000  125000.000000   \n",
       "50%      2700.000000       2003.000000     105.000000  150000.000000   \n",
       "75%      6400.000000       2008.000000     143.000000  150000.000000   \n",
       "max     20000.000000       9999.000000   20000.000000  150000.000000   \n",
       "\n",
       "       NumberOfPictures  \n",
       "count          354365.0  \n",
       "mean                0.0  \n",
       "std                 0.0  \n",
       "min                 0.0  \n",
       "25%                 0.0  \n",
       "50%                 0.0  \n",
       "75%                 0.0  \n",
       "max                 0.0  "
      ]
     },
     "execution_count": 13,
     "metadata": {},
     "output_type": "execute_result"
    }
   ],
   "source": [
    "data.describe()"
   ]
  },
  {
   "cell_type": "markdown",
   "metadata": {},
   "source": [
    "Построим графики распределений численных признаков:"
   ]
  },
  {
   "cell_type": "markdown",
   "metadata": {},
   "source": [
    "**Price**"
   ]
  },
  {
   "cell_type": "code",
   "execution_count": 14,
   "metadata": {},
   "outputs": [
    {
     "data": {
      "text/plain": [
       "Text(0.5, 0, 'Цена, EUR')"
      ]
     },
     "execution_count": 14,
     "metadata": {},
     "output_type": "execute_result"
    },
    {
     "data": {
      "image/png": "[encoded data removed]",
      "text/plain": [
       "<Figure size 864x432 with 1 Axes>"
      ]
     },
     "metadata": {},
     "output_type": "display_data"
    }
   ],
   "source": [
    "sns.set_style('whitegrid')\n",
    "\n",
    "plt.figure(figsize=(12,6))\n",
    "sns.distplot(data['Price'])\n",
    "\n",
    "plt.title('Распределение цен автомобилей', size=15)\n",
    "plt.xlabel('Цена, EUR', size=12)"
   ]
  },
  {
   "cell_type": "code",
   "execution_count": 15,
   "metadata": {},
   "outputs": [
    {
     "data": {
      "text/plain": [
       "0        10772\n",
       "500       5670\n",
       "1500      5394\n",
       "1000      4648\n",
       "1200      4594\n",
       "         ...  \n",
       "13440        1\n",
       "1414         1\n",
       "8069         1\n",
       "10370        1\n",
       "384          1\n",
       "Name: Price, Length: 3731, dtype: int64"
      ]
     },
     "execution_count": 15,
     "metadata": {},
     "output_type": "execute_result"
    }
   ],
   "source": [
    "data['Price'].value_counts()"
   ]
  },
  {
   "cell_type": "code",
   "execution_count": 16,
   "metadata": {},
   "outputs": [
    {
     "data": {
      "text/plain": [
       "count    354365.000000\n",
       "mean       4416.679830\n",
       "std        4514.176349\n",
       "min           0.000000\n",
       "5%          200.000000\n",
       "10%         499.000000\n",
       "15%         650.000000\n",
       "25%        1050.000000\n",
       "50%        2700.000000\n",
       "75%        6400.000000\n",
       "95%       14600.000000\n",
       "max       20000.000000\n",
       "Name: Price, dtype: float64"
      ]
     },
     "execution_count": 16,
     "metadata": {},
     "output_type": "execute_result"
    }
   ],
   "source": [
    "data.Price.describe(percentiles=[.05, .1, .15, .25, .5, .75, .95])"
   ]
  },
  {
   "cell_type": "markdown",
   "metadata": {},
   "source": [
    "Поскольку цена продажи автомобиля не может быть нулевой, исключим из датасета аномальные значения.\n",
    "Ограничим признаки 'Price' значениями перцентилей 5% и 95%."
   ]
  },
  {
   "cell_type": "code",
   "execution_count": 17,
   "metadata": {},
   "outputs": [],
   "source": [
    "data.drop(data[data.Price < 200].index, inplace=True)\n",
    "data.drop(data[data.Price > 14600].index, inplace=True)"
   ]
  },
  {
   "cell_type": "code",
   "execution_count": 18,
   "metadata": {},
   "outputs": [],
   "source": [
    "#data.Price.describe(percentiles=[.05, .1, .15, .25, .5, .75, .95])"
   ]
  },
  {
   "cell_type": "markdown",
   "metadata": {},
   "source": [
    "**Power**"
   ]
  },
  {
   "cell_type": "code",
   "execution_count": 19,
   "metadata": {},
   "outputs": [
    {
     "data": {
      "text/plain": [
       "Text(0.5, 0, 'Мощность, л.с.')"
      ]
     },
     "execution_count": 19,
     "metadata": {},
     "output_type": "execute_result"
    },
    {
     "data": {
      "image/png": "[encoded data removed]",
      "text/plain": [
       "<Figure size 864x432 with 1 Axes>"
      ]
     },
     "metadata": {},
     "output_type": "display_data"
    }
   ],
   "source": [
    "sns.set_style('whitegrid')\n",
    "\n",
    "plt.figure(figsize=(12,6))\n",
    "sns.distplot(data['Power'])\n",
    "\n",
    "plt.title('Распределение автомобилей по мощности двигателя', size=15)\n",
    "plt.xlabel('Мощность, л.с.', size=12)"
   ]
  },
  {
   "cell_type": "code",
   "execution_count": 20,
   "metadata": {},
   "outputs": [
    {
     "data": {
      "text/plain": [
       "count    319251.000000\n",
       "mean        108.389343\n",
       "std         189.349803\n",
       "min           0.000000\n",
       "5%            0.000000\n",
       "10%           0.000000\n",
       "15%          54.000000\n",
       "25%          69.000000\n",
       "50%         102.000000\n",
       "75%         140.000000\n",
       "95%         204.000000\n",
       "99.5%       315.000000\n",
       "max       20000.000000\n",
       "Name: Power, dtype: float64"
      ]
     },
     "execution_count": 20,
     "metadata": {},
     "output_type": "execute_result"
    }
   ],
   "source": [
    "data.Power.describe(percentiles=[.05, .1, .15, .25, .5, .75, .95, .995])"
   ]
  },
  {
   "cell_type": "markdown",
   "metadata": {},
   "source": [
    "Исключим из датасета аномальные значения минимальной и максимальной мощности двигателя автомобилей, и примем для расчета мощность двигателей от 54 л.с. до 315 л.с."
   ]
  },
  {
   "cell_type": "code",
   "execution_count": 21,
   "metadata": {},
   "outputs": [],
   "source": [
    "data.drop(data[data.Power < 54].index, inplace=True)\n",
    "data.drop(data[data.Power > 315].index, inplace=True)"
   ]
  },
  {
   "cell_type": "code",
   "execution_count": 22,
   "metadata": {},
   "outputs": [],
   "source": [
    "#data.Power.describe(percentiles=[.05, .1, .15, .25, .5, .75, .95, .995])"
   ]
  },
  {
   "cell_type": "code",
   "execution_count": 23,
   "metadata": {
    "scrolled": true
   },
   "outputs": [
    {
     "data": {
      "text/plain": [
       "Text(0.5, 0, 'Мощность, л.с.')"
      ]
     },
     "execution_count": 23,
     "metadata": {},
     "output_type": "execute_result"
    },
    {
     "data": {
      "image/png": "[encoded data removed]",
      "text/plain": [
       "<Figure size 864x432 with 1 Axes>"
      ]
     },
     "metadata": {},
     "output_type": "display_data"
    }
   ],
   "source": [
    "sns.set_style('whitegrid')\n",
    "\n",
    "plt.figure(figsize=(12,6))\n",
    "sns.distplot(data['Power'])\n",
    "\n",
    "plt.title('Распределение автомобилей по мощности двигателя', size=15)\n",
    "plt.xlabel('Мощность, л.с.', size=12)"
   ]
  },
  {
   "cell_type": "markdown",
   "metadata": {},
   "source": [
    "**Kilometer**"
   ]
  },
  {
   "cell_type": "code",
   "execution_count": 24,
   "metadata": {},
   "outputs": [
    {
     "data": {
      "text/plain": [
       "Text(0.5, 0, 'Пробег, км, л.с.')"
      ]
     },
     "execution_count": 24,
     "metadata": {},
     "output_type": "execute_result"
    },
    {
     "data": {
      "image/png": "[encoded data removed]",
      "text/plain": [
       "<Figure size 864x432 with 1 Axes>"
      ]
     },
     "metadata": {},
     "output_type": "display_data"
    }
   ],
   "source": [
    "sns.set_style('whitegrid')\n",
    "\n",
    "plt.figure(figsize=(12,6))\n",
    "sns.distplot(data['Kilometer'])\n",
    "\n",
    "plt.title('Распределение автомобилей по пробегу', size=15)\n",
    "plt.xlabel('Пробег, км, л.с.', size=12)"
   ]
  },
  {
   "cell_type": "code",
   "execution_count": 25,
   "metadata": {},
   "outputs": [
    {
     "data": {
      "text/plain": [
       "count    274541.000000\n",
       "mean     130714.647357\n",
       "std       34653.914765\n",
       "min        5000.000000\n",
       "5%        50000.000000\n",
       "10%       70000.000000\n",
       "15%       90000.000000\n",
       "25%      125000.000000\n",
       "50%      150000.000000\n",
       "75%      150000.000000\n",
       "95%      150000.000000\n",
       "max      150000.000000\n",
       "Name: Kilometer, dtype: float64"
      ]
     },
     "execution_count": 25,
     "metadata": {},
     "output_type": "execute_result"
    }
   ],
   "source": [
    "data.Kilometer.describe(percentiles=[.05, .1, .15, .25, .5, .75, .95])"
   ]
  },
  {
   "cell_type": "markdown",
   "metadata": {},
   "source": [
    "Как видно из графика, в базе продаж автомобилей присутствуют как практически новые авто с пробегом от 5000 км, так и автомобили с пробегом в 150000 км, что, впрочем, также не так уж и много. Оставим информацию по пробегу без изменений."
   ]
  },
  {
   "cell_type": "markdown",
   "metadata": {},
   "source": [
    "**RegistrationYear**"
   ]
  },
  {
   "cell_type": "code",
   "execution_count": 26,
   "metadata": {},
   "outputs": [
    {
     "data": {
      "text/plain": [
       "count    274541.000000\n",
       "mean       2003.367122\n",
       "std          26.265872\n",
       "min        1000.000000\n",
       "1%         1986.000000\n",
       "5%         1994.000000\n",
       "10%        1996.000000\n",
       "15%        1997.000000\n",
       "25%        1999.000000\n",
       "50%        2003.000000\n",
       "75%        2007.000000\n",
       "95%        2016.000000\n",
       "99%        2017.000000\n",
       "max        9999.000000\n",
       "Name: RegistrationYear, dtype: float64"
      ]
     },
     "execution_count": 26,
     "metadata": {},
     "output_type": "execute_result"
    }
   ],
   "source": [
    "data.RegistrationYear.describe(percentiles=[.01, .05, .1, .15, .25, .5, .75, .95, .99])"
   ]
  },
  {
   "cell_type": "markdown",
   "metadata": {},
   "source": [
    "Очевидно, что в столбце с годом регистрации также допущены ошибки и в базе вряд ли могли оказаться данные по продажам автомобилей середины прошлого столетия и даже раньше. Вероятно, данные можно восстановить медианным значением по марке и модели автомобиля с учетом иных параметров. Но, учитывая, что доля аномальных значений очень мала, их правильнее будет удалить."
   ]
  },
  {
   "cell_type": "code",
   "execution_count": 27,
   "metadata": {},
   "outputs": [],
   "source": [
    "data.drop(data[data.RegistrationYear < 1986].index, inplace=True)\n",
    "data.drop(data[data.RegistrationYear > 2021].index, inplace=True)"
   ]
  },
  {
   "cell_type": "code",
   "execution_count": 28,
   "metadata": {
    "scrolled": true
   },
   "outputs": [
    {
     "data": {
      "text/plain": [
       "count    271848.000000\n",
       "mean       2003.480861\n",
       "std           6.006228\n",
       "min        1986.000000\n",
       "1%         1990.000000\n",
       "5%         1994.000000\n",
       "10%        1996.000000\n",
       "15%        1998.000000\n",
       "25%        1999.000000\n",
       "50%        2003.000000\n",
       "75%        2007.000000\n",
       "95%        2016.000000\n",
       "99%        2017.000000\n",
       "max        2019.000000\n",
       "Name: RegistrationYear, dtype: float64"
      ]
     },
     "execution_count": 28,
     "metadata": {},
     "output_type": "execute_result"
    }
   ],
   "source": [
    "data.RegistrationYear.describe(percentiles=[.01, .05, .1, .15, .25, .5, .75, .95, .99])"
   ]
  },
  {
   "cell_type": "markdown",
   "metadata": {},
   "source": [
    "**NumberOfPictures**"
   ]
  },
  {
   "cell_type": "code",
   "execution_count": 29,
   "metadata": {},
   "outputs": [
    {
     "data": {
      "text/plain": [
       "array([0])"
      ]
     },
     "execution_count": 29,
     "metadata": {},
     "output_type": "execute_result"
    }
   ],
   "source": [
    "data['NumberOfPictures'].unique()"
   ]
  },
  {
   "cell_type": "markdown",
   "metadata": {},
   "source": [
    "Как видно, признак 'NumberOfPictures' принимает только одно значение, а значит не несет никакой информации для анализа и модели обучения. Исключим признак из выборки:"
   ]
  },
  {
   "cell_type": "code",
   "execution_count": 30,
   "metadata": {
    "scrolled": true
   },
   "outputs": [
    {
     "data": {
      "text/html": [
       "<div>\n",
       "<style scoped>\n",
       "    .dataframe tbody tr th:only-of-type {\n",
       "        vertical-align: middle;\n",
       "    }\n",
       "\n",
       "    .dataframe tbody tr th {\n",
       "        vertical-align: top;\n",
       "    }\n",
       "\n",
       "    .dataframe thead th {\n",
       "        text-align: right;\n",
       "    }\n",
       "</style>\n",
       "<table border=\"1\" class=\"dataframe\">\n",
       "  <thead>\n",
       "    <tr style=\"text-align: right;\">\n",
       "      <th></th>\n",
       "      <th>Price</th>\n",
       "      <th>VehicleType</th>\n",
       "      <th>RegistrationYear</th>\n",
       "      <th>Gearbox</th>\n",
       "      <th>Power</th>\n",
       "      <th>Model</th>\n",
       "      <th>Kilometer</th>\n",
       "      <th>FuelType</th>\n",
       "      <th>Brand</th>\n",
       "      <th>NotRepaired</th>\n",
       "    </tr>\n",
       "  </thead>\n",
       "  <tbody>\n",
       "    <tr>\n",
       "      <td>2</td>\n",
       "      <td>9800</td>\n",
       "      <td>suv</td>\n",
       "      <td>2004</td>\n",
       "      <td>auto</td>\n",
       "      <td>163</td>\n",
       "      <td>grand</td>\n",
       "      <td>125000</td>\n",
       "      <td>gasoline</td>\n",
       "      <td>jeep</td>\n",
       "      <td>unknown</td>\n",
       "    </tr>\n",
       "    <tr>\n",
       "      <td>3</td>\n",
       "      <td>1500</td>\n",
       "      <td>small</td>\n",
       "      <td>2001</td>\n",
       "      <td>manual</td>\n",
       "      <td>75</td>\n",
       "      <td>golf</td>\n",
       "      <td>150000</td>\n",
       "      <td>petrol</td>\n",
       "      <td>volkswagen</td>\n",
       "      <td>no</td>\n",
       "    </tr>\n",
       "    <tr>\n",
       "      <td>4</td>\n",
       "      <td>3600</td>\n",
       "      <td>small</td>\n",
       "      <td>2008</td>\n",
       "      <td>manual</td>\n",
       "      <td>69</td>\n",
       "      <td>fabia</td>\n",
       "      <td>90000</td>\n",
       "      <td>gasoline</td>\n",
       "      <td>skoda</td>\n",
       "      <td>no</td>\n",
       "    </tr>\n",
       "    <tr>\n",
       "      <td>5</td>\n",
       "      <td>650</td>\n",
       "      <td>sedan</td>\n",
       "      <td>1995</td>\n",
       "      <td>manual</td>\n",
       "      <td>102</td>\n",
       "      <td>3er</td>\n",
       "      <td>150000</td>\n",
       "      <td>petrol</td>\n",
       "      <td>bmw</td>\n",
       "      <td>yes</td>\n",
       "    </tr>\n",
       "    <tr>\n",
       "      <td>6</td>\n",
       "      <td>2200</td>\n",
       "      <td>convertible</td>\n",
       "      <td>2004</td>\n",
       "      <td>manual</td>\n",
       "      <td>109</td>\n",
       "      <td>2_reihe</td>\n",
       "      <td>150000</td>\n",
       "      <td>petrol</td>\n",
       "      <td>peugeot</td>\n",
       "      <td>no</td>\n",
       "    </tr>\n",
       "  </tbody>\n",
       "</table>\n",
       "</div>"
      ],
      "text/plain": [
       "   Price  VehicleType  RegistrationYear Gearbox  Power    Model  Kilometer  \\\n",
       "2   9800          suv              2004    auto    163    grand     125000   \n",
       "3   1500        small              2001  manual     75     golf     150000   \n",
       "4   3600        small              2008  manual     69    fabia      90000   \n",
       "5    650        sedan              1995  manual    102      3er     150000   \n",
       "6   2200  convertible              2004  manual    109  2_reihe     150000   \n",
       "\n",
       "   FuelType       Brand NotRepaired  \n",
       "2  gasoline        jeep     unknown  \n",
       "3    petrol  volkswagen          no  \n",
       "4  gasoline       skoda          no  \n",
       "5    petrol         bmw         yes  \n",
       "6    petrol     peugeot          no  "
      ]
     },
     "execution_count": 30,
     "metadata": {},
     "output_type": "execute_result"
    }
   ],
   "source": [
    "data = data.drop(['NumberOfPictures'], axis=1)\n",
    "data.head(5)"
   ]
  },
  {
   "cell_type": "markdown",
   "metadata": {},
   "source": [
    "**Корреляция**"
   ]
  },
  {
   "cell_type": "markdown",
   "metadata": {},
   "source": [
    "Определим, имеется ли зависимость между признаками, записанными в столбцах датасета:"
   ]
  },
  {
   "cell_type": "code",
   "execution_count": 31,
   "metadata": {},
   "outputs": [
    {
     "data": {
      "text/html": [
       "<div>\n",
       "<style scoped>\n",
       "    .dataframe tbody tr th:only-of-type {\n",
       "        vertical-align: middle;\n",
       "    }\n",
       "\n",
       "    .dataframe tbody tr th {\n",
       "        vertical-align: top;\n",
       "    }\n",
       "\n",
       "    .dataframe thead th {\n",
       "        text-align: right;\n",
       "    }\n",
       "</style>\n",
       "<table border=\"1\" class=\"dataframe\">\n",
       "  <thead>\n",
       "    <tr style=\"text-align: right;\">\n",
       "      <th></th>\n",
       "      <th>Price</th>\n",
       "      <th>RegistrationYear</th>\n",
       "      <th>Power</th>\n",
       "      <th>Kilometer</th>\n",
       "    </tr>\n",
       "  </thead>\n",
       "  <tbody>\n",
       "    <tr>\n",
       "      <td>Price</td>\n",
       "      <td>1.000000</td>\n",
       "      <td>0.499989</td>\n",
       "      <td>0.448144</td>\n",
       "      <td>-0.348290</td>\n",
       "    </tr>\n",
       "    <tr>\n",
       "      <td>RegistrationYear</td>\n",
       "      <td>0.499989</td>\n",
       "      <td>1.000000</td>\n",
       "      <td>0.036598</td>\n",
       "      <td>-0.317225</td>\n",
       "    </tr>\n",
       "    <tr>\n",
       "      <td>Power</td>\n",
       "      <td>0.448144</td>\n",
       "      <td>0.036598</td>\n",
       "      <td>1.000000</td>\n",
       "      <td>0.159975</td>\n",
       "    </tr>\n",
       "    <tr>\n",
       "      <td>Kilometer</td>\n",
       "      <td>-0.348290</td>\n",
       "      <td>-0.317225</td>\n",
       "      <td>0.159975</td>\n",
       "      <td>1.000000</td>\n",
       "    </tr>\n",
       "  </tbody>\n",
       "</table>\n",
       "</div>"
      ],
      "text/plain": [
       "                     Price  RegistrationYear     Power  Kilometer\n",
       "Price             1.000000          0.499989  0.448144  -0.348290\n",
       "RegistrationYear  0.499989          1.000000  0.036598  -0.317225\n",
       "Power             0.448144          0.036598  1.000000   0.159975\n",
       "Kilometer        -0.348290         -0.317225  0.159975   1.000000"
      ]
     },
     "execution_count": 31,
     "metadata": {},
     "output_type": "execute_result"
    }
   ],
   "source": [
    "data.corr()"
   ]
  },
  {
   "cell_type": "markdown",
   "metadata": {},
   "source": [
    "Имеется не сильная прямая зависимость между годом регистрации автомобиля и стоимостью, мощностью и стоимостью. А также обратная зависимость между пробегом автомобиля и его ценой. Данные зависимости вполне логичны и обоснованы, дальнейшие операции с данными признаками не требуются. "
   ]
  },
  {
   "cell_type": "markdown",
   "metadata": {},
   "source": [
    "### Преобразование категориальных признаков"
   ]
  },
  {
   "cell_type": "code",
   "execution_count": 32,
   "metadata": {},
   "outputs": [],
   "source": [
    "categorial = data[['VehicleType', 'Gearbox', 'Model', 'FuelType', 'Brand', 'NotRepaired']]"
   ]
  },
  {
   "cell_type": "markdown",
   "metadata": {},
   "source": [
    "Посмотрим на распределения категориальных признаках методом `value_counts()`:"
   ]
  },
  {
   "cell_type": "code",
   "execution_count": 33,
   "metadata": {
    "scrolled": true
   },
   "outputs": [
    {
     "name": "stdout",
     "output_type": "stream",
     "text": [
      "    VehicleType     \n",
      "sedan          75590\n",
      "small          59965\n",
      "wagon          55042\n",
      "bus            24317\n",
      "unknown        18963\n",
      "convertible    15892\n",
      "coupe          11687\n",
      "suv             8279\n",
      "other           2113\n",
      "Name: VehicleType, dtype: int64\n",
      "\n",
      "      Gearbox       \n",
      "manual     217194\n",
      "auto        49593\n",
      "unknown      5061\n",
      "Name: Gearbox, dtype: int64\n",
      "\n",
      "       Model        \n",
      "golf                  24037\n",
      "other                 17090\n",
      "3er                   16536\n",
      "unknown               10297\n",
      "astra                  9154\n",
      "                      ...  \n",
      "q3                        3\n",
      "amarok                    3\n",
      "rangerover                2\n",
      "range_rover_evoque        2\n",
      "gl                        1\n",
      "Name: Model, Length: 247, dtype: int64\n",
      "\n",
      "      FuelType      \n",
      "petrol      170318\n",
      "gasoline     79125\n",
      "unknown      17222\n",
      "lpg           4469\n",
      "cng            481\n",
      "hybrid         156\n",
      "other           50\n",
      "electric        27\n",
      "Name: FuelType, dtype: int64\n",
      "\n",
      "       Brand        \n",
      "volkswagen        58114\n",
      "opel              30973\n",
      "bmw               29314\n",
      "mercedes_benz     24305\n",
      "audi              22979\n",
      "ford              19218\n",
      "renault           13769\n",
      "peugeot            9120\n",
      "fiat               7247\n",
      "seat               5190\n",
      "skoda              4673\n",
      "mazda              4644\n",
      "citroen            4121\n",
      "toyota             3930\n",
      "nissan             3760\n",
      "smart              3551\n",
      "hyundai            2977\n",
      "volvo              2635\n",
      "mini               2539\n",
      "mitsubishi         2449\n",
      "honda              2390\n",
      "kia                1987\n",
      "alfa_romeo         1904\n",
      "suzuki             1781\n",
      "chevrolet          1191\n",
      "chrysler           1111\n",
      "sonstige_autos      991\n",
      "dacia               807\n",
      "subaru              593\n",
      "daihatsu            536\n",
      "jeep                491\n",
      "saab                454\n",
      "rover               365\n",
      "lancia              353\n",
      "land_rover          348\n",
      "daewoo              339\n",
      "jaguar              338\n",
      "porsche             216\n",
      "lada                139\n",
      "trabant               6\n",
      "Name: Brand, dtype: int64\n",
      "\n",
      "    NotRepaired     \n",
      "no         204064\n",
      "unknown     41471\n",
      "yes         26313\n",
      "Name: NotRepaired, dtype: int64\n",
      "\n"
     ]
    }
   ],
   "source": [
    "for item in categorial:\n",
    "    print('{: ^20}'.format(item))\n",
    "    print(data[item].value_counts())\n",
    "    print()"
   ]
  },
  {
   "cell_type": "markdown",
   "metadata": {},
   "source": [
    "Преобразуем категориальные признаки в численные с помощью техники прямого кодирования `OHE (One-Hot Encoding)`:"
   ]
  },
  {
   "cell_type": "code",
   "execution_count": 34,
   "metadata": {},
   "outputs": [],
   "source": [
    "data_ohe = pd.get_dummies(data, drop_first=True)"
   ]
  },
  {
   "cell_type": "code",
   "execution_count": 35,
   "metadata": {
    "scrolled": true
   },
   "outputs": [
    {
     "data": {
      "text/html": [
       "<div>\n",
       "<style scoped>\n",
       "    .dataframe tbody tr th:only-of-type {\n",
       "        vertical-align: middle;\n",
       "    }\n",
       "\n",
       "    .dataframe tbody tr th {\n",
       "        vertical-align: top;\n",
       "    }\n",
       "\n",
       "    .dataframe thead th {\n",
       "        text-align: right;\n",
       "    }\n",
       "</style>\n",
       "<table border=\"1\" class=\"dataframe\">\n",
       "  <thead>\n",
       "    <tr style=\"text-align: right;\">\n",
       "      <th></th>\n",
       "      <th>Price</th>\n",
       "      <th>RegistrationYear</th>\n",
       "      <th>Power</th>\n",
       "      <th>Kilometer</th>\n",
       "      <th>VehicleType_convertible</th>\n",
       "      <th>VehicleType_coupe</th>\n",
       "      <th>VehicleType_other</th>\n",
       "      <th>VehicleType_sedan</th>\n",
       "      <th>VehicleType_small</th>\n",
       "      <th>VehicleType_suv</th>\n",
       "      <th>...</th>\n",
       "      <th>Brand_smart</th>\n",
       "      <th>Brand_sonstige_autos</th>\n",
       "      <th>Brand_subaru</th>\n",
       "      <th>Brand_suzuki</th>\n",
       "      <th>Brand_toyota</th>\n",
       "      <th>Brand_trabant</th>\n",
       "      <th>Brand_volkswagen</th>\n",
       "      <th>Brand_volvo</th>\n",
       "      <th>NotRepaired_unknown</th>\n",
       "      <th>NotRepaired_yes</th>\n",
       "    </tr>\n",
       "  </thead>\n",
       "  <tbody>\n",
       "    <tr>\n",
       "      <td>330627</td>\n",
       "      <td>750</td>\n",
       "      <td>1996</td>\n",
       "      <td>116</td>\n",
       "      <td>150000</td>\n",
       "      <td>0</td>\n",
       "      <td>0</td>\n",
       "      <td>0</td>\n",
       "      <td>1</td>\n",
       "      <td>0</td>\n",
       "      <td>0</td>\n",
       "      <td>...</td>\n",
       "      <td>0</td>\n",
       "      <td>0</td>\n",
       "      <td>0</td>\n",
       "      <td>0</td>\n",
       "      <td>0</td>\n",
       "      <td>0</td>\n",
       "      <td>0</td>\n",
       "      <td>0</td>\n",
       "      <td>0</td>\n",
       "      <td>0</td>\n",
       "    </tr>\n",
       "    <tr>\n",
       "      <td>254688</td>\n",
       "      <td>1600</td>\n",
       "      <td>1999</td>\n",
       "      <td>102</td>\n",
       "      <td>150000</td>\n",
       "      <td>0</td>\n",
       "      <td>0</td>\n",
       "      <td>0</td>\n",
       "      <td>1</td>\n",
       "      <td>0</td>\n",
       "      <td>0</td>\n",
       "      <td>...</td>\n",
       "      <td>0</td>\n",
       "      <td>0</td>\n",
       "      <td>0</td>\n",
       "      <td>0</td>\n",
       "      <td>0</td>\n",
       "      <td>0</td>\n",
       "      <td>0</td>\n",
       "      <td>0</td>\n",
       "      <td>0</td>\n",
       "      <td>0</td>\n",
       "    </tr>\n",
       "    <tr>\n",
       "      <td>128726</td>\n",
       "      <td>700</td>\n",
       "      <td>1998</td>\n",
       "      <td>131</td>\n",
       "      <td>150000</td>\n",
       "      <td>0</td>\n",
       "      <td>0</td>\n",
       "      <td>0</td>\n",
       "      <td>0</td>\n",
       "      <td>0</td>\n",
       "      <td>0</td>\n",
       "      <td>...</td>\n",
       "      <td>0</td>\n",
       "      <td>0</td>\n",
       "      <td>0</td>\n",
       "      <td>0</td>\n",
       "      <td>0</td>\n",
       "      <td>0</td>\n",
       "      <td>0</td>\n",
       "      <td>0</td>\n",
       "      <td>0</td>\n",
       "      <td>0</td>\n",
       "    </tr>\n",
       "    <tr>\n",
       "      <td>78838</td>\n",
       "      <td>6800</td>\n",
       "      <td>2016</td>\n",
       "      <td>200</td>\n",
       "      <td>125000</td>\n",
       "      <td>0</td>\n",
       "      <td>0</td>\n",
       "      <td>0</td>\n",
       "      <td>0</td>\n",
       "      <td>0</td>\n",
       "      <td>0</td>\n",
       "      <td>...</td>\n",
       "      <td>0</td>\n",
       "      <td>0</td>\n",
       "      <td>0</td>\n",
       "      <td>0</td>\n",
       "      <td>0</td>\n",
       "      <td>0</td>\n",
       "      <td>0</td>\n",
       "      <td>0</td>\n",
       "      <td>1</td>\n",
       "      <td>0</td>\n",
       "    </tr>\n",
       "    <tr>\n",
       "      <td>105092</td>\n",
       "      <td>10500</td>\n",
       "      <td>2007</td>\n",
       "      <td>224</td>\n",
       "      <td>150000</td>\n",
       "      <td>0</td>\n",
       "      <td>0</td>\n",
       "      <td>0</td>\n",
       "      <td>0</td>\n",
       "      <td>0</td>\n",
       "      <td>0</td>\n",
       "      <td>...</td>\n",
       "      <td>0</td>\n",
       "      <td>0</td>\n",
       "      <td>0</td>\n",
       "      <td>0</td>\n",
       "      <td>0</td>\n",
       "      <td>0</td>\n",
       "      <td>0</td>\n",
       "      <td>0</td>\n",
       "      <td>0</td>\n",
       "      <td>0</td>\n",
       "    </tr>\n",
       "    <tr>\n",
       "      <td>79843</td>\n",
       "      <td>1000</td>\n",
       "      <td>2002</td>\n",
       "      <td>87</td>\n",
       "      <td>150000</td>\n",
       "      <td>0</td>\n",
       "      <td>0</td>\n",
       "      <td>0</td>\n",
       "      <td>0</td>\n",
       "      <td>0</td>\n",
       "      <td>0</td>\n",
       "      <td>...</td>\n",
       "      <td>0</td>\n",
       "      <td>0</td>\n",
       "      <td>0</td>\n",
       "      <td>0</td>\n",
       "      <td>0</td>\n",
       "      <td>0</td>\n",
       "      <td>1</td>\n",
       "      <td>0</td>\n",
       "      <td>0</td>\n",
       "      <td>1</td>\n",
       "    </tr>\n",
       "    <tr>\n",
       "      <td>101787</td>\n",
       "      <td>1600</td>\n",
       "      <td>2004</td>\n",
       "      <td>101</td>\n",
       "      <td>150000</td>\n",
       "      <td>0</td>\n",
       "      <td>0</td>\n",
       "      <td>0</td>\n",
       "      <td>0</td>\n",
       "      <td>0</td>\n",
       "      <td>0</td>\n",
       "      <td>...</td>\n",
       "      <td>0</td>\n",
       "      <td>0</td>\n",
       "      <td>0</td>\n",
       "      <td>0</td>\n",
       "      <td>0</td>\n",
       "      <td>0</td>\n",
       "      <td>0</td>\n",
       "      <td>0</td>\n",
       "      <td>0</td>\n",
       "      <td>0</td>\n",
       "    </tr>\n",
       "    <tr>\n",
       "      <td>172769</td>\n",
       "      <td>1999</td>\n",
       "      <td>2018</td>\n",
       "      <td>54</td>\n",
       "      <td>150000</td>\n",
       "      <td>0</td>\n",
       "      <td>0</td>\n",
       "      <td>0</td>\n",
       "      <td>0</td>\n",
       "      <td>0</td>\n",
       "      <td>0</td>\n",
       "      <td>...</td>\n",
       "      <td>0</td>\n",
       "      <td>0</td>\n",
       "      <td>0</td>\n",
       "      <td>0</td>\n",
       "      <td>0</td>\n",
       "      <td>0</td>\n",
       "      <td>1</td>\n",
       "      <td>0</td>\n",
       "      <td>1</td>\n",
       "      <td>0</td>\n",
       "    </tr>\n",
       "    <tr>\n",
       "      <td>133937</td>\n",
       "      <td>1099</td>\n",
       "      <td>1991</td>\n",
       "      <td>55</td>\n",
       "      <td>150000</td>\n",
       "      <td>0</td>\n",
       "      <td>1</td>\n",
       "      <td>0</td>\n",
       "      <td>0</td>\n",
       "      <td>0</td>\n",
       "      <td>0</td>\n",
       "      <td>...</td>\n",
       "      <td>0</td>\n",
       "      <td>0</td>\n",
       "      <td>0</td>\n",
       "      <td>0</td>\n",
       "      <td>0</td>\n",
       "      <td>0</td>\n",
       "      <td>1</td>\n",
       "      <td>0</td>\n",
       "      <td>0</td>\n",
       "      <td>0</td>\n",
       "    </tr>\n",
       "    <tr>\n",
       "      <td>44006</td>\n",
       "      <td>4999</td>\n",
       "      <td>2001</td>\n",
       "      <td>192</td>\n",
       "      <td>150000</td>\n",
       "      <td>0</td>\n",
       "      <td>0</td>\n",
       "      <td>0</td>\n",
       "      <td>0</td>\n",
       "      <td>0</td>\n",
       "      <td>0</td>\n",
       "      <td>...</td>\n",
       "      <td>0</td>\n",
       "      <td>0</td>\n",
       "      <td>0</td>\n",
       "      <td>0</td>\n",
       "      <td>0</td>\n",
       "      <td>0</td>\n",
       "      <td>0</td>\n",
       "      <td>0</td>\n",
       "      <td>0</td>\n",
       "      <td>0</td>\n",
       "    </tr>\n",
       "  </tbody>\n",
       "</table>\n",
       "<p>10 rows × 308 columns</p>\n",
       "</div>"
      ],
      "text/plain": [
       "        Price  RegistrationYear  Power  Kilometer  VehicleType_convertible  \\\n",
       "330627    750              1996    116     150000                        0   \n",
       "254688   1600              1999    102     150000                        0   \n",
       "128726    700              1998    131     150000                        0   \n",
       "78838    6800              2016    200     125000                        0   \n",
       "105092  10500              2007    224     150000                        0   \n",
       "79843    1000              2002     87     150000                        0   \n",
       "101787   1600              2004    101     150000                        0   \n",
       "172769   1999              2018     54     150000                        0   \n",
       "133937   1099              1991     55     150000                        0   \n",
       "44006    4999              2001    192     150000                        0   \n",
       "\n",
       "        VehicleType_coupe  VehicleType_other  VehicleType_sedan  \\\n",
       "330627                  0                  0                  1   \n",
       "254688                  0                  0                  1   \n",
       "128726                  0                  0                  0   \n",
       "78838                   0                  0                  0   \n",
       "105092                  0                  0                  0   \n",
       "79843                   0                  0                  0   \n",
       "101787                  0                  0                  0   \n",
       "172769                  0                  0                  0   \n",
       "133937                  1                  0                  0   \n",
       "44006                   0                  0                  0   \n",
       "\n",
       "        VehicleType_small  VehicleType_suv  ...  Brand_smart  \\\n",
       "330627                  0                0  ...            0   \n",
       "254688                  0                0  ...            0   \n",
       "128726                  0                0  ...            0   \n",
       "78838                   0                0  ...            0   \n",
       "105092                  0                0  ...            0   \n",
       "79843                   0                0  ...            0   \n",
       "101787                  0                0  ...            0   \n",
       "172769                  0                0  ...            0   \n",
       "133937                  0                0  ...            0   \n",
       "44006                   0                0  ...            0   \n",
       "\n",
       "        Brand_sonstige_autos  Brand_subaru  Brand_suzuki  Brand_toyota  \\\n",
       "330627                     0             0             0             0   \n",
       "254688                     0             0             0             0   \n",
       "128726                     0             0             0             0   \n",
       "78838                      0             0             0             0   \n",
       "105092                     0             0             0             0   \n",
       "79843                      0             0             0             0   \n",
       "101787                     0             0             0             0   \n",
       "172769                     0             0             0             0   \n",
       "133937                     0             0             0             0   \n",
       "44006                      0             0             0             0   \n",
       "\n",
       "        Brand_trabant  Brand_volkswagen  Brand_volvo  NotRepaired_unknown  \\\n",
       "330627              0                 0            0                    0   \n",
       "254688              0                 0            0                    0   \n",
       "128726              0                 0            0                    0   \n",
       "78838               0                 0            0                    1   \n",
       "105092              0                 0            0                    0   \n",
       "79843               0                 1            0                    0   \n",
       "101787              0                 0            0                    0   \n",
       "172769              0                 1            0                    1   \n",
       "133937              0                 1            0                    0   \n",
       "44006               0                 0            0                    0   \n",
       "\n",
       "        NotRepaired_yes  \n",
       "330627                0  \n",
       "254688                0  \n",
       "128726                0  \n",
       "78838                 0  \n",
       "105092                0  \n",
       "79843                 1  \n",
       "101787                0  \n",
       "172769                0  \n",
       "133937                0  \n",
       "44006                 0  \n",
       "\n",
       "[10 rows x 308 columns]"
      ]
     },
     "execution_count": 35,
     "metadata": {},
     "output_type": "execute_result"
    }
   ],
   "source": [
    "data_ohe.sample(10)"
   ]
  },
  {
   "cell_type": "markdown",
   "metadata": {},
   "source": [
    "###  Разбивка данных на выборки"
   ]
  },
  {
   "cell_type": "markdown",
   "metadata": {},
   "source": [
    "Разделим имеющийся датасет на 3 выборки: обучающую (для обучения модели), валидационную (для более качественной проверки обученной модели) и тестовую в соотношении 3:1:1 (60%:20%:20%)."
   ]
  },
  {
   "cell_type": "markdown",
   "metadata": {},
   "source": [
    "Для деления на три выборки используем функцию `train_test_split`"
   ]
  },
  {
   "cell_type": "code",
   "execution_count": 36,
   "metadata": {},
   "outputs": [],
   "source": [
    "train, valid = train_test_split(data_ohe, test_size=0.4, random_state=12345)"
   ]
  },
  {
   "cell_type": "code",
   "execution_count": 37,
   "metadata": {},
   "outputs": [],
   "source": [
    "valid, test = train_test_split(valid, test_size=0.5, random_state=12345)"
   ]
  },
  {
   "cell_type": "markdown",
   "metadata": {},
   "source": [
    "Проверка деления:"
   ]
  },
  {
   "cell_type": "code",
   "execution_count": 38,
   "metadata": {},
   "outputs": [
    {
     "data": {
      "text/plain": [
       "(163108, 308)"
      ]
     },
     "execution_count": 38,
     "metadata": {},
     "output_type": "execute_result"
    }
   ],
   "source": [
    "train.shape"
   ]
  },
  {
   "cell_type": "code",
   "execution_count": 39,
   "metadata": {},
   "outputs": [
    {
     "data": {
      "text/plain": [
       "(54370, 308)"
      ]
     },
     "execution_count": 39,
     "metadata": {},
     "output_type": "execute_result"
    }
   ],
   "source": [
    "valid.shape"
   ]
  },
  {
   "cell_type": "code",
   "execution_count": 40,
   "metadata": {},
   "outputs": [
    {
     "data": {
      "text/plain": [
       "(54370, 308)"
      ]
     },
     "execution_count": 40,
     "metadata": {},
     "output_type": "execute_result"
    }
   ],
   "source": [
    "test.shape"
   ]
  },
  {
   "cell_type": "markdown",
   "metadata": {},
   "source": [
    "Запишем \"признаки\" в переменную `features`, а \"цель\" в переменную `target`:"
   ]
  },
  {
   "cell_type": "code",
   "execution_count": 41,
   "metadata": {},
   "outputs": [],
   "source": [
    "features_train = train.drop('Price', axis=1)\n",
    "target_train = train['Price']\n",
    "features_valid = valid.drop('Price', axis=1)\n",
    "target_valid = valid['Price']\n",
    "features_test = valid.drop('Price', axis=1)\n",
    "target_test = valid['Price']"
   ]
  },
  {
   "cell_type": "code",
   "execution_count": 42,
   "metadata": {},
   "outputs": [
    {
     "name": "stdout",
     "output_type": "stream",
     "text": [
      "(163108, 307)\n",
      "(163108,)\n"
     ]
    }
   ],
   "source": [
    "print(features_train.shape)\n",
    "print(target_train.shape)"
   ]
  },
  {
   "cell_type": "code",
   "execution_count": 43,
   "metadata": {},
   "outputs": [
    {
     "name": "stdout",
     "output_type": "stream",
     "text": [
      "(54370, 307)\n",
      "(54370,)\n"
     ]
    }
   ],
   "source": [
    "print(features_valid.shape)\n",
    "print(target_valid.shape)"
   ]
  },
  {
   "cell_type": "code",
   "execution_count": 44,
   "metadata": {},
   "outputs": [
    {
     "name": "stdout",
     "output_type": "stream",
     "text": [
      "(54370, 307)\n",
      "(54370,)\n"
     ]
    }
   ],
   "source": [
    "print(features_test.shape)\n",
    "print(target_test.shape)"
   ]
  },
  {
   "cell_type": "markdown",
   "metadata": {},
   "source": [
    "### Масштабирование признаков"
   ]
  },
  {
   "cell_type": "markdown",
   "metadata": {},
   "source": [
    "Поскольку в данных есть столбцы с численными признаками, значения и разбросы которых значительно различаются (CreditScore, Age, Tenure, Balance, EstimatedSalary), означает, что данные признаки необходимо масштабировать - привести к одному масштабу.\n",
    "\n",
    "Масштабирование выполним методом стандартизации данных."
   ]
  },
  {
   "cell_type": "code",
   "execution_count": 45,
   "metadata": {},
   "outputs": [
    {
     "data": {
      "text/html": [
       "<div>\n",
       "<style scoped>\n",
       "    .dataframe tbody tr th:only-of-type {\n",
       "        vertical-align: middle;\n",
       "    }\n",
       "\n",
       "    .dataframe tbody tr th {\n",
       "        vertical-align: top;\n",
       "    }\n",
       "\n",
       "    .dataframe thead th {\n",
       "        text-align: right;\n",
       "    }\n",
       "</style>\n",
       "<table border=\"1\" class=\"dataframe\">\n",
       "  <thead>\n",
       "    <tr style=\"text-align: right;\">\n",
       "      <th></th>\n",
       "      <th>Price</th>\n",
       "      <th>RegistrationYear</th>\n",
       "      <th>Power</th>\n",
       "      <th>Kilometer</th>\n",
       "      <th>VehicleType_convertible</th>\n",
       "      <th>VehicleType_coupe</th>\n",
       "      <th>VehicleType_other</th>\n",
       "      <th>VehicleType_sedan</th>\n",
       "      <th>VehicleType_small</th>\n",
       "      <th>VehicleType_suv</th>\n",
       "      <th>...</th>\n",
       "      <th>Brand_smart</th>\n",
       "      <th>Brand_sonstige_autos</th>\n",
       "      <th>Brand_subaru</th>\n",
       "      <th>Brand_suzuki</th>\n",
       "      <th>Brand_toyota</th>\n",
       "      <th>Brand_trabant</th>\n",
       "      <th>Brand_volkswagen</th>\n",
       "      <th>Brand_volvo</th>\n",
       "      <th>NotRepaired_unknown</th>\n",
       "      <th>NotRepaired_yes</th>\n",
       "    </tr>\n",
       "  </thead>\n",
       "  <tbody>\n",
       "    <tr>\n",
       "      <td>71398</td>\n",
       "      <td>2200</td>\n",
       "      <td>1999</td>\n",
       "      <td>120</td>\n",
       "      <td>150000</td>\n",
       "      <td>0</td>\n",
       "      <td>0</td>\n",
       "      <td>0</td>\n",
       "      <td>0</td>\n",
       "      <td>0</td>\n",
       "      <td>0</td>\n",
       "      <td>...</td>\n",
       "      <td>0</td>\n",
       "      <td>0</td>\n",
       "      <td>0</td>\n",
       "      <td>0</td>\n",
       "      <td>0</td>\n",
       "      <td>0</td>\n",
       "      <td>0</td>\n",
       "      <td>0</td>\n",
       "      <td>0</td>\n",
       "      <td>0</td>\n",
       "    </tr>\n",
       "    <tr>\n",
       "      <td>108963</td>\n",
       "      <td>1300</td>\n",
       "      <td>2000</td>\n",
       "      <td>184</td>\n",
       "      <td>150000</td>\n",
       "      <td>0</td>\n",
       "      <td>0</td>\n",
       "      <td>0</td>\n",
       "      <td>0</td>\n",
       "      <td>0</td>\n",
       "      <td>0</td>\n",
       "      <td>...</td>\n",
       "      <td>0</td>\n",
       "      <td>0</td>\n",
       "      <td>0</td>\n",
       "      <td>0</td>\n",
       "      <td>0</td>\n",
       "      <td>0</td>\n",
       "      <td>0</td>\n",
       "      <td>0</td>\n",
       "      <td>1</td>\n",
       "      <td>0</td>\n",
       "    </tr>\n",
       "    <tr>\n",
       "      <td>138279</td>\n",
       "      <td>9900</td>\n",
       "      <td>1989</td>\n",
       "      <td>155</td>\n",
       "      <td>150000</td>\n",
       "      <td>0</td>\n",
       "      <td>0</td>\n",
       "      <td>0</td>\n",
       "      <td>0</td>\n",
       "      <td>0</td>\n",
       "      <td>1</td>\n",
       "      <td>...</td>\n",
       "      <td>0</td>\n",
       "      <td>0</td>\n",
       "      <td>0</td>\n",
       "      <td>0</td>\n",
       "      <td>0</td>\n",
       "      <td>0</td>\n",
       "      <td>0</td>\n",
       "      <td>0</td>\n",
       "      <td>1</td>\n",
       "      <td>0</td>\n",
       "    </tr>\n",
       "    <tr>\n",
       "      <td>193262</td>\n",
       "      <td>1150</td>\n",
       "      <td>2004</td>\n",
       "      <td>58</td>\n",
       "      <td>150000</td>\n",
       "      <td>0</td>\n",
       "      <td>0</td>\n",
       "      <td>0</td>\n",
       "      <td>0</td>\n",
       "      <td>1</td>\n",
       "      <td>0</td>\n",
       "      <td>...</td>\n",
       "      <td>0</td>\n",
       "      <td>0</td>\n",
       "      <td>0</td>\n",
       "      <td>0</td>\n",
       "      <td>0</td>\n",
       "      <td>0</td>\n",
       "      <td>0</td>\n",
       "      <td>0</td>\n",
       "      <td>0</td>\n",
       "      <td>0</td>\n",
       "    </tr>\n",
       "    <tr>\n",
       "      <td>186301</td>\n",
       "      <td>12000</td>\n",
       "      <td>2008</td>\n",
       "      <td>143</td>\n",
       "      <td>150000</td>\n",
       "      <td>0</td>\n",
       "      <td>0</td>\n",
       "      <td>0</td>\n",
       "      <td>1</td>\n",
       "      <td>0</td>\n",
       "      <td>0</td>\n",
       "      <td>...</td>\n",
       "      <td>0</td>\n",
       "      <td>0</td>\n",
       "      <td>0</td>\n",
       "      <td>0</td>\n",
       "      <td>0</td>\n",
       "      <td>0</td>\n",
       "      <td>0</td>\n",
       "      <td>0</td>\n",
       "      <td>0</td>\n",
       "      <td>0</td>\n",
       "    </tr>\n",
       "  </tbody>\n",
       "</table>\n",
       "<p>5 rows × 308 columns</p>\n",
       "</div>"
      ],
      "text/plain": [
       "        Price  RegistrationYear  Power  Kilometer  VehicleType_convertible  \\\n",
       "71398    2200              1999    120     150000                        0   \n",
       "108963   1300              2000    184     150000                        0   \n",
       "138279   9900              1989    155     150000                        0   \n",
       "193262   1150              2004     58     150000                        0   \n",
       "186301  12000              2008    143     150000                        0   \n",
       "\n",
       "        VehicleType_coupe  VehicleType_other  VehicleType_sedan  \\\n",
       "71398                   0                  0                  0   \n",
       "108963                  0                  0                  0   \n",
       "138279                  0                  0                  0   \n",
       "193262                  0                  0                  0   \n",
       "186301                  0                  0                  1   \n",
       "\n",
       "        VehicleType_small  VehicleType_suv  ...  Brand_smart  \\\n",
       "71398                   0                0  ...            0   \n",
       "108963                  0                0  ...            0   \n",
       "138279                  0                1  ...            0   \n",
       "193262                  1                0  ...            0   \n",
       "186301                  0                0  ...            0   \n",
       "\n",
       "        Brand_sonstige_autos  Brand_subaru  Brand_suzuki  Brand_toyota  \\\n",
       "71398                      0             0             0             0   \n",
       "108963                     0             0             0             0   \n",
       "138279                     0             0             0             0   \n",
       "193262                     0             0             0             0   \n",
       "186301                     0             0             0             0   \n",
       "\n",
       "        Brand_trabant  Brand_volkswagen  Brand_volvo  NotRepaired_unknown  \\\n",
       "71398               0                 0            0                    0   \n",
       "108963              0                 0            0                    1   \n",
       "138279              0                 0            0                    1   \n",
       "193262              0                 0            0                    0   \n",
       "186301              0                 0            0                    0   \n",
       "\n",
       "        NotRepaired_yes  \n",
       "71398                 0  \n",
       "108963                0  \n",
       "138279                0  \n",
       "193262                0  \n",
       "186301                0  \n",
       "\n",
       "[5 rows x 308 columns]"
      ]
     },
     "execution_count": 45,
     "metadata": {},
     "output_type": "execute_result"
    }
   ],
   "source": [
    "train.sample(5)"
   ]
  },
  {
   "cell_type": "markdown",
   "metadata": {},
   "source": [
    "Поскольку в данных есть столбцы с численными признаками, значения и разбросы которых значительно различаются (RegistrationYear, Power, Kilometer), означает, что данные признаки необходимо масштабировать - привести к одному масштабу.\n",
    "\n",
    "Масштабирование выполним методом стандартизации данных."
   ]
  },
  {
   "cell_type": "code",
   "execution_count": 46,
   "metadata": {},
   "outputs": [
    {
     "data": {
      "text/html": [
       "<div>\n",
       "<style scoped>\n",
       "    .dataframe tbody tr th:only-of-type {\n",
       "        vertical-align: middle;\n",
       "    }\n",
       "\n",
       "    .dataframe tbody tr th {\n",
       "        vertical-align: top;\n",
       "    }\n",
       "\n",
       "    .dataframe thead th {\n",
       "        text-align: right;\n",
       "    }\n",
       "</style>\n",
       "<table border=\"1\" class=\"dataframe\">\n",
       "  <thead>\n",
       "    <tr style=\"text-align: right;\">\n",
       "      <th></th>\n",
       "      <th>RegistrationYear</th>\n",
       "      <th>Power</th>\n",
       "      <th>Kilometer</th>\n",
       "      <th>VehicleType_convertible</th>\n",
       "      <th>VehicleType_coupe</th>\n",
       "      <th>VehicleType_other</th>\n",
       "      <th>VehicleType_sedan</th>\n",
       "      <th>VehicleType_small</th>\n",
       "      <th>VehicleType_suv</th>\n",
       "      <th>VehicleType_unknown</th>\n",
       "      <th>...</th>\n",
       "      <th>Brand_smart</th>\n",
       "      <th>Brand_sonstige_autos</th>\n",
       "      <th>Brand_subaru</th>\n",
       "      <th>Brand_suzuki</th>\n",
       "      <th>Brand_toyota</th>\n",
       "      <th>Brand_trabant</th>\n",
       "      <th>Brand_volkswagen</th>\n",
       "      <th>Brand_volvo</th>\n",
       "      <th>NotRepaired_unknown</th>\n",
       "      <th>NotRepaired_yes</th>\n",
       "    </tr>\n",
       "  </thead>\n",
       "  <tbody>\n",
       "    <tr>\n",
       "      <td>251151</td>\n",
       "      <td>2.423141</td>\n",
       "      <td>-0.054523</td>\n",
       "      <td>0.553455</td>\n",
       "      <td>0</td>\n",
       "      <td>0</td>\n",
       "      <td>0</td>\n",
       "      <td>0</td>\n",
       "      <td>0</td>\n",
       "      <td>0</td>\n",
       "      <td>1</td>\n",
       "      <td>...</td>\n",
       "      <td>0</td>\n",
       "      <td>0</td>\n",
       "      <td>0</td>\n",
       "      <td>0</td>\n",
       "      <td>0</td>\n",
       "      <td>0</td>\n",
       "      <td>0</td>\n",
       "      <td>0</td>\n",
       "      <td>1</td>\n",
       "      <td>0</td>\n",
       "    </tr>\n",
       "    <tr>\n",
       "      <td>137124</td>\n",
       "      <td>0.089465</td>\n",
       "      <td>-0.054523</td>\n",
       "      <td>0.553455</td>\n",
       "      <td>0</td>\n",
       "      <td>0</td>\n",
       "      <td>0</td>\n",
       "      <td>0</td>\n",
       "      <td>0</td>\n",
       "      <td>0</td>\n",
       "      <td>0</td>\n",
       "      <td>...</td>\n",
       "      <td>0</td>\n",
       "      <td>0</td>\n",
       "      <td>0</td>\n",
       "      <td>0</td>\n",
       "      <td>0</td>\n",
       "      <td>0</td>\n",
       "      <td>0</td>\n",
       "      <td>0</td>\n",
       "      <td>0</td>\n",
       "      <td>0</td>\n",
       "    </tr>\n",
       "    <tr>\n",
       "      <td>173179</td>\n",
       "      <td>-0.743991</td>\n",
       "      <td>-0.011543</td>\n",
       "      <td>0.553455</td>\n",
       "      <td>0</td>\n",
       "      <td>0</td>\n",
       "      <td>0</td>\n",
       "      <td>1</td>\n",
       "      <td>0</td>\n",
       "      <td>0</td>\n",
       "      <td>0</td>\n",
       "      <td>...</td>\n",
       "      <td>0</td>\n",
       "      <td>0</td>\n",
       "      <td>0</td>\n",
       "      <td>0</td>\n",
       "      <td>0</td>\n",
       "      <td>0</td>\n",
       "      <td>0</td>\n",
       "      <td>0</td>\n",
       "      <td>0</td>\n",
       "      <td>1</td>\n",
       "    </tr>\n",
       "    <tr>\n",
       "      <td>274728</td>\n",
       "      <td>2.089759</td>\n",
       "      <td>-0.613276</td>\n",
       "      <td>-0.173878</td>\n",
       "      <td>0</td>\n",
       "      <td>0</td>\n",
       "      <td>0</td>\n",
       "      <td>0</td>\n",
       "      <td>0</td>\n",
       "      <td>0</td>\n",
       "      <td>1</td>\n",
       "      <td>...</td>\n",
       "      <td>0</td>\n",
       "      <td>0</td>\n",
       "      <td>0</td>\n",
       "      <td>0</td>\n",
       "      <td>0</td>\n",
       "      <td>0</td>\n",
       "      <td>0</td>\n",
       "      <td>0</td>\n",
       "      <td>1</td>\n",
       "      <td>0</td>\n",
       "    </tr>\n",
       "    <tr>\n",
       "      <td>151267</td>\n",
       "      <td>-1.744137</td>\n",
       "      <td>-0.613276</td>\n",
       "      <td>0.553455</td>\n",
       "      <td>0</td>\n",
       "      <td>0</td>\n",
       "      <td>0</td>\n",
       "      <td>0</td>\n",
       "      <td>0</td>\n",
       "      <td>0</td>\n",
       "      <td>0</td>\n",
       "      <td>...</td>\n",
       "      <td>0</td>\n",
       "      <td>0</td>\n",
       "      <td>0</td>\n",
       "      <td>0</td>\n",
       "      <td>0</td>\n",
       "      <td>0</td>\n",
       "      <td>1</td>\n",
       "      <td>0</td>\n",
       "      <td>0</td>\n",
       "      <td>0</td>\n",
       "    </tr>\n",
       "  </tbody>\n",
       "</table>\n",
       "<p>5 rows × 307 columns</p>\n",
       "</div>"
      ],
      "text/plain": [
       "        RegistrationYear     Power  Kilometer  VehicleType_convertible  \\\n",
       "251151          2.423141 -0.054523   0.553455                        0   \n",
       "137124          0.089465 -0.054523   0.553455                        0   \n",
       "173179         -0.743991 -0.011543   0.553455                        0   \n",
       "274728          2.089759 -0.613276  -0.173878                        0   \n",
       "151267         -1.744137 -0.613276   0.553455                        0   \n",
       "\n",
       "        VehicleType_coupe  VehicleType_other  VehicleType_sedan  \\\n",
       "251151                  0                  0                  0   \n",
       "137124                  0                  0                  0   \n",
       "173179                  0                  0                  1   \n",
       "274728                  0                  0                  0   \n",
       "151267                  0                  0                  0   \n",
       "\n",
       "        VehicleType_small  VehicleType_suv  VehicleType_unknown  ...  \\\n",
       "251151                  0                0                    1  ...   \n",
       "137124                  0                0                    0  ...   \n",
       "173179                  0                0                    0  ...   \n",
       "274728                  0                0                    1  ...   \n",
       "151267                  0                0                    0  ...   \n",
       "\n",
       "        Brand_smart  Brand_sonstige_autos  Brand_subaru  Brand_suzuki  \\\n",
       "251151            0                     0             0             0   \n",
       "137124            0                     0             0             0   \n",
       "173179            0                     0             0             0   \n",
       "274728            0                     0             0             0   \n",
       "151267            0                     0             0             0   \n",
       "\n",
       "        Brand_toyota  Brand_trabant  Brand_volkswagen  Brand_volvo  \\\n",
       "251151             0              0                 0            0   \n",
       "137124             0              0                 0            0   \n",
       "173179             0              0                 0            0   \n",
       "274728             0              0                 0            0   \n",
       "151267             0              0                 1            0   \n",
       "\n",
       "        NotRepaired_unknown  NotRepaired_yes  \n",
       "251151                    1                0  \n",
       "137124                    0                0  \n",
       "173179                    0                1  \n",
       "274728                    1                0  \n",
       "151267                    0                0  \n",
       "\n",
       "[5 rows x 307 columns]"
      ]
     },
     "execution_count": 46,
     "metadata": {},
     "output_type": "execute_result"
    }
   ],
   "source": [
    "numeric = ['RegistrationYear', 'Power', 'Kilometer']\n",
    "\n",
    "pd.options.mode.chained_assignment = None\n",
    "scaler = StandardScaler()\n",
    "scaler.fit(features_train[numeric])\n",
    "features_train[numeric] = scaler.transform(features_train[numeric])\n",
    "features_valid[numeric] = scaler.transform(features_valid[numeric])\n",
    "features_test[numeric] = scaler.transform(features_test[numeric])\n",
    "\n",
    "features_train.head(5)"
   ]
  },
  {
   "cell_type": "markdown",
   "metadata": {},
   "source": [
    "### Вывод по этапу 1"
   ]
  },
  {
   "cell_type": "markdown",
   "metadata": {},
   "source": [
    "Резюмируем информацию, полученную на первом этапе выполнения проекта:\n",
    "1. Датасет data состоит из 16 столбцов (признаков) и 354369 строк (объектов). Признаки как количественные, так и качественные. Все количественные признаки имеют целочисленный тип данных. Каждая строка таблицы содержит общую информацию о исторических данных по продаже автомобилей: технические характеристики, комплектации и цены автомобилей.\n",
    "\n",
    "В датасете имеются пропущенные значения в столбцах 'VehicleType', 'Gearbox', 'Model', 'FuelType', 'NotRepaired', все признаки - категориальные.  Доля признаков с пропусками составляет от 5 до 20 %, что достаточно много. Пропущенные значения заполнены новой категорией 'unknown', которая будет обозначать отсутствие точных сведений.\n",
    "\n",
    "Целевой признак в нашей задаче записан в столбец `Price` (цена, EUR) - необходимо решить задачу регрессии и построить модель для определения стоимости автомобилей.\n",
    "\n",
    "2. Распределение целевого признака: стоимость автомобилей варьируется в диапазоне от 200 до 14600 EUR (после исключения выбросов). Средняя цена - 2700 EUR.\n",
    "\n",
    "3. Из датасета исключены столбцы с излишней информацией: `DateCrawled` (дата скачивания анкеты из базы), `RegistrationMonth` (месяц регистрации автомобиля), `DateCreated` (дата создания анкеты), `PostalCode` (почтовый индекс владельца анкеты), `LastSeen` (дата последней активности пользователя), `NumberOfPictures` (количество фотографий автомобиля).\n",
    "\n",
    "4. Категориальные признаки (`VehicleType`, `Gearbox`, `Model`, `FuelType`, `Brand`, `NotRepaired`) преобразованы в численные с помощью техники прямого кодирования OHE (One-Hot Encoding).\n",
    "\n",
    "5. Выполнено масштабирование численных признаков методом стандартизации данных.\n",
    "\n",
    "6. Датасет разделен на 3 выборки trane, valid, test в соотношении 60% : 20% : 20%. \"Признаки\" записаны в переменную `features`, а \"цель\" в переменную `target`."
   ]
  },
  {
   "cell_type": "markdown",
   "metadata": {},
   "source": [
    "## Обучение моделей"
   ]
  },
  {
   "cell_type": "markdown",
   "metadata": {},
   "source": [
    "По условию задачи для оценки качества моделей необходимо применять метрику **RMSE**. Напишем функцию для расчета метрики RMSE:"
   ]
  },
  {
   "cell_type": "code",
   "execution_count": 47,
   "metadata": {},
   "outputs": [],
   "source": [
    "def rmse(target, predictions):\n",
    "    mse = mean_squared_error(target, predictions)\n",
    "    rmse = mse ** 0.5\n",
    "    return rmse"
   ]
  },
  {
   "cell_type": "markdown",
   "metadata": {},
   "source": [
    "### Модель LinearRegression "
   ]
  },
  {
   "cell_type": "markdown",
   "metadata": {},
   "source": [
    "Перед применением моделей градиентного бустинга проверим данные с применением базовой модели `LinearRegression`:"
   ]
  },
  {
   "cell_type": "code",
   "execution_count": 48,
   "metadata": {},
   "outputs": [],
   "source": [
    "model = LinearRegression()"
   ]
  },
  {
   "cell_type": "code",
   "execution_count": 49,
   "metadata": {},
   "outputs": [],
   "source": [
    "start = time.time()\n",
    "model.fit(features_train, target_train)\n",
    "end_time_fit = time.time() - start\n",
    "\n",
    "start = time.time()\n",
    "predicted_valid = model.predict(features_valid)\n",
    "end_time_pred = time.time() - start"
   ]
  },
  {
   "cell_type": "code",
   "execution_count": 50,
   "metadata": {},
   "outputs": [
    {
     "name": "stdout",
     "output_type": "stream",
     "text": [
      "RMSE LinearRegression на валидационной выборке: 1916.706\n",
      "Время обучения: 19.159\n",
      "Скорость предсказания: 0.132\n"
     ]
    }
   ],
   "source": [
    "print('RMSE LinearRegression на валидационной выборке: {:.3f}'.format(rmse(target_valid, predicted_valid)))\n",
    "print('Время обучения: {:.3f}'.format(end_time_fit))\n",
    "print('Скорость предсказания: {:.3f}'.format(end_time_pred))"
   ]
  },
  {
   "cell_type": "markdown",
   "metadata": {},
   "source": [
    "### Модель XGBRegressor"
   ]
  },
  {
   "cell_type": "markdown",
   "metadata": {},
   "source": [
    "Обучим данные алгоритмом градиентного бустинга `XGBRegressor` и подберем гиперпараметры:"
   ]
  },
  {
   "cell_type": "code",
   "execution_count": 51,
   "metadata": {},
   "outputs": [
    {
     "name": "stdout",
     "output_type": "stream",
     "text": [
      "RMSE = 1837.353 | Время обучения: 58.440, Скорость предсказания: 0.656, Кол-во деревьев: 50, Макс. глубина: 2\n",
      "RMSE = 1580.636 | Время обучения: 94.571, Скорость предсказания: 0.699, Кол-во деревьев: 50, Макс. глубина: 4\n",
      "RMSE = 1685.973 | Время обучения: 110.334, Скорость предсказания: 0.684, Кол-во деревьев: 100, Макс. глубина: 2\n",
      "RMSE = 1493.019 | Время обучения: 179.639, Скорость предсказания: 0.805, Кол-во деревьев: 100, Макс. глубина: 4\n",
      "RMSE = 1634.807 | Время обучения: 167.079, Скорость предсказания: 0.748, Кол-во деревьев: 150, Макс. глубина: 2\n",
      "RMSE = 1462.187 | Время обучения: 276.184, Скорость предсказания: 0.858, Кол-во деревьев: 150, Макс. глубина: 4\n"
     ]
    }
   ],
   "source": [
    "for est in range(50, 151, 50):\n",
    "    for depth in range (2, 6, 2):\n",
    "        model = XGBRegressor(random_state=12345, objective ='reg:squarederror', n_estimators=est, max_depth=depth)\n",
    "        \n",
    "        start = time.time()\n",
    "        model.fit(features_train, target_train)\n",
    "        end_time_fit = time.time() - start\n",
    "        \n",
    "        start = time.time()\n",
    "        predicted_valid = model.predict(features_valid)\n",
    "        end_time_pred = time.time() - start\n",
    "        \n",
    "        mse = mean_squared_error(target_valid, predicted_valid)\n",
    "        rmse = mse ** 0.5\n",
    "        print('RMSE = {:.3f} | Время обучения: {:.3f}, Скорость предсказания: {:.3f}, Кол-во деревьев: {:.0f}, Макс. глубина: {:.0f}'.format(\n",
    "        rmse, end_time_fit, end_time_pred, est, depth))"
   ]
  },
  {
   "cell_type": "markdown",
   "metadata": {},
   "source": [
    "### Модель LGBMRegressor"
   ]
  },
  {
   "cell_type": "markdown",
   "metadata": {},
   "source": [
    "Обучим данные алгоритмом градиентного бустинга `LGBMRegressor` и подберем гиперпараметры:"
   ]
  },
  {
   "cell_type": "code",
   "execution_count": 52,
   "metadata": {},
   "outputs": [
    {
     "name": "stdout",
     "output_type": "stream",
     "text": [
      "RMSE = 1692.490 | Время обучения: 2.938, Скорость предсказания: 0.595, Кол-во деревьев: 100, Макс. глубина: 2\n",
      "RMSE = 1498.600 | Время обучения: 3.419, Скорость предсказания: 0.682, Кол-во деревьев: 100, Макс. глубина: 4\n",
      "RMSE = 1418.127 | Время обучения: 3.870, Скорость предсказания: 0.789, Кол-во деревьев: 100, Макс. глубина: 6\n",
      "RMSE = 1608.990 | Время обучения: 3.749, Скорость предсказания: 0.795, Кол-во деревьев: 200, Макс. глубина: 2\n",
      "RMSE = 1443.087 | Время обучения: 4.588, Скорость предсказания: 1.142, Кол-во деревьев: 200, Макс. глубина: 4\n",
      "RMSE = 1375.232 | Время обучения: 5.468, Скорость предсказания: 1.410, Кол-во деревьев: 200, Макс. глубина: 6\n",
      "RMSE = 1573.391 | Время обучения: 4.606, Скорость предсказания: 1.119, Кол-во деревьев: 300, Макс. глубина: 2\n",
      "RMSE = 1414.452 | Время обучения: 5.716, Скорость предсказания: 1.627, Кол-во деревьев: 300, Макс. глубина: 4\n",
      "RMSE = 1355.283 | Время обучения: 5.895, Скорость предсказания: 1.718, Кол-во деревьев: 300, Макс. глубина: 6\n",
      "RMSE = 1549.077 | Время обучения: 4.302, Скорость предсказания: 1.126, Кол-во деревьев: 400, Макс. глубина: 2\n",
      "RMSE = 1396.375 | Время обучения: 6.081, Скорость предсказания: 1.616, Кол-во деревьев: 400, Макс. глубина: 4\n",
      "RMSE = 1339.993 | Время обучения: 6.776, Скорость предсказания: 2.091, Кол-во деревьев: 400, Макс. глубина: 6\n",
      "RMSE = 1529.266 | Время обучения: 4.803, Скорость предсказания: 1.287, Кол-во деревьев: 500, Макс. глубина: 2\n",
      "RMSE = 1382.643 | Время обучения: 6.330, Скорость предсказания: 1.860, Кол-во деревьев: 500, Макс. глубина: 4\n",
      "RMSE = 1328.779 | Время обучения: 7.819, Скорость предсказания: 2.507, Кол-во деревьев: 500, Макс. глубина: 6\n",
      "RMSE = 1515.197 | Время обучения: 5.389, Скорость предсказания: 1.468, Кол-во деревьев: 600, Макс. глубина: 2\n",
      "RMSE = 1370.535 | Время обучения: 7.613, Скорость предсказания: 2.818, Кол-во деревьев: 600, Макс. глубина: 4\n",
      "RMSE = 1317.298 | Время обучения: 11.658, Скорость предсказания: 3.569, Кол-во деревьев: 600, Макс. глубина: 6\n",
      "RMSE = 1502.521 | Время обучения: 7.883, Скорость предсказания: 2.062, Кол-во деревьев: 700, Макс. глубина: 2\n",
      "RMSE = 1362.618 | Время обучения: 10.527, Скорость предсказания: 3.186, Кол-во деревьев: 700, Макс. глубина: 4\n",
      "RMSE = 1310.201 | Время обучения: 12.999, Скорость предсказания: 4.114, Кол-во деревьев: 700, Макс. глубина: 6\n",
      "RMSE = 1491.170 | Время обучения: 8.305, Скорость предсказания: 2.144, Кол-во деревьев: 800, Макс. глубина: 2\n",
      "RMSE = 1353.703 | Время обучения: 9.607, Скорость предсказания: 3.504, Кол-во деревьев: 800, Макс. глубина: 4\n",
      "RMSE = 1303.499 | Время обучения: 13.953, Скорость предсказания: 4.640, Кол-во деревьев: 800, Макс. глубина: 6\n",
      "RMSE = 1484.562 | Время обучения: 9.442, Скорость предсказания: 2.474, Кол-во деревьев: 900, Макс. глубина: 2\n",
      "RMSE = 1346.025 | Время обучения: 12.819, Скорость предсказания: 3.949, Кол-во деревьев: 900, Макс. глубина: 4\n",
      "RMSE = 1298.800 | Время обучения: 15.499, Скорость предсказания: 4.329, Кол-во деревьев: 900, Макс. глубина: 6\n",
      "RMSE = 1475.211 | Время обучения: 8.415, Скорость предсказания: 2.177, Кол-во деревьев: 1000, Макс. глубина: 2\n",
      "RMSE = 1341.216 | Время обучения: 11.803, Скорость предсказания: 4.596, Кол-во деревьев: 1000, Макс. глубина: 4\n",
      "RMSE = 1293.835 | Время обучения: 14.499, Скорость предсказания: 4.697, Кол-во деревьев: 1000, Макс. глубина: 6\n"
     ]
    }
   ],
   "source": [
    "for est in range(100, 1001, 100):\n",
    "    for depth in range (2, 8, 2):\n",
    "        model = LGBMRegressor(random_state=12345, boosting_type='gbdt', n_estimators=est, max_depth=depth)\n",
    "        \n",
    "        start = time.time()\n",
    "        model.fit(features_train, target_train)\n",
    "        end_time_fit = time.time() - start\n",
    "        \n",
    "        start = time.time()\n",
    "        predicted_valid = model.predict(features_valid)\n",
    "        end_time_pred = time.time() - start\n",
    "        \n",
    "        mse = mean_squared_error(target_valid, predicted_valid)\n",
    "        rmse = mse ** 0.5\n",
    "        print('RMSE = {:.3f} | Время обучения: {:.3f}, Скорость предсказания: {:.3f}, Кол-во деревьев: {:.0f}, Макс. глубина: {:.0f}'.format(\n",
    "        rmse, end_time_fit, end_time_pred, est, depth))"
   ]
  },
  {
   "cell_type": "markdown",
   "metadata": {},
   "source": [
    "### Модель CatBoostRegressor"
   ]
  },
  {
   "cell_type": "markdown",
   "metadata": {},
   "source": [
    "Обучим данные алгоритмом градиентного бустинга `CatBoostRegressor` и подберем гиперпараметры:"
   ]
  },
  {
   "cell_type": "code",
   "execution_count": 53,
   "metadata": {},
   "outputs": [
    {
     "name": "stdout",
     "output_type": "stream",
     "text": [
      "0:\tlearn: 3496.1968024\ttotal: 68.5ms\tremaining: 3.36s\n",
      "1:\tlearn: 3450.0406881\ttotal: 95.7ms\tremaining: 2.3s\n",
      "2:\tlearn: 3405.6790785\ttotal: 189ms\tremaining: 2.96s\n",
      "3:\tlearn: 3363.5844296\ttotal: 285ms\tremaining: 3.28s\n",
      "4:\tlearn: 3323.3177137\ttotal: 300ms\tremaining: 2.7s\n",
      "5:\tlearn: 3284.3439273\ttotal: 391ms\tremaining: 2.87s\n",
      "6:\tlearn: 3245.9041099\ttotal: 485ms\tremaining: 2.98s\n",
      "7:\tlearn: 3210.3525721\ttotal: 581ms\tremaining: 3.05s\n",
      "8:\tlearn: 3175.2094140\ttotal: 595ms\tremaining: 2.71s\n",
      "9:\tlearn: 3141.0118764\ttotal: 688ms\tremaining: 2.75s\n",
      "10:\tlearn: 3109.0176048\ttotal: 795ms\tremaining: 2.82s\n",
      "11:\tlearn: 3077.4543216\ttotal: 880ms\tremaining: 2.79s\n",
      "12:\tlearn: 3047.7353185\ttotal: 901ms\tremaining: 2.56s\n",
      "13:\tlearn: 3019.6878901\ttotal: 985ms\tremaining: 2.53s\n",
      "14:\tlearn: 2991.8955813\ttotal: 1.08s\tremaining: 2.53s\n",
      "15:\tlearn: 2965.4099737\ttotal: 1.18s\tremaining: 2.51s\n",
      "16:\tlearn: 2940.3150178\ttotal: 1.28s\tremaining: 2.48s\n",
      "17:\tlearn: 2916.1964387\ttotal: 1.29s\tremaining: 2.3s\n",
      "18:\tlearn: 2891.0193327\ttotal: 1.39s\tremaining: 2.27s\n",
      "19:\tlearn: 2867.2024058\ttotal: 1.48s\tremaining: 2.22s\n",
      "20:\tlearn: 2844.5207768\ttotal: 1.58s\tremaining: 2.18s\n",
      "21:\tlearn: 2823.0802898\ttotal: 1.67s\tremaining: 2.13s\n",
      "22:\tlearn: 2800.4146408\ttotal: 1.77s\tremaining: 2.08s\n",
      "23:\tlearn: 2780.1398056\ttotal: 1.87s\tremaining: 2.03s\n",
      "24:\tlearn: 2758.9399527\ttotal: 1.97s\tremaining: 1.97s\n",
      "25:\tlearn: 2739.9671591\ttotal: 1.98s\tremaining: 1.83s\n",
      "26:\tlearn: 2721.7532166\ttotal: 2.08s\tremaining: 1.77s\n",
      "27:\tlearn: 2702.4216158\ttotal: 2.17s\tremaining: 1.71s\n",
      "28:\tlearn: 2685.3227205\ttotal: 2.27s\tremaining: 1.64s\n",
      "29:\tlearn: 2668.6900415\ttotal: 2.29s\tremaining: 1.52s\n",
      "30:\tlearn: 2650.7707205\ttotal: 2.38s\tremaining: 1.46s\n",
      "31:\tlearn: 2635.3400825\ttotal: 2.48s\tremaining: 1.39s\n",
      "32:\tlearn: 2620.7330039\ttotal: 2.57s\tremaining: 1.32s\n",
      "33:\tlearn: 2604.3680434\ttotal: 2.67s\tremaining: 1.25s\n",
      "34:\tlearn: 2588.7714662\ttotal: 2.76s\tremaining: 1.18s\n",
      "35:\tlearn: 2572.5998797\ttotal: 2.86s\tremaining: 1.11s\n",
      "36:\tlearn: 2558.9835414\ttotal: 2.96s\tremaining: 1.04s\n",
      "37:\tlearn: 2546.0131219\ttotal: 2.98s\tremaining: 940ms\n",
      "38:\tlearn: 2531.0917971\ttotal: 3.07s\tremaining: 865ms\n",
      "39:\tlearn: 2516.1873961\ttotal: 3.16s\tremaining: 790ms\n",
      "40:\tlearn: 2504.3582287\ttotal: 3.26s\tremaining: 715ms\n",
      "41:\tlearn: 2492.5918227\ttotal: 3.35s\tremaining: 639ms\n",
      "42:\tlearn: 2478.8353301\ttotal: 3.37s\tremaining: 548ms\n",
      "43:\tlearn: 2465.3582647\ttotal: 3.46s\tremaining: 472ms\n",
      "44:\tlearn: 2451.9664909\ttotal: 3.56s\tremaining: 395ms\n",
      "45:\tlearn: 2439.2989288\ttotal: 3.66s\tremaining: 318ms\n",
      "46:\tlearn: 2427.2427666\ttotal: 3.75s\tremaining: 240ms\n",
      "47:\tlearn: 2416.7213888\ttotal: 3.77s\tremaining: 157ms\n",
      "48:\tlearn: 2406.7797592\ttotal: 3.86s\tremaining: 78.8ms\n",
      "49:\tlearn: 2395.2652464\ttotal: 3.96s\tremaining: 0us\n",
      "RMSE = 2403.464 | Время обучения: 9.617, Скорость предсказания: 0.035, Кол-во деревьев: 50, Макс. глубина: 2\n",
      "0:\tlearn: 3483.1987216\ttotal: 43.5ms\tremaining: 2.13s\n",
      "1:\tlearn: 3425.9062529\ttotal: 146ms\tremaining: 3.51s\n",
      "2:\tlearn: 3370.7748900\ttotal: 249ms\tremaining: 3.89s\n",
      "3:\tlearn: 3315.4738287\ttotal: 350ms\tremaining: 4.03s\n",
      "4:\tlearn: 3262.3342667\ttotal: 450ms\tremaining: 4.05s\n",
      "5:\tlearn: 3213.6251211\ttotal: 557ms\tremaining: 4.09s\n",
      "6:\tlearn: 3164.6611104\ttotal: 660ms\tremaining: 4.06s\n",
      "7:\tlearn: 3116.3351629\ttotal: 752ms\tremaining: 3.94s\n",
      "8:\tlearn: 3073.2317596\ttotal: 858ms\tremaining: 3.91s\n",
      "9:\tlearn: 3028.7771200\ttotal: 1.04s\tremaining: 4.15s\n",
      "10:\tlearn: 2984.5582379\ttotal: 1.14s\tremaining: 4.04s\n",
      "11:\tlearn: 2944.5109460\ttotal: 1.24s\tremaining: 3.92s\n",
      "12:\tlearn: 2907.3125195\ttotal: 1.34s\tremaining: 3.81s\n",
      "13:\tlearn: 2869.6446064\ttotal: 1.44s\tremaining: 3.7s\n",
      "14:\tlearn: 2832.9505490\ttotal: 1.54s\tremaining: 3.6s\n",
      "15:\tlearn: 2797.9255834\ttotal: 1.64s\tremaining: 3.49s\n",
      "16:\tlearn: 2762.1138012\ttotal: 1.75s\tremaining: 3.39s\n",
      "17:\tlearn: 2729.0100819\ttotal: 1.84s\tremaining: 3.28s\n",
      "18:\tlearn: 2698.1716206\ttotal: 2.03s\tremaining: 3.31s\n",
      "19:\tlearn: 2667.0292406\ttotal: 2.14s\tremaining: 3.21s\n",
      "20:\tlearn: 2636.1402152\ttotal: 2.24s\tremaining: 3.09s\n",
      "21:\tlearn: 2609.1021939\ttotal: 2.34s\tremaining: 2.97s\n",
      "22:\tlearn: 2580.6273966\ttotal: 2.44s\tremaining: 2.86s\n",
      "23:\tlearn: 2553.9096560\ttotal: 2.54s\tremaining: 2.75s\n",
      "24:\tlearn: 2527.6420257\ttotal: 2.64s\tremaining: 2.64s\n",
      "25:\tlearn: 2502.6177565\ttotal: 2.83s\tremaining: 2.61s\n",
      "26:\tlearn: 2478.8472552\ttotal: 2.93s\tremaining: 2.49s\n",
      "27:\tlearn: 2455.7932632\ttotal: 3.03s\tremaining: 2.38s\n",
      "28:\tlearn: 2434.1420835\ttotal: 3.13s\tremaining: 2.27s\n",
      "29:\tlearn: 2413.3700002\ttotal: 3.23s\tremaining: 2.15s\n",
      "30:\tlearn: 2392.9753434\ttotal: 3.33s\tremaining: 2.04s\n",
      "31:\tlearn: 2374.2999010\ttotal: 3.43s\tremaining: 1.93s\n",
      "32:\tlearn: 2355.1903629\ttotal: 3.53s\tremaining: 1.82s\n",
      "33:\tlearn: 2335.7686664\ttotal: 3.63s\tremaining: 1.71s\n",
      "34:\tlearn: 2318.5314455\ttotal: 3.73s\tremaining: 1.6s\n",
      "35:\tlearn: 2301.4338296\ttotal: 3.83s\tremaining: 1.49s\n",
      "36:\tlearn: 2285.1853505\ttotal: 3.93s\tremaining: 1.38s\n",
      "37:\tlearn: 2270.0296525\ttotal: 4.03s\tremaining: 1.27s\n",
      "38:\tlearn: 2253.4715734\ttotal: 4.22s\tremaining: 1.19s\n",
      "39:\tlearn: 2239.3538065\ttotal: 4.32s\tremaining: 1.08s\n",
      "40:\tlearn: 2225.4557967\ttotal: 4.42s\tremaining: 971ms\n",
      "41:\tlearn: 2211.2770219\ttotal: 4.52s\tremaining: 861ms\n",
      "42:\tlearn: 2197.0057412\ttotal: 4.62s\tremaining: 753ms\n",
      "43:\tlearn: 2184.1438142\ttotal: 4.72s\tremaining: 644ms\n",
      "44:\tlearn: 2171.8648773\ttotal: 4.82s\tremaining: 536ms\n",
      "45:\tlearn: 2158.7172634\ttotal: 4.92s\tremaining: 428ms\n",
      "46:\tlearn: 2147.3798170\ttotal: 5.03s\tremaining: 321ms\n",
      "47:\tlearn: 2135.1828912\ttotal: 5.12s\tremaining: 213ms\n",
      "48:\tlearn: 2124.3881725\ttotal: 5.32s\tremaining: 108ms\n",
      "49:\tlearn: 2113.1872670\ttotal: 5.41s\tremaining: 0us\n",
      "RMSE = 2123.481 | Время обучения: 11.050, Скорость предсказания: 0.014, Кол-во деревьев: 50, Макс. глубина: 4\n",
      "0:\tlearn: 3477.3082838\ttotal: 53.7ms\tremaining: 2.63s\n",
      "1:\tlearn: 3412.2329589\ttotal: 162ms\tremaining: 3.89s\n",
      "2:\tlearn: 3348.7891824\ttotal: 350ms\tremaining: 5.48s\n",
      "3:\tlearn: 3287.1504524\ttotal: 457ms\tremaining: 5.25s\n",
      "4:\tlearn: 3229.3880284\ttotal: 652ms\tremaining: 5.86s\n",
      "5:\tlearn: 3171.9858636\ttotal: 755ms\tremaining: 5.54s\n",
      "6:\tlearn: 3118.0625259\ttotal: 948ms\tremaining: 5.82s\n",
      "7:\tlearn: 3067.9854711\ttotal: 1.05s\tremaining: 5.52s\n",
      "8:\tlearn: 3018.0759164\ttotal: 1.24s\tremaining: 5.67s\n",
      "9:\tlearn: 2969.7429421\ttotal: 1.35s\tremaining: 5.4s\n",
      "10:\tlearn: 2922.2659525\ttotal: 1.54s\tremaining: 5.47s\n",
      "11:\tlearn: 2876.3245210\ttotal: 1.65s\tremaining: 5.22s\n",
      "12:\tlearn: 2834.3346277\ttotal: 1.84s\tremaining: 5.23s\n",
      "13:\tlearn: 2791.5379585\ttotal: 1.94s\tremaining: 5s\n",
      "14:\tlearn: 2752.8153596\ttotal: 2.05s\tremaining: 4.79s\n",
      "15:\tlearn: 2713.0415929\ttotal: 2.24s\tremaining: 4.76s\n",
      "16:\tlearn: 2675.4491809\ttotal: 2.34s\tremaining: 4.54s\n",
      "17:\tlearn: 2638.0735744\ttotal: 2.44s\tremaining: 4.35s\n",
      "18:\tlearn: 2603.0395339\ttotal: 2.63s\tremaining: 4.29s\n",
      "19:\tlearn: 2569.6062778\ttotal: 2.74s\tremaining: 4.11s\n",
      "20:\tlearn: 2537.7459048\ttotal: 2.85s\tremaining: 3.93s\n",
      "21:\tlearn: 2505.8715237\ttotal: 3.03s\tremaining: 3.85s\n",
      "22:\tlearn: 2475.4856743\ttotal: 3.14s\tremaining: 3.68s\n",
      "23:\tlearn: 2447.9450131\ttotal: 3.35s\tremaining: 3.63s\n",
      "24:\tlearn: 2420.1620945\ttotal: 3.44s\tremaining: 3.44s\n",
      "25:\tlearn: 2394.2319954\ttotal: 3.63s\tremaining: 3.35s\n",
      "26:\tlearn: 2368.3699843\ttotal: 3.73s\tremaining: 3.18s\n",
      "27:\tlearn: 2343.3493804\ttotal: 3.85s\tremaining: 3.02s\n",
      "28:\tlearn: 2320.0636369\ttotal: 4.03s\tremaining: 2.92s\n",
      "29:\tlearn: 2297.5005955\ttotal: 4.13s\tremaining: 2.76s\n",
      "30:\tlearn: 2275.8197382\ttotal: 4.32s\tremaining: 2.65s\n",
      "31:\tlearn: 2255.0015461\ttotal: 4.43s\tremaining: 2.49s\n",
      "32:\tlearn: 2233.9242240\ttotal: 4.62s\tremaining: 2.38s\n",
      "33:\tlearn: 2214.7388017\ttotal: 4.73s\tremaining: 2.23s\n",
      "34:\tlearn: 2194.5702687\ttotal: 4.83s\tremaining: 2.07s\n",
      "35:\tlearn: 2175.9541100\ttotal: 5.02s\tremaining: 1.95s\n",
      "36:\tlearn: 2158.5994734\ttotal: 5.12s\tremaining: 1.8s\n",
      "37:\tlearn: 2140.6682670\ttotal: 5.32s\tremaining: 1.68s\n",
      "38:\tlearn: 2124.9316886\ttotal: 5.42s\tremaining: 1.53s\n",
      "39:\tlearn: 2108.6092964\ttotal: 5.61s\tremaining: 1.4s\n",
      "40:\tlearn: 2093.9557672\ttotal: 5.72s\tremaining: 1.26s\n",
      "41:\tlearn: 2079.4637158\ttotal: 5.83s\tremaining: 1.11s\n",
      "42:\tlearn: 2065.4204740\ttotal: 6.04s\tremaining: 982ms\n",
      "43:\tlearn: 2051.2142606\ttotal: 6.13s\tremaining: 836ms\n",
      "44:\tlearn: 2037.9140089\ttotal: 6.31s\tremaining: 701ms\n",
      "45:\tlearn: 2024.7018584\ttotal: 6.42s\tremaining: 558ms\n",
      "46:\tlearn: 2012.3340204\ttotal: 6.52s\tremaining: 416ms\n",
      "47:\tlearn: 2000.1919030\ttotal: 6.71s\tremaining: 280ms\n",
      "48:\tlearn: 1988.8304922\ttotal: 6.82s\tremaining: 139ms\n",
      "49:\tlearn: 1977.5172091\ttotal: 6.93s\tremaining: 0us\n",
      "RMSE = 1987.158 | Время обучения: 12.525, Скорость предсказания: 0.021, Кол-во деревьев: 50, Макс. глубина: 6\n",
      "0:\tlearn: 3473.3230361\ttotal: 56.7ms\tremaining: 2.78s\n",
      "1:\tlearn: 3404.7374104\ttotal: 249ms\tremaining: 5.98s\n",
      "2:\tlearn: 3338.4261889\ttotal: 444ms\tremaining: 6.96s\n",
      "3:\tlearn: 3274.4684489\ttotal: 563ms\tremaining: 6.48s\n",
      "4:\tlearn: 3212.6906183\ttotal: 751ms\tremaining: 6.75s\n",
      "5:\tlearn: 3152.3361124\ttotal: 945ms\tremaining: 6.93s\n",
      "6:\tlearn: 3094.8653319\ttotal: 1.14s\tremaining: 7s\n",
      "7:\tlearn: 3039.6652435\ttotal: 1.33s\tremaining: 7.01s\n",
      "8:\tlearn: 2986.9195238\ttotal: 1.45s\tremaining: 6.6s\n",
      "9:\tlearn: 2934.5676131\ttotal: 1.64s\tremaining: 6.55s\n",
      "10:\tlearn: 2883.9640133\ttotal: 1.83s\tremaining: 6.49s\n",
      "11:\tlearn: 2835.6410161\ttotal: 1.94s\tremaining: 6.15s\n",
      "12:\tlearn: 2789.4168580\ttotal: 2.16s\tremaining: 6.14s\n",
      "13:\tlearn: 2744.7671452\ttotal: 2.34s\tremaining: 6.01s\n",
      "14:\tlearn: 2701.7346115\ttotal: 2.53s\tremaining: 5.91s\n",
      "15:\tlearn: 2659.9915746\ttotal: 2.64s\tremaining: 5.61s\n",
      "16:\tlearn: 2619.9857769\ttotal: 2.83s\tremaining: 5.5s\n",
      "17:\tlearn: 2582.4275292\ttotal: 3.03s\tremaining: 5.38s\n",
      "18:\tlearn: 2546.2994765\ttotal: 3.15s\tremaining: 5.13s\n",
      "19:\tlearn: 2509.6264885\ttotal: 3.34s\tremaining: 5.01s\n",
      "20:\tlearn: 2476.7669027\ttotal: 3.53s\tremaining: 4.87s\n",
      "21:\tlearn: 2442.7480787\ttotal: 3.64s\tremaining: 4.63s\n",
      "22:\tlearn: 2409.9480662\ttotal: 3.83s\tremaining: 4.5s\n",
      "23:\tlearn: 2379.2315534\ttotal: 4.04s\tremaining: 4.38s\n",
      "24:\tlearn: 2349.7147358\ttotal: 4.23s\tremaining: 4.23s\n",
      "25:\tlearn: 2322.0278524\ttotal: 4.44s\tremaining: 4.1s\n",
      "26:\tlearn: 2295.5739253\ttotal: 4.54s\tremaining: 3.87s\n",
      "27:\tlearn: 2269.5806628\ttotal: 4.72s\tremaining: 3.71s\n",
      "28:\tlearn: 2244.3895016\ttotal: 4.84s\tremaining: 3.51s\n",
      "29:\tlearn: 2220.4414658\ttotal: 5.04s\tremaining: 3.36s\n",
      "30:\tlearn: 2197.5272376\ttotal: 5.22s\tremaining: 3.2s\n",
      "31:\tlearn: 2175.7702293\ttotal: 5.42s\tremaining: 3.05s\n",
      "32:\tlearn: 2153.5402756\ttotal: 5.53s\tremaining: 2.85s\n",
      "33:\tlearn: 2132.6418478\ttotal: 5.73s\tremaining: 2.69s\n",
      "34:\tlearn: 2113.1740651\ttotal: 5.91s\tremaining: 2.53s\n",
      "35:\tlearn: 2094.4033397\ttotal: 6.02s\tremaining: 2.34s\n",
      "36:\tlearn: 2077.0559999\ttotal: 6.22s\tremaining: 2.19s\n",
      "37:\tlearn: 2059.8551452\ttotal: 6.42s\tremaining: 2.03s\n",
      "38:\tlearn: 2043.6902598\ttotal: 6.54s\tremaining: 1.84s\n",
      "39:\tlearn: 2027.1588109\ttotal: 6.72s\tremaining: 1.68s\n",
      "40:\tlearn: 2010.8525752\ttotal: 6.91s\tremaining: 1.52s\n",
      "41:\tlearn: 1996.3161615\ttotal: 7.02s\tremaining: 1.34s\n",
      "42:\tlearn: 1981.3381128\ttotal: 7.21s\tremaining: 1.17s\n",
      "43:\tlearn: 1967.5373660\ttotal: 7.41s\tremaining: 1.01s\n",
      "44:\tlearn: 1953.3426297\ttotal: 7.53s\tremaining: 837ms\n",
      "45:\tlearn: 1940.2344923\ttotal: 7.71s\tremaining: 671ms\n",
      "46:\tlearn: 1927.8551774\ttotal: 7.91s\tremaining: 505ms\n",
      "47:\tlearn: 1915.7778300\ttotal: 8.02s\tremaining: 334ms\n",
      "48:\tlearn: 1904.6552487\ttotal: 8.21s\tremaining: 167ms\n",
      "49:\tlearn: 1893.7413245\ttotal: 8.4s\tremaining: 0us\n",
      "RMSE = 1904.265 | Время обучения: 14.151, Скорость предсказания: 0.022, Кол-во деревьев: 50, Макс. глубина: 8\n",
      "0:\tlearn: 3496.1968024\ttotal: 19.5ms\tremaining: 1.93s\n",
      "1:\tlearn: 3450.0406881\ttotal: 49.2ms\tremaining: 2.41s\n",
      "2:\tlearn: 3405.6790785\ttotal: 121ms\tremaining: 3.9s\n",
      "3:\tlearn: 3363.5844296\ttotal: 231ms\tremaining: 5.54s\n",
      "4:\tlearn: 3323.3177137\ttotal: 312ms\tremaining: 5.93s\n",
      "5:\tlearn: 3284.3439273\ttotal: 410ms\tremaining: 6.43s\n",
      "6:\tlearn: 3245.9041099\ttotal: 429ms\tremaining: 5.7s\n",
      "7:\tlearn: 3210.3525721\ttotal: 522ms\tremaining: 6s\n",
      "8:\tlearn: 3175.2094140\ttotal: 618ms\tremaining: 6.24s\n",
      "9:\tlearn: 3141.0118764\ttotal: 711ms\tremaining: 6.39s\n",
      "10:\tlearn: 3109.0176048\ttotal: 805ms\tremaining: 6.51s\n",
      "11:\tlearn: 3077.4543216\ttotal: 899ms\tremaining: 6.59s\n",
      "12:\tlearn: 3047.7353185\ttotal: 914ms\tremaining: 6.12s\n",
      "13:\tlearn: 3019.6878901\ttotal: 1.02s\tremaining: 6.26s\n",
      "14:\tlearn: 2991.8955813\ttotal: 1.13s\tremaining: 6.39s\n",
      "15:\tlearn: 2965.4099737\ttotal: 1.21s\tremaining: 6.36s\n",
      "16:\tlearn: 2940.3150178\ttotal: 1.31s\tremaining: 6.38s\n",
      "17:\tlearn: 2916.1964387\ttotal: 1.33s\tremaining: 6.08s\n",
      "18:\tlearn: 2891.0193327\ttotal: 1.4s\tremaining: 5.98s\n",
      "19:\tlearn: 2867.2024058\ttotal: 1.49s\tremaining: 5.97s\n",
      "20:\tlearn: 2844.5207768\ttotal: 1.59s\tremaining: 5.99s\n",
      "21:\tlearn: 2823.0802898\ttotal: 1.61s\tremaining: 5.7s\n",
      "22:\tlearn: 2800.4146408\ttotal: 1.7s\tremaining: 5.67s\n",
      "23:\tlearn: 2780.1398056\ttotal: 1.8s\tremaining: 5.69s\n",
      "24:\tlearn: 2758.9399527\ttotal: 1.89s\tremaining: 5.66s\n",
      "25:\tlearn: 2739.9671591\ttotal: 1.9s\tremaining: 5.41s\n",
      "26:\tlearn: 2721.7532166\ttotal: 1.99s\tremaining: 5.39s\n",
      "27:\tlearn: 2702.4216158\ttotal: 2.09s\tremaining: 5.37s\n",
      "28:\tlearn: 2685.3227205\ttotal: 2.18s\tremaining: 5.35s\n",
      "29:\tlearn: 2668.6900415\ttotal: 2.2s\tremaining: 5.13s\n",
      "30:\tlearn: 2650.7707205\ttotal: 2.3s\tremaining: 5.12s\n",
      "31:\tlearn: 2635.3400825\ttotal: 2.4s\tremaining: 5.1s\n",
      "32:\tlearn: 2620.7330039\ttotal: 2.49s\tremaining: 5.05s\n",
      "33:\tlearn: 2604.3680434\ttotal: 2.58s\tremaining: 5.01s\n",
      "34:\tlearn: 2588.7714662\ttotal: 2.68s\tremaining: 4.98s\n",
      "35:\tlearn: 2572.5998797\ttotal: 2.77s\tremaining: 4.93s\n",
      "36:\tlearn: 2558.9835414\ttotal: 2.79s\tremaining: 4.75s\n",
      "37:\tlearn: 2546.0131219\ttotal: 2.88s\tremaining: 4.7s\n",
      "38:\tlearn: 2531.0917971\ttotal: 2.98s\tremaining: 4.66s\n",
      "39:\tlearn: 2516.1873961\ttotal: 3.07s\tremaining: 4.61s\n",
      "40:\tlearn: 2504.3582287\ttotal: 3.09s\tremaining: 4.44s\n",
      "41:\tlearn: 2492.5918227\ttotal: 3.18s\tremaining: 4.39s\n",
      "42:\tlearn: 2478.8353301\ttotal: 3.28s\tremaining: 4.35s\n",
      "43:\tlearn: 2465.3582647\ttotal: 3.37s\tremaining: 4.29s\n",
      "44:\tlearn: 2451.9664909\ttotal: 3.39s\tremaining: 4.14s\n",
      "45:\tlearn: 2439.2989288\ttotal: 3.48s\tremaining: 4.08s\n",
      "46:\tlearn: 2427.2427666\ttotal: 3.57s\tremaining: 4.03s\n",
      "47:\tlearn: 2416.7213888\ttotal: 3.67s\tremaining: 3.98s\n",
      "48:\tlearn: 2406.7797592\ttotal: 3.77s\tremaining: 3.92s\n",
      "49:\tlearn: 2395.2652464\ttotal: 3.78s\tremaining: 3.78s\n",
      "50:\tlearn: 2384.2383444\ttotal: 3.87s\tremaining: 3.72s\n",
      "51:\tlearn: 2373.3426824\ttotal: 3.97s\tremaining: 3.66s\n",
      "52:\tlearn: 2363.0996692\ttotal: 4.06s\tremaining: 3.6s\n",
      "53:\tlearn: 2352.9079921\ttotal: 4.08s\tremaining: 3.47s\n",
      "54:\tlearn: 2344.3831749\ttotal: 4.17s\tremaining: 3.42s\n",
      "55:\tlearn: 2334.3384237\ttotal: 4.27s\tremaining: 3.35s\n",
      "56:\tlearn: 2325.5683899\ttotal: 4.36s\tremaining: 3.29s\n",
      "57:\tlearn: 2316.2179560\ttotal: 4.38s\tremaining: 3.17s\n",
      "58:\tlearn: 2307.0904587\ttotal: 4.47s\tremaining: 3.11s\n",
      "59:\tlearn: 2299.2800387\ttotal: 4.57s\tremaining: 3.04s\n",
      "60:\tlearn: 2290.7206187\ttotal: 4.66s\tremaining: 2.98s\n",
      "61:\tlearn: 2282.9577875\ttotal: 4.76s\tremaining: 2.92s\n",
      "62:\tlearn: 2275.8525446\ttotal: 4.77s\tremaining: 2.8s\n",
      "63:\tlearn: 2268.2546053\ttotal: 4.86s\tremaining: 2.74s\n",
      "64:\tlearn: 2260.4177618\ttotal: 4.96s\tremaining: 2.67s\n",
      "65:\tlearn: 2253.2914214\ttotal: 5.05s\tremaining: 2.6s\n",
      "66:\tlearn: 2246.3846592\ttotal: 5.07s\tremaining: 2.49s\n",
      "67:\tlearn: 2239.9682851\ttotal: 5.16s\tremaining: 2.43s\n",
      "68:\tlearn: 2233.6346626\ttotal: 5.26s\tremaining: 2.36s\n",
      "69:\tlearn: 2227.6031384\ttotal: 5.36s\tremaining: 2.3s\n",
      "70:\tlearn: 2219.7866913\ttotal: 5.45s\tremaining: 2.23s\n",
      "71:\tlearn: 2214.0076310\ttotal: 5.47s\tremaining: 2.13s\n",
      "72:\tlearn: 2208.0120582\ttotal: 5.56s\tremaining: 2.06s\n",
      "73:\tlearn: 2202.2439642\ttotal: 5.65s\tremaining: 1.99s\n",
      "74:\tlearn: 2196.6157646\ttotal: 5.75s\tremaining: 1.92s\n",
      "75:\tlearn: 2191.1530012\ttotal: 5.76s\tremaining: 1.82s\n",
      "76:\tlearn: 2185.1856038\ttotal: 5.86s\tremaining: 1.75s\n",
      "77:\tlearn: 2180.3296758\ttotal: 5.95s\tremaining: 1.68s\n",
      "78:\tlearn: 2175.1634713\ttotal: 6.05s\tremaining: 1.61s\n",
      "79:\tlearn: 2170.2031991\ttotal: 6.06s\tremaining: 1.51s\n",
      "80:\tlearn: 2165.3189049\ttotal: 6.15s\tremaining: 1.44s\n",
      "81:\tlearn: 2159.2389828\ttotal: 6.25s\tremaining: 1.37s\n",
      "82:\tlearn: 2154.4103086\ttotal: 6.34s\tremaining: 1.3s\n",
      "83:\tlearn: 2149.8767610\ttotal: 6.36s\tremaining: 1.21s\n",
      "84:\tlearn: 2144.4792251\ttotal: 6.45s\tremaining: 1.14s\n",
      "85:\tlearn: 2140.2124395\ttotal: 6.55s\tremaining: 1.06s\n",
      "86:\tlearn: 2135.7981261\ttotal: 6.64s\tremaining: 993ms\n",
      "87:\tlearn: 2131.6580557\ttotal: 6.74s\tremaining: 919ms\n",
      "88:\tlearn: 2127.0825311\ttotal: 6.83s\tremaining: 845ms\n",
      "89:\tlearn: 2122.0399245\ttotal: 6.85s\tremaining: 762ms\n",
      "90:\tlearn: 2117.9714087\ttotal: 6.94s\tremaining: 687ms\n",
      "91:\tlearn: 2113.7626492\ttotal: 7.04s\tremaining: 612ms\n",
      "92:\tlearn: 2108.8306818\ttotal: 7.13s\tremaining: 537ms\n",
      "93:\tlearn: 2105.0662848\ttotal: 7.15s\tremaining: 456ms\n",
      "94:\tlearn: 2101.2628387\ttotal: 7.24s\tremaining: 381ms\n",
      "95:\tlearn: 2096.9267719\ttotal: 7.33s\tremaining: 306ms\n",
      "96:\tlearn: 2093.4220362\ttotal: 7.43s\tremaining: 230ms\n",
      "97:\tlearn: 2086.0366148\ttotal: 7.44s\tremaining: 152ms\n",
      "98:\tlearn: 2082.1109443\ttotal: 7.54s\tremaining: 76.1ms\n",
      "99:\tlearn: 2078.4104284\ttotal: 7.63s\tremaining: 0us\n",
      "RMSE = 2087.770 | Время обучения: 13.505, Скорость предсказания: 0.015, Кол-во деревьев: 100, Макс. глубина: 2\n",
      "0:\tlearn: 3483.1987216\ttotal: 22.9ms\tremaining: 2.26s\n",
      "1:\tlearn: 3425.9062529\ttotal: 141ms\tremaining: 6.89s\n",
      "2:\tlearn: 3370.7748900\ttotal: 163ms\tremaining: 5.28s\n",
      "3:\tlearn: 3315.4738287\ttotal: 342ms\tremaining: 8.22s\n",
      "4:\tlearn: 3262.3342667\ttotal: 443ms\tremaining: 8.42s\n",
      "5:\tlearn: 3213.6251211\ttotal: 544ms\tremaining: 8.52s\n",
      "6:\tlearn: 3164.6611104\ttotal: 655ms\tremaining: 8.7s\n",
      "7:\tlearn: 3116.3351629\ttotal: 752ms\tremaining: 8.64s\n",
      "8:\tlearn: 3073.2317596\ttotal: 852ms\tremaining: 8.61s\n",
      "9:\tlearn: 3028.7771200\ttotal: 953ms\tremaining: 8.58s\n",
      "10:\tlearn: 2984.5582379\ttotal: 1.05s\tremaining: 8.46s\n",
      "11:\tlearn: 2944.5109460\ttotal: 1.17s\tremaining: 8.56s\n",
      "12:\tlearn: 2907.3125195\ttotal: 1.25s\tremaining: 8.36s\n",
      "13:\tlearn: 2869.6446064\ttotal: 1.35s\tremaining: 8.29s\n",
      "14:\tlearn: 2832.9505490\ttotal: 1.47s\tremaining: 8.36s\n",
      "15:\tlearn: 2797.9255834\ttotal: 1.55s\tremaining: 8.13s\n",
      "16:\tlearn: 2762.1138012\ttotal: 1.65s\tremaining: 8.04s\n",
      "17:\tlearn: 2729.0100819\ttotal: 1.83s\tremaining: 8.32s\n",
      "18:\tlearn: 2698.1716206\ttotal: 1.86s\tremaining: 7.93s\n",
      "19:\tlearn: 2667.0292406\ttotal: 1.94s\tremaining: 7.77s\n",
      "20:\tlearn: 2636.1402152\ttotal: 2.04s\tremaining: 7.68s\n",
      "21:\tlearn: 2609.1021939\ttotal: 2.14s\tremaining: 7.59s\n",
      "22:\tlearn: 2580.6273966\ttotal: 2.23s\tremaining: 7.48s\n",
      "23:\tlearn: 2553.9096560\ttotal: 2.34s\tremaining: 7.41s\n",
      "24:\tlearn: 2527.6420257\ttotal: 2.44s\tremaining: 7.33s\n",
      "25:\tlearn: 2502.6177565\ttotal: 2.54s\tremaining: 7.22s\n",
      "26:\tlearn: 2478.8472552\ttotal: 2.64s\tremaining: 7.13s\n",
      "27:\tlearn: 2455.7932632\ttotal: 2.75s\tremaining: 7.08s\n",
      "28:\tlearn: 2434.1420835\ttotal: 2.83s\tremaining: 6.93s\n",
      "29:\tlearn: 2413.3700002\ttotal: 2.94s\tremaining: 6.86s\n",
      "30:\tlearn: 2392.9753434\ttotal: 3.03s\tremaining: 6.75s\n",
      "31:\tlearn: 2374.2999010\ttotal: 3.13s\tremaining: 6.66s\n",
      "32:\tlearn: 2355.1903629\ttotal: 3.23s\tremaining: 6.56s\n",
      "33:\tlearn: 2335.7686664\ttotal: 3.33s\tremaining: 6.46s\n",
      "34:\tlearn: 2318.5314455\ttotal: 3.42s\tremaining: 6.36s\n",
      "35:\tlearn: 2301.4338296\ttotal: 3.52s\tremaining: 6.26s\n",
      "36:\tlearn: 2285.1853505\ttotal: 3.62s\tremaining: 6.17s\n",
      "37:\tlearn: 2270.0296525\ttotal: 3.73s\tremaining: 6.08s\n",
      "38:\tlearn: 2253.4715734\ttotal: 3.82s\tremaining: 5.98s\n",
      "39:\tlearn: 2239.3538065\ttotal: 3.92s\tremaining: 5.88s\n",
      "40:\tlearn: 2225.4557967\ttotal: 4.02s\tremaining: 5.78s\n",
      "41:\tlearn: 2211.2770219\ttotal: 4.13s\tremaining: 5.7s\n",
      "42:\tlearn: 2197.0057412\ttotal: 4.22s\tremaining: 5.59s\n",
      "43:\tlearn: 2184.1438142\ttotal: 4.32s\tremaining: 5.5s\n",
      "44:\tlearn: 2171.8648773\ttotal: 4.43s\tremaining: 5.41s\n",
      "45:\tlearn: 2158.7172634\ttotal: 4.53s\tremaining: 5.31s\n",
      "46:\tlearn: 2147.3798170\ttotal: 4.62s\tremaining: 5.21s\n",
      "47:\tlearn: 2135.1828912\ttotal: 4.72s\tremaining: 5.12s\n",
      "48:\tlearn: 2124.3881725\ttotal: 4.83s\tremaining: 5.02s\n",
      "49:\tlearn: 2113.1872670\ttotal: 4.92s\tremaining: 4.92s\n",
      "50:\tlearn: 2102.6501028\ttotal: 5.1s\tremaining: 4.9s\n",
      "51:\tlearn: 2092.7201003\ttotal: 5.2s\tremaining: 4.8s\n",
      "52:\tlearn: 2082.7137228\ttotal: 5.3s\tremaining: 4.7s\n",
      "53:\tlearn: 2073.5142277\ttotal: 5.4s\tremaining: 4.6s\n",
      "54:\tlearn: 2064.0794419\ttotal: 5.5s\tremaining: 4.5s\n",
      "55:\tlearn: 2055.3658481\ttotal: 5.6s\tremaining: 4.4s\n",
      "56:\tlearn: 2047.0498982\ttotal: 5.75s\tremaining: 4.33s\n",
      "57:\tlearn: 2038.8905280\ttotal: 5.82s\tremaining: 4.21s\n",
      "58:\tlearn: 2030.3312537\ttotal: 5.9s\tremaining: 4.1s\n",
      "59:\tlearn: 2022.5692630\ttotal: 6s\tremaining: 4s\n",
      "60:\tlearn: 2014.5763159\ttotal: 6.1s\tremaining: 3.9s\n",
      "61:\tlearn: 2006.3993608\ttotal: 6.24s\tremaining: 3.82s\n",
      "62:\tlearn: 1998.9315250\ttotal: 6.3s\tremaining: 3.7s\n",
      "63:\tlearn: 1991.9037376\ttotal: 6.39s\tremaining: 3.6s\n",
      "64:\tlearn: 1985.1083285\ttotal: 6.5s\tremaining: 3.5s\n",
      "65:\tlearn: 1978.5579932\ttotal: 6.59s\tremaining: 3.4s\n",
      "66:\tlearn: 1972.2367305\ttotal: 6.69s\tremaining: 3.3s\n",
      "67:\tlearn: 1965.7446676\ttotal: 6.8s\tremaining: 3.2s\n",
      "68:\tlearn: 1958.9833193\ttotal: 6.89s\tremaining: 3.1s\n",
      "69:\tlearn: 1952.6280134\ttotal: 6.99s\tremaining: 3s\n",
      "70:\tlearn: 1946.4741551\ttotal: 7.1s\tremaining: 2.9s\n",
      "71:\tlearn: 1941.0460532\ttotal: 7.19s\tremaining: 2.8s\n",
      "72:\tlearn: 1933.9239591\ttotal: 7.29s\tremaining: 2.69s\n",
      "73:\tlearn: 1928.2787926\ttotal: 7.39s\tremaining: 2.6s\n",
      "74:\tlearn: 1923.2635006\ttotal: 7.49s\tremaining: 2.5s\n",
      "75:\tlearn: 1916.7154321\ttotal: 7.6s\tremaining: 2.4s\n",
      "76:\tlearn: 1910.5991249\ttotal: 7.69s\tremaining: 2.3s\n",
      "77:\tlearn: 1904.8433783\ttotal: 7.79s\tremaining: 2.2s\n",
      "78:\tlearn: 1900.2505497\ttotal: 7.89s\tremaining: 2.1s\n",
      "79:\tlearn: 1894.7165841\ttotal: 7.99s\tremaining: 2s\n",
      "80:\tlearn: 1889.7685232\ttotal: 8.09s\tremaining: 1.9s\n",
      "81:\tlearn: 1885.0317416\ttotal: 8.19s\tremaining: 1.8s\n",
      "82:\tlearn: 1880.3797562\ttotal: 8.37s\tremaining: 1.71s\n",
      "83:\tlearn: 1875.9429954\ttotal: 8.47s\tremaining: 1.61s\n",
      "84:\tlearn: 1871.8226451\ttotal: 8.57s\tremaining: 1.51s\n",
      "85:\tlearn: 1867.9830880\ttotal: 8.67s\tremaining: 1.41s\n",
      "86:\tlearn: 1863.7589946\ttotal: 8.77s\tremaining: 1.31s\n",
      "87:\tlearn: 1860.0334132\ttotal: 8.87s\tremaining: 1.21s\n",
      "88:\tlearn: 1855.7738479\ttotal: 8.97s\tremaining: 1.11s\n",
      "89:\tlearn: 1851.9857603\ttotal: 9.07s\tremaining: 1.01s\n",
      "90:\tlearn: 1847.9964258\ttotal: 9.18s\tremaining: 908ms\n",
      "91:\tlearn: 1844.5469377\ttotal: 9.27s\tremaining: 806ms\n",
      "92:\tlearn: 1841.0821667\ttotal: 9.37s\tremaining: 706ms\n",
      "93:\tlearn: 1837.9236729\ttotal: 9.47s\tremaining: 605ms\n",
      "94:\tlearn: 1834.5340297\ttotal: 9.57s\tremaining: 504ms\n",
      "95:\tlearn: 1830.5398032\ttotal: 9.67s\tremaining: 403ms\n",
      "96:\tlearn: 1827.1816844\ttotal: 9.77s\tremaining: 302ms\n",
      "97:\tlearn: 1823.9240100\ttotal: 9.87s\tremaining: 201ms\n",
      "98:\tlearn: 1820.7808504\ttotal: 9.97s\tremaining: 101ms\n",
      "99:\tlearn: 1817.7895721\ttotal: 10.1s\tremaining: 0us\n",
      "RMSE = 1828.926 | Время обучения: 16.528, Скорость предсказания: 0.015, Кол-во деревьев: 100, Макс. глубина: 4\n",
      "0:\tlearn: 3477.3082838\ttotal: 40.3ms\tremaining: 3.99s\n",
      "1:\tlearn: 3412.2329589\ttotal: 229ms\tremaining: 11.2s\n",
      "2:\tlearn: 3348.7891824\ttotal: 336ms\tremaining: 10.9s\n",
      "3:\tlearn: 3287.1504524\ttotal: 445ms\tremaining: 10.7s\n",
      "4:\tlearn: 3229.3880284\ttotal: 631ms\tremaining: 12s\n",
      "5:\tlearn: 3171.9858636\ttotal: 738ms\tremaining: 11.6s\n",
      "6:\tlearn: 3118.0625259\ttotal: 927ms\tremaining: 12.3s\n",
      "7:\tlearn: 3067.9854711\ttotal: 1.03s\tremaining: 11.9s\n",
      "8:\tlearn: 3018.0759164\ttotal: 1.23s\tremaining: 12.4s\n",
      "9:\tlearn: 2969.7429421\ttotal: 1.33s\tremaining: 12s\n",
      "10:\tlearn: 2922.2659525\ttotal: 1.52s\tremaining: 12.3s\n",
      "11:\tlearn: 2876.3245210\ttotal: 1.63s\tremaining: 11.9s\n",
      "12:\tlearn: 2834.3346277\ttotal: 1.82s\tremaining: 12.2s\n",
      "13:\tlearn: 2791.5379585\ttotal: 1.93s\tremaining: 11.8s\n",
      "14:\tlearn: 2752.8153596\ttotal: 2.12s\tremaining: 12s\n",
      "15:\tlearn: 2713.0415929\ttotal: 2.23s\tremaining: 11.7s\n",
      "16:\tlearn: 2675.4491809\ttotal: 2.33s\tremaining: 11.4s\n",
      "17:\tlearn: 2638.0735744\ttotal: 2.52s\tremaining: 11.5s\n",
      "18:\tlearn: 2603.0395339\ttotal: 2.63s\tremaining: 11.2s\n",
      "19:\tlearn: 2569.6062778\ttotal: 2.82s\tremaining: 11.3s\n",
      "20:\tlearn: 2537.7459048\ttotal: 2.93s\tremaining: 11s\n",
      "21:\tlearn: 2505.8715237\ttotal: 3.12s\tremaining: 11s\n",
      "22:\tlearn: 2475.4856743\ttotal: 3.22s\tremaining: 10.8s\n",
      "23:\tlearn: 2447.9450131\ttotal: 3.33s\tremaining: 10.6s\n",
      "24:\tlearn: 2420.1620945\ttotal: 3.52s\tremaining: 10.6s\n",
      "25:\tlearn: 2394.2319954\ttotal: 3.62s\tremaining: 10.3s\n",
      "26:\tlearn: 2368.3699843\ttotal: 3.81s\tremaining: 10.3s\n",
      "27:\tlearn: 2343.3493804\ttotal: 3.92s\tremaining: 10.1s\n",
      "28:\tlearn: 2320.0636369\ttotal: 4.02s\tremaining: 9.85s\n",
      "29:\tlearn: 2297.5005955\ttotal: 4.21s\tremaining: 9.83s\n",
      "30:\tlearn: 2275.8197382\ttotal: 4.32s\tremaining: 9.63s\n",
      "31:\tlearn: 2255.0015461\ttotal: 4.51s\tremaining: 9.59s\n",
      "32:\tlearn: 2233.9242240\ttotal: 4.62s\tremaining: 9.38s\n",
      "33:\tlearn: 2214.7388017\ttotal: 4.81s\tremaining: 9.33s\n",
      "34:\tlearn: 2194.5702687\ttotal: 4.91s\tremaining: 9.13s\n",
      "35:\tlearn: 2175.9541100\ttotal: 5.02s\tremaining: 8.92s\n",
      "36:\tlearn: 2158.5994734\ttotal: 5.21s\tremaining: 8.86s\n",
      "37:\tlearn: 2140.6682670\ttotal: 5.31s\tremaining: 8.67s\n",
      "38:\tlearn: 2124.9316886\ttotal: 5.5s\tremaining: 8.61s\n",
      "39:\tlearn: 2108.6092964\ttotal: 5.61s\tremaining: 8.42s\n",
      "40:\tlearn: 2093.9557672\ttotal: 5.8s\tremaining: 8.35s\n",
      "41:\tlearn: 2079.4637158\ttotal: 5.91s\tremaining: 8.16s\n",
      "42:\tlearn: 2065.4204740\ttotal: 6.01s\tremaining: 7.97s\n",
      "43:\tlearn: 2051.2142606\ttotal: 6.2s\tremaining: 7.89s\n",
      "44:\tlearn: 2037.9140089\ttotal: 6.31s\tremaining: 7.71s\n",
      "45:\tlearn: 2024.7018584\ttotal: 6.51s\tremaining: 7.65s\n",
      "46:\tlearn: 2012.3340204\ttotal: 6.61s\tremaining: 7.46s\n",
      "47:\tlearn: 2000.1919030\ttotal: 6.8s\tremaining: 7.37s\n",
      "48:\tlearn: 1988.8304922\ttotal: 6.91s\tremaining: 7.19s\n",
      "49:\tlearn: 1977.5172091\ttotal: 7.03s\tremaining: 7.03s\n",
      "50:\tlearn: 1967.2650363\ttotal: 7.19s\tremaining: 6.91s\n",
      "51:\tlearn: 1956.6603428\ttotal: 7.3s\tremaining: 6.74s\n",
      "52:\tlearn: 1947.1716374\ttotal: 7.41s\tremaining: 6.58s\n",
      "53:\tlearn: 1937.3891968\ttotal: 7.59s\tremaining: 6.47s\n",
      "54:\tlearn: 1927.9197805\ttotal: 7.7s\tremaining: 6.3s\n",
      "55:\tlearn: 1919.1553071\ttotal: 7.9s\tremaining: 6.21s\n",
      "56:\tlearn: 1910.4220211\ttotal: 8s\tremaining: 6.03s\n",
      "57:\tlearn: 1901.8031592\ttotal: 8.1s\tremaining: 5.87s\n",
      "58:\tlearn: 1893.3580364\ttotal: 8.2s\tremaining: 5.7s\n",
      "59:\tlearn: 1885.4518663\ttotal: 8.39s\tremaining: 5.59s\n",
      "60:\tlearn: 1878.2359743\ttotal: 8.49s\tremaining: 5.43s\n",
      "61:\tlearn: 1870.7772396\ttotal: 8.6s\tremaining: 5.27s\n",
      "62:\tlearn: 1863.3550964\ttotal: 8.78s\tremaining: 5.16s\n",
      "63:\tlearn: 1856.1298473\ttotal: 8.89s\tremaining: 5s\n",
      "64:\tlearn: 1847.9113254\ttotal: 9.08s\tremaining: 4.89s\n",
      "65:\tlearn: 1841.3110213\ttotal: 9.19s\tremaining: 4.73s\n",
      "66:\tlearn: 1835.2027818\ttotal: 9.3s\tremaining: 4.58s\n",
      "67:\tlearn: 1828.9513523\ttotal: 9.48s\tremaining: 4.46s\n",
      "68:\tlearn: 1823.0474995\ttotal: 9.59s\tremaining: 4.31s\n",
      "69:\tlearn: 1816.9735578\ttotal: 9.78s\tremaining: 4.19s\n",
      "70:\tlearn: 1809.7284712\ttotal: 9.88s\tremaining: 4.04s\n",
      "71:\tlearn: 1804.0239184\ttotal: 9.98s\tremaining: 3.88s\n",
      "72:\tlearn: 1798.9036734\ttotal: 10.1s\tremaining: 3.73s\n",
      "73:\tlearn: 1793.5095599\ttotal: 10.3s\tremaining: 3.61s\n",
      "74:\tlearn: 1788.3936370\ttotal: 10.4s\tremaining: 3.46s\n",
      "75:\tlearn: 1783.0786305\ttotal: 10.5s\tremaining: 3.31s\n",
      "76:\tlearn: 1777.9890552\ttotal: 10.7s\tremaining: 3.19s\n",
      "77:\tlearn: 1773.1630395\ttotal: 10.8s\tremaining: 3.04s\n",
      "78:\tlearn: 1768.7711606\ttotal: 10.9s\tremaining: 2.89s\n",
      "79:\tlearn: 1763.9594099\ttotal: 11s\tremaining: 2.75s\n",
      "80:\tlearn: 1758.8958433\ttotal: 11.2s\tremaining: 2.62s\n",
      "81:\tlearn: 1753.5167805\ttotal: 11.3s\tremaining: 2.48s\n",
      "82:\tlearn: 1749.5653930\ttotal: 11.4s\tremaining: 2.33s\n",
      "83:\tlearn: 1745.6870331\ttotal: 11.6s\tremaining: 2.2s\n",
      "84:\tlearn: 1741.4222203\ttotal: 11.7s\tremaining: 2.06s\n",
      "85:\tlearn: 1736.4646713\ttotal: 11.8s\tremaining: 1.92s\n",
      "86:\tlearn: 1731.4339136\ttotal: 12s\tremaining: 1.79s\n",
      "87:\tlearn: 1727.7264727\ttotal: 12.2s\tremaining: 1.66s\n",
      "88:\tlearn: 1723.9069902\ttotal: 12.3s\tremaining: 1.51s\n",
      "89:\tlearn: 1720.1710020\ttotal: 12.4s\tremaining: 1.37s\n",
      "90:\tlearn: 1716.2502235\ttotal: 12.6s\tremaining: 1.24s\n",
      "91:\tlearn: 1712.9978278\ttotal: 12.7s\tremaining: 1.1s\n",
      "92:\tlearn: 1708.5386028\ttotal: 12.8s\tremaining: 961ms\n",
      "93:\tlearn: 1704.8649455\ttotal: 13s\tremaining: 827ms\n",
      "94:\tlearn: 1701.5874924\ttotal: 13.1s\tremaining: 688ms\n",
      "95:\tlearn: 1698.4259145\ttotal: 13.3s\tremaining: 552ms\n",
      "96:\tlearn: 1695.5737839\ttotal: 13.4s\tremaining: 413ms\n",
      "97:\tlearn: 1692.5251549\ttotal: 13.6s\tremaining: 277ms\n",
      "98:\tlearn: 1689.4589958\ttotal: 13.7s\tremaining: 138ms\n",
      "99:\tlearn: 1686.6423364\ttotal: 13.9s\tremaining: 0us\n",
      "RMSE = 1696.796 | Время обучения: 19.492, Скорость предсказания: 0.024, Кол-во деревьев: 100, Макс. глубина: 6\n",
      "0:\tlearn: 3473.3230361\ttotal: 131ms\tremaining: 12.9s\n",
      "1:\tlearn: 3404.7374104\ttotal: 245ms\tremaining: 12s\n",
      "2:\tlearn: 3338.4261889\ttotal: 529ms\tremaining: 17.1s\n",
      "3:\tlearn: 3274.4684489\ttotal: 645ms\tremaining: 15.5s\n",
      "4:\tlearn: 3212.6906183\ttotal: 841ms\tremaining: 16s\n",
      "5:\tlearn: 3152.3361124\ttotal: 1.04s\tremaining: 16.3s\n",
      "6:\tlearn: 3094.8653319\ttotal: 1.24s\tremaining: 16.4s\n",
      "7:\tlearn: 3039.6652435\ttotal: 1.43s\tremaining: 16.5s\n",
      "8:\tlearn: 2986.9195238\ttotal: 1.63s\tremaining: 16.5s\n",
      "9:\tlearn: 2934.5676131\ttotal: 1.82s\tremaining: 16.4s\n",
      "10:\tlearn: 2883.9640133\ttotal: 1.98s\tremaining: 16s\n",
      "11:\tlearn: 2835.6410161\ttotal: 2.13s\tremaining: 15.7s\n",
      "12:\tlearn: 2789.4168580\ttotal: 2.33s\tremaining: 15.6s\n",
      "13:\tlearn: 2744.7671452\ttotal: 2.52s\tremaining: 15.5s\n",
      "14:\tlearn: 2701.7346115\ttotal: 2.65s\tremaining: 15s\n",
      "15:\tlearn: 2659.9915746\ttotal: 2.83s\tremaining: 14.8s\n",
      "16:\tlearn: 2619.9857769\ttotal: 3.02s\tremaining: 14.8s\n",
      "17:\tlearn: 2582.4275292\ttotal: 3.22s\tremaining: 14.7s\n",
      "18:\tlearn: 2546.2994765\ttotal: 3.33s\tremaining: 14.2s\n",
      "19:\tlearn: 2509.6264885\ttotal: 3.52s\tremaining: 14.1s\n",
      "20:\tlearn: 2476.7669027\ttotal: 3.72s\tremaining: 14s\n",
      "21:\tlearn: 2442.7480787\ttotal: 3.83s\tremaining: 13.6s\n",
      "22:\tlearn: 2409.9480662\ttotal: 4.03s\tremaining: 13.5s\n",
      "23:\tlearn: 2379.2315534\ttotal: 4.22s\tremaining: 13.4s\n",
      "24:\tlearn: 2349.7147358\ttotal: 4.41s\tremaining: 13.2s\n",
      "25:\tlearn: 2322.0278524\ttotal: 4.53s\tremaining: 12.9s\n",
      "26:\tlearn: 2295.5739253\ttotal: 4.72s\tremaining: 12.8s\n",
      "27:\tlearn: 2269.5806628\ttotal: 4.91s\tremaining: 12.6s\n",
      "28:\tlearn: 2244.3895016\ttotal: 5.03s\tremaining: 12.3s\n",
      "29:\tlearn: 2220.4414658\ttotal: 5.22s\tremaining: 12.2s\n",
      "30:\tlearn: 2197.5272376\ttotal: 5.43s\tremaining: 12.1s\n",
      "31:\tlearn: 2175.7702293\ttotal: 5.61s\tremaining: 11.9s\n",
      "32:\tlearn: 2153.5402756\ttotal: 5.72s\tremaining: 11.6s\n",
      "33:\tlearn: 2132.6418478\ttotal: 5.92s\tremaining: 11.5s\n",
      "34:\tlearn: 2113.1740651\ttotal: 6.12s\tremaining: 11.4s\n",
      "35:\tlearn: 2094.4033397\ttotal: 6.31s\tremaining: 11.2s\n",
      "36:\tlearn: 2077.0559999\ttotal: 6.5s\tremaining: 11.1s\n",
      "37:\tlearn: 2059.8551452\ttotal: 6.62s\tremaining: 10.8s\n",
      "38:\tlearn: 2043.6902598\ttotal: 6.82s\tremaining: 10.7s\n",
      "39:\tlearn: 2027.1588109\ttotal: 7.01s\tremaining: 10.5s\n",
      "40:\tlearn: 2010.8525752\ttotal: 7.21s\tremaining: 10.4s\n",
      "41:\tlearn: 1996.3161615\ttotal: 7.4s\tremaining: 10.2s\n",
      "42:\tlearn: 1981.3381128\ttotal: 7.6s\tremaining: 10.1s\n",
      "43:\tlearn: 1967.5373660\ttotal: 7.8s\tremaining: 9.93s\n",
      "44:\tlearn: 1953.3426297\ttotal: 8s\tremaining: 9.78s\n",
      "45:\tlearn: 1940.2344923\ttotal: 8.11s\tremaining: 9.52s\n",
      "46:\tlearn: 1927.8551774\ttotal: 8.31s\tremaining: 9.37s\n",
      "47:\tlearn: 1915.7778300\ttotal: 8.5s\tremaining: 9.21s\n",
      "48:\tlearn: 1904.6552487\ttotal: 8.7s\tremaining: 9.05s\n",
      "49:\tlearn: 1893.7413245\ttotal: 8.89s\tremaining: 8.89s\n",
      "50:\tlearn: 1882.6020764\ttotal: 9.01s\tremaining: 8.66s\n",
      "51:\tlearn: 1871.4840740\ttotal: 9.44s\tremaining: 8.71s\n",
      "52:\tlearn: 1861.7405986\ttotal: 9.58s\tremaining: 8.49s\n",
      "53:\tlearn: 1851.9413205\ttotal: 9.78s\tremaining: 8.33s\n",
      "54:\tlearn: 1843.0223651\ttotal: 9.98s\tremaining: 8.16s\n",
      "55:\tlearn: 1833.8210029\ttotal: 10.2s\tremaining: 7.99s\n",
      "56:\tlearn: 1825.4326808\ttotal: 10.4s\tremaining: 7.83s\n",
      "57:\tlearn: 1817.0950673\ttotal: 10.6s\tremaining: 7.65s\n",
      "58:\tlearn: 1806.7526232\ttotal: 10.7s\tremaining: 7.43s\n",
      "59:\tlearn: 1799.1297534\ttotal: 10.9s\tremaining: 7.25s\n",
      "60:\tlearn: 1791.5180276\ttotal: 11.1s\tremaining: 7.08s\n",
      "61:\tlearn: 1783.0409627\ttotal: 11.3s\tremaining: 6.91s\n",
      "62:\tlearn: 1775.8636517\ttotal: 11.5s\tremaining: 6.74s\n",
      "63:\tlearn: 1768.9800607\ttotal: 11.7s\tremaining: 6.57s\n",
      "64:\tlearn: 1762.3201807\ttotal: 11.9s\tremaining: 6.39s\n",
      "65:\tlearn: 1754.1858163\ttotal: 12.1s\tremaining: 6.22s\n",
      "66:\tlearn: 1748.2242720\ttotal: 12.3s\tremaining: 6.04s\n",
      "67:\tlearn: 1740.2082840\ttotal: 12.5s\tremaining: 5.87s\n",
      "68:\tlearn: 1734.3675333\ttotal: 12.7s\tremaining: 5.69s\n",
      "69:\tlearn: 1726.9131695\ttotal: 12.9s\tremaining: 5.51s\n",
      "70:\tlearn: 1719.7021629\ttotal: 13.1s\tremaining: 5.33s\n",
      "71:\tlearn: 1714.1365432\ttotal: 13.2s\tremaining: 5.12s\n",
      "72:\tlearn: 1709.1418563\ttotal: 13.4s\tremaining: 4.94s\n",
      "73:\tlearn: 1704.2301666\ttotal: 13.6s\tremaining: 4.76s\n",
      "74:\tlearn: 1699.4407006\ttotal: 13.8s\tremaining: 4.58s\n",
      "75:\tlearn: 1693.5817597\ttotal: 14s\tremaining: 4.41s\n",
      "76:\tlearn: 1687.6428336\ttotal: 14.2s\tremaining: 4.23s\n",
      "77:\tlearn: 1683.3572262\ttotal: 14.3s\tremaining: 4.02s\n",
      "78:\tlearn: 1678.7563758\ttotal: 14.5s\tremaining: 3.84s\n",
      "79:\tlearn: 1674.7707190\ttotal: 14.7s\tremaining: 3.66s\n",
      "80:\tlearn: 1669.2646603\ttotal: 14.9s\tremaining: 3.48s\n",
      "81:\tlearn: 1665.4373648\ttotal: 15s\tremaining: 3.3s\n",
      "82:\tlearn: 1660.3516815\ttotal: 15.2s\tremaining: 3.12s\n",
      "83:\tlearn: 1655.6201974\ttotal: 15.4s\tremaining: 2.92s\n",
      "84:\tlearn: 1651.0152518\ttotal: 15.6s\tremaining: 2.74s\n",
      "85:\tlearn: 1646.8783502\ttotal: 15.7s\tremaining: 2.56s\n",
      "86:\tlearn: 1643.1320184\ttotal: 15.9s\tremaining: 2.37s\n",
      "87:\tlearn: 1639.4004584\ttotal: 16.1s\tremaining: 2.19s\n",
      "88:\tlearn: 1636.0784751\ttotal: 16.2s\tremaining: 2.01s\n",
      "89:\tlearn: 1633.0881813\ttotal: 16.4s\tremaining: 1.82s\n",
      "90:\tlearn: 1630.0089253\ttotal: 16.6s\tremaining: 1.64s\n",
      "91:\tlearn: 1626.0824106\ttotal: 16.7s\tremaining: 1.46s\n",
      "92:\tlearn: 1622.7555568\ttotal: 16.9s\tremaining: 1.27s\n",
      "93:\tlearn: 1619.6638745\ttotal: 17.1s\tremaining: 1.09s\n",
      "94:\tlearn: 1617.1227844\ttotal: 17.2s\tremaining: 908ms\n",
      "95:\tlearn: 1614.0652693\ttotal: 17.4s\tremaining: 727ms\n",
      "96:\tlearn: 1611.5078462\ttotal: 17.6s\tremaining: 543ms\n",
      "97:\tlearn: 1608.8521524\ttotal: 17.7s\tremaining: 362ms\n",
      "98:\tlearn: 1606.0783698\ttotal: 17.9s\tremaining: 181ms\n",
      "99:\tlearn: 1602.9921345\ttotal: 18.1s\tremaining: 0us\n",
      "RMSE = 1613.655 | Время обучения: 23.683, Скорость предсказания: 0.018, Кол-во деревьев: 100, Макс. глубина: 8\n",
      "0:\tlearn: 3496.1968024\ttotal: 13.3ms\tremaining: 1.98s\n",
      "1:\tlearn: 3450.0406881\ttotal: 67.7ms\tremaining: 5.01s\n",
      "2:\tlearn: 3405.6790785\ttotal: 164ms\tremaining: 8.06s\n",
      "3:\tlearn: 3363.5844296\ttotal: 271ms\tremaining: 9.89s\n",
      "4:\tlearn: 3323.3177137\ttotal: 358ms\tremaining: 10.4s\n",
      "5:\tlearn: 3284.3439273\ttotal: 370ms\tremaining: 8.89s\n",
      "6:\tlearn: 3245.9041099\ttotal: 465ms\tremaining: 9.49s\n",
      "7:\tlearn: 3210.3525721\ttotal: 565ms\tremaining: 10s\n",
      "8:\tlearn: 3175.2094140\ttotal: 660ms\tremaining: 10.3s\n",
      "9:\tlearn: 3141.0118764\ttotal: 756ms\tremaining: 10.6s\n",
      "10:\tlearn: 3109.0176048\ttotal: 855ms\tremaining: 10.8s\n",
      "11:\tlearn: 3077.4543216\ttotal: 949ms\tremaining: 10.9s\n",
      "12:\tlearn: 3047.7353185\ttotal: 961ms\tremaining: 10.1s\n",
      "13:\tlearn: 3019.6878901\ttotal: 1.06s\tremaining: 10.3s\n",
      "14:\tlearn: 2991.8955813\ttotal: 1.16s\tremaining: 10.4s\n",
      "15:\tlearn: 2965.4099737\ttotal: 1.25s\tremaining: 10.5s\n",
      "16:\tlearn: 2940.3150178\ttotal: 1.35s\tremaining: 10.6s\n",
      "17:\tlearn: 2916.1964387\ttotal: 1.36s\tremaining: 9.99s\n",
      "18:\tlearn: 2891.0193327\ttotal: 1.46s\tremaining: 10s\n",
      "19:\tlearn: 2867.2024058\ttotal: 1.55s\tremaining: 10.1s\n",
      "20:\tlearn: 2844.5207768\ttotal: 1.65s\tremaining: 10.1s\n",
      "21:\tlearn: 2823.0802898\ttotal: 1.75s\tremaining: 10.2s\n",
      "22:\tlearn: 2800.4146408\ttotal: 1.84s\tremaining: 10.2s\n",
      "23:\tlearn: 2780.1398056\ttotal: 1.86s\tremaining: 9.75s\n",
      "24:\tlearn: 2758.9399527\ttotal: 1.95s\tremaining: 9.75s\n",
      "25:\tlearn: 2739.9671591\ttotal: 2.05s\tremaining: 9.78s\n",
      "26:\tlearn: 2721.7532166\ttotal: 2.15s\tremaining: 9.78s\n",
      "27:\tlearn: 2702.4216158\ttotal: 2.24s\tremaining: 9.77s\n",
      "28:\tlearn: 2685.3227205\ttotal: 2.34s\tremaining: 9.77s\n",
      "29:\tlearn: 2668.6900415\ttotal: 2.35s\tremaining: 9.41s\n",
      "30:\tlearn: 2650.7707205\ttotal: 2.45s\tremaining: 9.39s\n",
      "31:\tlearn: 2635.3400825\ttotal: 2.54s\tremaining: 9.38s\n",
      "32:\tlearn: 2620.7330039\ttotal: 2.64s\tremaining: 9.36s\n",
      "33:\tlearn: 2604.3680434\ttotal: 2.74s\tremaining: 9.35s\n",
      "34:\tlearn: 2588.7714662\ttotal: 2.83s\tremaining: 9.31s\n",
      "35:\tlearn: 2572.5998797\ttotal: 2.93s\tremaining: 9.28s\n",
      "36:\tlearn: 2558.9835414\ttotal: 2.94s\tremaining: 8.99s\n",
      "37:\tlearn: 2546.0131219\ttotal: 3.04s\tremaining: 8.97s\n",
      "38:\tlearn: 2531.0917971\ttotal: 3.14s\tremaining: 8.93s\n",
      "39:\tlearn: 2516.1873961\ttotal: 3.23s\tremaining: 8.89s\n",
      "40:\tlearn: 2504.3582287\ttotal: 3.33s\tremaining: 8.86s\n",
      "41:\tlearn: 2492.5918227\ttotal: 3.34s\tremaining: 8.6s\n",
      "42:\tlearn: 2478.8353301\ttotal: 3.44s\tremaining: 8.55s\n",
      "43:\tlearn: 2465.3582647\ttotal: 3.53s\tremaining: 8.52s\n",
      "44:\tlearn: 2451.9664909\ttotal: 3.63s\tremaining: 8.47s\n",
      "45:\tlearn: 2439.2989288\ttotal: 3.73s\tremaining: 8.43s\n",
      "46:\tlearn: 2427.2427666\ttotal: 3.83s\tremaining: 8.38s\n",
      "47:\tlearn: 2416.7213888\ttotal: 3.84s\tremaining: 8.15s\n",
      "48:\tlearn: 2406.7797592\ttotal: 3.93s\tremaining: 8.1s\n",
      "49:\tlearn: 2395.2652464\ttotal: 4.03s\tremaining: 8.05s\n",
      "50:\tlearn: 2384.2383444\ttotal: 4.12s\tremaining: 8.01s\n",
      "51:\tlearn: 2373.3426824\ttotal: 4.22s\tremaining: 7.96s\n",
      "52:\tlearn: 2363.0996692\ttotal: 4.24s\tremaining: 7.76s\n",
      "53:\tlearn: 2352.9079921\ttotal: 4.35s\tremaining: 7.74s\n",
      "54:\tlearn: 2344.3831749\ttotal: 4.43s\tremaining: 7.65s\n",
      "55:\tlearn: 2334.3384237\ttotal: 4.53s\tremaining: 7.6s\n",
      "56:\tlearn: 2325.5683899\ttotal: 4.62s\tremaining: 7.54s\n",
      "57:\tlearn: 2316.2179560\ttotal: 4.71s\tremaining: 7.48s\n",
      "58:\tlearn: 2307.0904587\ttotal: 4.73s\tremaining: 7.29s\n",
      "59:\tlearn: 2299.2800387\ttotal: 4.82s\tremaining: 7.23s\n",
      "60:\tlearn: 2290.7206187\ttotal: 4.92s\tremaining: 7.17s\n",
      "61:\tlearn: 2282.9577875\ttotal: 5.03s\tremaining: 7.14s\n",
      "62:\tlearn: 2275.8525446\ttotal: 5.12s\tremaining: 7.06s\n",
      "63:\tlearn: 2268.2546053\ttotal: 5.21s\tremaining: 7s\n",
      "64:\tlearn: 2260.4177618\ttotal: 5.22s\tremaining: 6.83s\n",
      "65:\tlearn: 2253.2914214\ttotal: 5.32s\tremaining: 6.78s\n",
      "66:\tlearn: 2246.3846592\ttotal: 5.42s\tremaining: 6.72s\n",
      "67:\tlearn: 2239.9682851\ttotal: 5.52s\tremaining: 6.66s\n",
      "68:\tlearn: 2233.6346626\ttotal: 5.61s\tremaining: 6.59s\n",
      "69:\tlearn: 2227.6031384\ttotal: 5.71s\tremaining: 6.52s\n",
      "70:\tlearn: 2219.7866913\ttotal: 5.8s\tremaining: 6.45s\n",
      "71:\tlearn: 2214.0076310\ttotal: 5.82s\tremaining: 6.3s\n",
      "72:\tlearn: 2208.0120582\ttotal: 5.91s\tremaining: 6.23s\n",
      "73:\tlearn: 2202.2439642\ttotal: 6s\tremaining: 6.16s\n",
      "74:\tlearn: 2196.6157646\ttotal: 6.1s\tremaining: 6.1s\n",
      "75:\tlearn: 2191.1530012\ttotal: 6.11s\tremaining: 5.95s\n",
      "76:\tlearn: 2185.1856038\ttotal: 6.2s\tremaining: 5.88s\n",
      "77:\tlearn: 2180.3296758\ttotal: 6.3s\tremaining: 5.82s\n",
      "78:\tlearn: 2175.1634713\ttotal: 6.4s\tremaining: 5.75s\n",
      "79:\tlearn: 2170.2031991\ttotal: 6.49s\tremaining: 5.68s\n",
      "80:\tlearn: 2165.3189049\ttotal: 6.59s\tremaining: 5.62s\n",
      "81:\tlearn: 2159.2389828\ttotal: 6.6s\tremaining: 5.48s\n",
      "82:\tlearn: 2154.4103086\ttotal: 6.7s\tremaining: 5.41s\n",
      "83:\tlearn: 2149.8767610\ttotal: 6.8s\tremaining: 5.34s\n",
      "84:\tlearn: 2144.4792251\ttotal: 6.89s\tremaining: 5.27s\n",
      "85:\tlearn: 2140.2124395\ttotal: 6.99s\tremaining: 5.2s\n",
      "86:\tlearn: 2135.7981261\ttotal: 7.1s\tremaining: 5.14s\n",
      "87:\tlearn: 2131.6580557\ttotal: 7.12s\tremaining: 5.01s\n",
      "88:\tlearn: 2127.0825311\ttotal: 7.19s\tremaining: 4.93s\n",
      "89:\tlearn: 2122.0399245\ttotal: 7.29s\tremaining: 4.86s\n",
      "90:\tlearn: 2117.9714087\ttotal: 7.39s\tremaining: 4.79s\n",
      "91:\tlearn: 2113.7626492\ttotal: 7.48s\tremaining: 4.72s\n",
      "92:\tlearn: 2108.8306818\ttotal: 7.5s\tremaining: 4.6s\n",
      "93:\tlearn: 2105.0662848\ttotal: 7.59s\tremaining: 4.52s\n",
      "94:\tlearn: 2101.2628387\ttotal: 7.69s\tremaining: 4.45s\n",
      "95:\tlearn: 2096.9267719\ttotal: 7.79s\tremaining: 4.38s\n",
      "96:\tlearn: 2093.4220362\ttotal: 7.9s\tremaining: 4.31s\n",
      "97:\tlearn: 2086.0366148\ttotal: 7.98s\tremaining: 4.23s\n",
      "98:\tlearn: 2082.1109443\ttotal: 7.99s\tremaining: 4.12s\n",
      "99:\tlearn: 2078.4104284\ttotal: 8.09s\tremaining: 4.04s\n",
      "100:\tlearn: 2074.9276867\ttotal: 8.19s\tremaining: 3.97s\n",
      "101:\tlearn: 2068.0287822\ttotal: 8.29s\tremaining: 3.9s\n",
      "102:\tlearn: 2064.7127721\ttotal: 8.38s\tremaining: 3.82s\n",
      "103:\tlearn: 2061.0559383\ttotal: 8.4s\tremaining: 3.71s\n",
      "104:\tlearn: 2057.6289628\ttotal: 8.48s\tremaining: 3.64s\n",
      "105:\tlearn: 2054.5642948\ttotal: 8.58s\tremaining: 3.56s\n",
      "106:\tlearn: 2051.3594911\ttotal: 8.67s\tremaining: 3.49s\n",
      "107:\tlearn: 2045.0182200\ttotal: 8.77s\tremaining: 3.41s\n",
      "108:\tlearn: 2041.9920802\ttotal: 8.79s\tremaining: 3.31s\n",
      "109:\tlearn: 2038.7868870\ttotal: 8.89s\tremaining: 3.23s\n",
      "110:\tlearn: 2035.7664444\ttotal: 8.98s\tremaining: 3.15s\n",
      "111:\tlearn: 2032.7592883\ttotal: 9.07s\tremaining: 3.08s\n",
      "112:\tlearn: 2029.9530002\ttotal: 9.17s\tremaining: 3s\n",
      "113:\tlearn: 2026.5204028\ttotal: 9.27s\tremaining: 2.93s\n",
      "114:\tlearn: 2020.5967239\ttotal: 9.37s\tremaining: 2.85s\n",
      "115:\tlearn: 2017.8796273\ttotal: 9.46s\tremaining: 2.77s\n",
      "116:\tlearn: 2012.2865621\ttotal: 9.48s\tremaining: 2.67s\n",
      "117:\tlearn: 2009.5422810\ttotal: 9.57s\tremaining: 2.6s\n",
      "118:\tlearn: 2006.8882531\ttotal: 9.68s\tremaining: 2.52s\n",
      "119:\tlearn: 2001.6347074\ttotal: 9.77s\tremaining: 2.44s\n",
      "120:\tlearn: 1999.0142654\ttotal: 9.88s\tremaining: 2.37s\n",
      "121:\tlearn: 1996.3667108\ttotal: 9.96s\tremaining: 2.29s\n",
      "122:\tlearn: 1993.0308841\ttotal: 10.1s\tremaining: 2.21s\n",
      "123:\tlearn: 1988.1632734\ttotal: 10.2s\tremaining: 2.13s\n",
      "124:\tlearn: 1985.6020048\ttotal: 10.3s\tremaining: 2.05s\n",
      "125:\tlearn: 1983.2528854\ttotal: 10.3s\tremaining: 1.96s\n",
      "126:\tlearn: 1980.8687222\ttotal: 10.4s\tremaining: 1.88s\n",
      "127:\tlearn: 1978.4624079\ttotal: 10.5s\tremaining: 1.8s\n",
      "128:\tlearn: 1976.0716870\ttotal: 10.6s\tremaining: 1.72s\n",
      "129:\tlearn: 1973.7525716\ttotal: 10.7s\tremaining: 1.64s\n",
      "130:\tlearn: 1971.5570111\ttotal: 10.7s\tremaining: 1.55s\n",
      "131:\tlearn: 1969.2328023\ttotal: 10.8s\tremaining: 1.47s\n",
      "132:\tlearn: 1966.7123001\ttotal: 10.9s\tremaining: 1.39s\n",
      "133:\tlearn: 1963.5674660\ttotal: 11s\tremaining: 1.31s\n",
      "134:\tlearn: 1961.5180725\ttotal: 11.1s\tremaining: 1.23s\n",
      "135:\tlearn: 1959.3346669\ttotal: 11.2s\tremaining: 1.15s\n",
      "136:\tlearn: 1957.2208651\ttotal: 11.3s\tremaining: 1.07s\n",
      "137:\tlearn: 1952.9160629\ttotal: 11.3s\tremaining: 987ms\n",
      "138:\tlearn: 1950.9323177\ttotal: 11.4s\tremaining: 899ms\n",
      "139:\tlearn: 1946.9156379\ttotal: 11.5s\tremaining: 818ms\n",
      "140:\tlearn: 1944.8312846\ttotal: 11.6s\tremaining: 737ms\n",
      "141:\tlearn: 1942.9217943\ttotal: 11.7s\tremaining: 657ms\n",
      "142:\tlearn: 1939.1384778\ttotal: 11.7s\tremaining: 575ms\n",
      "143:\tlearn: 1937.1217710\ttotal: 11.8s\tremaining: 493ms\n",
      "144:\tlearn: 1935.1627631\ttotal: 11.9s\tremaining: 409ms\n",
      "145:\tlearn: 1933.2500865\ttotal: 11.9s\tremaining: 327ms\n",
      "146:\tlearn: 1931.3032617\ttotal: 12s\tremaining: 246ms\n",
      "147:\tlearn: 1927.7460752\ttotal: 12.1s\tremaining: 164ms\n",
      "148:\tlearn: 1925.9299511\ttotal: 12.2s\tremaining: 82.1ms\n",
      "149:\tlearn: 1924.1182774\ttotal: 12.3s\tremaining: 0us\n",
      "RMSE = 1934.415 | Время обучения: 17.989, Скорость предсказания: 0.018, Кол-во деревьев: 150, Макс. глубина: 2\n",
      "0:\tlearn: 3483.1987216\ttotal: 38.1ms\tremaining: 5.68s\n",
      "1:\tlearn: 3425.9062529\ttotal: 139ms\tremaining: 10.3s\n",
      "2:\tlearn: 3370.7748900\ttotal: 241ms\tremaining: 11.8s\n",
      "3:\tlearn: 3315.4738287\ttotal: 343ms\tremaining: 12.5s\n",
      "4:\tlearn: 3262.3342667\ttotal: 445ms\tremaining: 12.9s\n",
      "5:\tlearn: 3213.6251211\ttotal: 546ms\tremaining: 13.1s\n",
      "6:\tlearn: 3164.6611104\ttotal: 646ms\tremaining: 13.2s\n",
      "7:\tlearn: 3116.3351629\ttotal: 744ms\tremaining: 13.2s\n",
      "8:\tlearn: 3073.2317596\ttotal: 934ms\tremaining: 14.6s\n",
      "9:\tlearn: 3028.7771200\ttotal: 1.03s\tremaining: 14.4s\n",
      "10:\tlearn: 2984.5582379\ttotal: 1.13s\tremaining: 14.3s\n",
      "11:\tlearn: 2944.5109460\ttotal: 1.24s\tremaining: 14.2s\n",
      "12:\tlearn: 2907.3125195\ttotal: 1.34s\tremaining: 14.1s\n",
      "13:\tlearn: 2869.6446064\ttotal: 1.44s\tremaining: 14s\n",
      "14:\tlearn: 2832.9505490\ttotal: 1.54s\tremaining: 13.9s\n",
      "15:\tlearn: 2797.9255834\ttotal: 1.64s\tremaining: 13.7s\n",
      "16:\tlearn: 2762.1138012\ttotal: 1.82s\tremaining: 14.3s\n",
      "17:\tlearn: 2729.0100819\ttotal: 1.93s\tremaining: 14.1s\n",
      "18:\tlearn: 2698.1716206\ttotal: 2.03s\tremaining: 14s\n",
      "19:\tlearn: 2667.0292406\ttotal: 2.13s\tremaining: 13.8s\n",
      "20:\tlearn: 2636.1402152\ttotal: 2.23s\tremaining: 13.7s\n",
      "21:\tlearn: 2609.1021939\ttotal: 2.33s\tremaining: 13.6s\n",
      "22:\tlearn: 2580.6273966\ttotal: 2.43s\tremaining: 13.4s\n",
      "23:\tlearn: 2553.9096560\ttotal: 2.62s\tremaining: 13.7s\n",
      "24:\tlearn: 2527.6420257\ttotal: 2.72s\tremaining: 13.6s\n",
      "25:\tlearn: 2502.6177565\ttotal: 2.82s\tremaining: 13.5s\n",
      "26:\tlearn: 2478.8472552\ttotal: 2.92s\tremaining: 13.3s\n",
      "27:\tlearn: 2455.7932632\ttotal: 3.02s\tremaining: 13.2s\n",
      "28:\tlearn: 2434.1420835\ttotal: 3.13s\tremaining: 13s\n",
      "29:\tlearn: 2413.3700002\ttotal: 3.23s\tremaining: 12.9s\n",
      "30:\tlearn: 2392.9753434\ttotal: 3.33s\tremaining: 12.8s\n",
      "31:\tlearn: 2374.2999010\ttotal: 3.42s\tremaining: 12.6s\n",
      "32:\tlearn: 2355.1903629\ttotal: 3.61s\tremaining: 12.8s\n",
      "33:\tlearn: 2335.7686664\ttotal: 3.72s\tremaining: 12.7s\n",
      "34:\tlearn: 2318.5314455\ttotal: 3.82s\tremaining: 12.5s\n",
      "35:\tlearn: 2301.4338296\ttotal: 3.92s\tremaining: 12.4s\n",
      "36:\tlearn: 2285.1853505\ttotal: 4.02s\tremaining: 12.3s\n",
      "37:\tlearn: 2270.0296525\ttotal: 4.12s\tremaining: 12.1s\n",
      "38:\tlearn: 2253.4715734\ttotal: 4.25s\tremaining: 12.1s\n",
      "39:\tlearn: 2239.3538065\ttotal: 4.41s\tremaining: 12.1s\n",
      "40:\tlearn: 2225.4557967\ttotal: 4.43s\tremaining: 11.8s\n",
      "41:\tlearn: 2211.2770219\ttotal: 4.52s\tremaining: 11.6s\n",
      "42:\tlearn: 2197.0057412\ttotal: 4.62s\tremaining: 11.5s\n",
      "43:\tlearn: 2184.1438142\ttotal: 4.8s\tremaining: 11.6s\n",
      "44:\tlearn: 2171.8648773\ttotal: 4.9s\tremaining: 11.4s\n",
      "45:\tlearn: 2158.7172634\ttotal: 5.01s\tremaining: 11.3s\n",
      "46:\tlearn: 2147.3798170\ttotal: 5.11s\tremaining: 11.2s\n",
      "47:\tlearn: 2135.1828912\ttotal: 5.21s\tremaining: 11.1s\n",
      "48:\tlearn: 2124.3881725\ttotal: 5.31s\tremaining: 10.9s\n",
      "49:\tlearn: 2113.1872670\ttotal: 5.41s\tremaining: 10.8s\n",
      "50:\tlearn: 2102.6501028\ttotal: 5.51s\tremaining: 10.7s\n",
      "51:\tlearn: 2092.7201003\ttotal: 5.61s\tremaining: 10.6s\n",
      "52:\tlearn: 2082.7137228\ttotal: 5.71s\tremaining: 10.4s\n",
      "53:\tlearn: 2073.5142277\ttotal: 5.8s\tremaining: 10.3s\n",
      "54:\tlearn: 2064.0794419\ttotal: 5.91s\tremaining: 10.2s\n",
      "55:\tlearn: 2055.3658481\ttotal: 6.01s\tremaining: 10.1s\n",
      "56:\tlearn: 2047.0498982\ttotal: 6.1s\tremaining: 9.96s\n",
      "57:\tlearn: 2038.8905280\ttotal: 6.29s\tremaining: 9.98s\n",
      "58:\tlearn: 2030.3312537\ttotal: 6.39s\tremaining: 9.86s\n",
      "59:\tlearn: 2022.5692630\ttotal: 6.49s\tremaining: 9.74s\n",
      "60:\tlearn: 2014.5763159\ttotal: 6.59s\tremaining: 9.62s\n",
      "61:\tlearn: 2006.3993608\ttotal: 6.69s\tremaining: 9.5s\n",
      "62:\tlearn: 1998.9315250\ttotal: 6.8s\tremaining: 9.38s\n",
      "63:\tlearn: 1991.9037376\ttotal: 6.9s\tremaining: 9.27s\n",
      "64:\tlearn: 1985.1083285\ttotal: 6.99s\tremaining: 9.15s\n",
      "65:\tlearn: 1978.5579932\ttotal: 7.1s\tremaining: 9.03s\n",
      "66:\tlearn: 1972.2367305\ttotal: 7.2s\tremaining: 8.91s\n",
      "67:\tlearn: 1965.7446676\ttotal: 7.3s\tremaining: 8.81s\n",
      "68:\tlearn: 1958.9833193\ttotal: 7.48s\tremaining: 8.78s\n",
      "69:\tlearn: 1952.6280134\ttotal: 7.58s\tremaining: 8.66s\n",
      "70:\tlearn: 1946.4741551\ttotal: 7.68s\tremaining: 8.55s\n",
      "71:\tlearn: 1941.0460532\ttotal: 7.78s\tremaining: 8.43s\n",
      "72:\tlearn: 1933.9239591\ttotal: 7.88s\tremaining: 8.32s\n",
      "73:\tlearn: 1928.2787926\ttotal: 7.98s\tremaining: 8.2s\n",
      "74:\tlearn: 1923.2635006\ttotal: 8.09s\tremaining: 8.09s\n",
      "75:\tlearn: 1916.7154321\ttotal: 8.19s\tremaining: 7.97s\n",
      "76:\tlearn: 1910.5991249\ttotal: 8.28s\tremaining: 7.85s\n",
      "77:\tlearn: 1904.8433783\ttotal: 8.38s\tremaining: 7.74s\n",
      "78:\tlearn: 1900.2505497\ttotal: 8.48s\tremaining: 7.62s\n",
      "79:\tlearn: 1894.7165841\ttotal: 8.59s\tremaining: 7.51s\n",
      "80:\tlearn: 1889.7685232\ttotal: 8.68s\tremaining: 7.4s\n",
      "81:\tlearn: 1885.0317416\ttotal: 8.78s\tremaining: 7.28s\n",
      "82:\tlearn: 1880.3797562\ttotal: 8.88s\tremaining: 7.17s\n",
      "83:\tlearn: 1875.9429954\ttotal: 8.98s\tremaining: 7.06s\n",
      "84:\tlearn: 1871.8226451\ttotal: 9.17s\tremaining: 7.01s\n",
      "85:\tlearn: 1867.9830880\ttotal: 9.27s\tremaining: 6.9s\n",
      "86:\tlearn: 1863.7589946\ttotal: 9.37s\tremaining: 6.79s\n",
      "87:\tlearn: 1860.0334132\ttotal: 9.47s\tremaining: 6.67s\n",
      "88:\tlearn: 1855.7738479\ttotal: 9.57s\tremaining: 6.56s\n",
      "89:\tlearn: 1851.9857603\ttotal: 9.67s\tremaining: 6.45s\n",
      "90:\tlearn: 1847.9964258\ttotal: 9.77s\tremaining: 6.33s\n",
      "91:\tlearn: 1844.5469377\ttotal: 9.87s\tremaining: 6.22s\n",
      "92:\tlearn: 1841.0821667\ttotal: 9.97s\tremaining: 6.11s\n",
      "93:\tlearn: 1837.9236729\ttotal: 10.1s\tremaining: 6.01s\n",
      "94:\tlearn: 1834.5340297\ttotal: 10.2s\tremaining: 5.89s\n",
      "95:\tlearn: 1830.5398032\ttotal: 10.3s\tremaining: 5.78s\n",
      "96:\tlearn: 1827.1816844\ttotal: 10.5s\tremaining: 5.71s\n",
      "97:\tlearn: 1823.9240100\ttotal: 10.6s\tremaining: 5.6s\n",
      "98:\tlearn: 1820.7808504\ttotal: 10.7s\tremaining: 5.49s\n",
      "99:\tlearn: 1817.7895721\ttotal: 10.8s\tremaining: 5.38s\n",
      "100:\tlearn: 1814.6757194\ttotal: 10.9s\tremaining: 5.27s\n",
      "101:\tlearn: 1811.5956951\ttotal: 11s\tremaining: 5.16s\n",
      "102:\tlearn: 1808.6824229\ttotal: 11.1s\tremaining: 5.05s\n",
      "103:\tlearn: 1805.4399322\ttotal: 11.2s\tremaining: 4.94s\n",
      "104:\tlearn: 1802.5185859\ttotal: 11.3s\tremaining: 4.83s\n",
      "105:\tlearn: 1799.9219537\ttotal: 11.4s\tremaining: 4.72s\n",
      "106:\tlearn: 1796.9227723\ttotal: 11.5s\tremaining: 4.61s\n",
      "107:\tlearn: 1794.3875054\ttotal: 11.6s\tremaining: 4.5s\n",
      "108:\tlearn: 1791.7733905\ttotal: 11.7s\tremaining: 4.39s\n",
      "109:\tlearn: 1788.8378840\ttotal: 11.8s\tremaining: 4.28s\n",
      "110:\tlearn: 1786.1923568\ttotal: 11.9s\tremaining: 4.17s\n",
      "111:\tlearn: 1783.6703581\ttotal: 12s\tremaining: 4.06s\n",
      "112:\tlearn: 1781.4639330\ttotal: 12.1s\tremaining: 3.95s\n",
      "113:\tlearn: 1779.3028482\ttotal: 12.2s\tremaining: 3.87s\n",
      "114:\tlearn: 1776.6029399\ttotal: 12.3s\tremaining: 3.76s\n",
      "115:\tlearn: 1774.5052210\ttotal: 12.4s\tremaining: 3.65s\n",
      "116:\tlearn: 1772.2730217\ttotal: 12.6s\tremaining: 3.54s\n",
      "117:\tlearn: 1769.6974819\ttotal: 12.6s\tremaining: 3.43s\n",
      "118:\tlearn: 1767.8088403\ttotal: 12.7s\tremaining: 3.32s\n",
      "119:\tlearn: 1764.9881561\ttotal: 12.8s\tremaining: 3.21s\n",
      "120:\tlearn: 1761.9462828\ttotal: 13s\tremaining: 3.1s\n",
      "121:\tlearn: 1758.9956733\ttotal: 13.1s\tremaining: 3s\n",
      "122:\tlearn: 1756.9087419\ttotal: 13.1s\tremaining: 2.89s\n",
      "123:\tlearn: 1754.1929650\ttotal: 13.3s\tremaining: 2.78s\n",
      "124:\tlearn: 1752.0207730\ttotal: 13.3s\tremaining: 2.67s\n",
      "125:\tlearn: 1749.6847390\ttotal: 13.4s\tremaining: 2.56s\n",
      "126:\tlearn: 1747.6269670\ttotal: 13.6s\tremaining: 2.46s\n",
      "127:\tlearn: 1745.8560197\ttotal: 13.7s\tremaining: 2.35s\n",
      "128:\tlearn: 1743.5639660\ttotal: 13.8s\tremaining: 2.24s\n",
      "129:\tlearn: 1741.6326625\ttotal: 13.8s\tremaining: 2.13s\n",
      "130:\tlearn: 1739.6561745\ttotal: 13.9s\tremaining: 2.02s\n",
      "131:\tlearn: 1737.4534016\ttotal: 14s\tremaining: 1.91s\n",
      "132:\tlearn: 1735.6947933\ttotal: 14.1s\tremaining: 1.81s\n",
      "133:\tlearn: 1733.2108582\ttotal: 14.2s\tremaining: 1.7s\n",
      "134:\tlearn: 1731.1889074\ttotal: 14.3s\tremaining: 1.59s\n",
      "135:\tlearn: 1729.4070377\ttotal: 14.4s\tremaining: 1.49s\n",
      "136:\tlearn: 1727.3912352\ttotal: 14.5s\tremaining: 1.38s\n",
      "137:\tlearn: 1725.7025385\ttotal: 14.6s\tremaining: 1.27s\n",
      "138:\tlearn: 1723.8563782\ttotal: 14.7s\tremaining: 1.17s\n",
      "139:\tlearn: 1721.9902315\ttotal: 14.8s\tremaining: 1.06s\n",
      "140:\tlearn: 1720.1869111\ttotal: 14.9s\tremaining: 954ms\n",
      "141:\tlearn: 1718.5220188\ttotal: 15s\tremaining: 847ms\n",
      "142:\tlearn: 1717.1595865\ttotal: 15.1s\tremaining: 741ms\n",
      "143:\tlearn: 1715.7408172\ttotal: 15.2s\tremaining: 635ms\n",
      "144:\tlearn: 1714.4563684\ttotal: 15.3s\tremaining: 529ms\n",
      "145:\tlearn: 1712.8057835\ttotal: 15.4s\tremaining: 423ms\n",
      "146:\tlearn: 1711.1345335\ttotal: 15.5s\tremaining: 317ms\n",
      "147:\tlearn: 1709.5062560\ttotal: 15.6s\tremaining: 211ms\n",
      "148:\tlearn: 1708.1762828\ttotal: 15.7s\tremaining: 106ms\n",
      "149:\tlearn: 1706.1412979\ttotal: 15.8s\tremaining: 0us\n",
      "RMSE = 1717.242 | Время обучения: 21.376, Скорость предсказания: 0.018, Кол-во деревьев: 150, Макс. глубина: 4\n",
      "0:\tlearn: 3477.3082838\ttotal: 41.8ms\tremaining: 6.22s\n",
      "1:\tlearn: 3412.2329589\ttotal: 147ms\tremaining: 10.9s\n",
      "2:\tlearn: 3348.7891824\ttotal: 338ms\tremaining: 16.6s\n",
      "3:\tlearn: 3287.1504524\ttotal: 446ms\tremaining: 16.3s\n",
      "4:\tlearn: 3229.3880284\ttotal: 636ms\tremaining: 18.4s\n",
      "5:\tlearn: 3171.9858636\ttotal: 740ms\tremaining: 17.8s\n",
      "6:\tlearn: 3118.0625259\ttotal: 930ms\tremaining: 19s\n",
      "7:\tlearn: 3067.9854711\ttotal: 1.04s\tremaining: 18.4s\n",
      "8:\tlearn: 3018.0759164\ttotal: 1.14s\tremaining: 17.9s\n",
      "9:\tlearn: 2969.7429421\ttotal: 1.33s\tremaining: 18.6s\n",
      "10:\tlearn: 2922.2659525\ttotal: 1.44s\tremaining: 18.2s\n",
      "11:\tlearn: 2876.3245210\ttotal: 1.63s\tremaining: 18.7s\n",
      "12:\tlearn: 2834.3346277\ttotal: 1.74s\tremaining: 18.4s\n",
      "13:\tlearn: 2791.5379585\ttotal: 1.84s\tremaining: 17.9s\n",
      "14:\tlearn: 2752.8153596\ttotal: 2.03s\tremaining: 18.3s\n",
      "15:\tlearn: 2713.0415929\ttotal: 2.13s\tremaining: 17.9s\n",
      "16:\tlearn: 2675.4491809\ttotal: 2.33s\tremaining: 18.2s\n",
      "17:\tlearn: 2638.0735744\ttotal: 2.43s\tremaining: 17.8s\n",
      "18:\tlearn: 2603.0395339\ttotal: 2.62s\tremaining: 18.1s\n",
      "19:\tlearn: 2569.6062778\ttotal: 2.73s\tremaining: 17.7s\n",
      "20:\tlearn: 2537.7459048\ttotal: 2.83s\tremaining: 17.4s\n",
      "21:\tlearn: 2505.8715237\ttotal: 3.02s\tremaining: 17.6s\n",
      "22:\tlearn: 2475.4856743\ttotal: 3.13s\tremaining: 17.3s\n",
      "23:\tlearn: 2447.9450131\ttotal: 3.23s\tremaining: 17s\n",
      "24:\tlearn: 2420.1620945\ttotal: 3.42s\tremaining: 17.1s\n",
      "25:\tlearn: 2394.2319954\ttotal: 3.53s\tremaining: 16.8s\n",
      "26:\tlearn: 2368.3699843\ttotal: 3.72s\tremaining: 16.9s\n",
      "27:\tlearn: 2343.3493804\ttotal: 3.82s\tremaining: 16.7s\n",
      "28:\tlearn: 2320.0636369\ttotal: 4.01s\tremaining: 16.7s\n",
      "29:\tlearn: 2297.5005955\ttotal: 4.12s\tremaining: 16.5s\n",
      "30:\tlearn: 2275.8197382\ttotal: 4.23s\tremaining: 16.3s\n",
      "31:\tlearn: 2255.0015461\ttotal: 4.42s\tremaining: 16.3s\n",
      "32:\tlearn: 2233.9242240\ttotal: 4.52s\tremaining: 16s\n",
      "33:\tlearn: 2214.7388017\ttotal: 4.71s\tremaining: 16.1s\n",
      "34:\tlearn: 2194.5702687\ttotal: 4.81s\tremaining: 15.8s\n",
      "35:\tlearn: 2175.9541100\ttotal: 5s\tremaining: 15.8s\n",
      "36:\tlearn: 2158.5994734\ttotal: 5.11s\tremaining: 15.6s\n",
      "37:\tlearn: 2140.6682670\ttotal: 5.3s\tremaining: 15.6s\n",
      "38:\tlearn: 2124.9316886\ttotal: 5.41s\tremaining: 15.4s\n",
      "39:\tlearn: 2108.6092964\ttotal: 5.52s\tremaining: 15.2s\n",
      "40:\tlearn: 2093.9557672\ttotal: 5.71s\tremaining: 15.2s\n",
      "41:\tlearn: 2079.4637158\ttotal: 5.81s\tremaining: 14.9s\n",
      "42:\tlearn: 2065.4204740\ttotal: 6s\tremaining: 14.9s\n",
      "43:\tlearn: 2051.2142606\ttotal: 6.11s\tremaining: 14.7s\n",
      "44:\tlearn: 2037.9140089\ttotal: 6.21s\tremaining: 14.5s\n",
      "45:\tlearn: 2024.7018584\ttotal: 6.4s\tremaining: 14.5s\n",
      "46:\tlearn: 2012.3340204\ttotal: 6.51s\tremaining: 14.3s\n",
      "47:\tlearn: 2000.1919030\ttotal: 6.7s\tremaining: 14.2s\n",
      "48:\tlearn: 1988.8304922\ttotal: 6.8s\tremaining: 14s\n",
      "49:\tlearn: 1977.5172091\ttotal: 6.91s\tremaining: 13.8s\n",
      "50:\tlearn: 1967.2650363\ttotal: 7.1s\tremaining: 13.8s\n",
      "51:\tlearn: 1956.6603428\ttotal: 7.2s\tremaining: 13.6s\n",
      "52:\tlearn: 1947.1716374\ttotal: 7.39s\tremaining: 13.5s\n",
      "53:\tlearn: 1937.3891968\ttotal: 7.5s\tremaining: 13.3s\n",
      "54:\tlearn: 1927.9197805\ttotal: 7.6s\tremaining: 13.1s\n",
      "55:\tlearn: 1919.1553071\ttotal: 7.79s\tremaining: 13.1s\n",
      "56:\tlearn: 1910.4220211\ttotal: 7.9s\tremaining: 12.9s\n",
      "57:\tlearn: 1901.8031592\ttotal: 8s\tremaining: 12.7s\n",
      "58:\tlearn: 1893.3580364\ttotal: 8.19s\tremaining: 12.6s\n",
      "59:\tlearn: 1885.4518663\ttotal: 8.3s\tremaining: 12.4s\n",
      "60:\tlearn: 1878.2359743\ttotal: 8.49s\tremaining: 12.4s\n",
      "61:\tlearn: 1870.7772396\ttotal: 8.59s\tremaining: 12.2s\n",
      "62:\tlearn: 1863.3550964\ttotal: 8.79s\tremaining: 12.1s\n",
      "63:\tlearn: 1856.1298473\ttotal: 8.89s\tremaining: 11.9s\n",
      "64:\tlearn: 1847.9113254\ttotal: 9.08s\tremaining: 11.9s\n",
      "65:\tlearn: 1841.3110213\ttotal: 9.19s\tremaining: 11.7s\n",
      "66:\tlearn: 1835.2027818\ttotal: 9.38s\tremaining: 11.6s\n",
      "67:\tlearn: 1828.9513523\ttotal: 9.49s\tremaining: 11.4s\n",
      "68:\tlearn: 1823.0474995\ttotal: 9.59s\tremaining: 11.3s\n",
      "69:\tlearn: 1816.9735578\ttotal: 9.78s\tremaining: 11.2s\n",
      "70:\tlearn: 1809.7284712\ttotal: 9.89s\tremaining: 11s\n",
      "71:\tlearn: 1804.0239184\ttotal: 9.99s\tremaining: 10.8s\n",
      "72:\tlearn: 1798.9036734\ttotal: 10.2s\tremaining: 10.7s\n",
      "73:\tlearn: 1793.5095599\ttotal: 10.3s\tremaining: 10.6s\n",
      "74:\tlearn: 1788.3936370\ttotal: 10.4s\tremaining: 10.4s\n",
      "75:\tlearn: 1783.0786305\ttotal: 10.6s\tremaining: 10.3s\n",
      "76:\tlearn: 1777.9890552\ttotal: 10.7s\tremaining: 10.1s\n",
      "77:\tlearn: 1773.1630395\ttotal: 10.9s\tremaining: 10s\n",
      "78:\tlearn: 1768.7711606\ttotal: 11s\tremaining: 9.87s\n",
      "79:\tlearn: 1763.9594099\ttotal: 11.1s\tremaining: 9.7s\n",
      "80:\tlearn: 1758.8958433\ttotal: 11.3s\tremaining: 9.6s\n",
      "81:\tlearn: 1753.5167805\ttotal: 11.4s\tremaining: 9.44s\n",
      "82:\tlearn: 1749.5653930\ttotal: 11.6s\tremaining: 9.34s\n",
      "83:\tlearn: 1745.6870331\ttotal: 11.7s\tremaining: 9.17s\n",
      "84:\tlearn: 1741.4222203\ttotal: 11.9s\tremaining: 9.07s\n",
      "85:\tlearn: 1736.4646713\ttotal: 12s\tremaining: 8.91s\n",
      "86:\tlearn: 1731.4339136\ttotal: 12.1s\tremaining: 8.75s\n",
      "87:\tlearn: 1727.7264727\ttotal: 12.3s\tremaining: 8.64s\n",
      "88:\tlearn: 1723.9069902\ttotal: 12.4s\tremaining: 8.48s\n",
      "89:\tlearn: 1720.1710020\ttotal: 12.5s\tremaining: 8.32s\n",
      "90:\tlearn: 1716.2502235\ttotal: 12.7s\tremaining: 8.21s\n",
      "91:\tlearn: 1712.9978278\ttotal: 12.8s\tremaining: 8.05s\n",
      "92:\tlearn: 1708.5386028\ttotal: 13s\tremaining: 7.94s\n",
      "93:\tlearn: 1704.8649455\ttotal: 13.1s\tremaining: 7.78s\n",
      "94:\tlearn: 1701.5874924\ttotal: 13.2s\tremaining: 7.63s\n",
      "95:\tlearn: 1698.4259145\ttotal: 13.4s\tremaining: 7.51s\n",
      "96:\tlearn: 1695.5737839\ttotal: 13.5s\tremaining: 7.36s\n",
      "97:\tlearn: 1692.5251549\ttotal: 13.6s\tremaining: 7.2s\n",
      "98:\tlearn: 1689.4589958\ttotal: 13.8s\tremaining: 7.09s\n",
      "99:\tlearn: 1686.6423364\ttotal: 13.9s\tremaining: 6.93s\n",
      "100:\tlearn: 1683.7045668\ttotal: 14.1s\tremaining: 6.82s\n",
      "101:\tlearn: 1680.7413045\ttotal: 14.2s\tremaining: 6.67s\n",
      "102:\tlearn: 1677.7795151\ttotal: 14.4s\tremaining: 6.55s\n",
      "103:\tlearn: 1675.0061380\ttotal: 14.5s\tremaining: 6.39s\n",
      "104:\tlearn: 1672.5705425\ttotal: 14.6s\tremaining: 6.28s\n",
      "105:\tlearn: 1669.8938009\ttotal: 14.8s\tremaining: 6.12s\n",
      "106:\tlearn: 1667.2905547\ttotal: 14.9s\tremaining: 5.97s\n",
      "107:\tlearn: 1664.8550705\ttotal: 15s\tremaining: 5.82s\n",
      "108:\tlearn: 1662.7072694\ttotal: 15.2s\tremaining: 5.7s\n",
      "109:\tlearn: 1660.3591537\ttotal: 15.3s\tremaining: 5.55s\n",
      "110:\tlearn: 1658.1452418\ttotal: 15.4s\tremaining: 5.43s\n",
      "111:\tlearn: 1654.9099178\ttotal: 15.5s\tremaining: 5.28s\n",
      "112:\tlearn: 1652.3950613\ttotal: 15.7s\tremaining: 5.13s\n",
      "113:\tlearn: 1650.3313587\ttotal: 15.8s\tremaining: 5s\n",
      "114:\tlearn: 1648.3080347\ttotal: 15.9s\tremaining: 4.85s\n",
      "115:\tlearn: 1645.6391840\ttotal: 16.1s\tremaining: 4.73s\n",
      "116:\tlearn: 1643.4222906\ttotal: 16.2s\tremaining: 4.58s\n",
      "117:\tlearn: 1641.6530865\ttotal: 16.4s\tremaining: 4.43s\n",
      "118:\tlearn: 1639.7045305\ttotal: 16.5s\tremaining: 4.31s\n",
      "119:\tlearn: 1637.5693999\ttotal: 16.6s\tremaining: 4.16s\n",
      "120:\tlearn: 1635.5282062\ttotal: 16.8s\tremaining: 4.04s\n",
      "121:\tlearn: 1633.8578384\ttotal: 16.9s\tremaining: 3.89s\n",
      "122:\tlearn: 1632.1352060\ttotal: 17s\tremaining: 3.74s\n",
      "123:\tlearn: 1630.4973823\ttotal: 17.2s\tremaining: 3.61s\n",
      "124:\tlearn: 1628.6227334\ttotal: 17.3s\tremaining: 3.47s\n",
      "125:\tlearn: 1626.7224359\ttotal: 17.6s\tremaining: 3.34s\n",
      "126:\tlearn: 1624.5393426\ttotal: 17.6s\tremaining: 3.19s\n",
      "127:\tlearn: 1622.9530929\ttotal: 17.7s\tremaining: 3.05s\n",
      "128:\tlearn: 1620.8931054\ttotal: 17.9s\tremaining: 2.92s\n",
      "129:\tlearn: 1619.0118827\ttotal: 18s\tremaining: 2.77s\n",
      "130:\tlearn: 1617.5818253\ttotal: 18.1s\tremaining: 2.63s\n",
      "131:\tlearn: 1616.2509691\ttotal: 18.3s\tremaining: 2.5s\n",
      "132:\tlearn: 1614.4612791\ttotal: 18.4s\tremaining: 2.36s\n",
      "133:\tlearn: 1613.1170033\ttotal: 18.6s\tremaining: 2.22s\n",
      "134:\tlearn: 1611.4503761\ttotal: 18.7s\tremaining: 2.08s\n",
      "135:\tlearn: 1609.8163023\ttotal: 18.8s\tremaining: 1.94s\n",
      "136:\tlearn: 1608.0730411\ttotal: 19s\tremaining: 1.8s\n",
      "137:\tlearn: 1606.2033664\ttotal: 19.1s\tremaining: 1.66s\n",
      "138:\tlearn: 1604.8389753\ttotal: 19.2s\tremaining: 1.52s\n",
      "139:\tlearn: 1603.3284451\ttotal: 19.4s\tremaining: 1.39s\n",
      "140:\tlearn: 1601.8228065\ttotal: 19.5s\tremaining: 1.25s\n",
      "141:\tlearn: 1600.2180878\ttotal: 19.6s\tremaining: 1.11s\n",
      "142:\tlearn: 1599.0726503\ttotal: 19.8s\tremaining: 970ms\n",
      "143:\tlearn: 1597.6524286\ttotal: 19.9s\tremaining: 830ms\n",
      "144:\tlearn: 1596.4746439\ttotal: 20s\tremaining: 691ms\n",
      "145:\tlearn: 1595.0470173\ttotal: 20.2s\tremaining: 554ms\n",
      "146:\tlearn: 1593.7961081\ttotal: 20.4s\tremaining: 417ms\n",
      "147:\tlearn: 1592.3174748\ttotal: 20.5s\tremaining: 277ms\n",
      "148:\tlearn: 1590.7465143\ttotal: 20.7s\tremaining: 139ms\n",
      "149:\tlearn: 1589.4029615\ttotal: 20.8s\tremaining: 0us\n",
      "RMSE = 1599.889 | Время обучения: 28.610, Скорость предсказания: 0.018, Кол-во деревьев: 150, Макс. глубина: 6\n",
      "0:\tlearn: 3473.3230361\ttotal: 50.7ms\tremaining: 7.56s\n",
      "1:\tlearn: 3404.7374104\ttotal: 258ms\tremaining: 19.1s\n",
      "2:\tlearn: 3338.4261889\ttotal: 438ms\tremaining: 21.4s\n",
      "3:\tlearn: 3274.4684489\ttotal: 634ms\tremaining: 23.1s\n",
      "4:\tlearn: 3212.6906183\ttotal: 828ms\tremaining: 24s\n",
      "5:\tlearn: 3152.3361124\ttotal: 943ms\tremaining: 22.6s\n",
      "6:\tlearn: 3094.8653319\ttotal: 1.14s\tremaining: 23.2s\n",
      "7:\tlearn: 3039.6652435\ttotal: 1.33s\tremaining: 23.6s\n",
      "8:\tlearn: 2986.9195238\ttotal: 1.53s\tremaining: 24s\n",
      "9:\tlearn: 2934.5676131\ttotal: 1.72s\tremaining: 24.1s\n",
      "10:\tlearn: 2883.9640133\ttotal: 1.84s\tremaining: 23.2s\n",
      "11:\tlearn: 2835.6410161\ttotal: 2.03s\tremaining: 23.4s\n",
      "12:\tlearn: 2789.4168580\ttotal: 2.23s\tremaining: 23.4s\n",
      "13:\tlearn: 2744.7671452\ttotal: 2.42s\tremaining: 23.5s\n",
      "14:\tlearn: 2701.7346115\ttotal: 2.54s\tremaining: 22.8s\n",
      "15:\tlearn: 2659.9915746\ttotal: 2.73s\tremaining: 22.9s\n",
      "16:\tlearn: 2619.9857769\ttotal: 2.93s\tremaining: 22.9s\n",
      "17:\tlearn: 2582.4275292\ttotal: 3.12s\tremaining: 22.9s\n",
      "18:\tlearn: 2546.2994765\ttotal: 3.32s\tremaining: 22.9s\n",
      "19:\tlearn: 2509.6264885\ttotal: 3.52s\tremaining: 22.9s\n",
      "20:\tlearn: 2476.7669027\ttotal: 3.64s\tremaining: 22.3s\n",
      "21:\tlearn: 2442.7480787\ttotal: 3.83s\tremaining: 22.3s\n",
      "22:\tlearn: 2409.9480662\ttotal: 4.02s\tremaining: 22.2s\n",
      "23:\tlearn: 2379.2315534\ttotal: 4.22s\tremaining: 22.1s\n",
      "24:\tlearn: 2349.7147358\ttotal: 4.41s\tremaining: 22.1s\n",
      "25:\tlearn: 2322.0278524\ttotal: 4.53s\tremaining: 21.6s\n",
      "26:\tlearn: 2295.5739253\ttotal: 4.72s\tremaining: 21.5s\n",
      "27:\tlearn: 2269.5806628\ttotal: 4.91s\tremaining: 21.4s\n",
      "28:\tlearn: 2244.3895016\ttotal: 5.11s\tremaining: 21.3s\n",
      "29:\tlearn: 2220.4414658\ttotal: 5.31s\tremaining: 21.2s\n",
      "30:\tlearn: 2197.5272376\ttotal: 5.51s\tremaining: 21.1s\n",
      "31:\tlearn: 2175.7702293\ttotal: 5.62s\tremaining: 20.7s\n",
      "32:\tlearn: 2153.5402756\ttotal: 5.82s\tremaining: 20.6s\n",
      "33:\tlearn: 2132.6418478\ttotal: 6.03s\tremaining: 20.6s\n",
      "34:\tlearn: 2113.1740651\ttotal: 6.21s\tremaining: 20.4s\n",
      "35:\tlearn: 2094.4033397\ttotal: 6.41s\tremaining: 20.3s\n",
      "36:\tlearn: 2077.0559999\ttotal: 6.61s\tremaining: 20.2s\n",
      "37:\tlearn: 2059.8551452\ttotal: 6.8s\tremaining: 20.1s\n",
      "38:\tlearn: 2043.6902598\ttotal: 7s\tremaining: 19.9s\n",
      "39:\tlearn: 2027.1588109\ttotal: 7.2s\tremaining: 19.8s\n",
      "40:\tlearn: 2010.8525752\ttotal: 7.31s\tremaining: 19.4s\n",
      "41:\tlearn: 1996.3161615\ttotal: 7.51s\tremaining: 19.3s\n",
      "42:\tlearn: 1981.3381128\ttotal: 7.7s\tremaining: 19.2s\n",
      "43:\tlearn: 1967.5373660\ttotal: 7.9s\tremaining: 19s\n",
      "44:\tlearn: 1953.3426297\ttotal: 8.09s\tremaining: 18.9s\n",
      "45:\tlearn: 1940.2344923\ttotal: 8.21s\tremaining: 18.6s\n",
      "46:\tlearn: 1927.8551774\ttotal: 8.4s\tremaining: 18.4s\n",
      "47:\tlearn: 1915.7778300\ttotal: 8.6s\tremaining: 18.3s\n",
      "48:\tlearn: 1904.6552487\ttotal: 8.79s\tremaining: 18.1s\n",
      "49:\tlearn: 1893.7413245\ttotal: 8.99s\tremaining: 18s\n",
      "50:\tlearn: 1882.6020764\ttotal: 9.11s\tremaining: 17.7s\n",
      "51:\tlearn: 1871.4840740\ttotal: 9.3s\tremaining: 17.5s\n",
      "52:\tlearn: 1861.7405986\ttotal: 9.49s\tremaining: 17.4s\n",
      "53:\tlearn: 1851.9413205\ttotal: 9.69s\tremaining: 17.2s\n",
      "54:\tlearn: 1843.0223651\ttotal: 9.89s\tremaining: 17.1s\n",
      "55:\tlearn: 1833.8210029\ttotal: 10s\tremaining: 16.8s\n",
      "56:\tlearn: 1825.4326808\ttotal: 10.2s\tremaining: 16.6s\n",
      "57:\tlearn: 1817.0950673\ttotal: 10.4s\tremaining: 16.5s\n",
      "58:\tlearn: 1806.7526232\ttotal: 10.6s\tremaining: 16.3s\n",
      "59:\tlearn: 1799.1297534\ttotal: 10.8s\tremaining: 16.2s\n",
      "60:\tlearn: 1791.5180276\ttotal: 10.9s\tremaining: 15.9s\n",
      "61:\tlearn: 1783.0409627\ttotal: 11.1s\tremaining: 15.8s\n",
      "62:\tlearn: 1775.8636517\ttotal: 11.3s\tremaining: 15.6s\n",
      "63:\tlearn: 1768.9800607\ttotal: 11.5s\tremaining: 15.4s\n",
      "64:\tlearn: 1762.3201807\ttotal: 11.7s\tremaining: 15.3s\n",
      "65:\tlearn: 1754.1858163\ttotal: 11.8s\tremaining: 15s\n",
      "66:\tlearn: 1748.2242720\ttotal: 12s\tremaining: 14.8s\n",
      "67:\tlearn: 1740.2082840\ttotal: 12.2s\tremaining: 14.7s\n",
      "68:\tlearn: 1734.3675333\ttotal: 12.4s\tremaining: 14.5s\n",
      "69:\tlearn: 1726.9131695\ttotal: 12.5s\tremaining: 14.3s\n",
      "70:\tlearn: 1719.7021629\ttotal: 12.7s\tremaining: 14.1s\n",
      "71:\tlearn: 1714.1365432\ttotal: 12.9s\tremaining: 14s\n",
      "72:\tlearn: 1709.1418563\ttotal: 13.1s\tremaining: 13.8s\n",
      "73:\tlearn: 1704.2301666\ttotal: 13.3s\tremaining: 13.6s\n",
      "74:\tlearn: 1699.4407006\ttotal: 13.5s\tremaining: 13.5s\n",
      "75:\tlearn: 1693.5817597\ttotal: 13.6s\tremaining: 13.2s\n",
      "76:\tlearn: 1687.6428336\ttotal: 13.8s\tremaining: 13.1s\n",
      "77:\tlearn: 1683.3572262\ttotal: 14s\tremaining: 12.9s\n",
      "78:\tlearn: 1678.7563758\ttotal: 14.1s\tremaining: 12.7s\n",
      "79:\tlearn: 1674.7707190\ttotal: 14.3s\tremaining: 12.5s\n",
      "80:\tlearn: 1669.2646603\ttotal: 14.5s\tremaining: 12.3s\n",
      "81:\tlearn: 1665.4373648\ttotal: 14.7s\tremaining: 12.2s\n",
      "82:\tlearn: 1660.3516815\ttotal: 14.8s\tremaining: 11.9s\n",
      "83:\tlearn: 1655.6201974\ttotal: 15s\tremaining: 11.8s\n",
      "84:\tlearn: 1651.0152518\ttotal: 15.2s\tremaining: 11.6s\n",
      "85:\tlearn: 1646.8783502\ttotal: 15.4s\tremaining: 11.4s\n",
      "86:\tlearn: 1643.1320184\ttotal: 15.6s\tremaining: 11.3s\n",
      "87:\tlearn: 1639.4004584\ttotal: 15.8s\tremaining: 11.1s\n",
      "88:\tlearn: 1636.0784751\ttotal: 15.9s\tremaining: 10.9s\n",
      "89:\tlearn: 1633.0881813\ttotal: 16.1s\tremaining: 10.7s\n",
      "90:\tlearn: 1630.0089253\ttotal: 16.3s\tremaining: 10.5s\n",
      "91:\tlearn: 1626.0824106\ttotal: 16.5s\tremaining: 10.4s\n",
      "92:\tlearn: 1622.7555568\ttotal: 16.6s\tremaining: 10.2s\n",
      "93:\tlearn: 1619.6638745\ttotal: 16.8s\tremaining: 9.98s\n",
      "94:\tlearn: 1617.1227844\ttotal: 17s\tremaining: 9.82s\n",
      "95:\tlearn: 1614.0652693\ttotal: 17.2s\tremaining: 9.65s\n",
      "96:\tlearn: 1611.5078462\ttotal: 17.3s\tremaining: 9.48s\n",
      "97:\tlearn: 1608.8521524\ttotal: 17.5s\tremaining: 9.26s\n",
      "98:\tlearn: 1606.0783698\ttotal: 17.7s\tremaining: 9.1s\n",
      "99:\tlearn: 1602.9921345\ttotal: 17.8s\tremaining: 8.92s\n",
      "100:\tlearn: 1600.8450123\ttotal: 18s\tremaining: 8.76s\n",
      "101:\tlearn: 1598.0274112\ttotal: 18.2s\tremaining: 8.59s\n",
      "102:\tlearn: 1595.7048044\ttotal: 18.4s\tremaining: 8.41s\n",
      "103:\tlearn: 1593.7295102\ttotal: 18.6s\tremaining: 8.21s\n",
      "104:\tlearn: 1590.6165909\ttotal: 18.7s\tremaining: 8.04s\n",
      "105:\tlearn: 1588.6359104\ttotal: 18.9s\tremaining: 7.86s\n",
      "106:\tlearn: 1585.8316658\ttotal: 19.1s\tremaining: 7.69s\n",
      "107:\tlearn: 1583.7182821\ttotal: 19.3s\tremaining: 7.49s\n",
      "108:\tlearn: 1581.8987829\ttotal: 19.4s\tremaining: 7.31s\n",
      "109:\tlearn: 1579.9123806\ttotal: 19.6s\tremaining: 7.14s\n",
      "110:\tlearn: 1578.1504971\ttotal: 19.8s\tremaining: 6.97s\n",
      "111:\tlearn: 1576.0810360\ttotal: 19.9s\tremaining: 6.77s\n",
      "112:\tlearn: 1573.5039034\ttotal: 20.1s\tremaining: 6.6s\n",
      "113:\tlearn: 1571.4547733\ttotal: 20.3s\tremaining: 6.42s\n",
      "114:\tlearn: 1569.7437761\ttotal: 20.5s\tremaining: 6.25s\n",
      "115:\tlearn: 1567.7604644\ttotal: 20.7s\tremaining: 6.08s\n",
      "116:\tlearn: 1565.4005657\ttotal: 20.9s\tremaining: 5.9s\n",
      "117:\tlearn: 1563.8130881\ttotal: 21s\tremaining: 5.71s\n",
      "118:\tlearn: 1561.9306315\ttotal: 21.2s\tremaining: 5.53s\n",
      "119:\tlearn: 1560.4780933\ttotal: 21.4s\tremaining: 5.36s\n",
      "120:\tlearn: 1558.8675526\ttotal: 21.6s\tremaining: 5.18s\n",
      "121:\tlearn: 1557.0146163\ttotal: 21.7s\tremaining: 4.99s\n",
      "122:\tlearn: 1555.4286497\ttotal: 21.9s\tremaining: 4.81s\n",
      "123:\tlearn: 1553.8567671\ttotal: 22.1s\tremaining: 4.64s\n",
      "124:\tlearn: 1552.3346125\ttotal: 22.2s\tremaining: 4.45s\n",
      "125:\tlearn: 1550.5465135\ttotal: 22.4s\tremaining: 4.27s\n",
      "126:\tlearn: 1549.0906513\ttotal: 22.6s\tremaining: 4.1s\n",
      "127:\tlearn: 1547.6072757\ttotal: 22.8s\tremaining: 3.92s\n",
      "128:\tlearn: 1546.0176687\ttotal: 22.9s\tremaining: 3.73s\n",
      "129:\tlearn: 1544.7074357\ttotal: 23.1s\tremaining: 3.56s\n",
      "130:\tlearn: 1543.0475125\ttotal: 23.3s\tremaining: 3.38s\n",
      "131:\tlearn: 1541.9266423\ttotal: 23.5s\tremaining: 3.21s\n",
      "132:\tlearn: 1540.3486880\ttotal: 23.7s\tremaining: 3.03s\n",
      "133:\tlearn: 1539.2916327\ttotal: 23.8s\tremaining: 2.84s\n",
      "134:\tlearn: 1537.9394582\ttotal: 24s\tremaining: 2.67s\n",
      "135:\tlearn: 1536.6484743\ttotal: 24.2s\tremaining: 2.49s\n",
      "136:\tlearn: 1535.4441971\ttotal: 24.3s\tremaining: 2.31s\n",
      "137:\tlearn: 1534.1968913\ttotal: 24.5s\tremaining: 2.13s\n",
      "138:\tlearn: 1533.0055670\ttotal: 24.7s\tremaining: 1.96s\n",
      "139:\tlearn: 1531.7849694\ttotal: 24.9s\tremaining: 1.78s\n",
      "140:\tlearn: 1530.6964195\ttotal: 25s\tremaining: 1.6s\n",
      "141:\tlearn: 1529.6332054\ttotal: 25.2s\tremaining: 1.42s\n",
      "142:\tlearn: 1528.7389852\ttotal: 25.4s\tremaining: 1.24s\n",
      "143:\tlearn: 1527.7494836\ttotal: 25.6s\tremaining: 1.07s\n",
      "144:\tlearn: 1526.7156511\ttotal: 25.7s\tremaining: 887ms\n",
      "145:\tlearn: 1525.5308536\ttotal: 25.9s\tremaining: 710ms\n",
      "146:\tlearn: 1524.6478646\ttotal: 26.1s\tremaining: 533ms\n",
      "147:\tlearn: 1523.3319412\ttotal: 26.3s\tremaining: 355ms\n",
      "148:\tlearn: 1521.9629349\ttotal: 26.5s\tremaining: 178ms\n",
      "149:\tlearn: 1521.0481754\ttotal: 26.6s\tremaining: 0us\n",
      "RMSE = 1533.341 | Время обучения: 32.247, Скорость предсказания: 0.020, Кол-во деревьев: 150, Макс. глубина: 8\n",
      "0:\tlearn: 3496.1968024\ttotal: 13.4ms\tremaining: 2.66s\n",
      "1:\tlearn: 3450.0406881\ttotal: 62.5ms\tremaining: 6.19s\n",
      "2:\tlearn: 3405.6790785\ttotal: 157ms\tremaining: 10.3s\n",
      "3:\tlearn: 3363.5844296\ttotal: 254ms\tremaining: 12.4s\n",
      "4:\tlearn: 3323.3177137\ttotal: 266ms\tremaining: 10.4s\n",
      "5:\tlearn: 3284.3439273\ttotal: 363ms\tremaining: 11.7s\n",
      "6:\tlearn: 3245.9041099\ttotal: 459ms\tremaining: 12.7s\n",
      "7:\tlearn: 3210.3525721\ttotal: 556ms\tremaining: 13.3s\n",
      "8:\tlearn: 3175.2094140\ttotal: 652ms\tremaining: 13.8s\n",
      "9:\tlearn: 3141.0118764\ttotal: 750ms\tremaining: 14.2s\n",
      "10:\tlearn: 3109.0176048\ttotal: 763ms\tremaining: 13.1s\n",
      "11:\tlearn: 3077.4543216\ttotal: 867ms\tremaining: 13.6s\n",
      "12:\tlearn: 3047.7353185\ttotal: 955ms\tremaining: 13.7s\n",
      "13:\tlearn: 3019.6878901\ttotal: 1.05s\tremaining: 14s\n",
      "14:\tlearn: 2991.8955813\ttotal: 1.15s\tremaining: 14.2s\n",
      "15:\tlearn: 2965.4099737\ttotal: 1.25s\tremaining: 14.3s\n",
      "16:\tlearn: 2940.3150178\ttotal: 1.34s\tremaining: 14.5s\n",
      "17:\tlearn: 2916.1964387\ttotal: 1.44s\tremaining: 14.6s\n",
      "18:\tlearn: 2891.0193327\ttotal: 1.54s\tremaining: 14.7s\n",
      "19:\tlearn: 2867.2024058\ttotal: 1.56s\tremaining: 14s\n",
      "20:\tlearn: 2844.5207768\ttotal: 1.65s\tremaining: 14.1s\n",
      "21:\tlearn: 2823.0802898\ttotal: 1.75s\tremaining: 14.1s\n",
      "22:\tlearn: 2800.4146408\ttotal: 1.84s\tremaining: 14.2s\n",
      "23:\tlearn: 2780.1398056\ttotal: 1.94s\tremaining: 14.2s\n",
      "24:\tlearn: 2758.9399527\ttotal: 2.04s\tremaining: 14.3s\n",
      "25:\tlearn: 2739.9671591\ttotal: 2.05s\tremaining: 13.7s\n",
      "26:\tlearn: 2721.7532166\ttotal: 2.15s\tremaining: 13.7s\n",
      "27:\tlearn: 2702.4216158\ttotal: 2.24s\tremaining: 13.8s\n",
      "28:\tlearn: 2685.3227205\ttotal: 2.34s\tremaining: 13.8s\n",
      "29:\tlearn: 2668.6900415\ttotal: 2.43s\tremaining: 13.8s\n",
      "30:\tlearn: 2650.7707205\ttotal: 2.53s\tremaining: 13.8s\n",
      "31:\tlearn: 2635.3400825\ttotal: 2.54s\tremaining: 13.4s\n",
      "32:\tlearn: 2620.7330039\ttotal: 2.64s\tremaining: 13.4s\n",
      "33:\tlearn: 2604.3680434\ttotal: 2.73s\tremaining: 13.4s\n",
      "34:\tlearn: 2588.7714662\ttotal: 2.83s\tremaining: 13.3s\n",
      "35:\tlearn: 2572.5998797\ttotal: 2.93s\tremaining: 13.3s\n",
      "36:\tlearn: 2558.9835414\ttotal: 2.94s\tremaining: 13s\n",
      "37:\tlearn: 2546.0131219\ttotal: 3.04s\tremaining: 13s\n",
      "38:\tlearn: 2531.0917971\ttotal: 3.13s\tremaining: 12.9s\n",
      "39:\tlearn: 2516.1873961\ttotal: 3.23s\tremaining: 12.9s\n",
      "40:\tlearn: 2504.3582287\ttotal: 3.33s\tremaining: 12.9s\n",
      "41:\tlearn: 2492.5918227\ttotal: 3.42s\tremaining: 12.9s\n",
      "42:\tlearn: 2478.8353301\ttotal: 3.52s\tremaining: 12.9s\n",
      "43:\tlearn: 2465.3582647\ttotal: 3.54s\tremaining: 12.5s\n",
      "44:\tlearn: 2451.9664909\ttotal: 3.65s\tremaining: 12.6s\n",
      "45:\tlearn: 2439.2989288\ttotal: 3.74s\tremaining: 12.5s\n",
      "46:\tlearn: 2427.2427666\ttotal: 3.83s\tremaining: 12.5s\n",
      "47:\tlearn: 2416.7213888\ttotal: 3.92s\tremaining: 12.4s\n",
      "48:\tlearn: 2406.7797592\ttotal: 4.03s\tremaining: 12.4s\n",
      "49:\tlearn: 2395.2652464\ttotal: 4.12s\tremaining: 12.4s\n",
      "50:\tlearn: 2384.2383444\ttotal: 4.14s\tremaining: 12.1s\n",
      "51:\tlearn: 2373.3426824\ttotal: 4.23s\tremaining: 12s\n",
      "52:\tlearn: 2363.0996692\ttotal: 4.33s\tremaining: 12s\n",
      "53:\tlearn: 2352.9079921\ttotal: 4.42s\tremaining: 11.9s\n",
      "54:\tlearn: 2344.3831749\ttotal: 4.53s\tremaining: 11.9s\n",
      "55:\tlearn: 2334.3384237\ttotal: 4.61s\tremaining: 11.9s\n",
      "56:\tlearn: 2325.5683899\ttotal: 4.62s\tremaining: 11.6s\n",
      "57:\tlearn: 2316.2179560\ttotal: 4.72s\tremaining: 11.6s\n",
      "58:\tlearn: 2307.0904587\ttotal: 4.82s\tremaining: 11.5s\n",
      "59:\tlearn: 2299.2800387\ttotal: 4.91s\tremaining: 11.5s\n",
      "60:\tlearn: 2290.7206187\ttotal: 5.01s\tremaining: 11.4s\n",
      "61:\tlearn: 2282.9577875\ttotal: 5.02s\tremaining: 11.2s\n",
      "62:\tlearn: 2275.8525446\ttotal: 5.12s\tremaining: 11.1s\n",
      "63:\tlearn: 2268.2546053\ttotal: 5.21s\tremaining: 11.1s\n",
      "64:\tlearn: 2260.4177618\ttotal: 5.22s\tremaining: 10.8s\n",
      "65:\tlearn: 2253.2914214\ttotal: 5.32s\tremaining: 10.8s\n",
      "66:\tlearn: 2246.3846592\ttotal: 5.41s\tremaining: 10.7s\n",
      "67:\tlearn: 2239.9682851\ttotal: 5.51s\tremaining: 10.7s\n",
      "68:\tlearn: 2233.6346626\ttotal: 5.61s\tremaining: 10.6s\n",
      "69:\tlearn: 2227.6031384\ttotal: 5.62s\tremaining: 10.4s\n",
      "70:\tlearn: 2219.7866913\ttotal: 5.84s\tremaining: 10.6s\n",
      "71:\tlearn: 2214.0076310\ttotal: 5.99s\tremaining: 10.6s\n",
      "72:\tlearn: 2208.0120582\ttotal: 6.1s\tremaining: 10.6s\n",
      "73:\tlearn: 2202.2439642\ttotal: 6.17s\tremaining: 10.5s\n",
      "74:\tlearn: 2196.6157646\ttotal: 6.18s\tremaining: 10.3s\n",
      "75:\tlearn: 2191.1530012\ttotal: 6.27s\tremaining: 10.2s\n",
      "76:\tlearn: 2185.1856038\ttotal: 6.38s\tremaining: 10.2s\n",
      "77:\tlearn: 2180.3296758\ttotal: 6.47s\tremaining: 10.1s\n",
      "78:\tlearn: 2175.1634713\ttotal: 6.57s\tremaining: 10.1s\n",
      "79:\tlearn: 2170.2031991\ttotal: 6.67s\tremaining: 10s\n",
      "80:\tlearn: 2165.3189049\ttotal: 6.76s\tremaining: 9.94s\n",
      "81:\tlearn: 2159.2389828\ttotal: 6.86s\tremaining: 9.87s\n",
      "82:\tlearn: 2154.4103086\ttotal: 6.87s\tremaining: 9.69s\n",
      "83:\tlearn: 2149.8767610\ttotal: 6.97s\tremaining: 9.62s\n",
      "84:\tlearn: 2144.4792251\ttotal: 7.06s\tremaining: 9.56s\n",
      "85:\tlearn: 2140.2124395\ttotal: 7.16s\tremaining: 9.49s\n",
      "86:\tlearn: 2135.7981261\ttotal: 7.17s\tremaining: 9.31s\n",
      "87:\tlearn: 2131.6580557\ttotal: 7.26s\tremaining: 9.24s\n",
      "88:\tlearn: 2127.0825311\ttotal: 7.36s\tremaining: 9.18s\n",
      "89:\tlearn: 2122.0399245\ttotal: 7.46s\tremaining: 9.11s\n",
      "90:\tlearn: 2117.9714087\ttotal: 7.47s\tremaining: 8.95s\n",
      "91:\tlearn: 2113.7626492\ttotal: 7.56s\tremaining: 8.88s\n",
      "92:\tlearn: 2108.8306818\ttotal: 7.65s\tremaining: 8.8s\n",
      "93:\tlearn: 2105.0662848\ttotal: 7.75s\tremaining: 8.74s\n",
      "94:\tlearn: 2101.2628387\ttotal: 7.86s\tremaining: 8.69s\n",
      "95:\tlearn: 2096.9267719\ttotal: 7.95s\tremaining: 8.61s\n",
      "96:\tlearn: 2093.4220362\ttotal: 8.04s\tremaining: 8.54s\n",
      "97:\tlearn: 2086.0366148\ttotal: 8.14s\tremaining: 8.48s\n",
      "98:\tlearn: 2082.1109443\ttotal: 8.24s\tremaining: 8.41s\n",
      "99:\tlearn: 2078.4104284\ttotal: 8.34s\tremaining: 8.34s\n",
      "100:\tlearn: 2074.9276867\ttotal: 8.44s\tremaining: 8.27s\n",
      "101:\tlearn: 2068.0287822\ttotal: 8.54s\tremaining: 8.2s\n",
      "102:\tlearn: 2064.7127721\ttotal: 8.64s\tremaining: 8.13s\n",
      "103:\tlearn: 2061.0559383\ttotal: 8.65s\tremaining: 7.99s\n",
      "104:\tlearn: 2057.6289628\ttotal: 8.74s\tremaining: 7.91s\n",
      "105:\tlearn: 2054.5642948\ttotal: 8.84s\tremaining: 7.84s\n",
      "106:\tlearn: 2051.3594911\ttotal: 8.94s\tremaining: 7.77s\n",
      "107:\tlearn: 2045.0182200\ttotal: 9.03s\tremaining: 7.7s\n",
      "108:\tlearn: 2041.9920802\ttotal: 9.13s\tremaining: 7.63s\n",
      "109:\tlearn: 2038.7868870\ttotal: 9.23s\tremaining: 7.55s\n",
      "110:\tlearn: 2035.7664444\ttotal: 9.33s\tremaining: 7.48s\n",
      "111:\tlearn: 2032.7592883\ttotal: 9.43s\tremaining: 7.41s\n",
      "112:\tlearn: 2029.9530002\ttotal: 9.53s\tremaining: 7.34s\n",
      "113:\tlearn: 2026.5204028\ttotal: 9.63s\tremaining: 7.26s\n",
      "114:\tlearn: 2020.5967239\ttotal: 9.64s\tremaining: 7.12s\n",
      "115:\tlearn: 2017.8796273\ttotal: 9.74s\tremaining: 7.05s\n",
      "116:\tlearn: 2012.2865621\ttotal: 9.83s\tremaining: 6.97s\n",
      "117:\tlearn: 2009.5422810\ttotal: 9.93s\tremaining: 6.9s\n",
      "118:\tlearn: 2006.8882531\ttotal: 10s\tremaining: 6.82s\n",
      "119:\tlearn: 2001.6347074\ttotal: 10.1s\tremaining: 6.75s\n",
      "120:\tlearn: 1999.0142654\ttotal: 10.1s\tremaining: 6.62s\n",
      "121:\tlearn: 1996.3667108\ttotal: 10.2s\tremaining: 6.54s\n",
      "122:\tlearn: 1993.0308841\ttotal: 10.3s\tremaining: 6.46s\n",
      "123:\tlearn: 1988.1632734\ttotal: 10.4s\tremaining: 6.39s\n",
      "124:\tlearn: 1985.6020048\ttotal: 10.5s\tremaining: 6.31s\n",
      "125:\tlearn: 1983.2528854\ttotal: 10.6s\tremaining: 6.23s\n",
      "126:\tlearn: 1980.8687222\ttotal: 10.6s\tremaining: 6.11s\n",
      "127:\tlearn: 1978.4624079\ttotal: 10.7s\tremaining: 6.03s\n",
      "128:\tlearn: 1976.0716870\ttotal: 10.8s\tremaining: 5.96s\n",
      "129:\tlearn: 1973.7525716\ttotal: 10.9s\tremaining: 5.88s\n",
      "130:\tlearn: 1971.5570111\ttotal: 11s\tremaining: 5.8s\n",
      "131:\tlearn: 1969.2328023\ttotal: 11.1s\tremaining: 5.72s\n",
      "132:\tlearn: 1966.7123001\ttotal: 11.1s\tremaining: 5.61s\n",
      "133:\tlearn: 1963.5674660\ttotal: 11.2s\tremaining: 5.53s\n",
      "134:\tlearn: 1961.5180725\ttotal: 11.3s\tremaining: 5.45s\n",
      "135:\tlearn: 1959.3346669\ttotal: 11.4s\tremaining: 5.37s\n",
      "136:\tlearn: 1957.2208651\ttotal: 11.5s\tremaining: 5.29s\n",
      "137:\tlearn: 1952.9160629\ttotal: 11.5s\tremaining: 5.18s\n",
      "138:\tlearn: 1950.9323177\ttotal: 11.6s\tremaining: 5.1s\n",
      "139:\tlearn: 1946.9156379\ttotal: 11.7s\tremaining: 5.02s\n",
      "140:\tlearn: 1944.8312846\ttotal: 11.8s\tremaining: 4.94s\n",
      "141:\tlearn: 1942.9217943\ttotal: 11.9s\tremaining: 4.86s\n",
      "142:\tlearn: 1939.1384778\ttotal: 11.9s\tremaining: 4.75s\n",
      "143:\tlearn: 1937.1217710\ttotal: 12s\tremaining: 4.67s\n",
      "144:\tlearn: 1935.1627631\ttotal: 12.1s\tremaining: 4.59s\n",
      "145:\tlearn: 1933.2500865\ttotal: 12.2s\tremaining: 4.51s\n",
      "146:\tlearn: 1931.3032617\ttotal: 12.3s\tremaining: 4.43s\n",
      "147:\tlearn: 1927.7460752\ttotal: 12.3s\tremaining: 4.33s\n",
      "148:\tlearn: 1925.9299511\ttotal: 12.3s\tremaining: 4.22s\n",
      "149:\tlearn: 1924.1182774\ttotal: 12.4s\tremaining: 4.14s\n",
      "150:\tlearn: 1922.3359337\ttotal: 12.5s\tremaining: 4.06s\n",
      "151:\tlearn: 1920.6395751\ttotal: 12.6s\tremaining: 3.99s\n",
      "152:\tlearn: 1918.9208158\ttotal: 12.7s\tremaining: 3.91s\n",
      "153:\tlearn: 1917.1615937\ttotal: 12.7s\tremaining: 3.8s\n",
      "154:\tlearn: 1913.7640351\ttotal: 12.8s\tremaining: 3.73s\n",
      "155:\tlearn: 1912.0534027\ttotal: 12.9s\tremaining: 3.64s\n",
      "156:\tlearn: 1910.4426320\ttotal: 13s\tremaining: 3.56s\n",
      "157:\tlearn: 1908.7647341\ttotal: 13.1s\tremaining: 3.49s\n",
      "158:\tlearn: 1906.6734683\ttotal: 13.1s\tremaining: 3.38s\n",
      "159:\tlearn: 1904.9594641\ttotal: 13.2s\tremaining: 3.31s\n",
      "160:\tlearn: 1901.8474543\ttotal: 13.3s\tremaining: 3.23s\n",
      "161:\tlearn: 1900.1675395\ttotal: 13.4s\tremaining: 3.15s\n",
      "162:\tlearn: 1898.6639312\ttotal: 13.5s\tremaining: 3.07s\n",
      "163:\tlearn: 1895.6470897\ttotal: 13.6s\tremaining: 2.99s\n",
      "164:\tlearn: 1893.6846352\ttotal: 13.6s\tremaining: 2.89s\n",
      "165:\tlearn: 1892.0692224\ttotal: 13.7s\tremaining: 2.81s\n",
      "166:\tlearn: 1890.5928138\ttotal: 13.8s\tremaining: 2.73s\n",
      "167:\tlearn: 1889.1046262\ttotal: 13.9s\tremaining: 2.65s\n",
      "168:\tlearn: 1887.2815852\ttotal: 14s\tremaining: 2.57s\n",
      "169:\tlearn: 1885.8708952\ttotal: 14.1s\tremaining: 2.49s\n",
      "170:\tlearn: 1883.0416423\ttotal: 14.1s\tremaining: 2.39s\n",
      "171:\tlearn: 1881.5885452\ttotal: 14.2s\tremaining: 2.31s\n",
      "172:\tlearn: 1878.9224967\ttotal: 14.3s\tremaining: 2.23s\n",
      "173:\tlearn: 1877.5593079\ttotal: 14.4s\tremaining: 2.15s\n",
      "174:\tlearn: 1875.9618924\ttotal: 14.5s\tremaining: 2.07s\n",
      "175:\tlearn: 1874.4431336\ttotal: 14.5s\tremaining: 1.98s\n",
      "176:\tlearn: 1873.0184144\ttotal: 14.6s\tremaining: 1.9s\n",
      "177:\tlearn: 1871.6467346\ttotal: 14.7s\tremaining: 1.82s\n",
      "178:\tlearn: 1870.3315919\ttotal: 14.8s\tremaining: 1.74s\n",
      "179:\tlearn: 1869.0366081\ttotal: 14.9s\tremaining: 1.66s\n",
      "180:\tlearn: 1867.7046741\ttotal: 15s\tremaining: 1.57s\n",
      "181:\tlearn: 1866.4734373\ttotal: 15s\tremaining: 1.48s\n",
      "182:\tlearn: 1865.2688812\ttotal: 15.1s\tremaining: 1.4s\n",
      "183:\tlearn: 1862.9554422\ttotal: 15.2s\tremaining: 1.32s\n",
      "184:\tlearn: 1861.2622098\ttotal: 15.3s\tremaining: 1.24s\n",
      "185:\tlearn: 1860.1365547\ttotal: 15.3s\tremaining: 1.15s\n",
      "186:\tlearn: 1858.7998367\ttotal: 15.4s\tremaining: 1.07s\n",
      "187:\tlearn: 1857.4840153\ttotal: 15.5s\tremaining: 989ms\n",
      "188:\tlearn: 1856.1884401\ttotal: 15.6s\tremaining: 908ms\n",
      "189:\tlearn: 1855.0525386\ttotal: 15.7s\tremaining: 826ms\n",
      "190:\tlearn: 1853.8614262\ttotal: 15.7s\tremaining: 740ms\n",
      "191:\tlearn: 1851.5181017\ttotal: 15.8s\tremaining: 658ms\n",
      "192:\tlearn: 1850.1951649\ttotal: 15.9s\tremaining: 576ms\n",
      "193:\tlearn: 1849.1573736\ttotal: 16s\tremaining: 495ms\n",
      "194:\tlearn: 1848.0618951\ttotal: 16.1s\tremaining: 413ms\n",
      "195:\tlearn: 1847.0012443\ttotal: 16.1s\tremaining: 329ms\n",
      "196:\tlearn: 1845.7917149\ttotal: 16.2s\tremaining: 247ms\n",
      "197:\tlearn: 1844.5877893\ttotal: 16.3s\tremaining: 165ms\n",
      "198:\tlearn: 1843.3758106\ttotal: 16.4s\tremaining: 82.4ms\n",
      "199:\tlearn: 1841.1780081\ttotal: 16.5s\tremaining: 0us\n",
      "RMSE = 1852.722 | Время обучения: 22.202, Скорость предсказания: 0.024, Кол-во деревьев: 200, Макс. глубина: 2\n",
      "0:\tlearn: 3483.1987216\ttotal: 50ms\tremaining: 9.94s\n",
      "1:\tlearn: 3425.9062529\ttotal: 153ms\tremaining: 15.1s\n",
      "2:\tlearn: 3370.7748900\ttotal: 255ms\tremaining: 16.7s\n",
      "3:\tlearn: 3315.4738287\ttotal: 355ms\tremaining: 17.4s\n",
      "4:\tlearn: 3262.3342667\ttotal: 459ms\tremaining: 17.9s\n",
      "5:\tlearn: 3213.6251211\ttotal: 646ms\tremaining: 20.9s\n",
      "6:\tlearn: 3164.6611104\ttotal: 748ms\tremaining: 20.6s\n",
      "7:\tlearn: 3116.3351629\ttotal: 848ms\tremaining: 20.4s\n",
      "8:\tlearn: 3073.2317596\ttotal: 950ms\tremaining: 20.2s\n",
      "9:\tlearn: 3028.7771200\ttotal: 1.05s\tremaining: 20s\n",
      "10:\tlearn: 2984.5582379\ttotal: 1.15s\tremaining: 19.8s\n",
      "11:\tlearn: 2944.5109460\ttotal: 1.26s\tremaining: 19.7s\n",
      "12:\tlearn: 2907.3125195\ttotal: 1.44s\tremaining: 20.8s\n",
      "13:\tlearn: 2869.6446064\ttotal: 1.54s\tremaining: 20.5s\n",
      "14:\tlearn: 2832.9505490\ttotal: 1.64s\tremaining: 20.3s\n",
      "15:\tlearn: 2797.9255834\ttotal: 1.75s\tremaining: 20.1s\n",
      "16:\tlearn: 2762.1138012\ttotal: 1.85s\tremaining: 19.9s\n",
      "17:\tlearn: 2729.0100819\ttotal: 1.95s\tremaining: 19.7s\n",
      "18:\tlearn: 2698.1716206\ttotal: 2.05s\tremaining: 19.5s\n",
      "19:\tlearn: 2667.0292406\ttotal: 2.23s\tremaining: 20.1s\n",
      "20:\tlearn: 2636.1402152\ttotal: 2.33s\tremaining: 19.9s\n",
      "21:\tlearn: 2609.1021939\ttotal: 2.45s\tremaining: 19.8s\n",
      "22:\tlearn: 2580.6273966\ttotal: 2.55s\tremaining: 19.6s\n",
      "23:\tlearn: 2553.9096560\ttotal: 2.65s\tremaining: 19.4s\n",
      "24:\tlearn: 2527.6420257\ttotal: 2.83s\tremaining: 19.8s\n",
      "25:\tlearn: 2502.6177565\ttotal: 2.95s\tremaining: 19.7s\n",
      "26:\tlearn: 2478.8472552\ttotal: 3.03s\tremaining: 19.4s\n",
      "27:\tlearn: 2455.7932632\ttotal: 3.13s\tremaining: 19.2s\n",
      "28:\tlearn: 2434.1420835\ttotal: 3.23s\tremaining: 19.1s\n",
      "29:\tlearn: 2413.3700002\ttotal: 3.33s\tremaining: 18.9s\n",
      "30:\tlearn: 2392.9753434\ttotal: 3.43s\tremaining: 18.7s\n",
      "31:\tlearn: 2374.2999010\ttotal: 3.53s\tremaining: 18.5s\n",
      "32:\tlearn: 2355.1903629\ttotal: 3.63s\tremaining: 18.4s\n",
      "33:\tlearn: 2335.7686664\ttotal: 3.82s\tremaining: 18.6s\n",
      "34:\tlearn: 2318.5314455\ttotal: 3.92s\tremaining: 18.5s\n",
      "35:\tlearn: 2301.4338296\ttotal: 4.02s\tremaining: 18.3s\n",
      "36:\tlearn: 2285.1853505\ttotal: 4.13s\tremaining: 18.2s\n",
      "37:\tlearn: 2270.0296525\ttotal: 4.22s\tremaining: 18s\n",
      "38:\tlearn: 2253.4715734\ttotal: 4.33s\tremaining: 17.9s\n",
      "39:\tlearn: 2239.3538065\ttotal: 4.42s\tremaining: 17.7s\n",
      "40:\tlearn: 2225.4557967\ttotal: 4.53s\tremaining: 17.6s\n",
      "41:\tlearn: 2211.2770219\ttotal: 4.71s\tremaining: 17.7s\n",
      "42:\tlearn: 2197.0057412\ttotal: 4.81s\tremaining: 17.6s\n",
      "43:\tlearn: 2184.1438142\ttotal: 4.92s\tremaining: 17.4s\n",
      "44:\tlearn: 2171.8648773\ttotal: 5.02s\tremaining: 17.3s\n",
      "45:\tlearn: 2158.7172634\ttotal: 5.12s\tremaining: 17.1s\n",
      "46:\tlearn: 2147.3798170\ttotal: 5.21s\tremaining: 17s\n",
      "47:\tlearn: 2135.1828912\ttotal: 5.32s\tremaining: 16.8s\n",
      "48:\tlearn: 2124.3881725\ttotal: 5.42s\tremaining: 16.7s\n",
      "49:\tlearn: 2113.1872670\ttotal: 5.6s\tremaining: 16.8s\n",
      "50:\tlearn: 2102.6501028\ttotal: 5.7s\tremaining: 16.7s\n",
      "51:\tlearn: 2092.7201003\ttotal: 5.81s\tremaining: 16.5s\n",
      "52:\tlearn: 2082.7137228\ttotal: 5.9s\tremaining: 16.4s\n",
      "53:\tlearn: 2073.5142277\ttotal: 6s\tremaining: 16.2s\n",
      "54:\tlearn: 2064.0794419\ttotal: 6.11s\tremaining: 16.1s\n",
      "55:\tlearn: 2055.3658481\ttotal: 6.21s\tremaining: 16s\n",
      "56:\tlearn: 2047.0498982\ttotal: 6.31s\tremaining: 15.8s\n",
      "57:\tlearn: 2038.8905280\ttotal: 6.41s\tremaining: 15.7s\n",
      "58:\tlearn: 2030.3312537\ttotal: 6.51s\tremaining: 15.5s\n",
      "59:\tlearn: 2022.5692630\ttotal: 6.61s\tremaining: 15.4s\n",
      "60:\tlearn: 2014.5763159\ttotal: 6.71s\tremaining: 15.3s\n",
      "61:\tlearn: 2006.3993608\ttotal: 6.89s\tremaining: 15.3s\n",
      "62:\tlearn: 1998.9315250\ttotal: 7s\tremaining: 15.2s\n",
      "63:\tlearn: 1991.9037376\ttotal: 7.1s\tremaining: 15.1s\n",
      "64:\tlearn: 1985.1083285\ttotal: 7.2s\tremaining: 15s\n",
      "65:\tlearn: 1978.5579932\ttotal: 7.3s\tremaining: 14.8s\n",
      "66:\tlearn: 1972.2367305\ttotal: 7.4s\tremaining: 14.7s\n",
      "67:\tlearn: 1965.7446676\ttotal: 7.5s\tremaining: 14.6s\n",
      "68:\tlearn: 1958.9833193\ttotal: 7.61s\tremaining: 14.4s\n",
      "69:\tlearn: 1952.6280134\ttotal: 7.79s\tremaining: 14.5s\n",
      "70:\tlearn: 1946.4741551\ttotal: 7.89s\tremaining: 14.3s\n",
      "71:\tlearn: 1941.0460532\ttotal: 7.99s\tremaining: 14.2s\n",
      "72:\tlearn: 1933.9239591\ttotal: 8.09s\tremaining: 14.1s\n",
      "73:\tlearn: 1928.2787926\ttotal: 8.19s\tremaining: 13.9s\n",
      "74:\tlearn: 1923.2635006\ttotal: 8.29s\tremaining: 13.8s\n",
      "75:\tlearn: 1916.7154321\ttotal: 8.39s\tremaining: 13.7s\n",
      "76:\tlearn: 1910.5991249\ttotal: 8.49s\tremaining: 13.6s\n",
      "77:\tlearn: 1904.8433783\ttotal: 8.61s\tremaining: 13.5s\n",
      "78:\tlearn: 1900.2505497\ttotal: 8.78s\tremaining: 13.4s\n",
      "79:\tlearn: 1894.7165841\ttotal: 8.88s\tremaining: 13.3s\n",
      "80:\tlearn: 1889.7685232\ttotal: 8.98s\tremaining: 13.2s\n",
      "81:\tlearn: 1885.0317416\ttotal: 9.08s\tremaining: 13.1s\n",
      "82:\tlearn: 1880.3797562\ttotal: 9.18s\tremaining: 12.9s\n",
      "83:\tlearn: 1875.9429954\ttotal: 9.28s\tremaining: 12.8s\n",
      "84:\tlearn: 1871.8226451\ttotal: 9.38s\tremaining: 12.7s\n",
      "85:\tlearn: 1867.9830880\ttotal: 9.48s\tremaining: 12.6s\n",
      "86:\tlearn: 1863.7589946\ttotal: 9.58s\tremaining: 12.4s\n",
      "87:\tlearn: 1860.0334132\ttotal: 9.77s\tremaining: 12.4s\n",
      "88:\tlearn: 1855.7738479\ttotal: 9.87s\tremaining: 12.3s\n",
      "89:\tlearn: 1851.9857603\ttotal: 9.97s\tremaining: 12.2s\n",
      "90:\tlearn: 1847.9964258\ttotal: 10.1s\tremaining: 12.1s\n",
      "91:\tlearn: 1844.5469377\ttotal: 10.2s\tremaining: 11.9s\n",
      "92:\tlearn: 1841.0821667\ttotal: 10.3s\tremaining: 11.8s\n",
      "93:\tlearn: 1837.9236729\ttotal: 10.4s\tremaining: 11.7s\n",
      "94:\tlearn: 1834.5340297\ttotal: 10.5s\tremaining: 11.6s\n",
      "95:\tlearn: 1830.5398032\ttotal: 10.6s\tremaining: 11.5s\n",
      "96:\tlearn: 1827.1816844\ttotal: 10.8s\tremaining: 11.4s\n",
      "97:\tlearn: 1823.9240100\ttotal: 10.9s\tremaining: 11.3s\n",
      "98:\tlearn: 1820.7808504\ttotal: 11s\tremaining: 11.2s\n",
      "99:\tlearn: 1817.7895721\ttotal: 11.1s\tremaining: 11.1s\n",
      "100:\tlearn: 1814.6757194\ttotal: 11.2s\tremaining: 10.9s\n",
      "101:\tlearn: 1811.5956951\ttotal: 11.3s\tremaining: 10.8s\n",
      "102:\tlearn: 1808.6824229\ttotal: 11.4s\tremaining: 10.7s\n",
      "103:\tlearn: 1805.4399322\ttotal: 11.5s\tremaining: 10.6s\n",
      "104:\tlearn: 1802.5185859\ttotal: 11.6s\tremaining: 10.5s\n",
      "105:\tlearn: 1799.9219537\ttotal: 11.7s\tremaining: 10.3s\n",
      "106:\tlearn: 1796.9227723\ttotal: 11.8s\tremaining: 10.2s\n",
      "107:\tlearn: 1794.3875054\ttotal: 11.9s\tremaining: 10.1s\n",
      "108:\tlearn: 1791.7733905\ttotal: 12.1s\tremaining: 10.1s\n",
      "109:\tlearn: 1788.8378840\ttotal: 12.2s\tremaining: 9.95s\n",
      "110:\tlearn: 1786.1923568\ttotal: 12.3s\tremaining: 9.84s\n",
      "111:\tlearn: 1783.6703581\ttotal: 12.4s\tremaining: 9.72s\n",
      "112:\tlearn: 1781.4639330\ttotal: 12.5s\tremaining: 9.6s\n",
      "113:\tlearn: 1779.3028482\ttotal: 12.6s\tremaining: 9.48s\n",
      "114:\tlearn: 1776.6029399\ttotal: 12.7s\tremaining: 9.36s\n",
      "115:\tlearn: 1774.5052210\ttotal: 12.8s\tremaining: 9.24s\n",
      "116:\tlearn: 1772.2730217\ttotal: 12.9s\tremaining: 9.12s\n",
      "117:\tlearn: 1769.6974819\ttotal: 13s\tremaining: 9.01s\n",
      "118:\tlearn: 1767.8088403\ttotal: 13.1s\tremaining: 8.89s\n",
      "119:\tlearn: 1764.9881561\ttotal: 13.2s\tremaining: 8.83s\n",
      "120:\tlearn: 1761.9462828\ttotal: 13.3s\tremaining: 8.71s\n",
      "121:\tlearn: 1758.9956733\ttotal: 13.4s\tremaining: 8.6s\n",
      "122:\tlearn: 1756.9087419\ttotal: 13.5s\tremaining: 8.48s\n",
      "123:\tlearn: 1754.1929650\ttotal: 13.6s\tremaining: 8.37s\n",
      "124:\tlearn: 1752.0207730\ttotal: 13.8s\tremaining: 8.25s\n",
      "125:\tlearn: 1749.6847390\ttotal: 13.9s\tremaining: 8.14s\n",
      "126:\tlearn: 1747.6269670\ttotal: 14s\tremaining: 8.02s\n",
      "127:\tlearn: 1745.8560197\ttotal: 14.1s\tremaining: 7.95s\n",
      "128:\tlearn: 1743.5639660\ttotal: 14.2s\tremaining: 7.84s\n",
      "129:\tlearn: 1741.6326625\ttotal: 14.3s\tremaining: 7.72s\n",
      "130:\tlearn: 1739.6561745\ttotal: 14.4s\tremaining: 7.61s\n",
      "131:\tlearn: 1737.4534016\ttotal: 14.5s\tremaining: 7.49s\n",
      "132:\tlearn: 1735.6947933\ttotal: 14.6s\tremaining: 7.38s\n",
      "133:\tlearn: 1733.2108582\ttotal: 14.7s\tremaining: 7.26s\n",
      "134:\tlearn: 1731.1889074\ttotal: 14.9s\tremaining: 7.19s\n",
      "135:\tlearn: 1729.4070377\ttotal: 15s\tremaining: 7.07s\n",
      "136:\tlearn: 1727.3912352\ttotal: 15.1s\tremaining: 6.96s\n",
      "137:\tlearn: 1725.7025385\ttotal: 15.2s\tremaining: 6.85s\n",
      "138:\tlearn: 1723.8563782\ttotal: 15.3s\tremaining: 6.73s\n",
      "139:\tlearn: 1721.9902315\ttotal: 15.4s\tremaining: 6.62s\n",
      "140:\tlearn: 1720.1869111\ttotal: 15.5s\tremaining: 6.5s\n",
      "141:\tlearn: 1718.5220188\ttotal: 15.6s\tremaining: 6.39s\n",
      "142:\tlearn: 1717.1595865\ttotal: 15.7s\tremaining: 6.27s\n",
      "143:\tlearn: 1715.7408172\ttotal: 15.9s\tremaining: 6.19s\n",
      "144:\tlearn: 1714.4563684\ttotal: 16s\tremaining: 6.08s\n",
      "145:\tlearn: 1712.8057835\ttotal: 16.1s\tremaining: 5.96s\n",
      "146:\tlearn: 1711.1345335\ttotal: 16.2s\tremaining: 5.85s\n",
      "147:\tlearn: 1709.5062560\ttotal: 16.3s\tremaining: 5.74s\n",
      "148:\tlearn: 1708.1762828\ttotal: 16.4s\tremaining: 5.62s\n",
      "149:\tlearn: 1706.1412979\ttotal: 16.5s\tremaining: 5.51s\n",
      "150:\tlearn: 1704.5337080\ttotal: 16.6s\tremaining: 5.4s\n",
      "151:\tlearn: 1702.9421225\ttotal: 16.8s\tremaining: 5.31s\n",
      "152:\tlearn: 1700.9807803\ttotal: 16.9s\tremaining: 5.2s\n",
      "153:\tlearn: 1699.4858514\ttotal: 17s\tremaining: 5.08s\n",
      "154:\tlearn: 1697.9883952\ttotal: 17.1s\tremaining: 4.97s\n",
      "155:\tlearn: 1696.7178037\ttotal: 17.2s\tremaining: 4.86s\n",
      "156:\tlearn: 1695.2744055\ttotal: 17.3s\tremaining: 4.74s\n",
      "157:\tlearn: 1693.8788027\ttotal: 17.5s\tremaining: 4.65s\n",
      "158:\tlearn: 1692.4888152\ttotal: 17.6s\tremaining: 4.54s\n",
      "159:\tlearn: 1691.2344708\ttotal: 17.7s\tremaining: 4.43s\n",
      "160:\tlearn: 1690.1961167\ttotal: 17.8s\tremaining: 4.32s\n",
      "161:\tlearn: 1689.1877048\ttotal: 17.9s\tremaining: 4.2s\n",
      "162:\tlearn: 1687.8344506\ttotal: 18s\tremaining: 4.09s\n",
      "163:\tlearn: 1686.6180402\ttotal: 18.1s\tremaining: 3.98s\n",
      "164:\tlearn: 1685.1560579\ttotal: 18.2s\tremaining: 3.86s\n",
      "165:\tlearn: 1683.4581281\ttotal: 18.3s\tremaining: 3.75s\n",
      "166:\tlearn: 1682.1080749\ttotal: 18.5s\tremaining: 3.66s\n",
      "167:\tlearn: 1680.3347191\ttotal: 18.6s\tremaining: 3.54s\n",
      "168:\tlearn: 1678.9628419\ttotal: 18.7s\tremaining: 3.43s\n",
      "169:\tlearn: 1677.6646512\ttotal: 18.8s\tremaining: 3.32s\n",
      "170:\tlearn: 1676.5590543\ttotal: 18.9s\tremaining: 3.21s\n",
      "171:\tlearn: 1675.1303292\ttotal: 19s\tremaining: 3.1s\n",
      "172:\tlearn: 1673.6393950\ttotal: 19.1s\tremaining: 2.98s\n",
      "173:\tlearn: 1672.6535541\ttotal: 19.2s\tremaining: 2.87s\n",
      "174:\tlearn: 1671.0898566\ttotal: 19.4s\tremaining: 2.77s\n",
      "175:\tlearn: 1669.4875409\ttotal: 19.5s\tremaining: 2.66s\n",
      "176:\tlearn: 1667.9852705\ttotal: 19.6s\tremaining: 2.55s\n",
      "177:\tlearn: 1666.6908607\ttotal: 19.7s\tremaining: 2.43s\n",
      "178:\tlearn: 1665.1708692\ttotal: 19.8s\tremaining: 2.32s\n",
      "179:\tlearn: 1664.2780132\ttotal: 19.9s\tremaining: 2.21s\n",
      "180:\tlearn: 1663.4074674\ttotal: 20s\tremaining: 2.1s\n",
      "181:\tlearn: 1662.4431262\ttotal: 20.1s\tremaining: 1.99s\n",
      "182:\tlearn: 1661.6015023\ttotal: 20.2s\tremaining: 1.88s\n",
      "183:\tlearn: 1660.4637450\ttotal: 20.3s\tremaining: 1.76s\n",
      "184:\tlearn: 1659.2907498\ttotal: 20.4s\tremaining: 1.65s\n",
      "185:\tlearn: 1657.9573683\ttotal: 20.5s\tremaining: 1.54s\n",
      "186:\tlearn: 1657.0728130\ttotal: 20.7s\tremaining: 1.44s\n",
      "187:\tlearn: 1655.7883128\ttotal: 20.8s\tremaining: 1.33s\n",
      "188:\tlearn: 1654.4929012\ttotal: 20.9s\tremaining: 1.22s\n",
      "189:\tlearn: 1653.6120892\ttotal: 21s\tremaining: 1.1s\n",
      "190:\tlearn: 1652.8321440\ttotal: 21.1s\tremaining: 994ms\n",
      "191:\tlearn: 1651.6690711\ttotal: 21.2s\tremaining: 883ms\n",
      "192:\tlearn: 1650.8089010\ttotal: 21.3s\tremaining: 772ms\n",
      "193:\tlearn: 1649.7280177\ttotal: 21.4s\tremaining: 662ms\n",
      "194:\tlearn: 1648.7660610\ttotal: 21.5s\tremaining: 551ms\n",
      "195:\tlearn: 1648.0408201\ttotal: 21.6s\tremaining: 441ms\n",
      "196:\tlearn: 1646.7967485\ttotal: 21.8s\tremaining: 332ms\n",
      "197:\tlearn: 1645.8490567\ttotal: 21.9s\tremaining: 221ms\n",
      "198:\tlearn: 1644.8885819\ttotal: 22s\tremaining: 110ms\n",
      "199:\tlearn: 1644.1631299\ttotal: 22.1s\tremaining: 0us\n",
      "RMSE = 1654.702 | Время обучения: 27.699, Скорость предсказания: 0.020, Кол-во деревьев: 200, Макс. глубина: 4\n",
      "0:\tlearn: 3477.3082838\ttotal: 60.7ms\tremaining: 12.1s\n",
      "1:\tlearn: 3412.2329589\ttotal: 163ms\tremaining: 16.2s\n",
      "2:\tlearn: 3348.7891824\ttotal: 354ms\tremaining: 23.2s\n",
      "3:\tlearn: 3287.1504524\ttotal: 459ms\tremaining: 22.5s\n",
      "4:\tlearn: 3229.3880284\ttotal: 650ms\tremaining: 25.4s\n",
      "5:\tlearn: 3171.9858636\ttotal: 757ms\tremaining: 24.5s\n",
      "6:\tlearn: 3118.0625259\ttotal: 948ms\tremaining: 26.1s\n",
      "7:\tlearn: 3067.9854711\ttotal: 1.05s\tremaining: 25.3s\n",
      "8:\tlearn: 3018.0759164\ttotal: 1.25s\tremaining: 26.4s\n",
      "9:\tlearn: 2969.7429421\ttotal: 1.35s\tremaining: 25.7s\n",
      "10:\tlearn: 2922.2659525\ttotal: 1.54s\tremaining: 26.5s\n",
      "11:\tlearn: 2876.3245210\ttotal: 1.65s\tremaining: 25.8s\n",
      "12:\tlearn: 2834.3346277\ttotal: 1.75s\tremaining: 25.2s\n",
      "13:\tlearn: 2791.5379585\ttotal: 1.95s\tremaining: 25.8s\n",
      "14:\tlearn: 2752.8153596\ttotal: 2.05s\tremaining: 25.3s\n",
      "15:\tlearn: 2713.0415929\ttotal: 2.25s\tremaining: 25.8s\n",
      "16:\tlearn: 2675.4491809\ttotal: 2.35s\tremaining: 25.3s\n",
      "17:\tlearn: 2638.0735744\ttotal: 2.54s\tremaining: 25.7s\n",
      "18:\tlearn: 2603.0395339\ttotal: 2.65s\tremaining: 25.2s\n",
      "19:\tlearn: 2569.6062778\ttotal: 2.84s\tremaining: 25.5s\n",
      "20:\tlearn: 2537.7459048\ttotal: 2.94s\tremaining: 25.1s\n",
      "21:\tlearn: 2505.8715237\ttotal: 3.13s\tremaining: 25.4s\n",
      "22:\tlearn: 2475.4856743\ttotal: 3.24s\tremaining: 24.9s\n",
      "23:\tlearn: 2447.9450131\ttotal: 3.35s\tremaining: 24.6s\n",
      "24:\tlearn: 2420.1620945\ttotal: 3.54s\tremaining: 24.8s\n",
      "25:\tlearn: 2394.2319954\ttotal: 3.64s\tremaining: 24.4s\n",
      "26:\tlearn: 2368.3699843\ttotal: 3.83s\tremaining: 24.6s\n",
      "27:\tlearn: 2343.3493804\ttotal: 3.94s\tremaining: 24.2s\n",
      "28:\tlearn: 2320.0636369\ttotal: 4.13s\tremaining: 24.4s\n",
      "29:\tlearn: 2297.5005955\ttotal: 4.24s\tremaining: 24s\n",
      "30:\tlearn: 2275.8197382\ttotal: 4.43s\tremaining: 24.1s\n",
      "31:\tlearn: 2255.0015461\ttotal: 4.53s\tremaining: 23.8s\n",
      "32:\tlearn: 2233.9242240\ttotal: 4.73s\tremaining: 23.9s\n",
      "33:\tlearn: 2214.7388017\ttotal: 4.84s\tremaining: 23.6s\n",
      "34:\tlearn: 2194.5702687\ttotal: 5.02s\tremaining: 23.7s\n",
      "35:\tlearn: 2175.9541100\ttotal: 5.13s\tremaining: 23.4s\n",
      "36:\tlearn: 2158.5994734\ttotal: 5.32s\tremaining: 23.4s\n",
      "37:\tlearn: 2140.6682670\ttotal: 5.43s\tremaining: 23.1s\n",
      "38:\tlearn: 2124.9316886\ttotal: 5.62s\tremaining: 23.2s\n",
      "39:\tlearn: 2108.6092964\ttotal: 5.72s\tremaining: 22.9s\n",
      "40:\tlearn: 2093.9557672\ttotal: 5.84s\tremaining: 22.6s\n",
      "41:\tlearn: 2079.4637158\ttotal: 6.02s\tremaining: 22.7s\n",
      "42:\tlearn: 2065.4204740\ttotal: 6.13s\tremaining: 22.4s\n",
      "43:\tlearn: 2051.2142606\ttotal: 6.32s\tremaining: 22.4s\n",
      "44:\tlearn: 2037.9140089\ttotal: 6.43s\tremaining: 22.1s\n",
      "45:\tlearn: 2024.7018584\ttotal: 6.61s\tremaining: 22.1s\n",
      "46:\tlearn: 2012.3340204\ttotal: 6.73s\tremaining: 21.9s\n",
      "47:\tlearn: 2000.1919030\ttotal: 6.91s\tremaining: 21.9s\n",
      "48:\tlearn: 1988.8304922\ttotal: 7.02s\tremaining: 21.6s\n",
      "49:\tlearn: 1977.5172091\ttotal: 7.13s\tremaining: 21.4s\n",
      "50:\tlearn: 1967.2650363\ttotal: 7.32s\tremaining: 21.4s\n",
      "51:\tlearn: 1956.6603428\ttotal: 7.42s\tremaining: 21.1s\n",
      "52:\tlearn: 1947.1716374\ttotal: 7.61s\tremaining: 21.1s\n",
      "53:\tlearn: 1937.3891968\ttotal: 7.72s\tremaining: 20.9s\n",
      "54:\tlearn: 1927.9197805\ttotal: 7.91s\tremaining: 20.8s\n",
      "55:\tlearn: 1919.1553071\ttotal: 8.03s\tremaining: 20.6s\n",
      "56:\tlearn: 1910.4220211\ttotal: 8.12s\tremaining: 20.4s\n",
      "57:\tlearn: 1901.8031592\ttotal: 8.3s\tremaining: 20.3s\n",
      "58:\tlearn: 1893.3580364\ttotal: 8.41s\tremaining: 20.1s\n",
      "59:\tlearn: 1885.4518663\ttotal: 8.6s\tremaining: 20.1s\n",
      "60:\tlearn: 1878.2359743\ttotal: 8.71s\tremaining: 19.9s\n",
      "61:\tlearn: 1870.7772396\ttotal: 8.81s\tremaining: 19.6s\n",
      "62:\tlearn: 1863.3550964\ttotal: 9s\tremaining: 19.6s\n",
      "63:\tlearn: 1856.1298473\ttotal: 9.11s\tremaining: 19.4s\n",
      "64:\tlearn: 1847.9113254\ttotal: 9.21s\tremaining: 19.1s\n",
      "65:\tlearn: 1841.3110213\ttotal: 9.4s\tremaining: 19.1s\n",
      "66:\tlearn: 1835.2027818\ttotal: 9.52s\tremaining: 18.9s\n",
      "67:\tlearn: 1828.9513523\ttotal: 9.7s\tremaining: 18.8s\n",
      "68:\tlearn: 1823.0474995\ttotal: 9.81s\tremaining: 18.6s\n",
      "69:\tlearn: 1816.9735578\ttotal: 9.99s\tremaining: 18.6s\n",
      "70:\tlearn: 1809.7284712\ttotal: 10.1s\tremaining: 18.4s\n",
      "71:\tlearn: 1804.0239184\ttotal: 10.2s\tremaining: 18.1s\n",
      "72:\tlearn: 1798.9036734\ttotal: 10.4s\tremaining: 18.1s\n",
      "73:\tlearn: 1793.5095599\ttotal: 10.5s\tremaining: 17.9s\n",
      "74:\tlearn: 1788.3936370\ttotal: 10.7s\tremaining: 17.8s\n",
      "75:\tlearn: 1783.0786305\ttotal: 10.8s\tremaining: 17.6s\n",
      "76:\tlearn: 1777.9890552\ttotal: 10.9s\tremaining: 17.4s\n",
      "77:\tlearn: 1773.1630395\ttotal: 11.1s\tremaining: 17.3s\n",
      "78:\tlearn: 1768.7711606\ttotal: 11.2s\tremaining: 17.2s\n",
      "79:\tlearn: 1763.9594099\ttotal: 11.3s\tremaining: 16.9s\n",
      "80:\tlearn: 1758.8958433\ttotal: 11.5s\tremaining: 16.9s\n",
      "81:\tlearn: 1753.5167805\ttotal: 11.6s\tremaining: 16.7s\n",
      "82:\tlearn: 1749.5653930\ttotal: 11.7s\tremaining: 16.5s\n",
      "83:\tlearn: 1745.6870331\ttotal: 11.9s\tremaining: 16.4s\n",
      "84:\tlearn: 1741.4222203\ttotal: 12s\tremaining: 16.2s\n",
      "85:\tlearn: 1736.4646713\ttotal: 12.1s\tremaining: 16s\n",
      "86:\tlearn: 1731.4339136\ttotal: 12.3s\tremaining: 16s\n",
      "87:\tlearn: 1727.7264727\ttotal: 12.4s\tremaining: 15.8s\n",
      "88:\tlearn: 1723.9069902\ttotal: 12.5s\tremaining: 15.6s\n",
      "89:\tlearn: 1720.1710020\ttotal: 12.7s\tremaining: 15.5s\n",
      "90:\tlearn: 1716.2502235\ttotal: 12.8s\tremaining: 15.3s\n",
      "91:\tlearn: 1712.9978278\ttotal: 13s\tremaining: 15.2s\n",
      "92:\tlearn: 1708.5386028\ttotal: 13.1s\tremaining: 15.1s\n",
      "93:\tlearn: 1704.8649455\ttotal: 13.2s\tremaining: 14.9s\n",
      "94:\tlearn: 1701.5874924\ttotal: 13.4s\tremaining: 14.8s\n",
      "95:\tlearn: 1698.4259145\ttotal: 13.5s\tremaining: 14.6s\n",
      "96:\tlearn: 1695.5737839\ttotal: 13.6s\tremaining: 14.4s\n",
      "97:\tlearn: 1692.5251549\ttotal: 13.8s\tremaining: 14.3s\n",
      "98:\tlearn: 1689.4589958\ttotal: 13.9s\tremaining: 14.2s\n",
      "99:\tlearn: 1686.6423364\ttotal: 14s\tremaining: 14s\n",
      "100:\tlearn: 1683.7045668\ttotal: 14.2s\tremaining: 13.9s\n",
      "101:\tlearn: 1680.7413045\ttotal: 14.3s\tremaining: 13.7s\n",
      "102:\tlearn: 1677.7795151\ttotal: 14.5s\tremaining: 13.6s\n",
      "103:\tlearn: 1675.0061380\ttotal: 14.6s\tremaining: 13.5s\n",
      "104:\tlearn: 1672.5705425\ttotal: 14.7s\tremaining: 13.3s\n",
      "105:\tlearn: 1669.8938009\ttotal: 14.9s\tremaining: 13.2s\n",
      "106:\tlearn: 1667.2905547\ttotal: 15s\tremaining: 13s\n",
      "107:\tlearn: 1664.8550705\ttotal: 15.1s\tremaining: 12.8s\n",
      "108:\tlearn: 1662.7072694\ttotal: 15.3s\tremaining: 12.7s\n",
      "109:\tlearn: 1660.3591537\ttotal: 15.4s\tremaining: 12.6s\n",
      "110:\tlearn: 1658.1452418\ttotal: 15.5s\tremaining: 12.4s\n",
      "111:\tlearn: 1654.9099178\ttotal: 15.6s\tremaining: 12.2s\n",
      "112:\tlearn: 1652.3950613\ttotal: 15.8s\tremaining: 12.1s\n",
      "113:\tlearn: 1650.3313587\ttotal: 15.9s\tremaining: 12s\n",
      "114:\tlearn: 1648.3080347\ttotal: 16.1s\tremaining: 11.9s\n",
      "115:\tlearn: 1645.6391840\ttotal: 16.2s\tremaining: 11.7s\n",
      "116:\tlearn: 1643.4222906\ttotal: 16.3s\tremaining: 11.5s\n",
      "117:\tlearn: 1641.6530865\ttotal: 16.5s\tremaining: 11.4s\n",
      "118:\tlearn: 1639.7045305\ttotal: 16.6s\tremaining: 11.3s\n",
      "119:\tlearn: 1637.5693999\ttotal: 16.8s\tremaining: 11.2s\n",
      "120:\tlearn: 1635.5282062\ttotal: 16.9s\tremaining: 11s\n",
      "121:\tlearn: 1633.8578384\ttotal: 17s\tremaining: 10.8s\n",
      "122:\tlearn: 1632.1352060\ttotal: 17.1s\tremaining: 10.7s\n",
      "123:\tlearn: 1630.4973823\ttotal: 17.3s\tremaining: 10.6s\n",
      "124:\tlearn: 1628.6227334\ttotal: 17.4s\tremaining: 10.4s\n",
      "125:\tlearn: 1626.7224359\ttotal: 17.6s\tremaining: 10.3s\n",
      "126:\tlearn: 1624.5393426\ttotal: 17.7s\tremaining: 10.2s\n",
      "127:\tlearn: 1622.9530929\ttotal: 17.8s\tremaining: 10s\n",
      "128:\tlearn: 1620.8931054\ttotal: 18s\tremaining: 9.88s\n",
      "129:\tlearn: 1619.0118827\ttotal: 18.1s\tremaining: 9.72s\n",
      "130:\tlearn: 1617.5818253\ttotal: 18.2s\tremaining: 9.61s\n",
      "131:\tlearn: 1616.2509691\ttotal: 18.3s\tremaining: 9.45s\n",
      "132:\tlearn: 1614.4612791\ttotal: 18.5s\tremaining: 9.3s\n",
      "133:\tlearn: 1613.1170033\ttotal: 18.6s\tremaining: 9.14s\n",
      "134:\tlearn: 1611.4503761\ttotal: 18.7s\tremaining: 9.03s\n",
      "135:\tlearn: 1609.8163023\ttotal: 18.9s\tremaining: 8.87s\n",
      "136:\tlearn: 1608.0730411\ttotal: 19s\tremaining: 8.72s\n",
      "137:\tlearn: 1606.2033664\ttotal: 19.1s\tremaining: 8.6s\n",
      "138:\tlearn: 1604.8389753\ttotal: 19.3s\tremaining: 8.45s\n",
      "139:\tlearn: 1603.3284451\ttotal: 19.4s\tremaining: 8.29s\n",
      "140:\tlearn: 1601.8228065\ttotal: 19.5s\tremaining: 8.17s\n",
      "141:\tlearn: 1600.2180878\ttotal: 19.6s\tremaining: 8.02s\n",
      "142:\tlearn: 1599.0726503\ttotal: 19.7s\tremaining: 7.87s\n",
      "143:\tlearn: 1597.6524286\ttotal: 19.9s\tremaining: 7.72s\n",
      "144:\tlearn: 1596.4746439\ttotal: 20s\tremaining: 7.6s\n",
      "145:\tlearn: 1595.0470173\ttotal: 20.1s\tremaining: 7.45s\n",
      "146:\tlearn: 1593.7961081\ttotal: 20.3s\tremaining: 7.3s\n",
      "147:\tlearn: 1592.3174748\ttotal: 20.4s\tremaining: 7.18s\n",
      "148:\tlearn: 1590.7465143\ttotal: 20.5s\tremaining: 7.03s\n",
      "149:\tlearn: 1589.4029615\ttotal: 20.7s\tremaining: 6.91s\n",
      "150:\tlearn: 1588.4617025\ttotal: 20.8s\tremaining: 6.76s\n",
      "151:\tlearn: 1587.4459794\ttotal: 21s\tremaining: 6.64s\n",
      "152:\tlearn: 1586.1389145\ttotal: 21.1s\tremaining: 6.49s\n",
      "153:\tlearn: 1584.8986943\ttotal: 21.3s\tremaining: 6.37s\n",
      "154:\tlearn: 1583.7730000\ttotal: 21.4s\tremaining: 6.22s\n",
      "155:\tlearn: 1582.7225216\ttotal: 21.5s\tremaining: 6.07s\n",
      "156:\tlearn: 1581.8927316\ttotal: 21.7s\tremaining: 5.95s\n",
      "157:\tlearn: 1580.6831250\ttotal: 21.8s\tremaining: 5.8s\n",
      "158:\tlearn: 1579.6957064\ttotal: 22s\tremaining: 5.68s\n",
      "159:\tlearn: 1578.5161197\ttotal: 22.1s\tremaining: 5.53s\n",
      "160:\tlearn: 1577.3878796\ttotal: 22.2s\tremaining: 5.39s\n",
      "161:\tlearn: 1576.4178703\ttotal: 22.4s\tremaining: 5.26s\n",
      "162:\tlearn: 1575.6290665\ttotal: 22.5s\tremaining: 5.11s\n",
      "163:\tlearn: 1574.5666023\ttotal: 22.6s\tremaining: 4.97s\n",
      "164:\tlearn: 1573.7533199\ttotal: 22.8s\tremaining: 4.84s\n",
      "165:\tlearn: 1572.7422620\ttotal: 22.9s\tremaining: 4.7s\n",
      "166:\tlearn: 1571.7739172\ttotal: 23.1s\tremaining: 4.57s\n",
      "167:\tlearn: 1571.0740293\ttotal: 23.2s\tremaining: 4.42s\n",
      "168:\tlearn: 1570.2272634\ttotal: 23.3s\tremaining: 4.28s\n",
      "169:\tlearn: 1569.0035897\ttotal: 23.5s\tremaining: 4.15s\n",
      "170:\tlearn: 1567.9373272\ttotal: 23.6s\tremaining: 4s\n",
      "171:\tlearn: 1566.9044926\ttotal: 23.7s\tremaining: 3.86s\n",
      "172:\tlearn: 1566.0709030\ttotal: 23.9s\tremaining: 3.73s\n",
      "173:\tlearn: 1564.6844788\ttotal: 24s\tremaining: 3.59s\n",
      "174:\tlearn: 1563.7169328\ttotal: 24.1s\tremaining: 3.45s\n",
      "175:\tlearn: 1563.0458000\ttotal: 24.3s\tremaining: 3.31s\n",
      "176:\tlearn: 1562.2268078\ttotal: 24.4s\tremaining: 3.17s\n",
      "177:\tlearn: 1561.1566096\ttotal: 24.5s\tremaining: 3.03s\n",
      "178:\tlearn: 1559.8159859\ttotal: 24.7s\tremaining: 2.9s\n",
      "179:\tlearn: 1559.0523086\ttotal: 24.8s\tremaining: 2.76s\n",
      "180:\tlearn: 1558.4801339\ttotal: 25s\tremaining: 2.62s\n",
      "181:\tlearn: 1557.8255550\ttotal: 25.1s\tremaining: 2.48s\n",
      "182:\tlearn: 1557.1292369\ttotal: 25.2s\tremaining: 2.34s\n",
      "183:\tlearn: 1556.5355266\ttotal: 25.4s\tremaining: 2.21s\n",
      "184:\tlearn: 1555.7094285\ttotal: 25.5s\tremaining: 2.07s\n",
      "185:\tlearn: 1554.9576911\ttotal: 25.6s\tremaining: 1.93s\n",
      "186:\tlearn: 1553.6603904\ttotal: 25.8s\tremaining: 1.79s\n",
      "187:\tlearn: 1552.2464558\ttotal: 25.9s\tremaining: 1.65s\n",
      "188:\tlearn: 1551.3296217\ttotal: 26.1s\tremaining: 1.52s\n",
      "189:\tlearn: 1550.7211839\ttotal: 26.2s\tremaining: 1.38s\n",
      "190:\tlearn: 1550.0562210\ttotal: 26.4s\tremaining: 1.24s\n",
      "191:\tlearn: 1549.1234945\ttotal: 26.5s\tremaining: 1.1s\n",
      "192:\tlearn: 1548.4504247\ttotal: 26.6s\tremaining: 965ms\n",
      "193:\tlearn: 1547.8783966\ttotal: 26.8s\tremaining: 829ms\n",
      "194:\tlearn: 1547.2261423\ttotal: 26.9s\tremaining: 690ms\n",
      "195:\tlearn: 1546.4527499\ttotal: 27s\tremaining: 551ms\n",
      "196:\tlearn: 1545.8083133\ttotal: 27.2s\tremaining: 414ms\n",
      "197:\tlearn: 1545.1364705\ttotal: 27.3s\tremaining: 276ms\n",
      "198:\tlearn: 1544.5960100\ttotal: 27.5s\tremaining: 138ms\n",
      "199:\tlearn: 1544.0970686\ttotal: 27.6s\tremaining: 0us\n",
      "RMSE = 1555.419 | Время обучения: 33.226, Скорость предсказания: 0.025, Кол-во деревьев: 200, Макс. глубина: 6\n",
      "0:\tlearn: 3473.3230361\ttotal: 83.1ms\tremaining: 16.5s\n",
      "1:\tlearn: 3404.7374104\ttotal: 277ms\tremaining: 27.4s\n",
      "2:\tlearn: 3338.4261889\ttotal: 472ms\tremaining: 31s\n",
      "3:\tlearn: 3274.4684489\ttotal: 669ms\tremaining: 32.8s\n",
      "4:\tlearn: 3212.6906183\ttotal: 867ms\tremaining: 33.8s\n",
      "5:\tlearn: 3152.3361124\ttotal: 1.06s\tremaining: 34.4s\n",
      "6:\tlearn: 3094.8653319\ttotal: 1.26s\tremaining: 34.8s\n",
      "7:\tlearn: 3039.6652435\ttotal: 1.38s\tremaining: 33s\n",
      "8:\tlearn: 2986.9195238\ttotal: 1.57s\tremaining: 33.4s\n",
      "9:\tlearn: 2934.5676131\ttotal: 1.77s\tremaining: 33.6s\n",
      "10:\tlearn: 2883.9640133\ttotal: 1.96s\tremaining: 33.7s\n",
      "11:\tlearn: 2835.6410161\ttotal: 2.07s\tremaining: 32.5s\n",
      "12:\tlearn: 2789.4168580\ttotal: 2.27s\tremaining: 32.6s\n",
      "13:\tlearn: 2744.7671452\ttotal: 2.46s\tremaining: 32.7s\n",
      "14:\tlearn: 2701.7346115\ttotal: 2.58s\tremaining: 31.9s\n",
      "15:\tlearn: 2659.9915746\ttotal: 2.72s\tremaining: 31.3s\n",
      "16:\tlearn: 2619.9857769\ttotal: 2.94s\tremaining: 31.6s\n",
      "17:\tlearn: 2582.4275292\ttotal: 3.11s\tremaining: 31.5s\n",
      "18:\tlearn: 2546.2994765\ttotal: 3.31s\tremaining: 31.5s\n",
      "19:\tlearn: 2509.6264885\ttotal: 3.5s\tremaining: 31.5s\n",
      "20:\tlearn: 2476.7669027\ttotal: 3.61s\tremaining: 30.8s\n",
      "21:\tlearn: 2442.7480787\ttotal: 3.8s\tremaining: 30.7s\n",
      "22:\tlearn: 2409.9480662\ttotal: 4.01s\tremaining: 30.9s\n",
      "23:\tlearn: 2379.2315534\ttotal: 4.11s\tremaining: 30.1s\n",
      "24:\tlearn: 2349.7147358\ttotal: 4.3s\tremaining: 30.1s\n",
      "25:\tlearn: 2322.0278524\ttotal: 4.5s\tremaining: 30.1s\n",
      "26:\tlearn: 2295.5739253\ttotal: 4.7s\tremaining: 30.1s\n",
      "27:\tlearn: 2269.5806628\ttotal: 4.89s\tremaining: 30.1s\n",
      "28:\tlearn: 2244.3895016\ttotal: 5s\tremaining: 29.5s\n",
      "29:\tlearn: 2220.4414658\ttotal: 5.2s\tremaining: 29.5s\n",
      "30:\tlearn: 2197.5272376\ttotal: 5.4s\tremaining: 29.4s\n",
      "31:\tlearn: 2175.7702293\ttotal: 5.59s\tremaining: 29.4s\n",
      "32:\tlearn: 2153.5402756\ttotal: 5.79s\tremaining: 29.3s\n",
      "33:\tlearn: 2132.6418478\ttotal: 5.99s\tremaining: 29.2s\n",
      "34:\tlearn: 2113.1740651\ttotal: 6.18s\tremaining: 29.1s\n",
      "35:\tlearn: 2094.4033397\ttotal: 6.3s\tremaining: 28.7s\n",
      "36:\tlearn: 2077.0559999\ttotal: 6.49s\tremaining: 28.6s\n",
      "37:\tlearn: 2059.8551452\ttotal: 6.69s\tremaining: 28.5s\n",
      "38:\tlearn: 2043.6902598\ttotal: 6.88s\tremaining: 28.4s\n",
      "39:\tlearn: 2027.1588109\ttotal: 6.99s\tremaining: 28s\n",
      "40:\tlearn: 2010.8525752\ttotal: 7.19s\tremaining: 27.9s\n",
      "41:\tlearn: 1996.3161615\ttotal: 7.39s\tremaining: 27.8s\n",
      "42:\tlearn: 1981.3381128\ttotal: 7.58s\tremaining: 27.7s\n",
      "43:\tlearn: 1967.5373660\ttotal: 7.78s\tremaining: 27.6s\n",
      "44:\tlearn: 1953.3426297\ttotal: 7.97s\tremaining: 27.5s\n",
      "45:\tlearn: 1940.2344923\ttotal: 8.09s\tremaining: 27.1s\n",
      "46:\tlearn: 1927.8551774\ttotal: 8.28s\tremaining: 27s\n",
      "47:\tlearn: 1915.7778300\ttotal: 8.48s\tremaining: 26.8s\n",
      "48:\tlearn: 1904.6552487\ttotal: 8.67s\tremaining: 26.7s\n",
      "49:\tlearn: 1893.7413245\ttotal: 8.87s\tremaining: 26.6s\n",
      "50:\tlearn: 1882.6020764\ttotal: 8.98s\tremaining: 26.2s\n",
      "51:\tlearn: 1871.4840740\ttotal: 9.19s\tremaining: 26.1s\n",
      "52:\tlearn: 1861.7405986\ttotal: 9.38s\tremaining: 26s\n",
      "53:\tlearn: 1851.9413205\ttotal: 9.57s\tremaining: 25.9s\n",
      "54:\tlearn: 1843.0223651\ttotal: 9.77s\tremaining: 25.8s\n",
      "55:\tlearn: 1833.8210029\ttotal: 9.97s\tremaining: 25.6s\n",
      "56:\tlearn: 1825.4326808\ttotal: 10.2s\tremaining: 25.5s\n",
      "57:\tlearn: 1817.0950673\ttotal: 10.3s\tremaining: 25.2s\n",
      "58:\tlearn: 1806.7526232\ttotal: 10.5s\tremaining: 25s\n",
      "59:\tlearn: 1799.1297534\ttotal: 10.7s\tremaining: 24.9s\n",
      "60:\tlearn: 1791.5180276\ttotal: 10.9s\tremaining: 24.8s\n",
      "61:\tlearn: 1783.0409627\ttotal: 11.1s\tremaining: 24.6s\n",
      "62:\tlearn: 1775.8636517\ttotal: 11.2s\tremaining: 24.3s\n",
      "63:\tlearn: 1768.9800607\ttotal: 11.4s\tremaining: 24.2s\n",
      "64:\tlearn: 1762.3201807\ttotal: 11.6s\tremaining: 24s\n",
      "65:\tlearn: 1754.1858163\ttotal: 11.8s\tremaining: 23.9s\n",
      "66:\tlearn: 1748.2242720\ttotal: 12s\tremaining: 23.7s\n",
      "67:\tlearn: 1740.2082840\ttotal: 12.1s\tremaining: 23.4s\n",
      "68:\tlearn: 1734.3675333\ttotal: 12.3s\tremaining: 23.3s\n",
      "69:\tlearn: 1726.9131695\ttotal: 12.5s\tremaining: 23.1s\n",
      "70:\tlearn: 1719.7021629\ttotal: 12.7s\tremaining: 23s\n",
      "71:\tlearn: 1714.1365432\ttotal: 12.8s\tremaining: 22.7s\n",
      "72:\tlearn: 1709.1418563\ttotal: 13s\tremaining: 22.6s\n",
      "73:\tlearn: 1704.2301666\ttotal: 13.2s\tremaining: 22.4s\n",
      "74:\tlearn: 1699.4407006\ttotal: 13.4s\tremaining: 22.3s\n",
      "75:\tlearn: 1693.5817597\ttotal: 13.5s\tremaining: 22s\n",
      "76:\tlearn: 1687.6428336\ttotal: 13.7s\tremaining: 21.8s\n",
      "77:\tlearn: 1683.3572262\ttotal: 13.9s\tremaining: 21.7s\n",
      "78:\tlearn: 1678.7563758\ttotal: 14s\tremaining: 21.5s\n",
      "79:\tlearn: 1674.7707190\ttotal: 14.2s\tremaining: 21.2s\n",
      "80:\tlearn: 1669.2646603\ttotal: 14.4s\tremaining: 21.1s\n",
      "81:\tlearn: 1665.4373648\ttotal: 14.5s\tremaining: 20.9s\n",
      "82:\tlearn: 1660.3516815\ttotal: 14.7s\tremaining: 20.8s\n",
      "83:\tlearn: 1655.6201974\ttotal: 14.9s\tremaining: 20.5s\n",
      "84:\tlearn: 1651.0152518\ttotal: 15.1s\tremaining: 20.4s\n",
      "85:\tlearn: 1646.8783502\ttotal: 15.2s\tremaining: 20.2s\n",
      "86:\tlearn: 1643.1320184\ttotal: 15.4s\tremaining: 20.1s\n",
      "87:\tlearn: 1639.4004584\ttotal: 15.6s\tremaining: 19.9s\n",
      "88:\tlearn: 1636.0784751\ttotal: 15.8s\tremaining: 19.6s\n",
      "89:\tlearn: 1633.0881813\ttotal: 15.9s\tremaining: 19.5s\n",
      "90:\tlearn: 1630.0089253\ttotal: 16.1s\tremaining: 19.3s\n",
      "91:\tlearn: 1626.0824106\ttotal: 16.3s\tremaining: 19.2s\n",
      "92:\tlearn: 1622.7555568\ttotal: 16.5s\tremaining: 19s\n",
      "93:\tlearn: 1619.6638745\ttotal: 16.7s\tremaining: 18.8s\n",
      "94:\tlearn: 1617.1227844\ttotal: 16.8s\tremaining: 18.6s\n",
      "95:\tlearn: 1614.0652693\ttotal: 17s\tremaining: 18.5s\n",
      "96:\tlearn: 1611.5078462\ttotal: 17.2s\tremaining: 18.3s\n",
      "97:\tlearn: 1608.8521524\ttotal: 17.4s\tremaining: 18.1s\n",
      "98:\tlearn: 1606.0783698\ttotal: 17.5s\tremaining: 17.9s\n",
      "99:\tlearn: 1602.9921345\ttotal: 17.7s\tremaining: 17.7s\n",
      "100:\tlearn: 1600.8450123\ttotal: 17.9s\tremaining: 17.6s\n",
      "101:\tlearn: 1598.0274112\ttotal: 18s\tremaining: 17.3s\n",
      "102:\tlearn: 1595.7048044\ttotal: 18.2s\tremaining: 17.2s\n",
      "103:\tlearn: 1593.7295102\ttotal: 18.4s\tremaining: 17s\n",
      "104:\tlearn: 1590.6165909\ttotal: 18.6s\tremaining: 16.9s\n",
      "105:\tlearn: 1588.6359104\ttotal: 18.7s\tremaining: 16.6s\n",
      "106:\tlearn: 1585.8316658\ttotal: 18.9s\tremaining: 16.5s\n",
      "107:\tlearn: 1583.7182821\ttotal: 19.1s\tremaining: 16.3s\n",
      "108:\tlearn: 1581.8987829\ttotal: 19.3s\tremaining: 16.1s\n",
      "109:\tlearn: 1579.9123806\ttotal: 19.4s\tremaining: 15.9s\n",
      "110:\tlearn: 1578.1504971\ttotal: 19.6s\tremaining: 15.7s\n",
      "111:\tlearn: 1576.0810360\ttotal: 19.8s\tremaining: 15.6s\n",
      "112:\tlearn: 1573.5039034\ttotal: 20s\tremaining: 15.4s\n",
      "113:\tlearn: 1571.4547733\ttotal: 20.1s\tremaining: 15.2s\n",
      "114:\tlearn: 1569.7437761\ttotal: 20.3s\tremaining: 15s\n",
      "115:\tlearn: 1567.7604644\ttotal: 20.5s\tremaining: 14.9s\n",
      "116:\tlearn: 1565.4005657\ttotal: 20.6s\tremaining: 14.6s\n",
      "117:\tlearn: 1563.8130881\ttotal: 20.8s\tremaining: 14.5s\n",
      "118:\tlearn: 1561.9306315\ttotal: 21s\tremaining: 14.3s\n",
      "119:\tlearn: 1560.4780933\ttotal: 21.1s\tremaining: 14.1s\n",
      "120:\tlearn: 1558.8675526\ttotal: 21.3s\tremaining: 13.9s\n",
      "121:\tlearn: 1557.0146163\ttotal: 21.5s\tremaining: 13.8s\n",
      "122:\tlearn: 1555.4286497\ttotal: 21.7s\tremaining: 13.6s\n",
      "123:\tlearn: 1553.8567671\ttotal: 21.9s\tremaining: 13.4s\n",
      "124:\tlearn: 1552.3346125\ttotal: 22.1s\tremaining: 13.3s\n",
      "125:\tlearn: 1550.5465135\ttotal: 22.2s\tremaining: 13.1s\n",
      "126:\tlearn: 1549.0906513\ttotal: 22.4s\tremaining: 12.9s\n",
      "127:\tlearn: 1547.6072757\ttotal: 22.6s\tremaining: 12.7s\n",
      "128:\tlearn: 1546.0176687\ttotal: 22.8s\tremaining: 12.6s\n",
      "129:\tlearn: 1544.7074357\ttotal: 22.9s\tremaining: 12.3s\n",
      "130:\tlearn: 1543.0475125\ttotal: 23.1s\tremaining: 12.2s\n",
      "131:\tlearn: 1541.9266423\ttotal: 23.3s\tremaining: 12s\n",
      "132:\tlearn: 1540.3486880\ttotal: 23.4s\tremaining: 11.8s\n",
      "133:\tlearn: 1539.2916327\ttotal: 23.6s\tremaining: 11.6s\n",
      "134:\tlearn: 1537.9394582\ttotal: 23.7s\tremaining: 11.4s\n",
      "135:\tlearn: 1536.6484743\ttotal: 23.9s\tremaining: 11.2s\n",
      "136:\tlearn: 1535.4441971\ttotal: 24s\tremaining: 11s\n",
      "137:\tlearn: 1534.1968913\ttotal: 24.2s\tremaining: 10.9s\n",
      "138:\tlearn: 1533.0055670\ttotal: 24.4s\tremaining: 10.7s\n",
      "139:\tlearn: 1531.7849694\ttotal: 24.5s\tremaining: 10.5s\n",
      "140:\tlearn: 1530.6964195\ttotal: 24.7s\tremaining: 10.3s\n",
      "141:\tlearn: 1529.6332054\ttotal: 24.8s\tremaining: 10.1s\n",
      "142:\tlearn: 1528.7389852\ttotal: 25s\tremaining: 9.97s\n",
      "143:\tlearn: 1527.7494836\ttotal: 25.2s\tremaining: 9.8s\n",
      "144:\tlearn: 1526.7156511\ttotal: 25.3s\tremaining: 9.6s\n",
      "145:\tlearn: 1525.5308536\ttotal: 25.5s\tremaining: 9.43s\n",
      "146:\tlearn: 1524.6478646\ttotal: 25.7s\tremaining: 9.26s\n",
      "147:\tlearn: 1523.3319412\ttotal: 25.8s\tremaining: 9.06s\n",
      "148:\tlearn: 1521.9629349\ttotal: 26s\tremaining: 8.9s\n",
      "149:\tlearn: 1521.0481754\ttotal: 26.2s\tremaining: 8.73s\n",
      "150:\tlearn: 1520.2645056\ttotal: 26.3s\tremaining: 8.53s\n",
      "151:\tlearn: 1519.3809227\ttotal: 26.5s\tremaining: 8.36s\n",
      "152:\tlearn: 1518.4002300\ttotal: 26.6s\tremaining: 8.17s\n",
      "153:\tlearn: 1517.4704761\ttotal: 26.8s\tremaining: 8s\n",
      "154:\tlearn: 1516.5479253\ttotal: 27s\tremaining: 7.83s\n",
      "155:\tlearn: 1515.6520026\ttotal: 27.1s\tremaining: 7.64s\n",
      "156:\tlearn: 1514.6375918\ttotal: 27.3s\tremaining: 7.47s\n",
      "157:\tlearn: 1513.8681726\ttotal: 27.4s\tremaining: 7.28s\n",
      "158:\tlearn: 1512.9555559\ttotal: 27.6s\tremaining: 7.11s\n",
      "159:\tlearn: 1511.9560894\ttotal: 27.8s\tremaining: 6.95s\n",
      "160:\tlearn: 1511.0439250\ttotal: 28s\tremaining: 6.78s\n",
      "161:\tlearn: 1510.2732834\ttotal: 28.1s\tremaining: 6.59s\n",
      "162:\tlearn: 1509.1433187\ttotal: 28.3s\tremaining: 6.42s\n",
      "163:\tlearn: 1508.3498707\ttotal: 28.5s\tremaining: 6.25s\n",
      "164:\tlearn: 1507.6866428\ttotal: 28.6s\tremaining: 6.06s\n",
      "165:\tlearn: 1506.8312921\ttotal: 28.8s\tremaining: 5.89s\n",
      "166:\tlearn: 1506.1298061\ttotal: 29s\tremaining: 5.72s\n",
      "167:\tlearn: 1505.2145142\ttotal: 29.2s\tremaining: 5.56s\n",
      "168:\tlearn: 1504.5317987\ttotal: 29.3s\tremaining: 5.37s\n",
      "169:\tlearn: 1503.8250501\ttotal: 29.5s\tremaining: 5.2s\n",
      "170:\tlearn: 1503.0715817\ttotal: 29.7s\tremaining: 5.03s\n",
      "171:\tlearn: 1502.2605727\ttotal: 29.9s\tremaining: 4.86s\n",
      "172:\tlearn: 1501.4743853\ttotal: 30s\tremaining: 4.68s\n",
      "173:\tlearn: 1500.5932994\ttotal: 30.2s\tremaining: 4.51s\n",
      "174:\tlearn: 1499.8031010\ttotal: 30.4s\tremaining: 4.34s\n",
      "175:\tlearn: 1498.8950896\ttotal: 30.6s\tremaining: 4.17s\n",
      "176:\tlearn: 1498.2612511\ttotal: 30.8s\tremaining: 4s\n",
      "177:\tlearn: 1497.5673193\ttotal: 30.9s\tremaining: 3.82s\n",
      "178:\tlearn: 1496.8062476\ttotal: 31.1s\tremaining: 3.65s\n",
      "179:\tlearn: 1496.2910999\ttotal: 31.3s\tremaining: 3.47s\n",
      "180:\tlearn: 1495.7685754\ttotal: 31.4s\tremaining: 3.29s\n",
      "181:\tlearn: 1494.9289940\ttotal: 31.6s\tremaining: 3.12s\n",
      "182:\tlearn: 1494.0753405\ttotal: 31.8s\tremaining: 2.95s\n",
      "183:\tlearn: 1493.3680666\ttotal: 32s\tremaining: 2.78s\n",
      "184:\tlearn: 1492.9518157\ttotal: 32.1s\tremaining: 2.6s\n",
      "185:\tlearn: 1492.4493382\ttotal: 32.3s\tremaining: 2.43s\n",
      "186:\tlearn: 1491.9304690\ttotal: 32.4s\tremaining: 2.25s\n",
      "187:\tlearn: 1491.2698959\ttotal: 32.6s\tremaining: 2.08s\n",
      "188:\tlearn: 1490.4987736\ttotal: 32.8s\tremaining: 1.91s\n",
      "189:\tlearn: 1489.9241349\ttotal: 32.9s\tremaining: 1.73s\n",
      "190:\tlearn: 1489.3797886\ttotal: 33.1s\tremaining: 1.56s\n",
      "191:\tlearn: 1488.8522860\ttotal: 33.3s\tremaining: 1.39s\n",
      "192:\tlearn: 1488.3119487\ttotal: 33.4s\tremaining: 1.21s\n",
      "193:\tlearn: 1487.5028751\ttotal: 33.6s\tremaining: 1.04s\n",
      "194:\tlearn: 1486.8739498\ttotal: 33.8s\tremaining: 865ms\n",
      "195:\tlearn: 1486.3374833\ttotal: 33.9s\tremaining: 691ms\n",
      "196:\tlearn: 1485.2159383\ttotal: 34.1s\tremaining: 519ms\n",
      "197:\tlearn: 1484.7425759\ttotal: 34.3s\tremaining: 346ms\n",
      "198:\tlearn: 1484.2970814\ttotal: 34.4s\tremaining: 173ms\n",
      "199:\tlearn: 1483.5296002\ttotal: 34.6s\tremaining: 0us\n",
      "RMSE = 1497.971 | Время обучения: 40.416, Скорость предсказания: 0.028, Кол-во деревьев: 200, Макс. глубина: 8\n"
     ]
    }
   ],
   "source": [
    "for ite in range(50, 201, 50):\n",
    "    for depth in range (2, 10, 2):\n",
    "        model = CatBoostRegressor(random_state=12345, loss_function='RMSE', iterations=ite, depth=depth)\n",
    "        \n",
    "        start = time.time()\n",
    "        model.fit(features_train, target_train)\n",
    "        end_time_fit = time.time() - start\n",
    "        \n",
    "        start = time.time()\n",
    "        predicted_valid = model.predict(features_valid)\n",
    "        end_time_pred = time.time() - start\n",
    "        \n",
    "        mse = mean_squared_error(target_valid, predicted_valid)\n",
    "        rmse = mse ** 0.5\n",
    "        print('RMSE = {:.3f} | Время обучения: {:.3f}, Скорость предсказания: {:.3f}, Кол-во деревьев: {:.0f}, Макс. глубина: {:.0f}'.format(\n",
    "        rmse, end_time_fit, end_time_pred, ite, depth))"
   ]
  },
  {
   "cell_type": "markdown",
   "metadata": {},
   "source": [
    "### Вывод по этапу 2"
   ]
  },
  {
   "cell_type": "markdown",
   "metadata": {},
   "source": [
    "На втором этапе работы выполнено обучение моделей с применением базового алгоритма обучения LinearRegression, а также различными алгоритмами градиентного бустинга с подбором гиперпараметров: XGBRegressor, LGBMRegressor, CatBoostRegressor.\n",
    "\n",
    "Модели имеют разное соотношения качества и скорости работы. Анализ моделей будет приведен на следующем этапе."
   ]
  },
  {
   "cell_type": "markdown",
   "metadata": {},
   "source": [
    "## Анализ моделей"
   ]
  },
  {
   "cell_type": "markdown",
   "metadata": {},
   "source": [
    "Рассмотрим наилучшие полученные результаты RMSE при обучении моделей различными алгоритмами:\n",
    "\n",
    "**Модель LinearRegression:**\n",
    "<div>RMSE = 1916.706 | Время обучения: 19.159, Скорость предсказания: 0.132</div>\n",
    "\n",
    "**Модель XGBRegressor:**\n",
    "<div>RMSE = 1462.187 | Время обучения: 282.243, Скорость предсказания: 0.829, Кол-во деревьев: 150, Макс. глубина: 4</div>\n",
    "\n",
    "**Модель LGBMRegressor:**\n",
    "<div>RMSE = 1293.835 | Время обучения: 13.305, Скорость предсказания: 4.618, Кол-во деревьев: 1000, Макс. глубина: 6</div>\n",
    "\n",
    "**Модель CatBoostRegressor:**\n",
    "<div>RMSE = 1497.971 | Время обучения: 39.334, Скорость предсказания: 0.019, Кол-во деревьев: 200, Макс. глубина: 8</div>\n",
    "\n",
    "Итак, можно сказать о моделях следующее:\n",
    "1. Все три модели градиентного бустинга показали более точные результаты, чем базовая модель LinearRegression.\n",
    "2. Модели XGBRegressor и CatBoostRegressor показали довольно близкие результаты метрики RMSE 1462.187 и 1497.971 соответственно, однако модель CatBoost справилась с обучением в 7 раз быстрее.\n",
    "3. Модель LGBMRegressor показала наилучший результат RMSE = 1293.835. Стоит отметить, что у LGBMRegressor наиболее медленная скорость предсказания среди всех алгоритмов, однако, это не помешало ей справиться с поставленной задачей еще в 2 раза быстрее, чем модель CatBoost.\n",
    "4. Еще одна особенность - все модели стабильно показывали более высокие результаты при увеличении значений гиперпараметров."
   ]
  },
  {
   "cell_type": "markdown",
   "metadata": {},
   "source": [
    "Как итог резюмируем: с учетом всех факторов стоит предложить заказчику использовать модель LGBMRegressor.\n",
    "Можно еще в 1.5-2 раза увеличить скорость обучения и предсказания модели без значительной потери в качестве. Для этого предлагается использовать следующие гиперпараметры:\n",
    "\n",
    "RMSE = 1328.779 | Время обучения: 7.658, Скорость предсказания: 2.415, Кол-во деревьев: 500, Макс. глубина: 6"
   ]
  },
  {
   "cell_type": "markdown",
   "metadata": {},
   "source": [
    "### Проверка выбранной модели на тестовой выборке"
   ]
  },
  {
   "cell_type": "markdown",
   "metadata": {},
   "source": [
    "Проверим выбранную модель на тестовой выборке. Для более качественного обучения модели перед её проверкой на тестовой выборке объединим данные обучающей и тестовой выборок в общую новую обучающую выборку:"
   ]
  },
  {
   "cell_type": "code",
   "execution_count": 54,
   "metadata": {},
   "outputs": [],
   "source": [
    "features_train_sum = pd.concat([features_train, features_valid])\n",
    "target_train_sum = pd.concat([target_train, target_valid])"
   ]
  },
  {
   "cell_type": "code",
   "execution_count": 55,
   "metadata": {},
   "outputs": [
    {
     "data": {
      "text/plain": [
       "(217478, 307)"
      ]
     },
     "execution_count": 55,
     "metadata": {},
     "output_type": "execute_result"
    }
   ],
   "source": [
    "features_train_sum.shape"
   ]
  },
  {
   "cell_type": "code",
   "execution_count": 56,
   "metadata": {},
   "outputs": [
    {
     "data": {
      "text/plain": [
       "(217478,)"
      ]
     },
     "execution_count": 56,
     "metadata": {},
     "output_type": "execute_result"
    }
   ],
   "source": [
    "target_train_sum.shape"
   ]
  },
  {
   "cell_type": "markdown",
   "metadata": {},
   "source": [
    "**Проверка модели на тестовой выборке**"
   ]
  },
  {
   "cell_type": "code",
   "execution_count": 57,
   "metadata": {},
   "outputs": [
    {
     "name": "stdout",
     "output_type": "stream",
     "text": [
      "RMSE = 1288.056 | Время обучения: 10.734, Скорость предсказания: 2.515, Кол-во деревьев: 500, Макс. глубина: 6\n"
     ]
    }
   ],
   "source": [
    "est=500\n",
    "depth=6\n",
    "model = LGBMRegressor(random_state=12345, boosting_type='gbdt', n_estimators=est, max_depth=depth)\n",
    "        \n",
    "start = time.time()\n",
    "model.fit(features_train_sum, target_train_sum)\n",
    "end_time_fit = time.time() - start\n",
    "        \n",
    "start = time.time()\n",
    "predicted_test = model.predict(features_test)\n",
    "end_time_test = time.time() - start\n",
    "        \n",
    "mse = mean_squared_error(target_test, predicted_test)\n",
    "rmse = mse ** 0.5\n",
    "print('RMSE = {:.3f} | Время обучения: {:.3f}, Скорость предсказания: {:.3f}, Кол-во деревьев: {:.0f}, Макс. глубина: {:.0f}'.format(\n",
    "rmse, end_time_fit, end_time_test, est, depth))"
   ]
  },
  {
   "cell_type": "markdown",
   "metadata": {},
   "source": [
    "На тестовой выборке с применением выбранных гиперпараметров удалось еще увеличить метрику качества и увеличить скорость работы модели."
   ]
  },
  {
   "cell_type": "markdown",
   "metadata": {},
   "source": [
    "### Сравнение выбранной модели с константной"
   ]
  },
  {
   "cell_type": "markdown",
   "metadata": {},
   "source": [
    "Сравним также результат работы выбранной модели с результатом константной:"
   ]
  },
  {
   "cell_type": "code",
   "execution_count": 58,
   "metadata": {},
   "outputs": [],
   "source": [
    "model_dummy = DummyRegressor(strategy='mean')"
   ]
  },
  {
   "cell_type": "code",
   "execution_count": 59,
   "metadata": {},
   "outputs": [
    {
     "name": "stdout",
     "output_type": "stream",
     "text": [
      "RMSE: 3549.7880959426698\n"
     ]
    }
   ],
   "source": [
    "model_dummy.fit(features_train, target_train)\n",
    "predictions = model_dummy.predict(features_test)\n",
    "print('RMSE:', mean_squared_error(target_test, predictions) ** 0.5)"
   ]
  },
  {
   "cell_type": "markdown",
   "metadata": {},
   "source": [
    "Результаты выбранной модели значительно превосходят результаты константной."
   ]
  },
  {
   "cell_type": "markdown",
   "metadata": {},
   "source": [
    "**Вывод**"
   ]
  },
  {
   "cell_type": "markdown",
   "metadata": {},
   "source": [
    "На третьем этапе выполнен анализ результатов моделей, использованных в работе.\n",
    "\n",
    "Наилучший результат показан моделью `LGBMRegressor`.\n",
    "\n",
    "Успешно выполнена проверка выбранной модели с подобранными гиперпараметрами на тестовой выборке."
   ]
  },
  {
   "cell_type": "markdown",
   "metadata": {},
   "source": [
    "## Общий вывод"
   ]
  },
  {
   "cell_type": "markdown",
   "metadata": {},
   "source": [
    "В данной проектной работе на основании имеющихся исторических данных сервиса по продаже автомобилей с пробегом «Не бит, не крашен» построены модели для задачи регрессии с целью определения стоимости автомобилей.\n",
    "\n",
    "Для обучения моделей использованы черыре алгоритма: `LinearRegression`, `XGBRegressor`, `LGBMRegressor` и `CatBoostRegressor`.\n",
    "\n",
    "В процессе работы на начальном этапе были выполнены: предобработка данных, преобразование категориальных признаков, разбивка данных на выборки, масштабирование признаков.\n",
    "\n",
    "На втором этапе выполнено обучение различных моделей с подбором наиболее оптимальных гиперпараметров. \n",
    "\n",
    "Наилучшей результат с метрикой RMSE = 1293.835, временем обучения 13.305 с и скоростью предсказания 4.618 с на валидационной выборке был предсказан алгоритмом `LGBMRegressor`.\n",
    "\n",
    "Результат на тестовой выборке подтвердил корректность предсказаний алгоритма `LGBMRegressor`."
   ]
  }
 ],
 "metadata": {
  "ExecuteTimeLog": [
   {
    "duration": 780,
    "start_time": "2021-07-26T06:41:03.206Z"
   },
   {
    "duration": 5143,
    "start_time": "2021-07-26T06:41:47.000Z"
   },
   {
    "duration": 40,
    "start_time": "2021-07-26T06:41:58.495Z"
   },
   {
    "duration": 172,
    "start_time": "2021-07-26T06:42:22.167Z"
   },
   {
    "duration": 125,
    "start_time": "2021-07-26T06:42:33.056Z"
   },
   {
    "duration": 764,
    "start_time": "2021-07-26T16:09:52.575Z"
   },
   {
    "duration": 1541,
    "start_time": "2021-07-26T16:11:14.059Z"
   },
   {
    "duration": 24,
    "start_time": "2021-07-26T16:11:16.226Z"
   },
   {
    "duration": 168,
    "start_time": "2021-07-26T16:11:18.105Z"
   },
   {
    "duration": 24,
    "start_time": "2021-07-26T16:13:49.831Z"
   },
   {
    "duration": 103,
    "start_time": "2021-07-26T16:27:16.682Z"
   },
   {
    "duration": 638,
    "start_time": "2021-07-26T16:28:02.840Z"
   },
   {
    "duration": 827,
    "start_time": "2021-07-26T16:28:47.596Z"
   },
   {
    "duration": 890,
    "start_time": "2021-07-26T16:28:56.177Z"
   },
   {
    "duration": 3,
    "start_time": "2021-07-26T16:29:01.664Z"
   },
   {
    "duration": 6,
    "start_time": "2021-07-26T16:35:10.886Z"
   },
   {
    "duration": 410,
    "start_time": "2021-07-26T16:35:30.486Z"
   },
   {
    "duration": 669,
    "start_time": "2021-07-26T16:40:35.369Z"
   },
   {
    "duration": 65,
    "start_time": "2021-07-26T16:53:50.967Z"
   },
   {
    "duration": 421,
    "start_time": "2021-07-26T16:53:57.573Z"
   },
   {
    "duration": 1463,
    "start_time": "2021-07-26T16:54:45.460Z"
   },
   {
    "duration": 1143,
    "start_time": "2021-07-26T16:54:46.926Z"
   },
   {
    "duration": 38,
    "start_time": "2021-07-26T16:54:48.072Z"
   },
   {
    "duration": 175,
    "start_time": "2021-07-26T16:54:48.114Z"
   },
   {
    "duration": 651,
    "start_time": "2021-07-26T16:54:48.292Z"
   },
   {
    "duration": 701,
    "start_time": "2021-07-26T16:54:48.946Z"
   },
   {
    "duration": 633,
    "start_time": "2021-07-26T16:54:49.649Z"
   },
   {
    "duration": 77,
    "start_time": "2021-07-26T16:54:50.286Z"
   },
   {
    "duration": 5,
    "start_time": "2021-07-26T16:54:50.366Z"
   },
   {
    "duration": 363,
    "start_time": "2021-07-26T16:54:50.400Z"
   },
   {
    "duration": 126,
    "start_time": "2021-07-26T16:54:50.766Z"
   },
   {
    "duration": 45,
    "start_time": "2021-07-27T09:42:56.043Z"
   },
   {
    "duration": 72,
    "start_time": "2021-07-27T09:48:01.329Z"
   },
   {
    "duration": 48,
    "start_time": "2021-07-27T09:48:26.606Z"
   },
   {
    "duration": 7358,
    "start_time": "2021-07-27T10:00:23.485Z"
   },
   {
    "duration": 212,
    "start_time": "2021-07-27T10:00:46.190Z"
   },
   {
    "duration": 1497,
    "start_time": "2021-07-27T10:00:56.074Z"
   },
   {
    "duration": 1095,
    "start_time": "2021-07-27T10:00:57.574Z"
   },
   {
    "duration": 37,
    "start_time": "2021-07-27T10:00:58.673Z"
   },
   {
    "duration": 175,
    "start_time": "2021-07-27T10:00:58.714Z"
   },
   {
    "duration": 636,
    "start_time": "2021-07-27T10:00:58.891Z"
   },
   {
    "duration": 697,
    "start_time": "2021-07-27T10:00:59.530Z"
   },
   {
    "duration": 711,
    "start_time": "2021-07-27T10:01:00.230Z"
   },
   {
    "duration": 75,
    "start_time": "2021-07-27T10:01:00.944Z"
   },
   {
    "duration": 12,
    "start_time": "2021-07-27T10:01:01.023Z"
   },
   {
    "duration": 358,
    "start_time": "2021-07-27T10:01:01.038Z"
   },
   {
    "duration": 241,
    "start_time": "2021-07-27T10:01:01.399Z"
   },
   {
    "duration": 127,
    "start_time": "2021-07-27T10:01:01.643Z"
   },
   {
    "duration": 204,
    "start_time": "2021-07-27T10:01:07.302Z"
   },
   {
    "duration": 164,
    "start_time": "2021-07-27T10:01:13.790Z"
   },
   {
    "duration": 155821,
    "start_time": "2021-07-27T14:44:40.973Z"
   },
   {
    "duration": 896,
    "start_time": "2021-07-27T14:47:41.304Z"
   },
   {
    "duration": 312,
    "start_time": "2021-07-27T14:49:23.583Z"
   },
   {
    "duration": 271,
    "start_time": "2021-07-27T14:49:38.301Z"
   },
   {
    "duration": 736,
    "start_time": "2021-07-27T14:49:43.437Z"
   },
   {
    "duration": 266,
    "start_time": "2021-07-27T14:51:50.031Z"
   },
   {
    "duration": 326,
    "start_time": "2021-07-27T14:51:57.457Z"
   },
   {
    "duration": 719,
    "start_time": "2021-07-27T14:52:13.854Z"
   },
   {
    "duration": 718,
    "start_time": "2021-07-27T14:53:05.213Z"
   },
   {
    "duration": 1175,
    "start_time": "2021-07-27T14:53:27.571Z"
   },
   {
    "duration": 490,
    "start_time": "2021-07-27T14:56:27.002Z"
   },
   {
    "duration": 18,
    "start_time": "2021-07-27T15:00:14.644Z"
   },
   {
    "duration": 20,
    "start_time": "2021-07-27T15:03:43.778Z"
   },
   {
    "duration": 20,
    "start_time": "2021-07-27T15:04:03.466Z"
   },
   {
    "duration": 304,
    "start_time": "2021-07-27T15:04:22.915Z"
   },
   {
    "duration": 20,
    "start_time": "2021-07-27T15:04:27.701Z"
   },
   {
    "duration": 296,
    "start_time": "2021-07-27T15:06:38.993Z"
   },
   {
    "duration": 72,
    "start_time": "2021-07-27T15:09:19.851Z"
   },
   {
    "duration": 967,
    "start_time": "2021-07-27T15:09:31.000Z"
   },
   {
    "duration": 296,
    "start_time": "2021-07-27T15:10:01.190Z"
   },
   {
    "duration": 97,
    "start_time": "2021-07-27T15:10:07.367Z"
   },
   {
    "duration": 30,
    "start_time": "2021-07-27T15:11:40.505Z"
   },
   {
    "duration": 1498,
    "start_time": "2021-07-27T15:11:52.407Z"
   },
   {
    "duration": 1255,
    "start_time": "2021-07-27T15:11:53.908Z"
   },
   {
    "duration": 41,
    "start_time": "2021-07-27T15:11:55.166Z"
   },
   {
    "duration": 176,
    "start_time": "2021-07-27T15:11:55.211Z"
   },
   {
    "duration": 658,
    "start_time": "2021-07-27T15:11:55.390Z"
   },
   {
    "duration": 725,
    "start_time": "2021-07-27T15:11:56.051Z"
   },
   {
    "duration": 678,
    "start_time": "2021-07-27T15:11:56.779Z"
   },
   {
    "duration": 88,
    "start_time": "2021-07-27T15:11:57.461Z"
   },
   {
    "duration": 7,
    "start_time": "2021-07-27T15:11:57.552Z"
   },
   {
    "duration": 254,
    "start_time": "2021-07-27T15:11:57.561Z"
   },
   {
    "duration": 167,
    "start_time": "2021-07-27T15:11:57.818Z"
   },
   {
    "duration": 125,
    "start_time": "2021-07-27T15:11:57.988Z"
   },
   {
    "duration": 113,
    "start_time": "2021-07-27T15:11:58.116Z"
   },
   {
    "duration": 1499,
    "start_time": "2021-07-27T15:11:58.232Z"
   },
   {
    "duration": 2179,
    "start_time": "2021-07-27T15:11:57.555Z"
   },
   {
    "duration": 2175,
    "start_time": "2021-07-27T15:11:57.561Z"
   },
   {
    "duration": 2172,
    "start_time": "2021-07-27T15:11:57.566Z"
   },
   {
    "duration": 2168,
    "start_time": "2021-07-27T15:11:57.573Z"
   },
   {
    "duration": 1000,
    "start_time": "2021-07-27T15:13:00.022Z"
   },
   {
    "duration": 747,
    "start_time": "2021-07-27T15:13:13.689Z"
   },
   {
    "duration": 17,
    "start_time": "2021-07-27T15:13:27.120Z"
   },
   {
    "duration": 27,
    "start_time": "2021-07-27T15:13:31.056Z"
   },
   {
    "duration": 11,
    "start_time": "2021-07-27T15:13:48.478Z"
   },
   {
    "duration": 288,
    "start_time": "2021-07-27T15:14:02.059Z"
   },
   {
    "duration": 17,
    "start_time": "2021-07-27T15:14:20.880Z"
   },
   {
    "duration": 101,
    "start_time": "2021-07-27T15:16:22.943Z"
   },
   {
    "duration": 96,
    "start_time": "2021-07-27T15:16:30.725Z"
   },
   {
    "duration": 111,
    "start_time": "2021-07-27T15:17:46.860Z"
   },
   {
    "duration": 92,
    "start_time": "2021-07-27T15:17:48.623Z"
   },
   {
    "duration": 1452,
    "start_time": "2021-07-27T15:18:13.838Z"
   },
   {
    "duration": 1176,
    "start_time": "2021-07-27T15:18:15.293Z"
   },
   {
    "duration": 48,
    "start_time": "2021-07-27T15:18:16.473Z"
   },
   {
    "duration": 195,
    "start_time": "2021-07-27T15:18:16.524Z"
   },
   {
    "duration": 706,
    "start_time": "2021-07-27T15:18:16.723Z"
   },
   {
    "duration": 758,
    "start_time": "2021-07-27T15:18:17.432Z"
   },
   {
    "duration": 663,
    "start_time": "2021-07-27T15:18:18.193Z"
   },
   {
    "duration": 81,
    "start_time": "2021-07-27T15:18:18.858Z"
   },
   {
    "duration": 4,
    "start_time": "2021-07-27T15:18:18.943Z"
   },
   {
    "duration": 274,
    "start_time": "2021-07-27T15:18:18.950Z"
   },
   {
    "duration": 159,
    "start_time": "2021-07-27T15:18:19.227Z"
   },
   {
    "duration": 132,
    "start_time": "2021-07-27T15:18:19.389Z"
   },
   {
    "duration": 110,
    "start_time": "2021-07-27T15:18:19.523Z"
   },
   {
    "duration": 810,
    "start_time": "2021-07-27T15:18:19.636Z"
   },
   {
    "duration": 14,
    "start_time": "2021-07-27T15:18:20.449Z"
   },
   {
    "duration": 56,
    "start_time": "2021-07-27T15:18:20.465Z"
   },
   {
    "duration": 116,
    "start_time": "2021-07-27T15:18:20.524Z"
   },
   {
    "duration": 106,
    "start_time": "2021-07-27T15:18:20.642Z"
   },
   {
    "duration": 136,
    "start_time": "2021-07-27T15:18:59.249Z"
   },
   {
    "duration": 634,
    "start_time": "2021-07-27T15:19:00.836Z"
   },
   {
    "duration": 321,
    "start_time": "2021-07-27T15:19:22.575Z"
   },
   {
    "duration": 1651,
    "start_time": "2021-07-27T15:19:30.088Z"
   },
   {
    "duration": 1219,
    "start_time": "2021-07-27T15:19:31.742Z"
   },
   {
    "duration": 43,
    "start_time": "2021-07-27T15:19:32.965Z"
   },
   {
    "duration": 209,
    "start_time": "2021-07-27T15:19:33.011Z"
   },
   {
    "duration": 669,
    "start_time": "2021-07-27T15:19:33.224Z"
   },
   {
    "duration": 786,
    "start_time": "2021-07-27T15:19:33.899Z"
   },
   {
    "duration": 650,
    "start_time": "2021-07-27T15:19:34.688Z"
   },
   {
    "duration": 84,
    "start_time": "2021-07-27T15:19:35.343Z"
   },
   {
    "duration": 5,
    "start_time": "2021-07-27T15:19:35.429Z"
   },
   {
    "duration": 252,
    "start_time": "2021-07-27T15:19:35.437Z"
   },
   {
    "duration": 169,
    "start_time": "2021-07-27T15:19:35.692Z"
   },
   {
    "duration": 136,
    "start_time": "2021-07-27T15:19:35.864Z"
   },
   {
    "duration": 117,
    "start_time": "2021-07-27T15:19:36.003Z"
   },
   {
    "duration": 810,
    "start_time": "2021-07-27T15:19:36.122Z"
   },
   {
    "duration": 15,
    "start_time": "2021-07-27T15:19:36.935Z"
   },
   {
    "duration": 53,
    "start_time": "2021-07-27T15:19:36.953Z"
   },
   {
    "duration": 121,
    "start_time": "2021-07-27T15:19:37.009Z"
   },
   {
    "duration": 427,
    "start_time": "2021-07-27T15:19:37.133Z"
   },
   {
    "duration": 357,
    "start_time": "2021-07-27T15:20:06.735Z"
   },
   {
    "duration": 303,
    "start_time": "2021-07-27T15:20:14.093Z"
   },
   {
    "duration": 1487,
    "start_time": "2021-07-27T15:20:19.717Z"
   },
   {
    "duration": 1205,
    "start_time": "2021-07-27T15:20:21.207Z"
   },
   {
    "duration": 45,
    "start_time": "2021-07-27T15:20:22.421Z"
   },
   {
    "duration": 195,
    "start_time": "2021-07-27T15:20:22.469Z"
   },
   {
    "duration": 696,
    "start_time": "2021-07-27T15:20:22.667Z"
   },
   {
    "duration": 1030,
    "start_time": "2021-07-27T15:20:23.366Z"
   },
   {
    "duration": 652,
    "start_time": "2021-07-27T15:20:24.399Z"
   },
   {
    "duration": 81,
    "start_time": "2021-07-27T15:20:25.054Z"
   },
   {
    "duration": 10,
    "start_time": "2021-07-27T15:20:25.138Z"
   },
   {
    "duration": 239,
    "start_time": "2021-07-27T15:20:25.151Z"
   },
   {
    "duration": 164,
    "start_time": "2021-07-27T15:20:25.392Z"
   },
   {
    "duration": 110,
    "start_time": "2021-07-27T15:20:25.559Z"
   },
   {
    "duration": 107,
    "start_time": "2021-07-27T15:20:25.673Z"
   },
   {
    "duration": 805,
    "start_time": "2021-07-27T15:20:25.802Z"
   },
   {
    "duration": 16,
    "start_time": "2021-07-27T15:20:26.610Z"
   },
   {
    "duration": 26,
    "start_time": "2021-07-27T15:20:26.628Z"
   },
   {
    "duration": 140,
    "start_time": "2021-07-27T15:20:26.700Z"
   },
   {
    "duration": 33,
    "start_time": "2021-07-27T15:20:26.844Z"
   },
   {
    "duration": 305,
    "start_time": "2021-07-27T15:21:38.853Z"
   },
   {
    "duration": 14,
    "start_time": "2021-07-27T15:21:40.502Z"
   },
   {
    "duration": 1469,
    "start_time": "2021-07-27T15:22:09.405Z"
   },
   {
    "duration": 1140,
    "start_time": "2021-07-27T15:22:10.877Z"
   },
   {
    "duration": 30,
    "start_time": "2021-07-27T15:22:12.021Z"
   },
   {
    "duration": 204,
    "start_time": "2021-07-27T15:22:12.054Z"
   },
   {
    "duration": 790,
    "start_time": "2021-07-27T15:22:12.262Z"
   },
   {
    "duration": 712,
    "start_time": "2021-07-27T15:22:13.054Z"
   },
   {
    "duration": 664,
    "start_time": "2021-07-27T15:22:13.768Z"
   },
   {
    "duration": 81,
    "start_time": "2021-07-27T15:22:14.435Z"
   },
   {
    "duration": 6,
    "start_time": "2021-07-27T15:22:14.519Z"
   },
   {
    "duration": 230,
    "start_time": "2021-07-27T15:22:14.527Z"
   },
   {
    "duration": 163,
    "start_time": "2021-07-27T15:22:14.760Z"
   },
   {
    "duration": 127,
    "start_time": "2021-07-27T15:22:14.926Z"
   },
   {
    "duration": 113,
    "start_time": "2021-07-27T15:22:15.056Z"
   },
   {
    "duration": 783,
    "start_time": "2021-07-27T15:22:15.172Z"
   },
   {
    "duration": 16,
    "start_time": "2021-07-27T15:22:15.958Z"
   },
   {
    "duration": 49,
    "start_time": "2021-07-27T15:22:15.977Z"
   },
   {
    "duration": 202,
    "start_time": "2021-07-27T15:22:16.029Z"
   },
   {
    "duration": 13,
    "start_time": "2021-07-27T15:22:16.234Z"
   },
   {
    "duration": 1411,
    "start_time": "2021-07-27T15:23:51.256Z"
   },
   {
    "duration": 1071,
    "start_time": "2021-07-27T15:23:52.669Z"
   },
   {
    "duration": 27,
    "start_time": "2021-07-27T15:23:53.743Z"
   },
   {
    "duration": 185,
    "start_time": "2021-07-27T15:23:53.774Z"
   },
   {
    "duration": 644,
    "start_time": "2021-07-27T15:23:53.962Z"
   },
   {
    "duration": 679,
    "start_time": "2021-07-27T15:23:54.610Z"
   },
   {
    "duration": 591,
    "start_time": "2021-07-27T15:23:55.291Z"
   },
   {
    "duration": 76,
    "start_time": "2021-07-27T15:23:55.887Z"
   },
   {
    "duration": 5,
    "start_time": "2021-07-27T15:23:55.966Z"
   },
   {
    "duration": 209,
    "start_time": "2021-07-27T15:23:56.001Z"
   },
   {
    "duration": 159,
    "start_time": "2021-07-27T15:23:56.212Z"
   },
   {
    "duration": 129,
    "start_time": "2021-07-27T15:23:56.373Z"
   },
   {
    "duration": 81,
    "start_time": "2021-07-27T15:23:56.504Z"
   },
   {
    "duration": 776,
    "start_time": "2021-07-27T15:23:56.601Z"
   },
   {
    "duration": 26,
    "start_time": "2021-07-27T15:23:57.379Z"
   },
   {
    "duration": 25,
    "start_time": "2021-07-27T15:23:57.407Z"
   },
   {
    "duration": 112,
    "start_time": "2021-07-27T15:23:57.434Z"
   },
   {
    "duration": 26,
    "start_time": "2021-07-27T15:23:57.549Z"
   },
   {
    "duration": 101,
    "start_time": "2021-07-27T15:25:03.843Z"
   },
   {
    "duration": 23,
    "start_time": "2021-07-27T15:25:05.123Z"
   },
   {
    "duration": 1441,
    "start_time": "2021-07-27T15:25:13.742Z"
   },
   {
    "duration": 1131,
    "start_time": "2021-07-27T15:25:15.186Z"
   },
   {
    "duration": 31,
    "start_time": "2021-07-27T15:25:16.321Z"
   },
   {
    "duration": 192,
    "start_time": "2021-07-27T15:25:16.356Z"
   },
   {
    "duration": 651,
    "start_time": "2021-07-27T15:25:16.551Z"
   },
   {
    "duration": 713,
    "start_time": "2021-07-27T15:25:17.206Z"
   },
   {
    "duration": 640,
    "start_time": "2021-07-27T15:25:17.921Z"
   },
   {
    "duration": 76,
    "start_time": "2021-07-27T15:25:18.565Z"
   },
   {
    "duration": 7,
    "start_time": "2021-07-27T15:25:18.644Z"
   },
   {
    "duration": 240,
    "start_time": "2021-07-27T15:25:18.653Z"
   },
   {
    "duration": 239,
    "start_time": "2021-07-27T15:25:18.900Z"
   },
   {
    "duration": 174,
    "start_time": "2021-07-27T15:25:19.142Z"
   },
   {
    "duration": 124,
    "start_time": "2021-07-27T15:25:19.319Z"
   },
   {
    "duration": 749,
    "start_time": "2021-07-27T15:25:19.446Z"
   },
   {
    "duration": 15,
    "start_time": "2021-07-27T15:25:20.201Z"
   },
   {
    "duration": 24,
    "start_time": "2021-07-27T15:25:20.219Z"
   },
   {
    "duration": 135,
    "start_time": "2021-07-27T15:25:20.246Z"
   },
   {
    "duration": 37,
    "start_time": "2021-07-27T15:25:20.383Z"
   },
   {
    "duration": 100,
    "start_time": "2021-07-27T15:25:36.084Z"
   },
   {
    "duration": 1614,
    "start_time": "2021-07-27T15:28:17.569Z"
   },
   {
    "duration": 1207,
    "start_time": "2021-07-27T15:28:19.186Z"
   },
   {
    "duration": 29,
    "start_time": "2021-07-27T15:28:20.400Z"
   },
   {
    "duration": 235,
    "start_time": "2021-07-27T15:28:20.433Z"
   },
   {
    "duration": 690,
    "start_time": "2021-07-27T15:28:20.670Z"
   },
   {
    "duration": 744,
    "start_time": "2021-07-27T15:28:21.362Z"
   },
   {
    "duration": 705,
    "start_time": "2021-07-27T15:28:22.109Z"
   },
   {
    "duration": 88,
    "start_time": "2021-07-27T15:28:22.818Z"
   },
   {
    "duration": 16,
    "start_time": "2021-07-27T15:28:22.909Z"
   },
   {
    "duration": 243,
    "start_time": "2021-07-27T15:28:22.928Z"
   },
   {
    "duration": 174,
    "start_time": "2021-07-27T15:28:23.174Z"
   },
   {
    "duration": 123,
    "start_time": "2021-07-27T15:28:23.350Z"
   },
   {
    "duration": 139,
    "start_time": "2021-07-27T15:28:23.477Z"
   },
   {
    "duration": 789,
    "start_time": "2021-07-27T15:28:23.620Z"
   },
   {
    "duration": 15,
    "start_time": "2021-07-27T15:28:24.412Z"
   },
   {
    "duration": 26,
    "start_time": "2021-07-27T15:28:24.430Z"
   },
   {
    "duration": 110,
    "start_time": "2021-07-27T15:28:24.501Z"
   },
   {
    "duration": 28,
    "start_time": "2021-07-27T15:28:24.614Z"
   },
   {
    "duration": 186,
    "start_time": "2021-07-27T17:10:30.262Z"
   },
   {
    "duration": 1536,
    "start_time": "2021-07-27T17:10:36.183Z"
   },
   {
    "duration": 5151,
    "start_time": "2021-07-27T17:10:37.722Z"
   },
   {
    "duration": 42,
    "start_time": "2021-07-27T17:10:42.876Z"
   },
   {
    "duration": 183,
    "start_time": "2021-07-27T17:10:42.922Z"
   },
   {
    "duration": 716,
    "start_time": "2021-07-27T17:10:43.109Z"
   },
   {
    "duration": 742,
    "start_time": "2021-07-27T17:10:43.827Z"
   },
   {
    "duration": 669,
    "start_time": "2021-07-27T17:10:44.571Z"
   },
   {
    "duration": 85,
    "start_time": "2021-07-27T17:10:45.245Z"
   },
   {
    "duration": 5,
    "start_time": "2021-07-27T17:10:45.334Z"
   },
   {
    "duration": 277,
    "start_time": "2021-07-27T17:10:45.342Z"
   },
   {
    "duration": 161,
    "start_time": "2021-07-27T17:10:45.621Z"
   },
   {
    "duration": 136,
    "start_time": "2021-07-27T17:10:45.785Z"
   },
   {
    "duration": 107,
    "start_time": "2021-07-27T17:10:45.924Z"
   },
   {
    "duration": 791,
    "start_time": "2021-07-27T17:10:46.034Z"
   },
   {
    "duration": 14,
    "start_time": "2021-07-27T17:10:46.827Z"
   },
   {
    "duration": 71,
    "start_time": "2021-07-27T17:10:46.844Z"
   },
   {
    "duration": 172,
    "start_time": "2021-07-27T17:10:46.920Z"
   },
   {
    "duration": 27,
    "start_time": "2021-07-27T17:10:47.095Z"
   },
   {
    "duration": 4,
    "start_time": "2021-07-27T17:12:49.884Z"
   },
   {
    "duration": 5803,
    "start_time": "2021-07-27T17:13:12.873Z"
   },
   {
    "duration": 5983,
    "start_time": "2021-07-27T17:14:16.793Z"
   },
   {
    "duration": 26681,
    "start_time": "2021-07-27T17:17:05.799Z"
   },
   {
    "duration": 840,
    "start_time": "2021-07-27T17:18:29.980Z"
   },
   {
    "duration": 840,
    "start_time": "2021-07-27T17:19:18.844Z"
   },
   {
    "duration": 32,
    "start_time": "2021-07-27T17:19:39.610Z"
   },
   {
    "duration": 428,
    "start_time": "2021-07-27T17:20:19.552Z"
   },
   {
    "duration": 24,
    "start_time": "2021-07-27T17:20:27.334Z"
   },
   {
    "duration": 22,
    "start_time": "2021-07-27T17:20:43.326Z"
   },
   {
    "duration": 15,
    "start_time": "2021-07-27T17:21:00.108Z"
   },
   {
    "duration": 15,
    "start_time": "2021-07-27T17:21:30.680Z"
   },
   {
    "duration": 21,
    "start_time": "2021-07-27T17:21:42.207Z"
   },
   {
    "duration": 18,
    "start_time": "2021-07-27T17:21:49.094Z"
   },
   {
    "duration": 15,
    "start_time": "2021-07-27T17:22:03.844Z"
   },
   {
    "duration": 14,
    "start_time": "2021-07-27T17:22:14.626Z"
   },
   {
    "duration": 24,
    "start_time": "2021-07-27T17:22:55.307Z"
   },
   {
    "duration": 24,
    "start_time": "2021-07-27T17:23:28.648Z"
   },
   {
    "duration": 24,
    "start_time": "2021-07-27T17:23:44.378Z"
   },
   {
    "duration": 148,
    "start_time": "2021-07-27T17:28:43.433Z"
   },
   {
    "duration": 22,
    "start_time": "2021-07-27T17:28:56.762Z"
   },
   {
    "duration": 4,
    "start_time": "2021-07-27T17:29:05.615Z"
   },
   {
    "duration": 710,
    "start_time": "2021-07-27T17:29:54.926Z"
   },
   {
    "duration": 727,
    "start_time": "2021-07-27T17:30:27.518Z"
   },
   {
    "duration": 19,
    "start_time": "2021-07-27T17:31:29.401Z"
   },
   {
    "duration": 86,
    "start_time": "2021-07-27T17:36:47.468Z"
   },
   {
    "duration": 101,
    "start_time": "2021-07-27T17:37:54.290Z"
   },
   {
    "duration": 22,
    "start_time": "2021-07-27T17:38:25.755Z"
   },
   {
    "duration": 13,
    "start_time": "2021-07-27T17:39:36.279Z"
   },
   {
    "duration": 32,
    "start_time": "2021-07-27T17:40:09.274Z"
   },
   {
    "duration": 31,
    "start_time": "2021-07-27T17:40:56.171Z"
   },
   {
    "duration": 32,
    "start_time": "2021-07-27T17:41:06.583Z"
   },
   {
    "duration": 25,
    "start_time": "2021-07-27T17:48:03.000Z"
   },
   {
    "duration": 22,
    "start_time": "2021-07-27T17:48:12.324Z"
   },
   {
    "duration": 22,
    "start_time": "2021-07-27T17:48:23.864Z"
   },
   {
    "duration": 144,
    "start_time": "2021-07-27T17:49:33.022Z"
   },
   {
    "duration": 30,
    "start_time": "2021-07-27T17:50:00.663Z"
   },
   {
    "duration": 1173,
    "start_time": "2021-07-27T17:51:57.453Z"
   },
   {
    "duration": 883,
    "start_time": "2021-07-27T17:52:30.392Z"
   },
   {
    "duration": 8,
    "start_time": "2021-07-27T17:57:47.415Z"
   },
   {
    "duration": 11,
    "start_time": "2021-07-27T17:58:36.691Z"
   },
   {
    "duration": 1292,
    "start_time": "2021-07-27T17:58:47.268Z"
   },
   {
    "duration": 7,
    "start_time": "2021-07-27T17:58:54.780Z"
   },
   {
    "duration": 8,
    "start_time": "2021-07-27T17:59:00.894Z"
   },
   {
    "duration": 44,
    "start_time": "2021-07-27T18:01:30.464Z"
   },
   {
    "duration": 17,
    "start_time": "2021-07-27T18:06:26.399Z"
   },
   {
    "duration": 28,
    "start_time": "2021-07-27T18:07:52.777Z"
   },
   {
    "duration": 6997,
    "start_time": "2021-07-27T18:16:20.706Z"
   },
   {
    "duration": 21,
    "start_time": "2021-07-27T18:17:11.737Z"
   },
   {
    "duration": 203,
    "start_time": "2021-07-27T18:17:36.664Z"
   },
   {
    "duration": 745,
    "start_time": "2021-07-27T23:30:30.811Z"
   },
   {
    "duration": 105,
    "start_time": "2021-07-27T23:30:40.040Z"
   },
   {
    "duration": 314,
    "start_time": "2021-07-27T23:50:56.492Z"
   },
   {
    "duration": 39,
    "start_time": "2021-07-27T23:51:28.250Z"
   },
   {
    "duration": 834,
    "start_time": "2021-07-27T23:52:02.722Z"
   },
   {
    "duration": 255,
    "start_time": "2021-07-27T23:52:04.728Z"
   },
   {
    "duration": 6,
    "start_time": "2021-07-27T23:53:09.082Z"
   },
   {
    "duration": 6,
    "start_time": "2021-07-27T23:53:11.171Z"
   },
   {
    "duration": 6,
    "start_time": "2021-07-27T23:53:12.466Z"
   },
   {
    "duration": 114,
    "start_time": "2021-07-27T23:57:11.253Z"
   },
   {
    "duration": 4,
    "start_time": "2021-07-27T23:58:15.227Z"
   },
   {
    "duration": 4,
    "start_time": "2021-07-27T23:58:17.314Z"
   },
   {
    "duration": 5,
    "start_time": "2021-07-27T23:58:19.474Z"
   },
   {
    "duration": 27,
    "start_time": "2021-07-27T23:58:56.420Z"
   },
   {
    "duration": 28,
    "start_time": "2021-07-27T23:59:08.584Z"
   },
   {
    "duration": 291,
    "start_time": "2021-07-28T00:03:10.536Z"
   },
   {
    "duration": 21,
    "start_time": "2021-07-28T00:04:04.848Z"
   },
   {
    "duration": 181,
    "start_time": "2021-07-28T00:04:10.959Z"
   },
   {
    "duration": 93,
    "start_time": "2021-07-28T00:10:53.521Z"
   },
   {
    "duration": 336,
    "start_time": "2021-07-28T16:48:41.496Z"
   },
   {
    "duration": 336,
    "start_time": "2021-07-28T16:48:45.697Z"
   },
   {
    "duration": 5,
    "start_time": "2021-07-28T16:48:55.467Z"
   },
   {
    "duration": 5,
    "start_time": "2021-07-28T16:49:49.008Z"
   },
   {
    "duration": 4,
    "start_time": "2021-07-28T16:56:29.177Z"
   },
   {
    "duration": 4,
    "start_time": "2021-07-28T16:56:47.697Z"
   },
   {
    "duration": 26357,
    "start_time": "2021-07-28T16:59:47.443Z"
   },
   {
    "duration": 25875,
    "start_time": "2021-07-28T17:01:57.637Z"
   },
   {
    "duration": 273,
    "start_time": "2021-07-28T17:02:28.326Z"
   },
   {
    "duration": 582,
    "start_time": "2021-07-28T17:03:13.677Z"
   },
   {
    "duration": 5,
    "start_time": "2021-07-28T17:03:33.566Z"
   },
   {
    "duration": 7,
    "start_time": "2021-07-28T17:03:37.758Z"
   },
   {
    "duration": 6,
    "start_time": "2021-07-28T17:07:50.783Z"
   },
   {
    "duration": 357,
    "start_time": "2021-07-28T17:23:43.088Z"
   },
   {
    "duration": 5,
    "start_time": "2021-07-28T17:23:52.319Z"
   },
   {
    "duration": 5,
    "start_time": "2021-07-28T17:24:42.335Z"
   },
   {
    "duration": 39792,
    "start_time": "2021-07-28T17:24:55.790Z"
   },
   {
    "duration": 122,
    "start_time": "2021-07-28T17:25:41.683Z"
   },
   {
    "duration": 6,
    "start_time": "2021-07-28T17:25:45.095Z"
   },
   {
    "duration": 5,
    "start_time": "2021-07-28T17:32:03.368Z"
   },
   {
    "duration": 3,
    "start_time": "2021-07-28T17:35:02.212Z"
   },
   {
    "duration": 2055,
    "start_time": "2021-07-28T17:35:27.788Z"
   },
   {
    "duration": 1200,
    "start_time": "2021-07-28T17:35:29.846Z"
   },
   {
    "duration": 30,
    "start_time": "2021-07-28T17:35:31.048Z"
   },
   {
    "duration": 206,
    "start_time": "2021-07-28T17:35:31.081Z"
   },
   {
    "duration": 705,
    "start_time": "2021-07-28T17:35:31.290Z"
   },
   {
    "duration": 696,
    "start_time": "2021-07-28T17:35:32.000Z"
   },
   {
    "duration": 598,
    "start_time": "2021-07-28T17:35:32.701Z"
   },
   {
    "duration": 74,
    "start_time": "2021-07-28T17:35:33.303Z"
   },
   {
    "duration": 5,
    "start_time": "2021-07-28T17:35:33.400Z"
   },
   {
    "duration": 219,
    "start_time": "2021-07-28T17:35:33.408Z"
   },
   {
    "duration": 156,
    "start_time": "2021-07-28T17:35:33.629Z"
   },
   {
    "duration": 114,
    "start_time": "2021-07-28T17:35:33.787Z"
   },
   {
    "duration": 98,
    "start_time": "2021-07-28T17:35:33.904Z"
   },
   {
    "duration": 723,
    "start_time": "2021-07-28T17:35:34.004Z"
   },
   {
    "duration": 14,
    "start_time": "2021-07-28T17:35:34.729Z"
   },
   {
    "duration": 64,
    "start_time": "2021-07-28T17:35:34.746Z"
   },
   {
    "duration": 181,
    "start_time": "2021-07-28T17:35:34.813Z"
   },
   {
    "duration": 4,
    "start_time": "2021-07-28T17:35:35.000Z"
   },
   {
    "duration": 748,
    "start_time": "2021-07-28T17:35:35.007Z"
   },
   {
    "duration": 25,
    "start_time": "2021-07-28T17:35:35.758Z"
   },
   {
    "duration": 153,
    "start_time": "2021-07-28T17:35:35.802Z"
   },
   {
    "duration": 4,
    "start_time": "2021-07-28T17:35:35.957Z"
   },
   {
    "duration": 761,
    "start_time": "2021-07-28T17:35:35.966Z"
   },
   {
    "duration": 789,
    "start_time": "2021-07-28T17:35:36.731Z"
   },
   {
    "duration": 18,
    "start_time": "2021-07-28T17:35:37.522Z"
   },
   {
    "duration": 20,
    "start_time": "2021-07-28T17:35:37.542Z"
   },
   {
    "duration": 130,
    "start_time": "2021-07-28T17:35:37.600Z"
   },
   {
    "duration": 21,
    "start_time": "2021-07-28T17:35:37.732Z"
   },
   {
    "duration": 7,
    "start_time": "2021-07-28T17:35:37.755Z"
   },
   {
    "duration": 72,
    "start_time": "2021-07-28T17:35:37.764Z"
   },
   {
    "duration": 29,
    "start_time": "2021-07-28T17:35:37.839Z"
   },
   {
    "duration": 47,
    "start_time": "2021-07-28T17:35:37.872Z"
   },
   {
    "duration": 219,
    "start_time": "2021-07-28T17:35:37.922Z"
   },
   {
    "duration": 556,
    "start_time": "2021-07-28T17:35:38.144Z"
   },
   {
    "duration": 113,
    "start_time": "2021-07-28T17:35:38.703Z"
   },
   {
    "duration": 847,
    "start_time": "2021-07-28T17:35:38.819Z"
   },
   {
    "duration": 264,
    "start_time": "2021-07-28T17:35:39.669Z"
   },
   {
    "duration": 5,
    "start_time": "2021-07-28T17:35:39.935Z"
   },
   {
    "duration": 8,
    "start_time": "2021-07-28T17:35:39.943Z"
   },
   {
    "duration": 6,
    "start_time": "2021-07-28T17:35:39.954Z"
   },
   {
    "duration": 146,
    "start_time": "2021-07-28T17:35:39.962Z"
   },
   {
    "duration": 4,
    "start_time": "2021-07-28T17:35:40.111Z"
   },
   {
    "duration": 11,
    "start_time": "2021-07-28T17:35:40.118Z"
   },
   {
    "duration": 13,
    "start_time": "2021-07-28T17:35:40.132Z"
   },
   {
    "duration": 56,
    "start_time": "2021-07-28T17:35:40.147Z"
   },
   {
    "duration": 190,
    "start_time": "2021-07-28T17:35:40.206Z"
   },
   {
    "duration": 4,
    "start_time": "2021-07-28T17:35:40.401Z"
   },
   {
    "duration": 9,
    "start_time": "2021-07-28T17:35:40.407Z"
   },
   {
    "duration": 17796,
    "start_time": "2021-07-28T17:35:40.418Z"
   },
   {
    "duration": 190,
    "start_time": "2021-07-28T17:35:58.217Z"
   },
   {
    "duration": 7,
    "start_time": "2021-07-28T17:35:58.500Z"
   },
   {
    "duration": 5,
    "start_time": "2021-07-28T17:35:58.509Z"
   },
   {
    "duration": 141786,
    "start_time": "2021-07-28T17:35:58.516Z"
   },
   {
    "duration": 756,
    "start_time": "2021-07-28T17:38:20.305Z"
   },
   {
    "duration": 6,
    "start_time": "2021-07-28T17:38:21.063Z"
   },
   {
    "duration": 27,
    "start_time": "2021-07-28T17:38:21.073Z"
   },
   {
    "duration": 6,
    "start_time": "2021-07-28T17:40:03.508Z"
   },
   {
    "duration": 92,
    "start_time": "2021-07-28T17:53:08.370Z"
   },
   {
    "duration": 436,
    "start_time": "2021-07-28T17:58:49.517Z"
   },
   {
    "duration": 290,
    "start_time": "2021-07-28T17:59:17.530Z"
   },
   {
    "duration": 6,
    "start_time": "2021-07-28T18:00:13.476Z"
   },
   {
    "duration": 149263,
    "start_time": "2021-07-28T18:00:27.995Z"
   },
   {
    "duration": 58817,
    "start_time": "2021-07-28T18:04:41.323Z"
   },
   {
    "duration": 56927,
    "start_time": "2021-07-28T18:07:49.611Z"
   },
   {
    "duration": 1832,
    "start_time": "2021-07-28T18:13:34.783Z"
   },
   {
    "duration": 57668,
    "start_time": "2021-07-28T18:14:12.723Z"
   },
   {
    "duration": 1573,
    "start_time": "2021-07-28T18:23:53.894Z"
   },
   {
    "duration": 1084,
    "start_time": "2021-07-28T18:23:55.470Z"
   },
   {
    "duration": 42,
    "start_time": "2021-07-28T18:23:56.558Z"
   },
   {
    "duration": 172,
    "start_time": "2021-07-28T18:23:56.603Z"
   },
   {
    "duration": 630,
    "start_time": "2021-07-28T18:23:56.778Z"
   },
   {
    "duration": 655,
    "start_time": "2021-07-28T18:23:57.410Z"
   },
   {
    "duration": 604,
    "start_time": "2021-07-28T18:23:58.067Z"
   },
   {
    "duration": 85,
    "start_time": "2021-07-28T18:23:58.675Z"
   },
   {
    "duration": 9,
    "start_time": "2021-07-28T18:23:58.764Z"
   },
   {
    "duration": 222,
    "start_time": "2021-07-28T18:23:58.775Z"
   },
   {
    "duration": 168,
    "start_time": "2021-07-28T18:23:59.001Z"
   },
   {
    "duration": 110,
    "start_time": "2021-07-28T18:23:59.171Z"
   },
   {
    "duration": 90,
    "start_time": "2021-07-28T18:23:59.283Z"
   },
   {
    "duration": 1002,
    "start_time": "2021-07-28T18:23:59.376Z"
   },
   {
    "duration": 30,
    "start_time": "2021-07-28T18:24:00.381Z"
   },
   {
    "duration": 35,
    "start_time": "2021-07-28T18:24:00.414Z"
   },
   {
    "duration": 259,
    "start_time": "2021-07-28T18:24:00.453Z"
   },
   {
    "duration": 4,
    "start_time": "2021-07-28T18:24:00.715Z"
   },
   {
    "duration": 1239,
    "start_time": "2021-07-28T18:24:00.722Z"
   },
   {
    "duration": 48,
    "start_time": "2021-07-28T18:24:01.964Z"
   },
   {
    "duration": 176,
    "start_time": "2021-07-28T18:24:02.015Z"
   },
   {
    "duration": 7,
    "start_time": "2021-07-28T18:24:02.193Z"
   },
   {
    "duration": 770,
    "start_time": "2021-07-28T18:24:02.210Z"
   },
   {
    "duration": 834,
    "start_time": "2021-07-28T18:24:02.984Z"
   },
   {
    "duration": 21,
    "start_time": "2021-07-28T18:24:03.821Z"
   },
   {
    "duration": 61,
    "start_time": "2021-07-28T18:24:03.846Z"
   },
   {
    "duration": 154,
    "start_time": "2021-07-28T18:24:03.910Z"
   },
   {
    "duration": 37,
    "start_time": "2021-07-28T18:24:04.066Z"
   },
   {
    "duration": 9,
    "start_time": "2021-07-28T18:24:04.106Z"
   },
   {
    "duration": 49,
    "start_time": "2021-07-28T18:24:04.119Z"
   },
   {
    "duration": 30,
    "start_time": "2021-07-28T18:24:04.200Z"
   },
   {
    "duration": 19,
    "start_time": "2021-07-28T18:24:04.232Z"
   },
   {
    "duration": 235,
    "start_time": "2021-07-28T18:24:04.253Z"
   },
   {
    "duration": 613,
    "start_time": "2021-07-28T18:24:04.491Z"
   },
   {
    "duration": 119,
    "start_time": "2021-07-28T18:24:05.107Z"
   },
   {
    "duration": 864,
    "start_time": "2021-07-28T18:24:05.229Z"
   },
   {
    "duration": 267,
    "start_time": "2021-07-28T18:24:06.100Z"
   },
   {
    "duration": 6,
    "start_time": "2021-07-28T18:24:06.370Z"
   },
   {
    "duration": 25,
    "start_time": "2021-07-28T18:24:06.378Z"
   },
   {
    "duration": 11,
    "start_time": "2021-07-28T18:24:06.405Z"
   },
   {
    "duration": 150,
    "start_time": "2021-07-28T18:24:06.418Z"
   },
   {
    "duration": 4,
    "start_time": "2021-07-28T18:24:06.570Z"
   },
   {
    "duration": 25,
    "start_time": "2021-07-28T18:24:06.576Z"
   },
   {
    "duration": 21,
    "start_time": "2021-07-28T18:24:06.603Z"
   },
   {
    "duration": 33,
    "start_time": "2021-07-28T18:24:06.626Z"
   },
   {
    "duration": 226,
    "start_time": "2021-07-28T18:24:06.661Z"
   },
   {
    "duration": 12,
    "start_time": "2021-07-28T18:24:06.890Z"
   },
   {
    "duration": 19,
    "start_time": "2021-07-28T18:24:06.905Z"
   },
   {
    "duration": 18483,
    "start_time": "2021-07-28T18:24:06.927Z"
   },
   {
    "duration": 192,
    "start_time": "2021-07-28T18:24:25.413Z"
   },
   {
    "duration": 95,
    "start_time": "2021-07-28T18:24:25.609Z"
   },
   {
    "duration": 165857,
    "start_time": "2021-07-28T18:24:25.706Z"
   },
   {
    "duration": 1738,
    "start_time": "2021-07-28T18:27:09.828Z"
   },
   {
    "duration": 1732,
    "start_time": "2021-07-28T18:27:09.837Z"
   },
   {
    "duration": 1727,
    "start_time": "2021-07-28T18:27:09.844Z"
   },
   {
    "duration": 1724,
    "start_time": "2021-07-28T18:27:09.849Z"
   },
   {
    "duration": 210937,
    "start_time": "2021-07-28T18:27:14.857Z"
   },
   {
    "duration": 15853,
    "start_time": "2021-07-28T18:33:27.695Z"
   },
   {
    "duration": 865814,
    "start_time": "2021-07-28T18:35:32.602Z"
   },
   {
    "duration": 34052,
    "start_time": "2021-07-29T00:09:26.499Z"
   },
   {
    "duration": 32621,
    "start_time": "2021-07-29T00:14:33.461Z"
   },
   {
    "duration": 22669,
    "start_time": "2021-07-29T00:15:32.849Z"
   },
   {
    "duration": 1959,
    "start_time": "2021-07-29T00:16:41.183Z"
   },
   {
    "duration": 5052,
    "start_time": "2021-07-29T00:16:43.145Z"
   },
   {
    "duration": 26,
    "start_time": "2021-07-29T00:16:48.201Z"
   },
   {
    "duration": 166,
    "start_time": "2021-07-29T00:16:48.229Z"
   },
   {
    "duration": 573,
    "start_time": "2021-07-29T00:16:48.397Z"
   },
   {
    "duration": 639,
    "start_time": "2021-07-29T00:16:48.973Z"
   },
   {
    "duration": 568,
    "start_time": "2021-07-29T00:16:49.615Z"
   },
   {
    "duration": 79,
    "start_time": "2021-07-29T00:16:50.186Z"
   },
   {
    "duration": 5,
    "start_time": "2021-07-29T00:16:50.268Z"
   },
   {
    "duration": 224,
    "start_time": "2021-07-29T00:16:50.275Z"
   },
   {
    "duration": 166,
    "start_time": "2021-07-29T00:16:50.501Z"
   },
   {
    "duration": 107,
    "start_time": "2021-07-29T00:16:50.669Z"
   },
   {
    "duration": 84,
    "start_time": "2021-07-29T00:16:50.778Z"
   },
   {
    "duration": 730,
    "start_time": "2021-07-29T00:16:50.865Z"
   },
   {
    "duration": 14,
    "start_time": "2021-07-29T00:16:51.601Z"
   },
   {
    "duration": 23,
    "start_time": "2021-07-29T00:16:51.617Z"
   },
   {
    "duration": 191,
    "start_time": "2021-07-29T00:16:51.642Z"
   },
   {
    "duration": 3,
    "start_time": "2021-07-29T00:16:51.836Z"
   },
   {
    "duration": 725,
    "start_time": "2021-07-29T00:16:51.841Z"
   },
   {
    "duration": 34,
    "start_time": "2021-07-29T00:16:52.569Z"
   },
   {
    "duration": 158,
    "start_time": "2021-07-29T00:16:52.606Z"
   },
   {
    "duration": 3,
    "start_time": "2021-07-29T00:16:52.766Z"
   },
   {
    "duration": 760,
    "start_time": "2021-07-29T00:16:52.775Z"
   },
   {
    "duration": 803,
    "start_time": "2021-07-29T00:16:53.539Z"
   },
   {
    "duration": 18,
    "start_time": "2021-07-29T00:16:54.345Z"
   },
   {
    "duration": 50,
    "start_time": "2021-07-29T00:16:54.365Z"
   },
   {
    "duration": 138,
    "start_time": "2021-07-29T00:16:54.418Z"
   },
   {
    "duration": 21,
    "start_time": "2021-07-29T00:16:54.558Z"
   },
   {
    "duration": 21,
    "start_time": "2021-07-29T00:16:54.581Z"
   },
   {
    "duration": 42,
    "start_time": "2021-07-29T00:16:54.604Z"
   },
   {
    "duration": 51,
    "start_time": "2021-07-29T00:16:54.649Z"
   },
   {
    "duration": 22,
    "start_time": "2021-07-29T00:16:54.703Z"
   },
   {
    "duration": 208,
    "start_time": "2021-07-29T00:16:54.727Z"
   },
   {
    "duration": 663,
    "start_time": "2021-07-29T00:16:54.938Z"
   },
   {
    "duration": 118,
    "start_time": "2021-07-29T00:16:55.604Z"
   },
   {
    "duration": 939,
    "start_time": "2021-07-29T00:16:55.725Z"
   },
   {
    "duration": 261,
    "start_time": "2021-07-29T00:16:56.666Z"
   },
   {
    "duration": 7,
    "start_time": "2021-07-29T00:16:56.930Z"
   },
   {
    "duration": 16,
    "start_time": "2021-07-29T00:16:56.940Z"
   },
   {
    "duration": 21,
    "start_time": "2021-07-29T00:16:56.958Z"
   },
   {
    "duration": 110,
    "start_time": "2021-07-29T00:16:56.981Z"
   },
   {
    "duration": 6,
    "start_time": "2021-07-29T00:16:57.101Z"
   },
   {
    "duration": 20,
    "start_time": "2021-07-29T00:16:57.109Z"
   },
   {
    "duration": 15,
    "start_time": "2021-07-29T00:16:57.131Z"
   },
   {
    "duration": 54,
    "start_time": "2021-07-29T00:16:57.149Z"
   },
   {
    "duration": 209,
    "start_time": "2021-07-29T00:16:57.205Z"
   },
   {
    "duration": 4,
    "start_time": "2021-07-29T00:16:57.417Z"
   },
   {
    "duration": 6,
    "start_time": "2021-07-29T00:16:57.423Z"
   },
   {
    "duration": 16779,
    "start_time": "2021-07-29T00:16:57.432Z"
   },
   {
    "duration": 192,
    "start_time": "2021-07-29T00:17:14.214Z"
   },
   {
    "duration": 93,
    "start_time": "2021-07-29T00:17:14.410Z"
   },
   {
    "duration": 894749,
    "start_time": "2021-07-29T00:17:14.506Z"
   },
   {
    "duration": 8387,
    "start_time": "2021-07-29T00:32:09.258Z"
   },
   {
    "duration": 34,
    "start_time": "2021-07-29T00:32:17.614Z"
   },
   {
    "duration": 34,
    "start_time": "2021-07-29T00:32:17.616Z"
   },
   {
    "duration": 32,
    "start_time": "2021-07-29T00:32:17.619Z"
   },
   {
    "duration": 119,
    "start_time": "2021-07-29T01:03:37.206Z"
   },
   {
    "duration": 83658,
    "start_time": "2021-07-29T01:04:05.856Z"
   },
   {
    "duration": 10737,
    "start_time": "2021-07-29T01:09:41.044Z"
   },
   {
    "duration": 82039,
    "start_time": "2021-07-29T01:10:30.628Z"
   },
   {
    "duration": 256950,
    "start_time": "2021-07-29T01:12:42.563Z"
   },
   {
    "duration": 293,
    "start_time": "2021-07-29T04:53:02.882Z"
   },
   {
    "duration": 261,
    "start_time": "2021-07-29T04:53:18.451Z"
   },
   {
    "duration": 64158,
    "start_time": "2021-07-29T04:54:23.367Z"
   },
   {
    "duration": 331006,
    "start_time": "2021-07-29T04:55:50.055Z"
   },
   {
    "duration": 10845,
    "start_time": "2021-07-29T05:28:42.274Z"
   },
   {
    "duration": 4,
    "start_time": "2021-07-29T05:29:10.304Z"
   },
   {
    "duration": 17196,
    "start_time": "2021-07-29T05:29:15.105Z"
   },
   {
    "duration": 84,
    "start_time": "2021-07-29T05:38:54.871Z"
   },
   {
    "duration": 326,
    "start_time": "2021-07-29T05:39:08.090Z"
   },
   {
    "duration": 4,
    "start_time": "2021-07-29T05:39:20.824Z"
   },
   {
    "duration": 17353,
    "start_time": "2021-07-29T05:39:21.969Z"
   },
   {
    "duration": 305,
    "start_time": "2021-07-29T05:39:41.561Z"
   },
   {
    "duration": 273,
    "start_time": "2021-07-29T05:40:19.705Z"
   },
   {
    "duration": 4,
    "start_time": "2021-07-29T05:40:33.680Z"
   },
   {
    "duration": 8,
    "start_time": "2021-07-29T05:40:35.015Z"
   },
   {
    "duration": 8,
    "start_time": "2021-07-29T05:41:12.188Z"
   },
   {
    "duration": 37,
    "start_time": "2021-07-29T10:06:55.547Z"
   },
   {
    "duration": 5,
    "start_time": "2021-07-29T10:07:07.790Z"
   },
   {
    "duration": 6,
    "start_time": "2021-07-29T10:07:24.022Z"
   },
   {
    "duration": 10538,
    "start_time": "2021-07-29T10:08:44.438Z"
   },
   {
    "duration": 12384,
    "start_time": "2021-07-29T10:10:55.566Z"
   },
   {
    "duration": 40,
    "start_time": "2021-07-29T10:12:05.558Z"
   },
   {
    "duration": 6,
    "start_time": "2021-07-29T10:12:11.278Z"
   },
   {
    "duration": 5,
    "start_time": "2021-07-29T10:12:17.703Z"
   },
   {
    "duration": 6974,
    "start_time": "2021-07-29T10:13:06.399Z"
   },
   {
    "duration": 5804,
    "start_time": "2021-07-29T10:14:30.119Z"
   },
   {
    "duration": 8,
    "start_time": "2021-07-29T14:59:42.004Z"
   },
   {
    "duration": 94,
    "start_time": "2021-07-29T15:00:16.035Z"
   },
   {
    "duration": 39,
    "start_time": "2021-07-29T15:06:55.681Z"
   },
   {
    "duration": 5,
    "start_time": "2021-07-29T15:07:00.925Z"
   },
   {
    "duration": 5,
    "start_time": "2021-07-29T15:07:10.489Z"
   },
   {
    "duration": 40,
    "start_time": "2021-07-29T15:07:17.445Z"
   },
   {
    "duration": 12813,
    "start_time": "2021-07-29T15:07:43.755Z"
   },
   {
    "duration": 92,
    "start_time": "2021-07-29T15:08:42.598Z"
   },
   {
    "duration": 272,
    "start_time": "2021-07-29T15:08:50.013Z"
   },
   {
    "duration": 301,
    "start_time": "2021-07-29T15:08:56.712Z"
   },
   {
    "duration": 3,
    "start_time": "2021-07-29T15:10:01.734Z"
   },
   {
    "duration": 326,
    "start_time": "2021-07-29T15:10:04.221Z"
   },
   {
    "duration": 6,
    "start_time": "2021-07-29T15:10:37.065Z"
   },
   {
    "duration": 274,
    "start_time": "2021-07-29T15:10:40.769Z"
   },
   {
    "duration": 6,
    "start_time": "2021-07-29T15:11:03.619Z"
   },
   {
    "duration": 6,
    "start_time": "2021-07-29T15:11:38.865Z"
   },
   {
    "duration": 1596,
    "start_time": "2021-07-29T15:23:09.588Z"
   },
   {
    "duration": 4972,
    "start_time": "2021-07-29T15:23:11.187Z"
   },
   {
    "duration": 40,
    "start_time": "2021-07-29T15:23:16.162Z"
   },
   {
    "duration": 176,
    "start_time": "2021-07-29T15:23:16.205Z"
   },
   {
    "duration": 628,
    "start_time": "2021-07-29T15:23:16.384Z"
   },
   {
    "duration": 694,
    "start_time": "2021-07-29T15:23:17.014Z"
   },
   {
    "duration": 637,
    "start_time": "2021-07-29T15:23:17.711Z"
   },
   {
    "duration": 88,
    "start_time": "2021-07-29T15:23:18.352Z"
   },
   {
    "duration": 10,
    "start_time": "2021-07-29T15:23:18.444Z"
   },
   {
    "duration": 226,
    "start_time": "2021-07-29T15:23:18.456Z"
   },
   {
    "duration": 181,
    "start_time": "2021-07-29T15:23:18.684Z"
   },
   {
    "duration": 106,
    "start_time": "2021-07-29T15:23:18.868Z"
   },
   {
    "duration": 94,
    "start_time": "2021-07-29T15:23:18.977Z"
   },
   {
    "duration": 765,
    "start_time": "2021-07-29T15:23:19.074Z"
   },
   {
    "duration": 14,
    "start_time": "2021-07-29T15:23:19.842Z"
   },
   {
    "duration": 56,
    "start_time": "2021-07-29T15:23:19.858Z"
   },
   {
    "duration": 175,
    "start_time": "2021-07-29T15:23:19.916Z"
   },
   {
    "duration": 7,
    "start_time": "2021-07-29T15:23:20.094Z"
   },
   {
    "duration": 908,
    "start_time": "2021-07-29T15:23:20.104Z"
   },
   {
    "duration": 28,
    "start_time": "2021-07-29T15:23:21.015Z"
   },
   {
    "duration": 189,
    "start_time": "2021-07-29T15:23:21.047Z"
   },
   {
    "duration": 4,
    "start_time": "2021-07-29T15:23:21.238Z"
   },
   {
    "duration": 851,
    "start_time": "2021-07-29T15:23:21.254Z"
   },
   {
    "duration": 746,
    "start_time": "2021-07-29T15:23:22.109Z"
   },
   {
    "duration": 18,
    "start_time": "2021-07-29T15:23:22.858Z"
   },
   {
    "duration": 21,
    "start_time": "2021-07-29T15:23:22.900Z"
   },
   {
    "duration": 143,
    "start_time": "2021-07-29T15:23:22.924Z"
   },
   {
    "duration": 37,
    "start_time": "2021-07-29T15:23:23.070Z"
   },
   {
    "duration": 7,
    "start_time": "2021-07-29T15:23:23.110Z"
   },
   {
    "duration": 38,
    "start_time": "2021-07-29T15:23:23.120Z"
   },
   {
    "duration": 59,
    "start_time": "2021-07-29T15:23:23.161Z"
   },
   {
    "duration": 19,
    "start_time": "2021-07-29T15:23:23.223Z"
   },
   {
    "duration": 213,
    "start_time": "2021-07-29T15:23:23.245Z"
   },
   {
    "duration": 539,
    "start_time": "2021-07-29T15:23:23.461Z"
   },
   {
    "duration": 117,
    "start_time": "2021-07-29T15:23:24.003Z"
   },
   {
    "duration": 866,
    "start_time": "2021-07-29T15:23:24.123Z"
   },
   {
    "duration": 265,
    "start_time": "2021-07-29T15:23:24.992Z"
   },
   {
    "duration": 5,
    "start_time": "2021-07-29T15:23:25.260Z"
   },
   {
    "duration": 14,
    "start_time": "2021-07-29T15:23:25.267Z"
   },
   {
    "duration": 4,
    "start_time": "2021-07-29T15:23:25.301Z"
   },
   {
    "duration": 118,
    "start_time": "2021-07-29T15:23:25.308Z"
   },
   {
    "duration": 4,
    "start_time": "2021-07-29T15:23:25.428Z"
   },
   {
    "duration": 17,
    "start_time": "2021-07-29T15:23:25.435Z"
   },
   {
    "duration": 14,
    "start_time": "2021-07-29T15:23:25.455Z"
   },
   {
    "duration": 51,
    "start_time": "2021-07-29T15:23:25.471Z"
   },
   {
    "duration": 187,
    "start_time": "2021-07-29T15:23:25.524Z"
   },
   {
    "duration": 3,
    "start_time": "2021-07-29T15:23:25.714Z"
   },
   {
    "duration": 9,
    "start_time": "2021-07-29T15:23:25.720Z"
   },
   {
    "duration": 19370,
    "start_time": "2021-07-29T15:23:25.731Z"
   },
   {
    "duration": 97,
    "start_time": "2021-07-29T15:23:45.105Z"
   },
   {
    "duration": 890992,
    "start_time": "2021-07-29T15:23:45.205Z"
   },
   {
    "duration": 307007,
    "start_time": "2021-07-29T15:38:36.201Z"
   },
   {
    "duration": 344689,
    "start_time": "2021-07-29T15:43:43.211Z"
   },
   {
    "duration": 39,
    "start_time": "2021-07-29T15:49:27.903Z"
   },
   {
    "duration": 5,
    "start_time": "2021-07-29T15:49:27.944Z"
   },
   {
    "duration": 7,
    "start_time": "2021-07-29T15:49:27.952Z"
   },
   {
    "duration": 13258,
    "start_time": "2021-07-29T15:49:27.961Z"
   },
   {
    "duration": 4,
    "start_time": "2021-07-29T15:49:41.223Z"
   },
   {
    "duration": 11,
    "start_time": "2021-07-29T15:49:41.230Z"
   }
  ],
  "kernelspec": {
   "display_name": "Python 3",
   "language": "python",
   "name": "python3"
  },
  "language_info": {
   "codemirror_mode": {
    "name": "ipython",
    "version": 3
   },
   "file_extension": ".py",
   "mimetype": "text/x-python",
   "name": "python",
   "nbconvert_exporter": "python",
   "pygments_lexer": "ipython3",
   "version": "3.8.5"
  },
  "toc": {
   "base_numbering": 1,
   "nav_menu": {},
   "number_sections": true,
   "sideBar": true,
   "skip_h1_title": true,
   "title_cell": "Содержание",
   "title_sidebar": "Содержание",
   "toc_cell": true,
   "toc_position": {
    "height": "calc(100% - 180px)",
    "left": "10px",
    "top": "150px",
    "width": "266.875px"
   },
   "toc_section_display": true,
   "toc_window_display": false
  }
 },
 "nbformat": 4,
 "nbformat_minor": 2
}
