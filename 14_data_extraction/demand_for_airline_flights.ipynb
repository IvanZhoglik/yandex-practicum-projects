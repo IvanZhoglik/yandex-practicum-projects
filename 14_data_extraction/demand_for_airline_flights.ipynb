{
 "cells": [
  {
   "cell_type": "markdown",
   "metadata": {
    "toc": true
   },
   "source": [
    "<h1>Содержание<span class=\"tocSkip\"></span></h1>\n",
    "<div class=\"toc\"><ul class=\"toc-item\"><li><span><a href=\"#Финальный-комментарий\" data-toc-modified-id=\"Финальный-комментарий-1\"><span class=\"toc-item-num\">1&nbsp;&nbsp;</span><span style=\"color: green\">Финальный комментарий<span></span></span></a></span></li><li><span><a href=\"#Комментарий-ревьювера\" data-toc-modified-id=\"Комментарий-ревьювера-2\"><span class=\"toc-item-num\">2&nbsp;&nbsp;</span>Комментарий ревьювера</a></span></li><li><span><a href=\"#Введение\" data-toc-modified-id=\"Введение-3\"><span class=\"toc-item-num\">3&nbsp;&nbsp;</span>Введение</a></span></li><li><span><a href=\"#Аналитика\" data-toc-modified-id=\"Аналитика-4\"><span class=\"toc-item-num\">4&nbsp;&nbsp;</span>Аналитика</a></span><ul class=\"toc-item\"><li><span><a href=\"#Загрузка-и-чтение-данных\" data-toc-modified-id=\"Загрузка-и-чтение-данных-4.1\"><span class=\"toc-item-num\">4.1&nbsp;&nbsp;</span>Загрузка и чтение данных</a></span><ul class=\"toc-item\"><li><span><a href=\"#Вывод-по-разделу-2.1\" data-toc-modified-id=\"Вывод-по-разделу-2.1-4.1.1\"><span class=\"toc-item-num\">4.1.1&nbsp;&nbsp;</span>Вывод по разделу 2.1</a></span></li></ul></li><li><span><a href=\"#Анализ-данных\" data-toc-modified-id=\"Анализ-данных-4.2\"><span class=\"toc-item-num\">4.2&nbsp;&nbsp;</span>Анализ данных</a></span><ul class=\"toc-item\"><li><span><a href=\"#Топ-10-городов-по-количеству-рейсов\" data-toc-modified-id=\"Топ-10-городов-по-количеству-рейсов-4.2.1\"><span class=\"toc-item-num\">4.2.1&nbsp;&nbsp;</span>Топ-10 городов по количеству рейсов</a></span></li><li><span><a href=\"#Модели-самолетов-и-количество-рейсов\" data-toc-modified-id=\"Модели-самолетов-и-количество-рейсов-4.2.2\"><span class=\"toc-item-num\">4.2.2&nbsp;&nbsp;</span>Модели самолетов и количество рейсов</a></span></li><li><span><a href=\"#Города-и-количество-рейсов\" data-toc-modified-id=\"Города-и-количество-рейсов-4.2.3\"><span class=\"toc-item-num\">4.2.3&nbsp;&nbsp;</span>Города и количество рейсов</a></span></li></ul></li><li><span><a href=\"#Общий-вывод\" data-toc-modified-id=\"Общий-вывод-4.3\"><span class=\"toc-item-num\">4.3&nbsp;&nbsp;</span>Общий вывод</a></span></li></ul></li><li><span><a href=\"#Общий-комментарий\" data-toc-modified-id=\"Общий-комментарий-5\"><span class=\"toc-item-num\">5&nbsp;&nbsp;</span>Общий комментарий</a></span></li><li><span><a href=\"#Чек-лист-проверки\" data-toc-modified-id=\"Чек-лист-проверки-6\"><span class=\"toc-item-num\">6&nbsp;&nbsp;</span>Чек-лист проверки</a></span></li></ul></div>"
   ]
  },
  {
   "cell_type": "markdown",
   "metadata": {},
   "source": [
    "# Спрос на рейсы авиакомпании"
   ]
  },
  {
   "cell_type": "markdown",
   "metadata": {},
   "source": [
    "## Введение"
   ]
  },
  {
   "cell_type": "markdown",
   "metadata": {},
   "source": [
    "Вы аналитик российской авиакомпании F9, выполняющей внутренние пассажирские перевозки. Важно понять предпочтения пользователей, покупающих билеты на разные направления.\n",
    "\n",
    "Вам предстоит изучить базу данных и проанализировать спрос пассажиров на рейсы в города, где проходят крупнейшие культурные фестивали."
   ]
  },
  {
   "cell_type": "markdown",
   "metadata": {},
   "source": [
    "У вас есть файлы с результатами запросов из предыдущих заданий.\n",
    "\n",
    "**query_1.csv** — результат первого запроса. В нём содержится такая информация:\n",
    "\n",
    "- *model* — **модель самолета;\n",
    "- *flights_amount* — количество рейсов для каждой модели самолетов *model* в сентябре 2018 года.\n",
    "\n",
    "**query_3.csv** — результат третьего запроса. В нём содержится такая информация:\n",
    "\n",
    "- *city* — город;\n",
    "- *average_flights* — среднее количество рейсов, прибывающих в город (*city*) за день в сентябре 2018 года.\n",
    "\n",
    " Для этих двух наборов данных нужно:\n",
    "\n",
    "- импортировать файлы;\n",
    "- изучить данные в них;\n",
    "- проверить типы данных на корректность;\n",
    "- выбрать топ-10 городов по количеству рейсов;\n",
    "- построить графики: модели самолётов и количество рейсов, города и количество рейсов, топ-10 городов и количество рейсов;\n",
    "- сделать выводы по каждому из графиков, пояснить результат.\n"
   ]
  },
  {
   "cell_type": "markdown",
   "metadata": {},
   "source": [
    "## Аналитика"
   ]
  },
  {
   "cell_type": "code",
   "execution_count": 1,
   "metadata": {},
   "outputs": [],
   "source": [
    "import pandas as pd\n",
    "import matplotlib.pyplot as plt\n",
    "import seaborn as sns\n",
    "import numpy as np"
   ]
  },
  {
   "cell_type": "markdown",
   "metadata": {},
   "source": [
    "### Загрузка и чтение данных"
   ]
  },
  {
   "cell_type": "markdown",
   "metadata": {},
   "source": [
    "На первом этапе аналитического блока импортируем файлы, изучим данные и проверим типы данных на корректность."
   ]
  },
  {
   "cell_type": "markdown",
   "metadata": {},
   "source": [
    "**query_1**"
   ]
  },
  {
   "cell_type": "code",
   "execution_count": 2,
   "metadata": {},
   "outputs": [],
   "source": [
    "query_1 = pd.read_csv('/datasets/query_1.csv')"
   ]
  },
  {
   "cell_type": "markdown",
   "metadata": {},
   "source": [
    "Напишем функцию для вывода на экран основной информации о датасете: отображение первых 10 строк, общая и статистическая информация, проверка количества дубликатов."
   ]
  },
  {
   "cell_type": "code",
   "execution_count": 3,
   "metadata": {},
   "outputs": [],
   "source": [
    "def dataset_info(df):\n",
    "    print(df.head(10))\n",
    "    print(' ')\n",
    "    print ('\\033[1m' + 'Вывод метода info():' + '\\033[0m')\n",
    "    print(df.info())\n",
    "    print(' ')\n",
    "    print ('\\033[1m' + 'Вывод метода describe():' + '\\033[0m')\n",
    "    print(df.describe())\n",
    "    print(' ')\n",
    "    print ('\\033[1m' + 'Вывод метода duplicated():' + '\\033[0m')\n",
    "    print('Количество дубликатов:', df.duplicated().sum())"
   ]
  },
  {
   "cell_type": "code",
   "execution_count": 4,
   "metadata": {},
   "outputs": [
    {
     "name": "stdout",
     "output_type": "stream",
     "text": [
      "                 model  flights_amount\n",
      "0      Airbus A319-100             607\n",
      "1      Airbus A321-200             960\n",
      "2       Boeing 737-300             630\n",
      "3       Boeing 767-300             600\n",
      "4       Boeing 777-300             300\n",
      "5   Bombardier CRJ-200            4446\n",
      "6   Cessna 208 Caravan            4557\n",
      "7  Sukhoi SuperJet-100            4185\n",
      " \n",
      "\u001b[1mВывод метода info():\u001b[0m\n",
      "<class 'pandas.core.frame.DataFrame'>\n",
      "RangeIndex: 8 entries, 0 to 7\n",
      "Data columns (total 2 columns):\n",
      "model             8 non-null object\n",
      "flights_amount    8 non-null int64\n",
      "dtypes: int64(1), object(1)\n",
      "memory usage: 256.0+ bytes\n",
      "None\n",
      " \n",
      "\u001b[1mВывод метода describe():\u001b[0m\n",
      "       flights_amount\n",
      "count        8.000000\n",
      "mean      2035.625000\n",
      "std       1965.203947\n",
      "min        300.000000\n",
      "25%        605.250000\n",
      "50%        795.000000\n",
      "75%       4250.250000\n",
      "max       4557.000000\n",
      " \n",
      "\u001b[1mВывод метода duplicated():\u001b[0m\n",
      "Количество дубликатов: 0\n"
     ]
    }
   ],
   "source": [
    "dataset_info(query_1)"
   ]
  },
  {
   "cell_type": "markdown",
   "metadata": {},
   "source": [
    "Датасет **query_1** состоит из 2 столбцов и 8 записей (строк):\n",
    "\n",
    "Каждая строка таблицы содержит информацию о количестве рейсов для каждой модели самолетов model в сентябре 2018 года. Пропущенные значения отсутствуют. Датасет проверен на наличие дубликатов - дубликаты отсутствуют.\n",
    "\n",
    "По типам данных информация проверена на корректность: модель самолета имеет тип `object`, количество рейсов - целочисленный тип `int64`."
   ]
  },
  {
   "cell_type": "markdown",
   "metadata": {},
   "source": [
    "**query_3**"
   ]
  },
  {
   "cell_type": "code",
   "execution_count": 5,
   "metadata": {},
   "outputs": [],
   "source": [
    "query_3 = pd.read_csv('/datasets/query_3.csv')"
   ]
  },
  {
   "cell_type": "code",
   "execution_count": 6,
   "metadata": {},
   "outputs": [
    {
     "name": "stdout",
     "output_type": "stream",
     "text": [
      "           city  average_flights\n",
      "0        Абакан         3.870968\n",
      "1       Анадырь         1.000000\n",
      "2         Анапа         2.161290\n",
      "3   Архангельск         5.354839\n",
      "4     Астрахань         2.451613\n",
      "5       Барнаул         2.612903\n",
      "6      Белгород         6.000000\n",
      "7    Белоярский         2.000000\n",
      "8  Благовещенск         1.000000\n",
      "9        Братск         1.000000\n",
      " \n",
      "\u001b[1mВывод метода info():\u001b[0m\n",
      "<class 'pandas.core.frame.DataFrame'>\n",
      "RangeIndex: 101 entries, 0 to 100\n",
      "Data columns (total 2 columns):\n",
      "city               101 non-null object\n",
      "average_flights    101 non-null float64\n",
      "dtypes: float64(1), object(1)\n",
      "memory usage: 1.7+ KB\n",
      "None\n",
      " \n",
      "\u001b[1mВывод метода describe():\u001b[0m\n",
      "       average_flights\n",
      "count       101.000000\n",
      "mean          5.494189\n",
      "std          13.119790\n",
      "min           1.000000\n",
      "25%           2.000000\n",
      "50%           3.000000\n",
      "75%           5.870968\n",
      "max         129.774194\n",
      " \n",
      "\u001b[1mВывод метода duplicated():\u001b[0m\n",
      "Количество дубликатов: 0\n"
     ]
    }
   ],
   "source": [
    "dataset_info(query_3)"
   ]
  },
  {
   "cell_type": "markdown",
   "metadata": {},
   "source": [
    "Датасет **query_3** состоит из 2 столбцов и 101 записи (строк):\n",
    "\n",
    "Каждая строка таблицы содержит информацию о наименовании города и среднем количестве рейсов, прибывающих в город (city) за день в сентябре 2018 года. Пропущенные значения отсутствуют. Датасет проверен на наличие дубликатов - дубликаты отсутствуют.\n",
    "\n",
    "По типам данных информация проверена на корректность: наименование города имеет тип `object`, среднее количество рейсов - вещественный тип `float64`."
   ]
  },
  {
   "cell_type": "markdown",
   "metadata": {},
   "source": [
    "#### Вывод по разделу 2.1"
   ]
  },
  {
   "cell_type": "markdown",
   "metadata": {},
   "source": [
    "Датасет **query_1** содержит информацию о количестве рейсов для каждой модели самолетов model в сентябре 2018 года. Датасет **query_3** состоит содержит информацию о наименовании города и среднем количестве рейсов, прибывающих в город (city) за день в сентябре 2018 года.\n",
    "\n",
    "Пропущенные значения и дубликаты отсутствуют. Типы данных имеют корректный вид."
   ]
  },
  {
   "cell_type": "markdown",
   "metadata": {},
   "source": [
    "### Анализ данных"
   ]
  },
  {
   "cell_type": "markdown",
   "metadata": {},
   "source": [
    "На втором этапе аналитического блока найдем топ-10 городов по количеству рейсов, а также\n",
    "построить графики: модели самолётов и количество рейсов, города и количество рейсов, топ-10 городов и количество рейсов."
   ]
  },
  {
   "cell_type": "markdown",
   "metadata": {},
   "source": [
    "#### Топ-10 городов по количеству рейсов"
   ]
  },
  {
   "cell_type": "code",
   "execution_count": 7,
   "metadata": {},
   "outputs": [],
   "source": [
    "top_10_cities = query_3.sort_values(by='average_flights', ascending=False).head(10)"
   ]
  },
  {
   "cell_type": "code",
   "execution_count": 8,
   "metadata": {},
   "outputs": [
    {
     "data": {
      "text/html": [
       "<div>\n",
       "<style scoped>\n",
       "    .dataframe tbody tr th:only-of-type {\n",
       "        vertical-align: middle;\n",
       "    }\n",
       "\n",
       "    .dataframe tbody tr th {\n",
       "        vertical-align: top;\n",
       "    }\n",
       "\n",
       "    .dataframe thead th {\n",
       "        text-align: right;\n",
       "    }\n",
       "</style>\n",
       "<table border=\"1\" class=\"dataframe\">\n",
       "  <thead>\n",
       "    <tr style=\"text-align: right;\">\n",
       "      <th></th>\n",
       "      <th>city</th>\n",
       "      <th>average_flights</th>\n",
       "    </tr>\n",
       "  </thead>\n",
       "  <tbody>\n",
       "    <tr>\n",
       "      <td>43</td>\n",
       "      <td>Москва</td>\n",
       "      <td>129.774194</td>\n",
       "    </tr>\n",
       "    <tr>\n",
       "      <td>70</td>\n",
       "      <td>Санкт-Петербург</td>\n",
       "      <td>31.161290</td>\n",
       "    </tr>\n",
       "    <tr>\n",
       "      <td>54</td>\n",
       "      <td>Новосибирск</td>\n",
       "      <td>17.322581</td>\n",
       "    </tr>\n",
       "    <tr>\n",
       "      <td>33</td>\n",
       "      <td>Красноярск</td>\n",
       "      <td>11.580645</td>\n",
       "    </tr>\n",
       "    <tr>\n",
       "      <td>20</td>\n",
       "      <td>Екатеринбург</td>\n",
       "      <td>11.322581</td>\n",
       "    </tr>\n",
       "    <tr>\n",
       "      <td>67</td>\n",
       "      <td>Ростов-на-Дону</td>\n",
       "      <td>10.193548</td>\n",
       "    </tr>\n",
       "    <tr>\n",
       "      <td>63</td>\n",
       "      <td>Пермь</td>\n",
       "      <td>10.129032</td>\n",
       "    </tr>\n",
       "    <tr>\n",
       "      <td>10</td>\n",
       "      <td>Брянск</td>\n",
       "      <td>10.000000</td>\n",
       "    </tr>\n",
       "    <tr>\n",
       "      <td>74</td>\n",
       "      <td>Сочи</td>\n",
       "      <td>9.612903</td>\n",
       "    </tr>\n",
       "    <tr>\n",
       "      <td>84</td>\n",
       "      <td>Ульяновск</td>\n",
       "      <td>9.580645</td>\n",
       "    </tr>\n",
       "  </tbody>\n",
       "</table>\n",
       "</div>"
      ],
      "text/plain": [
       "               city  average_flights\n",
       "43           Москва       129.774194\n",
       "70  Санкт-Петербург        31.161290\n",
       "54      Новосибирск        17.322581\n",
       "33       Красноярск        11.580645\n",
       "20     Екатеринбург        11.322581\n",
       "67   Ростов-на-Дону        10.193548\n",
       "63            Пермь        10.129032\n",
       "10           Брянск        10.000000\n",
       "74             Сочи         9.612903\n",
       "84        Ульяновск         9.580645"
      ]
     },
     "execution_count": 8,
     "metadata": {},
     "output_type": "execute_result"
    }
   ],
   "source": [
    "top_10_cities"
   ]
  },
  {
   "cell_type": "markdown",
   "metadata": {},
   "source": [
    "Москва, как главный авиационный узел России, ожидаемо возглавила рейтинг городов по количеству рейсов."
   ]
  },
  {
   "cell_type": "markdown",
   "metadata": {},
   "source": [
    "Построим график по топ-10 городов и количеству рейсов:"
   ]
  },
  {
   "cell_type": "code",
   "execution_count": 9,
   "metadata": {},
   "outputs": [
    {
     "data": {
      "text/plain": [
       "Text(0, 0.5, 'Среднее количество рейсов')"
      ]
     },
     "execution_count": 9,
     "metadata": {},
     "output_type": "execute_result"
    },
    {
     "data": {
      "image/png": "[encoded data removed]",
      "text/plain": [
       "<Figure size 864x360 with 1 Axes>"
      ]
     },
     "metadata": {
      "needs_background": "light"
     },
     "output_type": "display_data"
    }
   ],
   "source": [
    "plt.figure(figsize=(12,5))\n",
    "sns.barplot(x=top_10_cities['city'],y=top_10_cities['average_flights'], palette=\"Blues_d\")\n",
    "plt.title(\"Топ-10 городов по количеству рейсов\", fontsize=15, \n",
    "          pad=20)\n",
    "plt.xticks(rotation=45)\n",
    "plt.xlabel(\"Город\", fontsize=12)\n",
    "plt.ylabel(\"Среднее количество рейсов\", fontsize=12)"
   ]
  },
  {
   "cell_type": "markdown",
   "metadata": {},
   "source": [
    "**Вывод**"
   ]
  },
  {
   "cell_type": "markdown",
   "metadata": {},
   "source": [
    "Москва - абсолютный лидер по среднему количеству рейсов. В среднем за день в сентябре 2018 года в Москву прибыло 129 рейсов.\n",
    "\n",
    "Второе место занимает Санкт-Петербург, куда в среднем за день прибыл 31 рейс, 3-е место - Новосибирск, в среднем 17 рейсов в день. Все города топ-3 - города-миллионники.\n",
    "\n",
    "В остальных городах из топ-10 среднее количество рейсов составляет от 9 до 11 за день, т.е. можно судить об относительной равнозначности в посещении данных городов в сентябре 2018 года."
   ]
  },
  {
   "cell_type": "markdown",
   "metadata": {},
   "source": [
    "#### Модели самолетов и количество рейсов"
   ]
  },
  {
   "cell_type": "code",
   "execution_count": 10,
   "metadata": {},
   "outputs": [],
   "source": [
    "model_flights_sorted = query_1.sort_values(by='flights_amount', ascending = False)"
   ]
  },
  {
   "cell_type": "code",
   "execution_count": 11,
   "metadata": {},
   "outputs": [
    {
     "data": {
      "text/html": [
       "<div>\n",
       "<style scoped>\n",
       "    .dataframe tbody tr th:only-of-type {\n",
       "        vertical-align: middle;\n",
       "    }\n",
       "\n",
       "    .dataframe tbody tr th {\n",
       "        vertical-align: top;\n",
       "    }\n",
       "\n",
       "    .dataframe thead th {\n",
       "        text-align: right;\n",
       "    }\n",
       "</style>\n",
       "<table border=\"1\" class=\"dataframe\">\n",
       "  <thead>\n",
       "    <tr style=\"text-align: right;\">\n",
       "      <th></th>\n",
       "      <th>model</th>\n",
       "      <th>flights_amount</th>\n",
       "    </tr>\n",
       "  </thead>\n",
       "  <tbody>\n",
       "    <tr>\n",
       "      <td>6</td>\n",
       "      <td>Cessna 208 Caravan</td>\n",
       "      <td>4557</td>\n",
       "    </tr>\n",
       "    <tr>\n",
       "      <td>5</td>\n",
       "      <td>Bombardier CRJ-200</td>\n",
       "      <td>4446</td>\n",
       "    </tr>\n",
       "    <tr>\n",
       "      <td>7</td>\n",
       "      <td>Sukhoi SuperJet-100</td>\n",
       "      <td>4185</td>\n",
       "    </tr>\n",
       "    <tr>\n",
       "      <td>1</td>\n",
       "      <td>Airbus A321-200</td>\n",
       "      <td>960</td>\n",
       "    </tr>\n",
       "    <tr>\n",
       "      <td>2</td>\n",
       "      <td>Boeing 737-300</td>\n",
       "      <td>630</td>\n",
       "    </tr>\n",
       "    <tr>\n",
       "      <td>0</td>\n",
       "      <td>Airbus A319-100</td>\n",
       "      <td>607</td>\n",
       "    </tr>\n",
       "    <tr>\n",
       "      <td>3</td>\n",
       "      <td>Boeing 767-300</td>\n",
       "      <td>600</td>\n",
       "    </tr>\n",
       "    <tr>\n",
       "      <td>4</td>\n",
       "      <td>Boeing 777-300</td>\n",
       "      <td>300</td>\n",
       "    </tr>\n",
       "  </tbody>\n",
       "</table>\n",
       "</div>"
      ],
      "text/plain": [
       "                 model  flights_amount\n",
       "6   Cessna 208 Caravan            4557\n",
       "5   Bombardier CRJ-200            4446\n",
       "7  Sukhoi SuperJet-100            4185\n",
       "1      Airbus A321-200             960\n",
       "2       Boeing 737-300             630\n",
       "0      Airbus A319-100             607\n",
       "3       Boeing 767-300             600\n",
       "4       Boeing 777-300             300"
      ]
     },
     "execution_count": 11,
     "metadata": {},
     "output_type": "execute_result"
    }
   ],
   "source": [
    "model_flights_sorted"
   ]
  },
  {
   "cell_type": "markdown",
   "metadata": {},
   "source": [
    "Построим гистограмму распределения количества рейсов для каждой модели самолетов model в сентябре 2018 года:"
   ]
  },
  {
   "cell_type": "code",
   "execution_count": 12,
   "metadata": {},
   "outputs": [
    {
     "data": {
      "text/plain": [
       "Text(0, 0.5, 'Количество рейсов')"
      ]
     },
     "execution_count": 12,
     "metadata": {},
     "output_type": "execute_result"
    },
    {
     "data": {
      "image/png": "[encoded data removed]",
      "text/plain": [
       "<Figure size 864x360 with 1 Axes>"
      ]
     },
     "metadata": {
      "needs_background": "light"
     },
     "output_type": "display_data"
    }
   ],
   "source": [
    "plt.figure(figsize=(12,5))\n",
    "sns.barplot(x=model_flights_sorted['model'],y=model_flights_sorted['flights_amount'])\n",
    "plt.title(\"Распределение количества рейсов для каждой модели самолетов в сентябре 2018 года\", fontsize=15, \n",
    "          pad=20)\n",
    "plt.xticks(rotation=45)\n",
    "plt.xlabel(\"Модель самолета\", fontsize=12)\n",
    "plt.ylabel(\"Количество рейсов\", fontsize=12)"
   ]
  },
  {
   "cell_type": "code",
   "execution_count": 13,
   "metadata": {},
   "outputs": [
    {
     "data": {
      "image/png": "[encoded data removed]",
      "text/plain": [
       "<Figure size 1440x504 with 1 Axes>"
      ]
     },
     "metadata": {},
     "output_type": "display_data"
    }
   ],
   "source": [
    "plt.figure(figsize=(20,7))\n",
    "plt.pie(model_flights_sorted['flights_amount'], labels=model_flights_sorted['model'], \n",
    "        autopct='%.1f%%', wedgeprops={'lw':1, 'ls':'-','edgecolor':\"w\"})\n",
    "plt.title('Круговая диаграмма распределения количества рейсов для каждой модели самолетов в сентябре 2018 года', fontsize=15, pad=30)\n",
    "plt.show()"
   ]
  },
  {
   "cell_type": "markdown",
   "metadata": {},
   "source": [
    "**Вывод**"
   ]
  },
  {
   "cell_type": "markdown",
   "metadata": {},
   "source": [
    "По количеству совершенных рейсов в сентябре 2018 года со значительным отрывом лидируют три модели самолетов:\n",
    "<li>Cessna 208 Caravan - 28%</li>\n",
    "<li>Bombardier CRJ-200 - 27.3%</li>\n",
    "<li>Sukhoi Superjet-100 - 25.7%</li>. \n",
    "\n",
    "Каждая модель в сентябре 2018 года совершила более 4000 рейсов.\n",
    "\n",
    "Самое любопытное, что лидер рейтинга Cessna 208 Caravan обладает вместимостью всего 9-13 пассажиров и дальностью действия 1200 км.\n",
    "\n",
    "Bombardier CRJ-200 обладает вместимостью 50 пассажиров и дальностью действия около 3000 км.\n",
    "\n",
    "Sukhoi Superjet-100 обладает вместимостью 98-108 пассажиров и дальностью действия около 3000-4500 км.\n",
    "\n",
    "На данные 3 модели самолетов приходится 81% всех авиаперелетов в сентябре 2018 года. Таким образом, лидируют самолеты небольшой вместимости, летающие на короткие расстояния.\n",
    "\n",
    "Boeing 777-300 можно отметить как модель с наименьшим количеством полетов за данный период."
   ]
  },
  {
   "cell_type": "markdown",
   "metadata": {},
   "source": [
    "#### Города и количество рейсов"
   ]
  },
  {
   "cell_type": "code",
   "execution_count": 14,
   "metadata": {},
   "outputs": [],
   "source": [
    "all_cities = query_3.sort_values(by='average_flights', ascending=False)"
   ]
  },
  {
   "cell_type": "code",
   "execution_count": 15,
   "metadata": {},
   "outputs": [
    {
     "data": {
      "text/html": [
       "<div>\n",
       "<style scoped>\n",
       "    .dataframe tbody tr th:only-of-type {\n",
       "        vertical-align: middle;\n",
       "    }\n",
       "\n",
       "    .dataframe tbody tr th {\n",
       "        vertical-align: top;\n",
       "    }\n",
       "\n",
       "    .dataframe thead th {\n",
       "        text-align: right;\n",
       "    }\n",
       "</style>\n",
       "<table border=\"1\" class=\"dataframe\">\n",
       "  <thead>\n",
       "    <tr style=\"text-align: right;\">\n",
       "      <th></th>\n",
       "      <th>city</th>\n",
       "      <th>average_flights</th>\n",
       "    </tr>\n",
       "  </thead>\n",
       "  <tbody>\n",
       "    <tr>\n",
       "      <td>37</td>\n",
       "      <td>Липецк</td>\n",
       "      <td>1.294118</td>\n",
       "    </tr>\n",
       "    <tr>\n",
       "      <td>36</td>\n",
       "      <td>Кызыл</td>\n",
       "      <td>1.277778</td>\n",
       "    </tr>\n",
       "    <tr>\n",
       "      <td>19</td>\n",
       "      <td>Грозный</td>\n",
       "      <td>1.129032</td>\n",
       "    </tr>\n",
       "    <tr>\n",
       "      <td>86</td>\n",
       "      <td>Усинск</td>\n",
       "      <td>1.000000</td>\n",
       "    </tr>\n",
       "    <tr>\n",
       "      <td>88</td>\n",
       "      <td>Усть-Кут</td>\n",
       "      <td>1.000000</td>\n",
       "    </tr>\n",
       "    <tr>\n",
       "      <td>76</td>\n",
       "      <td>Стрежевой</td>\n",
       "      <td>1.000000</td>\n",
       "    </tr>\n",
       "    <tr>\n",
       "      <td>1</td>\n",
       "      <td>Анадырь</td>\n",
       "      <td>1.000000</td>\n",
       "    </tr>\n",
       "    <tr>\n",
       "      <td>9</td>\n",
       "      <td>Братск</td>\n",
       "      <td>1.000000</td>\n",
       "    </tr>\n",
       "    <tr>\n",
       "      <td>8</td>\n",
       "      <td>Благовещенск</td>\n",
       "      <td>1.000000</td>\n",
       "    </tr>\n",
       "    <tr>\n",
       "      <td>21</td>\n",
       "      <td>Иваново</td>\n",
       "      <td>1.000000</td>\n",
       "    </tr>\n",
       "    <tr>\n",
       "      <td>22</td>\n",
       "      <td>Ижевск</td>\n",
       "      <td>1.000000</td>\n",
       "    </tr>\n",
       "    <tr>\n",
       "      <td>65</td>\n",
       "      <td>Петропавловск-Камчатский</td>\n",
       "      <td>1.000000</td>\n",
       "    </tr>\n",
       "    <tr>\n",
       "      <td>31</td>\n",
       "      <td>Комсомольск-на-Амуре</td>\n",
       "      <td>1.000000</td>\n",
       "    </tr>\n",
       "    <tr>\n",
       "      <td>58</td>\n",
       "      <td>Нягань</td>\n",
       "      <td>1.000000</td>\n",
       "    </tr>\n",
       "    <tr>\n",
       "      <td>49</td>\n",
       "      <td>Нефтеюганск</td>\n",
       "      <td>1.000000</td>\n",
       "    </tr>\n",
       "  </tbody>\n",
       "</table>\n",
       "</div>"
      ],
      "text/plain": [
       "                        city  average_flights\n",
       "37                    Липецк         1.294118\n",
       "36                     Кызыл         1.277778\n",
       "19                   Грозный         1.129032\n",
       "86                    Усинск         1.000000\n",
       "88                  Усть-Кут         1.000000\n",
       "76                 Стрежевой         1.000000\n",
       "1                    Анадырь         1.000000\n",
       "9                     Братск         1.000000\n",
       "8               Благовещенск         1.000000\n",
       "21                   Иваново         1.000000\n",
       "22                    Ижевск         1.000000\n",
       "65  Петропавловск-Камчатский         1.000000\n",
       "31      Комсомольск-на-Амуре         1.000000\n",
       "58                    Нягань         1.000000\n",
       "49               Нефтеюганск         1.000000"
      ]
     },
     "execution_count": 15,
     "metadata": {},
     "output_type": "execute_result"
    }
   ],
   "source": [
    "all_cities.tail(15)"
   ]
  },
  {
   "cell_type": "markdown",
   "metadata": {},
   "source": [
    "Построим график среднего количества рейсов по всем городам России за день в сентябре 2018 года:"
   ]
  },
  {
   "cell_type": "code",
   "execution_count": 16,
   "metadata": {},
   "outputs": [
    {
     "data": {
      "text/plain": [
       "Text(0, 0.5, 'Количество рейсов')"
      ]
     },
     "execution_count": 16,
     "metadata": {},
     "output_type": "execute_result"
    },
    {
     "data": {
      "image/png": "[encoded data removed]",
      "text/plain": [
       "<Figure size 1080x576 with 1 Axes>"
      ]
     },
     "metadata": {
      "needs_background": "light"
     },
     "output_type": "display_data"
    }
   ],
   "source": [
    "plt.figure(figsize=(15,8))\n",
    "sns.barplot(x=all_cities['city'],y=all_cities['average_flights'], color=\"b\")\n",
    "plt.title(\"Cреднее количество рейсов по всем городам России за день в сентябре 2018 года\", fontsize=15, \n",
    "          pad=20)\n",
    "plt.xticks(rotation=90)\n",
    "plt.xlabel(\"Город\", fontsize=12)\n",
    "plt.ylabel(\"Количество рейсов\", fontsize=12)"
   ]
  },
  {
   "cell_type": "markdown",
   "metadata": {},
   "source": [
    "**Вывод**"
   ]
  },
  {
   "cell_type": "markdown",
   "metadata": {},
   "source": [
    "На ранее построенном выше графике распределения по топ-10 городам России мы уже видели, что лидирующие позиции занимают города от Москвы и до Ульяновска. \n",
    "\n",
    "Также, ранее мы уже видели, что начиная с Красноярска снижение среднего количества рейсов, прибывающих в город, происходит постоянно, без скачкообразных переходов. Такая же динамика наблюдается и в дальнейшем - от города Советский до города Нефтюганск.\n",
    "\n",
    "В 12 городов, замыкающих список городов, в среднем за день прибыл только один рейс. Эти 12 города можно отметить как города с наименьшим количеством рейсов за день. \n",
    "\n",
    "В целом нельзя сказать, что среднее количество рейсов зависит только от численности населения города или его удаленности от Столицы. Количество рейсов также зависит и от сезонности (например, Сочи - курортный город и в сентябре еще пользуется популярностью), от промышленного оборота (например, Сургут - не самый населенный город, однако по данным на 2012 год по обороту промышленности уступил лишь Москве и Санкт-Петербургу и занял 3-е место по стране), а также многих других факторов."
   ]
  },
  {
   "cell_type": "markdown",
   "metadata": {},
   "source": [
    "### Общий вывод"
   ]
  },
  {
   "cell_type": "markdown",
   "metadata": {},
   "source": [
    "В данной проектной работе для российской авиакомпании F9, выполняющей внутренние пассажирские перевозки, рассмотрены предпочтения пользователей, покупающих билеты на разные направления. Выполнены следующие этапы:\n",
    "\n",
    "1. **Загружены и изучены данные:** \n",
    "\n",
    "<li>Датасет query_1 содержит информацию о количестве рейсов для каждой модели самолетов model в сентябре 2018 года;</li> \n",
    "<li>Датасет query_3 состоит содержит информацию о наименовании города и среднем количестве рейсов, прибывающих в город (city) за день в сентябре 2018 года;</li>\n",
    "<li>Пропущенные значения и дубликаты отсутствуют;</li>\n",
    "<li>Типы данных имеют корректный вид.</li>\n",
    "\n",
    "2. **Выполнен анализ данных и построены графики по следующим показателям:**\n",
    "\n",
    "<li>Топ-10 городов по количеству рейсов;</li>\n",
    "<li>Модели самолетов и количество рейсо;</li>\n",
    "<li>Города и количество рейсов.</li>\n",
    "\n",
    "3. **Сделаны следующие наблюдения:**\n",
    "\n",
    "<li>Cessna 208 Caravan, Bombardier CRJ-200 и Sukhoi SuperJet-100 - лидеры по количеству рейсов в сентябре 2018 года. На данные 3 модели самолетов приходится 81% всех авиаперелетов. Таким образом, лидируют самолеты небольшой вместимости, летающие на короткие расстояния;</li>\n",
    "<li>В распределении по количеству рейсов по городам со значительным преимуществом ожидаемо лидирует Москва. Это можно объяснить тем, что город является не только столицей России, но и лидером многих других культурных, финансовых, экономических и туристических направлений России.</li>"
   ]
  }
 ],
 "metadata": {
  "ExecuteTimeLog": [
   {
    "duration": 885,
    "start_time": "2021-09-02T16:26:43.833Z"
   },
   {
    "duration": 17,
    "start_time": "2021-09-02T16:40:24.602Z"
   },
   {
    "duration": 10,
    "start_time": "2021-09-02T16:41:02.222Z"
   },
   {
    "duration": 6,
    "start_time": "2021-09-02T16:44:16.643Z"
   },
   {
    "duration": 508,
    "start_time": "2021-09-02T16:44:31.378Z"
   },
   {
    "duration": 669,
    "start_time": "2021-09-02T16:44:53.537Z"
   },
   {
    "duration": 4,
    "start_time": "2021-09-02T16:45:40.025Z"
   },
   {
    "duration": 686,
    "start_time": "2021-09-02T16:45:42.814Z"
   },
   {
    "duration": 5,
    "start_time": "2021-09-02T16:46:08.814Z"
   },
   {
    "duration": 651,
    "start_time": "2021-09-02T16:46:11.588Z"
   },
   {
    "duration": 5,
    "start_time": "2021-09-02T16:46:34.104Z"
   },
   {
    "duration": 4,
    "start_time": "2021-09-02T16:47:00.372Z"
   },
   {
    "duration": 21,
    "start_time": "2021-09-02T16:47:01.648Z"
   },
   {
    "duration": 4,
    "start_time": "2021-09-02T17:07:38.759Z"
   },
   {
    "duration": 23,
    "start_time": "2021-09-02T17:07:40.683Z"
   },
   {
    "duration": 17,
    "start_time": "2021-09-02T17:08:40.298Z"
   },
   {
    "duration": 23,
    "start_time": "2021-09-02T17:08:51.322Z"
   },
   {
    "duration": 391,
    "start_time": "2021-09-06T15:13:36.099Z"
   },
   {
    "duration": 924,
    "start_time": "2021-09-06T15:13:52.494Z"
   },
   {
    "duration": 37,
    "start_time": "2021-09-06T15:13:53.421Z"
   },
   {
    "duration": 5,
    "start_time": "2021-09-06T15:13:53.462Z"
   },
   {
    "duration": 26,
    "start_time": "2021-09-06T15:13:53.471Z"
   },
   {
    "duration": 41,
    "start_time": "2021-09-06T15:13:53.500Z"
   },
   {
    "duration": 24,
    "start_time": "2021-09-06T15:13:53.543Z"
   },
   {
    "duration": 8,
    "start_time": "2021-09-06T15:13:53.570Z"
   },
   {
    "duration": 5,
    "start_time": "2021-09-06T15:15:29.176Z"
   },
   {
    "duration": 15,
    "start_time": "2021-09-06T15:15:37.809Z"
   },
   {
    "duration": 406,
    "start_time": "2021-09-06T15:20:45.931Z"
   },
   {
    "duration": 699,
    "start_time": "2021-09-06T15:21:17.353Z"
   },
   {
    "duration": 675,
    "start_time": "2021-09-06T15:21:28.386Z"
   },
   {
    "duration": 612,
    "start_time": "2021-09-06T15:23:23.321Z"
   },
   {
    "duration": 954,
    "start_time": "2021-09-06T15:23:30.239Z"
   },
   {
    "duration": 648,
    "start_time": "2021-09-06T15:27:01.191Z"
   },
   {
    "duration": 3,
    "start_time": "2021-09-06T15:27:12.183Z"
   },
   {
    "duration": 662,
    "start_time": "2021-09-06T15:27:13.201Z"
   },
   {
    "duration": 2345,
    "start_time": "2021-09-06T15:31:53.887Z"
   },
   {
    "duration": 1440,
    "start_time": "2021-09-06T15:32:17.463Z"
   },
   {
    "duration": 19,
    "start_time": "2021-09-06T15:32:18.906Z"
   },
   {
    "duration": 9,
    "start_time": "2021-09-06T15:32:18.929Z"
   },
   {
    "duration": 43,
    "start_time": "2021-09-06T15:32:18.941Z"
   },
   {
    "duration": 23,
    "start_time": "2021-09-06T15:32:18.987Z"
   },
   {
    "duration": 44,
    "start_time": "2021-09-06T15:32:19.013Z"
   },
   {
    "duration": 8,
    "start_time": "2021-09-06T15:32:19.060Z"
   },
   {
    "duration": 35,
    "start_time": "2021-09-06T15:32:19.071Z"
   },
   {
    "duration": 2507,
    "start_time": "2021-09-06T15:32:19.109Z"
   },
   {
    "duration": 517,
    "start_time": "2021-09-06T15:32:21.102Z"
   },
   {
    "duration": 507,
    "start_time": "2021-09-06T15:32:21.114Z"
   },
   {
    "duration": 1372,
    "start_time": "2021-09-11T15:44:40.136Z"
   },
   {
    "duration": 16,
    "start_time": "2021-09-11T15:44:41.511Z"
   },
   {
    "duration": 7,
    "start_time": "2021-09-11T15:44:41.530Z"
   },
   {
    "duration": 24,
    "start_time": "2021-09-11T15:44:41.540Z"
   },
   {
    "duration": 19,
    "start_time": "2021-09-11T15:44:41.566Z"
   },
   {
    "duration": 22,
    "start_time": "2021-09-11T15:44:41.588Z"
   },
   {
    "duration": 6,
    "start_time": "2021-09-11T15:44:41.613Z"
   },
   {
    "duration": 14,
    "start_time": "2021-09-11T15:44:41.623Z"
   },
   {
    "duration": 718,
    "start_time": "2021-09-11T15:44:41.640Z"
   },
   {
    "duration": 467,
    "start_time": "2021-09-11T15:44:41.893Z"
   },
   {
    "duration": 466,
    "start_time": "2021-09-11T15:44:41.896Z"
   },
   {
    "duration": 418,
    "start_time": "2021-09-11T15:44:41.945Z"
   },
   {
    "duration": 722,
    "start_time": "2021-09-11T15:47:37.330Z"
   },
   {
    "duration": 108,
    "start_time": "2021-09-11T15:53:12.401Z"
   },
   {
    "duration": 124,
    "start_time": "2021-09-11T15:53:25.609Z"
   },
   {
    "duration": 127,
    "start_time": "2021-09-11T15:53:29.742Z"
   },
   {
    "duration": 116,
    "start_time": "2021-09-11T15:53:35.592Z"
   },
   {
    "duration": 666,
    "start_time": "2021-09-11T15:53:54.681Z"
   },
   {
    "duration": 369,
    "start_time": "2021-09-11T15:54:05.800Z"
   },
   {
    "duration": 296,
    "start_time": "2021-09-11T15:54:31.692Z"
   },
   {
    "duration": 278,
    "start_time": "2021-09-11T15:57:08.028Z"
   },
   {
    "duration": 291,
    "start_time": "2021-09-11T16:00:01.229Z"
   },
   {
    "duration": 275,
    "start_time": "2021-09-11T16:00:06.764Z"
   },
   {
    "duration": 345,
    "start_time": "2021-09-11T16:00:18.767Z"
   },
   {
    "duration": 285,
    "start_time": "2021-09-11T16:00:24.759Z"
   },
   {
    "duration": 284,
    "start_time": "2021-09-11T16:00:30.622Z"
   },
   {
    "duration": 697,
    "start_time": "2021-09-11T16:01:23.808Z"
   },
   {
    "duration": 300,
    "start_time": "2021-09-11T16:02:02.361Z"
   },
   {
    "duration": 288,
    "start_time": "2021-09-11T16:02:22.457Z"
   },
   {
    "duration": 297,
    "start_time": "2021-09-11T16:03:25.730Z"
   },
   {
    "duration": 304,
    "start_time": "2021-09-11T16:04:56.861Z"
   },
   {
    "duration": 309,
    "start_time": "2021-09-11T16:05:17.633Z"
   },
   {
    "duration": 286,
    "start_time": "2021-09-11T16:05:29.521Z"
   },
   {
    "duration": 291,
    "start_time": "2021-09-11T16:05:41.234Z"
   },
   {
    "duration": 122,
    "start_time": "2021-09-11T16:05:59.060Z"
   },
   {
    "duration": 112,
    "start_time": "2021-09-11T16:06:04.792Z"
   },
   {
    "duration": 110,
    "start_time": "2021-09-11T16:06:15.679Z"
   },
   {
    "duration": 365,
    "start_time": "2021-09-11T16:06:25.875Z"
   },
   {
    "duration": 659,
    "start_time": "2021-09-11T16:08:17.184Z"
   },
   {
    "duration": 658,
    "start_time": "2021-09-11T16:08:24.927Z"
   },
   {
    "duration": 284,
    "start_time": "2021-09-11T16:09:18.494Z"
   },
   {
    "duration": 290,
    "start_time": "2021-09-11T16:09:40.243Z"
   },
   {
    "duration": 305,
    "start_time": "2021-09-11T16:11:13.369Z"
   },
   {
    "duration": 319,
    "start_time": "2021-09-11T16:11:19.479Z"
   },
   {
    "duration": 296,
    "start_time": "2021-09-11T16:11:28.114Z"
   },
   {
    "duration": 347,
    "start_time": "2021-09-11T17:48:18.421Z"
   },
   {
    "duration": 4,
    "start_time": "2021-09-11T17:48:39.713Z"
   },
   {
    "duration": 9,
    "start_time": "2021-09-11T17:48:46.658Z"
   },
   {
    "duration": 5,
    "start_time": "2021-09-11T17:49:09.591Z"
   },
   {
    "duration": 9,
    "start_time": "2021-09-11T17:49:12.319Z"
   },
   {
    "duration": 353,
    "start_time": "2021-09-11T17:56:30.670Z"
   },
   {
    "duration": 360,
    "start_time": "2021-09-11T17:58:00.590Z"
   },
   {
    "duration": 332,
    "start_time": "2021-09-11T17:58:28.446Z"
   },
   {
    "duration": 408,
    "start_time": "2021-09-11T17:58:48.477Z"
   },
   {
    "duration": 333,
    "start_time": "2021-09-11T17:59:08.192Z"
   },
   {
    "duration": 359,
    "start_time": "2021-09-11T17:59:30.355Z"
   },
   {
    "duration": 350,
    "start_time": "2021-09-11T17:59:41.724Z"
   },
   {
    "duration": 332,
    "start_time": "2021-09-11T17:59:48.924Z"
   },
   {
    "duration": 366,
    "start_time": "2021-09-11T18:00:26.949Z"
   },
   {
    "duration": 5,
    "start_time": "2021-09-11T18:04:47.201Z"
   },
   {
    "duration": 13,
    "start_time": "2021-09-11T18:04:51.586Z"
   },
   {
    "duration": 8684,
    "start_time": "2021-09-11T18:08:40.373Z"
   },
   {
    "duration": 2377,
    "start_time": "2021-09-11T18:08:58.661Z"
   },
   {
    "duration": 2601,
    "start_time": "2021-09-11T18:09:20.466Z"
   },
   {
    "duration": 2831,
    "start_time": "2021-09-11T18:09:33.051Z"
   },
   {
    "duration": 2479,
    "start_time": "2021-09-11T18:10:03.129Z"
   },
   {
    "duration": 2399,
    "start_time": "2021-09-11T18:10:27.430Z"
   },
   {
    "duration": 2450,
    "start_time": "2021-09-11T18:10:41.560Z"
   },
   {
    "duration": 2615,
    "start_time": "2021-09-11T18:10:54.467Z"
   },
   {
    "duration": 2469,
    "start_time": "2021-09-11T18:11:02.805Z"
   },
   {
    "duration": 2518,
    "start_time": "2021-09-11T18:11:13.136Z"
   },
   {
    "duration": 2631,
    "start_time": "2021-09-11T18:12:16.893Z"
   },
   {
    "duration": 319,
    "start_time": "2021-09-11T18:16:45.463Z"
   },
   {
    "duration": 306,
    "start_time": "2021-09-11T18:17:19.286Z"
   },
   {
    "duration": 318,
    "start_time": "2021-09-11T18:19:23.586Z"
   },
   {
    "duration": 324,
    "start_time": "2021-09-11T18:19:35.471Z"
   },
   {
    "duration": 10,
    "start_time": "2021-09-11T18:50:42.890Z"
   },
   {
    "duration": 443,
    "start_time": "2021-09-11T18:51:29.195Z"
   },
   {
    "duration": 366,
    "start_time": "2021-09-11T18:51:36.863Z"
   },
   {
    "duration": 11,
    "start_time": "2021-09-11T18:52:32.561Z"
   },
   {
    "duration": 10,
    "start_time": "2021-09-11T18:52:40.040Z"
   },
   {
    "duration": 1380,
    "start_time": "2021-09-11T19:29:19.036Z"
   },
   {
    "duration": 16,
    "start_time": "2021-09-11T19:29:20.419Z"
   },
   {
    "duration": 5,
    "start_time": "2021-09-11T19:29:20.438Z"
   },
   {
    "duration": 43,
    "start_time": "2021-09-11T19:29:20.446Z"
   },
   {
    "duration": 16,
    "start_time": "2021-09-11T19:29:20.491Z"
   },
   {
    "duration": 23,
    "start_time": "2021-09-11T19:29:20.509Z"
   },
   {
    "duration": 5,
    "start_time": "2021-09-11T19:29:20.535Z"
   },
   {
    "duration": 47,
    "start_time": "2021-09-11T19:29:20.543Z"
   },
   {
    "duration": 446,
    "start_time": "2021-09-11T19:29:20.593Z"
   },
   {
    "duration": 6,
    "start_time": "2021-09-11T19:29:21.042Z"
   },
   {
    "duration": 33,
    "start_time": "2021-09-11T19:29:21.051Z"
   },
   {
    "duration": 561,
    "start_time": "2021-09-11T19:29:21.087Z"
   },
   {
    "duration": 360,
    "start_time": "2021-09-11T19:29:21.651Z"
   },
   {
    "duration": 5,
    "start_time": "2021-09-11T19:29:22.013Z"
   },
   {
    "duration": 14,
    "start_time": "2021-09-11T19:29:22.021Z"
   },
   {
    "duration": 4069,
    "start_time": "2021-09-11T19:29:22.038Z"
   },
   {
    "duration": 4,
    "start_time": "2021-09-11T19:30:03.909Z"
   },
   {
    "duration": 1944,
    "start_time": "2021-09-11T19:30:07.904Z"
   },
   {
    "duration": 18,
    "start_time": "2021-09-11T19:30:09.851Z"
   },
   {
    "duration": 10,
    "start_time": "2021-09-11T19:30:09.873Z"
   },
   {
    "duration": 26,
    "start_time": "2021-09-11T19:30:09.886Z"
   },
   {
    "duration": 15,
    "start_time": "2021-09-11T19:30:09.915Z"
   },
   {
    "duration": 27,
    "start_time": "2021-09-11T19:30:09.933Z"
   },
   {
    "duration": 21,
    "start_time": "2021-09-11T19:30:09.963Z"
   },
   {
    "duration": 17,
    "start_time": "2021-09-11T19:30:09.989Z"
   },
   {
    "duration": 347,
    "start_time": "2021-09-11T19:30:10.009Z"
   },
   {
    "duration": 6,
    "start_time": "2021-09-11T19:30:10.359Z"
   },
   {
    "duration": 11,
    "start_time": "2021-09-11T19:30:10.383Z"
   },
   {
    "duration": 396,
    "start_time": "2021-09-11T19:30:10.397Z"
   },
   {
    "duration": 363,
    "start_time": "2021-09-11T19:30:10.796Z"
   },
   {
    "duration": 6,
    "start_time": "2021-09-11T19:30:11.162Z"
   },
   {
    "duration": 21,
    "start_time": "2021-09-11T19:30:11.170Z"
   },
   {
    "duration": 2665,
    "start_time": "2021-09-11T19:30:11.194Z"
   },
   {
    "duration": 1240,
    "start_time": "2021-09-12T05:12:47.978Z"
   },
   {
    "duration": 16,
    "start_time": "2021-09-12T05:12:49.220Z"
   },
   {
    "duration": 5,
    "start_time": "2021-09-12T05:12:49.239Z"
   },
   {
    "duration": 18,
    "start_time": "2021-09-12T05:12:49.246Z"
   },
   {
    "duration": 26,
    "start_time": "2021-09-12T05:12:49.266Z"
   },
   {
    "duration": 20,
    "start_time": "2021-09-12T05:12:49.293Z"
   },
   {
    "duration": 7,
    "start_time": "2021-09-12T05:12:49.315Z"
   },
   {
    "duration": 17,
    "start_time": "2021-09-12T05:12:49.325Z"
   },
   {
    "duration": 242,
    "start_time": "2021-09-12T05:12:49.344Z"
   },
   {
    "duration": 4,
    "start_time": "2021-09-12T05:12:49.588Z"
   },
   {
    "duration": 14,
    "start_time": "2021-09-12T05:12:49.594Z"
   },
   {
    "duration": 284,
    "start_time": "2021-09-12T05:12:49.610Z"
   },
   {
    "duration": 251,
    "start_time": "2021-09-12T05:12:49.896Z"
   },
   {
    "duration": 4,
    "start_time": "2021-09-12T05:12:50.149Z"
   },
   {
    "duration": 22,
    "start_time": "2021-09-12T05:12:50.155Z"
   },
   {
    "duration": 1828,
    "start_time": "2021-09-12T05:12:50.179Z"
   },
   {
    "duration": 4,
    "start_time": "2021-09-12T17:08:04.213Z"
   },
   {
    "duration": 323,
    "start_time": "2021-09-12T17:08:08.924Z"
   },
   {
    "duration": 260,
    "start_time": "2021-09-12T17:08:14.962Z"
   },
   {
    "duration": 1168,
    "start_time": "2021-09-12T17:08:19.977Z"
   },
   {
    "duration": 33,
    "start_time": "2021-09-12T17:08:21.147Z"
   },
   {
    "duration": 3,
    "start_time": "2021-09-12T17:08:21.183Z"
   },
   {
    "duration": 18,
    "start_time": "2021-09-12T17:08:21.188Z"
   },
   {
    "duration": 36,
    "start_time": "2021-09-12T17:08:21.208Z"
   },
   {
    "duration": 15,
    "start_time": "2021-09-12T17:08:21.245Z"
   },
   {
    "duration": 4,
    "start_time": "2021-09-12T17:08:21.262Z"
   },
   {
    "duration": 11,
    "start_time": "2021-09-12T17:08:21.269Z"
   },
   {
    "duration": 220,
    "start_time": "2021-09-12T17:08:21.282Z"
   },
   {
    "duration": 4,
    "start_time": "2021-09-12T17:08:21.503Z"
   },
   {
    "duration": 20,
    "start_time": "2021-09-12T17:08:21.508Z"
   },
   {
    "duration": 248,
    "start_time": "2021-09-12T17:08:21.530Z"
   },
   {
    "duration": 232,
    "start_time": "2021-09-12T17:08:21.780Z"
   },
   {
    "duration": 4,
    "start_time": "2021-09-12T17:08:22.015Z"
   },
   {
    "duration": 9,
    "start_time": "2021-09-12T17:08:22.021Z"
   },
   {
    "duration": 1783,
    "start_time": "2021-09-12T17:08:22.032Z"
   },
   {
    "duration": 4,
    "start_time": "2021-09-12T17:20:56.525Z"
   },
   {
    "duration": 1279,
    "start_time": "2021-09-12T17:21:05.650Z"
   },
   {
    "duration": 16,
    "start_time": "2021-09-12T17:21:06.931Z"
   },
   {
    "duration": 13,
    "start_time": "2021-09-12T17:21:06.949Z"
   },
   {
    "duration": 29,
    "start_time": "2021-09-12T17:21:06.964Z"
   },
   {
    "duration": 15,
    "start_time": "2021-09-12T17:21:06.994Z"
   },
   {
    "duration": 16,
    "start_time": "2021-09-12T17:21:07.011Z"
   },
   {
    "duration": 5,
    "start_time": "2021-09-12T17:21:07.029Z"
   },
   {
    "duration": 10,
    "start_time": "2021-09-12T17:21:07.036Z"
   },
   {
    "duration": 213,
    "start_time": "2021-09-12T17:21:07.048Z"
   },
   {
    "duration": 3,
    "start_time": "2021-09-12T17:21:07.263Z"
   },
   {
    "duration": 5,
    "start_time": "2021-09-12T17:21:07.277Z"
   },
   {
    "duration": 250,
    "start_time": "2021-09-12T17:21:07.284Z"
   },
   {
    "duration": 228,
    "start_time": "2021-09-12T17:21:07.536Z"
   },
   {
    "duration": 10,
    "start_time": "2021-09-12T17:21:07.766Z"
   },
   {
    "duration": 10,
    "start_time": "2021-09-12T17:21:07.778Z"
   },
   {
    "duration": 1630,
    "start_time": "2021-09-12T17:21:07.790Z"
   },
   {
    "duration": 321,
    "start_time": "2021-09-12T17:30:22.457Z"
   },
   {
    "duration": 235,
    "start_time": "2021-09-12T17:32:54.372Z"
   },
   {
    "duration": 244,
    "start_time": "2021-09-12T17:36:44.417Z"
   },
   {
    "duration": 1634,
    "start_time": "2021-09-12T17:37:40.463Z"
   },
   {
    "duration": 1630,
    "start_time": "2021-09-12T17:39:39.580Z"
   },
   {
    "duration": 1798,
    "start_time": "2021-09-12T17:41:51.070Z"
   },
   {
    "duration": 1095,
    "start_time": "2021-09-12T17:57:57.733Z"
   },
   {
    "duration": 16,
    "start_time": "2021-09-12T17:57:58.830Z"
   },
   {
    "duration": 5,
    "start_time": "2021-09-12T17:57:58.848Z"
   },
   {
    "duration": 17,
    "start_time": "2021-09-12T17:57:58.855Z"
   },
   {
    "duration": 16,
    "start_time": "2021-09-12T17:57:58.876Z"
   },
   {
    "duration": 17,
    "start_time": "2021-09-12T17:57:58.894Z"
   },
   {
    "duration": 4,
    "start_time": "2021-09-12T17:57:58.913Z"
   },
   {
    "duration": 13,
    "start_time": "2021-09-12T17:57:58.919Z"
   },
   {
    "duration": 273,
    "start_time": "2021-09-12T17:57:58.934Z"
   },
   {
    "duration": 4,
    "start_time": "2021-09-12T17:57:59.208Z"
   },
   {
    "duration": 9,
    "start_time": "2021-09-12T17:57:59.213Z"
   },
   {
    "duration": 266,
    "start_time": "2021-09-12T17:57:59.223Z"
   },
   {
    "duration": 232,
    "start_time": "2021-09-12T17:57:59.491Z"
   },
   {
    "duration": 4,
    "start_time": "2021-09-12T17:57:59.724Z"
   },
   {
    "duration": 11,
    "start_time": "2021-09-12T17:57:59.729Z"
   },
   {
    "duration": 1698,
    "start_time": "2021-09-12T17:57:59.742Z"
   },
   {
    "duration": 1091,
    "start_time": "2021-09-13T04:23:03.157Z"
   },
   {
    "duration": 18,
    "start_time": "2021-09-13T04:23:04.249Z"
   },
   {
    "duration": 6,
    "start_time": "2021-09-13T04:23:04.268Z"
   },
   {
    "duration": 18,
    "start_time": "2021-09-13T04:23:04.276Z"
   },
   {
    "duration": 17,
    "start_time": "2021-09-13T04:23:04.296Z"
   },
   {
    "duration": 20,
    "start_time": "2021-09-13T04:23:04.315Z"
   },
   {
    "duration": 3,
    "start_time": "2021-09-13T04:23:04.337Z"
   },
   {
    "duration": 9,
    "start_time": "2021-09-13T04:23:04.343Z"
   },
   {
    "duration": 349,
    "start_time": "2021-09-13T04:23:04.354Z"
   },
   {
    "duration": 3,
    "start_time": "2021-09-13T04:23:04.705Z"
   },
   {
    "duration": 10,
    "start_time": "2021-09-13T04:23:04.710Z"
   },
   {
    "duration": 234,
    "start_time": "2021-09-13T04:23:04.722Z"
   },
   {
    "duration": 215,
    "start_time": "2021-09-13T04:23:04.958Z"
   },
   {
    "duration": 4,
    "start_time": "2021-09-13T04:23:05.174Z"
   },
   {
    "duration": 14,
    "start_time": "2021-09-13T04:23:05.180Z"
   },
   {
    "duration": 1541,
    "start_time": "2021-09-13T04:23:05.196Z"
   }
  ],
  "kernelspec": {
   "display_name": "Python 3",
   "language": "python",
   "name": "python3"
  },
  "language_info": {
   "codemirror_mode": {
    "name": "ipython",
    "version": 3
   },
   "file_extension": ".py",
   "mimetype": "text/x-python",
   "name": "python",
   "nbconvert_exporter": "python",
   "pygments_lexer": "ipython3",
   "version": "3.8.5"
  },
  "toc": {
   "base_numbering": 1,
   "nav_menu": {},
   "number_sections": true,
   "sideBar": true,
   "skip_h1_title": true,
   "title_cell": "Содержание",
   "title_sidebar": "Contents",
   "toc_cell": true,
   "toc_position": {},
   "toc_section_display": true,
   "toc_window_display": false
  }
 },
 "nbformat": 4,
 "nbformat_minor": 2
}
