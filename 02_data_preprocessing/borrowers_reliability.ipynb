{
 "cells": [
  {
   "cell_type": "markdown",
   "metadata": {},
   "source": [
    "# Исследование надёжности заёмщиков\n",
    "\n",
    "Заказчик — кредитный отдел банка. Нужно разобраться, влияет ли семейное положение и количество детей клиента на факт погашения кредита в срок. Входные данные от банка — статистика о платёжеспособности клиентов.\n",
    "\n",
    "Результаты исследования будут учтены при построении модели **кредитного скоринга** — специальной системы, которая оценивает способность потенциального заёмщика вернуть кредит банку."
   ]
  },
  {
   "cell_type": "markdown",
   "metadata": {},
   "source": [
    "## Шаг 1. Откройте файл с данными и изучите общую информацию"
   ]
  },
  {
   "cell_type": "code",
   "execution_count": 1,
   "metadata": {},
   "outputs": [
    {
     "name": "stdout",
     "output_type": "stream",
     "text": [
      "    children  days_employed  dob_years            education  education_id  \\\n",
      "0          1   -8437.673028         42               высшее             0   \n",
      "1          1   -4024.803754         36              среднее             1   \n",
      "2          0   -5623.422610         33              Среднее             1   \n",
      "3          3   -4124.747207         32              среднее             1   \n",
      "4          0  340266.072047         53              среднее             1   \n",
      "5          0    -926.185831         27               высшее             0   \n",
      "6          0   -2879.202052         43               высшее             0   \n",
      "7          0    -152.779569         50              СРЕДНЕЕ             1   \n",
      "8          2   -6929.865299         35               ВЫСШЕЕ             0   \n",
      "9          0   -2188.756445         41              среднее             1   \n",
      "10         2   -4171.483647         36               высшее             0   \n",
      "11         0    -792.701887         40              среднее             1   \n",
      "12         0            NaN         65              среднее             1   \n",
      "13         0   -1846.641941         54  неоконченное высшее             2   \n",
      "14         0   -1844.956182         56               высшее             0   \n",
      "\n",
      "       family_status  family_status_id gender income_type  debt  \\\n",
      "0    женат / замужем                 0      F   сотрудник     0   \n",
      "1    женат / замужем                 0      F   сотрудник     0   \n",
      "2    женат / замужем                 0      M   сотрудник     0   \n",
      "3    женат / замужем                 0      M   сотрудник     0   \n",
      "4   гражданский брак                 1      F   пенсионер     0   \n",
      "5   гражданский брак                 1      M   компаньон     0   \n",
      "6    женат / замужем                 0      F   компаньон     0   \n",
      "7    женат / замужем                 0      M   сотрудник     0   \n",
      "8   гражданский брак                 1      F   сотрудник     0   \n",
      "9    женат / замужем                 0      M   сотрудник     0   \n",
      "10   женат / замужем                 0      M   компаньон     0   \n",
      "11   женат / замужем                 0      F   сотрудник     0   \n",
      "12  гражданский брак                 1      M   пенсионер     0   \n",
      "13   женат / замужем                 0      F   сотрудник     0   \n",
      "14  гражданский брак                 1      F   компаньон     1   \n",
      "\n",
      "     total_income                            purpose  \n",
      "0   253875.639453                      покупка жилья  \n",
      "1   112080.014102            приобретение автомобиля  \n",
      "2   145885.952297                      покупка жилья  \n",
      "3   267628.550329         дополнительное образование  \n",
      "4   158616.077870                    сыграть свадьбу  \n",
      "5   255763.565419                      покупка жилья  \n",
      "6   240525.971920                  операции с жильем  \n",
      "7   135823.934197                        образование  \n",
      "8    95856.832424              на проведение свадьбы  \n",
      "9   144425.938277            покупка жилья для семьи  \n",
      "10  113943.491460               покупка недвижимости  \n",
      "11   77069.234271  покупка коммерческой недвижимости  \n",
      "12            NaN                    сыграть свадьбу  \n",
      "13  130458.228857            приобретение автомобиля  \n",
      "14  165127.911772         покупка жилой недвижимости  \n"
     ]
    }
   ],
   "source": [
    "import pandas as pd\n",
    "clients = pd.read_csv('/datasets/data.csv')\n",
    "print(clients.head(15))"
   ]
  },
  {
   "cell_type": "code",
   "execution_count": 2,
   "metadata": {},
   "outputs": [
    {
     "name": "stdout",
     "output_type": "stream",
     "text": [
      "<class 'pandas.core.frame.DataFrame'>\n",
      "RangeIndex: 21525 entries, 0 to 21524\n",
      "Data columns (total 12 columns):\n",
      "children            21525 non-null int64\n",
      "days_employed       19351 non-null float64\n",
      "dob_years           21525 non-null int64\n",
      "education           21525 non-null object\n",
      "education_id        21525 non-null int64\n",
      "family_status       21525 non-null object\n",
      "family_status_id    21525 non-null int64\n",
      "gender              21525 non-null object\n",
      "income_type         21525 non-null object\n",
      "debt                21525 non-null int64\n",
      "total_income        19351 non-null float64\n",
      "purpose             21525 non-null object\n",
      "dtypes: float64(2), int64(5), object(5)\n",
      "memory usage: 2.0+ MB\n"
     ]
    }
   ],
   "source": [
    "clients.info()"
   ]
  },
  {
   "cell_type": "markdown",
   "metadata": {},
   "source": [
    "**Вывод**"
   ]
  },
  {
   "cell_type": "markdown",
   "metadata": {},
   "source": [
    "Рассмотрим полученную информацию.\n",
    "\n",
    "Всего в таблице 12 столбцов и 21525 записей (строк)\n",
    "\n",
    "children — количество детей в семье;\n",
    "days_employed — общий трудовой стаж в днях;\n",
    "dob_years — возраст клиента в годах;\n",
    "education — уровень образования клиента;\n",
    "education_id — идентификатор уровня образования;\n",
    "family_status — семейное положение;\n",
    "family_status_id — идентификатор семейного положения;\n",
    "gender — пол клиента;\n",
    "income_type — тип занятости;\n",
    "debt — имел ли задолженность по возврату кредитов;\n",
    "total_income — ежемесячный доход;\n",
    "purpose — цель получения кредита.\n",
    "\n",
    "Каждая строка таблицы содержит общую информацию о клиентах банка, уникальных user_id в данных не предусмотрено. Наименование столбцов в датафрейме указано корректно. Однако количество значений в столбцах различается, а это означает, что в данных есть пропущенные значения. Таким образом, главная задача, которую необходимо решить на этапе предобработки данных - ликвидация пропущенных значений и подготовка данный для дальнейшей работы. \n",
    "\n",
    "Для выполнения требований Заказчика необходимо уделить особое внимание стобцам children, family_status, debt, total_income, purpose."
   ]
  },
  {
   "cell_type": "markdown",
   "metadata": {},
   "source": [
    "## Шаг 2. Предобработка данных"
   ]
  },
  {
   "cell_type": "markdown",
   "metadata": {},
   "source": [
    "### Обработка пропусков"
   ]
  },
  {
   "cell_type": "code",
   "execution_count": 3,
   "metadata": {},
   "outputs": [
    {
     "data": {
      "text/plain": [
       "children               0\n",
       "days_employed       2174\n",
       "dob_years              0\n",
       "education              0\n",
       "education_id           0\n",
       "family_status          0\n",
       "family_status_id       0\n",
       "gender                 0\n",
       "income_type            0\n",
       "debt                   0\n",
       "total_income        2174\n",
       "purpose                0\n",
       "dtype: int64"
      ]
     },
     "execution_count": 3,
     "metadata": {},
     "output_type": "execute_result"
    }
   ],
   "source": [
    "# Проверим данные на наличие пропусков:\n",
    "clients.isnull().sum()"
   ]
  },
  {
   "cell_type": "markdown",
   "metadata": {},
   "source": [
    "В двух столбцах пропущено 2174 значения, что составляет 10% всей выборки. Это довольно высокое значение, значит нужно разбираться с пропущенными значениями более детально.\n",
    "Трудовой стаж в днях (days_employed) и ежемесячный доход (total_income) - количественные переменные. Информация по столбцу с ежемесячным доходом характеризует состояние выборки и влияет на итоговый результат. Для примерной оценки значений выборки по столбцу total_income используем медиану с учетом типа занятости клиента."
   ]
  },
  {
   "cell_type": "code",
   "execution_count": 4,
   "metadata": {
    "scrolled": false
   },
   "outputs": [
    {
     "name": "stdout",
     "output_type": "stream",
     "text": [
      "сотрудник          11119\n",
      "компаньон           5085\n",
      "пенсионер           3856\n",
      "госслужащий         1459\n",
      "безработный            2\n",
      "предприниматель        2\n",
      "студент                1\n",
      "в декрете              1\n",
      "Name: income_type, dtype: int64\n"
     ]
    }
   ],
   "source": [
    "# Посмотрим, какие уникальные значения есть в столбце income_type\n",
    "print(clients['income_type'].value_counts())"
   ]
  },
  {
   "cell_type": "markdown",
   "metadata": {},
   "source": [
    "Рассчитаем медиану ежемесячного дохода по каждому типу занятости"
   ]
  },
  {
   "cell_type": "code",
   "execution_count": 5,
   "metadata": {},
   "outputs": [
    {
     "name": "stdout",
     "output_type": "stream",
     "text": [
      "Медиана ежемесячного дохода для сотрудника составляет: 142594.39684740017\n",
      "Медиана ежемесячного дохода для компаньона составляет: 172357.95096577113\n",
      "Медиана ежемесячного дохода для пенсионера составляет: 118514.48641164352\n",
      "Медиана ежемесячного дохода для госслужащего составляет: 150447.9352830068\n",
      "Медиана ежемесячного дохода для предпринимателя составляет: 499163.1449470857\n"
     ]
    }
   ],
   "source": [
    "employee_data = clients[clients['income_type'] == 'сотрудник']\n",
    "#print(employee_data.head(10))\n",
    "employee_data_income_median = employee_data['total_income'].median()\n",
    "print('Медиана ежемесячного дохода для сотрудника составляет:', employee_data_income_median)\n",
    "\n",
    "companion_data = clients[clients['income_type'] == 'компаньон']\n",
    "#print(companion_data.head(10))\n",
    "companion_data_income_median = companion_data['total_income'].median()\n",
    "print('Медиана ежемесячного дохода для компаньона составляет:', companion_data_income_median)\n",
    "\n",
    "retiree_data = clients[clients['income_type'] == 'пенсионер']\n",
    "#print(retiree_data.head(10))\n",
    "retiree_data_income_median = retiree_data['total_income'].median()\n",
    "print('Медиана ежемесячного дохода для пенсионера составляет:', retiree_data_income_median)\n",
    "\n",
    "civil_servant_data = clients[clients['income_type'] == 'госслужащий']\n",
    "#print(civil_servant_data.head(10))\n",
    "civil_servant_data_income_median = civil_servant_data['total_income'].median()\n",
    "print('Медиана ежемесячного дохода для госслужащего составляет:', civil_servant_data_income_median)\n",
    "\n",
    "unemployed_data = clients[clients['income_type'] == 'безработный']\n",
    "#print(unemployed_data.head(5))\n",
    "\n",
    "entrepreneur_data = clients[clients['income_type'] == 'предприниматель']\n",
    "#print(entrepreneur_data.head(5))\n",
    "entrepreneur_data_income_median = entrepreneur_data['total_income'].median()\n",
    "print('Медиана ежемесячного дохода для предпринимателя составляет:', entrepreneur_data_income_median)\n",
    "\n",
    "student_data = clients[clients['income_type'] == 'студент']\n",
    "#print(student_data.head(5))\n",
    "\n",
    "decree_data = clients[clients['income_type'] == 'в декрете']\n",
    "#print(decree_data.head(5))"
   ]
  },
  {
   "cell_type": "markdown",
   "metadata": {},
   "source": [
    "Заменим пропущенные значения в столбце total_income с учетом рассчитанных медиан ежемесячного дохода для следующих типов занятости: 'сотрудник', 'компаньон', пенсионер', 'госслужащий'.\n",
    "Для типов занятости 'безработный', 'студент', 'в декрете' пропущенные значения отсутствуют."
   ]
  },
  {
   "cell_type": "code",
   "execution_count": 6,
   "metadata": {},
   "outputs": [
    {
     "name": "stdout",
     "output_type": "stream",
     "text": [
      "<class 'pandas.core.frame.DataFrame'>\n",
      "RangeIndex: 21525 entries, 0 to 21524\n",
      "Data columns (total 12 columns):\n",
      "children            21525 non-null int64\n",
      "days_employed       19351 non-null float64\n",
      "dob_years           21525 non-null int64\n",
      "education           21525 non-null object\n",
      "education_id        21525 non-null int64\n",
      "family_status       21525 non-null object\n",
      "family_status_id    21525 non-null int64\n",
      "gender              21525 non-null object\n",
      "income_type         21525 non-null object\n",
      "debt                21525 non-null int64\n",
      "total_income        21525 non-null float64\n",
      "purpose             21525 non-null object\n",
      "dtypes: float64(2), int64(5), object(5)\n",
      "memory usage: 2.0+ MB\n"
     ]
    }
   ],
   "source": [
    "clients.loc[(clients['total_income'].isnull()) & (clients['income_type'] == 'сотрудник'), 'total_income'] = employee_data_income_median\n",
    "clients.loc[(clients['total_income'].isnull()) & (clients['income_type'] == 'компаньон'), 'total_income'] = companion_data_income_median\n",
    "clients.loc[(clients['total_income'].isnull()) & (clients['income_type'] == 'пенсионер'), 'total_income'] = retiree_data_income_median\n",
    "clients.loc[(clients['total_income'].isnull()) & (clients['income_type'] == 'госслужащий'), 'total_income'] = civil_servant_data_income_median\n",
    "clients.loc[(clients['total_income'].isnull()) & (clients['income_type'] == 'предприниматель'), 'total_income'] = entrepreneur_data_income_median\n",
    "clients.info()"
   ]
  },
  {
   "cell_type": "markdown",
   "metadata": {},
   "source": [
    "Аналогичным образом с помощью медианы заменим пропущенные значения в столбце с общим стажем работы days_employed. Определим максимальный и минимальный возраст клиентов."
   ]
  },
  {
   "cell_type": "code",
   "execution_count": 7,
   "metadata": {},
   "outputs": [
    {
     "name": "stdout",
     "output_type": "stream",
     "text": [
      "Максимальный возраст клиента: 75\n",
      "Минимальный возраст клиента: 0\n"
     ]
    }
   ],
   "source": [
    "print('Максимальный возраст клиента:', clients['dob_years'].max())\n",
    "print('Минимальный возраст клиента:', clients['dob_years'].min())"
   ]
  },
  {
   "cell_type": "markdown",
   "metadata": {},
   "source": [
    "Обнаружена очередная недостающая информация в данных. Для клиентов, возраст которых неизвестен, в столбце стоит значение 0 (ноль). Посчитаем количество таких клиентов."
   ]
  },
  {
   "cell_type": "code",
   "execution_count": 8,
   "metadata": {},
   "outputs": [
    {
     "name": "stdout",
     "output_type": "stream",
     "text": [
      "101\n"
     ]
    }
   ],
   "source": [
    "print(clients.loc[clients['dob_years'] == 0, 'dob_years'].count())"
   ]
  },
  {
   "cell_type": "markdown",
   "metadata": {},
   "source": [
    "У 101 клиента отсутствует информация о возрасте. Посмотрим, какой тип деятельности указан у клиентов с неизвестным возрастом."
   ]
  },
  {
   "cell_type": "code",
   "execution_count": 9,
   "metadata": {},
   "outputs": [
    {
     "name": "stdout",
     "output_type": "stream",
     "text": [
      "сотрудник      55\n",
      "пенсионер      20\n",
      "компаньон      20\n",
      "госслужащий     6\n",
      "Name: income_type, dtype: int64\n"
     ]
    }
   ],
   "source": [
    "print(clients.loc[clients['dob_years'] == 0, 'income_type'].value_counts())"
   ]
  },
  {
   "cell_type": "markdown",
   "metadata": {},
   "source": [
    "Используя медиану, восстановим значения в столбце с возрастом клиентов."
   ]
  },
  {
   "cell_type": "code",
   "execution_count": 10,
   "metadata": {},
   "outputs": [
    {
     "name": "stdout",
     "output_type": "stream",
     "text": [
      "Медиана возраста сотрудника составляет: 39.0\n",
      "Медиана возраста компаньона составляет: 39.0\n",
      "Медиана возраста пенсионера составляет: 60.0\n",
      "Медиана возраста госслужащего составляет: 40.0\n"
     ]
    }
   ],
   "source": [
    "employee_data_age_median = employee_data['dob_years'].median()\n",
    "print('Медиана возраста сотрудника составляет:', employee_data_age_median)\n",
    "\n",
    "companion_data_age_median = companion_data['dob_years'].median()\n",
    "print('Медиана возраста компаньона составляет:', companion_data_age_median)\n",
    "\n",
    "retiree_data_age_median = retiree_data['dob_years'].median()\n",
    "print('Медиана возраста пенсионера составляет:', retiree_data_age_median)\n",
    "\n",
    "civil_servant_data_age_median = civil_servant_data['dob_years'].median()\n",
    "print('Медиана возраста госслужащего составляет:', civil_servant_data_age_median)"
   ]
  },
  {
   "cell_type": "markdown",
   "metadata": {},
   "source": [
    "Восстановим значения в столбце 'dob_years' и выполним проверку восстановленных значений"
   ]
  },
  {
   "cell_type": "code",
   "execution_count": 11,
   "metadata": {},
   "outputs": [
    {
     "name": "stdout",
     "output_type": "stream",
     "text": [
      "0\n"
     ]
    }
   ],
   "source": [
    "clients.loc[(clients['dob_years'] == 0) & (clients['income_type'] == 'сотрудник'), 'dob_years'] = employee_data_age_median\n",
    "clients.loc[(clients['dob_years'] == 0) & (clients['income_type'] == 'компаньон'), 'dob_years'] = companion_data_age_median\n",
    "clients.loc[(clients['dob_years'] == 0) & (clients['income_type'] == 'пенсионер'), 'dob_years'] = retiree_data_age_median\n",
    "clients.loc[(clients['dob_years'] == 0) & (clients['income_type'] == 'госслужащий'), 'dob_years'] = civil_servant_data_age_median\n",
    "print(clients.loc[clients['dob_years'] == 0, 'dob_years'].count())"
   ]
  },
  {
   "cell_type": "markdown",
   "metadata": {},
   "source": [
    "Посмотрим на максимальный и минимальный возраст клиентов после восставноления значений:"
   ]
  },
  {
   "cell_type": "code",
   "execution_count": 12,
   "metadata": {},
   "outputs": [
    {
     "name": "stdout",
     "output_type": "stream",
     "text": [
      "Максимальный возраст клиента: 75.0\n",
      "Минимальный возраст клиента: 19.0\n"
     ]
    }
   ],
   "source": [
    "print('Максимальный возраст клиента:', clients['dob_years'].max())\n",
    "print('Минимальный возраст клиента:', clients['dob_years'].min())"
   ]
  },
  {
   "cell_type": "markdown",
   "metadata": {},
   "source": [
    "Зная возраст всех клиентов, можно восстановить пропущенные значения в столбце с общим стажем работы 'days_employed', используя медиану. Для этого разделим клиентов по возрасту на 4 равные группы: 19-32 лет, 33-46 лет, 47-60 лет, 61-75 лет."
   ]
  },
  {
   "cell_type": "code",
   "execution_count": 13,
   "metadata": {},
   "outputs": [
    {
     "name": "stdout",
     "output_type": "stream",
     "text": [
      "Медиана общего стажа клиента в категории 19-32 лет составляет: -1098.3083782951276\n",
      "Медиана общего стажа клиента в категории 33-46 лет составляет: -1763.563905000825\n",
      "Медиана общего стажа клиента в категории 47-60 лет составляет: -1102.4379959880403\n",
      "Медиана общего стажа клиента в категории 61-75 лет составляет: 356191.1376668496\n"
     ]
    }
   ],
   "source": [
    "young_days_employed_median = clients.loc[(clients['dob_years'] >= 19) & (clients['dob_years'] <= 32), 'days_employed'].median()\n",
    "print('Медиана общего стажа клиента в категории 19-32 лет составляет:', young_days_employed_median)\n",
    "\n",
    "middle1_days_employed_median = clients.loc[(clients['dob_years'] >= 33) & (clients['dob_years'] <= 46), 'days_employed'].median()\n",
    "print('Медиана общего стажа клиента в категории 33-46 лет составляет:', middle1_days_employed_median)\n",
    "\n",
    "middle2_days_employed_median = clients.loc[(clients['dob_years'] >= 47) & (clients['dob_years'] <= 60), 'days_employed'].median()\n",
    "print('Медиана общего стажа клиента в категории 47-60 лет составляет:', middle2_days_employed_median)\n",
    "\n",
    "age_days_employed_median = clients.loc[(clients['dob_years'] >= 61) & (clients['dob_years'] <= 75), 'days_employed'].median()\n",
    "print('Медиана общего стажа клиента в категории 61-75 лет составляет:', age_days_employed_median)"
   ]
  },
  {
   "cell_type": "markdown",
   "metadata": {},
   "source": [
    "Восстановим пропущенные значения в столбце 'days_employed':"
   ]
  },
  {
   "cell_type": "code",
   "execution_count": 14,
   "metadata": {},
   "outputs": [],
   "source": [
    "clients.loc[(clients['dob_years'] >= 19) & (clients['dob_years'] <= 32), 'days_employed'] = young_days_employed_median\n",
    "clients.loc[(clients['dob_years'] >= 33) & (clients['dob_years'] <= 46), 'days_employed'] = middle1_days_employed_median\n",
    "clients.loc[(clients['dob_years'] >= 47) & (clients['dob_years'] <= 60), 'days_employed'] = middle2_days_employed_median\n",
    "clients.loc[(clients['dob_years'] >= 61) & (clients['dob_years'] <= 75), 'days_employed'] = age_days_employed_median"
   ]
  },
  {
   "cell_type": "markdown",
   "metadata": {},
   "source": [
    "Убедимся, что в датафрейме не осталось пропущенных значений:"
   ]
  },
  {
   "cell_type": "code",
   "execution_count": 15,
   "metadata": {},
   "outputs": [
    {
     "name": "stdout",
     "output_type": "stream",
     "text": [
      "<class 'pandas.core.frame.DataFrame'>\n",
      "RangeIndex: 21525 entries, 0 to 21524\n",
      "Data columns (total 12 columns):\n",
      "children            21525 non-null int64\n",
      "days_employed       21525 non-null float64\n",
      "dob_years           21525 non-null float64\n",
      "education           21525 non-null object\n",
      "education_id        21525 non-null int64\n",
      "family_status       21525 non-null object\n",
      "family_status_id    21525 non-null int64\n",
      "gender              21525 non-null object\n",
      "income_type         21525 non-null object\n",
      "debt                21525 non-null int64\n",
      "total_income        21525 non-null float64\n",
      "purpose             21525 non-null object\n",
      "dtypes: float64(3), int64(4), object(5)\n",
      "memory usage: 2.0+ MB\n"
     ]
    }
   ],
   "source": [
    "clients.info()"
   ]
  },
  {
   "cell_type": "markdown",
   "metadata": {},
   "source": [
    "**Вывод**"
   ]
  },
  {
   "cell_type": "markdown",
   "metadata": {},
   "source": [
    "На первом этапе предобработки данных выполнена работа по обработке пропущенных значений. Были обнаружены следующие аномалии:\n",
    "1. В двух столбцах трудовой стаж в днях (days_employed) и ежемесячный доход (total_income) пропущено по 2174 значения, что составляет 10% всей выборки. Это довольно высокое значение, поэтому данные строки были восстановлены, а не исключены. Вероятно, данные пропали в результате технического сбоя.\n",
    "2. Для 101 клиента, в столбце с возрастом стоит значение 0 (ноль). Вероятно, данные о возрасте были неизвестны и поэтому заменены нулевыми значениями.\n",
    "Для восстановления значений по столбцам использовался метод медианы, т.к. разница между наибольшим и наименьшим значениями была достаточно велика и примерение среднеарифметического метода могло сильно исказить данные выборки."
   ]
  },
  {
   "cell_type": "markdown",
   "metadata": {},
   "source": [
    "### Замена типа данных"
   ]
  },
  {
   "cell_type": "markdown",
   "metadata": {},
   "source": [
    "После выполнения работы по восстановлению пропущенных значений и просмотру информации о датафрейме можно заметить, что в столбце с возрастом клиентов 'dob_years' тип данных int64 (целочисленный) изменился на float64 (вещественный). Должно быть это произошло в следствие замены нулевых данных по возрасту на медиану, которая как раз имела тип float64.\n",
    "Заменим тип данных float64 в столбце 'dob_years' на int64:"
   ]
  },
  {
   "cell_type": "code",
   "execution_count": 16,
   "metadata": {},
   "outputs": [
    {
     "name": "stdout",
     "output_type": "stream",
     "text": [
      "<class 'pandas.core.frame.DataFrame'>\n",
      "RangeIndex: 21525 entries, 0 to 21524\n",
      "Data columns (total 12 columns):\n",
      "children            21525 non-null int64\n",
      "days_employed       21525 non-null float64\n",
      "dob_years           21525 non-null int64\n",
      "education           21525 non-null object\n",
      "education_id        21525 non-null int64\n",
      "family_status       21525 non-null object\n",
      "family_status_id    21525 non-null int64\n",
      "gender              21525 non-null object\n",
      "income_type         21525 non-null object\n",
      "debt                21525 non-null int64\n",
      "total_income        21525 non-null float64\n",
      "purpose             21525 non-null object\n",
      "dtypes: float64(2), int64(5), object(5)\n",
      "memory usage: 2.0+ MB\n"
     ]
    }
   ],
   "source": [
    "clients['dob_years'] = clients['dob_years'].astype('int')\n",
    "clients.info()"
   ]
  },
  {
   "cell_type": "markdown",
   "metadata": {},
   "source": [
    "**Вывод**"
   ]
  },
  {
   "cell_type": "markdown",
   "metadata": {},
   "source": [
    "Выполнена замена вещественного типа данных float64 на целочисленный int64 с использованием простого метода astype('int'). Также в pandas возможно преобразование строковых значений в числовые. Однако, в данной работе этот метод не использовался."
   ]
  },
  {
   "cell_type": "markdown",
   "metadata": {},
   "source": [
    "### Обработка дубликатов"
   ]
  },
  {
   "cell_type": "markdown",
   "metadata": {},
   "source": [
    "Для начала попробуем проверить наши данные с помощью стандартного метода duplicated():"
   ]
  },
  {
   "cell_type": "code",
   "execution_count": 17,
   "metadata": {},
   "outputs": [
    {
     "name": "stdout",
     "output_type": "stream",
     "text": [
      "54\n"
     ]
    }
   ],
   "source": [
    "print(clients.duplicated().sum())"
   ]
  },
  {
   "cell_type": "markdown",
   "metadata": {},
   "source": [
    "Удалим из даных обнаруженные дубликаты:"
   ]
  },
  {
   "cell_type": "code",
   "execution_count": 18,
   "metadata": {},
   "outputs": [],
   "source": [
    "clients = clients.drop_duplicates().reset_index(drop = True)"
   ]
  },
  {
   "cell_type": "code",
   "execution_count": 19,
   "metadata": {},
   "outputs": [
    {
     "name": "stdout",
     "output_type": "stream",
     "text": [
      "0\n"
     ]
    }
   ],
   "source": [
    "print(clients.duplicated().sum())"
   ]
  },
  {
   "cell_type": "markdown",
   "metadata": {},
   "source": [
    "Поищем также дубликаты методом, возвращающим уникальные значения с их частотой:"
   ]
  },
  {
   "cell_type": "code",
   "execution_count": 20,
   "metadata": {},
   "outputs": [
    {
     "name": "stdout",
     "output_type": "stream",
     "text": [
      "среднее                13705\n",
      "высшее                  4710\n",
      "СРЕДНЕЕ                  772\n",
      "Среднее                  711\n",
      "неоконченное высшее      668\n",
      "ВЫСШЕЕ                   273\n",
      "Высшее                   268\n",
      "начальное                250\n",
      "Неоконченное высшее       47\n",
      "НЕОКОНЧЕННОЕ ВЫСШЕЕ       29\n",
      "НАЧАЛЬНОЕ                 17\n",
      "Начальное                 15\n",
      "ученая степень             4\n",
      "УЧЕНАЯ СТЕПЕНЬ             1\n",
      "Ученая степень             1\n",
      "Name: education, dtype: int64\n"
     ]
    }
   ],
   "source": [
    "print(clients['education'].value_counts())"
   ]
  },
  {
   "cell_type": "markdown",
   "metadata": {},
   "source": [
    "Приведем данные в столбце с информацией о образовании к нижнему регистру методом lower():"
   ]
  },
  {
   "cell_type": "code",
   "execution_count": 21,
   "metadata": {},
   "outputs": [
    {
     "name": "stdout",
     "output_type": "stream",
     "text": [
      "среднее                15188\n",
      "высшее                  5251\n",
      "неоконченное высшее      744\n",
      "начальное                282\n",
      "ученая степень             6\n",
      "Name: education, dtype: int64\n"
     ]
    }
   ],
   "source": [
    "clients['education'] = clients['education'].str.lower()\n",
    "print(clients['education'].value_counts())"
   ]
  },
  {
   "cell_type": "code",
   "execution_count": 22,
   "metadata": {},
   "outputs": [
    {
     "name": "stdout",
     "output_type": "stream",
     "text": [
      "женат / замужем          12344\n",
      "гражданский брак          4163\n",
      "Не женат / не замужем     2810\n",
      "в разводе                 1195\n",
      "вдовец / вдова             959\n",
      "Name: family_status, dtype: int64\n"
     ]
    }
   ],
   "source": [
    "print(clients['family_status'].value_counts())"
   ]
  },
  {
   "cell_type": "markdown",
   "metadata": {},
   "source": [
    "Приведем данные в столбце с информацией о семейном положении к нижнему регистру методом lower():"
   ]
  },
  {
   "cell_type": "code",
   "execution_count": 23,
   "metadata": {},
   "outputs": [
    {
     "name": "stdout",
     "output_type": "stream",
     "text": [
      "женат / замужем          12344\n",
      "гражданский брак          4163\n",
      "не женат / не замужем     2810\n",
      "в разводе                 1195\n",
      "вдовец / вдова             959\n",
      "Name: family_status, dtype: int64\n"
     ]
    }
   ],
   "source": [
    "clients['family_status'] = clients['family_status'].str.lower()\n",
    "print(clients['family_status'].value_counts())"
   ]
  },
  {
   "cell_type": "code",
   "execution_count": 24,
   "metadata": {},
   "outputs": [
    {
     "name": "stdout",
     "output_type": "stream",
     "text": [
      "F      14189\n",
      "M       7281\n",
      "XNA        1\n",
      "Name: gender, dtype: int64\n"
     ]
    }
   ],
   "source": [
    "print(clients['gender'].value_counts())"
   ]
  },
  {
   "cell_type": "markdown",
   "metadata": {},
   "source": [
    "В столбце с информацией о поле клиентов обнаружилась строка с отсутствующим значением. Посмотрим на эту строку:"
   ]
  },
  {
   "cell_type": "code",
   "execution_count": 25,
   "metadata": {},
   "outputs": [
    {
     "name": "stdout",
     "output_type": "stream",
     "text": [
      "       children  days_employed  dob_years            education  education_id  \\\n",
      "10690         0   -1098.308378         24  неоконченное высшее             2   \n",
      "\n",
      "          family_status  family_status_id gender income_type  debt  \\\n",
      "10690  гражданский брак                 1    XNA   компаньон     0   \n",
      "\n",
      "        total_income               purpose  \n",
      "10690  203905.157261  покупка недвижимости  \n"
     ]
    }
   ],
   "source": [
    "print(clients[clients['gender'] == 'XNA'])"
   ]
  },
  {
   "cell_type": "markdown",
   "metadata": {},
   "source": [
    "Исключим данную строку из выборки:"
   ]
  },
  {
   "cell_type": "code",
   "execution_count": 26,
   "metadata": {},
   "outputs": [
    {
     "name": "stdout",
     "output_type": "stream",
     "text": [
      "F    14189\n",
      "M     7281\n",
      "Name: gender, dtype: int64\n"
     ]
    }
   ],
   "source": [
    "clients = clients.drop(clients[clients['gender'] == 'XNA'].index)\n",
    "print(clients['gender'].value_counts())"
   ]
  },
  {
   "cell_type": "code",
   "execution_count": 27,
   "metadata": {},
   "outputs": [
    {
     "name": "stdout",
     "output_type": "stream",
     "text": [
      "    children  days_employed  dob_years            education  education_id  \\\n",
      "0          1   -1763.563905         42               высшее             0   \n",
      "1          1   -1763.563905         36              среднее             1   \n",
      "2          0   -1763.563905         33              среднее             1   \n",
      "3          3   -1098.308378         32              среднее             1   \n",
      "4          0   -1102.437996         53              среднее             1   \n",
      "5          0   -1098.308378         27               высшее             0   \n",
      "6          0   -1763.563905         43               высшее             0   \n",
      "7          0   -1102.437996         50              среднее             1   \n",
      "8          2   -1763.563905         35               высшее             0   \n",
      "9          0   -1763.563905         41              среднее             1   \n",
      "10         2   -1763.563905         36               высшее             0   \n",
      "11         0   -1763.563905         40              среднее             1   \n",
      "12         0  356191.137667         65              среднее             1   \n",
      "13         0   -1102.437996         54  неоконченное высшее             2   \n",
      "14         0   -1102.437996         56               высшее             0   \n",
      "\n",
      "       family_status  family_status_id gender income_type  debt  \\\n",
      "0    женат / замужем                 0      F   сотрудник     0   \n",
      "1    женат / замужем                 0      F   сотрудник     0   \n",
      "2    женат / замужем                 0      M   сотрудник     0   \n",
      "3    женат / замужем                 0      M   сотрудник     0   \n",
      "4   гражданский брак                 1      F   пенсионер     0   \n",
      "5   гражданский брак                 1      M   компаньон     0   \n",
      "6    женат / замужем                 0      F   компаньон     0   \n",
      "7    женат / замужем                 0      M   сотрудник     0   \n",
      "8   гражданский брак                 1      F   сотрудник     0   \n",
      "9    женат / замужем                 0      M   сотрудник     0   \n",
      "10   женат / замужем                 0      M   компаньон     0   \n",
      "11   женат / замужем                 0      F   сотрудник     0   \n",
      "12  гражданский брак                 1      M   пенсионер     0   \n",
      "13   женат / замужем                 0      F   сотрудник     0   \n",
      "14  гражданский брак                 1      F   компаньон     1   \n",
      "\n",
      "     total_income                            purpose  \n",
      "0   253875.639453                      покупка жилья  \n",
      "1   112080.014102            приобретение автомобиля  \n",
      "2   145885.952297                      покупка жилья  \n",
      "3   267628.550329         дополнительное образование  \n",
      "4   158616.077870                    сыграть свадьбу  \n",
      "5   255763.565419                      покупка жилья  \n",
      "6   240525.971920                  операции с жильем  \n",
      "7   135823.934197                        образование  \n",
      "8    95856.832424              на проведение свадьбы  \n",
      "9   144425.938277            покупка жилья для семьи  \n",
      "10  113943.491460               покупка недвижимости  \n",
      "11   77069.234271  покупка коммерческой недвижимости  \n",
      "12  118514.486412                    сыграть свадьбу  \n",
      "13  130458.228857            приобретение автомобиля  \n",
      "14  165127.911772         покупка жилой недвижимости  \n"
     ]
    }
   ],
   "source": [
    "print(clients.head(15))"
   ]
  },
  {
   "cell_type": "code",
   "execution_count": 28,
   "metadata": {},
   "outputs": [
    {
     "name": "stdout",
     "output_type": "stream",
     "text": [
      "сотрудник          11091\n",
      "компаньон           5079\n",
      "пенсионер           3837\n",
      "госслужащий         1457\n",
      "безработный            2\n",
      "предприниматель        2\n",
      "студент                1\n",
      "в декрете              1\n",
      "Name: income_type, dtype: int64\n"
     ]
    }
   ],
   "source": [
    "print(clients['income_type'].value_counts())"
   ]
  },
  {
   "cell_type": "code",
   "execution_count": 29,
   "metadata": {},
   "outputs": [
    {
     "name": "stdout",
     "output_type": "stream",
     "text": [
      "свадьба                                   793\n",
      "на проведение свадьбы                     773\n",
      "сыграть свадьбу                           769\n",
      "операции с недвижимостью                  675\n",
      "покупка коммерческой недвижимости         662\n",
      "покупка жилья для сдачи                   652\n",
      "операции с жильем                         652\n",
      "операции с коммерческой недвижимостью     650\n",
      "жилье                                     646\n",
      "покупка жилья                             646\n",
      "покупка жилья для семьи                   638\n",
      "строительство собственной недвижимости    635\n",
      "недвижимость                              633\n",
      "операции со своей недвижимостью           627\n",
      "строительство жилой недвижимости          625\n",
      "покупка своего жилья                      620\n",
      "покупка недвижимости                      620\n",
      "строительство недвижимости                619\n",
      "ремонт жилью                              607\n",
      "покупка жилой недвижимости                606\n",
      "на покупку своего автомобиля              505\n",
      "заняться высшим образованием              496\n",
      "автомобиль                                494\n",
      "сделка с подержанным автомобилем          486\n",
      "свой автомобиль                           479\n",
      "на покупку подержанного автомобиля        478\n",
      "автомобили                                478\n",
      "на покупку автомобиля                     472\n",
      "приобретение автомобиля                   461\n",
      "дополнительное образование                460\n",
      "сделка с автомобилем                      455\n",
      "высшее образование                        452\n",
      "образование                               447\n",
      "получение дополнительного образования     447\n",
      "получение образования                     442\n",
      "профильное образование                    436\n",
      "получение высшего образования             426\n",
      "заняться образованием                     408\n",
      "Name: purpose, dtype: int64\n"
     ]
    }
   ],
   "source": [
    "print(clients['purpose'].value_counts())"
   ]
  },
  {
   "cell_type": "code",
   "execution_count": 30,
   "metadata": {},
   "outputs": [
    {
     "name": "stdout",
     "output_type": "stream",
     "text": [
      "17\n"
     ]
    }
   ],
   "source": [
    "print(clients.duplicated().sum())"
   ]
  },
  {
   "cell_type": "markdown",
   "metadata": {},
   "source": [
    "Удалим повторно обнаружееные нам дубликаты после приведения всех строк к нижнему регистру:"
   ]
  },
  {
   "cell_type": "code",
   "execution_count": 31,
   "metadata": {},
   "outputs": [],
   "source": [
    "clients = clients.drop_duplicates().reset_index(drop = True)"
   ]
  },
  {
   "cell_type": "markdown",
   "metadata": {},
   "source": [
    "И выполним проверку оставшихся дубликатов:"
   ]
  },
  {
   "cell_type": "code",
   "execution_count": 32,
   "metadata": {},
   "outputs": [
    {
     "name": "stdout",
     "output_type": "stream",
     "text": [
      "0\n"
     ]
    }
   ],
   "source": [
    "print(clients.duplicated().sum())"
   ]
  },
  {
   "cell_type": "markdown",
   "metadata": {},
   "source": [
    "**Вывод**"
   ]
  },
  {
   "cell_type": "markdown",
   "metadata": {},
   "source": [
    "На данном этапе работы по поиску дубликатов был использован как стандартный метод pandas duplicated(), так и метод с возвращением уникальных значений с частотой их повторений и приведение текста к нижнему регистру с последующим корректным распределением информации по группам.\n",
    "В итоге были удалены 54 дубликата строк методом duplicated(), выполнен ручной поиск дубликатов с учетом регистра, удалены 17 дубликатов строк после приведения к нижнему регистру, а также обнаружены данные для лемматизации."
   ]
  },
  {
   "cell_type": "markdown",
   "metadata": {},
   "source": [
    "### Лемматизация"
   ]
  },
  {
   "cell_type": "markdown",
   "metadata": {},
   "source": [
    "В предыдущем разделе, после возвращения уникальных значений методом value_counts() по столбцу с целью получения кредита 'purpose', можно заметить, что часть значений повторяются, но в разных формах. А это означает, что их можно обработать с использованием функции лемматизации.\n",
    "Для проверки можно вручную разделить значения на 5 категорий для проверки: 'жилье', 'автомобиль', 'свадьба', 'образование', 'недвижимость'."
   ]
  },
  {
   "cell_type": "code",
   "execution_count": 33,
   "metadata": {
    "scrolled": true
   },
   "outputs": [
    {
     "name": "stdout",
     "output_type": "stream",
     "text": [
      "    children  days_employed  dob_years            education  education_id  \\\n",
      "0          1   -1763.563905         42               высшее             0   \n",
      "1          1   -1763.563905         36              среднее             1   \n",
      "2          0   -1763.563905         33              среднее             1   \n",
      "3          3   -1098.308378         32              среднее             1   \n",
      "4          0   -1102.437996         53              среднее             1   \n",
      "5          0   -1098.308378         27               высшее             0   \n",
      "6          0   -1763.563905         43               высшее             0   \n",
      "7          0   -1102.437996         50              среднее             1   \n",
      "8          2   -1763.563905         35               высшее             0   \n",
      "9          0   -1763.563905         41              среднее             1   \n",
      "10         2   -1763.563905         36               высшее             0   \n",
      "11         0   -1763.563905         40              среднее             1   \n",
      "12         0  356191.137667         65              среднее             1   \n",
      "13         0   -1102.437996         54  неоконченное высшее             2   \n",
      "14         0   -1102.437996         56               высшее             0   \n",
      "\n",
      "       family_status  family_status_id gender income_type  debt  \\\n",
      "0    женат / замужем                 0      F   сотрудник     0   \n",
      "1    женат / замужем                 0      F   сотрудник     0   \n",
      "2    женат / замужем                 0      M   сотрудник     0   \n",
      "3    женат / замужем                 0      M   сотрудник     0   \n",
      "4   гражданский брак                 1      F   пенсионер     0   \n",
      "5   гражданский брак                 1      M   компаньон     0   \n",
      "6    женат / замужем                 0      F   компаньон     0   \n",
      "7    женат / замужем                 0      M   сотрудник     0   \n",
      "8   гражданский брак                 1      F   сотрудник     0   \n",
      "9    женат / замужем                 0      M   сотрудник     0   \n",
      "10   женат / замужем                 0      M   компаньон     0   \n",
      "11   женат / замужем                 0      F   сотрудник     0   \n",
      "12  гражданский брак                 1      M   пенсионер     0   \n",
      "13   женат / замужем                 0      F   сотрудник     0   \n",
      "14  гражданский брак                 1      F   компаньон     1   \n",
      "\n",
      "     total_income       purpose  \n",
      "0   253875.639453         жилье  \n",
      "1   112080.014102    автомобиль  \n",
      "2   145885.952297         жилье  \n",
      "3   267628.550329   образование  \n",
      "4   158616.077870       свадьба  \n",
      "5   255763.565419         жилье  \n",
      "6   240525.971920         жилье  \n",
      "7   135823.934197   образование  \n",
      "8    95856.832424       свадьба  \n",
      "9   144425.938277         жилье  \n",
      "10  113943.491460  недвижимость  \n",
      "11   77069.234271  недвижимость  \n",
      "12  118514.486412       свадьба  \n",
      "13  130458.228857    автомобиль  \n",
      "14  165127.911772  недвижимость  \n"
     ]
    }
   ],
   "source": [
    "from pymystem3 import Mystem\n",
    "from collections import Counter\n",
    "m = Mystem()\n",
    "\n",
    "words = ['жилье', 'автомобиль', 'свадьба', 'образование', 'недвижимость']\n",
    "\n",
    "\n",
    "def lemmatize(text):\n",
    "    lemma = m.lemmatize(text)\n",
    "    for word in words:\n",
    "        if word in lemma:\n",
    "            lemma = word\n",
    "    return lemma\n",
    "\n",
    "\n",
    "clients['purpose'] = clients['purpose'].apply(lemmatize)\n",
    "print(clients.head(15))"
   ]
  },
  {
   "cell_type": "markdown",
   "metadata": {},
   "source": [
    "Проверим предположение:"
   ]
  },
  {
   "cell_type": "code",
   "execution_count": 34,
   "metadata": {},
   "outputs": [
    {
     "name": "stdout",
     "output_type": "stream",
     "text": [
      "недвижимость    6350\n",
      "жилье           4460\n",
      "автомобиль      4306\n",
      "образование     4013\n",
      "свадьба         2324\n",
      "Name: purpose, dtype: int64\n"
     ]
    }
   ],
   "source": [
    "print(clients['purpose'].value_counts())"
   ]
  },
  {
   "cell_type": "markdown",
   "metadata": {},
   "source": [
    "Поскольку жилье также относится к недвижимости, то данные две категории можно объединить:"
   ]
  },
  {
   "cell_type": "code",
   "execution_count": 35,
   "metadata": {},
   "outputs": [
    {
     "name": "stdout",
     "output_type": "stream",
     "text": [
      "недвижимость    10810\n",
      "автомобиль       4306\n",
      "образование      4013\n",
      "свадьба          2324\n",
      "Name: purpose, dtype: int64\n"
     ]
    }
   ],
   "source": [
    "clients.loc[(clients['purpose'] == 'жилье'), 'purpose'] = 'недвижимость'\n",
    "print(clients['purpose'].value_counts())"
   ]
  },
  {
   "cell_type": "markdown",
   "metadata": {},
   "source": [
    "**Вывод**"
   ]
  },
  {
   "cell_type": "markdown",
   "metadata": {},
   "source": [
    "Лемматизация значительно упрощает работу с данными и позволяет найти дублирование информации, которое невозможно выполнить стандартными методами pandas. В итоге удалось сократить информацию в столбце с различными целями кредита 'purpose' с 38 категорий всего до 4! Это позволит значительно упростить подготовку отчетной информации для Заказчика. "
   ]
  },
  {
   "cell_type": "markdown",
   "metadata": {},
   "source": [
    "### Категоризация данных"
   ]
  },
  {
   "cell_type": "code",
   "execution_count": 36,
   "metadata": {},
   "outputs": [
    {
     "name": "stdout",
     "output_type": "stream",
     "text": [
      "    children  days_employed  dob_years            education  education_id  \\\n",
      "0          1   -1763.563905         42               высшее             0   \n",
      "1          1   -1763.563905         36              среднее             1   \n",
      "2          0   -1763.563905         33              среднее             1   \n",
      "3          3   -1098.308378         32              среднее             1   \n",
      "4          0   -1102.437996         53              среднее             1   \n",
      "5          0   -1098.308378         27               высшее             0   \n",
      "6          0   -1763.563905         43               высшее             0   \n",
      "7          0   -1102.437996         50              среднее             1   \n",
      "8          2   -1763.563905         35               высшее             0   \n",
      "9          0   -1763.563905         41              среднее             1   \n",
      "10         2   -1763.563905         36               высшее             0   \n",
      "11         0   -1763.563905         40              среднее             1   \n",
      "12         0  356191.137667         65              среднее             1   \n",
      "13         0   -1102.437996         54  неоконченное высшее             2   \n",
      "14         0   -1102.437996         56               высшее             0   \n",
      "\n",
      "       family_status  family_status_id gender income_type  debt  \\\n",
      "0    женат / замужем                 0      F   сотрудник     0   \n",
      "1    женат / замужем                 0      F   сотрудник     0   \n",
      "2    женат / замужем                 0      M   сотрудник     0   \n",
      "3    женат / замужем                 0      M   сотрудник     0   \n",
      "4   гражданский брак                 1      F   пенсионер     0   \n",
      "5   гражданский брак                 1      M   компаньон     0   \n",
      "6    женат / замужем                 0      F   компаньон     0   \n",
      "7    женат / замужем                 0      M   сотрудник     0   \n",
      "8   гражданский брак                 1      F   сотрудник     0   \n",
      "9    женат / замужем                 0      M   сотрудник     0   \n",
      "10   женат / замужем                 0      M   компаньон     0   \n",
      "11   женат / замужем                 0      F   сотрудник     0   \n",
      "12  гражданский брак                 1      M   пенсионер     0   \n",
      "13   женат / замужем                 0      F   сотрудник     0   \n",
      "14  гражданский брак                 1      F   компаньон     1   \n",
      "\n",
      "     total_income       purpose  \n",
      "0   253875.639453  недвижимость  \n",
      "1   112080.014102    автомобиль  \n",
      "2   145885.952297  недвижимость  \n",
      "3   267628.550329   образование  \n",
      "4   158616.077870       свадьба  \n",
      "5   255763.565419  недвижимость  \n",
      "6   240525.971920  недвижимость  \n",
      "7   135823.934197   образование  \n",
      "8    95856.832424       свадьба  \n",
      "9   144425.938277  недвижимость  \n",
      "10  113943.491460  недвижимость  \n",
      "11   77069.234271  недвижимость  \n",
      "12  118514.486412       свадьба  \n",
      "13  130458.228857    автомобиль  \n",
      "14  165127.911772  недвижимость  \n"
     ]
    }
   ],
   "source": [
    "print(clients.head(15))"
   ]
  },
  {
   "cell_type": "markdown",
   "metadata": {},
   "source": [
    "В данном виде таблицей для решения поставленных задач пользоваться неудобно, поэтому необходимо выполнить категоризацию данных.\n",
    "Также отметим, что информация по образованию, семейному положению, полу и по цели получения кредита (на этапе лемматизации) уже категоризирована. Для выполнеения поставленной задачи требуется категоризировать данные по ежемесячной заработной плате и по возрасту. Для информации по количеству детей категорирование не требуется."
   ]
  },
  {
   "cell_type": "markdown",
   "metadata": {},
   "source": [
    "Уточним максимальный и минимальный ежемесячный доход клиентов, а также общее количество клиентов."
   ]
  },
  {
   "cell_type": "code",
   "execution_count": 37,
   "metadata": {},
   "outputs": [
    {
     "name": "stdout",
     "output_type": "stream",
     "text": [
      "Максимальный ежемесячный доход клиента: 2265604.028722744\n",
      "Минимальный ежемесячный доход клиента: 20667.26379327158\n",
      "Медиана ежемесячного дохода клиента: 142594.39684740017\n",
      "Общее количество рассматриваемых клиентов: 21453\n"
     ]
    }
   ],
   "source": [
    "print('Максимальный ежемесячный доход клиента:', clients['total_income'].max())\n",
    "print('Минимальный ежемесячный доход клиента:', clients['total_income'].min())\n",
    "print('Медиана ежемесячного дохода клиента:', clients['total_income'].median())\n",
    "print('Общее количество рассматриваемых клиентов:', clients['total_income'].count())"
   ]
  },
  {
   "cell_type": "code",
   "execution_count": 38,
   "metadata": {},
   "outputs": [
    {
     "name": "stdout",
     "output_type": "stream",
     "text": [
      "от 100000 до 150000    7160\n",
      "от 150000 до 200000    4764\n",
      "от 50000 до 100000     4091\n",
      "от 250000 до 500000    2591\n",
      "от 200000 до 250000    2253\n",
      "до 50000                372\n",
      "свыше 500000            222\n",
      "Name: income_group, dtype: int64\n"
     ]
    }
   ],
   "source": [
    "def income_group(total_income):\n",
    "    if total_income < 50000:\n",
    "        return 'до 50000'\n",
    "    if 50000 <= total_income < 100000:\n",
    "        return 'от 50000 до 100000'\n",
    "    if 100000 <= total_income < 150000:\n",
    "        return 'от 100000 до 150000'\n",
    "    if 150000 <= total_income < 200000:\n",
    "        return 'от 150000 до 200000'\n",
    "    if 200000 <= total_income < 250000:\n",
    "        return 'от 200000 до 250000'\n",
    "    if 250000 <= total_income < 500000:\n",
    "        return 'от 250000 до 500000'\n",
    "    return 'свыше 500000'\n",
    "\n",
    "clients['income_group'] = clients['total_income'].apply(income_group)\n",
    "print(clients['income_group'].value_counts())"
   ]
  },
  {
   "cell_type": "markdown",
   "metadata": {},
   "source": [
    "Категоризируем клиентов по возрасту: молодежь - до 35 лет; средний возраст - до 60 лет, пенсионеры - свыше 60 лет."
   ]
  },
  {
   "cell_type": "code",
   "execution_count": 39,
   "metadata": {},
   "outputs": [
    {
     "name": "stdout",
     "output_type": "stream",
     "text": [
      "средний возраст    12351\n",
      "молодежь            6582\n",
      "пенсионеры          2520\n",
      "Name: age_group, dtype: int64\n"
     ]
    }
   ],
   "source": [
    "def age_group(dob_years):\n",
    "    if dob_years <= 35:\n",
    "        return 'молодежь'\n",
    "    if dob_years < 60:\n",
    "        return 'средний возраст'\n",
    "    return 'пенсионеры'\n",
    "\n",
    "clients['age_group'] = clients['dob_years'].apply(age_group)\n",
    "print(clients['age_group'].value_counts())"
   ]
  },
  {
   "cell_type": "markdown",
   "metadata": {},
   "source": [
    "Упорядочим столбцы таблицы после категорирования:"
   ]
  },
  {
   "cell_type": "code",
   "execution_count": 40,
   "metadata": {},
   "outputs": [
    {
     "name": "stdout",
     "output_type": "stream",
     "text": [
      "   children  days_employed  dob_years        age_group education  \\\n",
      "0         1   -1763.563905         42  средний возраст    высшее   \n",
      "1         1   -1763.563905         36  средний возраст   среднее   \n",
      "2         0   -1763.563905         33         молодежь   среднее   \n",
      "3         3   -1098.308378         32         молодежь   среднее   \n",
      "4         0   -1102.437996         53  средний возраст   среднее   \n",
      "\n",
      "   education_id     family_status  family_status_id gender income_type  debt  \\\n",
      "0             0   женат / замужем                 0      F   сотрудник     0   \n",
      "1             1   женат / замужем                 0      F   сотрудник     0   \n",
      "2             1   женат / замужем                 0      M   сотрудник     0   \n",
      "3             1   женат / замужем                 0      M   сотрудник     0   \n",
      "4             1  гражданский брак                 1      F   пенсионер     0   \n",
      "\n",
      "    total_income         income_group       purpose  \n",
      "0  253875.639453  от 250000 до 500000  недвижимость  \n",
      "1  112080.014102  от 100000 до 150000    автомобиль  \n",
      "2  145885.952297  от 100000 до 150000  недвижимость  \n",
      "3  267628.550329  от 250000 до 500000   образование  \n",
      "4  158616.077870  от 150000 до 200000       свадьба  \n"
     ]
    }
   ],
   "source": [
    "data = clients\n",
    "columns = ['children', 'days_employed', 'dob_years', 'age_group', 'education', \n",
    "          'education_id', 'family_status', 'family_status_id', 'gender',\n",
    "         'income_type', 'debt', 'total_income', 'income_group', 'purpose']\n",
    "clients = pd.DataFrame(data = data, columns = columns)\n",
    "\n",
    "print(clients.head(5))"
   ]
  },
  {
   "cell_type": "markdown",
   "metadata": {},
   "source": [
    "**Вывод**"
   ]
  },
  {
   "cell_type": "markdown",
   "metadata": {},
   "source": [
    "Категоризировать данные можно двумя способами - по типу, и по группам. Категоризация данных позволяет преобразовать громоздкую таблицу и трудночитаемую информацию к простому и понятному виду. Поэтому категоризация является одним из заключительных этапов работы по предобработке данных.\n",
    "На данном этапе была использована категоризация данных по группам в зависимости от возраста клиентов и от размера ежемесячного дохода клиента. В случае, если бы в полученных нами исходных данных было распределение на категории и подкатегории, то можно было бы воспользоваться категоризацией по типу."
   ]
  },
  {
   "cell_type": "markdown",
   "metadata": {},
   "source": [
    "## Шаг 3. Ответьте на вопросы"
   ]
  },
  {
   "cell_type": "markdown",
   "metadata": {},
   "source": [
    "- Есть ли зависимость между наличием детей и возвратом кредита в срок?"
   ]
  },
  {
   "cell_type": "markdown",
   "metadata": {},
   "source": [
    "Определим суммарное количество задолженностей по невозврату кредитов в зависимости от наличия детей и сформируем сводную таблицу методом data_pivot:"
   ]
  },
  {
   "cell_type": "code",
   "execution_count": 41,
   "metadata": {},
   "outputs": [
    {
     "name": "stdout",
     "output_type": "stream",
     "text": [
      "          debt\n",
      "children      \n",
      "-1           1\n",
      " 0        1063\n",
      " 1         444\n",
      " 2         194\n",
      " 3          27\n",
      " 4           4\n",
      " 5           0\n",
      " 20          8\n"
     ]
    }
   ],
   "source": [
    "data_pivot = clients.pivot_table(index = ['children'], values = 'debt', aggfunc = 'sum')\n",
    "print(data_pivot)"
   ]
  },
  {
   "cell_type": "markdown",
   "metadata": {},
   "source": [
    "Из сводной таблицы видно, что в данные закрались ошибки - отрицательного количества детей быть не может. Количество детей 20 также свидетельствует об ошибочном занесении данных в таблицу. Внесем необходимые корректировки и повторно сформируем сводную таблицу. Дополнительно добавим столбцы с количеством детей у клиентов и рассчитаем долю невозвратов кредита:"
   ]
  },
  {
   "cell_type": "code",
   "execution_count": 42,
   "metadata": {
    "scrolled": true
   },
   "outputs": [
    {
     "name": "stdout",
     "output_type": "stream",
     "text": [
      "          debt  child_count     ratio\n",
      "children                             \n",
      "4            4           41  0.097561\n",
      "2          202         2128  0.094925\n",
      "1          445         4855  0.091658\n",
      "3           27          330  0.081818\n",
      "0         1063        14090  0.075444\n",
      "5            0            9  0.000000\n"
     ]
    }
   ],
   "source": [
    "clients.loc[(clients['children'] == -1), 'children'] = 1\n",
    "clients.loc[(clients['children'] == 20), 'children'] = 2\n",
    "\n",
    "data_pivot = clients.pivot_table(index = ['children'], values = 'debt', aggfunc = 'sum')\n",
    "data_pivot['child_count'] = clients.groupby('children')['children'].count()\n",
    "data_pivot['ratio'] = data_pivot['debt'] / data_pivot['child_count']\n",
    "print(data_pivot.sort_values('ratio', ascending = False))"
   ]
  },
  {
   "cell_type": "markdown",
   "metadata": {},
   "source": [
    "**Вывод**"
   ]
  },
  {
   "cell_type": "markdown",
   "metadata": {},
   "source": [
    "Из полученного результата можно сделать вывод, что на возврат кредита в срок влияет сам факт наличия детей, но не их количество. Самая низкая доля невозвратов кредита среди клиентов, не имеющих детей. Доля невозвратов среди людей, имеющих от 1 до 4 детей примерно одинакова и говорит об отсутствии зависимости между невозвратом кредита и количеством детей. Можно предположить, что в неблагоприятной финансовой ситуации клиенты предпочитают обеспечивать всем необходимым своих детей, чем возвращать долг банку."
   ]
  },
  {
   "cell_type": "markdown",
   "metadata": {},
   "source": [
    "- Есть ли зависимость между семейным положением и возвратом кредита в срок?"
   ]
  },
  {
   "cell_type": "markdown",
   "metadata": {},
   "source": [
    "Сформируем сводную таблицу методом df.groupby().agg(). В таблице будет рассмотрена зависимость между количеством клиентов с различным семейным статусом и клиентов, срок возврата кредита по которым истек:"
   ]
  },
  {
   "cell_type": "code",
   "execution_count": 43,
   "metadata": {},
   "outputs": [
    {
     "name": "stdout",
     "output_type": "stream",
     "text": [
      "                      family_status debt     ratio\n",
      "                              count  sum          \n",
      "family_status                                     \n",
      "не женат / не замужем          2810  274  0.097509\n",
      "гражданский брак               4150  388  0.093494\n",
      "женат / замужем               12339  931  0.075452\n",
      "в разводе                      1195   85  0.071130\n",
      "вдовец / вдова                  959   63  0.065693\n"
     ]
    }
   ],
   "source": [
    "family_status_group = clients.groupby('family_status').agg({'family_status': ['count'], 'debt': ['sum']})\n",
    "family_status_group['ratio'] = family_status_group['debt']['sum'] / family_status_group['family_status']['count']\n",
    "print(family_status_group.sort_values('ratio', ascending = False))"
   ]
  },
  {
   "cell_type": "markdown",
   "metadata": {},
   "source": [
    "**Вывод**"
   ]
  },
  {
   "cell_type": "markdown",
   "metadata": {},
   "source": [
    "Полученные результаты свидетельствуют о наличии зависимости между семейным положением и возвратом кредита в срок. Условно можно разделить полученные результаты на 2 группы, учитывая близость их значений. Первая группа - с наименьшим риском невозврата кредита - это люди, которые состоят в браке в настоящий момент, либо состояли в браке ранее. Это говорит о том, что брак учит людей ответственности во всех жизненных сферах. Вторая граппа - с наибольшим риском невозврата кредита - это люди, которые не состоят в браке, либо состоят, но в гражданском. Они хотят жить свободной жизнью, не обременяя себя обязательствами перед другими людьми, а также и банком, и могут спокойно отнестись к задолженности по кредиту."
   ]
  },
  {
   "cell_type": "markdown",
   "metadata": {},
   "source": [
    "- Есть ли зависимость между уровнем дохода и возвратом кредита в срок?"
   ]
  },
  {
   "cell_type": "markdown",
   "metadata": {},
   "source": [
    "Сформируем сводную таблицу методом df.groupby().agg(). В таблице будет рассмотрена зависимость между количеством клиентов, сгруппированных в зависимости от размера ежемесячного дохода и количеством кредитов, срок возврата по которым истек:"
   ]
  },
  {
   "cell_type": "code",
   "execution_count": 44,
   "metadata": {},
   "outputs": [
    {
     "name": "stdout",
     "output_type": "stream",
     "text": [
      "                    income_group debt     ratio\n",
      "                           count  sum          \n",
      "income_group                                   \n",
      "от 100000 до 150000         7160  624  0.087151\n",
      "от 150000 до 200000         4764  405  0.085013\n",
      "от 50000 до 100000          4091  331  0.080909\n",
      "от 200000 до 250000         2253  164  0.072792\n",
      "от 250000 до 500000         2591  180  0.069471\n",
      "свыше 500000                 222   14  0.063063\n",
      "до 50000                     372   23  0.061828\n"
     ]
    }
   ],
   "source": [
    "income_debt_group = clients.groupby('income_group').agg({'income_group': ['count'], 'debt': ['sum']})\n",
    "income_debt_group['ratio'] = income_debt_group['debt']['sum'] / income_debt_group['income_group']['count']\n",
    "print(income_debt_group.sort_values('ratio', ascending = False))"
   ]
  },
  {
   "cell_type": "markdown",
   "metadata": {},
   "source": [
    "**Вывод**"
   ]
  },
  {
   "cell_type": "markdown",
   "metadata": {},
   "source": [
    "Полученные результаты свидетельствуют о наличии зависимости между уровнем дохода и возвратом кредита в срок. Однако, итоги получились достаточно неоднозначными, которые было бы очень непросто предсказать заранее. Можно было бы предположить, что у людей с наименьшим доходом риск невозврата кредита будет высоким. Но на практике оказалось, что наименьший риск невозврата кредита как раз либо у наименее обеспеченных клиентов, либо у высокообеспеченных. А наиболее высокий риск невозврата кредита банку у подавляющего большинства клиентов, имеющий средний уровень дохода. \n",
    "Это можно объяснить тем, что люди, имеющие низкий доход умеют правильно им распоряжаться и не берут на себя чрезмерные долговые обязательства. Люди с высоким доходом, соответственно, имеют больше возможностей для погашения кредита в срок. В отлиечие от них, люди со средним достатком не могут правильно распоряжаться своими финансами и склонны брать на себя чрезмерную долговую нагрузку, ошибочно полагая, что смогут безболезненно с ней справиться."
   ]
  },
  {
   "cell_type": "markdown",
   "metadata": {},
   "source": [
    "- Как разные цели кредита влияют на его возврат в срок?"
   ]
  },
  {
   "cell_type": "markdown",
   "metadata": {},
   "source": [
    "Сформируем сводную таблицу методом df.groupby().agg(). В таблице будет рассмотрена зависимость между количеством клиентов, сгруппированных в зависимости от цели получения кредита и количеством кредитов, срок возврата по которым истек:"
   ]
  },
  {
   "cell_type": "code",
   "execution_count": 45,
   "metadata": {},
   "outputs": [
    {
     "name": "stdout",
     "output_type": "stream",
     "text": [
      "             purpose debt     ratio\n",
      "               count  sum          \n",
      "purpose                            \n",
      "автомобиль      4306  403  0.093590\n",
      "образование     4013  370  0.092200\n",
      "свадьба         2324  186  0.080034\n",
      "недвижимость   10810  782  0.072340\n"
     ]
    }
   ],
   "source": [
    "purpose_debt_group = clients.groupby('purpose').agg({'purpose': ['count'], 'debt': ['sum']})\n",
    "purpose_debt_group['ratio'] = purpose_debt_group['debt']['sum'] / purpose_debt_group['purpose']['count']\n",
    "print(purpose_debt_group.sort_values('ratio', ascending = False))"
   ]
  },
  {
   "cell_type": "markdown",
   "metadata": {},
   "source": [
    "**Вывод**"
   ]
  },
  {
   "cell_type": "markdown",
   "metadata": {},
   "source": [
    "Из полученных данных следует вывод о значительном влиянии цели кредита на его возврат. Наименьший риск невозврата кредита по целям, связанным с образованием и операциям с недвижимостью. Наиболее высокий риск невозврата - по целям, связанным с приобретением автомобиля и образованием.\n",
    "Дело в том, что приобретение недвижимости и создание семьи весьма значимы для человека в долгосрочной перспективе и говорят о серьезности его намерений.\n",
    "Образование также важно для человека, но в отличие от вышеуказанных целей, не гарантирует наличия дохода в краткосрочной перспективе. Кроме того, сам факт получения образования не для всех людей имеет первостепенное значение. И тем более приобретение автомобиля в современном мире для многих скорее является предметом роскоши, статуса и комфорта, чем предметом первой необходимости. "
   ]
  },
  {
   "cell_type": "markdown",
   "metadata": {},
   "source": [
    "## Шаг 4. Общий вывод"
   ]
  },
  {
   "cell_type": "markdown",
   "metadata": {},
   "source": [
    "В данной проектной работе, выполненной для Заказчика — кредитного отдела банка, выполнен анализ влияния семейного положения, количества детей клиента, уровня ежемесячного дохода, а также целей кредита на факт погашения кредита в срок.\n",
    "Для этого были выполнены следующие этапы в части предобработки данных:\n",
    "1. Определины и заполнены пропущенные значения;\n",
    "2. Исключено дублирование информации;\n",
    "3. Выполнено лемматизирование в значениях столбца с целями получения кредита;\n",
    "4. Выполнена категоризация данных;\n",
    "5. Даны ответы на вопросы, поставленные Заказчиком.\n",
    "Полученные результаты не всегда было возможно однозначно предсказать заранее.\n",
    "Подводя общий итог: \n",
    "наиболее неблагоприятные клиенты для банка с точки зрения возможности невозврата кредита в срок - клиенты, имеющие детей, не состоящие в браке (в т.ч. в гражданском), имеющие средний ежемесячный доход и указывающие в целях на получение кредита приобретение автомобиля, либо получение образования.\n",
    "Соответственно, клиенты с наименьшим риском невозврата кредита в срок - клиенты, не имеющие детей, состоящие, либо состоявшие ранее в браке, имеющие низкий, либо наоборот высокий ежемесячный доход и получающие кредит на операции с недвижимостью, либо свадьбу."
   ]
  }
 ],
 "metadata": {
  "celltoolbar": "Raw Cell Format",
  "kernelspec": {
   "display_name": "Python 3",
   "language": "python",
   "name": "python3"
  },
  "language_info": {
   "codemirror_mode": {
    "name": "ipython",
    "version": 3
   },
   "file_extension": ".py",
   "mimetype": "text/x-python",
   "name": "python",
   "nbconvert_exporter": "python",
   "pygments_lexer": "ipython3",
   "version": "3.8.5"
  },
  "toc": {
   "base_numbering": 1,
   "nav_menu": {},
   "number_sections": true,
   "sideBar": true,
   "skip_h1_title": true,
   "title_cell": "Table of Contents",
   "title_sidebar": "Contents",
   "toc_cell": false,
   "toc_position": {},
   "toc_section_display": true,
   "toc_window_display": false
  }
 },
 "nbformat": 4,
 "nbformat_minor": 2
}
