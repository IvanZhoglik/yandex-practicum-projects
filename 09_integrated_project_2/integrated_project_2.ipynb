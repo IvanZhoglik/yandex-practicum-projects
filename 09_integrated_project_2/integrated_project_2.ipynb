{
 "cells": [
  {
   "cell_type": "markdown",
   "metadata": {
    "toc": true
   },
   "source": [
    "<h1>Содержание<span class=\"tocSkip\"></span></h1>\n",
    "<div class=\"toc\"><ul class=\"toc-item\"><li><span><a href=\"#Подготовка-данных\" data-toc-modified-id=\"Подготовка-данных-1\"><span class=\"toc-item-num\">1&nbsp;&nbsp;</span>Подготовка данных</a></span><ul class=\"toc-item\"><li><span><a href=\"#Датасет-recovery_train\" data-toc-modified-id=\"Датасет-recovery_train-1.1\"><span class=\"toc-item-num\">1.1&nbsp;&nbsp;</span>Датасет recovery_train</a></span></li><li><span><a href=\"#Датасет-recovery_test\" data-toc-modified-id=\"Датасет-recovery_test-1.2\"><span class=\"toc-item-num\">1.2&nbsp;&nbsp;</span>Датасет recovery_test</a></span></li><li><span><a href=\"#Датасет-recovery_full\" data-toc-modified-id=\"Датасет-recovery_full-1.3\"><span class=\"toc-item-num\">1.3&nbsp;&nbsp;</span>Датасет recovery_full</a></span></li><li><span><a href=\"#Проверка-расчета-эффективности-обогащения-признака-rougher.output.recovery\" data-toc-modified-id=\"Проверка-расчета-эффективности-обогащения-признака-rougher.output.recovery-1.4\"><span class=\"toc-item-num\">1.4&nbsp;&nbsp;</span>Проверка расчета эффективности обогащения признака rougher.output.recovery</a></span></li><li><span><a href=\"#Анализ-признаков,-недоступных-в-тестовой-выборке\" data-toc-modified-id=\"Анализ-признаков,-недоступных-в-тестовой-выборке-1.5\"><span class=\"toc-item-num\">1.5&nbsp;&nbsp;</span>Анализ признаков, недоступных в тестовой выборке</a></span></li><li><span><a href=\"#Предобработка-данных\" data-toc-modified-id=\"Предобработка-данных-1.6\"><span class=\"toc-item-num\">1.6&nbsp;&nbsp;</span>Предобработка данных</a></span></li></ul></li><li><span><a href=\"#Анализ-данных\" data-toc-modified-id=\"Анализ-данных-2\"><span class=\"toc-item-num\">2&nbsp;&nbsp;</span>Анализ данных</a></span><ul class=\"toc-item\"><li><span><a href=\"#Анализ-концентрации-металлов-(Au,-Ag,-Pb)-на-различных-этапах-очистки\" data-toc-modified-id=\"Анализ-концентрации-металлов-(Au,-Ag,-Pb)-на-различных-этапах-очистки-2.1\"><span class=\"toc-item-num\">2.1&nbsp;&nbsp;</span>Анализ концентрации металлов (Au, Ag, Pb) на различных этапах очистки</a></span></li><li><span><a href=\"#Анализ-распределения-размеров-гранул-сырья-на-обучающей-и-тестовой-выборках\" data-toc-modified-id=\"Анализ-распределения-размеров-гранул-сырья-на-обучающей-и-тестовой-выборках-2.2\"><span class=\"toc-item-num\">2.2&nbsp;&nbsp;</span>Анализ распределения размеров гранул сырья на обучающей и тестовой выборках</a></span></li><li><span><a href=\"#Исследование-суммарной-концентрации-всех-веществ-на-разных-стадиях:-в-сырье,-в-черновом-и-финальном-концентратах\" data-toc-modified-id=\"Исследование-суммарной-концентрации-всех-веществ-на-разных-стадиях:-в-сырье,-в-черновом-и-финальном-концентратах-2.3\"><span class=\"toc-item-num\">2.3&nbsp;&nbsp;</span>Исследование суммарной концентрации всех веществ на разных стадиях: в сырье, в черновом и финальном концентратах</a></span></li></ul></li><li><span><a href=\"#Модель\" data-toc-modified-id=\"Модель-3\"><span class=\"toc-item-num\">3&nbsp;&nbsp;</span>Модель</a></span><ul class=\"toc-item\"><li><span><a href=\"#Функция-для-вычисления-итоговой-sMAPE\" data-toc-modified-id=\"Функция-для-вычисления-итоговой-sMAPE-3.1\"><span class=\"toc-item-num\">3.1&nbsp;&nbsp;</span>Функция для вычисления итоговой sMAPE</a></span></li><li><span><a href=\"#Обучение-моделей-и-выбор-лучшей-модели\" data-toc-modified-id=\"Обучение-моделей-и-выбор-лучшей-модели-3.2\"><span class=\"toc-item-num\">3.2&nbsp;&nbsp;</span>Обучение моделей и выбор лучшей модели</a></span></li><li><span><a href=\"#Проверка-модели-на-тестовой-выборке\" data-toc-modified-id=\"Проверка-модели-на-тестовой-выборке-3.3\"><span class=\"toc-item-num\">3.3&nbsp;&nbsp;</span>Проверка модели на тестовой выборке</a></span></li><li><span><a href=\"#Проверка-модели-на-адекватность\" data-toc-modified-id=\"Проверка-модели-на-адекватность-3.4\"><span class=\"toc-item-num\">3.4&nbsp;&nbsp;</span>Проверка модели на адекватность</a></span></li></ul></li><li><span><a href=\"#Общий-вывод\" data-toc-modified-id=\"Общий-вывод-4\"><span class=\"toc-item-num\">4&nbsp;&nbsp;</span>Общий вывод</a></span></li><li><span><a href=\"#Чек-лист-готовности-проекта\" data-toc-modified-id=\"Чек-лист-готовности-проекта-5\"><span class=\"toc-item-num\">5&nbsp;&nbsp;</span>Чек-лист готовности проекта</a></span></li></ul></div>"
   ]
  },
  {
   "cell_type": "markdown",
   "metadata": {},
   "source": [
    "# Восстановление золота из руды"
   ]
  },
  {
   "cell_type": "markdown",
   "metadata": {},
   "source": [
    "# Введение"
   ]
  },
  {
   "cell_type": "markdown",
   "metadata": {},
   "source": [
    "Подготовьте прототип модели машинного обучения для «Цифры». Компания разрабатывает решения для эффективной работы промышленных предприятий.\n",
    "\n",
    "Модель должна предсказать коэффициент восстановления золота из золотосодержащей руды. Используйте данные с параметрами добычи и очистки. \n",
    "\n",
    "Модель поможет оптимизировать производство, чтобы не запускать предприятие с убыточными характеристиками.\n",
    "\n",
    "Вам нужно:\n",
    "\n",
    "1. Подготовить данные;\n",
    "2. Провести исследовательский анализ данных;\n",
    "3. Построить и обучить модель.\n",
    "\n",
    "Чтобы выполнить проект, обращайтесь к библиотекам *pandas*, *matplotlib* и *sklearn.* Вам поможет их документация."
   ]
  },
  {
   "cell_type": "markdown",
   "metadata": {},
   "source": [
    "<b>Описание данных</b>\n",
    "<div><b>Технологический процесс</b></div>\n",
    "<li>Rougher feed — исходное сырье</li>\n",
    "<li>Rougher additions (или reagent additions) — флотационные реагенты: Xanthate, Sulphate, Depressant</li>\n",
    "<li>Xanthate **— ксантогенат (промотер, или активатор флотации);</li>\n",
    "<li>Sulphate — сульфат (на данном производстве сульфид натрия);</li>\n",
    "<li>Depressant — депрессант (силикат натрия).</li>\n",
    "<li>Rougher process (англ. «грубый процесс») — флотация</li>\n",
    "<li>Rougher tails — отвальные хвосты</li>\n",
    "<li>Float banks — флотационная установка</li>\n",
    "<li>Cleaner process — очистка</li>\n",
    "<li>Rougher Au — черновой концентрат золота</li>\n",
    "<li>Final Au — финальный концентрат золота</li>"
   ]
  },
  {
   "cell_type": "markdown",
   "metadata": {},
   "source": [
    "<div><b>Параметры этапов</b></div>\n",
    "<li>air amount — объём воздуха</li>\n",
    "<li>fluid levels — уровень жидкости</li>\n",
    "<li>feed size — размер гранул сырья</li>\n",
    "<li>feed rate — скорость подачи</li>"
   ]
  },
  {
   "cell_type": "markdown",
   "metadata": {},
   "source": [
    "<div><b>Наименование признаков</b></div>\n",
    "<div>Наименование признаков должно быть такое:</div>\n",
    "<div>[этап].[тип_параметра].[название_параметра]</div>\n",
    "<div>Пример: rougher.input.feed_ag</div>"
   ]
  },
  {
   "cell_type": "markdown",
   "metadata": {},
   "source": [
    "<div>Возможные значения для блока [этап]:</div>\n",
    "<li>rougher — флотация</li>\n",
    "<li>primary_cleaner — первичная очистка</li>\n",
    "<li>secondary_cleaner — вторичная очистка</li>\n",
    "<li>final — финальные характеристики</li>"
   ]
  },
  {
   "cell_type": "markdown",
   "metadata": {},
   "source": [
    "<div>Возможные значения для блока [тип_параметра]:</div>\n",
    "<li>input — параметры сырья</li>\n",
    "<li>output — параметры продукта</li>\n",
    "<li>state — параметры, характеризующие текущее состояние этапа</li>\n",
    "<li>calculation — расчётные характеристики</li>"
   ]
  },
  {
   "cell_type": "markdown",
   "metadata": {},
   "source": [
    "## Подготовка данных"
   ]
  },
  {
   "cell_type": "code",
   "execution_count": 1,
   "metadata": {},
   "outputs": [],
   "source": [
    "import pandas as pd\n",
    "import numpy as np\n",
    "import seaborn as sns\n",
    "import matplotlib.pyplot as plt\n",
    "from sklearn.metrics import mean_absolute_error\n",
    "from sklearn.preprocessing import StandardScaler\n",
    "from sklearn.metrics.scorer import make_scorer\n",
    "from sklearn.model_selection import cross_val_score\n",
    "from sklearn.tree import DecisionTreeRegressor\n",
    "from sklearn.ensemble import RandomForestRegressor\n",
    "from sklearn.linear_model import LinearRegression\n",
    "import warnings\n",
    "warnings.filterwarnings(\"ignore\")\n",
    "from sklearn.dummy import DummyRegressor"
   ]
  },
  {
   "cell_type": "markdown",
   "metadata": {},
   "source": [
    "### Датасет recovery_train"
   ]
  },
  {
   "cell_type": "markdown",
   "metadata": {},
   "source": [
    "Откроем данные и выведем основную информацию:"
   ]
  },
  {
   "cell_type": "code",
   "execution_count": 2,
   "metadata": {},
   "outputs": [],
   "source": [
    "train = pd.read_csv('/datasets/gold_recovery_train.csv')"
   ]
  },
  {
   "cell_type": "code",
   "execution_count": 3,
   "metadata": {},
   "outputs": [
    {
     "data": {
      "text/html": [
       "<div>\n",
       "<style scoped>\n",
       "    .dataframe tbody tr th:only-of-type {\n",
       "        vertical-align: middle;\n",
       "    }\n",
       "\n",
       "    .dataframe tbody tr th {\n",
       "        vertical-align: top;\n",
       "    }\n",
       "\n",
       "    .dataframe thead th {\n",
       "        text-align: right;\n",
       "    }\n",
       "</style>\n",
       "<table border=\"1\" class=\"dataframe\">\n",
       "  <thead>\n",
       "    <tr style=\"text-align: right;\">\n",
       "      <th></th>\n",
       "      <th>date</th>\n",
       "      <th>final.output.concentrate_ag</th>\n",
       "      <th>final.output.concentrate_pb</th>\n",
       "      <th>final.output.concentrate_sol</th>\n",
       "      <th>final.output.concentrate_au</th>\n",
       "      <th>final.output.recovery</th>\n",
       "      <th>final.output.tail_ag</th>\n",
       "      <th>final.output.tail_pb</th>\n",
       "      <th>final.output.tail_sol</th>\n",
       "      <th>final.output.tail_au</th>\n",
       "      <th>...</th>\n",
       "      <th>secondary_cleaner.state.floatbank4_a_air</th>\n",
       "      <th>secondary_cleaner.state.floatbank4_a_level</th>\n",
       "      <th>secondary_cleaner.state.floatbank4_b_air</th>\n",
       "      <th>secondary_cleaner.state.floatbank4_b_level</th>\n",
       "      <th>secondary_cleaner.state.floatbank5_a_air</th>\n",
       "      <th>secondary_cleaner.state.floatbank5_a_level</th>\n",
       "      <th>secondary_cleaner.state.floatbank5_b_air</th>\n",
       "      <th>secondary_cleaner.state.floatbank5_b_level</th>\n",
       "      <th>secondary_cleaner.state.floatbank6_a_air</th>\n",
       "      <th>secondary_cleaner.state.floatbank6_a_level</th>\n",
       "    </tr>\n",
       "  </thead>\n",
       "  <tbody>\n",
       "    <tr>\n",
       "      <td>0</td>\n",
       "      <td>2016-01-15 00:00:00</td>\n",
       "      <td>6.055403</td>\n",
       "      <td>9.889648</td>\n",
       "      <td>5.507324</td>\n",
       "      <td>42.192020</td>\n",
       "      <td>70.541216</td>\n",
       "      <td>10.411962</td>\n",
       "      <td>0.895447</td>\n",
       "      <td>16.904297</td>\n",
       "      <td>2.143149</td>\n",
       "      <td>...</td>\n",
       "      <td>14.016835</td>\n",
       "      <td>-502.488007</td>\n",
       "      <td>12.099931</td>\n",
       "      <td>-504.715942</td>\n",
       "      <td>9.925633</td>\n",
       "      <td>-498.310211</td>\n",
       "      <td>8.079666</td>\n",
       "      <td>-500.470978</td>\n",
       "      <td>14.151341</td>\n",
       "      <td>-605.841980</td>\n",
       "    </tr>\n",
       "    <tr>\n",
       "      <td>1</td>\n",
       "      <td>2016-01-15 01:00:00</td>\n",
       "      <td>6.029369</td>\n",
       "      <td>9.968944</td>\n",
       "      <td>5.257781</td>\n",
       "      <td>42.701629</td>\n",
       "      <td>69.266198</td>\n",
       "      <td>10.462676</td>\n",
       "      <td>0.927452</td>\n",
       "      <td>16.634514</td>\n",
       "      <td>2.224930</td>\n",
       "      <td>...</td>\n",
       "      <td>13.992281</td>\n",
       "      <td>-505.503262</td>\n",
       "      <td>11.950531</td>\n",
       "      <td>-501.331529</td>\n",
       "      <td>10.039245</td>\n",
       "      <td>-500.169983</td>\n",
       "      <td>7.984757</td>\n",
       "      <td>-500.582168</td>\n",
       "      <td>13.998353</td>\n",
       "      <td>-599.787184</td>\n",
       "    </tr>\n",
       "    <tr>\n",
       "      <td>2</td>\n",
       "      <td>2016-01-15 02:00:00</td>\n",
       "      <td>6.055926</td>\n",
       "      <td>10.213995</td>\n",
       "      <td>5.383759</td>\n",
       "      <td>42.657501</td>\n",
       "      <td>68.116445</td>\n",
       "      <td>10.507046</td>\n",
       "      <td>0.953716</td>\n",
       "      <td>16.208849</td>\n",
       "      <td>2.257889</td>\n",
       "      <td>...</td>\n",
       "      <td>14.015015</td>\n",
       "      <td>-502.520901</td>\n",
       "      <td>11.912783</td>\n",
       "      <td>-501.133383</td>\n",
       "      <td>10.070913</td>\n",
       "      <td>-500.129135</td>\n",
       "      <td>8.013877</td>\n",
       "      <td>-500.517572</td>\n",
       "      <td>14.028663</td>\n",
       "      <td>-601.427363</td>\n",
       "    </tr>\n",
       "    <tr>\n",
       "      <td>3</td>\n",
       "      <td>2016-01-15 03:00:00</td>\n",
       "      <td>6.047977</td>\n",
       "      <td>9.977019</td>\n",
       "      <td>4.858634</td>\n",
       "      <td>42.689819</td>\n",
       "      <td>68.347543</td>\n",
       "      <td>10.422762</td>\n",
       "      <td>0.883763</td>\n",
       "      <td>16.532835</td>\n",
       "      <td>2.146849</td>\n",
       "      <td>...</td>\n",
       "      <td>14.036510</td>\n",
       "      <td>-500.857308</td>\n",
       "      <td>11.999550</td>\n",
       "      <td>-501.193686</td>\n",
       "      <td>9.970366</td>\n",
       "      <td>-499.201640</td>\n",
       "      <td>7.977324</td>\n",
       "      <td>-500.255908</td>\n",
       "      <td>14.005551</td>\n",
       "      <td>-599.996129</td>\n",
       "    </tr>\n",
       "    <tr>\n",
       "      <td>4</td>\n",
       "      <td>2016-01-15 04:00:00</td>\n",
       "      <td>6.148599</td>\n",
       "      <td>10.142511</td>\n",
       "      <td>4.939416</td>\n",
       "      <td>42.774141</td>\n",
       "      <td>66.927016</td>\n",
       "      <td>10.360302</td>\n",
       "      <td>0.792826</td>\n",
       "      <td>16.525686</td>\n",
       "      <td>2.055292</td>\n",
       "      <td>...</td>\n",
       "      <td>14.027298</td>\n",
       "      <td>-499.838632</td>\n",
       "      <td>11.953070</td>\n",
       "      <td>-501.053894</td>\n",
       "      <td>9.925709</td>\n",
       "      <td>-501.686727</td>\n",
       "      <td>7.894242</td>\n",
       "      <td>-500.356035</td>\n",
       "      <td>13.996647</td>\n",
       "      <td>-601.496691</td>\n",
       "    </tr>\n",
       "  </tbody>\n",
       "</table>\n",
       "<p>5 rows × 87 columns</p>\n",
       "</div>"
      ],
      "text/plain": [
       "                  date  final.output.concentrate_ag  \\\n",
       "0  2016-01-15 00:00:00                     6.055403   \n",
       "1  2016-01-15 01:00:00                     6.029369   \n",
       "2  2016-01-15 02:00:00                     6.055926   \n",
       "3  2016-01-15 03:00:00                     6.047977   \n",
       "4  2016-01-15 04:00:00                     6.148599   \n",
       "\n",
       "   final.output.concentrate_pb  final.output.concentrate_sol  \\\n",
       "0                     9.889648                      5.507324   \n",
       "1                     9.968944                      5.257781   \n",
       "2                    10.213995                      5.383759   \n",
       "3                     9.977019                      4.858634   \n",
       "4                    10.142511                      4.939416   \n",
       "\n",
       "   final.output.concentrate_au  final.output.recovery  final.output.tail_ag  \\\n",
       "0                    42.192020              70.541216             10.411962   \n",
       "1                    42.701629              69.266198             10.462676   \n",
       "2                    42.657501              68.116445             10.507046   \n",
       "3                    42.689819              68.347543             10.422762   \n",
       "4                    42.774141              66.927016             10.360302   \n",
       "\n",
       "   final.output.tail_pb  final.output.tail_sol  final.output.tail_au  ...  \\\n",
       "0              0.895447              16.904297              2.143149  ...   \n",
       "1              0.927452              16.634514              2.224930  ...   \n",
       "2              0.953716              16.208849              2.257889  ...   \n",
       "3              0.883763              16.532835              2.146849  ...   \n",
       "4              0.792826              16.525686              2.055292  ...   \n",
       "\n",
       "   secondary_cleaner.state.floatbank4_a_air  \\\n",
       "0                                 14.016835   \n",
       "1                                 13.992281   \n",
       "2                                 14.015015   \n",
       "3                                 14.036510   \n",
       "4                                 14.027298   \n",
       "\n",
       "   secondary_cleaner.state.floatbank4_a_level  \\\n",
       "0                                 -502.488007   \n",
       "1                                 -505.503262   \n",
       "2                                 -502.520901   \n",
       "3                                 -500.857308   \n",
       "4                                 -499.838632   \n",
       "\n",
       "   secondary_cleaner.state.floatbank4_b_air  \\\n",
       "0                                 12.099931   \n",
       "1                                 11.950531   \n",
       "2                                 11.912783   \n",
       "3                                 11.999550   \n",
       "4                                 11.953070   \n",
       "\n",
       "   secondary_cleaner.state.floatbank4_b_level  \\\n",
       "0                                 -504.715942   \n",
       "1                                 -501.331529   \n",
       "2                                 -501.133383   \n",
       "3                                 -501.193686   \n",
       "4                                 -501.053894   \n",
       "\n",
       "   secondary_cleaner.state.floatbank5_a_air  \\\n",
       "0                                  9.925633   \n",
       "1                                 10.039245   \n",
       "2                                 10.070913   \n",
       "3                                  9.970366   \n",
       "4                                  9.925709   \n",
       "\n",
       "   secondary_cleaner.state.floatbank5_a_level  \\\n",
       "0                                 -498.310211   \n",
       "1                                 -500.169983   \n",
       "2                                 -500.129135   \n",
       "3                                 -499.201640   \n",
       "4                                 -501.686727   \n",
       "\n",
       "   secondary_cleaner.state.floatbank5_b_air  \\\n",
       "0                                  8.079666   \n",
       "1                                  7.984757   \n",
       "2                                  8.013877   \n",
       "3                                  7.977324   \n",
       "4                                  7.894242   \n",
       "\n",
       "   secondary_cleaner.state.floatbank5_b_level  \\\n",
       "0                                 -500.470978   \n",
       "1                                 -500.582168   \n",
       "2                                 -500.517572   \n",
       "3                                 -500.255908   \n",
       "4                                 -500.356035   \n",
       "\n",
       "   secondary_cleaner.state.floatbank6_a_air  \\\n",
       "0                                 14.151341   \n",
       "1                                 13.998353   \n",
       "2                                 14.028663   \n",
       "3                                 14.005551   \n",
       "4                                 13.996647   \n",
       "\n",
       "   secondary_cleaner.state.floatbank6_a_level  \n",
       "0                                 -605.841980  \n",
       "1                                 -599.787184  \n",
       "2                                 -601.427363  \n",
       "3                                 -599.996129  \n",
       "4                                 -601.496691  \n",
       "\n",
       "[5 rows x 87 columns]"
      ]
     },
     "execution_count": 3,
     "metadata": {},
     "output_type": "execute_result"
    }
   ],
   "source": [
    "train.head(5)"
   ]
  },
  {
   "cell_type": "code",
   "execution_count": 4,
   "metadata": {},
   "outputs": [
    {
     "name": "stdout",
     "output_type": "stream",
     "text": [
      "<class 'pandas.core.frame.DataFrame'>\n",
      "RangeIndex: 16860 entries, 0 to 16859\n",
      "Data columns (total 87 columns):\n",
      "date                                                  16860 non-null object\n",
      "final.output.concentrate_ag                           16788 non-null float64\n",
      "final.output.concentrate_pb                           16788 non-null float64\n",
      "final.output.concentrate_sol                          16490 non-null float64\n",
      "final.output.concentrate_au                           16789 non-null float64\n",
      "final.output.recovery                                 15339 non-null float64\n",
      "final.output.tail_ag                                  16794 non-null float64\n",
      "final.output.tail_pb                                  16677 non-null float64\n",
      "final.output.tail_sol                                 16715 non-null float64\n",
      "final.output.tail_au                                  16794 non-null float64\n",
      "primary_cleaner.input.sulfate                         15553 non-null float64\n",
      "primary_cleaner.input.depressant                      15598 non-null float64\n",
      "primary_cleaner.input.feed_size                       16860 non-null float64\n",
      "primary_cleaner.input.xanthate                        15875 non-null float64\n",
      "primary_cleaner.output.concentrate_ag                 16778 non-null float64\n",
      "primary_cleaner.output.concentrate_pb                 16502 non-null float64\n",
      "primary_cleaner.output.concentrate_sol                16224 non-null float64\n",
      "primary_cleaner.output.concentrate_au                 16778 non-null float64\n",
      "primary_cleaner.output.tail_ag                        16777 non-null float64\n",
      "primary_cleaner.output.tail_pb                        16761 non-null float64\n",
      "primary_cleaner.output.tail_sol                       16579 non-null float64\n",
      "primary_cleaner.output.tail_au                        16777 non-null float64\n",
      "primary_cleaner.state.floatbank8_a_air                16820 non-null float64\n",
      "primary_cleaner.state.floatbank8_a_level              16827 non-null float64\n",
      "primary_cleaner.state.floatbank8_b_air                16820 non-null float64\n",
      "primary_cleaner.state.floatbank8_b_level              16833 non-null float64\n",
      "primary_cleaner.state.floatbank8_c_air                16822 non-null float64\n",
      "primary_cleaner.state.floatbank8_c_level              16833 non-null float64\n",
      "primary_cleaner.state.floatbank8_d_air                16821 non-null float64\n",
      "primary_cleaner.state.floatbank8_d_level              16833 non-null float64\n",
      "rougher.calculation.sulfate_to_au_concentrate         16833 non-null float64\n",
      "rougher.calculation.floatbank10_sulfate_to_au_feed    16833 non-null float64\n",
      "rougher.calculation.floatbank11_sulfate_to_au_feed    16833 non-null float64\n",
      "rougher.calculation.au_pb_ratio                       15618 non-null float64\n",
      "rougher.input.feed_ag                                 16778 non-null float64\n",
      "rougher.input.feed_pb                                 16632 non-null float64\n",
      "rougher.input.feed_rate                               16347 non-null float64\n",
      "rougher.input.feed_size                               16443 non-null float64\n",
      "rougher.input.feed_sol                                16568 non-null float64\n",
      "rougher.input.feed_au                                 16777 non-null float64\n",
      "rougher.input.floatbank10_sulfate                     15816 non-null float64\n",
      "rougher.input.floatbank10_xanthate                    16514 non-null float64\n",
      "rougher.input.floatbank11_sulfate                     16237 non-null float64\n",
      "rougher.input.floatbank11_xanthate                    14956 non-null float64\n",
      "rougher.output.concentrate_ag                         16778 non-null float64\n",
      "rougher.output.concentrate_pb                         16778 non-null float64\n",
      "rougher.output.concentrate_sol                        16698 non-null float64\n",
      "rougher.output.concentrate_au                         16778 non-null float64\n",
      "rougher.output.recovery                               14287 non-null float64\n",
      "rougher.output.tail_ag                                14610 non-null float64\n",
      "rougher.output.tail_pb                                16778 non-null float64\n",
      "rougher.output.tail_sol                               14611 non-null float64\n",
      "rougher.output.tail_au                                14611 non-null float64\n",
      "rougher.state.floatbank10_a_air                       16807 non-null float64\n",
      "rougher.state.floatbank10_a_level                     16807 non-null float64\n",
      "rougher.state.floatbank10_b_air                       16807 non-null float64\n",
      "rougher.state.floatbank10_b_level                     16807 non-null float64\n",
      "rougher.state.floatbank10_c_air                       16807 non-null float64\n",
      "rougher.state.floatbank10_c_level                     16814 non-null float64\n",
      "rougher.state.floatbank10_d_air                       16802 non-null float64\n",
      "rougher.state.floatbank10_d_level                     16809 non-null float64\n",
      "rougher.state.floatbank10_e_air                       16257 non-null float64\n",
      "rougher.state.floatbank10_e_level                     16809 non-null float64\n",
      "rougher.state.floatbank10_f_air                       16802 non-null float64\n",
      "rougher.state.floatbank10_f_level                     16802 non-null float64\n",
      "secondary_cleaner.output.tail_ag                      16776 non-null float64\n",
      "secondary_cleaner.output.tail_pb                      16764 non-null float64\n",
      "secondary_cleaner.output.tail_sol                     14874 non-null float64\n",
      "secondary_cleaner.output.tail_au                      16778 non-null float64\n",
      "secondary_cleaner.state.floatbank2_a_air              16497 non-null float64\n",
      "secondary_cleaner.state.floatbank2_a_level            16751 non-null float64\n",
      "secondary_cleaner.state.floatbank2_b_air              16705 non-null float64\n",
      "secondary_cleaner.state.floatbank2_b_level            16748 non-null float64\n",
      "secondary_cleaner.state.floatbank3_a_air              16763 non-null float64\n",
      "secondary_cleaner.state.floatbank3_a_level            16747 non-null float64\n",
      "secondary_cleaner.state.floatbank3_b_air              16752 non-null float64\n",
      "secondary_cleaner.state.floatbank3_b_level            16750 non-null float64\n",
      "secondary_cleaner.state.floatbank4_a_air              16731 non-null float64\n",
      "secondary_cleaner.state.floatbank4_a_level            16747 non-null float64\n",
      "secondary_cleaner.state.floatbank4_b_air              16768 non-null float64\n",
      "secondary_cleaner.state.floatbank4_b_level            16767 non-null float64\n",
      "secondary_cleaner.state.floatbank5_a_air              16775 non-null float64\n",
      "secondary_cleaner.state.floatbank5_a_level            16775 non-null float64\n",
      "secondary_cleaner.state.floatbank5_b_air              16775 non-null float64\n",
      "secondary_cleaner.state.floatbank5_b_level            16776 non-null float64\n",
      "secondary_cleaner.state.floatbank6_a_air              16757 non-null float64\n",
      "secondary_cleaner.state.floatbank6_a_level            16775 non-null float64\n",
      "dtypes: float64(86), object(1)\n",
      "memory usage: 11.2+ MB\n"
     ]
    }
   ],
   "source": [
    "train.info()"
   ]
  },
  {
   "cell_type": "markdown",
   "metadata": {},
   "source": [
    "Напишем функцию для подсчета пропущенных значений в датасете:"
   ]
  },
  {
   "cell_type": "markdown",
   "metadata": {},
   "source": [
    "Датасет train состоит из 87 столбцов (признаков) и 16860 строк. В датасете присутствуют пропущенные значения.\n",
    "\n",
    "Информация в столбце date имеет тип `object` - категориальный признак, остальные признаки - количественные."
   ]
  },
  {
   "cell_type": "markdown",
   "metadata": {},
   "source": [
    "### Датасет recovery_test"
   ]
  },
  {
   "cell_type": "code",
   "execution_count": 5,
   "metadata": {},
   "outputs": [],
   "source": [
    "test = pd.read_csv('/datasets/gold_recovery_test.csv')"
   ]
  },
  {
   "cell_type": "code",
   "execution_count": 6,
   "metadata": {},
   "outputs": [
    {
     "data": {
      "text/html": [
       "<div>\n",
       "<style scoped>\n",
       "    .dataframe tbody tr th:only-of-type {\n",
       "        vertical-align: middle;\n",
       "    }\n",
       "\n",
       "    .dataframe tbody tr th {\n",
       "        vertical-align: top;\n",
       "    }\n",
       "\n",
       "    .dataframe thead th {\n",
       "        text-align: right;\n",
       "    }\n",
       "</style>\n",
       "<table border=\"1\" class=\"dataframe\">\n",
       "  <thead>\n",
       "    <tr style=\"text-align: right;\">\n",
       "      <th></th>\n",
       "      <th>date</th>\n",
       "      <th>primary_cleaner.input.sulfate</th>\n",
       "      <th>primary_cleaner.input.depressant</th>\n",
       "      <th>primary_cleaner.input.feed_size</th>\n",
       "      <th>primary_cleaner.input.xanthate</th>\n",
       "      <th>primary_cleaner.state.floatbank8_a_air</th>\n",
       "      <th>primary_cleaner.state.floatbank8_a_level</th>\n",
       "      <th>primary_cleaner.state.floatbank8_b_air</th>\n",
       "      <th>primary_cleaner.state.floatbank8_b_level</th>\n",
       "      <th>primary_cleaner.state.floatbank8_c_air</th>\n",
       "      <th>...</th>\n",
       "      <th>secondary_cleaner.state.floatbank4_a_air</th>\n",
       "      <th>secondary_cleaner.state.floatbank4_a_level</th>\n",
       "      <th>secondary_cleaner.state.floatbank4_b_air</th>\n",
       "      <th>secondary_cleaner.state.floatbank4_b_level</th>\n",
       "      <th>secondary_cleaner.state.floatbank5_a_air</th>\n",
       "      <th>secondary_cleaner.state.floatbank5_a_level</th>\n",
       "      <th>secondary_cleaner.state.floatbank5_b_air</th>\n",
       "      <th>secondary_cleaner.state.floatbank5_b_level</th>\n",
       "      <th>secondary_cleaner.state.floatbank6_a_air</th>\n",
       "      <th>secondary_cleaner.state.floatbank6_a_level</th>\n",
       "    </tr>\n",
       "  </thead>\n",
       "  <tbody>\n",
       "    <tr>\n",
       "      <td>0</td>\n",
       "      <td>2016-09-01 00:59:59</td>\n",
       "      <td>210.800909</td>\n",
       "      <td>14.993118</td>\n",
       "      <td>8.080000</td>\n",
       "      <td>1.005021</td>\n",
       "      <td>1398.981301</td>\n",
       "      <td>-500.225577</td>\n",
       "      <td>1399.144926</td>\n",
       "      <td>-499.919735</td>\n",
       "      <td>1400.102998</td>\n",
       "      <td>...</td>\n",
       "      <td>12.023554</td>\n",
       "      <td>-497.795834</td>\n",
       "      <td>8.016656</td>\n",
       "      <td>-501.289139</td>\n",
       "      <td>7.946562</td>\n",
       "      <td>-432.317850</td>\n",
       "      <td>4.872511</td>\n",
       "      <td>-500.037437</td>\n",
       "      <td>26.705889</td>\n",
       "      <td>-499.709414</td>\n",
       "    </tr>\n",
       "    <tr>\n",
       "      <td>1</td>\n",
       "      <td>2016-09-01 01:59:59</td>\n",
       "      <td>215.392455</td>\n",
       "      <td>14.987471</td>\n",
       "      <td>8.080000</td>\n",
       "      <td>0.990469</td>\n",
       "      <td>1398.777912</td>\n",
       "      <td>-500.057435</td>\n",
       "      <td>1398.055362</td>\n",
       "      <td>-499.778182</td>\n",
       "      <td>1396.151033</td>\n",
       "      <td>...</td>\n",
       "      <td>12.058140</td>\n",
       "      <td>-498.695773</td>\n",
       "      <td>8.130979</td>\n",
       "      <td>-499.634209</td>\n",
       "      <td>7.958270</td>\n",
       "      <td>-525.839648</td>\n",
       "      <td>4.878850</td>\n",
       "      <td>-500.162375</td>\n",
       "      <td>25.019940</td>\n",
       "      <td>-499.819438</td>\n",
       "    </tr>\n",
       "    <tr>\n",
       "      <td>2</td>\n",
       "      <td>2016-09-01 02:59:59</td>\n",
       "      <td>215.259946</td>\n",
       "      <td>12.884934</td>\n",
       "      <td>7.786667</td>\n",
       "      <td>0.996043</td>\n",
       "      <td>1398.493666</td>\n",
       "      <td>-500.868360</td>\n",
       "      <td>1398.860436</td>\n",
       "      <td>-499.764529</td>\n",
       "      <td>1398.075709</td>\n",
       "      <td>...</td>\n",
       "      <td>11.962366</td>\n",
       "      <td>-498.767484</td>\n",
       "      <td>8.096893</td>\n",
       "      <td>-500.827423</td>\n",
       "      <td>8.071056</td>\n",
       "      <td>-500.801673</td>\n",
       "      <td>4.905125</td>\n",
       "      <td>-499.828510</td>\n",
       "      <td>24.994862</td>\n",
       "      <td>-500.622559</td>\n",
       "    </tr>\n",
       "    <tr>\n",
       "      <td>3</td>\n",
       "      <td>2016-09-01 03:59:59</td>\n",
       "      <td>215.336236</td>\n",
       "      <td>12.006805</td>\n",
       "      <td>7.640000</td>\n",
       "      <td>0.863514</td>\n",
       "      <td>1399.618111</td>\n",
       "      <td>-498.863574</td>\n",
       "      <td>1397.440120</td>\n",
       "      <td>-499.211024</td>\n",
       "      <td>1400.129303</td>\n",
       "      <td>...</td>\n",
       "      <td>12.033091</td>\n",
       "      <td>-498.350935</td>\n",
       "      <td>8.074946</td>\n",
       "      <td>-499.474407</td>\n",
       "      <td>7.897085</td>\n",
       "      <td>-500.868509</td>\n",
       "      <td>4.931400</td>\n",
       "      <td>-499.963623</td>\n",
       "      <td>24.948919</td>\n",
       "      <td>-498.709987</td>\n",
       "    </tr>\n",
       "    <tr>\n",
       "      <td>4</td>\n",
       "      <td>2016-09-01 04:59:59</td>\n",
       "      <td>199.099327</td>\n",
       "      <td>10.682530</td>\n",
       "      <td>7.530000</td>\n",
       "      <td>0.805575</td>\n",
       "      <td>1401.268123</td>\n",
       "      <td>-500.808305</td>\n",
       "      <td>1398.128818</td>\n",
       "      <td>-499.504543</td>\n",
       "      <td>1402.172226</td>\n",
       "      <td>...</td>\n",
       "      <td>12.025367</td>\n",
       "      <td>-500.786497</td>\n",
       "      <td>8.054678</td>\n",
       "      <td>-500.397500</td>\n",
       "      <td>8.107890</td>\n",
       "      <td>-509.526725</td>\n",
       "      <td>4.957674</td>\n",
       "      <td>-500.360026</td>\n",
       "      <td>25.003331</td>\n",
       "      <td>-500.856333</td>\n",
       "    </tr>\n",
       "  </tbody>\n",
       "</table>\n",
       "<p>5 rows × 53 columns</p>\n",
       "</div>"
      ],
      "text/plain": [
       "                  date  primary_cleaner.input.sulfate  \\\n",
       "0  2016-09-01 00:59:59                     210.800909   \n",
       "1  2016-09-01 01:59:59                     215.392455   \n",
       "2  2016-09-01 02:59:59                     215.259946   \n",
       "3  2016-09-01 03:59:59                     215.336236   \n",
       "4  2016-09-01 04:59:59                     199.099327   \n",
       "\n",
       "   primary_cleaner.input.depressant  primary_cleaner.input.feed_size  \\\n",
       "0                         14.993118                         8.080000   \n",
       "1                         14.987471                         8.080000   \n",
       "2                         12.884934                         7.786667   \n",
       "3                         12.006805                         7.640000   \n",
       "4                         10.682530                         7.530000   \n",
       "\n",
       "   primary_cleaner.input.xanthate  primary_cleaner.state.floatbank8_a_air  \\\n",
       "0                        1.005021                             1398.981301   \n",
       "1                        0.990469                             1398.777912   \n",
       "2                        0.996043                             1398.493666   \n",
       "3                        0.863514                             1399.618111   \n",
       "4                        0.805575                             1401.268123   \n",
       "\n",
       "   primary_cleaner.state.floatbank8_a_level  \\\n",
       "0                               -500.225577   \n",
       "1                               -500.057435   \n",
       "2                               -500.868360   \n",
       "3                               -498.863574   \n",
       "4                               -500.808305   \n",
       "\n",
       "   primary_cleaner.state.floatbank8_b_air  \\\n",
       "0                             1399.144926   \n",
       "1                             1398.055362   \n",
       "2                             1398.860436   \n",
       "3                             1397.440120   \n",
       "4                             1398.128818   \n",
       "\n",
       "   primary_cleaner.state.floatbank8_b_level  \\\n",
       "0                               -499.919735   \n",
       "1                               -499.778182   \n",
       "2                               -499.764529   \n",
       "3                               -499.211024   \n",
       "4                               -499.504543   \n",
       "\n",
       "   primary_cleaner.state.floatbank8_c_air  ...  \\\n",
       "0                             1400.102998  ...   \n",
       "1                             1396.151033  ...   \n",
       "2                             1398.075709  ...   \n",
       "3                             1400.129303  ...   \n",
       "4                             1402.172226  ...   \n",
       "\n",
       "   secondary_cleaner.state.floatbank4_a_air  \\\n",
       "0                                 12.023554   \n",
       "1                                 12.058140   \n",
       "2                                 11.962366   \n",
       "3                                 12.033091   \n",
       "4                                 12.025367   \n",
       "\n",
       "   secondary_cleaner.state.floatbank4_a_level  \\\n",
       "0                                 -497.795834   \n",
       "1                                 -498.695773   \n",
       "2                                 -498.767484   \n",
       "3                                 -498.350935   \n",
       "4                                 -500.786497   \n",
       "\n",
       "   secondary_cleaner.state.floatbank4_b_air  \\\n",
       "0                                  8.016656   \n",
       "1                                  8.130979   \n",
       "2                                  8.096893   \n",
       "3                                  8.074946   \n",
       "4                                  8.054678   \n",
       "\n",
       "   secondary_cleaner.state.floatbank4_b_level  \\\n",
       "0                                 -501.289139   \n",
       "1                                 -499.634209   \n",
       "2                                 -500.827423   \n",
       "3                                 -499.474407   \n",
       "4                                 -500.397500   \n",
       "\n",
       "   secondary_cleaner.state.floatbank5_a_air  \\\n",
       "0                                  7.946562   \n",
       "1                                  7.958270   \n",
       "2                                  8.071056   \n",
       "3                                  7.897085   \n",
       "4                                  8.107890   \n",
       "\n",
       "   secondary_cleaner.state.floatbank5_a_level  \\\n",
       "0                                 -432.317850   \n",
       "1                                 -525.839648   \n",
       "2                                 -500.801673   \n",
       "3                                 -500.868509   \n",
       "4                                 -509.526725   \n",
       "\n",
       "   secondary_cleaner.state.floatbank5_b_air  \\\n",
       "0                                  4.872511   \n",
       "1                                  4.878850   \n",
       "2                                  4.905125   \n",
       "3                                  4.931400   \n",
       "4                                  4.957674   \n",
       "\n",
       "   secondary_cleaner.state.floatbank5_b_level  \\\n",
       "0                                 -500.037437   \n",
       "1                                 -500.162375   \n",
       "2                                 -499.828510   \n",
       "3                                 -499.963623   \n",
       "4                                 -500.360026   \n",
       "\n",
       "   secondary_cleaner.state.floatbank6_a_air  \\\n",
       "0                                 26.705889   \n",
       "1                                 25.019940   \n",
       "2                                 24.994862   \n",
       "3                                 24.948919   \n",
       "4                                 25.003331   \n",
       "\n",
       "   secondary_cleaner.state.floatbank6_a_level  \n",
       "0                                 -499.709414  \n",
       "1                                 -499.819438  \n",
       "2                                 -500.622559  \n",
       "3                                 -498.709987  \n",
       "4                                 -500.856333  \n",
       "\n",
       "[5 rows x 53 columns]"
      ]
     },
     "execution_count": 6,
     "metadata": {},
     "output_type": "execute_result"
    }
   ],
   "source": [
    "test.head(5)"
   ]
  },
  {
   "cell_type": "code",
   "execution_count": 7,
   "metadata": {},
   "outputs": [
    {
     "name": "stdout",
     "output_type": "stream",
     "text": [
      "<class 'pandas.core.frame.DataFrame'>\n",
      "RangeIndex: 5856 entries, 0 to 5855\n",
      "Data columns (total 53 columns):\n",
      "date                                          5856 non-null object\n",
      "primary_cleaner.input.sulfate                 5554 non-null float64\n",
      "primary_cleaner.input.depressant              5572 non-null float64\n",
      "primary_cleaner.input.feed_size               5856 non-null float64\n",
      "primary_cleaner.input.xanthate                5690 non-null float64\n",
      "primary_cleaner.state.floatbank8_a_air        5840 non-null float64\n",
      "primary_cleaner.state.floatbank8_a_level      5840 non-null float64\n",
      "primary_cleaner.state.floatbank8_b_air        5840 non-null float64\n",
      "primary_cleaner.state.floatbank8_b_level      5840 non-null float64\n",
      "primary_cleaner.state.floatbank8_c_air        5840 non-null float64\n",
      "primary_cleaner.state.floatbank8_c_level      5840 non-null float64\n",
      "primary_cleaner.state.floatbank8_d_air        5840 non-null float64\n",
      "primary_cleaner.state.floatbank8_d_level      5840 non-null float64\n",
      "rougher.input.feed_ag                         5840 non-null float64\n",
      "rougher.input.feed_pb                         5840 non-null float64\n",
      "rougher.input.feed_rate                       5816 non-null float64\n",
      "rougher.input.feed_size                       5834 non-null float64\n",
      "rougher.input.feed_sol                        5789 non-null float64\n",
      "rougher.input.feed_au                         5840 non-null float64\n",
      "rougher.input.floatbank10_sulfate             5599 non-null float64\n",
      "rougher.input.floatbank10_xanthate            5733 non-null float64\n",
      "rougher.input.floatbank11_sulfate             5801 non-null float64\n",
      "rougher.input.floatbank11_xanthate            5503 non-null float64\n",
      "rougher.state.floatbank10_a_air               5839 non-null float64\n",
      "rougher.state.floatbank10_a_level             5840 non-null float64\n",
      "rougher.state.floatbank10_b_air               5839 non-null float64\n",
      "rougher.state.floatbank10_b_level             5840 non-null float64\n",
      "rougher.state.floatbank10_c_air               5839 non-null float64\n",
      "rougher.state.floatbank10_c_level             5840 non-null float64\n",
      "rougher.state.floatbank10_d_air               5839 non-null float64\n",
      "rougher.state.floatbank10_d_level             5840 non-null float64\n",
      "rougher.state.floatbank10_e_air               5839 non-null float64\n",
      "rougher.state.floatbank10_e_level             5840 non-null float64\n",
      "rougher.state.floatbank10_f_air               5839 non-null float64\n",
      "rougher.state.floatbank10_f_level             5840 non-null float64\n",
      "secondary_cleaner.state.floatbank2_a_air      5836 non-null float64\n",
      "secondary_cleaner.state.floatbank2_a_level    5840 non-null float64\n",
      "secondary_cleaner.state.floatbank2_b_air      5833 non-null float64\n",
      "secondary_cleaner.state.floatbank2_b_level    5840 non-null float64\n",
      "secondary_cleaner.state.floatbank3_a_air      5822 non-null float64\n",
      "secondary_cleaner.state.floatbank3_a_level    5840 non-null float64\n",
      "secondary_cleaner.state.floatbank3_b_air      5840 non-null float64\n",
      "secondary_cleaner.state.floatbank3_b_level    5840 non-null float64\n",
      "secondary_cleaner.state.floatbank4_a_air      5840 non-null float64\n",
      "secondary_cleaner.state.floatbank4_a_level    5840 non-null float64\n",
      "secondary_cleaner.state.floatbank4_b_air      5840 non-null float64\n",
      "secondary_cleaner.state.floatbank4_b_level    5840 non-null float64\n",
      "secondary_cleaner.state.floatbank5_a_air      5840 non-null float64\n",
      "secondary_cleaner.state.floatbank5_a_level    5840 non-null float64\n",
      "secondary_cleaner.state.floatbank5_b_air      5840 non-null float64\n",
      "secondary_cleaner.state.floatbank5_b_level    5840 non-null float64\n",
      "secondary_cleaner.state.floatbank6_a_air      5840 non-null float64\n",
      "secondary_cleaner.state.floatbank6_a_level    5840 non-null float64\n",
      "dtypes: float64(52), object(1)\n",
      "memory usage: 2.4+ MB\n"
     ]
    }
   ],
   "source": [
    "test.info()"
   ]
  },
  {
   "cell_type": "markdown",
   "metadata": {},
   "source": [
    "Датасет test состоит из 53 столбцов (признаков) и 5856 строк. В датасете присутствуют пропущенные значения.\n",
    "\n",
    "Информация в столбце date имеет тип `object` - категориальный признак, остальные признаки - количественные."
   ]
  },
  {
   "cell_type": "markdown",
   "metadata": {},
   "source": [
    "### Датасет recovery_full"
   ]
  },
  {
   "cell_type": "code",
   "execution_count": 8,
   "metadata": {},
   "outputs": [],
   "source": [
    "full = pd.read_csv('/datasets/gold_recovery_full.csv')"
   ]
  },
  {
   "cell_type": "code",
   "execution_count": 9,
   "metadata": {},
   "outputs": [
    {
     "data": {
      "text/html": [
       "<div>\n",
       "<style scoped>\n",
       "    .dataframe tbody tr th:only-of-type {\n",
       "        vertical-align: middle;\n",
       "    }\n",
       "\n",
       "    .dataframe tbody tr th {\n",
       "        vertical-align: top;\n",
       "    }\n",
       "\n",
       "    .dataframe thead th {\n",
       "        text-align: right;\n",
       "    }\n",
       "</style>\n",
       "<table border=\"1\" class=\"dataframe\">\n",
       "  <thead>\n",
       "    <tr style=\"text-align: right;\">\n",
       "      <th></th>\n",
       "      <th>date</th>\n",
       "      <th>final.output.concentrate_ag</th>\n",
       "      <th>final.output.concentrate_pb</th>\n",
       "      <th>final.output.concentrate_sol</th>\n",
       "      <th>final.output.concentrate_au</th>\n",
       "      <th>final.output.recovery</th>\n",
       "      <th>final.output.tail_ag</th>\n",
       "      <th>final.output.tail_pb</th>\n",
       "      <th>final.output.tail_sol</th>\n",
       "      <th>final.output.tail_au</th>\n",
       "      <th>...</th>\n",
       "      <th>secondary_cleaner.state.floatbank4_a_air</th>\n",
       "      <th>secondary_cleaner.state.floatbank4_a_level</th>\n",
       "      <th>secondary_cleaner.state.floatbank4_b_air</th>\n",
       "      <th>secondary_cleaner.state.floatbank4_b_level</th>\n",
       "      <th>secondary_cleaner.state.floatbank5_a_air</th>\n",
       "      <th>secondary_cleaner.state.floatbank5_a_level</th>\n",
       "      <th>secondary_cleaner.state.floatbank5_b_air</th>\n",
       "      <th>secondary_cleaner.state.floatbank5_b_level</th>\n",
       "      <th>secondary_cleaner.state.floatbank6_a_air</th>\n",
       "      <th>secondary_cleaner.state.floatbank6_a_level</th>\n",
       "    </tr>\n",
       "  </thead>\n",
       "  <tbody>\n",
       "    <tr>\n",
       "      <td>0</td>\n",
       "      <td>2016-01-15 00:00:00</td>\n",
       "      <td>6.055403</td>\n",
       "      <td>9.889648</td>\n",
       "      <td>5.507324</td>\n",
       "      <td>42.192020</td>\n",
       "      <td>70.541216</td>\n",
       "      <td>10.411962</td>\n",
       "      <td>0.895447</td>\n",
       "      <td>16.904297</td>\n",
       "      <td>2.143149</td>\n",
       "      <td>...</td>\n",
       "      <td>14.016835</td>\n",
       "      <td>-502.488007</td>\n",
       "      <td>12.099931</td>\n",
       "      <td>-504.715942</td>\n",
       "      <td>9.925633</td>\n",
       "      <td>-498.310211</td>\n",
       "      <td>8.079666</td>\n",
       "      <td>-500.470978</td>\n",
       "      <td>14.151341</td>\n",
       "      <td>-605.841980</td>\n",
       "    </tr>\n",
       "    <tr>\n",
       "      <td>1</td>\n",
       "      <td>2016-01-15 01:00:00</td>\n",
       "      <td>6.029369</td>\n",
       "      <td>9.968944</td>\n",
       "      <td>5.257781</td>\n",
       "      <td>42.701629</td>\n",
       "      <td>69.266198</td>\n",
       "      <td>10.462676</td>\n",
       "      <td>0.927452</td>\n",
       "      <td>16.634514</td>\n",
       "      <td>2.224930</td>\n",
       "      <td>...</td>\n",
       "      <td>13.992281</td>\n",
       "      <td>-505.503262</td>\n",
       "      <td>11.950531</td>\n",
       "      <td>-501.331529</td>\n",
       "      <td>10.039245</td>\n",
       "      <td>-500.169983</td>\n",
       "      <td>7.984757</td>\n",
       "      <td>-500.582168</td>\n",
       "      <td>13.998353</td>\n",
       "      <td>-599.787184</td>\n",
       "    </tr>\n",
       "    <tr>\n",
       "      <td>2</td>\n",
       "      <td>2016-01-15 02:00:00</td>\n",
       "      <td>6.055926</td>\n",
       "      <td>10.213995</td>\n",
       "      <td>5.383759</td>\n",
       "      <td>42.657501</td>\n",
       "      <td>68.116445</td>\n",
       "      <td>10.507046</td>\n",
       "      <td>0.953716</td>\n",
       "      <td>16.208849</td>\n",
       "      <td>2.257889</td>\n",
       "      <td>...</td>\n",
       "      <td>14.015015</td>\n",
       "      <td>-502.520901</td>\n",
       "      <td>11.912783</td>\n",
       "      <td>-501.133383</td>\n",
       "      <td>10.070913</td>\n",
       "      <td>-500.129135</td>\n",
       "      <td>8.013877</td>\n",
       "      <td>-500.517572</td>\n",
       "      <td>14.028663</td>\n",
       "      <td>-601.427363</td>\n",
       "    </tr>\n",
       "  </tbody>\n",
       "</table>\n",
       "<p>3 rows × 87 columns</p>\n",
       "</div>"
      ],
      "text/plain": [
       "                  date  final.output.concentrate_ag  \\\n",
       "0  2016-01-15 00:00:00                     6.055403   \n",
       "1  2016-01-15 01:00:00                     6.029369   \n",
       "2  2016-01-15 02:00:00                     6.055926   \n",
       "\n",
       "   final.output.concentrate_pb  final.output.concentrate_sol  \\\n",
       "0                     9.889648                      5.507324   \n",
       "1                     9.968944                      5.257781   \n",
       "2                    10.213995                      5.383759   \n",
       "\n",
       "   final.output.concentrate_au  final.output.recovery  final.output.tail_ag  \\\n",
       "0                    42.192020              70.541216             10.411962   \n",
       "1                    42.701629              69.266198             10.462676   \n",
       "2                    42.657501              68.116445             10.507046   \n",
       "\n",
       "   final.output.tail_pb  final.output.tail_sol  final.output.tail_au  ...  \\\n",
       "0              0.895447              16.904297              2.143149  ...   \n",
       "1              0.927452              16.634514              2.224930  ...   \n",
       "2              0.953716              16.208849              2.257889  ...   \n",
       "\n",
       "   secondary_cleaner.state.floatbank4_a_air  \\\n",
       "0                                 14.016835   \n",
       "1                                 13.992281   \n",
       "2                                 14.015015   \n",
       "\n",
       "   secondary_cleaner.state.floatbank4_a_level  \\\n",
       "0                                 -502.488007   \n",
       "1                                 -505.503262   \n",
       "2                                 -502.520901   \n",
       "\n",
       "   secondary_cleaner.state.floatbank4_b_air  \\\n",
       "0                                 12.099931   \n",
       "1                                 11.950531   \n",
       "2                                 11.912783   \n",
       "\n",
       "   secondary_cleaner.state.floatbank4_b_level  \\\n",
       "0                                 -504.715942   \n",
       "1                                 -501.331529   \n",
       "2                                 -501.133383   \n",
       "\n",
       "   secondary_cleaner.state.floatbank5_a_air  \\\n",
       "0                                  9.925633   \n",
       "1                                 10.039245   \n",
       "2                                 10.070913   \n",
       "\n",
       "   secondary_cleaner.state.floatbank5_a_level  \\\n",
       "0                                 -498.310211   \n",
       "1                                 -500.169983   \n",
       "2                                 -500.129135   \n",
       "\n",
       "   secondary_cleaner.state.floatbank5_b_air  \\\n",
       "0                                  8.079666   \n",
       "1                                  7.984757   \n",
       "2                                  8.013877   \n",
       "\n",
       "   secondary_cleaner.state.floatbank5_b_level  \\\n",
       "0                                 -500.470978   \n",
       "1                                 -500.582168   \n",
       "2                                 -500.517572   \n",
       "\n",
       "   secondary_cleaner.state.floatbank6_a_air  \\\n",
       "0                                 14.151341   \n",
       "1                                 13.998353   \n",
       "2                                 14.028663   \n",
       "\n",
       "   secondary_cleaner.state.floatbank6_a_level  \n",
       "0                                 -605.841980  \n",
       "1                                 -599.787184  \n",
       "2                                 -601.427363  \n",
       "\n",
       "[3 rows x 87 columns]"
      ]
     },
     "execution_count": 9,
     "metadata": {},
     "output_type": "execute_result"
    }
   ],
   "source": [
    "full.head(3)"
   ]
  },
  {
   "cell_type": "code",
   "execution_count": 10,
   "metadata": {},
   "outputs": [
    {
     "name": "stdout",
     "output_type": "stream",
     "text": [
      "<class 'pandas.core.frame.DataFrame'>\n",
      "RangeIndex: 22716 entries, 0 to 22715\n",
      "Data columns (total 87 columns):\n",
      "date                                                  22716 non-null object\n",
      "final.output.concentrate_ag                           22627 non-null float64\n",
      "final.output.concentrate_pb                           22629 non-null float64\n",
      "final.output.concentrate_sol                          22331 non-null float64\n",
      "final.output.concentrate_au                           22630 non-null float64\n",
      "final.output.recovery                                 20753 non-null float64\n",
      "final.output.tail_ag                                  22633 non-null float64\n",
      "final.output.tail_pb                                  22516 non-null float64\n",
      "final.output.tail_sol                                 22445 non-null float64\n",
      "final.output.tail_au                                  22635 non-null float64\n",
      "primary_cleaner.input.sulfate                         21107 non-null float64\n",
      "primary_cleaner.input.depressant                      21170 non-null float64\n",
      "primary_cleaner.input.feed_size                       22716 non-null float64\n",
      "primary_cleaner.input.xanthate                        21565 non-null float64\n",
      "primary_cleaner.output.concentrate_ag                 22618 non-null float64\n",
      "primary_cleaner.output.concentrate_pb                 22268 non-null float64\n",
      "primary_cleaner.output.concentrate_sol                21918 non-null float64\n",
      "primary_cleaner.output.concentrate_au                 22618 non-null float64\n",
      "primary_cleaner.output.tail_ag                        22614 non-null float64\n",
      "primary_cleaner.output.tail_pb                        22594 non-null float64\n",
      "primary_cleaner.output.tail_sol                       22365 non-null float64\n",
      "primary_cleaner.output.tail_au                        22617 non-null float64\n",
      "primary_cleaner.state.floatbank8_a_air                22660 non-null float64\n",
      "primary_cleaner.state.floatbank8_a_level              22667 non-null float64\n",
      "primary_cleaner.state.floatbank8_b_air                22660 non-null float64\n",
      "primary_cleaner.state.floatbank8_b_level              22673 non-null float64\n",
      "primary_cleaner.state.floatbank8_c_air                22662 non-null float64\n",
      "primary_cleaner.state.floatbank8_c_level              22673 non-null float64\n",
      "primary_cleaner.state.floatbank8_d_air                22661 non-null float64\n",
      "primary_cleaner.state.floatbank8_d_level              22673 non-null float64\n",
      "rougher.calculation.sulfate_to_au_concentrate         22672 non-null float64\n",
      "rougher.calculation.floatbank10_sulfate_to_au_feed    22672 non-null float64\n",
      "rougher.calculation.floatbank11_sulfate_to_au_feed    22672 non-null float64\n",
      "rougher.calculation.au_pb_ratio                       21089 non-null float64\n",
      "rougher.input.feed_ag                                 22618 non-null float64\n",
      "rougher.input.feed_pb                                 22472 non-null float64\n",
      "rougher.input.feed_rate                               22163 non-null float64\n",
      "rougher.input.feed_size                               22277 non-null float64\n",
      "rougher.input.feed_sol                                22357 non-null float64\n",
      "rougher.input.feed_au                                 22617 non-null float64\n",
      "rougher.input.floatbank10_sulfate                     21415 non-null float64\n",
      "rougher.input.floatbank10_xanthate                    22247 non-null float64\n",
      "rougher.input.floatbank11_sulfate                     22038 non-null float64\n",
      "rougher.input.floatbank11_xanthate                    20459 non-null float64\n",
      "rougher.output.concentrate_ag                         22618 non-null float64\n",
      "rougher.output.concentrate_pb                         22618 non-null float64\n",
      "rougher.output.concentrate_sol                        22526 non-null float64\n",
      "rougher.output.concentrate_au                         22618 non-null float64\n",
      "rougher.output.recovery                               19597 non-null float64\n",
      "rougher.output.tail_ag                                19979 non-null float64\n",
      "rougher.output.tail_pb                                22618 non-null float64\n",
      "rougher.output.tail_sol                               19980 non-null float64\n",
      "rougher.output.tail_au                                19980 non-null float64\n",
      "rougher.state.floatbank10_a_air                       22646 non-null float64\n",
      "rougher.state.floatbank10_a_level                     22647 non-null float64\n",
      "rougher.state.floatbank10_b_air                       22646 non-null float64\n",
      "rougher.state.floatbank10_b_level                     22647 non-null float64\n",
      "rougher.state.floatbank10_c_air                       22646 non-null float64\n",
      "rougher.state.floatbank10_c_level                     22654 non-null float64\n",
      "rougher.state.floatbank10_d_air                       22641 non-null float64\n",
      "rougher.state.floatbank10_d_level                     22649 non-null float64\n",
      "rougher.state.floatbank10_e_air                       22096 non-null float64\n",
      "rougher.state.floatbank10_e_level                     22649 non-null float64\n",
      "rougher.state.floatbank10_f_air                       22641 non-null float64\n",
      "rougher.state.floatbank10_f_level                     22642 non-null float64\n",
      "secondary_cleaner.output.tail_ag                      22616 non-null float64\n",
      "secondary_cleaner.output.tail_pb                      22600 non-null float64\n",
      "secondary_cleaner.output.tail_sol                     20501 non-null float64\n",
      "secondary_cleaner.output.tail_au                      22618 non-null float64\n",
      "secondary_cleaner.state.floatbank2_a_air              22333 non-null float64\n",
      "secondary_cleaner.state.floatbank2_a_level            22591 non-null float64\n",
      "secondary_cleaner.state.floatbank2_b_air              22538 non-null float64\n",
      "secondary_cleaner.state.floatbank2_b_level            22588 non-null float64\n",
      "secondary_cleaner.state.floatbank3_a_air              22585 non-null float64\n",
      "secondary_cleaner.state.floatbank3_a_level            22587 non-null float64\n",
      "secondary_cleaner.state.floatbank3_b_air              22592 non-null float64\n",
      "secondary_cleaner.state.floatbank3_b_level            22590 non-null float64\n",
      "secondary_cleaner.state.floatbank4_a_air              22571 non-null float64\n",
      "secondary_cleaner.state.floatbank4_a_level            22587 non-null float64\n",
      "secondary_cleaner.state.floatbank4_b_air              22608 non-null float64\n",
      "secondary_cleaner.state.floatbank4_b_level            22607 non-null float64\n",
      "secondary_cleaner.state.floatbank5_a_air              22615 non-null float64\n",
      "secondary_cleaner.state.floatbank5_a_level            22615 non-null float64\n",
      "secondary_cleaner.state.floatbank5_b_air              22615 non-null float64\n",
      "secondary_cleaner.state.floatbank5_b_level            22616 non-null float64\n",
      "secondary_cleaner.state.floatbank6_a_air              22597 non-null float64\n",
      "secondary_cleaner.state.floatbank6_a_level            22615 non-null float64\n",
      "dtypes: float64(86), object(1)\n",
      "memory usage: 15.1+ MB\n"
     ]
    }
   ],
   "source": [
    "full.info()"
   ]
  },
  {
   "cell_type": "markdown",
   "metadata": {},
   "source": [
    "Датасет full состоит из 87 столбцов (признаков) и 22716 строк. В датасете присутствуют пропущенные значения.\n",
    "\n",
    "Информация в столбце date имеет тип `object` - категориальный признак, остальные признаки - количественные."
   ]
  },
  {
   "cell_type": "markdown",
   "metadata": {},
   "source": [
    "### Проверка расчета эффективности обогащения признака rougher.output.recovery"
   ]
  },
  {
   "cell_type": "markdown",
   "metadata": {},
   "source": [
    "Необходимо найти MAE между расчётами и значением признака."
   ]
  },
  {
   "cell_type": "markdown",
   "metadata": {},
   "source": [
    "По условиям задания значение Recovery рассчитывается следующим образом:"
   ]
  },
  {
   "cell_type": "markdown",
   "metadata": {},
   "source": [
    "Recovery = (C x (F - T)) / (F x (C - T)) x 100%,\n",
    "\n",
    "где:\n",
    "<li>C — доля золота в концентрате после флотации/очистки;</li>\n",
    "<li>F — доля золота в сырье/концентрате до флотации/очистки;</li>\n",
    "<li>T — доля золота в отвальных хвостах после флотации/очистки/</li>"
   ]
  },
  {
   "cell_type": "markdown",
   "metadata": {},
   "source": [
    "Для расчета Recovery используем следующие признаки:\n",
    "<li>C — rougher.output.concentrate_au (продукт после стадии флотации);</li>\n",
    "<li>F — rougher.input.feed_au (исходное сырье);</li>\n",
    "<li>T — rougher.output.tail_au</li>"
   ]
  },
  {
   "cell_type": "code",
   "execution_count": 11,
   "metadata": {},
   "outputs": [],
   "source": [
    "C = train['rougher.output.concentrate_au']\n",
    "F = train['rougher.input.feed_au']\n",
    "T = train['rougher.output.tail_au']"
   ]
  },
  {
   "cell_type": "markdown",
   "metadata": {},
   "source": [
    "Рассчитаем значение Recovery по формуле и выведем результат:"
   ]
  },
  {
   "cell_type": "code",
   "execution_count": 12,
   "metadata": {},
   "outputs": [
    {
     "data": {
      "text/plain": [
       "0    87.107763\n",
       "1    86.843261\n",
       "2    86.842308\n",
       "3    87.226430\n",
       "4    86.688794\n",
       "Name: rougher.output.recovery.calculate, dtype: float64"
      ]
     },
     "execution_count": 12,
     "metadata": {},
     "output_type": "execute_result"
    }
   ],
   "source": [
    "train['rougher.output.recovery.calculate'] = (C * (F - T)) / (F * (C - T)) * 100\n",
    "train['rougher.output.recovery.calculate'].head(5)"
   ]
  },
  {
   "cell_type": "markdown",
   "metadata": {},
   "source": [
    "Выведем значение признака rougher.output.recovery:"
   ]
  },
  {
   "cell_type": "code",
   "execution_count": 13,
   "metadata": {},
   "outputs": [
    {
     "data": {
      "text/plain": [
       "0    87.107763\n",
       "1    86.843261\n",
       "2    86.842308\n",
       "3    87.226430\n",
       "4    86.688794\n",
       "Name: rougher.output.recovery, dtype: float64"
      ]
     },
     "execution_count": 13,
     "metadata": {},
     "output_type": "execute_result"
    }
   ],
   "source": [
    "train['rougher.output.recovery'].head(5)"
   ]
  },
  {
   "cell_type": "markdown",
   "metadata": {},
   "source": [
    "Для выполнения расчета метрики MAE создадим копию датасета train и удалим пропущенные значения:"
   ]
  },
  {
   "cell_type": "code",
   "execution_count": 14,
   "metadata": {},
   "outputs": [],
   "source": [
    "train_copy = train.copy(deep=True)"
   ]
  },
  {
   "cell_type": "code",
   "execution_count": 15,
   "metadata": {},
   "outputs": [],
   "source": [
    "train_copy.dropna(inplace = True)"
   ]
  },
  {
   "cell_type": "markdown",
   "metadata": {},
   "source": [
    "Посчитаем метрику MAE между между расчётом rougher.output.recovery.calculate и значением признака rougher.output.recovery:"
   ]
  },
  {
   "cell_type": "code",
   "execution_count": 16,
   "metadata": {},
   "outputs": [
    {
     "data": {
      "text/plain": [
       "9.555596961987514e-15"
      ]
     },
     "execution_count": 16,
     "metadata": {},
     "output_type": "execute_result"
    }
   ],
   "source": [
    "mae = mean_absolute_error(train_copy['rougher.output.recovery'], train_copy['rougher.output.recovery.calculate'])\n",
    "mae"
   ]
  },
  {
   "cell_type": "markdown",
   "metadata": {},
   "source": [
    "MAE - вычисляет среднюю абсолютную погрешность; чем меньше значение MSE, тем меньше погрешность.\n",
    "\n",
    "В данном случае значение MAE 9.56e-15 крайне мало - это свидетельствкет о том, что эффективность обогащения рассчитана правильно."
   ]
  },
  {
   "cell_type": "markdown",
   "metadata": {},
   "source": [
    "### Анализ признаков, недоступных в тестовой выборке"
   ]
  },
  {
   "cell_type": "markdown",
   "metadata": {},
   "source": [
    "Датасет train содержит 87 признаков, датасет test 53 признака. Таким образом, разница составляет 34 признака."
   ]
  },
  {
   "cell_type": "markdown",
   "metadata": {},
   "source": [
    "Найдем признаки, отсутствующие в тестовой выборке:"
   ]
  },
  {
   "cell_type": "code",
   "execution_count": 17,
   "metadata": {},
   "outputs": [
    {
     "name": "stdout",
     "output_type": "stream",
     "text": [
      "Признаки, недоступные в тестовой выборке:\n"
     ]
    },
    {
     "data": {
      "text/plain": [
       "{'final.output.concentrate_ag',\n",
       " 'final.output.concentrate_au',\n",
       " 'final.output.concentrate_pb',\n",
       " 'final.output.concentrate_sol',\n",
       " 'final.output.recovery',\n",
       " 'final.output.tail_ag',\n",
       " 'final.output.tail_au',\n",
       " 'final.output.tail_pb',\n",
       " 'final.output.tail_sol',\n",
       " 'primary_cleaner.output.concentrate_ag',\n",
       " 'primary_cleaner.output.concentrate_au',\n",
       " 'primary_cleaner.output.concentrate_pb',\n",
       " 'primary_cleaner.output.concentrate_sol',\n",
       " 'primary_cleaner.output.tail_ag',\n",
       " 'primary_cleaner.output.tail_au',\n",
       " 'primary_cleaner.output.tail_pb',\n",
       " 'primary_cleaner.output.tail_sol',\n",
       " 'rougher.calculation.au_pb_ratio',\n",
       " 'rougher.calculation.floatbank10_sulfate_to_au_feed',\n",
       " 'rougher.calculation.floatbank11_sulfate_to_au_feed',\n",
       " 'rougher.calculation.sulfate_to_au_concentrate',\n",
       " 'rougher.output.concentrate_ag',\n",
       " 'rougher.output.concentrate_au',\n",
       " 'rougher.output.concentrate_pb',\n",
       " 'rougher.output.concentrate_sol',\n",
       " 'rougher.output.recovery',\n",
       " 'rougher.output.recovery.calculate',\n",
       " 'rougher.output.tail_ag',\n",
       " 'rougher.output.tail_au',\n",
       " 'rougher.output.tail_pb',\n",
       " 'rougher.output.tail_sol',\n",
       " 'secondary_cleaner.output.tail_ag',\n",
       " 'secondary_cleaner.output.tail_au',\n",
       " 'secondary_cleaner.output.tail_pb',\n",
       " 'secondary_cleaner.output.tail_sol'}"
      ]
     },
     "execution_count": 17,
     "metadata": {},
     "output_type": "execute_result"
    }
   ],
   "source": [
    "print('Признаки, недоступные в тестовой выборке:')\n",
    "set(train) - set(test)"
   ]
  },
  {
   "cell_type": "markdown",
   "metadata": {},
   "source": [
    "В тестовой выборке отсутствуют следующие признаки:\n",
    "<li>final.output - финальные параметры продукта;</li>\n",
    "<li>primary_cleaner.output - продукты, получаемые после первичной очистки;</li>\n",
    "<li>rougher.calculation - расчетные характеристики исходного сырья</li>\n",
    "<li>rougher.output - \"отвальные хвосты\" после стадии флотации;</li>\n",
    "<li>secondary_cleaner.output - \"отвальные хвосты\", получаемые после вторичной очистки.</li>\n",
    "\n",
    "Т.е. недоступны признаки output (параметры продукта) и calculation (расчётные характеристики). В основном это рассчитываемые показатели, которые можно получить, имея формулы для рассчета.\n",
    "\n",
    "Кроме того, отсутствуют целевые признаки:\n",
    "<li>rougher.output.recovery — эффективность обогащения чернового концентрата;</li>\n",
    "<li>final.output.recovery — эффективность обогащения финального концентрата.</li> "
   ]
  },
  {
   "cell_type": "markdown",
   "metadata": {},
   "source": [
    "### Предобработка данных"
   ]
  },
  {
   "cell_type": "markdown",
   "metadata": {},
   "source": [
    "**Приведение к нужному типу данных**"
   ]
  },
  {
   "cell_type": "markdown",
   "metadata": {},
   "source": [
    "Во всех трёх датасетах значения в столбце date имеют тип `object`. Изменим тип данных на `datetime`:"
   ]
  },
  {
   "cell_type": "code",
   "execution_count": 18,
   "metadata": {},
   "outputs": [],
   "source": [
    "train['date'] = pd.to_datetime(train['date'], format='%Y-%m-%d %H:%M:%S')\n",
    "#train.info()"
   ]
  },
  {
   "cell_type": "code",
   "execution_count": 19,
   "metadata": {},
   "outputs": [],
   "source": [
    "test['date'] = pd.to_datetime(test['date'], format='%Y-%m-%d %H:%M:%S')\n",
    "#test.info()"
   ]
  },
  {
   "cell_type": "code",
   "execution_count": 20,
   "metadata": {},
   "outputs": [],
   "source": [
    "full['date'] = pd.to_datetime(full['date'], format='%Y-%m-%d %H:%M:%S')\n",
    "#full.info()"
   ]
  },
  {
   "cell_type": "markdown",
   "metadata": {},
   "source": [
    "**Обработка пропущенных значений**"
   ]
  },
  {
   "cell_type": "markdown",
   "metadata": {},
   "source": [
    "Напишем функцию для подсчета пропущенных значений в датасете:"
   ]
  },
  {
   "cell_type": "code",
   "execution_count": 21,
   "metadata": {},
   "outputs": [],
   "source": [
    "def isna_sum(data):\n",
    "    isna = data.isna().sum()\n",
    "    isna_percent = round((100 * data.isna().sum() / len(data)), 2)\n",
    "    table = pd.concat([isna, isna_percent], axis=1)\n",
    "    table = table.rename(columns = {0 : 'total_nan', 1 : 'percent'})\n",
    "    return table"
   ]
  },
  {
   "cell_type": "code",
   "execution_count": 22,
   "metadata": {},
   "outputs": [
    {
     "data": {
      "text/html": [
       "<div>\n",
       "<style scoped>\n",
       "    .dataframe tbody tr th:only-of-type {\n",
       "        vertical-align: middle;\n",
       "    }\n",
       "\n",
       "    .dataframe tbody tr th {\n",
       "        vertical-align: top;\n",
       "    }\n",
       "\n",
       "    .dataframe thead th {\n",
       "        text-align: right;\n",
       "    }\n",
       "</style>\n",
       "<table border=\"1\" class=\"dataframe\">\n",
       "  <thead>\n",
       "    <tr style=\"text-align: right;\">\n",
       "      <th></th>\n",
       "      <th>total_nan</th>\n",
       "      <th>percent</th>\n",
       "    </tr>\n",
       "  </thead>\n",
       "  <tbody>\n",
       "    <tr>\n",
       "      <td>date</td>\n",
       "      <td>0</td>\n",
       "      <td>0.00</td>\n",
       "    </tr>\n",
       "    <tr>\n",
       "      <td>final.output.concentrate_ag</td>\n",
       "      <td>72</td>\n",
       "      <td>0.43</td>\n",
       "    </tr>\n",
       "    <tr>\n",
       "      <td>final.output.concentrate_pb</td>\n",
       "      <td>72</td>\n",
       "      <td>0.43</td>\n",
       "    </tr>\n",
       "    <tr>\n",
       "      <td>final.output.concentrate_sol</td>\n",
       "      <td>370</td>\n",
       "      <td>2.19</td>\n",
       "    </tr>\n",
       "    <tr>\n",
       "      <td>final.output.concentrate_au</td>\n",
       "      <td>71</td>\n",
       "      <td>0.42</td>\n",
       "    </tr>\n",
       "    <tr>\n",
       "      <td>...</td>\n",
       "      <td>...</td>\n",
       "      <td>...</td>\n",
       "    </tr>\n",
       "    <tr>\n",
       "      <td>secondary_cleaner.state.floatbank5_b_air</td>\n",
       "      <td>85</td>\n",
       "      <td>0.50</td>\n",
       "    </tr>\n",
       "    <tr>\n",
       "      <td>secondary_cleaner.state.floatbank5_b_level</td>\n",
       "      <td>84</td>\n",
       "      <td>0.50</td>\n",
       "    </tr>\n",
       "    <tr>\n",
       "      <td>secondary_cleaner.state.floatbank6_a_air</td>\n",
       "      <td>103</td>\n",
       "      <td>0.61</td>\n",
       "    </tr>\n",
       "    <tr>\n",
       "      <td>secondary_cleaner.state.floatbank6_a_level</td>\n",
       "      <td>85</td>\n",
       "      <td>0.50</td>\n",
       "    </tr>\n",
       "    <tr>\n",
       "      <td>rougher.output.recovery.calculate</td>\n",
       "      <td>2283</td>\n",
       "      <td>13.54</td>\n",
       "    </tr>\n",
       "  </tbody>\n",
       "</table>\n",
       "<p>88 rows × 2 columns</p>\n",
       "</div>"
      ],
      "text/plain": [
       "                                            total_nan  percent\n",
       "date                                                0     0.00\n",
       "final.output.concentrate_ag                        72     0.43\n",
       "final.output.concentrate_pb                        72     0.43\n",
       "final.output.concentrate_sol                      370     2.19\n",
       "final.output.concentrate_au                        71     0.42\n",
       "...                                               ...      ...\n",
       "secondary_cleaner.state.floatbank5_b_air           85     0.50\n",
       "secondary_cleaner.state.floatbank5_b_level         84     0.50\n",
       "secondary_cleaner.state.floatbank6_a_air          103     0.61\n",
       "secondary_cleaner.state.floatbank6_a_level         85     0.50\n",
       "rougher.output.recovery.calculate                2283    13.54\n",
       "\n",
       "[88 rows x 2 columns]"
      ]
     },
     "execution_count": 22,
     "metadata": {},
     "output_type": "execute_result"
    }
   ],
   "source": [
    "isna_sum(train)"
   ]
  },
  {
   "cell_type": "code",
   "execution_count": 23,
   "metadata": {},
   "outputs": [
    {
     "data": {
      "text/html": [
       "<div>\n",
       "<style scoped>\n",
       "    .dataframe tbody tr th:only-of-type {\n",
       "        vertical-align: middle;\n",
       "    }\n",
       "\n",
       "    .dataframe tbody tr th {\n",
       "        vertical-align: top;\n",
       "    }\n",
       "\n",
       "    .dataframe thead th {\n",
       "        text-align: right;\n",
       "    }\n",
       "</style>\n",
       "<table border=\"1\" class=\"dataframe\">\n",
       "  <thead>\n",
       "    <tr style=\"text-align: right;\">\n",
       "      <th></th>\n",
       "      <th>total_nan</th>\n",
       "      <th>percent</th>\n",
       "    </tr>\n",
       "  </thead>\n",
       "  <tbody>\n",
       "    <tr>\n",
       "      <td>date</td>\n",
       "      <td>0</td>\n",
       "      <td>0.00</td>\n",
       "    </tr>\n",
       "    <tr>\n",
       "      <td>primary_cleaner.input.sulfate</td>\n",
       "      <td>302</td>\n",
       "      <td>5.16</td>\n",
       "    </tr>\n",
       "    <tr>\n",
       "      <td>primary_cleaner.input.depressant</td>\n",
       "      <td>284</td>\n",
       "      <td>4.85</td>\n",
       "    </tr>\n",
       "    <tr>\n",
       "      <td>primary_cleaner.input.feed_size</td>\n",
       "      <td>0</td>\n",
       "      <td>0.00</td>\n",
       "    </tr>\n",
       "    <tr>\n",
       "      <td>primary_cleaner.input.xanthate</td>\n",
       "      <td>166</td>\n",
       "      <td>2.83</td>\n",
       "    </tr>\n",
       "    <tr>\n",
       "      <td>primary_cleaner.state.floatbank8_a_air</td>\n",
       "      <td>16</td>\n",
       "      <td>0.27</td>\n",
       "    </tr>\n",
       "    <tr>\n",
       "      <td>primary_cleaner.state.floatbank8_a_level</td>\n",
       "      <td>16</td>\n",
       "      <td>0.27</td>\n",
       "    </tr>\n",
       "    <tr>\n",
       "      <td>primary_cleaner.state.floatbank8_b_air</td>\n",
       "      <td>16</td>\n",
       "      <td>0.27</td>\n",
       "    </tr>\n",
       "    <tr>\n",
       "      <td>primary_cleaner.state.floatbank8_b_level</td>\n",
       "      <td>16</td>\n",
       "      <td>0.27</td>\n",
       "    </tr>\n",
       "    <tr>\n",
       "      <td>primary_cleaner.state.floatbank8_c_air</td>\n",
       "      <td>16</td>\n",
       "      <td>0.27</td>\n",
       "    </tr>\n",
       "    <tr>\n",
       "      <td>primary_cleaner.state.floatbank8_c_level</td>\n",
       "      <td>16</td>\n",
       "      <td>0.27</td>\n",
       "    </tr>\n",
       "    <tr>\n",
       "      <td>primary_cleaner.state.floatbank8_d_air</td>\n",
       "      <td>16</td>\n",
       "      <td>0.27</td>\n",
       "    </tr>\n",
       "    <tr>\n",
       "      <td>primary_cleaner.state.floatbank8_d_level</td>\n",
       "      <td>16</td>\n",
       "      <td>0.27</td>\n",
       "    </tr>\n",
       "    <tr>\n",
       "      <td>rougher.input.feed_ag</td>\n",
       "      <td>16</td>\n",
       "      <td>0.27</td>\n",
       "    </tr>\n",
       "    <tr>\n",
       "      <td>rougher.input.feed_pb</td>\n",
       "      <td>16</td>\n",
       "      <td>0.27</td>\n",
       "    </tr>\n",
       "    <tr>\n",
       "      <td>rougher.input.feed_rate</td>\n",
       "      <td>40</td>\n",
       "      <td>0.68</td>\n",
       "    </tr>\n",
       "    <tr>\n",
       "      <td>rougher.input.feed_size</td>\n",
       "      <td>22</td>\n",
       "      <td>0.38</td>\n",
       "    </tr>\n",
       "    <tr>\n",
       "      <td>rougher.input.feed_sol</td>\n",
       "      <td>67</td>\n",
       "      <td>1.14</td>\n",
       "    </tr>\n",
       "    <tr>\n",
       "      <td>rougher.input.feed_au</td>\n",
       "      <td>16</td>\n",
       "      <td>0.27</td>\n",
       "    </tr>\n",
       "    <tr>\n",
       "      <td>rougher.input.floatbank10_sulfate</td>\n",
       "      <td>257</td>\n",
       "      <td>4.39</td>\n",
       "    </tr>\n",
       "    <tr>\n",
       "      <td>rougher.input.floatbank10_xanthate</td>\n",
       "      <td>123</td>\n",
       "      <td>2.10</td>\n",
       "    </tr>\n",
       "    <tr>\n",
       "      <td>rougher.input.floatbank11_sulfate</td>\n",
       "      <td>55</td>\n",
       "      <td>0.94</td>\n",
       "    </tr>\n",
       "    <tr>\n",
       "      <td>rougher.input.floatbank11_xanthate</td>\n",
       "      <td>353</td>\n",
       "      <td>6.03</td>\n",
       "    </tr>\n",
       "    <tr>\n",
       "      <td>rougher.state.floatbank10_a_air</td>\n",
       "      <td>17</td>\n",
       "      <td>0.29</td>\n",
       "    </tr>\n",
       "    <tr>\n",
       "      <td>rougher.state.floatbank10_a_level</td>\n",
       "      <td>16</td>\n",
       "      <td>0.27</td>\n",
       "    </tr>\n",
       "    <tr>\n",
       "      <td>rougher.state.floatbank10_b_air</td>\n",
       "      <td>17</td>\n",
       "      <td>0.29</td>\n",
       "    </tr>\n",
       "    <tr>\n",
       "      <td>rougher.state.floatbank10_b_level</td>\n",
       "      <td>16</td>\n",
       "      <td>0.27</td>\n",
       "    </tr>\n",
       "    <tr>\n",
       "      <td>rougher.state.floatbank10_c_air</td>\n",
       "      <td>17</td>\n",
       "      <td>0.29</td>\n",
       "    </tr>\n",
       "    <tr>\n",
       "      <td>rougher.state.floatbank10_c_level</td>\n",
       "      <td>16</td>\n",
       "      <td>0.27</td>\n",
       "    </tr>\n",
       "    <tr>\n",
       "      <td>rougher.state.floatbank10_d_air</td>\n",
       "      <td>17</td>\n",
       "      <td>0.29</td>\n",
       "    </tr>\n",
       "    <tr>\n",
       "      <td>rougher.state.floatbank10_d_level</td>\n",
       "      <td>16</td>\n",
       "      <td>0.27</td>\n",
       "    </tr>\n",
       "    <tr>\n",
       "      <td>rougher.state.floatbank10_e_air</td>\n",
       "      <td>17</td>\n",
       "      <td>0.29</td>\n",
       "    </tr>\n",
       "    <tr>\n",
       "      <td>rougher.state.floatbank10_e_level</td>\n",
       "      <td>16</td>\n",
       "      <td>0.27</td>\n",
       "    </tr>\n",
       "    <tr>\n",
       "      <td>rougher.state.floatbank10_f_air</td>\n",
       "      <td>17</td>\n",
       "      <td>0.29</td>\n",
       "    </tr>\n",
       "    <tr>\n",
       "      <td>rougher.state.floatbank10_f_level</td>\n",
       "      <td>16</td>\n",
       "      <td>0.27</td>\n",
       "    </tr>\n",
       "    <tr>\n",
       "      <td>secondary_cleaner.state.floatbank2_a_air</td>\n",
       "      <td>20</td>\n",
       "      <td>0.34</td>\n",
       "    </tr>\n",
       "    <tr>\n",
       "      <td>secondary_cleaner.state.floatbank2_a_level</td>\n",
       "      <td>16</td>\n",
       "      <td>0.27</td>\n",
       "    </tr>\n",
       "    <tr>\n",
       "      <td>secondary_cleaner.state.floatbank2_b_air</td>\n",
       "      <td>23</td>\n",
       "      <td>0.39</td>\n",
       "    </tr>\n",
       "    <tr>\n",
       "      <td>secondary_cleaner.state.floatbank2_b_level</td>\n",
       "      <td>16</td>\n",
       "      <td>0.27</td>\n",
       "    </tr>\n",
       "    <tr>\n",
       "      <td>secondary_cleaner.state.floatbank3_a_air</td>\n",
       "      <td>34</td>\n",
       "      <td>0.58</td>\n",
       "    </tr>\n",
       "    <tr>\n",
       "      <td>secondary_cleaner.state.floatbank3_a_level</td>\n",
       "      <td>16</td>\n",
       "      <td>0.27</td>\n",
       "    </tr>\n",
       "    <tr>\n",
       "      <td>secondary_cleaner.state.floatbank3_b_air</td>\n",
       "      <td>16</td>\n",
       "      <td>0.27</td>\n",
       "    </tr>\n",
       "    <tr>\n",
       "      <td>secondary_cleaner.state.floatbank3_b_level</td>\n",
       "      <td>16</td>\n",
       "      <td>0.27</td>\n",
       "    </tr>\n",
       "    <tr>\n",
       "      <td>secondary_cleaner.state.floatbank4_a_air</td>\n",
       "      <td>16</td>\n",
       "      <td>0.27</td>\n",
       "    </tr>\n",
       "    <tr>\n",
       "      <td>secondary_cleaner.state.floatbank4_a_level</td>\n",
       "      <td>16</td>\n",
       "      <td>0.27</td>\n",
       "    </tr>\n",
       "    <tr>\n",
       "      <td>secondary_cleaner.state.floatbank4_b_air</td>\n",
       "      <td>16</td>\n",
       "      <td>0.27</td>\n",
       "    </tr>\n",
       "    <tr>\n",
       "      <td>secondary_cleaner.state.floatbank4_b_level</td>\n",
       "      <td>16</td>\n",
       "      <td>0.27</td>\n",
       "    </tr>\n",
       "    <tr>\n",
       "      <td>secondary_cleaner.state.floatbank5_a_air</td>\n",
       "      <td>16</td>\n",
       "      <td>0.27</td>\n",
       "    </tr>\n",
       "    <tr>\n",
       "      <td>secondary_cleaner.state.floatbank5_a_level</td>\n",
       "      <td>16</td>\n",
       "      <td>0.27</td>\n",
       "    </tr>\n",
       "    <tr>\n",
       "      <td>secondary_cleaner.state.floatbank5_b_air</td>\n",
       "      <td>16</td>\n",
       "      <td>0.27</td>\n",
       "    </tr>\n",
       "    <tr>\n",
       "      <td>secondary_cleaner.state.floatbank5_b_level</td>\n",
       "      <td>16</td>\n",
       "      <td>0.27</td>\n",
       "    </tr>\n",
       "    <tr>\n",
       "      <td>secondary_cleaner.state.floatbank6_a_air</td>\n",
       "      <td>16</td>\n",
       "      <td>0.27</td>\n",
       "    </tr>\n",
       "    <tr>\n",
       "      <td>secondary_cleaner.state.floatbank6_a_level</td>\n",
       "      <td>16</td>\n",
       "      <td>0.27</td>\n",
       "    </tr>\n",
       "  </tbody>\n",
       "</table>\n",
       "</div>"
      ],
      "text/plain": [
       "                                            total_nan  percent\n",
       "date                                                0     0.00\n",
       "primary_cleaner.input.sulfate                     302     5.16\n",
       "primary_cleaner.input.depressant                  284     4.85\n",
       "primary_cleaner.input.feed_size                     0     0.00\n",
       "primary_cleaner.input.xanthate                    166     2.83\n",
       "primary_cleaner.state.floatbank8_a_air             16     0.27\n",
       "primary_cleaner.state.floatbank8_a_level           16     0.27\n",
       "primary_cleaner.state.floatbank8_b_air             16     0.27\n",
       "primary_cleaner.state.floatbank8_b_level           16     0.27\n",
       "primary_cleaner.state.floatbank8_c_air             16     0.27\n",
       "primary_cleaner.state.floatbank8_c_level           16     0.27\n",
       "primary_cleaner.state.floatbank8_d_air             16     0.27\n",
       "primary_cleaner.state.floatbank8_d_level           16     0.27\n",
       "rougher.input.feed_ag                              16     0.27\n",
       "rougher.input.feed_pb                              16     0.27\n",
       "rougher.input.feed_rate                            40     0.68\n",
       "rougher.input.feed_size                            22     0.38\n",
       "rougher.input.feed_sol                             67     1.14\n",
       "rougher.input.feed_au                              16     0.27\n",
       "rougher.input.floatbank10_sulfate                 257     4.39\n",
       "rougher.input.floatbank10_xanthate                123     2.10\n",
       "rougher.input.floatbank11_sulfate                  55     0.94\n",
       "rougher.input.floatbank11_xanthate                353     6.03\n",
       "rougher.state.floatbank10_a_air                    17     0.29\n",
       "rougher.state.floatbank10_a_level                  16     0.27\n",
       "rougher.state.floatbank10_b_air                    17     0.29\n",
       "rougher.state.floatbank10_b_level                  16     0.27\n",
       "rougher.state.floatbank10_c_air                    17     0.29\n",
       "rougher.state.floatbank10_c_level                  16     0.27\n",
       "rougher.state.floatbank10_d_air                    17     0.29\n",
       "rougher.state.floatbank10_d_level                  16     0.27\n",
       "rougher.state.floatbank10_e_air                    17     0.29\n",
       "rougher.state.floatbank10_e_level                  16     0.27\n",
       "rougher.state.floatbank10_f_air                    17     0.29\n",
       "rougher.state.floatbank10_f_level                  16     0.27\n",
       "secondary_cleaner.state.floatbank2_a_air           20     0.34\n",
       "secondary_cleaner.state.floatbank2_a_level         16     0.27\n",
       "secondary_cleaner.state.floatbank2_b_air           23     0.39\n",
       "secondary_cleaner.state.floatbank2_b_level         16     0.27\n",
       "secondary_cleaner.state.floatbank3_a_air           34     0.58\n",
       "secondary_cleaner.state.floatbank3_a_level         16     0.27\n",
       "secondary_cleaner.state.floatbank3_b_air           16     0.27\n",
       "secondary_cleaner.state.floatbank3_b_level         16     0.27\n",
       "secondary_cleaner.state.floatbank4_a_air           16     0.27\n",
       "secondary_cleaner.state.floatbank4_a_level         16     0.27\n",
       "secondary_cleaner.state.floatbank4_b_air           16     0.27\n",
       "secondary_cleaner.state.floatbank4_b_level         16     0.27\n",
       "secondary_cleaner.state.floatbank5_a_air           16     0.27\n",
       "secondary_cleaner.state.floatbank5_a_level         16     0.27\n",
       "secondary_cleaner.state.floatbank5_b_air           16     0.27\n",
       "secondary_cleaner.state.floatbank5_b_level         16     0.27\n",
       "secondary_cleaner.state.floatbank6_a_air           16     0.27\n",
       "secondary_cleaner.state.floatbank6_a_level         16     0.27"
      ]
     },
     "execution_count": 23,
     "metadata": {},
     "output_type": "execute_result"
    }
   ],
   "source": [
    "isna_sum(test)"
   ]
  },
  {
   "cell_type": "code",
   "execution_count": 24,
   "metadata": {},
   "outputs": [
    {
     "data": {
      "text/html": [
       "<div>\n",
       "<style scoped>\n",
       "    .dataframe tbody tr th:only-of-type {\n",
       "        vertical-align: middle;\n",
       "    }\n",
       "\n",
       "    .dataframe tbody tr th {\n",
       "        vertical-align: top;\n",
       "    }\n",
       "\n",
       "    .dataframe thead th {\n",
       "        text-align: right;\n",
       "    }\n",
       "</style>\n",
       "<table border=\"1\" class=\"dataframe\">\n",
       "  <thead>\n",
       "    <tr style=\"text-align: right;\">\n",
       "      <th></th>\n",
       "      <th>total_nan</th>\n",
       "      <th>percent</th>\n",
       "    </tr>\n",
       "  </thead>\n",
       "  <tbody>\n",
       "    <tr>\n",
       "      <td>date</td>\n",
       "      <td>0</td>\n",
       "      <td>0.00</td>\n",
       "    </tr>\n",
       "    <tr>\n",
       "      <td>final.output.concentrate_ag</td>\n",
       "      <td>89</td>\n",
       "      <td>0.39</td>\n",
       "    </tr>\n",
       "    <tr>\n",
       "      <td>final.output.concentrate_pb</td>\n",
       "      <td>87</td>\n",
       "      <td>0.38</td>\n",
       "    </tr>\n",
       "    <tr>\n",
       "      <td>final.output.concentrate_sol</td>\n",
       "      <td>385</td>\n",
       "      <td>1.69</td>\n",
       "    </tr>\n",
       "    <tr>\n",
       "      <td>final.output.concentrate_au</td>\n",
       "      <td>86</td>\n",
       "      <td>0.38</td>\n",
       "    </tr>\n",
       "    <tr>\n",
       "      <td>...</td>\n",
       "      <td>...</td>\n",
       "      <td>...</td>\n",
       "    </tr>\n",
       "    <tr>\n",
       "      <td>secondary_cleaner.state.floatbank5_a_level</td>\n",
       "      <td>101</td>\n",
       "      <td>0.44</td>\n",
       "    </tr>\n",
       "    <tr>\n",
       "      <td>secondary_cleaner.state.floatbank5_b_air</td>\n",
       "      <td>101</td>\n",
       "      <td>0.44</td>\n",
       "    </tr>\n",
       "    <tr>\n",
       "      <td>secondary_cleaner.state.floatbank5_b_level</td>\n",
       "      <td>100</td>\n",
       "      <td>0.44</td>\n",
       "    </tr>\n",
       "    <tr>\n",
       "      <td>secondary_cleaner.state.floatbank6_a_air</td>\n",
       "      <td>119</td>\n",
       "      <td>0.52</td>\n",
       "    </tr>\n",
       "    <tr>\n",
       "      <td>secondary_cleaner.state.floatbank6_a_level</td>\n",
       "      <td>101</td>\n",
       "      <td>0.44</td>\n",
       "    </tr>\n",
       "  </tbody>\n",
       "</table>\n",
       "<p>87 rows × 2 columns</p>\n",
       "</div>"
      ],
      "text/plain": [
       "                                            total_nan  percent\n",
       "date                                                0     0.00\n",
       "final.output.concentrate_ag                        89     0.39\n",
       "final.output.concentrate_pb                        87     0.38\n",
       "final.output.concentrate_sol                      385     1.69\n",
       "final.output.concentrate_au                        86     0.38\n",
       "...                                               ...      ...\n",
       "secondary_cleaner.state.floatbank5_a_level        101     0.44\n",
       "secondary_cleaner.state.floatbank5_b_air          101     0.44\n",
       "secondary_cleaner.state.floatbank5_b_level        100     0.44\n",
       "secondary_cleaner.state.floatbank6_a_air          119     0.52\n",
       "secondary_cleaner.state.floatbank6_a_level        101     0.44\n",
       "\n",
       "[87 rows x 2 columns]"
      ]
     },
     "execution_count": 24,
     "metadata": {},
     "output_type": "execute_result"
    }
   ],
   "source": [
    "isna_sum(full)"
   ]
  },
  {
   "cell_type": "markdown",
   "metadata": {},
   "source": [
    "Из условия нам известно, что данные индексируются датой и временем получения информации (признак date), и соседние по времени параметры часто похожи."
   ]
  },
  {
   "cell_type": "markdown",
   "metadata": {},
   "source": [
    "Добавим в тестовую выборку целевые признаки:"
   ]
  },
  {
   "cell_type": "code",
   "execution_count": 25,
   "metadata": {},
   "outputs": [
    {
     "data": {
      "text/plain": [
       "(5856, 55)"
      ]
     },
     "execution_count": 25,
     "metadata": {},
     "output_type": "execute_result"
    }
   ],
   "source": [
    "test = test.merge(full[['date', 'rougher.output.recovery', 'final.output.recovery']], how = 'left', on = 'date')\n",
    "test.shape"
   ]
  },
  {
   "cell_type": "markdown",
   "metadata": {},
   "source": [
    "Исключим из целевых признаков строки с пропусками:"
   ]
  },
  {
   "cell_type": "code",
   "execution_count": 26,
   "metadata": {},
   "outputs": [],
   "source": [
    "train.dropna(subset=['rougher.output.recovery', 'final.output.recovery'], inplace=True)\n",
    "test.dropna(subset=['rougher.output.recovery', 'final.output.recovery'], inplace=True)\n",
    "full.dropna(subset=['rougher.output.recovery', 'final.output.recovery'], inplace=True)"
   ]
  },
  {
   "cell_type": "markdown",
   "metadata": {},
   "source": [
    "Изменим столбец date в качестве индексов:"
   ]
  },
  {
   "cell_type": "code",
   "execution_count": null,
   "metadata": {},
   "outputs": [],
   "source": [
    "*"
   ]
  },
  {
   "cell_type": "code",
   "execution_count": 27,
   "metadata": {},
   "outputs": [],
   "source": [
    "train = train.set_index(['date'])\n",
    "test = test.set_index(['date'])\n",
    "full = full.set_index(['date'])"
   ]
  },
  {
   "cell_type": "markdown",
   "metadata": {},
   "source": [
    "Воспользуемся функцией интерполяции для заполнения оставшихся пропусков средним от указанных соседних значений:"
   ]
  },
  {
   "cell_type": "code",
   "execution_count": 28,
   "metadata": {},
   "outputs": [],
   "source": [
    "train = train.interpolate(method='time')\n",
    "test = test.interpolate(method='time')\n",
    "full = full.interpolate(method='time')"
   ]
  },
  {
   "cell_type": "markdown",
   "metadata": {},
   "source": [
    "Проверим результат интерполяции:"
   ]
  },
  {
   "cell_type": "code",
   "execution_count": 29,
   "metadata": {},
   "outputs": [
    {
     "name": "stdout",
     "output_type": "stream",
     "text": [
      "<class 'pandas.core.frame.DataFrame'>\n",
      "DatetimeIndex: 14149 entries, 2016-01-15 00:00:00 to 2018-08-18 10:59:59\n",
      "Data columns (total 87 columns):\n",
      "final.output.concentrate_ag                           14149 non-null float64\n",
      "final.output.concentrate_pb                           14149 non-null float64\n",
      "final.output.concentrate_sol                          14149 non-null float64\n",
      "final.output.concentrate_au                           14149 non-null float64\n",
      "final.output.recovery                                 14149 non-null float64\n",
      "final.output.tail_ag                                  14149 non-null float64\n",
      "final.output.tail_pb                                  14149 non-null float64\n",
      "final.output.tail_sol                                 14149 non-null float64\n",
      "final.output.tail_au                                  14149 non-null float64\n",
      "primary_cleaner.input.sulfate                         14149 non-null float64\n",
      "primary_cleaner.input.depressant                      14149 non-null float64\n",
      "primary_cleaner.input.feed_size                       14149 non-null float64\n",
      "primary_cleaner.input.xanthate                        14149 non-null float64\n",
      "primary_cleaner.output.concentrate_ag                 14149 non-null float64\n",
      "primary_cleaner.output.concentrate_pb                 14149 non-null float64\n",
      "primary_cleaner.output.concentrate_sol                14149 non-null float64\n",
      "primary_cleaner.output.concentrate_au                 14149 non-null float64\n",
      "primary_cleaner.output.tail_ag                        14149 non-null float64\n",
      "primary_cleaner.output.tail_pb                        14149 non-null float64\n",
      "primary_cleaner.output.tail_sol                       14149 non-null float64\n",
      "primary_cleaner.output.tail_au                        14149 non-null float64\n",
      "primary_cleaner.state.floatbank8_a_air                14149 non-null float64\n",
      "primary_cleaner.state.floatbank8_a_level              14149 non-null float64\n",
      "primary_cleaner.state.floatbank8_b_air                14149 non-null float64\n",
      "primary_cleaner.state.floatbank8_b_level              14149 non-null float64\n",
      "primary_cleaner.state.floatbank8_c_air                14149 non-null float64\n",
      "primary_cleaner.state.floatbank8_c_level              14149 non-null float64\n",
      "primary_cleaner.state.floatbank8_d_air                14149 non-null float64\n",
      "primary_cleaner.state.floatbank8_d_level              14149 non-null float64\n",
      "rougher.calculation.sulfate_to_au_concentrate         14149 non-null float64\n",
      "rougher.calculation.floatbank10_sulfate_to_au_feed    14149 non-null float64\n",
      "rougher.calculation.floatbank11_sulfate_to_au_feed    14149 non-null float64\n",
      "rougher.calculation.au_pb_ratio                       14149 non-null float64\n",
      "rougher.input.feed_ag                                 14149 non-null float64\n",
      "rougher.input.feed_pb                                 14149 non-null float64\n",
      "rougher.input.feed_rate                               14149 non-null float64\n",
      "rougher.input.feed_size                               14149 non-null float64\n",
      "rougher.input.feed_sol                                14149 non-null float64\n",
      "rougher.input.feed_au                                 14149 non-null float64\n",
      "rougher.input.floatbank10_sulfate                     14149 non-null float64\n",
      "rougher.input.floatbank10_xanthate                    14149 non-null float64\n",
      "rougher.input.floatbank11_sulfate                     14149 non-null float64\n",
      "rougher.input.floatbank11_xanthate                    14149 non-null float64\n",
      "rougher.output.concentrate_ag                         14149 non-null float64\n",
      "rougher.output.concentrate_pb                         14149 non-null float64\n",
      "rougher.output.concentrate_sol                        14149 non-null float64\n",
      "rougher.output.concentrate_au                         14149 non-null float64\n",
      "rougher.output.recovery                               14149 non-null float64\n",
      "rougher.output.tail_ag                                14149 non-null float64\n",
      "rougher.output.tail_pb                                14149 non-null float64\n",
      "rougher.output.tail_sol                               14149 non-null float64\n",
      "rougher.output.tail_au                                14149 non-null float64\n",
      "rougher.state.floatbank10_a_air                       14149 non-null float64\n",
      "rougher.state.floatbank10_a_level                     14149 non-null float64\n",
      "rougher.state.floatbank10_b_air                       14149 non-null float64\n",
      "rougher.state.floatbank10_b_level                     14149 non-null float64\n",
      "rougher.state.floatbank10_c_air                       14149 non-null float64\n",
      "rougher.state.floatbank10_c_level                     14149 non-null float64\n",
      "rougher.state.floatbank10_d_air                       14149 non-null float64\n",
      "rougher.state.floatbank10_d_level                     14149 non-null float64\n",
      "rougher.state.floatbank10_e_air                       14149 non-null float64\n",
      "rougher.state.floatbank10_e_level                     14149 non-null float64\n",
      "rougher.state.floatbank10_f_air                       14149 non-null float64\n",
      "rougher.state.floatbank10_f_level                     14149 non-null float64\n",
      "secondary_cleaner.output.tail_ag                      14149 non-null float64\n",
      "secondary_cleaner.output.tail_pb                      14149 non-null float64\n",
      "secondary_cleaner.output.tail_sol                     14149 non-null float64\n",
      "secondary_cleaner.output.tail_au                      14149 non-null float64\n",
      "secondary_cleaner.state.floatbank2_a_air              14149 non-null float64\n",
      "secondary_cleaner.state.floatbank2_a_level            14149 non-null float64\n",
      "secondary_cleaner.state.floatbank2_b_air              14149 non-null float64\n",
      "secondary_cleaner.state.floatbank2_b_level            14149 non-null float64\n",
      "secondary_cleaner.state.floatbank3_a_air              14149 non-null float64\n",
      "secondary_cleaner.state.floatbank3_a_level            14149 non-null float64\n",
      "secondary_cleaner.state.floatbank3_b_air              14149 non-null float64\n",
      "secondary_cleaner.state.floatbank3_b_level            14149 non-null float64\n",
      "secondary_cleaner.state.floatbank4_a_air              14149 non-null float64\n",
      "secondary_cleaner.state.floatbank4_a_level            14149 non-null float64\n",
      "secondary_cleaner.state.floatbank4_b_air              14149 non-null float64\n",
      "secondary_cleaner.state.floatbank4_b_level            14149 non-null float64\n",
      "secondary_cleaner.state.floatbank5_a_air              14149 non-null float64\n",
      "secondary_cleaner.state.floatbank5_a_level            14149 non-null float64\n",
      "secondary_cleaner.state.floatbank5_b_air              14149 non-null float64\n",
      "secondary_cleaner.state.floatbank5_b_level            14149 non-null float64\n",
      "secondary_cleaner.state.floatbank6_a_air              14149 non-null float64\n",
      "secondary_cleaner.state.floatbank6_a_level            14149 non-null float64\n",
      "rougher.output.recovery.calculate                     14149 non-null float64\n",
      "dtypes: float64(87)\n",
      "memory usage: 9.5 MB\n"
     ]
    }
   ],
   "source": [
    "train.info()"
   ]
  },
  {
   "cell_type": "code",
   "execution_count": 30,
   "metadata": {},
   "outputs": [
    {
     "name": "stdout",
     "output_type": "stream",
     "text": [
      "<class 'pandas.core.frame.DataFrame'>\n",
      "DatetimeIndex: 5290 entries, 2016-09-01 00:59:59 to 2017-12-31 23:59:59\n",
      "Data columns (total 54 columns):\n",
      "primary_cleaner.input.sulfate                 5290 non-null float64\n",
      "primary_cleaner.input.depressant              5290 non-null float64\n",
      "primary_cleaner.input.feed_size               5290 non-null float64\n",
      "primary_cleaner.input.xanthate                5290 non-null float64\n",
      "primary_cleaner.state.floatbank8_a_air        5290 non-null float64\n",
      "primary_cleaner.state.floatbank8_a_level      5290 non-null float64\n",
      "primary_cleaner.state.floatbank8_b_air        5290 non-null float64\n",
      "primary_cleaner.state.floatbank8_b_level      5290 non-null float64\n",
      "primary_cleaner.state.floatbank8_c_air        5290 non-null float64\n",
      "primary_cleaner.state.floatbank8_c_level      5290 non-null float64\n",
      "primary_cleaner.state.floatbank8_d_air        5290 non-null float64\n",
      "primary_cleaner.state.floatbank8_d_level      5290 non-null float64\n",
      "rougher.input.feed_ag                         5290 non-null float64\n",
      "rougher.input.feed_pb                         5290 non-null float64\n",
      "rougher.input.feed_rate                       5290 non-null float64\n",
      "rougher.input.feed_size                       5290 non-null float64\n",
      "rougher.input.feed_sol                        5290 non-null float64\n",
      "rougher.input.feed_au                         5290 non-null float64\n",
      "rougher.input.floatbank10_sulfate             5290 non-null float64\n",
      "rougher.input.floatbank10_xanthate            5290 non-null float64\n",
      "rougher.input.floatbank11_sulfate             5290 non-null float64\n",
      "rougher.input.floatbank11_xanthate            5290 non-null float64\n",
      "rougher.state.floatbank10_a_air               5290 non-null float64\n",
      "rougher.state.floatbank10_a_level             5290 non-null float64\n",
      "rougher.state.floatbank10_b_air               5290 non-null float64\n",
      "rougher.state.floatbank10_b_level             5290 non-null float64\n",
      "rougher.state.floatbank10_c_air               5290 non-null float64\n",
      "rougher.state.floatbank10_c_level             5290 non-null float64\n",
      "rougher.state.floatbank10_d_air               5290 non-null float64\n",
      "rougher.state.floatbank10_d_level             5290 non-null float64\n",
      "rougher.state.floatbank10_e_air               5290 non-null float64\n",
      "rougher.state.floatbank10_e_level             5290 non-null float64\n",
      "rougher.state.floatbank10_f_air               5290 non-null float64\n",
      "rougher.state.floatbank10_f_level             5290 non-null float64\n",
      "secondary_cleaner.state.floatbank2_a_air      5290 non-null float64\n",
      "secondary_cleaner.state.floatbank2_a_level    5290 non-null float64\n",
      "secondary_cleaner.state.floatbank2_b_air      5290 non-null float64\n",
      "secondary_cleaner.state.floatbank2_b_level    5290 non-null float64\n",
      "secondary_cleaner.state.floatbank3_a_air      5290 non-null float64\n",
      "secondary_cleaner.state.floatbank3_a_level    5290 non-null float64\n",
      "secondary_cleaner.state.floatbank3_b_air      5290 non-null float64\n",
      "secondary_cleaner.state.floatbank3_b_level    5290 non-null float64\n",
      "secondary_cleaner.state.floatbank4_a_air      5290 non-null float64\n",
      "secondary_cleaner.state.floatbank4_a_level    5290 non-null float64\n",
      "secondary_cleaner.state.floatbank4_b_air      5290 non-null float64\n",
      "secondary_cleaner.state.floatbank4_b_level    5290 non-null float64\n",
      "secondary_cleaner.state.floatbank5_a_air      5290 non-null float64\n",
      "secondary_cleaner.state.floatbank5_a_level    5290 non-null float64\n",
      "secondary_cleaner.state.floatbank5_b_air      5290 non-null float64\n",
      "secondary_cleaner.state.floatbank5_b_level    5290 non-null float64\n",
      "secondary_cleaner.state.floatbank6_a_air      5290 non-null float64\n",
      "secondary_cleaner.state.floatbank6_a_level    5290 non-null float64\n",
      "rougher.output.recovery                       5290 non-null float64\n",
      "final.output.recovery                         5290 non-null float64\n",
      "dtypes: float64(54)\n",
      "memory usage: 2.2 MB\n"
     ]
    }
   ],
   "source": [
    "test.info()"
   ]
  },
  {
   "cell_type": "code",
   "execution_count": 31,
   "metadata": {},
   "outputs": [
    {
     "name": "stdout",
     "output_type": "stream",
     "text": [
      "<class 'pandas.core.frame.DataFrame'>\n",
      "DatetimeIndex: 19439 entries, 2016-01-15 00:00:00 to 2018-08-18 10:59:59\n",
      "Data columns (total 86 columns):\n",
      "final.output.concentrate_ag                           19439 non-null float64\n",
      "final.output.concentrate_pb                           19439 non-null float64\n",
      "final.output.concentrate_sol                          19439 non-null float64\n",
      "final.output.concentrate_au                           19439 non-null float64\n",
      "final.output.recovery                                 19439 non-null float64\n",
      "final.output.tail_ag                                  19439 non-null float64\n",
      "final.output.tail_pb                                  19439 non-null float64\n",
      "final.output.tail_sol                                 19439 non-null float64\n",
      "final.output.tail_au                                  19439 non-null float64\n",
      "primary_cleaner.input.sulfate                         19439 non-null float64\n",
      "primary_cleaner.input.depressant                      19439 non-null float64\n",
      "primary_cleaner.input.feed_size                       19439 non-null float64\n",
      "primary_cleaner.input.xanthate                        19439 non-null float64\n",
      "primary_cleaner.output.concentrate_ag                 19439 non-null float64\n",
      "primary_cleaner.output.concentrate_pb                 19439 non-null float64\n",
      "primary_cleaner.output.concentrate_sol                19439 non-null float64\n",
      "primary_cleaner.output.concentrate_au                 19439 non-null float64\n",
      "primary_cleaner.output.tail_ag                        19439 non-null float64\n",
      "primary_cleaner.output.tail_pb                        19439 non-null float64\n",
      "primary_cleaner.output.tail_sol                       19439 non-null float64\n",
      "primary_cleaner.output.tail_au                        19439 non-null float64\n",
      "primary_cleaner.state.floatbank8_a_air                19439 non-null float64\n",
      "primary_cleaner.state.floatbank8_a_level              19439 non-null float64\n",
      "primary_cleaner.state.floatbank8_b_air                19439 non-null float64\n",
      "primary_cleaner.state.floatbank8_b_level              19439 non-null float64\n",
      "primary_cleaner.state.floatbank8_c_air                19439 non-null float64\n",
      "primary_cleaner.state.floatbank8_c_level              19439 non-null float64\n",
      "primary_cleaner.state.floatbank8_d_air                19439 non-null float64\n",
      "primary_cleaner.state.floatbank8_d_level              19439 non-null float64\n",
      "rougher.calculation.sulfate_to_au_concentrate         19439 non-null float64\n",
      "rougher.calculation.floatbank10_sulfate_to_au_feed    19439 non-null float64\n",
      "rougher.calculation.floatbank11_sulfate_to_au_feed    19439 non-null float64\n",
      "rougher.calculation.au_pb_ratio                       19439 non-null float64\n",
      "rougher.input.feed_ag                                 19439 non-null float64\n",
      "rougher.input.feed_pb                                 19439 non-null float64\n",
      "rougher.input.feed_rate                               19439 non-null float64\n",
      "rougher.input.feed_size                               19439 non-null float64\n",
      "rougher.input.feed_sol                                19439 non-null float64\n",
      "rougher.input.feed_au                                 19439 non-null float64\n",
      "rougher.input.floatbank10_sulfate                     19439 non-null float64\n",
      "rougher.input.floatbank10_xanthate                    19439 non-null float64\n",
      "rougher.input.floatbank11_sulfate                     19439 non-null float64\n",
      "rougher.input.floatbank11_xanthate                    19439 non-null float64\n",
      "rougher.output.concentrate_ag                         19439 non-null float64\n",
      "rougher.output.concentrate_pb                         19439 non-null float64\n",
      "rougher.output.concentrate_sol                        19439 non-null float64\n",
      "rougher.output.concentrate_au                         19439 non-null float64\n",
      "rougher.output.recovery                               19439 non-null float64\n",
      "rougher.output.tail_ag                                19439 non-null float64\n",
      "rougher.output.tail_pb                                19439 non-null float64\n",
      "rougher.output.tail_sol                               19439 non-null float64\n",
      "rougher.output.tail_au                                19439 non-null float64\n",
      "rougher.state.floatbank10_a_air                       19439 non-null float64\n",
      "rougher.state.floatbank10_a_level                     19439 non-null float64\n",
      "rougher.state.floatbank10_b_air                       19439 non-null float64\n",
      "rougher.state.floatbank10_b_level                     19439 non-null float64\n",
      "rougher.state.floatbank10_c_air                       19439 non-null float64\n",
      "rougher.state.floatbank10_c_level                     19439 non-null float64\n",
      "rougher.state.floatbank10_d_air                       19439 non-null float64\n",
      "rougher.state.floatbank10_d_level                     19439 non-null float64\n",
      "rougher.state.floatbank10_e_air                       19439 non-null float64\n",
      "rougher.state.floatbank10_e_level                     19439 non-null float64\n",
      "rougher.state.floatbank10_f_air                       19439 non-null float64\n",
      "rougher.state.floatbank10_f_level                     19439 non-null float64\n",
      "secondary_cleaner.output.tail_ag                      19439 non-null float64\n",
      "secondary_cleaner.output.tail_pb                      19439 non-null float64\n",
      "secondary_cleaner.output.tail_sol                     19439 non-null float64\n",
      "secondary_cleaner.output.tail_au                      19439 non-null float64\n",
      "secondary_cleaner.state.floatbank2_a_air              19439 non-null float64\n",
      "secondary_cleaner.state.floatbank2_a_level            19439 non-null float64\n",
      "secondary_cleaner.state.floatbank2_b_air              19439 non-null float64\n",
      "secondary_cleaner.state.floatbank2_b_level            19439 non-null float64\n",
      "secondary_cleaner.state.floatbank3_a_air              19439 non-null float64\n",
      "secondary_cleaner.state.floatbank3_a_level            19439 non-null float64\n",
      "secondary_cleaner.state.floatbank3_b_air              19439 non-null float64\n",
      "secondary_cleaner.state.floatbank3_b_level            19439 non-null float64\n",
      "secondary_cleaner.state.floatbank4_a_air              19439 non-null float64\n",
      "secondary_cleaner.state.floatbank4_a_level            19439 non-null float64\n",
      "secondary_cleaner.state.floatbank4_b_air              19439 non-null float64\n",
      "secondary_cleaner.state.floatbank4_b_level            19439 non-null float64\n",
      "secondary_cleaner.state.floatbank5_a_air              19439 non-null float64\n",
      "secondary_cleaner.state.floatbank5_a_level            19439 non-null float64\n",
      "secondary_cleaner.state.floatbank5_b_air              19439 non-null float64\n",
      "secondary_cleaner.state.floatbank5_b_level            19439 non-null float64\n",
      "secondary_cleaner.state.floatbank6_a_air              19439 non-null float64\n",
      "secondary_cleaner.state.floatbank6_a_level            19439 non-null float64\n",
      "dtypes: float64(86)\n",
      "memory usage: 12.9 MB\n"
     ]
    }
   ],
   "source": [
    "full.info()"
   ]
  },
  {
   "cell_type": "markdown",
   "metadata": {},
   "source": [
    "Удалим из обучающего датасета признаки, которые отсутствуют в тестовом датасете:"
   ]
  },
  {
   "cell_type": "code",
   "execution_count": 32,
   "metadata": {},
   "outputs": [],
   "source": [
    "useful_cols = list(test.columns)\n",
    "train = train[useful_cols]"
   ]
  },
  {
   "cell_type": "code",
   "execution_count": 33,
   "metadata": {},
   "outputs": [
    {
     "data": {
      "text/plain": [
       "(14149, 54)"
      ]
     },
     "execution_count": 33,
     "metadata": {},
     "output_type": "execute_result"
    }
   ],
   "source": [
    "train.shape"
   ]
  },
  {
   "cell_type": "code",
   "execution_count": 34,
   "metadata": {},
   "outputs": [
    {
     "data": {
      "text/plain": [
       "(5290, 54)"
      ]
     },
     "execution_count": 34,
     "metadata": {},
     "output_type": "execute_result"
    }
   ],
   "source": [
    "test.shape"
   ]
  },
  {
   "cell_type": "markdown",
   "metadata": {},
   "source": [
    "**Вывод**"
   ]
  },
  {
   "cell_type": "markdown",
   "metadata": {},
   "source": [
    "На первом этапе работы были выполнены следующие шаги:\n",
    "1. Загружены и изучены данные - всего даны 3 датасета: train, test, full. В столбцах датасетов записаны от 53 до 87 признаков. В датасете присутствуют пропущенные значения.\n",
    "Информация в столбце date имеет тип `object` - категориальный признак, остальные признаки - количественные.\n",
    "В датасете присутствуют пропущенные значения.\n",
    "Информация в столбце date имеет тип `object` - категориальный признак, остальные признаки - количественные.\n",
    "\n",
    "Целевые признаки:\n",
    "<li>rougher.output.recovery — эффективность обогащения чернового концентрата;</li>\n",
    "<li>final.output.recovery — эффективность обогащения финального концентрата.</li> \n",
    "\n",
    "2. Выполнен расчет метрики MAE; проверено, что эффективность обогащения рассчитана правильно.\n",
    "\n",
    "3. Выполнен анализ признаков, недоступных в тестовой выборке: в тестовой выборке отсутствуют целевые признаки, а также признаки output (параметры продукта) и calculation (расчётные характеристики). В основном это рассчитываемые показатели, которые рассчитываются на более поздних стадиях.\n",
    "\n",
    "4. Выполнена предобработка данных. В столбце date изменен тип значений с `object` на `datetime`, столбец date принят в качестве индексов. Пропущенные значения в датасетах заполнены методом интерполяции средним значением от указанных соседних."
   ]
  },
  {
   "cell_type": "markdown",
   "metadata": {},
   "source": [
    "## Анализ данных"
   ]
  },
  {
   "cell_type": "markdown",
   "metadata": {},
   "source": [
    " ### Анализ концентрации металлов (Au, Ag, Pb) на различных этапах очистки"
   ]
  },
  {
   "cell_type": "markdown",
   "metadata": {},
   "source": [
    "Концентрацию рассмотрим на данных датасета full, поскольку там содержится наиболее полная информация о признаках:"
   ]
  },
  {
   "cell_type": "code",
   "execution_count": 35,
   "metadata": {},
   "outputs": [
    {
     "data": {
      "text/html": [
       "<div>\n",
       "<style scoped>\n",
       "    .dataframe tbody tr th:only-of-type {\n",
       "        vertical-align: middle;\n",
       "    }\n",
       "\n",
       "    .dataframe tbody tr th {\n",
       "        vertical-align: top;\n",
       "    }\n",
       "\n",
       "    .dataframe thead th {\n",
       "        text-align: right;\n",
       "    }\n",
       "</style>\n",
       "<table border=\"1\" class=\"dataframe\">\n",
       "  <thead>\n",
       "    <tr style=\"text-align: right;\">\n",
       "      <th></th>\n",
       "      <th>rougher.input.feed_ag</th>\n",
       "      <th>rougher.input.feed_pb</th>\n",
       "      <th>rougher.input.feed_au</th>\n",
       "      <th>rougher.output.concentrate_ag</th>\n",
       "      <th>primary_cleaner.output.concentrate_ag</th>\n",
       "      <th>final.output.concentrate_ag</th>\n",
       "      <th>rougher.output.concentrate_pb</th>\n",
       "      <th>primary_cleaner.output.concentrate_pb</th>\n",
       "      <th>final.output.concentrate_pb</th>\n",
       "      <th>rougher.output.concentrate_au</th>\n",
       "      <th>primary_cleaner.output.concentrate_au</th>\n",
       "      <th>final.output.concentrate_au</th>\n",
       "    </tr>\n",
       "    <tr>\n",
       "      <th>date</th>\n",
       "      <th></th>\n",
       "      <th></th>\n",
       "      <th></th>\n",
       "      <th></th>\n",
       "      <th></th>\n",
       "      <th></th>\n",
       "      <th></th>\n",
       "      <th></th>\n",
       "      <th></th>\n",
       "      <th></th>\n",
       "      <th></th>\n",
       "      <th></th>\n",
       "    </tr>\n",
       "  </thead>\n",
       "  <tbody>\n",
       "    <tr>\n",
       "      <td>2016-01-15 00:00:00</td>\n",
       "      <td>6.100378</td>\n",
       "      <td>2.284912</td>\n",
       "      <td>6.486150</td>\n",
       "      <td>11.500771</td>\n",
       "      <td>8.547551</td>\n",
       "      <td>6.055403</td>\n",
       "      <td>7.101074</td>\n",
       "      <td>10.389648</td>\n",
       "      <td>9.889648</td>\n",
       "      <td>19.793808</td>\n",
       "      <td>34.174427</td>\n",
       "      <td>42.192020</td>\n",
       "    </tr>\n",
       "    <tr>\n",
       "      <td>2016-01-15 01:00:00</td>\n",
       "      <td>6.161113</td>\n",
       "      <td>2.266033</td>\n",
       "      <td>6.478583</td>\n",
       "      <td>11.615865</td>\n",
       "      <td>8.558743</td>\n",
       "      <td>6.029369</td>\n",
       "      <td>7.278807</td>\n",
       "      <td>10.497069</td>\n",
       "      <td>9.968944</td>\n",
       "      <td>20.050975</td>\n",
       "      <td>34.118526</td>\n",
       "      <td>42.701629</td>\n",
       "    </tr>\n",
       "    <tr>\n",
       "      <td>2016-01-15 02:00:00</td>\n",
       "      <td>6.116455</td>\n",
       "      <td>2.159622</td>\n",
       "      <td>6.362222</td>\n",
       "      <td>11.695753</td>\n",
       "      <td>8.603505</td>\n",
       "      <td>6.055926</td>\n",
       "      <td>7.216833</td>\n",
       "      <td>10.354494</td>\n",
       "      <td>10.213995</td>\n",
       "      <td>19.737170</td>\n",
       "      <td>33.969464</td>\n",
       "      <td>42.657501</td>\n",
       "    </tr>\n",
       "  </tbody>\n",
       "</table>\n",
       "</div>"
      ],
      "text/plain": [
       "                     rougher.input.feed_ag  rougher.input.feed_pb  \\\n",
       "date                                                                \n",
       "2016-01-15 00:00:00               6.100378               2.284912   \n",
       "2016-01-15 01:00:00               6.161113               2.266033   \n",
       "2016-01-15 02:00:00               6.116455               2.159622   \n",
       "\n",
       "                     rougher.input.feed_au  rougher.output.concentrate_ag  \\\n",
       "date                                                                        \n",
       "2016-01-15 00:00:00               6.486150                      11.500771   \n",
       "2016-01-15 01:00:00               6.478583                      11.615865   \n",
       "2016-01-15 02:00:00               6.362222                      11.695753   \n",
       "\n",
       "                     primary_cleaner.output.concentrate_ag  \\\n",
       "date                                                         \n",
       "2016-01-15 00:00:00                               8.547551   \n",
       "2016-01-15 01:00:00                               8.558743   \n",
       "2016-01-15 02:00:00                               8.603505   \n",
       "\n",
       "                     final.output.concentrate_ag  \\\n",
       "date                                               \n",
       "2016-01-15 00:00:00                     6.055403   \n",
       "2016-01-15 01:00:00                     6.029369   \n",
       "2016-01-15 02:00:00                     6.055926   \n",
       "\n",
       "                     rougher.output.concentrate_pb  \\\n",
       "date                                                 \n",
       "2016-01-15 00:00:00                       7.101074   \n",
       "2016-01-15 01:00:00                       7.278807   \n",
       "2016-01-15 02:00:00                       7.216833   \n",
       "\n",
       "                     primary_cleaner.output.concentrate_pb  \\\n",
       "date                                                         \n",
       "2016-01-15 00:00:00                              10.389648   \n",
       "2016-01-15 01:00:00                              10.497069   \n",
       "2016-01-15 02:00:00                              10.354494   \n",
       "\n",
       "                     final.output.concentrate_pb  \\\n",
       "date                                               \n",
       "2016-01-15 00:00:00                     9.889648   \n",
       "2016-01-15 01:00:00                     9.968944   \n",
       "2016-01-15 02:00:00                    10.213995   \n",
       "\n",
       "                     rougher.output.concentrate_au  \\\n",
       "date                                                 \n",
       "2016-01-15 00:00:00                      19.793808   \n",
       "2016-01-15 01:00:00                      20.050975   \n",
       "2016-01-15 02:00:00                      19.737170   \n",
       "\n",
       "                     primary_cleaner.output.concentrate_au  \\\n",
       "date                                                         \n",
       "2016-01-15 00:00:00                              34.174427   \n",
       "2016-01-15 01:00:00                              34.118526   \n",
       "2016-01-15 02:00:00                              33.969464   \n",
       "\n",
       "                     final.output.concentrate_au  \n",
       "date                                              \n",
       "2016-01-15 00:00:00                    42.192020  \n",
       "2016-01-15 01:00:00                    42.701629  \n",
       "2016-01-15 02:00:00                    42.657501  "
      ]
     },
     "execution_count": 35,
     "metadata": {},
     "output_type": "execute_result"
    }
   ],
   "source": [
    "concentration = full[['rougher.input.feed_ag', 'rougher.input.feed_pb', 'rougher.input.feed_au',\n",
    "                           'rougher.output.concentrate_ag', 'primary_cleaner.output.concentrate_ag', 'final.output.concentrate_ag',\n",
    "                           'rougher.output.concentrate_pb', 'primary_cleaner.output.concentrate_pb', 'final.output.concentrate_pb',\n",
    "                           'rougher.output.concentrate_au', 'primary_cleaner.output.concentrate_au', 'final.output.concentrate_au']]\n",
    "concentration.head(3)"
   ]
  },
  {
   "cell_type": "markdown",
   "metadata": {},
   "source": [
    "Построим график \"ящик с усами\":"
   ]
  },
  {
   "cell_type": "code",
   "execution_count": 36,
   "metadata": {},
   "outputs": [
    {
     "data": {
      "image/png": "[encoded data removed]",
      "text/plain": [
       "<Figure size 1080x720 with 1 Axes>"
      ]
     },
     "metadata": {
      "needs_background": "light"
     },
     "output_type": "display_data"
    }
   ],
   "source": [
    "plt.figure(figsize=(15,10))\n",
    "sns.boxplot(data=concentration, orient='h').set(xlabel='Концентрация', ylabel='Этап_Тип металла', title='Концентрации металлов (Au, Ag, Pb) на различных этапах очистки');"
   ]
  },
  {
   "cell_type": "markdown",
   "metadata": {},
   "source": [
    "**Вывод**"
   ]
  },
  {
   "cell_type": "markdown",
   "metadata": {},
   "source": [
    "Концентрация золота с каждым этапом очистки увеличивается, достигая 4-х кратного роста по сравнению с концентрацией в исходном сырье. Рост концентрации золота происходит равномерно на каждм этапе. Концентрация серебра на каждм этапе снижается. Концентрация свинца показывает 2-х кратный рост после этапа флотации и затем практически не изменяется."
   ]
  },
  {
   "attachments": {
    "image.png": {
     "image/png": "[encoded data removed]"
    }
   },
   "cell_type": "markdown",
   "metadata": {},
   "source": [
    "![image.png](attachment:image.png)"
   ]
  },
  {
   "cell_type": "markdown",
   "metadata": {},
   "source": [
    "### Анализ распределения размеров гранул сырья на обучающей и тестовой выборках"
   ]
  },
  {
   "cell_type": "markdown",
   "metadata": {},
   "source": [
    "Посмотрим на статистические данные признаков первичных характеристик сырья на обучающей и тестовой выборках:"
   ]
  },
  {
   "cell_type": "markdown",
   "metadata": {},
   "source": [
    "**Распределенир размеров гранул сырья до флотации:**"
   ]
  },
  {
   "cell_type": "code",
   "execution_count": 37,
   "metadata": {},
   "outputs": [
    {
     "data": {
      "text/html": [
       "<div>\n",
       "<style scoped>\n",
       "    .dataframe tbody tr th:only-of-type {\n",
       "        vertical-align: middle;\n",
       "    }\n",
       "\n",
       "    .dataframe tbody tr th {\n",
       "        vertical-align: top;\n",
       "    }\n",
       "\n",
       "    .dataframe thead th {\n",
       "        text-align: right;\n",
       "    }\n",
       "</style>\n",
       "<table border=\"1\" class=\"dataframe\">\n",
       "  <thead>\n",
       "    <tr style=\"text-align: right;\">\n",
       "      <th></th>\n",
       "      <th>train</th>\n",
       "      <th>test</th>\n",
       "    </tr>\n",
       "  </thead>\n",
       "  <tbody>\n",
       "    <tr>\n",
       "      <td>count</td>\n",
       "      <td>14149.000000</td>\n",
       "      <td>5290.000000</td>\n",
       "    </tr>\n",
       "    <tr>\n",
       "      <td>mean</td>\n",
       "      <td>60.033541</td>\n",
       "      <td>55.952835</td>\n",
       "    </tr>\n",
       "    <tr>\n",
       "      <td>std</td>\n",
       "      <td>23.099655</td>\n",
       "      <td>19.080372</td>\n",
       "    </tr>\n",
       "    <tr>\n",
       "      <td>min</td>\n",
       "      <td>9.659576</td>\n",
       "      <td>0.046369</td>\n",
       "    </tr>\n",
       "    <tr>\n",
       "      <td>25%</td>\n",
       "      <td>48.913889</td>\n",
       "      <td>43.906504</td>\n",
       "    </tr>\n",
       "    <tr>\n",
       "      <td>50%</td>\n",
       "      <td>55.269784</td>\n",
       "      <td>50.846843</td>\n",
       "    </tr>\n",
       "    <tr>\n",
       "      <td>75%</td>\n",
       "      <td>65.982466</td>\n",
       "      <td>62.451165</td>\n",
       "    </tr>\n",
       "    <tr>\n",
       "      <td>max</td>\n",
       "      <td>484.967466</td>\n",
       "      <td>392.494040</td>\n",
       "    </tr>\n",
       "  </tbody>\n",
       "</table>\n",
       "</div>"
      ],
      "text/plain": [
       "              train         test\n",
       "count  14149.000000  5290.000000\n",
       "mean      60.033541    55.952835\n",
       "std       23.099655    19.080372\n",
       "min        9.659576     0.046369\n",
       "25%       48.913889    43.906504\n",
       "50%       55.269784    50.846843\n",
       "75%       65.982466    62.451165\n",
       "max      484.967466   392.494040"
      ]
     },
     "execution_count": 37,
     "metadata": {},
     "output_type": "execute_result"
    }
   ],
   "source": [
    "rougher_feed_size = pd.concat([train['rougher.input.feed_size'], \n",
    "                                     test['rougher.input.feed_size']], axis=1) \n",
    "rougher_feed_size.columns = ['train', 'test']\n",
    "rougher_feed_size.describe()"
   ]
  },
  {
   "cell_type": "markdown",
   "metadata": {},
   "source": [
    "И построим график распределения:"
   ]
  },
  {
   "cell_type": "code",
   "execution_count": 38,
   "metadata": {},
   "outputs": [
    {
     "data": {
      "image/png": "[encoded data removed]",
      "text/plain": [
       "<Figure size 1224x504 with 1 Axes>"
      ]
     },
     "metadata": {
      "needs_background": "light"
     },
     "output_type": "display_data"
    }
   ],
   "source": [
    "plt.figure(figsize=(17,7))\n",
    "sns.boxplot(data=(train['rougher.input.feed_size'], \n",
    "                  test['rougher.input.feed_size']), orient='h').set(xlabel='Размер гранул', ylabel='Выборка', title='Распределение размеров гранул сырья')\n",
    "plt.yticks([0,1], ['Train', 'Test']);"
   ]
  },
  {
   "cell_type": "markdown",
   "metadata": {},
   "source": [
    "**Распределение размеров гранул сырья на этапе первичной очистки:**"
   ]
  },
  {
   "cell_type": "code",
   "execution_count": 39,
   "metadata": {},
   "outputs": [
    {
     "data": {
      "text/html": [
       "<div>\n",
       "<style scoped>\n",
       "    .dataframe tbody tr th:only-of-type {\n",
       "        vertical-align: middle;\n",
       "    }\n",
       "\n",
       "    .dataframe tbody tr th {\n",
       "        vertical-align: top;\n",
       "    }\n",
       "\n",
       "    .dataframe thead th {\n",
       "        text-align: right;\n",
       "    }\n",
       "</style>\n",
       "<table border=\"1\" class=\"dataframe\">\n",
       "  <thead>\n",
       "    <tr style=\"text-align: right;\">\n",
       "      <th></th>\n",
       "      <th>train</th>\n",
       "      <th>test</th>\n",
       "    </tr>\n",
       "  </thead>\n",
       "  <tbody>\n",
       "    <tr>\n",
       "      <td>count</td>\n",
       "      <td>14149.000000</td>\n",
       "      <td>5290.000000</td>\n",
       "    </tr>\n",
       "    <tr>\n",
       "      <td>mean</td>\n",
       "      <td>7.322310</td>\n",
       "      <td>7.266339</td>\n",
       "    </tr>\n",
       "    <tr>\n",
       "      <td>std</td>\n",
       "      <td>0.614062</td>\n",
       "      <td>0.610219</td>\n",
       "    </tr>\n",
       "    <tr>\n",
       "      <td>min</td>\n",
       "      <td>1.080000</td>\n",
       "      <td>5.650000</td>\n",
       "    </tr>\n",
       "    <tr>\n",
       "      <td>25%</td>\n",
       "      <td>6.960000</td>\n",
       "      <td>6.890000</td>\n",
       "    </tr>\n",
       "    <tr>\n",
       "      <td>50%</td>\n",
       "      <td>7.290000</td>\n",
       "      <td>7.250000</td>\n",
       "    </tr>\n",
       "    <tr>\n",
       "      <td>75%</td>\n",
       "      <td>7.700000</td>\n",
       "      <td>7.600000</td>\n",
       "    </tr>\n",
       "    <tr>\n",
       "      <td>max</td>\n",
       "      <td>10.470000</td>\n",
       "      <td>15.500000</td>\n",
       "    </tr>\n",
       "  </tbody>\n",
       "</table>\n",
       "</div>"
      ],
      "text/plain": [
       "              train         test\n",
       "count  14149.000000  5290.000000\n",
       "mean       7.322310     7.266339\n",
       "std        0.614062     0.610219\n",
       "min        1.080000     5.650000\n",
       "25%        6.960000     6.890000\n",
       "50%        7.290000     7.250000\n",
       "75%        7.700000     7.600000\n",
       "max       10.470000    15.500000"
      ]
     },
     "execution_count": 39,
     "metadata": {},
     "output_type": "execute_result"
    }
   ],
   "source": [
    "primary_feed_size = pd.concat([train['primary_cleaner.input.feed_size'], \n",
    "                                     test['primary_cleaner.input.feed_size']], axis=1) \n",
    "primary_feed_size.columns = ['train', 'test']\n",
    "primary_feed_size.describe()"
   ]
  },
  {
   "cell_type": "code",
   "execution_count": 40,
   "metadata": {},
   "outputs": [
    {
     "data": {
      "image/png": "[encoded data removed]",
      "text/plain": [
       "<Figure size 864x504 with 1 Axes>"
      ]
     },
     "metadata": {
      "needs_background": "light"
     },
     "output_type": "display_data"
    }
   ],
   "source": [
    "plt.figure(figsize=(12,7))\n",
    "sns.boxplot(data=(train['primary_cleaner.input.feed_size'], \n",
    "                  test['primary_cleaner.input.feed_size']), orient='h').set(xlabel='Размер гранул', ylabel='Выборка', title='Распределение размеров гранул сырья')\n",
    "plt.yticks([0,1], ['Train', 'Test']);"
   ]
  },
  {
   "cell_type": "markdown",
   "metadata": {},
   "source": [
    "**Вывод**"
   ]
  },
  {
   "cell_type": "markdown",
   "metadata": {},
   "source": [
    "Из построенных графиков видно, что распределение размеров гранул сырья на обучающей и тестовой выборках приблизительно одинаково как на этапе первичного сырья перед флотацией, так и на этапе первичной обработки."
   ]
  },
  {
   "cell_type": "markdown",
   "metadata": {},
   "source": [
    "### Исследование суммарной концентрации всех веществ на разных стадиях: в сырье, в черновом и финальном концентратах"
   ]
  },
  {
   "cell_type": "markdown",
   "metadata": {},
   "source": [
    "Из датафрейма full отберем признаки, которые характеризуют концентрацию Au, Ag, Pb на разных стадиях обработки. Для каждой стадии посчитаем общую концентрацию:"
   ]
  },
  {
   "cell_type": "code",
   "execution_count": 41,
   "metadata": {},
   "outputs": [],
   "source": [
    "stage_1 = 'rougher.input.feed_'\n",
    "stage_2 = 'rougher.output.concentrate_'\n",
    "stage_3 = 'primary_cleaner.output.concentrate_'\n",
    "stage_4 = 'final.output.concentrate_'\n",
    "\n",
    "full['rougher_input_feed'] = full[[stage_1+'au', stage_1+'ag', stage_1+'pb']].sum(axis=1)\n",
    "full['rougher_output_concentrate'] = full[[stage_2+'au', stage_2+'ag', stage_2+'pb']].sum(axis=1)\n",
    "full['primary_cleaner_output_concentrate'] = full[[stage_3+'au', stage_3+'ag', stage_3+'pb']].sum(axis=1)\n",
    "full['final_output_concentrate'] = full[[stage_4+'au', stage_4+'ag', stage_4+'pb']].sum(axis=1)"
   ]
  },
  {
   "cell_type": "code",
   "execution_count": 42,
   "metadata": {},
   "outputs": [
    {
     "data": {
      "text/html": [
       "<div>\n",
       "<style scoped>\n",
       "    .dataframe tbody tr th:only-of-type {\n",
       "        vertical-align: middle;\n",
       "    }\n",
       "\n",
       "    .dataframe tbody tr th {\n",
       "        vertical-align: top;\n",
       "    }\n",
       "\n",
       "    .dataframe thead th {\n",
       "        text-align: right;\n",
       "    }\n",
       "</style>\n",
       "<table border=\"1\" class=\"dataframe\">\n",
       "  <thead>\n",
       "    <tr style=\"text-align: right;\">\n",
       "      <th></th>\n",
       "      <th>rougher_input_feed</th>\n",
       "      <th>rougher_output_concentrate</th>\n",
       "      <th>primary_cleaner_output_concentrate</th>\n",
       "      <th>final_output_concentrate</th>\n",
       "    </tr>\n",
       "  </thead>\n",
       "  <tbody>\n",
       "    <tr>\n",
       "      <td>count</td>\n",
       "      <td>19439.000000</td>\n",
       "      <td>19439.000000</td>\n",
       "      <td>19439.000000</td>\n",
       "      <td>19439.000000</td>\n",
       "    </tr>\n",
       "    <tr>\n",
       "      <td>mean</td>\n",
       "      <td>20.646494</td>\n",
       "      <td>39.373032</td>\n",
       "      <td>50.371899</td>\n",
       "      <td>59.223717</td>\n",
       "    </tr>\n",
       "    <tr>\n",
       "      <td>std</td>\n",
       "      <td>4.479095</td>\n",
       "      <td>6.863389</td>\n",
       "      <td>7.627839</td>\n",
       "      <td>6.095152</td>\n",
       "    </tr>\n",
       "    <tr>\n",
       "      <td>min</td>\n",
       "      <td>0.030000</td>\n",
       "      <td>0.000000</td>\n",
       "      <td>0.000000</td>\n",
       "      <td>0.000000</td>\n",
       "    </tr>\n",
       "    <tr>\n",
       "      <td>25%</td>\n",
       "      <td>17.252879</td>\n",
       "      <td>38.394639</td>\n",
       "      <td>50.051198</td>\n",
       "      <td>59.298323</td>\n",
       "    </tr>\n",
       "    <tr>\n",
       "      <td>50%</td>\n",
       "      <td>20.141216</td>\n",
       "      <td>40.312648</td>\n",
       "      <td>51.908132</td>\n",
       "      <td>60.306921</td>\n",
       "    </tr>\n",
       "    <tr>\n",
       "      <td>75%</td>\n",
       "      <td>23.797381</td>\n",
       "      <td>42.365102</td>\n",
       "      <td>53.386978</td>\n",
       "      <td>61.096667</td>\n",
       "    </tr>\n",
       "    <tr>\n",
       "      <td>max</td>\n",
       "      <td>33.498784</td>\n",
       "      <td>55.568687</td>\n",
       "      <td>60.269003</td>\n",
       "      <td>64.968881</td>\n",
       "    </tr>\n",
       "  </tbody>\n",
       "</table>\n",
       "</div>"
      ],
      "text/plain": [
       "       rougher_input_feed  rougher_output_concentrate  \\\n",
       "count        19439.000000                19439.000000   \n",
       "mean            20.646494                   39.373032   \n",
       "std              4.479095                    6.863389   \n",
       "min              0.030000                    0.000000   \n",
       "25%             17.252879                   38.394639   \n",
       "50%             20.141216                   40.312648   \n",
       "75%             23.797381                   42.365102   \n",
       "max             33.498784                   55.568687   \n",
       "\n",
       "       primary_cleaner_output_concentrate  final_output_concentrate  \n",
       "count                        19439.000000              19439.000000  \n",
       "mean                            50.371899                 59.223717  \n",
       "std                              7.627839                  6.095152  \n",
       "min                              0.000000                  0.000000  \n",
       "25%                             50.051198                 59.298323  \n",
       "50%                             51.908132                 60.306921  \n",
       "75%                             53.386978                 61.096667  \n",
       "max                             60.269003                 64.968881  "
      ]
     },
     "execution_count": 42,
     "metadata": {},
     "output_type": "execute_result"
    }
   ],
   "source": [
    "full[['rougher_input_feed', 'rougher_output_concentrate', 'primary_cleaner_output_concentrate', 'final_output_concentrate']].describe()"
   ]
  },
  {
   "cell_type": "code",
   "execution_count": 43,
   "metadata": {},
   "outputs": [
    {
     "data": {
      "text/plain": [
       "([<matplotlib.axis.YTick at 0x7f5bea4a4590>,\n",
       "  <matplotlib.axis.YTick at 0x7f5bea4a4d10>,\n",
       "  <matplotlib.axis.YTick at 0x7f5bea3f8410>,\n",
       "  <matplotlib.axis.YTick at 0x7f5bea46e050>],\n",
       " <a list of 4 Text yticklabel objects>)"
      ]
     },
     "execution_count": 43,
     "metadata": {},
     "output_type": "execute_result"
    },
    {
     "data": {
      "image/png": "[encoded data removed]",
      "text/plain": [
       "<Figure size 864x504 with 1 Axes>"
      ]
     },
     "metadata": {
      "needs_background": "light"
     },
     "output_type": "display_data"
    }
   ],
   "source": [
    "plt.figure(figsize=(12,7))\n",
    "sns.boxplot(data=(full['rougher_input_feed'], \n",
    "                  full['rougher_output_concentrate'],\n",
    "                  full['primary_cleaner_output_concentrate'],\n",
    "                  full['final_output_concentrate']), orient='h').set(xlabel='Объем концентрации', ylabel='Стадия очистки', title='Суммарная концентрация всех веществ на разных стадиях')\n",
    "plt.yticks([0,1,2,4], ['Сырье', 'Черновой концентрат', 'Концентрат после очистки', 'Финальный концентрат'])"
   ]
  },
  {
   "cell_type": "markdown",
   "metadata": {},
   "source": [
    "Из графиков видно, что на всех стадиях очистки присутствует значительное количество выбросов, особенно на 2-4 стадиях. Кроме того, на 2-4 стадиях для некоторых объектов суммарное концентрация всех веществ на этапах черновой концентрат, концентрат после очистки и финальный концентрат составляет 0."
   ]
  },
  {
   "cell_type": "code",
   "execution_count": 44,
   "metadata": {},
   "outputs": [],
   "source": [
    "columns = ['rougher_input_feed', 'rougher_output_concentrate', 'primary_cleaner_output_concentrate', 'final_output_concentrate']"
   ]
  },
  {
   "cell_type": "code",
   "execution_count": 45,
   "metadata": {},
   "outputs": [
    {
     "name": "stdout",
     "output_type": "stream",
     "text": [
      "rougher_input_feed 0: 0\n",
      "rougher_input_feed < 10: 148\n",
      "\n",
      "\n",
      "rougher_output_concentrate 0: 394\n",
      "rougher_output_concentrate < 10: 406\n",
      "\n",
      "\n",
      "primary_cleaner_output_concentrate 0: 108\n",
      "primary_cleaner_output_concentrate < 10: 280\n",
      "\n",
      "\n",
      "final_output_concentrate 0: 98\n",
      "final_output_concentrate < 10: 109\n",
      "\n",
      "\n"
     ]
    }
   ],
   "source": [
    "for column in columns:\n",
    "    print(column, '0:', len(full[full[column] == 0]))\n",
    "    print(column, '< 10:', len(full[full[column] < 10]))\n",
    "    print('\\n')"
   ]
  },
  {
   "cell_type": "markdown",
   "metadata": {},
   "source": [
    "Оставим объекты, где суммарная концентрация вещест свыше 10:"
   ]
  },
  {
   "cell_type": "code",
   "execution_count": 46,
   "metadata": {},
   "outputs": [
    {
     "data": {
      "text/plain": [
       "(18561, 90)"
      ]
     },
     "execution_count": 46,
     "metadata": {},
     "output_type": "execute_result"
    }
   ],
   "source": [
    "full_clean = full[\n",
    "    (full['rougher_input_feed'] > 10) & \n",
    "    (full['rougher_output_concentrate'] > 10) & \n",
    "    (full['primary_cleaner_output_concentrate'] > 10) & \n",
    "    (full['final_output_concentrate'] > 10)\n",
    "]\n",
    "full_clean.shape"
   ]
  },
  {
   "cell_type": "code",
   "execution_count": 47,
   "metadata": {},
   "outputs": [
    {
     "data": {
      "text/plain": [
       "([<matplotlib.axis.YTick at 0x7f5bea8dffd0>,\n",
       "  <matplotlib.axis.YTick at 0x7f5bea8e6f50>,\n",
       "  <matplotlib.axis.YTick at 0x7f5bea68c250>,\n",
       "  <matplotlib.axis.YTick at 0x7f5bea73ac50>],\n",
       " <a list of 4 Text yticklabel objects>)"
      ]
     },
     "execution_count": 47,
     "metadata": {},
     "output_type": "execute_result"
    },
    {
     "data": {
      "image/png": "[encoded data removed]",
      "text/plain": [
       "<Figure size 864x504 with 1 Axes>"
      ]
     },
     "metadata": {
      "needs_background": "light"
     },
     "output_type": "display_data"
    }
   ],
   "source": [
    "plt.figure(figsize=(12,7))\n",
    "sns.boxplot(data=(full_clean['rougher_input_feed'], \n",
    "                  full_clean['rougher_output_concentrate'],\n",
    "                  full_clean['primary_cleaner_output_concentrate'],\n",
    "                  full_clean['final_output_concentrate']), orient='h').set(xlabel='Объем концентрации', ylabel='Стадия очистки', title='Суммарная концентрация всех веществ на разных стадиях')\n",
    "plt.yticks([0,1,2,4], ['Сырье', 'Черновой концентрат', 'Концентрат после очистки', 'Финальный концентрат'])"
   ]
  },
  {
   "cell_type": "markdown",
   "metadata": {},
   "source": [
    "Удалим из обучающего и тестового датасета объекты, которые были удалены из датасета full:"
   ]
  },
  {
   "cell_type": "code",
   "execution_count": 48,
   "metadata": {},
   "outputs": [
    {
     "data": {
      "text/plain": [
       "(14149, 54)"
      ]
     },
     "execution_count": 48,
     "metadata": {},
     "output_type": "execute_result"
    }
   ],
   "source": [
    "train.shape"
   ]
  },
  {
   "cell_type": "code",
   "execution_count": 49,
   "metadata": {},
   "outputs": [
    {
     "data": {
      "text/plain": [
       "(5290, 54)"
      ]
     },
     "execution_count": 49,
     "metadata": {},
     "output_type": "execute_result"
    }
   ],
   "source": [
    "test.shape"
   ]
  },
  {
   "cell_type": "code",
   "execution_count": 50,
   "metadata": {},
   "outputs": [
    {
     "data": {
      "text/plain": [
       "(13470, 54)"
      ]
     },
     "execution_count": 50,
     "metadata": {},
     "output_type": "execute_result"
    }
   ],
   "source": [
    "train_clean = pd.DataFrame(data=train, index=full_clean.index)\n",
    "train_clean.dropna(inplace=True)\n",
    "train_clean.shape"
   ]
  },
  {
   "cell_type": "code",
   "execution_count": 51,
   "metadata": {},
   "outputs": [
    {
     "data": {
      "text/plain": [
       "(5091, 54)"
      ]
     },
     "execution_count": 51,
     "metadata": {},
     "output_type": "execute_result"
    }
   ],
   "source": [
    "test_clean = pd.DataFrame(data=test, index=full_clean.index)\n",
    "test_clean.dropna(inplace=True)\n",
    "test_clean.shape"
   ]
  },
  {
   "cell_type": "markdown",
   "metadata": {},
   "source": [
    "**Вывод**"
   ]
  },
  {
   "cell_type": "markdown",
   "metadata": {},
   "source": [
    "На втором этапе получены следующие результаты:\n",
    "\n",
    "1) Выполнен анализ концентрации металлов (Au, Ag, Pb) на различных этапах очистки.\n",
    "\n",
    "Концентрация золота с каждым этапом очистки увеличивается, достигая 4-х кратного роста по сравнению с концентрацией в исходном сырье. Рост концентрации золота происходит равномерно на каждм этапе. Концентрация серебра на каждм этапе снижается. Концентрация свинца показывает 2-х кратный рост после этапа флотации и затем практически не изменяется.\n",
    "\n",
    "На всех стадиях очистки в данных присутствуют выбросы.\n",
    "\n",
    "2) Выполнен анализ распределения размеров гранул сырья на обучающей и тестовой выборках.\n",
    "\n",
    "Распределение размеров гранул сырья на обучающей и тестовой выборках приблизительно одинаково как на этапе первичного сырья перед флотацией, так и на этапе первичной обработки.\n",
    "\n",
    "3) Выполнено исследование суммарной концентрации всех веществ на разных стадиях.\n",
    "\n",
    "Из данных исключены нулевые значения, а также выбросы ниже 10 единиц объема."
   ]
  },
  {
   "cell_type": "markdown",
   "metadata": {},
   "source": [
    "## Модель"
   ]
  },
  {
   "cell_type": "markdown",
   "metadata": {},
   "source": [
    "### Функция для вычисления итоговой sMAPE"
   ]
  },
  {
   "cell_type": "markdown",
   "metadata": {},
   "source": [
    "Напишем функцию для расчета метрики sMAPE:"
   ]
  },
  {
   "cell_type": "code",
   "execution_count": 52,
   "metadata": {},
   "outputs": [],
   "source": [
    "def smape(target, predictions):\n",
    "    numerator = abs(predictions - target)\n",
    "    denominator = (abs(target) + abs(predictions)) / 2\n",
    "    summa = (numerator / denominator).sum()\n",
    "\n",
    "    smape = 1 / len(target) * summa * 100\n",
    "    return smape"
   ]
  },
  {
   "cell_type": "markdown",
   "metadata": {},
   "source": [
    "А также функцию для расчета итоговой метрики качества sMAPE:"
   ]
  },
  {
   "cell_type": "code",
   "execution_count": 53,
   "metadata": {},
   "outputs": [],
   "source": [
    "def smape_final(smape_rougher, smape_final):\n",
    "    smape_final = 0.25 * smape_rougher + 0.75 * smape_final\n",
    "    return smape_final"
   ]
  },
  {
   "cell_type": "markdown",
   "metadata": {},
   "source": [
    "### Обучение моделей и выбор лучшей модели"
   ]
  },
  {
   "cell_type": "markdown",
   "metadata": {},
   "source": [
    "Сохраним признаки и целевые признаки в отдельные переменные:"
   ]
  },
  {
   "cell_type": "code",
   "execution_count": 54,
   "metadata": {},
   "outputs": [],
   "source": [
    "features_train = train_clean.drop(['rougher.output.recovery', 'final.output.recovery'], axis=1)\n",
    "target_rougher_train = train_clean['rougher.output.recovery']\n",
    "target_final_train = train_clean['final.output.recovery']"
   ]
  },
  {
   "cell_type": "code",
   "execution_count": 55,
   "metadata": {},
   "outputs": [
    {
     "data": {
      "text/plain": [
       "(13470, 52)"
      ]
     },
     "execution_count": 55,
     "metadata": {},
     "output_type": "execute_result"
    }
   ],
   "source": [
    "features_train.shape"
   ]
  },
  {
   "cell_type": "code",
   "execution_count": 56,
   "metadata": {},
   "outputs": [],
   "source": [
    "features_test = test_clean.drop(['rougher.output.recovery', 'final.output.recovery'], axis=1)\n",
    "target_rougher_test = test_clean['rougher.output.recovery']\n",
    "target_final_test = test_clean['final.output.recovery']"
   ]
  },
  {
   "cell_type": "code",
   "execution_count": 57,
   "metadata": {},
   "outputs": [
    {
     "data": {
      "text/plain": [
       "(5091, 52)"
      ]
     },
     "execution_count": 57,
     "metadata": {},
     "output_type": "execute_result"
    }
   ],
   "source": [
    "features_test.shape"
   ]
  },
  {
   "cell_type": "markdown",
   "metadata": {},
   "source": [
    "Приведем признаки к одному масштабу с применением StandardScaler:"
   ]
  },
  {
   "cell_type": "code",
   "execution_count": 58,
   "metadata": {},
   "outputs": [],
   "source": [
    "numeric = features_train.columns\n",
    "scaler = StandardScaler()\n",
    "scaler.fit(features_train[numeric])\n",
    "\n",
    "features_train[numeric] = scaler.transform(features_train[numeric])\n",
    "features_test[numeric] = scaler.transform(features_test[numeric])"
   ]
  },
  {
   "cell_type": "code",
   "execution_count": 59,
   "metadata": {},
   "outputs": [
    {
     "data": {
      "text/html": [
       "<div>\n",
       "<style scoped>\n",
       "    .dataframe tbody tr th:only-of-type {\n",
       "        vertical-align: middle;\n",
       "    }\n",
       "\n",
       "    .dataframe tbody tr th {\n",
       "        vertical-align: top;\n",
       "    }\n",
       "\n",
       "    .dataframe thead th {\n",
       "        text-align: right;\n",
       "    }\n",
       "</style>\n",
       "<table border=\"1\" class=\"dataframe\">\n",
       "  <thead>\n",
       "    <tr style=\"text-align: right;\">\n",
       "      <th></th>\n",
       "      <th>primary_cleaner.input.sulfate</th>\n",
       "      <th>primary_cleaner.input.depressant</th>\n",
       "      <th>primary_cleaner.input.feed_size</th>\n",
       "      <th>primary_cleaner.input.xanthate</th>\n",
       "      <th>primary_cleaner.state.floatbank8_a_air</th>\n",
       "      <th>primary_cleaner.state.floatbank8_a_level</th>\n",
       "      <th>primary_cleaner.state.floatbank8_b_air</th>\n",
       "      <th>primary_cleaner.state.floatbank8_b_level</th>\n",
       "      <th>primary_cleaner.state.floatbank8_c_air</th>\n",
       "      <th>primary_cleaner.state.floatbank8_c_level</th>\n",
       "      <th>...</th>\n",
       "      <th>secondary_cleaner.state.floatbank4_a_air</th>\n",
       "      <th>secondary_cleaner.state.floatbank4_a_level</th>\n",
       "      <th>secondary_cleaner.state.floatbank4_b_air</th>\n",
       "      <th>secondary_cleaner.state.floatbank4_b_level</th>\n",
       "      <th>secondary_cleaner.state.floatbank5_a_air</th>\n",
       "      <th>secondary_cleaner.state.floatbank5_a_level</th>\n",
       "      <th>secondary_cleaner.state.floatbank5_b_air</th>\n",
       "      <th>secondary_cleaner.state.floatbank5_b_level</th>\n",
       "      <th>secondary_cleaner.state.floatbank6_a_air</th>\n",
       "      <th>secondary_cleaner.state.floatbank6_a_level</th>\n",
       "    </tr>\n",
       "    <tr>\n",
       "      <th>date</th>\n",
       "      <th></th>\n",
       "      <th></th>\n",
       "      <th></th>\n",
       "      <th></th>\n",
       "      <th></th>\n",
       "      <th></th>\n",
       "      <th></th>\n",
       "      <th></th>\n",
       "      <th></th>\n",
       "      <th></th>\n",
       "      <th></th>\n",
       "      <th></th>\n",
       "      <th></th>\n",
       "      <th></th>\n",
       "      <th></th>\n",
       "      <th></th>\n",
       "      <th></th>\n",
       "      <th></th>\n",
       "      <th></th>\n",
       "      <th></th>\n",
       "      <th></th>\n",
       "    </tr>\n",
       "  </thead>\n",
       "  <tbody>\n",
       "    <tr>\n",
       "      <td>2016-01-15 00:00:00</td>\n",
       "      <td>-0.192216</td>\n",
       "      <td>0.368702</td>\n",
       "      <td>-0.13899</td>\n",
       "      <td>0.281580</td>\n",
       "      <td>-0.442852</td>\n",
       "      <td>-0.299011</td>\n",
       "      <td>-0.425119</td>\n",
       "      <td>-0.809911</td>\n",
       "      <td>-0.429322</td>\n",
       "      <td>-0.276149</td>\n",
       "      <td>...</td>\n",
       "      <td>-1.047497</td>\n",
       "      <td>-0.477146</td>\n",
       "      <td>-0.636128</td>\n",
       "      <td>-0.762752</td>\n",
       "      <td>-1.174347</td>\n",
       "      <td>-0.385343</td>\n",
       "      <td>-0.859680</td>\n",
       "      <td>-0.431336</td>\n",
       "      <td>-0.959625</td>\n",
       "      <td>-2.672837</td>\n",
       "    </tr>\n",
       "    <tr>\n",
       "      <td>2016-01-15 01:00:00</td>\n",
       "      <td>-0.230435</td>\n",
       "      <td>0.418875</td>\n",
       "      <td>-0.13899</td>\n",
       "      <td>0.318519</td>\n",
       "      <td>-0.238070</td>\n",
       "      <td>-0.355629</td>\n",
       "      <td>-0.238697</td>\n",
       "      <td>-0.321351</td>\n",
       "      <td>-0.235400</td>\n",
       "      <td>-0.294896</td>\n",
       "      <td>...</td>\n",
       "      <td>-1.051859</td>\n",
       "      <td>-0.536370</td>\n",
       "      <td>-0.664482</td>\n",
       "      <td>-0.704918</td>\n",
       "      <td>-1.154808</td>\n",
       "      <td>-0.433873</td>\n",
       "      <td>-0.876186</td>\n",
       "      <td>-0.434168</td>\n",
       "      <td>-0.986367</td>\n",
       "      <td>-2.509571</td>\n",
       "    </tr>\n",
       "    <tr>\n",
       "      <td>2016-01-15 02:00:00</td>\n",
       "      <td>-0.277710</td>\n",
       "      <td>0.723586</td>\n",
       "      <td>-0.13899</td>\n",
       "      <td>0.288239</td>\n",
       "      <td>-0.041059</td>\n",
       "      <td>-0.329855</td>\n",
       "      <td>-0.052886</td>\n",
       "      <td>-0.343268</td>\n",
       "      <td>-0.042302</td>\n",
       "      <td>-0.339847</td>\n",
       "      <td>...</td>\n",
       "      <td>-1.047821</td>\n",
       "      <td>-0.477792</td>\n",
       "      <td>-0.671646</td>\n",
       "      <td>-0.701532</td>\n",
       "      <td>-1.149362</td>\n",
       "      <td>-0.432807</td>\n",
       "      <td>-0.871122</td>\n",
       "      <td>-0.432523</td>\n",
       "      <td>-0.981069</td>\n",
       "      <td>-2.553798</td>\n",
       "    </tr>\n",
       "    <tr>\n",
       "      <td>2016-01-15 03:00:00</td>\n",
       "      <td>-0.318197</td>\n",
       "      <td>0.725336</td>\n",
       "      <td>-0.13899</td>\n",
       "      <td>0.302780</td>\n",
       "      <td>-0.053377</td>\n",
       "      <td>-0.356959</td>\n",
       "      <td>-0.050814</td>\n",
       "      <td>-0.315773</td>\n",
       "      <td>-0.054919</td>\n",
       "      <td>-0.335740</td>\n",
       "      <td>...</td>\n",
       "      <td>-1.044003</td>\n",
       "      <td>-0.445117</td>\n",
       "      <td>-0.655179</td>\n",
       "      <td>-0.702562</td>\n",
       "      <td>-1.166654</td>\n",
       "      <td>-0.408604</td>\n",
       "      <td>-0.877479</td>\n",
       "      <td>-0.425856</td>\n",
       "      <td>-0.985109</td>\n",
       "      <td>-2.515205</td>\n",
       "    </tr>\n",
       "    <tr>\n",
       "      <td>2016-01-15 04:00:00</td>\n",
       "      <td>-0.430075</td>\n",
       "      <td>0.902025</td>\n",
       "      <td>-0.13899</td>\n",
       "      <td>0.337664</td>\n",
       "      <td>-0.042739</td>\n",
       "      <td>-0.300810</td>\n",
       "      <td>-0.044893</td>\n",
       "      <td>-0.334862</td>\n",
       "      <td>-0.060281</td>\n",
       "      <td>-0.340370</td>\n",
       "      <td>...</td>\n",
       "      <td>-1.045639</td>\n",
       "      <td>-0.425109</td>\n",
       "      <td>-0.664000</td>\n",
       "      <td>-0.700174</td>\n",
       "      <td>-1.174334</td>\n",
       "      <td>-0.473451</td>\n",
       "      <td>-0.891928</td>\n",
       "      <td>-0.428407</td>\n",
       "      <td>-0.986665</td>\n",
       "      <td>-2.555667</td>\n",
       "    </tr>\n",
       "  </tbody>\n",
       "</table>\n",
       "<p>5 rows × 52 columns</p>\n",
       "</div>"
      ],
      "text/plain": [
       "                     primary_cleaner.input.sulfate  \\\n",
       "date                                                 \n",
       "2016-01-15 00:00:00                      -0.192216   \n",
       "2016-01-15 01:00:00                      -0.230435   \n",
       "2016-01-15 02:00:00                      -0.277710   \n",
       "2016-01-15 03:00:00                      -0.318197   \n",
       "2016-01-15 04:00:00                      -0.430075   \n",
       "\n",
       "                     primary_cleaner.input.depressant  \\\n",
       "date                                                    \n",
       "2016-01-15 00:00:00                          0.368702   \n",
       "2016-01-15 01:00:00                          0.418875   \n",
       "2016-01-15 02:00:00                          0.723586   \n",
       "2016-01-15 03:00:00                          0.725336   \n",
       "2016-01-15 04:00:00                          0.902025   \n",
       "\n",
       "                     primary_cleaner.input.feed_size  \\\n",
       "date                                                   \n",
       "2016-01-15 00:00:00                         -0.13899   \n",
       "2016-01-15 01:00:00                         -0.13899   \n",
       "2016-01-15 02:00:00                         -0.13899   \n",
       "2016-01-15 03:00:00                         -0.13899   \n",
       "2016-01-15 04:00:00                         -0.13899   \n",
       "\n",
       "                     primary_cleaner.input.xanthate  \\\n",
       "date                                                  \n",
       "2016-01-15 00:00:00                        0.281580   \n",
       "2016-01-15 01:00:00                        0.318519   \n",
       "2016-01-15 02:00:00                        0.288239   \n",
       "2016-01-15 03:00:00                        0.302780   \n",
       "2016-01-15 04:00:00                        0.337664   \n",
       "\n",
       "                     primary_cleaner.state.floatbank8_a_air  \\\n",
       "date                                                          \n",
       "2016-01-15 00:00:00                               -0.442852   \n",
       "2016-01-15 01:00:00                               -0.238070   \n",
       "2016-01-15 02:00:00                               -0.041059   \n",
       "2016-01-15 03:00:00                               -0.053377   \n",
       "2016-01-15 04:00:00                               -0.042739   \n",
       "\n",
       "                     primary_cleaner.state.floatbank8_a_level  \\\n",
       "date                                                            \n",
       "2016-01-15 00:00:00                                 -0.299011   \n",
       "2016-01-15 01:00:00                                 -0.355629   \n",
       "2016-01-15 02:00:00                                 -0.329855   \n",
       "2016-01-15 03:00:00                                 -0.356959   \n",
       "2016-01-15 04:00:00                                 -0.300810   \n",
       "\n",
       "                     primary_cleaner.state.floatbank8_b_air  \\\n",
       "date                                                          \n",
       "2016-01-15 00:00:00                               -0.425119   \n",
       "2016-01-15 01:00:00                               -0.238697   \n",
       "2016-01-15 02:00:00                               -0.052886   \n",
       "2016-01-15 03:00:00                               -0.050814   \n",
       "2016-01-15 04:00:00                               -0.044893   \n",
       "\n",
       "                     primary_cleaner.state.floatbank8_b_level  \\\n",
       "date                                                            \n",
       "2016-01-15 00:00:00                                 -0.809911   \n",
       "2016-01-15 01:00:00                                 -0.321351   \n",
       "2016-01-15 02:00:00                                 -0.343268   \n",
       "2016-01-15 03:00:00                                 -0.315773   \n",
       "2016-01-15 04:00:00                                 -0.334862   \n",
       "\n",
       "                     primary_cleaner.state.floatbank8_c_air  \\\n",
       "date                                                          \n",
       "2016-01-15 00:00:00                               -0.429322   \n",
       "2016-01-15 01:00:00                               -0.235400   \n",
       "2016-01-15 02:00:00                               -0.042302   \n",
       "2016-01-15 03:00:00                               -0.054919   \n",
       "2016-01-15 04:00:00                               -0.060281   \n",
       "\n",
       "                     primary_cleaner.state.floatbank8_c_level  ...  \\\n",
       "date                                                           ...   \n",
       "2016-01-15 00:00:00                                 -0.276149  ...   \n",
       "2016-01-15 01:00:00                                 -0.294896  ...   \n",
       "2016-01-15 02:00:00                                 -0.339847  ...   \n",
       "2016-01-15 03:00:00                                 -0.335740  ...   \n",
       "2016-01-15 04:00:00                                 -0.340370  ...   \n",
       "\n",
       "                     secondary_cleaner.state.floatbank4_a_air  \\\n",
       "date                                                            \n",
       "2016-01-15 00:00:00                                 -1.047497   \n",
       "2016-01-15 01:00:00                                 -1.051859   \n",
       "2016-01-15 02:00:00                                 -1.047821   \n",
       "2016-01-15 03:00:00                                 -1.044003   \n",
       "2016-01-15 04:00:00                                 -1.045639   \n",
       "\n",
       "                     secondary_cleaner.state.floatbank4_a_level  \\\n",
       "date                                                              \n",
       "2016-01-15 00:00:00                                   -0.477146   \n",
       "2016-01-15 01:00:00                                   -0.536370   \n",
       "2016-01-15 02:00:00                                   -0.477792   \n",
       "2016-01-15 03:00:00                                   -0.445117   \n",
       "2016-01-15 04:00:00                                   -0.425109   \n",
       "\n",
       "                     secondary_cleaner.state.floatbank4_b_air  \\\n",
       "date                                                            \n",
       "2016-01-15 00:00:00                                 -0.636128   \n",
       "2016-01-15 01:00:00                                 -0.664482   \n",
       "2016-01-15 02:00:00                                 -0.671646   \n",
       "2016-01-15 03:00:00                                 -0.655179   \n",
       "2016-01-15 04:00:00                                 -0.664000   \n",
       "\n",
       "                     secondary_cleaner.state.floatbank4_b_level  \\\n",
       "date                                                              \n",
       "2016-01-15 00:00:00                                   -0.762752   \n",
       "2016-01-15 01:00:00                                   -0.704918   \n",
       "2016-01-15 02:00:00                                   -0.701532   \n",
       "2016-01-15 03:00:00                                   -0.702562   \n",
       "2016-01-15 04:00:00                                   -0.700174   \n",
       "\n",
       "                     secondary_cleaner.state.floatbank5_a_air  \\\n",
       "date                                                            \n",
       "2016-01-15 00:00:00                                 -1.174347   \n",
       "2016-01-15 01:00:00                                 -1.154808   \n",
       "2016-01-15 02:00:00                                 -1.149362   \n",
       "2016-01-15 03:00:00                                 -1.166654   \n",
       "2016-01-15 04:00:00                                 -1.174334   \n",
       "\n",
       "                     secondary_cleaner.state.floatbank5_a_level  \\\n",
       "date                                                              \n",
       "2016-01-15 00:00:00                                   -0.385343   \n",
       "2016-01-15 01:00:00                                   -0.433873   \n",
       "2016-01-15 02:00:00                                   -0.432807   \n",
       "2016-01-15 03:00:00                                   -0.408604   \n",
       "2016-01-15 04:00:00                                   -0.473451   \n",
       "\n",
       "                     secondary_cleaner.state.floatbank5_b_air  \\\n",
       "date                                                            \n",
       "2016-01-15 00:00:00                                 -0.859680   \n",
       "2016-01-15 01:00:00                                 -0.876186   \n",
       "2016-01-15 02:00:00                                 -0.871122   \n",
       "2016-01-15 03:00:00                                 -0.877479   \n",
       "2016-01-15 04:00:00                                 -0.891928   \n",
       "\n",
       "                     secondary_cleaner.state.floatbank5_b_level  \\\n",
       "date                                                              \n",
       "2016-01-15 00:00:00                                   -0.431336   \n",
       "2016-01-15 01:00:00                                   -0.434168   \n",
       "2016-01-15 02:00:00                                   -0.432523   \n",
       "2016-01-15 03:00:00                                   -0.425856   \n",
       "2016-01-15 04:00:00                                   -0.428407   \n",
       "\n",
       "                     secondary_cleaner.state.floatbank6_a_air  \\\n",
       "date                                                            \n",
       "2016-01-15 00:00:00                                 -0.959625   \n",
       "2016-01-15 01:00:00                                 -0.986367   \n",
       "2016-01-15 02:00:00                                 -0.981069   \n",
       "2016-01-15 03:00:00                                 -0.985109   \n",
       "2016-01-15 04:00:00                                 -0.986665   \n",
       "\n",
       "                     secondary_cleaner.state.floatbank6_a_level  \n",
       "date                                                             \n",
       "2016-01-15 00:00:00                                   -2.672837  \n",
       "2016-01-15 01:00:00                                   -2.509571  \n",
       "2016-01-15 02:00:00                                   -2.553798  \n",
       "2016-01-15 03:00:00                                   -2.515205  \n",
       "2016-01-15 04:00:00                                   -2.555667  \n",
       "\n",
       "[5 rows x 52 columns]"
      ]
     },
     "execution_count": 59,
     "metadata": {},
     "output_type": "execute_result"
    }
   ],
   "source": [
    "features_train.head(5)"
   ]
  },
  {
   "cell_type": "markdown",
   "metadata": {},
   "source": [
    "**Обучение модели дерево решений**"
   ]
  },
  {
   "cell_type": "code",
   "execution_count": 60,
   "metadata": {},
   "outputs": [],
   "source": [
    "model = DecisionTreeRegressor(random_state=12345)"
   ]
  },
  {
   "cell_type": "markdown",
   "metadata": {},
   "source": [
    "Качество моделей будет оцениваться с помощью кросс-валидации. Для тестирования моделей кросс-валидацией необходимо создать собственный scorer, который будет высчитывать sMAPЕ. Для этого применим метод make_scorer."
   ]
  },
  {
   "cell_type": "code",
   "execution_count": 61,
   "metadata": {},
   "outputs": [],
   "source": [
    "scorer = make_scorer(smape, greater_is_better=False)"
   ]
  },
  {
   "cell_type": "code",
   "execution_count": 62,
   "metadata": {},
   "outputs": [
    {
     "name": "stdout",
     "output_type": "stream",
     "text": [
      "cross_val_score_rougher: -8.229878545344231\n",
      "cross_val_score_final: -15.7728342608609\n"
     ]
    }
   ],
   "source": [
    "cross_val_score_rougher = cross_val_score(model, \n",
    "                                              features_train, \n",
    "                                              target_rougher_train, \n",
    "                                              cv=5, scoring=scorer).mean()\n",
    "\n",
    "cross_val_score_final = cross_val_score(model, \n",
    "                                            features_train, \n",
    "                                            target_final_train, \n",
    "                                            cv=5, scoring=scorer).mean()\n",
    "\n",
    "print('cross_val_score_rougher:', cross_val_score_rougher)\n",
    "print('cross_val_score_final:', cross_val_score_final)"
   ]
  },
  {
   "cell_type": "markdown",
   "metadata": {},
   "source": [
    "**Обучение модели случайный лес**"
   ]
  },
  {
   "cell_type": "code",
   "execution_count": 63,
   "metadata": {},
   "outputs": [],
   "source": [
    "model = RandomForestRegressor(random_state=12345)"
   ]
  },
  {
   "cell_type": "code",
   "execution_count": 64,
   "metadata": {},
   "outputs": [
    {
     "name": "stdout",
     "output_type": "stream",
     "text": [
      "cross_val_score_rougher: -6.982919100827476\n",
      "cross_val_score_final: -10.251161978217977\n"
     ]
    }
   ],
   "source": [
    "cross_val_score_rougher = cross_val_score(model, \n",
    "                                              features_train, \n",
    "                                              target_rougher_train, \n",
    "                                              cv=5, scoring=scorer).mean()\n",
    "\n",
    "cross_val_score_final = cross_val_score(model, \n",
    "                                            features_train, \n",
    "                                            target_final_train, \n",
    "                                            cv=5, scoring=scorer).mean()\n",
    "\n",
    "print('cross_val_score_rougher:', cross_val_score_rougher)\n",
    "print('cross_val_score_final:', cross_val_score_final)"
   ]
  },
  {
   "cell_type": "markdown",
   "metadata": {},
   "source": [
    "**Обучение модели линейная регрессия**"
   ]
  },
  {
   "cell_type": "code",
   "execution_count": 65,
   "metadata": {},
   "outputs": [],
   "source": [
    "model = LinearRegression()"
   ]
  },
  {
   "cell_type": "code",
   "execution_count": 66,
   "metadata": {},
   "outputs": [
    {
     "name": "stdout",
     "output_type": "stream",
     "text": [
      "cross_val_score_rougher: -7.164849401347681\n",
      "cross_val_score_final: -10.900714856121434\n"
     ]
    }
   ],
   "source": [
    "cross_val_score_rougher = cross_val_score(model, \n",
    "                                              features_train, \n",
    "                                              target_rougher_train, \n",
    "                                              cv=5, scoring=scorer).mean()\n",
    "\n",
    "cross_val_score_final = cross_val_score(model, \n",
    "                                            features_train, \n",
    "                                            target_final_train, \n",
    "                                            cv=5, scoring=scorer).mean()\n",
    "\n",
    "print('cross_val_score_rougher:', cross_val_score_rougher)\n",
    "print('cross_val_score_final:', cross_val_score_final)"
   ]
  },
  {
   "cell_type": "markdown",
   "metadata": {},
   "source": [
    "Лучшие результаты получила модель случайного леса:\n",
    "<li>cross_val_score_rougher: -6.982919100827476</li>\n",
    "<li>cross_val_score_final: -10.251161978217977</li>"
   ]
  },
  {
   "cell_type": "markdown",
   "metadata": {},
   "source": [
    "Подберем гиперпараметры для модели случайного леса:"
   ]
  },
  {
   "cell_type": "code",
   "execution_count": 67,
   "metadata": {},
   "outputs": [
    {
     "name": "stdout",
     "output_type": "stream",
     "text": [
      "n_estimators = 10 , depth = 1 : -8.819139344035289\n",
      "n_estimators = 15 , depth = 1 : -8.814487316462493\n",
      "n_estimators = 20 , depth = 1 : -8.811424165031886\n",
      "n_estimators = 10 , depth = 2 : -8.428826886881286\n",
      "n_estimators = 15 , depth = 2 : -8.43639801827791\n",
      "n_estimators = 20 , depth = 2 : -8.416663742238464\n",
      "n_estimators = 10 , depth = 3 : -8.236560977149752\n",
      "n_estimators = 15 , depth = 3 : -8.263854811744872\n",
      "n_estimators = 20 , depth = 3 : -8.23569034834817\n",
      "n_estimators = 10 , depth = 4 : -8.267503304749457\n",
      "n_estimators = 15 , depth = 4 : -8.211323556249274\n",
      "n_estimators = 20 , depth = 4 : -8.15801622484262\n",
      "n_estimators = 10 , depth = 5 : -8.300027243186534\n",
      "n_estimators = 15 , depth = 5 : -8.194876074785812\n",
      "n_estimators = 20 , depth = 5 : -8.181799485858825\n",
      "CPU times: user 4min 35s, sys: 348 ms, total: 4min 36s\n",
      "Wall time: 4min 38s\n"
     ]
    }
   ],
   "source": [
    "%%time \n",
    "for depth in range(1, 6):\n",
    "    for est in range(10, 21, 5):\n",
    "        model = RandomForestRegressor(random_state=12345, n_estimators=est, max_depth=depth)\n",
    "        scorer = make_scorer(smape, greater_is_better=False) \n",
    "        cross_val_score_rougher = cross_val_score(model, features_train, target_rougher_train, cv=5, scoring=scorer).mean()\n",
    "        cross_val_score_final = cross_val_score(model, features_train, target_final_train, cv=5, scoring=scorer).mean()\n",
    "        smape_final_result = smape_final(cross_val_score_rougher, cross_val_score_final)\n",
    "        print('n_estimators =', est,', depth =', depth, ':', smape_final_result)"
   ]
  },
  {
   "cell_type": "markdown",
   "metadata": {},
   "source": [
    "Проверим модель случайного леса на тестовой выборке с гиперпараметрами n_estimators = 20 , depth = 4."
   ]
  },
  {
   "cell_type": "markdown",
   "metadata": {},
   "source": [
    "### Проверка модели на тестовой выборке"
   ]
  },
  {
   "cell_type": "code",
   "execution_count": 68,
   "metadata": {},
   "outputs": [],
   "source": [
    "model_final = RandomForestRegressor(random_state=12345, n_estimators=20, max_depth=4)\n",
    "\n",
    "model_final.fit(features_train, target_rougher_train)\n",
    "predictions_rougher = model_final.predict(features_test)\n",
    "\n",
    "model_final.fit(features_train, target_final_train)\n",
    "predictions_final = model_final.predict(features_test)"
   ]
  },
  {
   "cell_type": "code",
   "execution_count": 69,
   "metadata": {},
   "outputs": [],
   "source": [
    "smape_r = smape(target_rougher_test, predictions_rougher)\n",
    "smape_f = smape(target_final_test, predictions_final)"
   ]
  },
  {
   "cell_type": "code",
   "execution_count": 70,
   "metadata": {},
   "outputs": [
    {
     "name": "stdout",
     "output_type": "stream",
     "text": [
      "Итоговое sMAPE: 7.271799182124951\n"
     ]
    }
   ],
   "source": [
    "smape_final = 0.25 * smape_r + 0.75 * smape_f\n",
    "print('Итоговое sMAPE:', smape_final)"
   ]
  },
  {
   "cell_type": "markdown",
   "metadata": {},
   "source": [
    "### Проверка модели на адекватность"
   ]
  },
  {
   "cell_type": "markdown",
   "metadata": {},
   "source": [
    "Для проверки модели на адекватность сравним с моделью, которая всегда предсказывает случайные значение.\n",
    "Для того, чтобы получить «случайные» результаты, воспользуемся DummyRegressor. Полученные им результаты абсолютно случайные."
   ]
  },
  {
   "cell_type": "code",
   "execution_count": 71,
   "metadata": {},
   "outputs": [],
   "source": [
    "dummy_regr = DummyRegressor(strategy='mean')\n",
    "\n",
    "dummy_regr.fit(features_train, target_rougher_train)\n",
    "predictions_r_dummy = dummy_regr.predict(features_test)\n",
    "\n",
    "dummy_regr.fit(features_train, target_final_train)\n",
    "predictions_f_dummy = dummy_regr.predict(features_test)"
   ]
  },
  {
   "cell_type": "code",
   "execution_count": 72,
   "metadata": {},
   "outputs": [
    {
     "name": "stdout",
     "output_type": "stream",
     "text": [
      "Итоговое sMAPE: 7.573322946914829\n"
     ]
    }
   ],
   "source": [
    "smape_r_dummy = smape(target_rougher_test, predictions_r_dummy)\n",
    "smape_f_dummy = smape(target_final_test, predictions_f_dummy)\n",
    "\n",
    "smape_final = 0.25 * smape_r_dummy + 0.75 * smape_f_dummy\n",
    "print('Итоговое sMAPE:', smape_final)"
   ]
  },
  {
   "cell_type": "markdown",
   "metadata": {},
   "source": [
    "Обученная модель работает чуть лучше чем константная модель: ошибка обученной модели составляет 7.27%, константной - 7.57%."
   ]
  },
  {
   "cell_type": "markdown",
   "metadata": {},
   "source": [
    "**Вывод**"
   ]
  },
  {
   "cell_type": "markdown",
   "metadata": {},
   "source": [
    "На третьем этапе выполнено:\n",
    "\n",
    "<div>1) подготовлены функции для расчёта sMAPE и итоговой sMAPE;</div>\n",
    "<div>2) обучены модели DecisionTreeRegressor, RandomForestRegressor, LinearRegression; </div>\n",
    "<div>3) протестирована на тестовой выборке модель случайного леса с гиперпараметрами n_estimators = 20 и max_depth = 4.</div>"
   ]
  },
  {
   "cell_type": "markdown",
   "metadata": {},
   "source": [
    "## Общий вывод"
   ]
  },
  {
   "cell_type": "markdown",
   "metadata": {},
   "source": [
    "В данной проектной работе на основании предоставленных данных были построены модели предсказания коэффициента восстановления золота из золотосодержащей руды.\n",
    "\n",
    "На первом этапе загружены и изучены данные, исследованы пропущенные в датасетах значения, выполнена предобработка признаков. Выполнен расчет метрики MAE; проверено, что эффективность обогащения рассчитана правильно. Выполнен анализ признаков, недоступных в тестовой выборке: в тестовой выборке отсутствуют целевые признаки, а также признаки output (параметры продукта) и calculation (расчётные характеристики). В основном это рассчитываемые показатели, которые рассчитываются на более поздних стадиях.\n",
    "\n",
    "На втором этапе выполнен анализ концентрации металлов (Au, Ag, Pb) на различных этапах очистки, выполнен анализ распределения размеров гранул сырья на обучающей и тестовой выборках, а также выполнено исследование суммарной концентрации всех веществ на разных стадиях. Из данных исключены аномальные значения.\n",
    "\n",
    "На третьем этапе были построены модели дерева решений, случайного леса, и линейной регрессии. Наилучшие результаты показала модель случайного леса модель случайного леса с гиперпараметрами n_estimators = 20 , depth = 4. Кроме того, выполнена проверка модели на адекватность."
   ]
  }
 ],
 "metadata": {
  "ExecuteTimeLog": [
   {
    "duration": 307,
    "start_time": "2021-06-09T04:55:18.414Z"
   },
   {
    "duration": 853,
    "start_time": "2021-06-09T04:55:24.172Z"
   },
   {
    "duration": 391,
    "start_time": "2021-06-09T04:55:25.028Z"
   },
   {
    "duration": 24,
    "start_time": "2021-06-09T04:55:25.422Z"
   },
   {
    "duration": 138,
    "start_time": "2021-06-09T04:55:25.450Z"
   },
   {
    "duration": 22,
    "start_time": "2021-06-09T04:55:25.590Z"
   },
   {
    "duration": 534,
    "start_time": "2021-06-09T04:55:25.614Z"
   },
   {
    "duration": 25,
    "start_time": "2021-06-09T04:55:26.151Z"
   },
   {
    "duration": 5,
    "start_time": "2021-06-09T04:57:25.970Z"
   },
   {
    "duration": 31,
    "start_time": "2021-06-09T04:57:43.856Z"
   },
   {
    "duration": 5,
    "start_time": "2021-06-09T04:58:17.340Z"
   },
   {
    "duration": 38,
    "start_time": "2021-06-09T04:58:20.151Z"
   },
   {
    "duration": 6,
    "start_time": "2021-06-09T04:58:55.568Z"
   },
   {
    "duration": 40,
    "start_time": "2021-06-09T04:58:57.400Z"
   },
   {
    "duration": 4,
    "start_time": "2021-06-09T05:00:37.864Z"
   },
   {
    "duration": 5,
    "start_time": "2021-06-09T05:00:50.656Z"
   },
   {
    "duration": 41,
    "start_time": "2021-06-09T05:00:52.768Z"
   },
   {
    "duration": 4,
    "start_time": "2021-06-09T05:00:57.848Z"
   },
   {
    "duration": 21,
    "start_time": "2021-06-09T05:00:59.705Z"
   },
   {
    "duration": 4,
    "start_time": "2021-06-09T05:02:11.456Z"
   },
   {
    "duration": 19,
    "start_time": "2021-06-09T05:02:14.688Z"
   },
   {
    "duration": 4,
    "start_time": "2021-06-09T05:02:45.640Z"
   },
   {
    "duration": 30,
    "start_time": "2021-06-09T05:02:47.648Z"
   },
   {
    "duration": 4,
    "start_time": "2021-06-09T05:03:07.881Z"
   },
   {
    "duration": 4,
    "start_time": "2021-06-09T05:03:14.808Z"
   },
   {
    "duration": 29,
    "start_time": "2021-06-09T05:03:15.897Z"
   },
   {
    "duration": 365,
    "start_time": "2021-06-09T05:03:31.761Z"
   },
   {
    "duration": 29,
    "start_time": "2021-06-09T05:03:38.936Z"
   },
   {
    "duration": 20,
    "start_time": "2021-06-09T05:04:00.537Z"
   },
   {
    "duration": 5,
    "start_time": "2021-06-09T05:04:57.824Z"
   },
   {
    "duration": 113,
    "start_time": "2021-06-09T05:05:17.872Z"
   },
   {
    "duration": 26,
    "start_time": "2021-06-09T05:05:21.048Z"
   },
   {
    "duration": 106,
    "start_time": "2021-06-09T05:22:13.703Z"
   },
   {
    "duration": 28,
    "start_time": "2021-06-09T05:22:17.282Z"
   },
   {
    "duration": 31,
    "start_time": "2021-06-09T05:22:24.937Z"
   },
   {
    "duration": 34,
    "start_time": "2021-06-09T05:22:31.842Z"
   },
   {
    "duration": 17,
    "start_time": "2021-06-09T05:22:37.370Z"
   },
   {
    "duration": 47,
    "start_time": "2021-06-09T05:23:06.521Z"
   },
   {
    "duration": 524,
    "start_time": "2021-06-09T05:23:37.578Z"
   },
   {
    "duration": 31,
    "start_time": "2021-06-09T05:23:40.953Z"
   },
   {
    "duration": 32,
    "start_time": "2021-06-09T05:23:49.881Z"
   },
   {
    "duration": 39,
    "start_time": "2021-06-09T05:24:12.553Z"
   },
   {
    "duration": 270,
    "start_time": "2021-06-09T06:46:11.983Z"
   },
   {
    "duration": 819,
    "start_time": "2021-06-09T06:46:47.611Z"
   },
   {
    "duration": 400,
    "start_time": "2021-06-09T06:46:48.433Z"
   },
   {
    "duration": 35,
    "start_time": "2021-06-09T06:46:48.836Z"
   },
   {
    "duration": 43,
    "start_time": "2021-06-09T06:46:48.874Z"
   },
   {
    "duration": 4,
    "start_time": "2021-06-09T06:46:48.920Z"
   },
   {
    "duration": 33,
    "start_time": "2021-06-09T06:46:48.927Z"
   },
   {
    "duration": 121,
    "start_time": "2021-06-09T06:46:48.962Z"
   },
   {
    "duration": 43,
    "start_time": "2021-06-09T06:46:49.085Z"
   },
   {
    "duration": 15,
    "start_time": "2021-06-09T06:46:49.132Z"
   },
   {
    "duration": 52,
    "start_time": "2021-06-09T06:46:49.150Z"
   },
   {
    "duration": 520,
    "start_time": "2021-06-09T06:46:49.204Z"
   },
   {
    "duration": 29,
    "start_time": "2021-06-09T06:46:49.727Z"
   },
   {
    "duration": 52,
    "start_time": "2021-06-09T06:46:49.758Z"
   },
   {
    "duration": 29,
    "start_time": "2021-06-09T06:46:49.812Z"
   },
   {
    "duration": 345,
    "start_time": "2021-06-09T06:46:49.843Z"
   },
   {
    "duration": 4,
    "start_time": "2021-06-09T06:47:15.524Z"
   },
   {
    "duration": 95,
    "start_time": "2021-06-09T06:49:12.989Z"
   },
   {
    "duration": 118,
    "start_time": "2021-06-09T06:49:18.300Z"
   },
   {
    "duration": 267,
    "start_time": "2021-06-09T06:49:23.005Z"
   },
   {
    "duration": 270,
    "start_time": "2021-06-09T06:50:52.750Z"
   },
   {
    "duration": 269,
    "start_time": "2021-06-09T06:51:06.126Z"
   },
   {
    "duration": 4,
    "start_time": "2021-06-09T06:51:10.084Z"
   },
   {
    "duration": 267,
    "start_time": "2021-06-09T06:51:11.260Z"
   },
   {
    "duration": 273,
    "start_time": "2021-06-09T06:51:42.204Z"
   },
   {
    "duration": 266,
    "start_time": "2021-06-09T06:51:57.021Z"
   },
   {
    "duration": 866,
    "start_time": "2021-06-09T06:52:44.474Z"
   },
   {
    "duration": 390,
    "start_time": "2021-06-09T06:52:45.342Z"
   },
   {
    "duration": 34,
    "start_time": "2021-06-09T06:52:45.736Z"
   },
   {
    "duration": 46,
    "start_time": "2021-06-09T06:52:45.772Z"
   },
   {
    "duration": 5,
    "start_time": "2021-06-09T06:52:45.820Z"
   },
   {
    "duration": 35,
    "start_time": "2021-06-09T06:52:45.827Z"
   },
   {
    "duration": 119,
    "start_time": "2021-06-09T06:52:45.864Z"
   },
   {
    "duration": 34,
    "start_time": "2021-06-09T06:52:45.987Z"
   },
   {
    "duration": 17,
    "start_time": "2021-06-09T06:52:46.024Z"
   },
   {
    "duration": 19,
    "start_time": "2021-06-09T06:52:46.044Z"
   },
   {
    "duration": 528,
    "start_time": "2021-06-09T06:52:46.066Z"
   },
   {
    "duration": 30,
    "start_time": "2021-06-09T06:52:46.596Z"
   },
   {
    "duration": 27,
    "start_time": "2021-06-09T06:52:46.629Z"
   },
   {
    "duration": 58,
    "start_time": "2021-06-09T06:52:46.659Z"
   },
   {
    "duration": 372,
    "start_time": "2021-06-09T06:52:46.719Z"
   },
   {
    "duration": -23,
    "start_time": "2021-06-09T06:52:47.116Z"
   },
   {
    "duration": 3,
    "start_time": "2021-06-09T06:53:33.398Z"
   },
   {
    "duration": 8,
    "start_time": "2021-06-09T06:53:34.686Z"
   },
   {
    "duration": 10,
    "start_time": "2021-06-09T06:53:50.501Z"
   },
   {
    "duration": 7,
    "start_time": "2021-06-09T06:54:13.716Z"
   },
   {
    "duration": 7,
    "start_time": "2021-06-09T06:56:18.094Z"
   },
   {
    "duration": 553,
    "start_time": "2021-06-09T09:50:07.944Z"
   },
   {
    "duration": 27,
    "start_time": "2021-06-09T10:07:05.192Z"
   },
   {
    "duration": 7678,
    "start_time": "2021-06-09T10:07:45.148Z"
   },
   {
    "duration": 311,
    "start_time": "2021-06-09T10:08:13.686Z"
   },
   {
    "duration": 23,
    "start_time": "2021-06-09T10:16:16.606Z"
   },
   {
    "duration": 7485,
    "start_time": "2021-06-09T10:18:21.171Z"
   },
   {
    "duration": 10,
    "start_time": "2021-06-09T10:18:48.520Z"
   },
   {
    "duration": 101,
    "start_time": "2021-06-09T12:11:28.153Z"
   },
   {
    "duration": 8,
    "start_time": "2021-06-09T12:13:20.718Z"
   },
   {
    "duration": 93,
    "start_time": "2021-06-09T14:52:38.081Z"
   },
   {
    "duration": 11,
    "start_time": "2021-06-09T14:56:44.947Z"
   },
   {
    "duration": 271,
    "start_time": "2021-06-09T14:56:55.939Z"
   },
   {
    "duration": 9,
    "start_time": "2021-06-09T14:57:35.135Z"
   },
   {
    "duration": 272,
    "start_time": "2021-06-09T14:57:39.548Z"
   },
   {
    "duration": 11,
    "start_time": "2021-06-09T14:58:19.005Z"
   },
   {
    "duration": 29,
    "start_time": "2021-06-09T14:58:34.714Z"
   },
   {
    "duration": 7,
    "start_time": "2021-06-09T14:58:43.003Z"
   },
   {
    "duration": 11,
    "start_time": "2021-06-09T14:58:58.402Z"
   },
   {
    "duration": 21,
    "start_time": "2021-06-09T14:59:04.256Z"
   },
   {
    "duration": 6,
    "start_time": "2021-06-09T14:59:09.774Z"
   },
   {
    "duration": 34,
    "start_time": "2021-06-09T14:59:26.735Z"
   },
   {
    "duration": 7,
    "start_time": "2021-06-09T14:59:31.206Z"
   },
   {
    "duration": 5,
    "start_time": "2021-06-09T15:05:52.071Z"
   },
   {
    "duration": 6,
    "start_time": "2021-06-09T15:06:35.512Z"
   },
   {
    "duration": 271,
    "start_time": "2021-06-09T15:06:48.791Z"
   },
   {
    "duration": 24,
    "start_time": "2021-06-09T15:06:55.516Z"
   },
   {
    "duration": 21,
    "start_time": "2021-06-09T15:07:04.664Z"
   },
   {
    "duration": 27,
    "start_time": "2021-06-09T15:07:17.443Z"
   },
   {
    "duration": 5,
    "start_time": "2021-06-09T15:08:59.057Z"
   },
   {
    "duration": 30,
    "start_time": "2021-06-09T15:09:00.710Z"
   },
   {
    "duration": 6,
    "start_time": "2021-06-09T15:09:15.879Z"
   },
   {
    "duration": 26,
    "start_time": "2021-06-09T15:09:17.832Z"
   },
   {
    "duration": 2050,
    "start_time": "2021-06-09T15:18:03.245Z"
   },
   {
    "duration": 113,
    "start_time": "2021-06-09T15:19:43.270Z"
   },
   {
    "duration": 354,
    "start_time": "2021-06-09T15:19:53.428Z"
   },
   {
    "duration": 327,
    "start_time": "2021-06-09T15:20:13.974Z"
   },
   {
    "duration": 286,
    "start_time": "2021-06-09T15:20:29.604Z"
   },
   {
    "duration": 7772,
    "start_time": "2021-06-09T15:22:22.042Z"
   },
   {
    "duration": 1427,
    "start_time": "2021-06-09T15:23:21.668Z"
   },
   {
    "duration": 402,
    "start_time": "2021-06-09T15:23:23.099Z"
   },
   {
    "duration": 54,
    "start_time": "2021-06-09T15:23:23.505Z"
   },
   {
    "duration": 64,
    "start_time": "2021-06-09T15:23:23.562Z"
   },
   {
    "duration": 5,
    "start_time": "2021-06-09T15:23:23.628Z"
   },
   {
    "duration": 64,
    "start_time": "2021-06-09T15:23:23.636Z"
   },
   {
    "duration": 114,
    "start_time": "2021-06-09T15:23:23.703Z"
   },
   {
    "duration": 32,
    "start_time": "2021-06-09T15:23:23.821Z"
   },
   {
    "duration": 50,
    "start_time": "2021-06-09T15:23:23.857Z"
   },
   {
    "duration": 23,
    "start_time": "2021-06-09T15:23:23.910Z"
   },
   {
    "duration": 550,
    "start_time": "2021-06-09T15:23:23.936Z"
   },
   {
    "duration": 37,
    "start_time": "2021-06-09T15:23:24.488Z"
   },
   {
    "duration": 33,
    "start_time": "2021-06-09T15:23:24.528Z"
   },
   {
    "duration": 75,
    "start_time": "2021-06-09T15:23:24.564Z"
   },
   {
    "duration": 4,
    "start_time": "2021-06-09T15:23:24.641Z"
   },
   {
    "duration": 17,
    "start_time": "2021-06-09T15:23:24.648Z"
   },
   {
    "duration": 38,
    "start_time": "2021-06-09T15:23:24.668Z"
   },
   {
    "duration": 22,
    "start_time": "2021-06-09T15:23:24.711Z"
   },
   {
    "duration": 17,
    "start_time": "2021-06-09T15:23:24.736Z"
   },
   {
    "duration": 46,
    "start_time": "2021-06-09T15:23:24.755Z"
   },
   {
    "duration": 11,
    "start_time": "2021-06-09T15:23:24.804Z"
   },
   {
    "duration": 18,
    "start_time": "2021-06-09T15:23:24.818Z"
   },
   {
    "duration": 8,
    "start_time": "2021-06-09T15:23:24.840Z"
   },
   {
    "duration": 50,
    "start_time": "2021-06-09T15:23:24.850Z"
   },
   {
    "duration": 5,
    "start_time": "2021-06-09T15:23:24.903Z"
   },
   {
    "duration": 27,
    "start_time": "2021-06-09T15:23:24.911Z"
   },
   {
    "duration": 19,
    "start_time": "2021-06-09T15:23:24.940Z"
   },
   {
    "duration": 68,
    "start_time": "2021-06-09T15:23:24.961Z"
   },
   {
    "duration": 402,
    "start_time": "2021-06-09T15:23:25.031Z"
   },
   {
    "duration": 7359,
    "start_time": "2021-06-09T15:23:31.174Z"
   },
   {
    "duration": 7611,
    "start_time": "2021-06-09T15:23:49.610Z"
   },
   {
    "duration": 1553,
    "start_time": "2021-06-09T15:24:01.444Z"
   },
   {
    "duration": 383,
    "start_time": "2021-06-09T15:24:03.001Z"
   },
   {
    "duration": 47,
    "start_time": "2021-06-09T15:24:03.387Z"
   },
   {
    "duration": 25,
    "start_time": "2021-06-09T15:24:03.436Z"
   },
   {
    "duration": 4,
    "start_time": "2021-06-09T15:24:03.464Z"
   },
   {
    "duration": 33,
    "start_time": "2021-06-09T15:24:03.500Z"
   },
   {
    "duration": 121,
    "start_time": "2021-06-09T15:24:03.535Z"
   },
   {
    "duration": 46,
    "start_time": "2021-06-09T15:24:03.659Z"
   },
   {
    "duration": 22,
    "start_time": "2021-06-09T15:24:03.709Z"
   },
   {
    "duration": 22,
    "start_time": "2021-06-09T15:24:03.734Z"
   },
   {
    "duration": 535,
    "start_time": "2021-06-09T15:24:03.758Z"
   },
   {
    "duration": 40,
    "start_time": "2021-06-09T15:24:04.296Z"
   },
   {
    "duration": 26,
    "start_time": "2021-06-09T15:24:04.338Z"
   },
   {
    "duration": 57,
    "start_time": "2021-06-09T15:24:04.366Z"
   },
   {
    "duration": 4,
    "start_time": "2021-06-09T15:24:04.425Z"
   },
   {
    "duration": 15,
    "start_time": "2021-06-09T15:24:04.432Z"
   },
   {
    "duration": 57,
    "start_time": "2021-06-09T15:24:04.450Z"
   },
   {
    "duration": 25,
    "start_time": "2021-06-09T15:24:04.509Z"
   },
   {
    "duration": 16,
    "start_time": "2021-06-09T15:24:04.536Z"
   },
   {
    "duration": 7,
    "start_time": "2021-06-09T15:24:04.555Z"
   },
   {
    "duration": 43,
    "start_time": "2021-06-09T15:24:04.565Z"
   },
   {
    "duration": 47,
    "start_time": "2021-06-09T15:24:04.611Z"
   },
   {
    "duration": 7,
    "start_time": "2021-06-09T15:24:04.663Z"
   },
   {
    "duration": 39,
    "start_time": "2021-06-09T15:24:04.673Z"
   },
   {
    "duration": 7,
    "start_time": "2021-06-09T15:24:04.715Z"
   },
   {
    "duration": 42,
    "start_time": "2021-06-09T15:24:04.724Z"
   },
   {
    "duration": 54,
    "start_time": "2021-06-09T15:24:04.769Z"
   },
   {
    "duration": 32,
    "start_time": "2021-06-09T15:24:04.826Z"
   },
   {
    "duration": 7063,
    "start_time": "2021-06-09T15:24:52.752Z"
   },
   {
    "duration": 1437,
    "start_time": "2021-06-09T15:25:05.235Z"
   },
   {
    "duration": 378,
    "start_time": "2021-06-09T15:25:06.675Z"
   },
   {
    "duration": 51,
    "start_time": "2021-06-09T15:25:07.056Z"
   },
   {
    "duration": 28,
    "start_time": "2021-06-09T15:25:07.112Z"
   },
   {
    "duration": 6,
    "start_time": "2021-06-09T15:25:07.143Z"
   },
   {
    "duration": 82,
    "start_time": "2021-06-09T15:25:07.152Z"
   },
   {
    "duration": 117,
    "start_time": "2021-06-09T15:25:07.236Z"
   },
   {
    "duration": 31,
    "start_time": "2021-06-09T15:25:07.357Z"
   },
   {
    "duration": 22,
    "start_time": "2021-06-09T15:25:07.391Z"
   },
   {
    "duration": 26,
    "start_time": "2021-06-09T15:25:07.416Z"
   },
   {
    "duration": 509,
    "start_time": "2021-06-09T15:25:07.444Z"
   },
   {
    "duration": 29,
    "start_time": "2021-06-09T15:25:07.956Z"
   },
   {
    "duration": 36,
    "start_time": "2021-06-09T15:25:07.987Z"
   },
   {
    "duration": 30,
    "start_time": "2021-06-09T15:25:08.025Z"
   },
   {
    "duration": 4,
    "start_time": "2021-06-09T15:25:08.057Z"
   },
   {
    "duration": 17,
    "start_time": "2021-06-09T15:25:08.063Z"
   },
   {
    "duration": 11,
    "start_time": "2021-06-09T15:25:08.082Z"
   },
   {
    "duration": 28,
    "start_time": "2021-06-09T15:25:08.096Z"
   },
   {
    "duration": 16,
    "start_time": "2021-06-09T15:25:08.126Z"
   },
   {
    "duration": 7,
    "start_time": "2021-06-09T15:25:08.145Z"
   },
   {
    "duration": 16,
    "start_time": "2021-06-09T15:25:08.154Z"
   },
   {
    "duration": 19,
    "start_time": "2021-06-09T15:25:08.172Z"
   },
   {
    "duration": 509,
    "start_time": "2021-06-09T15:25:08.200Z"
   },
   {
    "duration": 1533,
    "start_time": "2021-06-09T15:25:07.179Z"
   },
   {
    "duration": 1531,
    "start_time": "2021-06-09T15:25:07.182Z"
   },
   {
    "duration": 1529,
    "start_time": "2021-06-09T15:25:07.185Z"
   },
   {
    "duration": 1528,
    "start_time": "2021-06-09T15:25:07.187Z"
   },
   {
    "duration": 1511,
    "start_time": "2021-06-09T15:25:07.205Z"
   },
   {
    "duration": 1611,
    "start_time": "2021-06-09T15:25:45.886Z"
   },
   {
    "duration": 543,
    "start_time": "2021-06-09T15:25:47.500Z"
   },
   {
    "duration": 65,
    "start_time": "2021-06-09T15:25:48.047Z"
   },
   {
    "duration": 27,
    "start_time": "2021-06-09T15:25:48.115Z"
   },
   {
    "duration": 6,
    "start_time": "2021-06-09T15:25:48.144Z"
   },
   {
    "duration": 70,
    "start_time": "2021-06-09T15:25:48.153Z"
   },
   {
    "duration": 129,
    "start_time": "2021-06-09T15:25:48.226Z"
   },
   {
    "duration": 42,
    "start_time": "2021-06-09T15:25:48.359Z"
   },
   {
    "duration": 27,
    "start_time": "2021-06-09T15:25:48.407Z"
   },
   {
    "duration": 73,
    "start_time": "2021-06-09T15:25:48.438Z"
   },
   {
    "duration": 527,
    "start_time": "2021-06-09T15:25:48.515Z"
   },
   {
    "duration": 54,
    "start_time": "2021-06-09T15:25:49.048Z"
   },
   {
    "duration": 29,
    "start_time": "2021-06-09T15:25:49.107Z"
   },
   {
    "duration": 29,
    "start_time": "2021-06-09T15:25:49.138Z"
   },
   {
    "duration": 4,
    "start_time": "2021-06-09T15:25:49.201Z"
   },
   {
    "duration": 15,
    "start_time": "2021-06-09T15:25:49.208Z"
   },
   {
    "duration": 8,
    "start_time": "2021-06-09T15:25:49.227Z"
   },
   {
    "duration": 86,
    "start_time": "2021-06-09T15:25:49.238Z"
   },
   {
    "duration": 17,
    "start_time": "2021-06-09T15:25:49.327Z"
   },
   {
    "duration": 7,
    "start_time": "2021-06-09T15:25:49.346Z"
   },
   {
    "duration": 9,
    "start_time": "2021-06-09T15:25:49.355Z"
   },
   {
    "duration": 50,
    "start_time": "2021-06-09T15:25:49.367Z"
   },
   {
    "duration": 13,
    "start_time": "2021-06-09T15:25:49.424Z"
   },
   {
    "duration": 71,
    "start_time": "2021-06-09T15:25:49.440Z"
   },
   {
    "duration": 7,
    "start_time": "2021-06-09T15:25:49.514Z"
   },
   {
    "duration": 29,
    "start_time": "2021-06-09T15:25:49.523Z"
   },
   {
    "duration": 18,
    "start_time": "2021-06-09T15:25:49.555Z"
   },
   {
    "duration": 51,
    "start_time": "2021-06-09T15:25:49.576Z"
   },
   {
    "duration": 111,
    "start_time": "2021-06-09T15:27:54.105Z"
   },
   {
    "duration": 193,
    "start_time": "2021-06-09T15:28:17.957Z"
   },
   {
    "duration": 24,
    "start_time": "2021-06-09T15:28:41.266Z"
   },
   {
    "duration": 19,
    "start_time": "2021-06-09T15:29:22.472Z"
   },
   {
    "duration": 25,
    "start_time": "2021-06-09T15:29:37.130Z"
   },
   {
    "duration": 24,
    "start_time": "2021-06-09T15:29:51.448Z"
   },
   {
    "duration": 17,
    "start_time": "2021-06-09T15:30:03.984Z"
   },
   {
    "duration": 27,
    "start_time": "2021-06-09T15:30:12.152Z"
   },
   {
    "duration": 424,
    "start_time": "2021-06-09T16:34:58.426Z"
   },
   {
    "duration": 1651,
    "start_time": "2021-06-09T16:36:00.553Z"
   },
   {
    "duration": 441,
    "start_time": "2021-06-09T16:36:02.207Z"
   },
   {
    "duration": 60,
    "start_time": "2021-06-09T16:36:02.651Z"
   },
   {
    "duration": 27,
    "start_time": "2021-06-09T16:36:02.714Z"
   },
   {
    "duration": 4,
    "start_time": "2021-06-09T16:36:02.744Z"
   },
   {
    "duration": 77,
    "start_time": "2021-06-09T16:36:02.751Z"
   },
   {
    "duration": 122,
    "start_time": "2021-06-09T16:36:02.833Z"
   },
   {
    "duration": 31,
    "start_time": "2021-06-09T16:36:02.959Z"
   },
   {
    "duration": 36,
    "start_time": "2021-06-09T16:36:02.994Z"
   },
   {
    "duration": 20,
    "start_time": "2021-06-09T16:36:03.033Z"
   },
   {
    "duration": 581,
    "start_time": "2021-06-09T16:36:03.055Z"
   },
   {
    "duration": 30,
    "start_time": "2021-06-09T16:36:03.639Z"
   },
   {
    "duration": 54,
    "start_time": "2021-06-09T16:36:03.671Z"
   },
   {
    "duration": 32,
    "start_time": "2021-06-09T16:36:03.728Z"
   },
   {
    "duration": 4,
    "start_time": "2021-06-09T16:36:03.763Z"
   },
   {
    "duration": 13,
    "start_time": "2021-06-09T16:36:03.801Z"
   },
   {
    "duration": 11,
    "start_time": "2021-06-09T16:36:03.823Z"
   },
   {
    "duration": 25,
    "start_time": "2021-06-09T16:36:03.836Z"
   },
   {
    "duration": 59,
    "start_time": "2021-06-09T16:36:03.864Z"
   },
   {
    "duration": 10,
    "start_time": "2021-06-09T16:36:03.926Z"
   },
   {
    "duration": 9,
    "start_time": "2021-06-09T16:36:03.939Z"
   },
   {
    "duration": 70,
    "start_time": "2021-06-09T16:36:03.951Z"
   },
   {
    "duration": 10,
    "start_time": "2021-06-09T16:36:04.028Z"
   },
   {
    "duration": 21,
    "start_time": "2021-06-09T16:36:04.044Z"
   },
   {
    "duration": 9,
    "start_time": "2021-06-09T16:36:04.101Z"
   },
   {
    "duration": 29,
    "start_time": "2021-06-09T16:36:04.113Z"
   },
   {
    "duration": 18,
    "start_time": "2021-06-09T16:36:04.145Z"
   },
   {
    "duration": 72,
    "start_time": "2021-06-09T16:36:04.165Z"
   },
   {
    "duration": 510,
    "start_time": "2021-06-09T16:36:04.240Z"
   },
   {
    "duration": 1257,
    "start_time": "2021-06-09T16:36:03.496Z"
   },
   {
    "duration": 1251,
    "start_time": "2021-06-09T16:36:03.503Z"
   },
   {
    "duration": 1248,
    "start_time": "2021-06-09T16:36:03.507Z"
   },
   {
    "duration": 1246,
    "start_time": "2021-06-09T16:36:03.511Z"
   },
   {
    "duration": 1242,
    "start_time": "2021-06-09T16:36:03.516Z"
   },
   {
    "duration": 1452,
    "start_time": "2021-06-09T16:40:00.379Z"
   },
   {
    "duration": 404,
    "start_time": "2021-06-09T16:40:01.834Z"
   },
   {
    "duration": 35,
    "start_time": "2021-06-09T16:40:02.241Z"
   },
   {
    "duration": 45,
    "start_time": "2021-06-09T16:40:02.279Z"
   },
   {
    "duration": 6,
    "start_time": "2021-06-09T16:40:02.326Z"
   },
   {
    "duration": 38,
    "start_time": "2021-06-09T16:40:02.334Z"
   },
   {
    "duration": 115,
    "start_time": "2021-06-09T16:40:02.402Z"
   },
   {
    "duration": 31,
    "start_time": "2021-06-09T16:40:02.519Z"
   },
   {
    "duration": 47,
    "start_time": "2021-06-09T16:40:02.555Z"
   },
   {
    "duration": 21,
    "start_time": "2021-06-09T16:40:02.614Z"
   },
   {
    "duration": 551,
    "start_time": "2021-06-09T16:40:02.637Z"
   },
   {
    "duration": 33,
    "start_time": "2021-06-09T16:40:03.191Z"
   },
   {
    "duration": 30,
    "start_time": "2021-06-09T16:40:03.227Z"
   },
   {
    "duration": 65,
    "start_time": "2021-06-09T16:40:03.260Z"
   },
   {
    "duration": 4,
    "start_time": "2021-06-09T16:40:03.328Z"
   },
   {
    "duration": 23,
    "start_time": "2021-06-09T16:40:03.334Z"
   },
   {
    "duration": 42,
    "start_time": "2021-06-09T16:40:03.360Z"
   },
   {
    "duration": 22,
    "start_time": "2021-06-09T16:40:03.405Z"
   },
   {
    "duration": 17,
    "start_time": "2021-06-09T16:40:03.429Z"
   },
   {
    "duration": 7,
    "start_time": "2021-06-09T16:40:03.448Z"
   },
   {
    "duration": 53,
    "start_time": "2021-06-09T16:40:03.458Z"
   },
   {
    "duration": 20,
    "start_time": "2021-06-09T16:40:03.514Z"
   },
   {
    "duration": 15,
    "start_time": "2021-06-09T16:40:03.537Z"
   },
   {
    "duration": 14,
    "start_time": "2021-06-09T16:40:03.555Z"
   },
   {
    "duration": 30,
    "start_time": "2021-06-09T16:40:03.572Z"
   },
   {
    "duration": 34,
    "start_time": "2021-06-09T16:40:03.610Z"
   },
   {
    "duration": 19,
    "start_time": "2021-06-09T16:40:03.648Z"
   },
   {
    "duration": 60,
    "start_time": "2021-06-09T16:40:03.670Z"
   },
   {
    "duration": 15,
    "start_time": "2021-06-09T16:40:03.733Z"
   },
   {
    "duration": 91,
    "start_time": "2021-06-09T16:40:03.751Z"
   },
   {
    "duration": 1246,
    "start_time": "2021-06-09T16:40:02.599Z"
   },
   {
    "duration": 1233,
    "start_time": "2021-06-09T16:40:02.613Z"
   },
   {
    "duration": 1228,
    "start_time": "2021-06-09T16:40:02.620Z"
   },
   {
    "duration": 1223,
    "start_time": "2021-06-09T16:40:02.626Z"
   },
   {
    "duration": 26,
    "start_time": "2021-06-09T16:41:57.776Z"
   },
   {
    "duration": 17,
    "start_time": "2021-06-09T16:44:08.099Z"
   },
   {
    "duration": 13,
    "start_time": "2021-06-09T16:44:52.077Z"
   },
   {
    "duration": 432,
    "start_time": "2021-06-09T16:45:29.718Z"
   },
   {
    "duration": 1425,
    "start_time": "2021-06-09T16:45:56.687Z"
   },
   {
    "duration": 428,
    "start_time": "2021-06-09T16:45:58.115Z"
   },
   {
    "duration": 35,
    "start_time": "2021-06-09T16:45:58.546Z"
   },
   {
    "duration": 29,
    "start_time": "2021-06-09T16:45:58.601Z"
   },
   {
    "duration": 4,
    "start_time": "2021-06-09T16:45:58.633Z"
   },
   {
    "duration": 71,
    "start_time": "2021-06-09T16:45:58.640Z"
   },
   {
    "duration": 114,
    "start_time": "2021-06-09T16:45:58.717Z"
   },
   {
    "duration": 29,
    "start_time": "2021-06-09T16:45:58.835Z"
   },
   {
    "duration": 47,
    "start_time": "2021-06-09T16:45:58.868Z"
   },
   {
    "duration": 24,
    "start_time": "2021-06-09T16:45:58.918Z"
   },
   {
    "duration": 582,
    "start_time": "2021-06-09T16:45:58.944Z"
   },
   {
    "duration": 30,
    "start_time": "2021-06-09T16:45:59.529Z"
   },
   {
    "duration": 53,
    "start_time": "2021-06-09T16:45:59.562Z"
   },
   {
    "duration": 34,
    "start_time": "2021-06-09T16:45:59.618Z"
   },
   {
    "duration": 4,
    "start_time": "2021-06-09T16:45:59.654Z"
   },
   {
    "duration": 42,
    "start_time": "2021-06-09T16:45:59.661Z"
   },
   {
    "duration": 10,
    "start_time": "2021-06-09T16:45:59.706Z"
   },
   {
    "duration": 25,
    "start_time": "2021-06-09T16:45:59.722Z"
   },
   {
    "duration": 52,
    "start_time": "2021-06-09T16:45:59.750Z"
   },
   {
    "duration": 17,
    "start_time": "2021-06-09T16:45:59.804Z"
   },
   {
    "duration": 10,
    "start_time": "2021-06-09T16:45:59.823Z"
   },
   {
    "duration": 10,
    "start_time": "2021-06-09T16:45:59.836Z"
   },
   {
    "duration": 7,
    "start_time": "2021-06-09T16:45:59.851Z"
   },
   {
    "duration": 64,
    "start_time": "2021-06-09T16:45:59.860Z"
   },
   {
    "duration": 6,
    "start_time": "2021-06-09T16:45:59.927Z"
   },
   {
    "duration": 28,
    "start_time": "2021-06-09T16:45:59.936Z"
   },
   {
    "duration": 62,
    "start_time": "2021-06-09T16:45:59.967Z"
   },
   {
    "duration": 31,
    "start_time": "2021-06-09T16:46:00.032Z"
   },
   {
    "duration": 51,
    "start_time": "2021-06-09T16:46:00.066Z"
   },
   {
    "duration": 41,
    "start_time": "2021-06-09T16:46:00.120Z"
   },
   {
    "duration": 1878,
    "start_time": "2021-06-09T16:46:00.164Z"
   },
   {
    "duration": 1191,
    "start_time": "2021-06-09T16:46:00.853Z"
   },
   {
    "duration": 1186,
    "start_time": "2021-06-09T16:46:00.860Z"
   },
   {
    "duration": 1173,
    "start_time": "2021-06-09T16:46:00.874Z"
   },
   {
    "duration": 23,
    "start_time": "2021-06-09T16:48:40.204Z"
   },
   {
    "duration": 177,
    "start_time": "2021-06-09T16:48:42.893Z"
   },
   {
    "duration": 27,
    "start_time": "2021-06-09T16:48:46.905Z"
   },
   {
    "duration": 17,
    "start_time": "2021-06-09T16:48:52.947Z"
   },
   {
    "duration": 30,
    "start_time": "2021-06-09T16:48:56.004Z"
   },
   {
    "duration": 268,
    "start_time": "2021-06-09T16:54:45.501Z"
   },
   {
    "duration": 16,
    "start_time": "2021-06-09T16:54:52.507Z"
   },
   {
    "duration": 13,
    "start_time": "2021-06-09T16:55:24.366Z"
   },
   {
    "duration": 13,
    "start_time": "2021-06-09T16:56:09.418Z"
   },
   {
    "duration": 8,
    "start_time": "2021-06-09T16:56:13.796Z"
   },
   {
    "duration": 6,
    "start_time": "2021-06-09T16:56:22.739Z"
   },
   {
    "duration": 5,
    "start_time": "2021-06-09T16:56:29.037Z"
   },
   {
    "duration": 23,
    "start_time": "2021-06-09T17:23:43.253Z"
   },
   {
    "duration": 22,
    "start_time": "2021-06-09T17:23:48.043Z"
   },
   {
    "duration": 105,
    "start_time": "2021-06-09T17:25:52.888Z"
   },
   {
    "duration": 889,
    "start_time": "2021-06-09T17:27:48.830Z"
   },
   {
    "duration": 861,
    "start_time": "2021-06-09T17:28:13.746Z"
   },
   {
    "duration": 286,
    "start_time": "2021-06-09T23:55:23.514Z"
   },
   {
    "duration": 1424,
    "start_time": "2021-06-09T23:55:58.651Z"
   },
   {
    "duration": 381,
    "start_time": "2021-06-09T23:56:00.077Z"
   },
   {
    "duration": 44,
    "start_time": "2021-06-09T23:56:00.461Z"
   },
   {
    "duration": 23,
    "start_time": "2021-06-09T23:56:00.508Z"
   },
   {
    "duration": 116,
    "start_time": "2021-06-09T23:56:00.534Z"
   },
   {
    "duration": 30,
    "start_time": "2021-06-09T23:56:00.653Z"
   },
   {
    "duration": 17,
    "start_time": "2021-06-09T23:56:00.700Z"
   },
   {
    "duration": 506,
    "start_time": "2021-06-09T23:56:00.720Z"
   },
   {
    "duration": 29,
    "start_time": "2021-06-09T23:56:01.229Z"
   },
   {
    "duration": 51,
    "start_time": "2021-06-09T23:56:01.261Z"
   },
   {
    "duration": 3,
    "start_time": "2021-06-09T23:56:01.315Z"
   },
   {
    "duration": 29,
    "start_time": "2021-06-09T23:56:01.320Z"
   },
   {
    "duration": 13,
    "start_time": "2021-06-09T23:56:01.353Z"
   },
   {
    "duration": 43,
    "start_time": "2021-06-09T23:56:01.369Z"
   },
   {
    "duration": 19,
    "start_time": "2021-06-09T23:56:01.415Z"
   },
   {
    "duration": 9,
    "start_time": "2021-06-09T23:56:01.436Z"
   },
   {
    "duration": 15,
    "start_time": "2021-06-09T23:56:01.447Z"
   },
   {
    "duration": 46,
    "start_time": "2021-06-09T23:56:01.464Z"
   },
   {
    "duration": 9,
    "start_time": "2021-06-09T23:56:01.513Z"
   },
   {
    "duration": 19,
    "start_time": "2021-06-09T23:56:01.525Z"
   },
   {
    "duration": 8,
    "start_time": "2021-06-09T23:56:01.546Z"
   },
   {
    "duration": 47,
    "start_time": "2021-06-09T23:56:01.556Z"
   },
   {
    "duration": 19,
    "start_time": "2021-06-09T23:56:01.608Z"
   },
   {
    "duration": 27,
    "start_time": "2021-06-09T23:56:01.629Z"
   },
   {
    "duration": 50,
    "start_time": "2021-06-09T23:56:01.658Z"
   },
   {
    "duration": 31,
    "start_time": "2021-06-09T23:56:01.711Z"
   },
   {
    "duration": 23,
    "start_time": "2021-06-09T23:56:01.744Z"
   },
   {
    "duration": 198,
    "start_time": "2021-06-09T23:56:01.769Z"
   },
   {
    "duration": 32,
    "start_time": "2021-06-09T23:56:01.970Z"
   },
   {
    "duration": 17,
    "start_time": "2021-06-09T23:56:02.004Z"
   },
   {
    "duration": 24,
    "start_time": "2021-06-09T23:56:02.023Z"
   },
   {
    "duration": 7,
    "start_time": "2021-06-09T23:56:02.049Z"
   },
   {
    "duration": 43,
    "start_time": "2021-06-09T23:56:02.059Z"
   },
   {
    "duration": 4,
    "start_time": "2021-06-09T23:56:02.105Z"
   },
   {
    "duration": 27,
    "start_time": "2021-06-09T23:56:02.111Z"
   },
   {
    "duration": 900,
    "start_time": "2021-06-09T23:56:02.140Z"
   },
   {
    "duration": 413,
    "start_time": "2021-06-09T23:56:03.042Z"
   },
   {
    "duration": 298,
    "start_time": "2021-06-09T23:57:51.757Z"
   },
   {
    "duration": 25,
    "start_time": "2021-06-09T23:58:45.940Z"
   },
   {
    "duration": 304,
    "start_time": "2021-06-10T00:01:11.495Z"
   },
   {
    "duration": 318,
    "start_time": "2021-06-10T00:01:35.434Z"
   },
   {
    "duration": 377,
    "start_time": "2021-06-10T00:01:52.101Z"
   },
   {
    "duration": 506,
    "start_time": "2021-06-10T00:01:56.124Z"
   },
   {
    "duration": 31,
    "start_time": "2021-06-10T04:36:27.743Z"
   },
   {
    "duration": 377,
    "start_time": "2021-06-10T04:36:29.476Z"
   },
   {
    "duration": 28,
    "start_time": "2021-06-10T04:37:00.623Z"
   },
   {
    "duration": 392,
    "start_time": "2021-06-10T04:37:18.988Z"
   },
   {
    "duration": 396,
    "start_time": "2021-06-10T04:38:52.758Z"
   },
   {
    "duration": 349,
    "start_time": "2021-06-10T04:38:58.940Z"
   },
   {
    "duration": 347,
    "start_time": "2021-06-10T15:25:57.463Z"
   },
   {
    "duration": 32,
    "start_time": "2021-06-10T15:26:07.362Z"
   },
   {
    "duration": 46,
    "start_time": "2021-06-10T15:27:20.852Z"
   },
   {
    "duration": 419,
    "start_time": "2021-06-10T15:30:04.457Z"
   },
   {
    "duration": 411,
    "start_time": "2021-06-10T15:31:20.041Z"
   },
   {
    "duration": 421,
    "start_time": "2021-06-10T15:32:23.508Z"
   },
   {
    "duration": 417,
    "start_time": "2021-06-10T15:32:43.371Z"
   },
   {
    "duration": 436,
    "start_time": "2021-06-10T15:32:57.178Z"
   },
   {
    "duration": 454,
    "start_time": "2021-06-10T15:33:02.495Z"
   },
   {
    "duration": 528,
    "start_time": "2021-06-10T15:34:37.217Z"
   },
   {
    "duration": 331,
    "start_time": "2021-06-10T16:42:10.362Z"
   },
   {
    "duration": 257,
    "start_time": "2021-06-10T16:42:16.770Z"
   },
   {
    "duration": 1466,
    "start_time": "2021-06-10T16:42:24.715Z"
   },
   {
    "duration": 412,
    "start_time": "2021-06-10T16:42:26.183Z"
   },
   {
    "duration": 38,
    "start_time": "2021-06-10T16:42:26.598Z"
   },
   {
    "duration": 24,
    "start_time": "2021-06-10T16:42:26.639Z"
   },
   {
    "duration": 124,
    "start_time": "2021-06-10T16:42:26.666Z"
   },
   {
    "duration": 36,
    "start_time": "2021-06-10T16:42:26.792Z"
   },
   {
    "duration": 23,
    "start_time": "2021-06-10T16:42:26.830Z"
   },
   {
    "duration": 545,
    "start_time": "2021-06-10T16:42:26.857Z"
   },
   {
    "duration": 30,
    "start_time": "2021-06-10T16:42:27.406Z"
   },
   {
    "duration": 28,
    "start_time": "2021-06-10T16:42:27.439Z"
   },
   {
    "duration": 32,
    "start_time": "2021-06-10T16:42:27.470Z"
   },
   {
    "duration": 18,
    "start_time": "2021-06-10T16:42:27.504Z"
   },
   {
    "duration": 7,
    "start_time": "2021-06-10T16:42:27.525Z"
   },
   {
    "duration": 21,
    "start_time": "2021-06-10T16:42:27.534Z"
   },
   {
    "duration": 49,
    "start_time": "2021-06-10T16:42:27.557Z"
   },
   {
    "duration": 8,
    "start_time": "2021-06-10T16:42:27.608Z"
   },
   {
    "duration": 8,
    "start_time": "2021-06-10T16:42:27.618Z"
   },
   {
    "duration": 10,
    "start_time": "2021-06-10T16:42:27.628Z"
   },
   {
    "duration": 7,
    "start_time": "2021-06-10T16:42:27.641Z"
   },
   {
    "duration": 61,
    "start_time": "2021-06-10T16:42:27.650Z"
   },
   {
    "duration": 5,
    "start_time": "2021-06-10T16:42:27.714Z"
   },
   {
    "duration": 35,
    "start_time": "2021-06-10T16:42:27.722Z"
   },
   {
    "duration": 42,
    "start_time": "2021-06-10T16:42:27.763Z"
   },
   {
    "duration": 35,
    "start_time": "2021-06-10T16:42:27.808Z"
   },
   {
    "duration": 19,
    "start_time": "2021-06-10T16:42:27.846Z"
   },
   {
    "duration": 61,
    "start_time": "2021-06-10T16:42:27.867Z"
   },
   {
    "duration": 20,
    "start_time": "2021-06-10T16:42:27.930Z"
   },
   {
    "duration": 189,
    "start_time": "2021-06-10T16:42:27.952Z"
   },
   {
    "duration": 22,
    "start_time": "2021-06-10T16:42:28.144Z"
   },
   {
    "duration": 35,
    "start_time": "2021-06-10T16:42:28.169Z"
   },
   {
    "duration": 25,
    "start_time": "2021-06-10T16:42:28.207Z"
   },
   {
    "duration": 8,
    "start_time": "2021-06-10T16:42:28.234Z"
   },
   {
    "duration": 8,
    "start_time": "2021-06-10T16:42:28.245Z"
   },
   {
    "duration": 7,
    "start_time": "2021-06-10T16:42:28.256Z"
   },
   {
    "duration": 56,
    "start_time": "2021-06-10T16:42:28.265Z"
   },
   {
    "duration": 851,
    "start_time": "2021-06-10T16:42:28.323Z"
   },
   {
    "duration": 46,
    "start_time": "2021-06-10T16:42:29.177Z"
   },
   {
    "duration": 421,
    "start_time": "2021-06-10T16:42:29.226Z"
   },
   {
    "duration": 25,
    "start_time": "2021-06-10T16:42:29.650Z"
   },
   {
    "duration": 375,
    "start_time": "2021-06-10T16:42:29.678Z"
   },
   {
    "duration": 84,
    "start_time": "2021-06-10T16:42:30.055Z"
   },
   {
    "duration": 61,
    "start_time": "2021-06-10T16:42:30.141Z"
   },
   {
    "duration": 429,
    "start_time": "2021-06-10T16:42:30.204Z"
   },
   {
    "duration": 1393,
    "start_time": "2021-06-10T16:42:29.242Z"
   },
   {
    "duration": 1387,
    "start_time": "2021-06-10T16:42:29.250Z"
   },
   {
    "duration": 274,
    "start_time": "2021-06-10T16:43:29.570Z"
   },
   {
    "duration": 272,
    "start_time": "2021-06-10T16:44:08.176Z"
   },
   {
    "duration": 312,
    "start_time": "2021-06-10T16:44:26.734Z"
   },
   {
    "duration": 268,
    "start_time": "2021-06-10T16:45:49.394Z"
   },
   {
    "duration": 276,
    "start_time": "2021-06-10T16:46:00.630Z"
   },
   {
    "duration": 277,
    "start_time": "2021-06-10T16:46:07.753Z"
   },
   {
    "duration": 519,
    "start_time": "2021-06-10T16:46:13.540Z"
   },
   {
    "duration": 280,
    "start_time": "2021-06-10T16:49:55.145Z"
   },
   {
    "duration": 263,
    "start_time": "2021-06-10T16:51:27.034Z"
   },
   {
    "duration": 4,
    "start_time": "2021-06-10T16:54:31.959Z"
   },
   {
    "duration": 513,
    "start_time": "2021-06-10T16:59:35.196Z"
   },
   {
    "duration": 4,
    "start_time": "2021-06-10T17:04:48.905Z"
   },
   {
    "duration": 297,
    "start_time": "2021-06-10T17:06:03.863Z"
   },
   {
    "duration": 23,
    "start_time": "2021-06-10T17:06:09.676Z"
   },
   {
    "duration": 34347,
    "start_time": "2021-06-10T17:09:11.277Z"
   },
   {
    "duration": 461,
    "start_time": "2021-06-10T17:10:14.277Z"
   },
   {
    "duration": 455,
    "start_time": "2021-06-10T17:10:30.437Z"
   },
   {
    "duration": 17,
    "start_time": "2021-06-10T17:13:50.122Z"
   },
   {
    "duration": 447,
    "start_time": "2021-06-10T17:13:53.299Z"
   },
   {
    "duration": 421,
    "start_time": "2021-06-10T17:14:39.947Z"
   },
   {
    "duration": 4,
    "start_time": "2021-06-10T17:17:50.989Z"
   },
   {
    "duration": 1502,
    "start_time": "2021-06-10T17:17:57.490Z"
   },
   {
    "duration": 393,
    "start_time": "2021-06-10T17:17:58.995Z"
   },
   {
    "duration": 37,
    "start_time": "2021-06-10T17:17:59.391Z"
   },
   {
    "duration": 25,
    "start_time": "2021-06-10T17:17:59.432Z"
   },
   {
    "duration": 127,
    "start_time": "2021-06-10T17:17:59.460Z"
   },
   {
    "duration": 34,
    "start_time": "2021-06-10T17:17:59.589Z"
   },
   {
    "duration": 17,
    "start_time": "2021-06-10T17:17:59.626Z"
   },
   {
    "duration": 510,
    "start_time": "2021-06-10T17:17:59.647Z"
   },
   {
    "duration": 28,
    "start_time": "2021-06-10T17:18:00.160Z"
   },
   {
    "duration": 35,
    "start_time": "2021-06-10T17:18:00.201Z"
   },
   {
    "duration": 4,
    "start_time": "2021-06-10T17:18:00.238Z"
   },
   {
    "duration": 39,
    "start_time": "2021-06-10T17:18:00.244Z"
   },
   {
    "duration": 7,
    "start_time": "2021-06-10T17:18:00.285Z"
   },
   {
    "duration": 48,
    "start_time": "2021-06-10T17:18:00.299Z"
   },
   {
    "duration": 18,
    "start_time": "2021-06-10T17:18:00.350Z"
   },
   {
    "duration": 13,
    "start_time": "2021-06-10T17:18:00.370Z"
   },
   {
    "duration": 20,
    "start_time": "2021-06-10T17:18:00.386Z"
   },
   {
    "duration": 18,
    "start_time": "2021-06-10T17:18:00.408Z"
   },
   {
    "duration": 55,
    "start_time": "2021-06-10T17:18:00.428Z"
   },
   {
    "duration": 24,
    "start_time": "2021-06-10T17:18:00.487Z"
   },
   {
    "duration": 11,
    "start_time": "2021-06-10T17:18:00.515Z"
   },
   {
    "duration": 49,
    "start_time": "2021-06-10T17:18:00.529Z"
   },
   {
    "duration": 51,
    "start_time": "2021-06-10T17:18:00.586Z"
   },
   {
    "duration": 46,
    "start_time": "2021-06-10T17:18:00.641Z"
   },
   {
    "duration": 33,
    "start_time": "2021-06-10T17:18:00.690Z"
   },
   {
    "duration": 46,
    "start_time": "2021-06-10T17:18:00.727Z"
   },
   {
    "duration": 39,
    "start_time": "2021-06-10T17:18:00.776Z"
   },
   {
    "duration": 195,
    "start_time": "2021-06-10T17:18:00.818Z"
   },
   {
    "duration": 25,
    "start_time": "2021-06-10T17:18:01.016Z"
   },
   {
    "duration": 16,
    "start_time": "2021-06-10T17:18:01.044Z"
   },
   {
    "duration": 57,
    "start_time": "2021-06-10T17:18:01.063Z"
   },
   {
    "duration": 7,
    "start_time": "2021-06-10T17:18:01.123Z"
   },
   {
    "duration": 20,
    "start_time": "2021-06-10T17:18:01.133Z"
   },
   {
    "duration": 26,
    "start_time": "2021-06-10T17:18:01.155Z"
   },
   {
    "duration": 34,
    "start_time": "2021-06-10T17:18:01.183Z"
   },
   {
    "duration": 909,
    "start_time": "2021-06-10T17:18:01.219Z"
   },
   {
    "duration": 28,
    "start_time": "2021-06-10T17:18:02.131Z"
   },
   {
    "duration": 440,
    "start_time": "2021-06-10T17:18:02.161Z"
   },
   {
    "duration": 26,
    "start_time": "2021-06-10T17:18:02.604Z"
   },
   {
    "duration": 390,
    "start_time": "2021-06-10T17:18:02.632Z"
   },
   {
    "duration": 58,
    "start_time": "2021-06-10T17:18:03.025Z"
   },
   {
    "duration": 61,
    "start_time": "2021-06-10T17:18:03.086Z"
   },
   {
    "duration": 479,
    "start_time": "2021-06-10T17:18:03.149Z"
   },
   {
    "duration": 4,
    "start_time": "2021-06-10T17:18:03.631Z"
   },
   {
    "duration": 25,
    "start_time": "2021-06-10T17:18:03.639Z"
   },
   {
    "duration": 45,
    "start_time": "2021-06-10T17:18:03.666Z"
   },
   {
    "duration": 540,
    "start_time": "2021-06-10T17:18:03.714Z"
   },
   {
    "duration": 6806,
    "start_time": "2021-06-10T17:18:04.257Z"
   },
   {
    "duration": 6686,
    "start_time": "2021-06-10T17:19:05.005Z"
   },
   {
    "duration": 16,
    "start_time": "2021-06-10T17:23:48.801Z"
   },
   {
    "duration": 11,
    "start_time": "2021-06-10T17:24:33.204Z"
   },
   {
    "duration": 29,
    "start_time": "2021-06-10T17:25:18.576Z"
   },
   {
    "duration": 1520,
    "start_time": "2021-06-10T17:25:36.282Z"
   },
   {
    "duration": 409,
    "start_time": "2021-06-10T17:25:37.810Z"
   },
   {
    "duration": 39,
    "start_time": "2021-06-10T17:25:38.223Z"
   },
   {
    "duration": 50,
    "start_time": "2021-06-10T17:25:38.265Z"
   },
   {
    "duration": 106,
    "start_time": "2021-06-10T17:25:38.318Z"
   },
   {
    "duration": 29,
    "start_time": "2021-06-10T17:25:38.427Z"
   },
   {
    "duration": 17,
    "start_time": "2021-06-10T17:25:38.459Z"
   },
   {
    "duration": 494,
    "start_time": "2021-06-10T17:25:38.501Z"
   },
   {
    "duration": 30,
    "start_time": "2021-06-10T17:25:39.001Z"
   },
   {
    "duration": 27,
    "start_time": "2021-06-10T17:25:39.034Z"
   },
   {
    "duration": 3,
    "start_time": "2021-06-10T17:25:39.064Z"
   },
   {
    "duration": 43,
    "start_time": "2021-06-10T17:25:39.070Z"
   },
   {
    "duration": 7,
    "start_time": "2021-06-10T17:25:39.115Z"
   },
   {
    "duration": 26,
    "start_time": "2021-06-10T17:25:39.124Z"
   },
   {
    "duration": 50,
    "start_time": "2021-06-10T17:25:39.154Z"
   },
   {
    "duration": 8,
    "start_time": "2021-06-10T17:25:39.207Z"
   },
   {
    "duration": 10,
    "start_time": "2021-06-10T17:25:39.218Z"
   },
   {
    "duration": 12,
    "start_time": "2021-06-10T17:25:39.230Z"
   },
   {
    "duration": 10,
    "start_time": "2021-06-10T17:25:39.245Z"
   },
   {
    "duration": 15,
    "start_time": "2021-06-10T17:25:39.301Z"
   },
   {
    "duration": 7,
    "start_time": "2021-06-10T17:25:39.318Z"
   },
   {
    "duration": 26,
    "start_time": "2021-06-10T17:25:39.328Z"
   },
   {
    "duration": 55,
    "start_time": "2021-06-10T17:25:39.361Z"
   },
   {
    "duration": 28,
    "start_time": "2021-06-10T17:25:39.420Z"
   },
   {
    "duration": 59,
    "start_time": "2021-06-10T17:25:39.451Z"
   },
   {
    "duration": 31,
    "start_time": "2021-06-10T17:25:39.513Z"
   },
   {
    "duration": 21,
    "start_time": "2021-06-10T17:25:39.547Z"
   },
   {
    "duration": 201,
    "start_time": "2021-06-10T17:25:39.570Z"
   },
   {
    "duration": 31,
    "start_time": "2021-06-10T17:25:39.774Z"
   },
   {
    "duration": 16,
    "start_time": "2021-06-10T17:25:39.808Z"
   },
   {
    "duration": 35,
    "start_time": "2021-06-10T17:25:39.827Z"
   },
   {
    "duration": 37,
    "start_time": "2021-06-10T17:25:39.865Z"
   },
   {
    "duration": 15,
    "start_time": "2021-06-10T17:25:39.905Z"
   },
   {
    "duration": 9,
    "start_time": "2021-06-10T17:25:39.923Z"
   },
   {
    "duration": 24,
    "start_time": "2021-06-10T17:25:39.934Z"
   },
   {
    "duration": 883,
    "start_time": "2021-06-10T17:25:39.961Z"
   },
   {
    "duration": 29,
    "start_time": "2021-06-10T17:25:40.847Z"
   },
   {
    "duration": 436,
    "start_time": "2021-06-10T17:25:40.879Z"
   },
   {
    "duration": 28,
    "start_time": "2021-06-10T17:25:41.319Z"
   },
   {
    "duration": 388,
    "start_time": "2021-06-10T17:25:41.350Z"
   },
   {
    "duration": 73,
    "start_time": "2021-06-10T17:25:41.741Z"
   },
   {
    "duration": 46,
    "start_time": "2021-06-10T17:25:41.816Z"
   },
   {
    "duration": 471,
    "start_time": "2021-06-10T17:25:41.865Z"
   },
   {
    "duration": 4,
    "start_time": "2021-06-10T17:25:42.338Z"
   },
   {
    "duration": 23,
    "start_time": "2021-06-10T17:25:42.344Z"
   },
   {
    "duration": 44,
    "start_time": "2021-06-10T17:25:42.369Z"
   },
   {
    "duration": 584,
    "start_time": "2021-06-10T17:25:42.416Z"
   },
   {
    "duration": 26,
    "start_time": "2021-06-10T17:25:43.003Z"
   },
   {
    "duration": 11,
    "start_time": "2021-06-10T17:25:43.032Z"
   },
   {
    "duration": 7737,
    "start_time": "2021-06-10T17:25:43.046Z"
   },
   {
    "duration": 20,
    "start_time": "2021-06-10T17:27:18.003Z"
   },
   {
    "duration": 1474,
    "start_time": "2021-06-10T17:28:10.029Z"
   },
   {
    "duration": 403,
    "start_time": "2021-06-10T17:28:11.506Z"
   },
   {
    "duration": 37,
    "start_time": "2021-06-10T17:28:11.912Z"
   },
   {
    "duration": 25,
    "start_time": "2021-06-10T17:28:11.951Z"
   },
   {
    "duration": 102,
    "start_time": "2021-06-10T17:28:12.001Z"
   },
   {
    "duration": 33,
    "start_time": "2021-06-10T17:28:12.105Z"
   },
   {
    "duration": 18,
    "start_time": "2021-06-10T17:28:12.141Z"
   },
   {
    "duration": 515,
    "start_time": "2021-06-10T17:28:12.164Z"
   },
   {
    "duration": 36,
    "start_time": "2021-06-10T17:28:12.682Z"
   },
   {
    "duration": 27,
    "start_time": "2021-06-10T17:28:12.721Z"
   },
   {
    "duration": 5,
    "start_time": "2021-06-10T17:28:12.750Z"
   },
   {
    "duration": 44,
    "start_time": "2021-06-10T17:28:12.758Z"
   },
   {
    "duration": 7,
    "start_time": "2021-06-10T17:28:12.804Z"
   },
   {
    "duration": 27,
    "start_time": "2021-06-10T17:28:12.814Z"
   },
   {
    "duration": 17,
    "start_time": "2021-06-10T17:28:12.843Z"
   },
   {
    "duration": 41,
    "start_time": "2021-06-10T17:28:12.862Z"
   },
   {
    "duration": 10,
    "start_time": "2021-06-10T17:28:12.906Z"
   },
   {
    "duration": 14,
    "start_time": "2021-06-10T17:28:12.919Z"
   },
   {
    "duration": 11,
    "start_time": "2021-06-10T17:28:12.935Z"
   },
   {
    "duration": 59,
    "start_time": "2021-06-10T17:28:12.949Z"
   },
   {
    "duration": 8,
    "start_time": "2021-06-10T17:28:13.011Z"
   },
   {
    "duration": 29,
    "start_time": "2021-06-10T17:28:13.021Z"
   },
   {
    "duration": 49,
    "start_time": "2021-06-10T17:28:13.057Z"
   },
   {
    "duration": 28,
    "start_time": "2021-06-10T17:28:13.110Z"
   },
   {
    "duration": 19,
    "start_time": "2021-06-10T17:28:13.141Z"
   },
   {
    "duration": 70,
    "start_time": "2021-06-10T17:28:13.163Z"
   },
   {
    "duration": 21,
    "start_time": "2021-06-10T17:28:13.236Z"
   },
   {
    "duration": 200,
    "start_time": "2021-06-10T17:28:13.260Z"
   },
   {
    "duration": 22,
    "start_time": "2021-06-10T17:28:13.462Z"
   },
   {
    "duration": 24,
    "start_time": "2021-06-10T17:28:13.487Z"
   },
   {
    "duration": 23,
    "start_time": "2021-06-10T17:28:13.513Z"
   },
   {
    "duration": 7,
    "start_time": "2021-06-10T17:28:13.539Z"
   },
   {
    "duration": 14,
    "start_time": "2021-06-10T17:28:13.548Z"
   },
   {
    "duration": 38,
    "start_time": "2021-06-10T17:28:13.564Z"
   },
   {
    "duration": 29,
    "start_time": "2021-06-10T17:28:13.604Z"
   },
   {
    "duration": 842,
    "start_time": "2021-06-10T17:28:13.636Z"
   },
   {
    "duration": 40,
    "start_time": "2021-06-10T17:28:14.480Z"
   },
   {
    "duration": 422,
    "start_time": "2021-06-10T17:28:14.523Z"
   },
   {
    "duration": 28,
    "start_time": "2021-06-10T17:28:14.948Z"
   },
   {
    "duration": 357,
    "start_time": "2021-06-10T17:28:14.999Z"
   },
   {
    "duration": 82,
    "start_time": "2021-06-10T17:28:15.360Z"
   },
   {
    "duration": 46,
    "start_time": "2021-06-10T17:28:15.444Z"
   },
   {
    "duration": 602,
    "start_time": "2021-06-10T17:28:15.502Z"
   },
   {
    "duration": 4,
    "start_time": "2021-06-10T17:28:16.106Z"
   },
   {
    "duration": 35,
    "start_time": "2021-06-10T17:28:16.112Z"
   },
   {
    "duration": 27,
    "start_time": "2021-06-10T17:28:16.150Z"
   },
   {
    "duration": 617,
    "start_time": "2021-06-10T17:28:16.179Z"
   },
   {
    "duration": 26,
    "start_time": "2021-06-10T17:28:16.801Z"
   },
   {
    "duration": 13,
    "start_time": "2021-06-10T17:28:16.829Z"
   },
   {
    "duration": 6383,
    "start_time": "2021-06-10T17:28:16.844Z"
   },
   {
    "duration": 1611,
    "start_time": "2021-06-10T17:30:41.767Z"
   },
   {
    "duration": 481,
    "start_time": "2021-06-10T17:30:43.382Z"
   },
   {
    "duration": 57,
    "start_time": "2021-06-10T17:30:43.867Z"
   },
   {
    "duration": 25,
    "start_time": "2021-06-10T17:30:43.928Z"
   },
   {
    "duration": 125,
    "start_time": "2021-06-10T17:30:43.956Z"
   },
   {
    "duration": 41,
    "start_time": "2021-06-10T17:30:44.084Z"
   },
   {
    "duration": 16,
    "start_time": "2021-06-10T17:30:44.128Z"
   },
   {
    "duration": 631,
    "start_time": "2021-06-10T17:30:44.149Z"
   },
   {
    "duration": 42,
    "start_time": "2021-06-10T17:30:44.783Z"
   },
   {
    "duration": 42,
    "start_time": "2021-06-10T17:30:44.828Z"
   },
   {
    "duration": 3,
    "start_time": "2021-06-10T17:30:44.873Z"
   },
   {
    "duration": 28,
    "start_time": "2021-06-10T17:30:44.879Z"
   },
   {
    "duration": 7,
    "start_time": "2021-06-10T17:30:44.909Z"
   },
   {
    "duration": 24,
    "start_time": "2021-06-10T17:30:44.921Z"
   },
   {
    "duration": 52,
    "start_time": "2021-06-10T17:30:44.948Z"
   },
   {
    "duration": 7,
    "start_time": "2021-06-10T17:30:45.003Z"
   },
   {
    "duration": 10,
    "start_time": "2021-06-10T17:30:45.013Z"
   },
   {
    "duration": 11,
    "start_time": "2021-06-10T17:30:45.026Z"
   },
   {
    "duration": 7,
    "start_time": "2021-06-10T17:30:45.040Z"
   },
   {
    "duration": 56,
    "start_time": "2021-06-10T17:30:45.049Z"
   },
   {
    "duration": 6,
    "start_time": "2021-06-10T17:30:45.108Z"
   },
   {
    "duration": 29,
    "start_time": "2021-06-10T17:30:45.116Z"
   },
   {
    "duration": 49,
    "start_time": "2021-06-10T17:30:45.151Z"
   },
   {
    "duration": 28,
    "start_time": "2021-06-10T17:30:45.204Z"
   },
   {
    "duration": 21,
    "start_time": "2021-06-10T17:30:45.235Z"
   },
   {
    "duration": 68,
    "start_time": "2021-06-10T17:30:45.259Z"
   },
   {
    "duration": 21,
    "start_time": "2021-06-10T17:30:45.329Z"
   },
   {
    "duration": 196,
    "start_time": "2021-06-10T17:30:45.353Z"
   },
   {
    "duration": 23,
    "start_time": "2021-06-10T17:30:45.551Z"
   },
   {
    "duration": 34,
    "start_time": "2021-06-10T17:30:45.577Z"
   },
   {
    "duration": 31,
    "start_time": "2021-06-10T17:30:45.614Z"
   },
   {
    "duration": 9,
    "start_time": "2021-06-10T17:30:45.648Z"
   },
   {
    "duration": 41,
    "start_time": "2021-06-10T17:30:45.660Z"
   },
   {
    "duration": 9,
    "start_time": "2021-06-10T17:30:45.704Z"
   },
   {
    "duration": 21,
    "start_time": "2021-06-10T17:30:45.716Z"
   },
   {
    "duration": 1015,
    "start_time": "2021-06-10T17:30:45.740Z"
   },
   {
    "duration": 45,
    "start_time": "2021-06-10T17:30:46.758Z"
   },
   {
    "duration": 460,
    "start_time": "2021-06-10T17:30:46.806Z"
   },
   {
    "duration": 37,
    "start_time": "2021-06-10T17:30:47.269Z"
   },
   {
    "duration": 437,
    "start_time": "2021-06-10T17:30:47.309Z"
   },
   {
    "duration": 87,
    "start_time": "2021-06-10T17:30:47.749Z"
   },
   {
    "duration": 62,
    "start_time": "2021-06-10T17:30:47.839Z"
   },
   {
    "duration": 513,
    "start_time": "2021-06-10T17:30:47.903Z"
   },
   {
    "duration": 4,
    "start_time": "2021-06-10T17:30:48.420Z"
   },
   {
    "duration": 25,
    "start_time": "2021-06-10T17:30:48.428Z"
   },
   {
    "duration": 59,
    "start_time": "2021-06-10T17:30:48.456Z"
   },
   {
    "duration": 592,
    "start_time": "2021-06-10T17:30:48.518Z"
   },
   {
    "duration": 454,
    "start_time": "2021-06-10T17:30:49.112Z"
   },
   {
    "duration": 1373,
    "start_time": "2021-06-10T17:30:48.196Z"
   },
   {
    "duration": 1371,
    "start_time": "2021-06-10T17:30:48.200Z"
   },
   {
    "duration": 1365,
    "start_time": "2021-06-10T17:30:48.207Z"
   },
   {
    "duration": 6,
    "start_time": "2021-06-10T17:31:03.581Z"
   },
   {
    "duration": 21,
    "start_time": "2021-06-10T17:31:35.592Z"
   },
   {
    "duration": 6,
    "start_time": "2021-06-10T17:31:50.291Z"
   },
   {
    "duration": 7,
    "start_time": "2021-06-10T17:31:52.666Z"
   },
   {
    "duration": 16,
    "start_time": "2021-06-10T17:32:11.907Z"
   },
   {
    "duration": 6,
    "start_time": "2021-06-10T17:45:50.908Z"
   },
   {
    "duration": 4,
    "start_time": "2021-06-10T17:47:07.407Z"
   },
   {
    "duration": 3,
    "start_time": "2021-06-10T17:47:54.669Z"
   },
   {
    "duration": 308,
    "start_time": "2021-06-10T18:09:32.451Z"
   },
   {
    "duration": 1472,
    "start_time": "2021-06-10T18:11:30.155Z"
   },
   {
    "duration": 400,
    "start_time": "2021-06-10T18:11:31.630Z"
   },
   {
    "duration": 38,
    "start_time": "2021-06-10T18:11:32.033Z"
   },
   {
    "duration": 44,
    "start_time": "2021-06-10T18:11:32.074Z"
   },
   {
    "duration": 108,
    "start_time": "2021-06-10T18:11:32.121Z"
   },
   {
    "duration": 32,
    "start_time": "2021-06-10T18:11:32.231Z"
   },
   {
    "duration": 38,
    "start_time": "2021-06-10T18:11:32.266Z"
   },
   {
    "duration": 534,
    "start_time": "2021-06-10T18:11:32.309Z"
   },
   {
    "duration": 29,
    "start_time": "2021-06-10T18:11:32.846Z"
   },
   {
    "duration": 45,
    "start_time": "2021-06-10T18:11:32.878Z"
   },
   {
    "duration": 3,
    "start_time": "2021-06-10T18:11:32.926Z"
   },
   {
    "duration": 18,
    "start_time": "2021-06-10T18:11:32.932Z"
   },
   {
    "duration": 6,
    "start_time": "2021-06-10T18:11:32.952Z"
   },
   {
    "duration": 56,
    "start_time": "2021-06-10T18:11:32.960Z"
   },
   {
    "duration": 16,
    "start_time": "2021-06-10T18:11:33.018Z"
   },
   {
    "duration": 34,
    "start_time": "2021-06-10T18:11:33.037Z"
   },
   {
    "duration": 9,
    "start_time": "2021-06-10T18:11:33.074Z"
   },
   {
    "duration": 14,
    "start_time": "2021-06-10T18:11:33.086Z"
   },
   {
    "duration": 8,
    "start_time": "2021-06-10T18:11:33.103Z"
   },
   {
    "duration": 16,
    "start_time": "2021-06-10T18:11:33.114Z"
   },
   {
    "duration": 7,
    "start_time": "2021-06-10T18:11:33.132Z"
   },
   {
    "duration": 27,
    "start_time": "2021-06-10T18:11:33.142Z"
   },
   {
    "duration": 45,
    "start_time": "2021-06-10T18:11:33.175Z"
   },
   {
    "duration": 28,
    "start_time": "2021-06-10T18:11:33.225Z"
   },
   {
    "duration": 55,
    "start_time": "2021-06-10T18:11:33.256Z"
   },
   {
    "duration": 30,
    "start_time": "2021-06-10T18:11:33.314Z"
   },
   {
    "duration": 19,
    "start_time": "2021-06-10T18:11:33.347Z"
   },
   {
    "duration": 202,
    "start_time": "2021-06-10T18:11:33.368Z"
   },
   {
    "duration": 35,
    "start_time": "2021-06-10T18:11:33.572Z"
   },
   {
    "duration": 15,
    "start_time": "2021-06-10T18:11:33.610Z"
   },
   {
    "duration": 22,
    "start_time": "2021-06-10T18:11:33.628Z"
   },
   {
    "duration": 7,
    "start_time": "2021-06-10T18:11:33.652Z"
   },
   {
    "duration": 43,
    "start_time": "2021-06-10T18:11:33.661Z"
   },
   {
    "duration": 8,
    "start_time": "2021-06-10T18:11:33.706Z"
   },
   {
    "duration": 25,
    "start_time": "2021-06-10T18:11:33.717Z"
   },
   {
    "duration": 865,
    "start_time": "2021-06-10T18:11:33.745Z"
   },
   {
    "duration": 29,
    "start_time": "2021-06-10T18:11:34.613Z"
   },
   {
    "duration": 437,
    "start_time": "2021-06-10T18:11:34.646Z"
   },
   {
    "duration": 31,
    "start_time": "2021-06-10T18:11:35.086Z"
   },
   {
    "duration": 371,
    "start_time": "2021-06-10T18:11:35.119Z"
   },
   {
    "duration": 62,
    "start_time": "2021-06-10T18:11:35.492Z"
   },
   {
    "duration": 67,
    "start_time": "2021-06-10T18:11:35.556Z"
   },
   {
    "duration": 470,
    "start_time": "2021-06-10T18:11:35.625Z"
   },
   {
    "duration": 4,
    "start_time": "2021-06-10T18:11:36.101Z"
   },
   {
    "duration": 27,
    "start_time": "2021-06-10T18:11:36.107Z"
   },
   {
    "duration": 19,
    "start_time": "2021-06-10T18:11:36.137Z"
   },
   {
    "duration": 569,
    "start_time": "2021-06-10T18:11:36.159Z"
   },
   {
    "duration": 6,
    "start_time": "2021-06-10T18:11:36.732Z"
   },
   {
    "duration": 8,
    "start_time": "2021-06-10T18:11:36.741Z"
   },
   {
    "duration": 53,
    "start_time": "2021-06-10T18:11:36.751Z"
   },
   {
    "duration": 13,
    "start_time": "2021-06-10T18:11:36.807Z"
   },
   {
    "duration": 4,
    "start_time": "2021-06-10T18:11:36.823Z"
   },
   {
    "duration": 5,
    "start_time": "2021-06-10T18:11:36.830Z"
   },
   {
    "duration": 401,
    "start_time": "2021-06-10T18:11:36.837Z"
   },
   {
    "duration": 10,
    "start_time": "2021-06-10T18:12:01.396Z"
   },
   {
    "duration": 8,
    "start_time": "2021-06-10T18:12:47.173Z"
   },
   {
    "duration": 4,
    "start_time": "2021-06-10T18:12:48.178Z"
   },
   {
    "duration": 6,
    "start_time": "2021-06-10T18:12:49.104Z"
   },
   {
    "duration": 5,
    "start_time": "2021-06-10T18:12:50.009Z"
   },
   {
    "duration": 261,
    "start_time": "2021-06-10T18:14:19.578Z"
   },
   {
    "duration": 4,
    "start_time": "2021-06-10T18:15:12.658Z"
   },
   {
    "duration": 41,
    "start_time": "2021-06-10T18:15:18.080Z"
   },
   {
    "duration": 36,
    "start_time": "2021-06-10T18:15:36.354Z"
   },
   {
    "duration": 417,
    "start_time": "2021-06-10T18:17:18.322Z"
   },
   {
    "duration": 83,
    "start_time": "2021-06-10T18:19:11.621Z"
   },
   {
    "duration": 52,
    "start_time": "2021-06-10T18:20:37.379Z"
   },
   {
    "duration": 286,
    "start_time": "2021-06-10T18:21:17.532Z"
   },
   {
    "duration": 5,
    "start_time": "2021-06-10T18:23:22.757Z"
   },
   {
    "duration": 4,
    "start_time": "2021-06-10T18:23:26.697Z"
   },
   {
    "duration": 4,
    "start_time": "2021-06-10T18:24:27.053Z"
   },
   {
    "duration": 86,
    "start_time": "2021-06-10T18:38:15.638Z"
   },
   {
    "duration": 268,
    "start_time": "2021-06-10T18:38:29.128Z"
   },
   {
    "duration": 4,
    "start_time": "2021-06-10T18:39:52.174Z"
   },
   {
    "duration": 277,
    "start_time": "2021-06-10T18:39:57.981Z"
   },
   {
    "duration": 361,
    "start_time": "2021-06-10T18:40:05.019Z"
   },
   {
    "duration": 6,
    "start_time": "2021-06-10T18:40:57.804Z"
   },
   {
    "duration": 10044,
    "start_time": "2021-06-10T18:41:03.957Z"
   },
   {
    "duration": 4,
    "start_time": "2021-06-10T18:43:17.443Z"
   },
   {
    "duration": 10188,
    "start_time": "2021-06-10T18:43:19.751Z"
   },
   {
    "duration": 4,
    "start_time": "2021-06-10T18:44:35.274Z"
   },
   {
    "duration": 4,
    "start_time": "2021-06-10T18:44:36.807Z"
   },
   {
    "duration": 10012,
    "start_time": "2021-06-10T18:44:37.873Z"
   },
   {
    "duration": 324,
    "start_time": "2021-06-10T18:45:03.353Z"
   },
   {
    "duration": 3,
    "start_time": "2021-06-10T18:45:08.976Z"
   },
   {
    "duration": 58656,
    "start_time": "2021-06-10T18:45:16.534Z"
   },
   {
    "duration": 6,
    "start_time": "2021-06-10T18:47:21.562Z"
   },
   {
    "duration": 70810,
    "start_time": "2021-06-10T18:47:31.646Z"
   },
   {
    "duration": 4,
    "start_time": "2021-06-10T18:49:06.411Z"
   },
   {
    "duration": 3821,
    "start_time": "2021-06-10T18:49:08.982Z"
   },
   {
    "duration": 4805,
    "start_time": "2021-06-10T18:58:43.668Z"
   },
   {
    "duration": 4845,
    "start_time": "2021-06-10T18:59:33.762Z"
   },
   {
    "duration": 198286,
    "start_time": "2021-06-10T19:00:05.196Z"
   },
   {
    "duration": 84167,
    "start_time": "2021-06-10T19:04:30.625Z"
   },
   {
    "duration": 151611,
    "start_time": "2021-06-10T19:06:04.487Z"
   },
   {
    "duration": 349650,
    "start_time": "2021-06-10T19:08:41.520Z"
   },
   {
    "duration": 11774,
    "start_time": "2021-06-10T19:17:09.447Z"
   },
   {
    "duration": 293,
    "start_time": "2021-06-10T19:17:35.411Z"
   },
   {
    "duration": 260,
    "start_time": "2021-06-10T19:18:09.083Z"
   },
   {
    "duration": 8,
    "start_time": "2021-06-10T19:23:55.284Z"
   },
   {
    "duration": 313,
    "start_time": "2021-06-10T19:24:24.567Z"
   },
   {
    "duration": 8,
    "start_time": "2021-06-10T19:26:15.902Z"
   },
   {
    "duration": 308,
    "start_time": "2021-06-10T19:26:23.244Z"
   },
   {
    "duration": 295,
    "start_time": "2021-06-10T19:26:44.113Z"
   },
   {
    "duration": 5,
    "start_time": "2021-06-10T19:28:09.870Z"
   },
   {
    "duration": 6,
    "start_time": "2021-06-10T19:28:14.878Z"
   },
   {
    "duration": 5,
    "start_time": "2021-06-10T19:29:05.590Z"
   },
   {
    "duration": 11891,
    "start_time": "2021-06-10T19:30:22.398Z"
   },
   {
    "duration": 11,
    "start_time": "2021-06-10T19:30:34.292Z"
   },
   {
    "duration": 399,
    "start_time": "2021-06-10T19:30:34.306Z"
   },
   {
    "duration": 9,
    "start_time": "2021-06-10T19:33:13.482Z"
   },
   {
    "duration": 280,
    "start_time": "2021-06-10T19:33:20.186Z"
   },
   {
    "duration": 9,
    "start_time": "2021-06-10T19:34:33.558Z"
   },
   {
    "duration": 4,
    "start_time": "2021-06-10T19:34:54.544Z"
   },
   {
    "duration": 6,
    "start_time": "2021-06-10T19:35:01.353Z"
   },
   {
    "duration": 281,
    "start_time": "2021-06-10T19:35:51.401Z"
   },
   {
    "duration": 4,
    "start_time": "2021-06-10T19:35:56.899Z"
   },
   {
    "duration": 4,
    "start_time": "2021-06-10T19:36:13.772Z"
   },
   {
    "duration": 5,
    "start_time": "2021-06-10T19:36:14.979Z"
   },
   {
    "duration": 5,
    "start_time": "2021-06-10T19:36:16.148Z"
   },
   {
    "duration": 5,
    "start_time": "2021-06-10T19:37:24.415Z"
   },
   {
    "duration": 4,
    "start_time": "2021-06-10T19:37:25.136Z"
   },
   {
    "duration": 8,
    "start_time": "2021-06-10T19:37:27.136Z"
   },
   {
    "duration": 5,
    "start_time": "2021-06-10T19:37:27.955Z"
   },
   {
    "duration": 5,
    "start_time": "2021-06-10T19:39:16.941Z"
   },
   {
    "duration": 408,
    "start_time": "2021-06-10T19:40:35.984Z"
   },
   {
    "duration": 7,
    "start_time": "2021-06-10T19:40:46.736Z"
   },
   {
    "duration": 248,
    "start_time": "2021-06-10T19:41:39.142Z"
   },
   {
    "duration": 6,
    "start_time": "2021-06-10T19:42:09.872Z"
   },
   {
    "duration": 264,
    "start_time": "2021-06-10T19:42:13.134Z"
   },
   {
    "duration": 251,
    "start_time": "2021-06-10T19:42:49.878Z"
   },
   {
    "duration": 6,
    "start_time": "2021-06-10T19:42:52.970Z"
   },
   {
    "duration": 257,
    "start_time": "2021-06-10T19:42:54.789Z"
   },
   {
    "duration": 7,
    "start_time": "2021-06-10T19:45:13.166Z"
   },
   {
    "duration": 264,
    "start_time": "2021-06-10T19:45:14.255Z"
   },
   {
    "duration": 11,
    "start_time": "2021-06-10T19:45:37.257Z"
   },
   {
    "duration": 12,
    "start_time": "2021-06-10T19:45:38.185Z"
   },
   {
    "duration": 3,
    "start_time": "2021-06-10T19:47:42.723Z"
   },
   {
    "duration": 1600,
    "start_time": "2021-06-10T20:05:38.000Z"
   },
   {
    "duration": 399,
    "start_time": "2021-06-10T20:05:39.603Z"
   },
   {
    "duration": 37,
    "start_time": "2021-06-10T20:05:40.005Z"
   },
   {
    "duration": 25,
    "start_time": "2021-06-10T20:05:40.045Z"
   },
   {
    "duration": 137,
    "start_time": "2021-06-10T20:05:40.074Z"
   },
   {
    "duration": 31,
    "start_time": "2021-06-10T20:05:40.214Z"
   },
   {
    "duration": 21,
    "start_time": "2021-06-10T20:05:40.247Z"
   },
   {
    "duration": 527,
    "start_time": "2021-06-10T20:05:40.272Z"
   },
   {
    "duration": 29,
    "start_time": "2021-06-10T20:05:40.802Z"
   },
   {
    "duration": 24,
    "start_time": "2021-06-10T20:05:40.834Z"
   },
   {
    "duration": 4,
    "start_time": "2021-06-10T20:05:40.861Z"
   },
   {
    "duration": 46,
    "start_time": "2021-06-10T20:05:40.867Z"
   },
   {
    "duration": 7,
    "start_time": "2021-06-10T20:05:40.915Z"
   },
   {
    "duration": 21,
    "start_time": "2021-06-10T20:05:40.924Z"
   },
   {
    "duration": 16,
    "start_time": "2021-06-10T20:05:40.948Z"
   },
   {
    "duration": 8,
    "start_time": "2021-06-10T20:05:40.999Z"
   },
   {
    "duration": 15,
    "start_time": "2021-06-10T20:05:41.009Z"
   },
   {
    "duration": 23,
    "start_time": "2021-06-10T20:05:41.027Z"
   },
   {
    "duration": 12,
    "start_time": "2021-06-10T20:05:41.053Z"
   },
   {
    "duration": 44,
    "start_time": "2021-06-10T20:05:41.068Z"
   },
   {
    "duration": 8,
    "start_time": "2021-06-10T20:05:41.114Z"
   },
   {
    "duration": 45,
    "start_time": "2021-06-10T20:05:41.124Z"
   },
   {
    "duration": 38,
    "start_time": "2021-06-10T20:05:41.177Z"
   },
   {
    "duration": 34,
    "start_time": "2021-06-10T20:05:41.220Z"
   },
   {
    "duration": 45,
    "start_time": "2021-06-10T20:05:41.257Z"
   },
   {
    "duration": 29,
    "start_time": "2021-06-10T20:05:41.305Z"
   },
   {
    "duration": 21,
    "start_time": "2021-06-10T20:05:41.336Z"
   },
   {
    "duration": 274,
    "start_time": "2021-06-10T20:05:41.359Z"
   },
   {
    "duration": 26,
    "start_time": "2021-06-10T20:05:41.636Z"
   },
   {
    "duration": 45,
    "start_time": "2021-06-10T20:05:41.665Z"
   },
   {
    "duration": 26,
    "start_time": "2021-06-10T20:05:41.713Z"
   },
   {
    "duration": 7,
    "start_time": "2021-06-10T20:05:41.742Z"
   },
   {
    "duration": 7,
    "start_time": "2021-06-10T20:05:41.752Z"
   },
   {
    "duration": 41,
    "start_time": "2021-06-10T20:05:41.761Z"
   },
   {
    "duration": 23,
    "start_time": "2021-06-10T20:05:41.804Z"
   },
   {
    "duration": 875,
    "start_time": "2021-06-10T20:05:41.830Z"
   },
   {
    "duration": 27,
    "start_time": "2021-06-10T20:05:42.707Z"
   },
   {
    "duration": 436,
    "start_time": "2021-06-10T20:05:42.736Z"
   },
   {
    "duration": 42,
    "start_time": "2021-06-10T20:05:43.174Z"
   },
   {
    "duration": 491,
    "start_time": "2021-06-10T20:05:43.219Z"
   },
   {
    "duration": 66,
    "start_time": "2021-06-10T20:05:43.713Z"
   },
   {
    "duration": 73,
    "start_time": "2021-06-10T20:05:43.782Z"
   },
   {
    "duration": 712,
    "start_time": "2021-06-10T20:05:43.858Z"
   },
   {
    "duration": 4,
    "start_time": "2021-06-10T20:05:44.573Z"
   },
   {
    "duration": 39,
    "start_time": "2021-06-10T20:05:44.580Z"
   },
   {
    "duration": 23,
    "start_time": "2021-06-10T20:05:44.622Z"
   },
   {
    "duration": 486,
    "start_time": "2021-06-10T20:05:44.648Z"
   },
   {
    "duration": 5,
    "start_time": "2021-06-10T20:05:45.137Z"
   },
   {
    "duration": 8,
    "start_time": "2021-06-10T20:05:45.144Z"
   },
   {
    "duration": 48,
    "start_time": "2021-06-10T20:05:45.154Z"
   },
   {
    "duration": 13,
    "start_time": "2021-06-10T20:05:45.205Z"
   },
   {
    "duration": 7,
    "start_time": "2021-06-10T20:05:45.221Z"
   },
   {
    "duration": 10,
    "start_time": "2021-06-10T20:05:45.231Z"
   },
   {
    "duration": 11,
    "start_time": "2021-06-10T20:05:45.243Z"
   },
   {
    "duration": 10,
    "start_time": "2021-06-10T20:05:45.256Z"
   },
   {
    "duration": 34,
    "start_time": "2021-06-10T20:05:45.268Z"
   },
   {
    "duration": 8,
    "start_time": "2021-06-10T20:05:45.304Z"
   },
   {
    "duration": 41,
    "start_time": "2021-06-10T20:05:45.314Z"
   },
   {
    "duration": 61,
    "start_time": "2021-06-10T20:05:45.357Z"
   },
   {
    "duration": 4,
    "start_time": "2021-06-10T20:05:45.421Z"
   },
   {
    "duration": 6,
    "start_time": "2021-06-10T20:05:45.427Z"
   },
   {
    "duration": 482,
    "start_time": "2021-06-10T20:05:45.436Z"
   },
   {
    "duration": 1201,
    "start_time": "2021-06-10T20:05:44.721Z"
   },
   {
    "duration": 1180,
    "start_time": "2021-06-10T20:05:44.744Z"
   },
   {
    "duration": 1149,
    "start_time": "2021-06-10T20:05:44.777Z"
   },
   {
    "duration": 1138,
    "start_time": "2021-06-10T20:05:44.790Z"
   },
   {
    "duration": 1135,
    "start_time": "2021-06-10T20:05:44.796Z"
   },
   {
    "duration": 1131,
    "start_time": "2021-06-10T20:05:44.802Z"
   },
   {
    "duration": 1125,
    "start_time": "2021-06-10T20:05:44.810Z"
   },
   {
    "duration": 1121,
    "start_time": "2021-06-10T20:05:44.816Z"
   },
   {
    "duration": 1117,
    "start_time": "2021-06-10T20:05:44.822Z"
   },
   {
    "duration": 1113,
    "start_time": "2021-06-10T20:05:44.828Z"
   },
   {
    "duration": 269,
    "start_time": "2021-06-10T20:07:25.790Z"
   },
   {
    "duration": 7111,
    "start_time": "2021-06-10T20:07:40.799Z"
   },
   {
    "duration": 14759,
    "start_time": "2021-06-10T20:07:54.546Z"
   },
   {
    "duration": 14860,
    "start_time": "2021-06-10T20:08:39.134Z"
   },
   {
    "duration": 13345,
    "start_time": "2021-06-10T20:09:01.776Z"
   },
   {
    "duration": 359,
    "start_time": "2021-06-10T20:09:18.067Z"
   },
   {
    "duration": 4,
    "start_time": "2021-06-10T20:09:24.274Z"
   },
   {
    "duration": 4,
    "start_time": "2021-06-10T20:09:55.045Z"
   },
   {
    "duration": 60230,
    "start_time": "2021-06-10T20:09:56.312Z"
   },
   {
    "duration": 1542,
    "start_time": "2021-06-10T20:11:47.562Z"
   },
   {
    "duration": 401,
    "start_time": "2021-06-10T20:11:49.107Z"
   },
   {
    "duration": 37,
    "start_time": "2021-06-10T20:11:49.511Z"
   },
   {
    "duration": 25,
    "start_time": "2021-06-10T20:11:49.550Z"
   },
   {
    "duration": 104,
    "start_time": "2021-06-10T20:11:49.600Z"
   },
   {
    "duration": 30,
    "start_time": "2021-06-10T20:11:49.707Z"
   },
   {
    "duration": 17,
    "start_time": "2021-06-10T20:11:49.740Z"
   },
   {
    "duration": 516,
    "start_time": "2021-06-10T20:11:49.761Z"
   },
   {
    "duration": 38,
    "start_time": "2021-06-10T20:11:50.280Z"
   },
   {
    "duration": 27,
    "start_time": "2021-06-10T20:11:50.321Z"
   },
   {
    "duration": 4,
    "start_time": "2021-06-10T20:11:50.350Z"
   },
   {
    "duration": 19,
    "start_time": "2021-06-10T20:11:50.356Z"
   },
   {
    "duration": 7,
    "start_time": "2021-06-10T20:11:50.401Z"
   },
   {
    "duration": 25,
    "start_time": "2021-06-10T20:11:50.411Z"
   },
   {
    "duration": 19,
    "start_time": "2021-06-10T20:11:50.438Z"
   },
   {
    "duration": 44,
    "start_time": "2021-06-10T20:11:50.460Z"
   },
   {
    "duration": 9,
    "start_time": "2021-06-10T20:11:50.507Z"
   },
   {
    "duration": 12,
    "start_time": "2021-06-10T20:11:50.520Z"
   },
   {
    "duration": 9,
    "start_time": "2021-06-10T20:11:50.534Z"
   },
   {
    "duration": 63,
    "start_time": "2021-06-10T20:11:50.546Z"
   },
   {
    "duration": 5,
    "start_time": "2021-06-10T20:11:50.612Z"
   },
   {
    "duration": 26,
    "start_time": "2021-06-10T20:11:50.620Z"
   },
   {
    "duration": 51,
    "start_time": "2021-06-10T20:11:50.653Z"
   },
   {
    "duration": 28,
    "start_time": "2021-06-10T20:11:50.708Z"
   },
   {
    "duration": 18,
    "start_time": "2021-06-10T20:11:50.738Z"
   },
   {
    "duration": 67,
    "start_time": "2021-06-10T20:11:50.758Z"
   },
   {
    "duration": 20,
    "start_time": "2021-06-10T20:11:50.828Z"
   },
   {
    "duration": 187,
    "start_time": "2021-06-10T20:11:50.850Z"
   },
   {
    "duration": 22,
    "start_time": "2021-06-10T20:11:51.039Z"
   },
   {
    "duration": 40,
    "start_time": "2021-06-10T20:11:51.064Z"
   },
   {
    "duration": 23,
    "start_time": "2021-06-10T20:11:51.106Z"
   },
   {
    "duration": 7,
    "start_time": "2021-06-10T20:11:51.131Z"
   },
   {
    "duration": 10,
    "start_time": "2021-06-10T20:11:51.140Z"
   },
   {
    "duration": 7,
    "start_time": "2021-06-10T20:11:51.153Z"
   },
   {
    "duration": 23,
    "start_time": "2021-06-10T20:11:51.201Z"
   },
   {
    "duration": 922,
    "start_time": "2021-06-10T20:11:51.227Z"
   },
   {
    "duration": 26,
    "start_time": "2021-06-10T20:11:52.151Z"
   },
   {
    "duration": 438,
    "start_time": "2021-06-10T20:11:52.180Z"
   },
   {
    "duration": 27,
    "start_time": "2021-06-10T20:11:52.621Z"
   },
   {
    "duration": 386,
    "start_time": "2021-06-10T20:11:52.651Z"
   },
   {
    "duration": 71,
    "start_time": "2021-06-10T20:11:53.040Z"
   },
   {
    "duration": 46,
    "start_time": "2021-06-10T20:11:53.113Z"
   },
   {
    "duration": 543,
    "start_time": "2021-06-10T20:11:53.161Z"
   },
   {
    "duration": 4,
    "start_time": "2021-06-10T20:11:53.707Z"
   },
   {
    "duration": 29,
    "start_time": "2021-06-10T20:11:53.713Z"
   },
   {
    "duration": 23,
    "start_time": "2021-06-10T20:11:53.745Z"
   },
   {
    "duration": 617,
    "start_time": "2021-06-10T20:11:53.801Z"
   },
   {
    "duration": 6,
    "start_time": "2021-06-10T20:11:54.421Z"
   },
   {
    "duration": 8,
    "start_time": "2021-06-10T20:11:54.429Z"
   },
   {
    "duration": 21,
    "start_time": "2021-06-10T20:11:54.440Z"
   },
   {
    "duration": 46,
    "start_time": "2021-06-10T20:11:54.464Z"
   },
   {
    "duration": 5,
    "start_time": "2021-06-10T20:11:54.512Z"
   },
   {
    "duration": 6,
    "start_time": "2021-06-10T20:11:54.519Z"
   },
   {
    "duration": 10,
    "start_time": "2021-06-10T20:11:54.527Z"
   },
   {
    "duration": 8,
    "start_time": "2021-06-10T20:11:54.539Z"
   },
   {
    "duration": 52,
    "start_time": "2021-06-10T20:11:54.549Z"
   },
   {
    "duration": 5,
    "start_time": "2021-06-10T20:11:54.603Z"
   },
   {
    "duration": 37,
    "start_time": "2021-06-10T20:11:54.611Z"
   },
   {
    "duration": 60,
    "start_time": "2021-06-10T20:11:54.651Z"
   },
   {
    "duration": 3,
    "start_time": "2021-06-10T20:11:54.713Z"
   },
   {
    "duration": 7,
    "start_time": "2021-06-10T20:11:54.719Z"
   },
   {
    "duration": 10425,
    "start_time": "2021-06-10T20:11:54.729Z"
   },
   {
    "duration": 3,
    "start_time": "2021-06-10T20:12:05.157Z"
   },
   {
    "duration": 59344,
    "start_time": "2021-06-10T20:12:05.162Z"
   },
   {
    "duration": 4,
    "start_time": "2021-06-10T20:13:04.509Z"
   },
   {
    "duration": 3186,
    "start_time": "2021-06-10T20:13:04.516Z"
   },
   {
    "duration": 320,
    "start_time": "2021-06-10T20:13:07.708Z"
   },
   {
    "duration": 8047,
    "start_time": "2021-06-10T20:13:08.035Z"
   },
   {
    "duration": 15,
    "start_time": "2021-06-10T20:13:16.085Z"
   },
   {
    "duration": 5,
    "start_time": "2021-06-10T20:13:16.103Z"
   },
   {
    "duration": 9,
    "start_time": "2021-06-10T20:13:16.111Z"
   },
   {
    "duration": 15,
    "start_time": "2021-06-10T20:13:16.123Z"
   },
   {
    "duration": 216,
    "start_time": "2021-06-10T21:00:39.268Z"
   },
   {
    "duration": 4926,
    "start_time": "2021-06-10T21:01:56.500Z"
   },
   {
    "duration": 1520,
    "start_time": "2021-06-10T21:03:49.574Z"
   },
   {
    "duration": 390,
    "start_time": "2021-06-10T21:03:51.097Z"
   },
   {
    "duration": 34,
    "start_time": "2021-06-10T21:03:51.490Z"
   },
   {
    "duration": 24,
    "start_time": "2021-06-10T21:03:51.527Z"
   },
   {
    "duration": 126,
    "start_time": "2021-06-10T21:03:51.553Z"
   },
   {
    "duration": 36,
    "start_time": "2021-06-10T21:03:51.681Z"
   },
   {
    "duration": 20,
    "start_time": "2021-06-10T21:03:51.720Z"
   },
   {
    "duration": 509,
    "start_time": "2021-06-10T21:03:51.744Z"
   },
   {
    "duration": 29,
    "start_time": "2021-06-10T21:03:52.256Z"
   },
   {
    "duration": 41,
    "start_time": "2021-06-10T21:03:52.302Z"
   },
   {
    "duration": 4,
    "start_time": "2021-06-10T21:03:52.345Z"
   },
   {
    "duration": 19,
    "start_time": "2021-06-10T21:03:52.352Z"
   },
   {
    "duration": 31,
    "start_time": "2021-06-10T21:03:52.373Z"
   },
   {
    "duration": 24,
    "start_time": "2021-06-10T21:03:52.406Z"
   },
   {
    "duration": 16,
    "start_time": "2021-06-10T21:03:52.433Z"
   },
   {
    "duration": 7,
    "start_time": "2021-06-10T21:03:52.451Z"
   },
   {
    "duration": 42,
    "start_time": "2021-06-10T21:03:52.460Z"
   },
   {
    "duration": 11,
    "start_time": "2021-06-10T21:03:52.505Z"
   },
   {
    "duration": 16,
    "start_time": "2021-06-10T21:03:52.518Z"
   },
   {
    "duration": 19,
    "start_time": "2021-06-10T21:03:52.537Z"
   },
   {
    "duration": 6,
    "start_time": "2021-06-10T21:03:52.558Z"
   },
   {
    "duration": 57,
    "start_time": "2021-06-10T21:03:52.566Z"
   },
   {
    "duration": 21,
    "start_time": "2021-06-10T21:03:52.631Z"
   },
   {
    "duration": 55,
    "start_time": "2021-06-10T21:03:52.657Z"
   },
   {
    "duration": 20,
    "start_time": "2021-06-10T21:03:52.715Z"
   },
   {
    "duration": 63,
    "start_time": "2021-06-10T21:03:52.737Z"
   },
   {
    "duration": 21,
    "start_time": "2021-06-10T21:03:52.803Z"
   },
   {
    "duration": 193,
    "start_time": "2021-06-10T21:03:52.827Z"
   },
   {
    "duration": 22,
    "start_time": "2021-06-10T21:03:53.023Z"
   },
   {
    "duration": 17,
    "start_time": "2021-06-10T21:03:53.048Z"
   },
   {
    "duration": 52,
    "start_time": "2021-06-10T21:03:53.069Z"
   },
   {
    "duration": 9,
    "start_time": "2021-06-10T21:03:53.124Z"
   },
   {
    "duration": 14,
    "start_time": "2021-06-10T21:03:53.136Z"
   },
   {
    "duration": 16,
    "start_time": "2021-06-10T21:03:53.153Z"
   },
   {
    "duration": 49,
    "start_time": "2021-06-10T21:03:53.172Z"
   },
   {
    "duration": 835,
    "start_time": "2021-06-10T21:03:53.224Z"
   },
   {
    "duration": 44,
    "start_time": "2021-06-10T21:03:54.062Z"
   },
   {
    "duration": 410,
    "start_time": "2021-06-10T21:03:54.109Z"
   },
   {
    "duration": 25,
    "start_time": "2021-06-10T21:03:54.523Z"
   },
   {
    "duration": 374,
    "start_time": "2021-06-10T21:03:54.550Z"
   },
   {
    "duration": 73,
    "start_time": "2021-06-10T21:03:54.927Z"
   },
   {
    "duration": 48,
    "start_time": "2021-06-10T21:03:55.003Z"
   },
   {
    "duration": 556,
    "start_time": "2021-06-10T21:03:55.054Z"
   },
   {
    "duration": 5,
    "start_time": "2021-06-10T21:03:55.613Z"
   },
   {
    "duration": 32,
    "start_time": "2021-06-10T21:03:55.621Z"
   },
   {
    "duration": 49,
    "start_time": "2021-06-10T21:03:55.655Z"
   },
   {
    "duration": 468,
    "start_time": "2021-06-10T21:03:55.707Z"
   },
   {
    "duration": 5,
    "start_time": "2021-06-10T21:03:56.178Z"
   },
   {
    "duration": 5,
    "start_time": "2021-06-10T21:03:56.200Z"
   },
   {
    "duration": 31,
    "start_time": "2021-06-10T21:03:56.207Z"
   },
   {
    "duration": 17,
    "start_time": "2021-06-10T21:03:56.241Z"
   },
   {
    "duration": 6,
    "start_time": "2021-06-10T21:03:56.260Z"
   },
   {
    "duration": 34,
    "start_time": "2021-06-10T21:03:56.269Z"
   },
   {
    "duration": 15,
    "start_time": "2021-06-10T21:03:56.306Z"
   },
   {
    "duration": 17,
    "start_time": "2021-06-10T21:03:56.324Z"
   },
   {
    "duration": 11,
    "start_time": "2021-06-10T21:03:56.344Z"
   },
   {
    "duration": 20,
    "start_time": "2021-06-10T21:03:56.357Z"
   },
   {
    "duration": 58,
    "start_time": "2021-06-10T21:03:56.379Z"
   },
   {
    "duration": 33,
    "start_time": "2021-06-10T21:03:56.440Z"
   },
   {
    "duration": 33,
    "start_time": "2021-06-10T21:03:56.475Z"
   },
   {
    "duration": 13,
    "start_time": "2021-06-10T21:03:56.510Z"
   },
   {
    "duration": 9633,
    "start_time": "2021-06-10T21:03:56.525Z"
   },
   {
    "duration": 3,
    "start_time": "2021-06-10T21:04:06.161Z"
   },
   {
    "duration": 56886,
    "start_time": "2021-06-10T21:04:06.166Z"
   },
   {
    "duration": 4,
    "start_time": "2021-06-10T21:05:03.054Z"
   },
   {
    "duration": 3248,
    "start_time": "2021-06-10T21:05:03.060Z"
   },
   {
    "duration": 276659,
    "start_time": "2021-06-10T21:05:06.401Z"
   },
   {
    "duration": 8149,
    "start_time": "2021-06-10T21:09:43.067Z"
   },
   {
    "duration": 8,
    "start_time": "2021-06-10T21:09:51.219Z"
   },
   {
    "duration": 11,
    "start_time": "2021-06-10T21:09:51.231Z"
   },
   {
    "duration": 9,
    "start_time": "2021-06-10T21:09:51.245Z"
   },
   {
    "duration": 47,
    "start_time": "2021-06-10T21:09:51.257Z"
   },
   {
    "duration": 1595,
    "start_time": "2021-06-10T21:12:01.760Z"
   },
   {
    "duration": 401,
    "start_time": "2021-06-10T21:12:03.358Z"
   },
   {
    "duration": 49,
    "start_time": "2021-06-10T21:12:03.763Z"
   },
   {
    "duration": 26,
    "start_time": "2021-06-10T21:12:03.816Z"
   },
   {
    "duration": 125,
    "start_time": "2021-06-10T21:12:03.845Z"
   },
   {
    "duration": 37,
    "start_time": "2021-06-10T21:12:03.973Z"
   },
   {
    "duration": 19,
    "start_time": "2021-06-10T21:12:04.012Z"
   },
   {
    "duration": 535,
    "start_time": "2021-06-10T21:12:04.037Z"
   },
   {
    "duration": 42,
    "start_time": "2021-06-10T21:12:04.576Z"
   },
   {
    "duration": 31,
    "start_time": "2021-06-10T21:12:04.621Z"
   },
   {
    "duration": 5,
    "start_time": "2021-06-10T21:12:04.655Z"
   },
   {
    "duration": 41,
    "start_time": "2021-06-10T21:12:04.663Z"
   },
   {
    "duration": 7,
    "start_time": "2021-06-10T21:12:04.706Z"
   },
   {
    "duration": 30,
    "start_time": "2021-06-10T21:12:04.716Z"
   },
   {
    "duration": 17,
    "start_time": "2021-06-10T21:12:04.749Z"
   },
   {
    "duration": 36,
    "start_time": "2021-06-10T21:12:04.769Z"
   },
   {
    "duration": 14,
    "start_time": "2021-06-10T21:12:04.808Z"
   },
   {
    "duration": 22,
    "start_time": "2021-06-10T21:12:04.825Z"
   },
   {
    "duration": 21,
    "start_time": "2021-06-10T21:12:04.850Z"
   },
   {
    "duration": 33,
    "start_time": "2021-06-10T21:12:04.874Z"
   },
   {
    "duration": 18,
    "start_time": "2021-06-10T21:12:04.909Z"
   },
   {
    "duration": 32,
    "start_time": "2021-06-10T21:12:04.929Z"
   },
   {
    "duration": 34,
    "start_time": "2021-06-10T21:12:04.967Z"
   },
   {
    "duration": 29,
    "start_time": "2021-06-10T21:12:05.005Z"
   },
   {
    "duration": 19,
    "start_time": "2021-06-10T21:12:05.037Z"
   },
   {
    "duration": 58,
    "start_time": "2021-06-10T21:12:05.059Z"
   },
   {
    "duration": 20,
    "start_time": "2021-06-10T21:12:05.120Z"
   },
   {
    "duration": 188,
    "start_time": "2021-06-10T21:12:05.143Z"
   },
   {
    "duration": 22,
    "start_time": "2021-06-10T21:12:05.333Z"
   },
   {
    "duration": 16,
    "start_time": "2021-06-10T21:12:05.357Z"
   },
   {
    "duration": 47,
    "start_time": "2021-06-10T21:12:05.375Z"
   },
   {
    "duration": 7,
    "start_time": "2021-06-10T21:12:05.425Z"
   },
   {
    "duration": 7,
    "start_time": "2021-06-10T21:12:05.435Z"
   },
   {
    "duration": 9,
    "start_time": "2021-06-10T21:12:05.444Z"
   },
   {
    "duration": 60,
    "start_time": "2021-06-10T21:12:05.456Z"
   },
   {
    "duration": 847,
    "start_time": "2021-06-10T21:12:05.519Z"
   },
   {
    "duration": 45,
    "start_time": "2021-06-10T21:12:06.369Z"
   },
   {
    "duration": 421,
    "start_time": "2021-06-10T21:12:06.417Z"
   },
   {
    "duration": 26,
    "start_time": "2021-06-10T21:12:06.840Z"
   },
   {
    "duration": 397,
    "start_time": "2021-06-10T21:12:06.869Z"
   },
   {
    "duration": 69,
    "start_time": "2021-06-10T21:12:07.269Z"
   },
   {
    "duration": 64,
    "start_time": "2021-06-10T21:12:07.341Z"
   },
   {
    "duration": 544,
    "start_time": "2021-06-10T21:12:07.408Z"
   },
   {
    "duration": 4,
    "start_time": "2021-06-10T21:12:07.955Z"
   },
   {
    "duration": 44,
    "start_time": "2021-06-10T21:12:07.961Z"
   },
   {
    "duration": 19,
    "start_time": "2021-06-10T21:12:08.008Z"
   },
   {
    "duration": 462,
    "start_time": "2021-06-10T21:12:08.029Z"
   },
   {
    "duration": 5,
    "start_time": "2021-06-10T21:12:08.501Z"
   },
   {
    "duration": 8,
    "start_time": "2021-06-10T21:12:08.509Z"
   },
   {
    "duration": 22,
    "start_time": "2021-06-10T21:12:08.519Z"
   },
   {
    "duration": 14,
    "start_time": "2021-06-10T21:12:08.543Z"
   },
   {
    "duration": 43,
    "start_time": "2021-06-10T21:12:08.559Z"
   },
   {
    "duration": 8,
    "start_time": "2021-06-10T21:12:08.604Z"
   },
   {
    "duration": 10,
    "start_time": "2021-06-10T21:12:08.615Z"
   },
   {
    "duration": 8,
    "start_time": "2021-06-10T21:12:08.628Z"
   },
   {
    "duration": 9,
    "start_time": "2021-06-10T21:12:08.638Z"
   },
   {
    "duration": 8,
    "start_time": "2021-06-10T21:12:08.650Z"
   },
   {
    "duration": 75,
    "start_time": "2021-06-10T21:12:08.661Z"
   },
   {
    "duration": 33,
    "start_time": "2021-06-10T21:12:08.739Z"
   },
   {
    "duration": 4,
    "start_time": "2021-06-10T21:12:08.774Z"
   },
   {
    "duration": 4,
    "start_time": "2021-06-10T21:12:08.802Z"
   },
   {
    "duration": 10411,
    "start_time": "2021-06-10T21:12:08.808Z"
   },
   {
    "duration": 4,
    "start_time": "2021-06-10T21:12:19.221Z"
   },
   {
    "duration": 61381,
    "start_time": "2021-06-10T21:12:19.227Z"
   },
   {
    "duration": 9,
    "start_time": "2021-06-10T21:13:20.611Z"
   },
   {
    "duration": 3192,
    "start_time": "2021-06-10T21:13:20.624Z"
   },
   {
    "duration": 278690,
    "start_time": "2021-06-10T21:13:23.821Z"
   },
   {
    "duration": 8351,
    "start_time": "2021-06-10T21:18:02.520Z"
   },
   {
    "duration": 7,
    "start_time": "2021-06-10T21:18:10.874Z"
   },
   {
    "duration": 19,
    "start_time": "2021-06-10T21:18:10.884Z"
   },
   {
    "duration": 9,
    "start_time": "2021-06-10T21:18:10.905Z"
   },
   {
    "duration": 13,
    "start_time": "2021-06-10T21:18:10.916Z"
   },
   {
    "duration": 3269,
    "start_time": "2021-06-11T08:23:14.589Z"
   },
   {
    "duration": 994,
    "start_time": "2021-06-11T08:23:17.861Z"
   },
   {
    "duration": 79,
    "start_time": "2021-06-11T08:23:22.200Z"
   },
   {
    "duration": 40,
    "start_time": "2021-06-11T08:23:22.607Z"
   },
   {
    "duration": 218,
    "start_time": "2021-06-11T08:23:23.438Z"
   },
   {
    "duration": 92,
    "start_time": "2021-06-11T08:23:23.659Z"
   },
   {
    "duration": 86,
    "start_time": "2021-06-11T08:23:23.754Z"
   },
   {
    "duration": 1247,
    "start_time": "2021-06-11T08:23:24.703Z"
   },
   {
    "duration": 98,
    "start_time": "2021-06-11T08:23:25.953Z"
   },
   {
    "duration": 94,
    "start_time": "2021-06-11T08:23:26.053Z"
   },
   {
    "duration": 4,
    "start_time": "2021-06-11T08:23:26.656Z"
   },
   {
    "duration": 45,
    "start_time": "2021-06-11T08:23:27.279Z"
   },
   {
    "duration": 9,
    "start_time": "2021-06-11T08:23:27.621Z"
   },
   {
    "duration": 23,
    "start_time": "2021-06-11T08:23:28.360Z"
   },
   {
    "duration": 32,
    "start_time": "2021-06-11T08:23:28.512Z"
   },
   {
    "duration": 7,
    "start_time": "2021-06-11T08:23:28.871Z"
   },
   {
    "duration": 7,
    "start_time": "2021-06-11T08:23:30.687Z"
   },
   {
    "duration": 17,
    "start_time": "2021-06-11T08:23:58.329Z"
   },
   {
    "duration": 11,
    "start_time": "2021-06-11T08:23:58.523Z"
   },
   {
    "duration": 12,
    "start_time": "2021-06-11T08:23:58.715Z"
   },
   {
    "duration": 9,
    "start_time": "2021-06-11T08:24:02.616Z"
   },
   {
    "duration": 62,
    "start_time": "2021-06-11T08:24:03.666Z"
   },
   {
    "duration": 31,
    "start_time": "2021-06-11T08:24:04.608Z"
   },
   {
    "duration": 27,
    "start_time": "2021-06-11T08:24:05.343Z"
   },
   {
    "duration": 21,
    "start_time": "2021-06-11T08:24:14.822Z"
   },
   {
    "duration": 75,
    "start_time": "2021-06-11T08:24:19.152Z"
   },
   {
    "duration": 18,
    "start_time": "2021-06-11T08:44:03.990Z"
   },
   {
    "duration": 181,
    "start_time": "2021-06-11T08:44:04.915Z"
   },
   {
    "duration": 26,
    "start_time": "2021-06-11T08:44:06.236Z"
   },
   {
    "duration": 17,
    "start_time": "2021-06-11T08:44:06.747Z"
   },
   {
    "duration": 24,
    "start_time": "2021-06-11T08:44:07.575Z"
   },
   {
    "duration": 8,
    "start_time": "2021-06-11T08:44:12.646Z"
   },
   {
    "duration": 5,
    "start_time": "2021-06-11T08:44:13.211Z"
   },
   {
    "duration": 5,
    "start_time": "2021-06-11T08:44:15.190Z"
   },
   {
    "duration": 24,
    "start_time": "2021-06-11T08:45:00.552Z"
   },
   {
    "duration": 895,
    "start_time": "2021-06-11T08:45:01.515Z"
   },
   {
    "duration": 32,
    "start_time": "2021-06-11T08:46:21.828Z"
   },
   {
    "duration": 564,
    "start_time": "2021-06-11T08:46:23.179Z"
   },
   {
    "duration": 31,
    "start_time": "2021-06-11T08:46:32.708Z"
   },
   {
    "duration": 379,
    "start_time": "2021-06-11T08:46:32.892Z"
   },
   {
    "duration": 55,
    "start_time": "2021-06-11T08:47:34.146Z"
   },
   {
    "duration": 46,
    "start_time": "2021-06-11T08:47:34.767Z"
   },
   {
    "duration": 536,
    "start_time": "2021-06-11T08:47:35.414Z"
   },
   {
    "duration": 3,
    "start_time": "2021-06-11T08:47:36.445Z"
   },
   {
    "duration": 19,
    "start_time": "2021-06-11T08:47:36.693Z"
   },
   {
    "duration": 20,
    "start_time": "2021-06-11T08:47:38.076Z"
   },
   {
    "duration": 465,
    "start_time": "2021-06-11T08:47:39.261Z"
   },
   {
    "duration": 6,
    "start_time": "2021-06-11T08:47:42.005Z"
   },
   {
    "duration": 5,
    "start_time": "2021-06-11T08:47:42.209Z"
   },
   {
    "duration": 20,
    "start_time": "2021-06-11T08:47:42.473Z"
   },
   {
    "duration": 13,
    "start_time": "2021-06-11T08:47:42.906Z"
   },
   {
    "duration": 4,
    "start_time": "2021-06-11T08:48:03.372Z"
   },
   {
    "duration": 3,
    "start_time": "2021-06-11T08:48:05.373Z"
   },
   {
    "duration": 8,
    "start_time": "2021-06-11T08:48:20.446Z"
   },
   {
    "duration": 6,
    "start_time": "2021-06-11T08:48:21.046Z"
   },
   {
    "duration": 6,
    "start_time": "2021-06-11T08:48:21.259Z"
   },
   {
    "duration": 6,
    "start_time": "2021-06-11T08:48:21.883Z"
   },
   {
    "duration": 46,
    "start_time": "2021-06-11T08:48:23.300Z"
   },
   {
    "duration": 32,
    "start_time": "2021-06-11T08:48:23.977Z"
   },
   {
    "duration": 4,
    "start_time": "2021-06-11T08:48:26.236Z"
   },
   {
    "duration": 4,
    "start_time": "2021-06-11T08:48:27.932Z"
   },
   {
    "duration": 11375,
    "start_time": "2021-06-11T08:48:38.692Z"
   }
  ],
  "kernelspec": {
   "display_name": "Python 3",
   "language": "python",
   "name": "python3"
  },
  "language_info": {
   "codemirror_mode": {
    "name": "ipython",
    "version": 3
   },
   "file_extension": ".py",
   "mimetype": "text/x-python",
   "name": "python",
   "nbconvert_exporter": "python",
   "pygments_lexer": "ipython3",
   "version": "3.8.5"
  },
  "toc": {
   "base_numbering": 1,
   "nav_menu": {},
   "number_sections": true,
   "sideBar": true,
   "skip_h1_title": true,
   "title_cell": "Содержание",
   "title_sidebar": "Contents",
   "toc_cell": true,
   "toc_position": {},
   "toc_section_display": true,
   "toc_window_display": false
  }
 },
 "nbformat": 4,
 "nbformat_minor": 2
}
